{
  "nbformat": 4,
  "nbformat_minor": 0,
  "metadata": {
    "colab": {
      "name": "Buscar_mensajes.ipynb",
      "provenance": [],
      "collapsed_sections": []
    },
    "kernelspec": {
      "name": "python3",
      "display_name": "Python 3"
    },
    "language_info": {
      "name": "python"
    }
  },
  "cells": [
    {
      "cell_type": "code",
      "execution_count": null,
      "metadata": {
        "id": "wyx2VFqWHTe7",
        "colab": {
          "base_uri": "https://localhost:8080/"
        },
        "outputId": "c67ed414-4398-4a86-a86a-ee4b7ce28a54"
      },
      "outputs": [
        {
          "output_type": "stream",
          "name": "stdout",
          "text": [
            "Requirement already satisfied: requests in /usr/local/lib/python3.7/dist-packages (2.23.0)\n",
            "Requirement already satisfied: chardet<4,>=3.0.2 in /usr/local/lib/python3.7/dist-packages (from requests) (3.0.4)\n",
            "Requirement already satisfied: idna<3,>=2.5 in /usr/local/lib/python3.7/dist-packages (from requests) (2.10)\n",
            "Requirement already satisfied: certifi>=2017.4.17 in /usr/local/lib/python3.7/dist-packages (from requests) (2021.10.8)\n",
            "Requirement already satisfied: urllib3!=1.25.0,!=1.25.1,<1.26,>=1.21.1 in /usr/local/lib/python3.7/dist-packages (from requests) (1.24.3)\n"
          ]
        }
      ],
      "source": [
        "pip install requests"
      ]
    },
    {
      "cell_type": "markdown",
      "source": [
        "**This program:**\n",
        "1. Asks the user for their access token or to use the hard-coded access token\n",
        "2. Displays a list of the user's Webex Teams rooms\n",
        "3. Asks the user to choose one of their rooms\n",
        "4. Asks the user to enter text of a message(s) for that room\n",
        "5. Displays all the messages in that room that contains that text\n",
        "\n",
        "**The student will:**\n",
        "1. Provide the code to prompt the user for their access token else use the hard-coded access token\n",
        "2. Enter the Webex Teams room API endpoint (URL)\n",
        "3. Add the following information regarding for each message:\n",
        "- From (email) \n",
        "- Date/time message was created\n",
        "4. Add a message counter to:\n",
        "- If messages were found, display the number of messages found using this criteria\n",
        "- Else display a message stating no messages were found using this criteria.\n",
        "5. Display a message that verifies the room and text searched.\n",
        "\n"
      ],
      "metadata": {
        "id": "pRUUdYsUMBtg"
      }
    },
    {
      "cell_type": "markdown",
      "source": [
        "Import libraries"
      ],
      "metadata": {
        "id": "4bsHnmd5ibRZ"
      }
    },
    {
      "cell_type": "code",
      "source": [
        "# import requests library\n",
        "import requests\n",
        "\n",
        "#import json library\n",
        "import json\n",
        "\n",
        "#import time library\n",
        "import time"
      ],
      "metadata": {
        "id": "U1vfPR3KMD8D"
      },
      "execution_count": 4,
      "outputs": []
    },
    {
      "cell_type": "markdown",
      "source": [
        "Ask the user to use either the hard-coded token (access token within the code) or for the user to input their access token.\n",
        "\n",
        "Assign the hard-coded or user entered access token to the variable accessToken.\n",
        "\n"
      ],
      "metadata": {
        "id": "9ovRDBoFMTJe"
      }
    },
    {
      "cell_type": "markdown",
      "source": [
        "\n",
        "**Exercise 1.**\n",
        "Following this comment and using the access Token variable below, modify the code to ask the user to use either hard-coded or user-entered access token.\n",
        "\n",
        "\n"
      ],
      "metadata": {
        "id": "MAmqW9a1MZyQ"
      }
    },
    {
      "cell_type": "code",
      "source": [
        "choice = input(\"Do you wish to use the hard coded token? (y/n)\")\n",
        "if choice == \"N\" or choice == \"n\":\n",
        "  accessToken = input(\"Enter your access token: \")\n",
        "  accessToken = \"Bearer \" + accessToken\n",
        "else:\n",
        "  accessToken = \"Bearer NTkyOWRmNWMtMWEyMy00Y2VmLTg1NDctMTM3OTQ5ZGI0MTVkYjU3MmZlMzQtZDI0_PE93_d18234f8-808f-47c0-86d0-8c22f2a047f0\""
      ],
      "metadata": {
        "id": "hTXYx4CZMWQH",
        "colab": {
          "base_uri": "https://localhost:8080/"
        },
        "outputId": "4300c01c-6d4a-4202-9ef6-650b0a3378d6"
      },
      "execution_count": 2,
      "outputs": [
        {
          "name": "stdout",
          "output_type": "stream",
          "text": [
            "Do you wish to use the hard coded token? (y/n)y\n"
          ]
        }
      ]
    },
    {
      "cell_type": "markdown",
      "source": [
        "Using the requests library, create a new HTTP GET Request against the Webex Teams API Endpoint for Webex Teams Rooms: the local object \"r\" will hold the returned data.\n",
        "\n",
        "\n",
        "**Exercise 2.** Modify the code below to use the Webex Teams room API endpoint (URL)"
      ],
      "metadata": {
        "id": "cQo8m46BMi7h"
      }
    },
    {
      "cell_type": "code",
      "source": [
        "resp = requests.get(  \"https://webexapis.com/v1/rooms\",\n",
        "                    headers = {\"Authorization\": accessToken}\n",
        "                )"
      ],
      "metadata": {
        "id": "0dcdIffrMlOt"
      },
      "execution_count": 5,
      "outputs": []
    },
    {
      "cell_type": "markdown",
      "source": [
        "Check if the response from the API call was OK (resp. code 200)"
      ],
      "metadata": {
        "id": "opg5i5HAjTwW"
      }
    },
    {
      "cell_type": "code",
      "source": [
        "if not resp.status_code == 200:\n",
        "    raise Exception(\"Incorrect reply from Webex Teams API. Status code: {}. Text: {}\".format(resp.status_code, resp.text))"
      ],
      "metadata": {
        "id": "MfHKhwGBjQ82"
      },
      "execution_count": 6,
      "outputs": []
    },
    {
      "cell_type": "markdown",
      "source": [
        "JSON data for Webex Teams Rooms"
      ],
      "metadata": {
        "id": "3tvyPSuJjeQH"
      }
    },
    {
      "cell_type": "code",
      "source": [
        "jsonData = resp.json()\n",
        "\n",
        "print(\n",
        "    json.dumps(\n",
        "        jsonData,\n",
        "        indent=4\n",
        "    )\n",
        ")"
      ],
      "metadata": {
        "id": "8zL4Q0PejhW6",
        "colab": {
          "base_uri": "https://localhost:8080/"
        },
        "outputId": "d066b1b7-f552-4afb-b289-0257d1e423c6"
      },
      "execution_count": 7,
      "outputs": [
        {
          "output_type": "stream",
          "name": "stdout",
          "text": [
            "{\n",
            "    \"items\": [\n",
            "        {\n",
            "            \"id\": \"Y2lzY29zcGFyazovL3VybjpURUFNOmV1LWNlbnRyYWwtMV9rL1JPT00vMDhjZjM2ZTAtYzI1MS0xMWVjLTkyOGYtMTk4MTMyOTMwYWFi\",\n",
            "            \"title\": \"Prueba con Rafa?\",\n",
            "            \"type\": \"group\",\n",
            "            \"isLocked\": true,\n",
            "            \"lastActivity\": \"2022-04-22T15:33:46.006Z\",\n",
            "            \"creatorId\": \"Y2lzY29zcGFyazovL3VzL1BFT1BMRS8xYmMyNDFhNi0zN2EyLTQ1N2MtYjNlZi01ZWVhYTk3MjcyNjc\",\n",
            "            \"created\": \"2022-04-22T15:29:43.758Z\",\n",
            "            \"ownerId\": \"Y2lzY29zcGFyazovL3VzL09SR0FOSVpBVElPTi9kMTgyMzRmOC04MDhmLTQ3YzAtODZkMC04YzIyZjJhMDQ3ZjA\"\n",
            "        },\n",
            "        {\n",
            "            \"id\": \"Y2lzY29zcGFyazovL3VybjpURUFNOmV1LWNlbnRyYWwtMV9rL1JPT00vY2I0MTZiZjAtYzI0Zi0xMWVjLThmZmMtNWQyMmJlNDIyOTUx\",\n",
            "            \"title\": \"CCNA3_IZRA\",\n",
            "            \"type\": \"group\",\n",
            "            \"isLocked\": false,\n",
            "            \"lastActivity\": \"2022-04-22T15:51:06.814Z\",\n",
            "            \"creatorId\": \"Y2lzY29zcGFyazovL3VzL1BFT1BMRS9kOGQ0MDI3MC1jYjljLTQwMTMtYjY3MS05YWM5MzNiMGQyZDg\",\n",
            "            \"created\": \"2022-04-22T15:20:50.991Z\",\n",
            "            \"ownerId\": \"Y2lzY29zcGFyazovL3VzL09SR0FOSVpBVElPTi8yMDUxOTVlMy02MmU0LTQ4ZmMtODQwYi1jZGI2MTE3MzE1YjQ\"\n",
            "        },\n",
            "        {\n",
            "            \"id\": \"Y2lzY29zcGFyazovL3VybjpURUFNOmV1LWNlbnRyYWwtMV9rL1JPT00vY2E1MjAyZTAtYzI0Zi0xMWVjLThmZmMtNWQyMmJlNDIyOTUx\",\n",
            "            \"title\": \"CNNA3\",\n",
            "            \"type\": \"group\",\n",
            "            \"isLocked\": false,\n",
            "            \"lastActivity\": \"2022-04-22T15:22:14.493Z\",\n",
            "            \"creatorId\": \"Y2lzY29zcGFyazovL3VzL1BFT1BMRS9jOTIyZTNmOC04ZGVkLTRlNmUtYTVhNC0xNDlmNWQ4ZDM0ZGU\",\n",
            "            \"created\": \"2022-04-22T15:20:49.422Z\",\n",
            "            \"ownerId\": \"Y2lzY29zcGFyazovL3VzL09SR0FOSVpBVElPTi8zM2Q2OWY3NC1hOWM5LTQxYmUtODBiYS03ZmJjYTVjYmVkYzg\"\n",
            "        },\n",
            "        {\n",
            "            \"id\": \"Y2lzY29zcGFyazovL3VybjpURUFNOmV1LWNlbnRyYWwtMV9rL1JPT00vYzk5MTRhZjAtYzI0Zi0xMWVjLTgyMzItOTdhY2ZlY2ZlYTFk\",\n",
            "            \"title\": \"TekeTeka\",\n",
            "            \"type\": \"group\",\n",
            "            \"isLocked\": false,\n",
            "            \"lastActivity\": \"2022-04-22T15:31:56.644Z\",\n",
            "            \"creatorId\": \"Y2lzY29zcGFyazovL3VzL1BFT1BMRS8xZjA0ZDUyNi1mYTc0LTQ2NWEtYjAzMC02YWJhYjU2ZGFjNWU\",\n",
            "            \"created\": \"2022-04-22T15:20:48.159Z\",\n",
            "            \"ownerId\": \"Y2lzY29zcGFyazovL3VzL09SR0FOSVpBVElPTi8yMDUxOTVlMy02MmU0LTQ4ZmMtODQwYi1jZGI2MTE3MzE1YjQ\"\n",
            "        },\n",
            "        {\n",
            "            \"id\": \"Y2lzY29zcGFyazovL3VybjpURUFNOmV1LWNlbnRyYWwtMV9rL1JPT00vYzY3ZmM1MzAtYzI0Zi0xMWVjLTliNDMtMjdiMWIxYjg1ZTY3\",\n",
            "            \"title\": \"Sala Prueba\",\n",
            "            \"type\": \"group\",\n",
            "            \"isLocked\": false,\n",
            "            \"lastActivity\": \"2022-04-22T15:22:08.851Z\",\n",
            "            \"creatorId\": \"Y2lzY29zcGFyazovL3VzL1BFT1BMRS8xYmMyNDFhNi0zN2EyLTQ1N2MtYjNlZi01ZWVhYTk3MjcyNjc\",\n",
            "            \"created\": \"2022-04-22T15:20:43.011Z\",\n",
            "            \"ownerId\": \"Y2lzY29zcGFyazovL3VzL09SR0FOSVpBVElPTi9kMTgyMzRmOC04MDhmLTQ3YzAtODZkMC04YzIyZjJhMDQ3ZjA\"\n",
            "        },\n",
            "        {\n",
            "            \"id\": \"Y2lzY29zcGFyazovL3VybjpURUFNOmV1LWNlbnRyYWwtMV9rL1JPT00vODUxNmVkODAtYzI0Zi0xMWVjLWIxNjItMDM0NDUwOGJlODQx\",\n",
            "            \"title\": \"Antonio Llamas Garc\\u00eda\",\n",
            "            \"type\": \"direct\",\n",
            "            \"isLocked\": false,\n",
            "            \"lastActivity\": \"2022-04-22T15:18:53.272Z\",\n",
            "            \"creatorId\": \"Y2lzY29zcGFyazovL3VzL1BFT1BMRS8xZjA0ZDUyNi1mYTc0LTQ2NWEtYjAzMC02YWJhYjU2ZGFjNWU\",\n",
            "            \"created\": \"2022-04-22T15:18:53.272Z\"\n",
            "        },\n",
            "        {\n",
            "            \"id\": \"Y2lzY29zcGFyazovL3VybjpURUFNOmV1LWNlbnRyYWwtMV9rL1JPT00vNmIxOTA3MTAtYzI0Zi0xMWVjLWI5YWMtM2I1ZGRjODE4YWI5\",\n",
            "            \"title\": \"Valent\\u00edn\",\n",
            "            \"type\": \"direct\",\n",
            "            \"isLocked\": false,\n",
            "            \"lastActivity\": \"2022-04-22T15:18:09.665Z\",\n",
            "            \"creatorId\": \"Y2lzY29zcGFyazovL3VzL1BFT1BMRS8xYmMyNDFhNi0zN2EyLTQ1N2MtYjNlZi01ZWVhYTk3MjcyNjc\",\n",
            "            \"created\": \"2022-04-22T15:18:09.665Z\",\n",
            "            \"ownerId\": \"Y2lzY29zcGFyazovL3VzL09SR0FOSVpBVElPTi9kMTgyMzRmOC04MDhmLTQ3YzAtODZkMC04YzIyZjJhMDQ3ZjA\"\n",
            "        },\n",
            "        {\n",
            "            \"id\": \"Y2lzY29zcGFyazovL3VybjpURUFNOmV1LWNlbnRyYWwtMV9rL1JPT00vNDdlMjQ5YTAtYzI0Zi0xMWVjLWIwNDAtOWQ3ZTMyNDI4ODFm\",\n",
            "            \"title\": \"Espacio de bienvenida\",\n",
            "            \"type\": \"group\",\n",
            "            \"isLocked\": false,\n",
            "            \"lastActivity\": \"2022-04-22T15:17:12.318Z\",\n",
            "            \"creatorId\": \"Y2lzY29zcGFyazovL3VzL1BFT1BMRS8xYmMyNDFhNi0zN2EyLTQ1N2MtYjNlZi01ZWVhYTk3MjcyNjc\",\n",
            "            \"created\": \"2022-04-22T15:17:10.586Z\",\n",
            "            \"ownerId\": \"Y2lzY29zcGFyazovL3VzL09SR0FOSVpBVElPTi9kMTgyMzRmOC04MDhmLTQ3YzAtODZkMC04YzIyZjJhMDQ3ZjA\"\n",
            "        },\n",
            "        {\n",
            "            \"id\": \"Y2lzY29zcGFyazovL3VybjpURUFNOmV1LWNlbnRyYWwtMV9rL1JPT00vNDdlMTVmNDAtYzI0Zi0xMWVjLWFjNDQtZTk1MGE1NDNkNmMx\",\n",
            "            \"title\": \"Jos\\u00e9 Manuel Izquierdo Ram\\u00edrez\",\n",
            "            \"type\": \"direct\",\n",
            "            \"isLocked\": false,\n",
            "            \"lastActivity\": \"2022-04-22T15:18:21.209Z\",\n",
            "            \"creatorId\": \"Y2lzY29zcGFyazovL3VzL1BFT1BMRS9kOGQ0MDI3MC1jYjljLTQwMTMtYjY3MS05YWM5MzNiMGQyZDg\",\n",
            "            \"created\": \"2022-04-22T15:17:10.580Z\"\n",
            "        },\n",
            "        {\n",
            "            \"id\": \"Y2lzY29zcGFyazovL3VybjpURUFNOmV1LWNlbnRyYWwtMV9rL1JPT00vMzcyYjQzZjAtYzI0Zi0xMWVjLWI5YWMtM2I1ZGRjODE4YWI5\",\n",
            "            \"title\": \"Rafael Hormigo\",\n",
            "            \"type\": \"direct\",\n",
            "            \"isLocked\": false,\n",
            "            \"lastActivity\": \"2022-04-22T15:16:55.599Z\",\n",
            "            \"creatorId\": \"Y2lzY29zcGFyazovL3VzL1BFT1BMRS9jOTIyZTNmOC04ZGVkLTRlNmUtYTVhNC0xNDlmNWQ4ZDM0ZGU\",\n",
            "            \"created\": \"2022-04-22T15:16:42.543Z\"\n",
            "        }\n",
            "    ]\n",
            "}\n"
          ]
        }
      ]
    },
    {
      "cell_type": "markdown",
      "source": [
        "Displays a list of rooms.\n",
        "\n",
        "If you want to see additional key/value pairs such as roomID:\n",
        "print (\"Room name: '\" + room[\"title\"] + \"' room ID: \" + room[\"id\"])"
      ],
      "metadata": {
        "id": "Fg9jB4y5lUNO"
      }
    },
    {
      "cell_type": "code",
      "source": [
        "print(\"List of rooms:\")\n",
        "rooms = resp.json()[\"items\"]\n",
        "for room in rooms:\n",
        "    print (room[\"title\"])"
      ],
      "metadata": {
        "id": "HueZAmyQlbAV",
        "colab": {
          "base_uri": "https://localhost:8080/"
        },
        "outputId": "53d72e6e-470c-44a9-9ff6-d4ec153ee370"
      },
      "execution_count": 8,
      "outputs": [
        {
          "output_type": "stream",
          "name": "stdout",
          "text": [
            "List of rooms:\n",
            "Prueba con Rafa?\n",
            "CCNA3_IZRA\n",
            "CNNA3\n",
            "TekeTeka\n",
            "Sala Prueba\n",
            "Antonio Llamas García\n",
            "Valentín\n",
            "Espacio de bienvenida\n",
            "José Manuel Izquierdo Ramírez\n",
            "Rafael Hormigo\n"
          ]
        }
      ]
    },
    {
      "cell_type": "markdown",
      "source": [
        "Searches for name of the room and displays the room"
      ],
      "metadata": {
        "id": "Ail747eelbmR"
      }
    },
    {
      "cell_type": "code",
      "source": [
        "while True:\n",
        "    # Input the name of the room to be searched \n",
        "    roomNameToSearch = input(\"Which room are you looking for? (Can use partial name of the room.) \")\n",
        "\n",
        "    # Defines a variable that will hold the roomId \n",
        "    roomIdToGetMessages = None\n",
        "    \n",
        "    for room in rooms:\n",
        "        # Searches for the room \"title\" using the variable roomNameToSearch \n",
        "        if(room[\"title\"].find(roomNameToSearch) != -1):\n",
        "\n",
        "            # Displays the rooms found using the variable roomNameToSearch (additional options included)\n",
        "            print (\"Found rooms with the word \" + roomNameToSearch)\n",
        "            print(room[\"title\"])\n",
        "\n",
        "            # Stores room id and room title into variables\n",
        "            roomIdToGetMessages = room[\"id\"]\n",
        "            roomTitleToGetMessages = room[\"title\"]\n",
        "            print(\"Found room : \" + roomTitleToGetMessages)\n",
        "            break\n",
        "\n",
        "    if(roomIdToGetMessages == None):\n",
        "        print(\"Sorry, I didn't find any room with \" + roomNameToSearch + \" in it.\")\n",
        "        print(\"Please try again...\")\n",
        "    else:\n",
        "        break\n"
      ],
      "metadata": {
        "id": "SDez6xoTldGj",
        "colab": {
          "base_uri": "https://localhost:8080/"
        },
        "outputId": "93dd6e65-0350-4df0-c723-45b1ae6d2b7d"
      },
      "execution_count": 9,
      "outputs": [
        {
          "output_type": "stream",
          "name": "stdout",
          "text": [
            "Which room are you looking for? (Can use partial name of the room.) Prueba con Rafa?\n",
            "Found rooms with the word Prueba con Rafa?\n",
            "Prueba con Rafa?\n",
            "Found room : Prueba con Rafa?\n"
          ]
        }
      ]
    },
    {
      "cell_type": "markdown",
      "source": [
        "Define the mandatory or optional GET parameters for the `messages` API endpoint max is the number of messages to be displayed"
      ],
      "metadata": {
        "id": "jJiD7Q9Xlf6L"
      }
    },
    {
      "cell_type": "code",
      "source": [
        "getMessagesUrlParameters = {\n",
        "            # mandatory parameter - the room ID\n",
        "            \"roomId\": roomIdToGetMessages,\n",
        "            # optional parameter - number of the last messages to return\n",
        "            \"max\": 50\n",
        "}"
      ],
      "metadata": {
        "id": "vZ7YbYbOljvK"
      },
      "execution_count": 10,
      "outputs": []
    },
    {
      "cell_type": "markdown",
      "source": [
        "Using the requests library, create a new HTTP GET Request against the Webex Teams API Endpoint for Webex Teams Messages. The local object \"r\" will hold the returned data.\n"
      ],
      "metadata": {
        "id": "9YlhXflkllSf"
      }
    },
    {
      "cell_type": "code",
      "source": [
        "resp = requests.get(   \"https://api.ciscospark.com/v1/messages\",\n",
        "                    params = getMessagesUrlParameters,\n",
        "                    headers = {\"Authorization\": accessToken}\n",
        "                )\n",
        "\n",
        "if not resp.status_code == 200:\n",
        "    raise Exception(\"Incorrect reply from Webex Teams API. Status code: {}. Text: {}\".format(resp.status_code, resp.text))"
      ],
      "metadata": {
        "id": "0HczrFzbln0Q"
      },
      "execution_count": 11,
      "outputs": []
    },
    {
      "cell_type": "markdown",
      "source": [
        "Data is converted to JSON format and held in jsonData"
      ],
      "metadata": {
        "id": "b7uBcvDzlppQ"
      }
    },
    {
      "cell_type": "code",
      "source": [
        "jsonData = resp.json()"
      ],
      "metadata": {
        "id": "DJEdNololriM"
      },
      "execution_count": 12,
      "outputs": []
    },
    {
      "cell_type": "markdown",
      "source": [
        "To see what is in the JSON data"
      ],
      "metadata": {
        "id": "w6nOF5otlvSZ"
      }
    },
    {
      "cell_type": "code",
      "source": [
        "print(\n",
        "    json.dumps(\n",
        "        jsonData,\n",
        "        indent=4\n",
        "    )\n",
        ")"
      ],
      "metadata": {
        "id": "cJZVxNWIlxU7",
        "colab": {
          "base_uri": "https://localhost:8080/"
        },
        "outputId": "002e97a7-8675-4bf8-91d7-1bbd1b1d63a4"
      },
      "execution_count": 13,
      "outputs": [
        {
          "output_type": "stream",
          "name": "stdout",
          "text": [
            "{\n",
            "    \"items\": [\n",
            "        {\n",
            "            \"id\": \"Y2lzY29zcGFyazovL3VybjpURUFNOmV1LWNlbnRyYWwtMV9rL01FU1NBR0UvOTkzMzUzNjAtYzI1MS0xMWVjLWI5YWMtM2I1ZGRjODE4YWI5\",\n",
            "            \"roomId\": \"Y2lzY29zcGFyazovL3VybjpURUFNOmV1LWNlbnRyYWwtMV9rL1JPT00vMDhjZjM2ZTAtYzI1MS0xMWVjLTkyOGYtMTk4MTMyOTMwYWFi\",\n",
            "            \"roomType\": \"group\",\n",
            "            \"text\": \"xd\",\n",
            "            \"personId\": \"Y2lzY29zcGFyazovL3VzL1BFT1BMRS9jOTIyZTNmOC04ZGVkLTRlNmUtYTVhNC0xNDlmNWQ4ZDM0ZGU\",\n",
            "            \"personEmail\": \"i72hocar@uco.es\",\n",
            "            \"created\": \"2022-04-22T15:33:46.006Z\"\n",
            "        }\n",
            "    ]\n",
            "}\n"
          ]
        }
      ]
    },
    {
      "cell_type": "markdown",
      "source": [
        "Add a message counter and initialize the variable to 0\n",
        "- If messages were found, display the number of messages found using this criteria\n",
        "- Else display a message stating no messages were found using these criteria.\n",
        "\n",
        "Search for message text and display:\n",
        "- Message text\n",
        "\n",
        "Add the following information regarding for each message:\n",
        "- From (email) \n",
        "- Date/time message created"
      ],
      "metadata": {
        "id": "gL4_tVAflz-d"
      }
    },
    {
      "cell_type": "code",
      "source": [
        "messages = jsonData[\"items\"]\n",
        "messageText = input(\"What text are you searching for? \")\n",
        "# Exercise 3a: Following this comment, create a variable for a message counter\n",
        "# and initialize it to 0.\n",
        "counter = 0;\n",
        "\n",
        "for message in messages:\n",
        "    if message[\"text\"].find(messageText) != -1:\n",
        "        # Exercise 3b: Following this comment, increment message counter variable by 1\n",
        "        counter = counter + 1\n",
        "        \n",
        "        messageId = message[\"id\"]\n",
        "        print(\"Found a message with: \" + messageText)\n",
        "        print(\"Message: \" + message[\"text\"])\n",
        "        # Exercise #4: Following this comment, display email address of the message \n",
        "        # creator and the date/time the message was created\n",
        "        print(message[\"personEmail\"])\n",
        "        print(message[\"created\"])\n",
        "  "
      ],
      "metadata": {
        "id": "ftLtZwe6l7uo",
        "colab": {
          "base_uri": "https://localhost:8080/"
        },
        "outputId": "9a476341-db78-4ea1-aabb-727da104de1e"
      },
      "execution_count": 23,
      "outputs": [
        {
          "output_type": "stream",
          "name": "stdout",
          "text": [
            "What text are you searching for? xd\n",
            "Found a message with: xd\n",
            "Message: xd\n",
            "i72hocar@uco.es\n",
            "2022-04-22T15:33:46.006Z\n"
          ]
        }
      ]
    },
    {
      "cell_type": "markdown",
      "source": [
        "**Exercise 5**:\n",
        "Following these comments: \n",
        "Add if-else statements to display message counter information\n",
        "- If no messages were found using this criteria (if messageCounter is 0) display a message that informs the uses of this\n",
        "- Else display a message with the number of messages found (messageCounter) using this criteria\n"
      ],
      "metadata": {
        "id": "Of00xkd7Cybr"
      }
    },
    {
      "cell_type": "code",
      "source": [
        "if(counter == 0):\n",
        "  print(\"Not found a message with \" + messageText)\n",
        "else:\n",
        "  print(counter , \"Number of messages found\")\n",
        "print(\"Thank you for using this program and think API + Python!\")\n"
      ],
      "metadata": {
        "id": "Mt15k5j6CzA1",
        "colab": {
          "base_uri": "https://localhost:8080/"
        },
        "outputId": "0fdd1845-ab85-4abd-8464-61be4ceaeb85"
      },
      "execution_count": 24,
      "outputs": [
        {
          "output_type": "stream",
          "name": "stdout",
          "text": [
            "1 Number of messages found\n",
            "Thank you for using this program and think API + Python!\n"
          ]
        }
      ]
    }
  ]
}