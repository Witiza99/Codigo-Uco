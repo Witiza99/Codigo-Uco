{
  "nbformat": 4,
  "nbformat_minor": 0,
  "metadata": {
    "colab": {
      "name": "Listar_salas.ipynb",
      "provenance": [],
      "collapsed_sections": []
    },
    "kernelspec": {
      "name": "python3",
      "display_name": "Python 3"
    },
    "language_info": {
      "name": "python"
    }
  },
  "cells": [
    {
      "cell_type": "code",
      "execution_count": null,
      "metadata": {
        "id": "wyx2VFqWHTe7",
        "outputId": "1dce491e-e4e0-4556-a334-3ec3bdcf5ae9",
        "colab": {
          "base_uri": "https://localhost:8080/"
        }
      },
      "outputs": [
        {
          "output_type": "stream",
          "name": "stdout",
          "text": [
            "Requirement already satisfied: requests in /usr/local/lib/python3.7/dist-packages (2.23.0)\n",
            "Requirement already satisfied: chardet<4,>=3.0.2 in /usr/local/lib/python3.7/dist-packages (from requests) (3.0.4)\n",
            "Requirement already satisfied: certifi>=2017.4.17 in /usr/local/lib/python3.7/dist-packages (from requests) (2021.10.8)\n",
            "Requirement already satisfied: urllib3!=1.25.0,!=1.25.1,<1.26,>=1.21.1 in /usr/local/lib/python3.7/dist-packages (from requests) (1.24.3)\n",
            "Requirement already satisfied: idna<3,>=2.5 in /usr/local/lib/python3.7/dist-packages (from requests) (2.10)\n"
          ]
        }
      ],
      "source": [
        "pip install requests"
      ]
    },
    {
      "cell_type": "markdown",
      "source": [
        " This program:\n",
        " 1. Asks the user for their access token or to use the hard coded access token\n",
        " 2. Provides the information for a list of Webex Teams rooms using the JSON format\n",
        "\n",
        "\n",
        "The student will:\n",
        "1. Provide the code to prompt the user for their access token else\n",
        "    use the hard coded access token\n",
        "2. Enter the Webex Teams room API endpoint (URL)\n"
      ],
      "metadata": {
        "id": "pRUUdYsUMBtg"
      }
    },
    {
      "cell_type": "markdown",
      "source": [
        "Step 1. Import **libraries**"
      ],
      "metadata": {
        "id": "4bsHnmd5ibRZ"
      }
    },
    {
      "cell_type": "code",
      "source": [
        "# import requests library\n",
        "import requests\n",
        "\n",
        "#import json library\n",
        "import json"
      ],
      "metadata": {
        "id": "U1vfPR3KMD8D"
      },
      "execution_count": null,
      "outputs": []
    },
    {
      "cell_type": "markdown",
      "source": [
        "Ask the user to use either the hard coded token (access token within the code) or for the user to input their access token.\n",
        "Assign the hard coded or user entered access token to the variable accessToken.\n"
      ],
      "metadata": {
        "id": "9ovRDBoFMTJe"
      }
    },
    {
      "cell_type": "markdown",
      "source": [
        "\n",
        "**Exercise 1.**\n",
        "Following this comment and using the accessToken variable below, modify the code to ask the user to use either hard-coded or user-entered access token.\n",
        "\n",
        "\n"
      ],
      "metadata": {
        "id": "MAmqW9a1MZyQ"
      }
    },
    {
      "cell_type": "code",
      "source": [
        "choice = input(\"Do you wish to use the hard coded token? (y/n)\")\n",
        "if choice == \"N\" or choice == \"n\":\n",
        "  accessToken = input(\"Enter your access token: \")\n",
        "  accessToken = \"Bearer \" + accessToken\n",
        "else:\n",
        "  accessToken = \"Bearer NTkyOWRmNWMtMWEyMy00Y2VmLTg1NDctMTM3OTQ5ZGI0MTVkYjU3MmZlMzQtZDI0_PE93_d18234f8-808f-47c0-86d0-8c22f2a047f0\""
      ],
      "metadata": {
        "id": "hTXYx4CZMWQH",
        "colab": {
          "base_uri": "https://localhost:8080/"
        },
        "outputId": "caa63ac7-8fb8-43fc-c965-7805adf1880e"
      },
      "execution_count": 5,
      "outputs": [
        {
          "name": "stdout",
          "output_type": "stream",
          "text": [
            "Do you wish to use the hard coded token? (y/n)n\n",
            "Enter your access token: NTkyOWRmNWMtMWEyMy00Y2VmLTg1NDctMTM3OTQ5ZGI0MTVkYjU3MmZlMzQtZDI0_PE93_d18234f8-808f-47c0-86d0-8c22f2a047f0\n"
          ]
        }
      ]
    },
    {
      "cell_type": "markdown",
      "source": [
        "Build request components, URI and header with bearer token.\n",
        "\n",
        "**Exercise 2.** Following this comment, modify the code below to use the Webex Teams room API endpoint (URL)"
      ],
      "metadata": {
        "id": "cQo8m46BMi7h"
      }
    },
    {
      "cell_type": "code",
      "source": [
        "apiUri = \"https://webexapis.com/v1/rooms\"\n",
        "\n"
      ],
      "metadata": {
        "id": "0dcdIffrMlOt"
      },
      "execution_count": 6,
      "outputs": []
    },
    {
      "cell_type": "markdown",
      "source": [
        "Make request and convert response JSON to Python object"
      ],
      "metadata": {
        "id": "opg5i5HAjTwW"
      }
    },
    {
      "cell_type": "code",
      "source": [
        "# Make request and store result in resp \n",
        "resp = requests.get( apiUri, \n",
        "                     headers = {\"Authorization\":accessToken}\n",
        "                   ) \n",
        "# Check if the API request executed correctly with the HTTP status code == 200\n",
        "if not resp.status_code == 200:\n",
        "    raise Exception(\"Incorrect reply from Webex Teams API. Status code: {}. Text: {}\".format(resp.status_code, resp.text))\n",
        "\n",
        "json_data = resp.json() # convert the JSON response to Python dictionary object\n"
      ],
      "metadata": {
        "id": "MfHKhwGBjQ82"
      },
      "execution_count": 7,
      "outputs": []
    },
    {
      "cell_type": "markdown",
      "source": [
        "Format and Output response data with string that identifies output"
      ],
      "metadata": {
        "id": "3tvyPSuJjeQH"
      }
    },
    {
      "cell_type": "code",
      "source": [
        "print(\"Webex Teams Response Data:\") # Print identifying string\n",
        "print( json.dumps(json_data, indent = 4) ) #format Python JSON data object and print\n"
      ],
      "metadata": {
        "id": "8zL4Q0PejhW6",
        "colab": {
          "base_uri": "https://localhost:8080/"
        },
        "outputId": "b3cd4f09-cc35-448a-b7cb-05c688b5d977"
      },
      "execution_count": 8,
      "outputs": [
        {
          "output_type": "stream",
          "name": "stdout",
          "text": [
            "Webex Teams Response Data:\n",
            "{\n",
            "    \"items\": [\n",
            "        {\n",
            "            \"id\": \"Y2lzY29zcGFyazovL3VybjpURUFNOmV1LWNlbnRyYWwtMV9rL1JPT00vMDhjZjM2ZTAtYzI1MS0xMWVjLTkyOGYtMTk4MTMyOTMwYWFi\",\n",
            "            \"title\": \"Prueba con Rafa?\",\n",
            "            \"type\": \"group\",\n",
            "            \"isLocked\": true,\n",
            "            \"lastActivity\": \"2022-04-22T15:33:46.006Z\",\n",
            "            \"creatorId\": \"Y2lzY29zcGFyazovL3VzL1BFT1BMRS8xYmMyNDFhNi0zN2EyLTQ1N2MtYjNlZi01ZWVhYTk3MjcyNjc\",\n",
            "            \"created\": \"2022-04-22T15:29:43.758Z\",\n",
            "            \"ownerId\": \"Y2lzY29zcGFyazovL3VzL09SR0FOSVpBVElPTi9kMTgyMzRmOC04MDhmLTQ3YzAtODZkMC04YzIyZjJhMDQ3ZjA\"\n",
            "        },\n",
            "        {\n",
            "            \"id\": \"Y2lzY29zcGFyazovL3VybjpURUFNOmV1LWNlbnRyYWwtMV9rL1JPT00vY2I0MTZiZjAtYzI0Zi0xMWVjLThmZmMtNWQyMmJlNDIyOTUx\",\n",
            "            \"title\": \"CCNA3_IZRA\",\n",
            "            \"type\": \"group\",\n",
            "            \"isLocked\": false,\n",
            "            \"lastActivity\": \"2022-04-22T15:51:06.814Z\",\n",
            "            \"creatorId\": \"Y2lzY29zcGFyazovL3VzL1BFT1BMRS9kOGQ0MDI3MC1jYjljLTQwMTMtYjY3MS05YWM5MzNiMGQyZDg\",\n",
            "            \"created\": \"2022-04-22T15:20:50.991Z\",\n",
            "            \"ownerId\": \"Y2lzY29zcGFyazovL3VzL09SR0FOSVpBVElPTi8yMDUxOTVlMy02MmU0LTQ4ZmMtODQwYi1jZGI2MTE3MzE1YjQ\"\n",
            "        },\n",
            "        {\n",
            "            \"id\": \"Y2lzY29zcGFyazovL3VybjpURUFNOmV1LWNlbnRyYWwtMV9rL1JPT00vY2E1MjAyZTAtYzI0Zi0xMWVjLThmZmMtNWQyMmJlNDIyOTUx\",\n",
            "            \"title\": \"CNNA3\",\n",
            "            \"type\": \"group\",\n",
            "            \"isLocked\": false,\n",
            "            \"lastActivity\": \"2022-04-22T15:22:14.493Z\",\n",
            "            \"creatorId\": \"Y2lzY29zcGFyazovL3VzL1BFT1BMRS9jOTIyZTNmOC04ZGVkLTRlNmUtYTVhNC0xNDlmNWQ4ZDM0ZGU\",\n",
            "            \"created\": \"2022-04-22T15:20:49.422Z\",\n",
            "            \"ownerId\": \"Y2lzY29zcGFyazovL3VzL09SR0FOSVpBVElPTi8zM2Q2OWY3NC1hOWM5LTQxYmUtODBiYS03ZmJjYTVjYmVkYzg\"\n",
            "        },\n",
            "        {\n",
            "            \"id\": \"Y2lzY29zcGFyazovL3VybjpURUFNOmV1LWNlbnRyYWwtMV9rL1JPT00vYzk5MTRhZjAtYzI0Zi0xMWVjLTgyMzItOTdhY2ZlY2ZlYTFk\",\n",
            "            \"title\": \"TekeTeka\",\n",
            "            \"type\": \"group\",\n",
            "            \"isLocked\": false,\n",
            "            \"lastActivity\": \"2022-04-22T15:31:56.644Z\",\n",
            "            \"creatorId\": \"Y2lzY29zcGFyazovL3VzL1BFT1BMRS8xZjA0ZDUyNi1mYTc0LTQ2NWEtYjAzMC02YWJhYjU2ZGFjNWU\",\n",
            "            \"created\": \"2022-04-22T15:20:48.159Z\",\n",
            "            \"ownerId\": \"Y2lzY29zcGFyazovL3VzL09SR0FOSVpBVElPTi8yMDUxOTVlMy02MmU0LTQ4ZmMtODQwYi1jZGI2MTE3MzE1YjQ\"\n",
            "        },\n",
            "        {\n",
            "            \"id\": \"Y2lzY29zcGFyazovL3VybjpURUFNOmV1LWNlbnRyYWwtMV9rL1JPT00vYzY3ZmM1MzAtYzI0Zi0xMWVjLTliNDMtMjdiMWIxYjg1ZTY3\",\n",
            "            \"title\": \"Sala Prueba\",\n",
            "            \"type\": \"group\",\n",
            "            \"isLocked\": false,\n",
            "            \"lastActivity\": \"2022-04-22T15:22:08.851Z\",\n",
            "            \"creatorId\": \"Y2lzY29zcGFyazovL3VzL1BFT1BMRS8xYmMyNDFhNi0zN2EyLTQ1N2MtYjNlZi01ZWVhYTk3MjcyNjc\",\n",
            "            \"created\": \"2022-04-22T15:20:43.011Z\",\n",
            "            \"ownerId\": \"Y2lzY29zcGFyazovL3VzL09SR0FOSVpBVElPTi9kMTgyMzRmOC04MDhmLTQ3YzAtODZkMC04YzIyZjJhMDQ3ZjA\"\n",
            "        },\n",
            "        {\n",
            "            \"id\": \"Y2lzY29zcGFyazovL3VybjpURUFNOmV1LWNlbnRyYWwtMV9rL1JPT00vODUxNmVkODAtYzI0Zi0xMWVjLWIxNjItMDM0NDUwOGJlODQx\",\n",
            "            \"title\": \"Antonio Llamas Garc\\u00eda\",\n",
            "            \"type\": \"direct\",\n",
            "            \"isLocked\": false,\n",
            "            \"lastActivity\": \"2022-04-22T15:18:53.272Z\",\n",
            "            \"creatorId\": \"Y2lzY29zcGFyazovL3VzL1BFT1BMRS8xZjA0ZDUyNi1mYTc0LTQ2NWEtYjAzMC02YWJhYjU2ZGFjNWU\",\n",
            "            \"created\": \"2022-04-22T15:18:53.272Z\"\n",
            "        },\n",
            "        {\n",
            "            \"id\": \"Y2lzY29zcGFyazovL3VybjpURUFNOmV1LWNlbnRyYWwtMV9rL1JPT00vNmIxOTA3MTAtYzI0Zi0xMWVjLWI5YWMtM2I1ZGRjODE4YWI5\",\n",
            "            \"title\": \"Valent\\u00edn\",\n",
            "            \"type\": \"direct\",\n",
            "            \"isLocked\": false,\n",
            "            \"lastActivity\": \"2022-04-22T15:18:09.665Z\",\n",
            "            \"creatorId\": \"Y2lzY29zcGFyazovL3VzL1BFT1BMRS8xYmMyNDFhNi0zN2EyLTQ1N2MtYjNlZi01ZWVhYTk3MjcyNjc\",\n",
            "            \"created\": \"2022-04-22T15:18:09.665Z\",\n",
            "            \"ownerId\": \"Y2lzY29zcGFyazovL3VzL09SR0FOSVpBVElPTi9kMTgyMzRmOC04MDhmLTQ3YzAtODZkMC04YzIyZjJhMDQ3ZjA\"\n",
            "        },\n",
            "        {\n",
            "            \"id\": \"Y2lzY29zcGFyazovL3VybjpURUFNOmV1LWNlbnRyYWwtMV9rL1JPT00vNDdlMjQ5YTAtYzI0Zi0xMWVjLWIwNDAtOWQ3ZTMyNDI4ODFm\",\n",
            "            \"title\": \"Espacio de bienvenida\",\n",
            "            \"type\": \"group\",\n",
            "            \"isLocked\": false,\n",
            "            \"lastActivity\": \"2022-04-22T15:17:12.318Z\",\n",
            "            \"creatorId\": \"Y2lzY29zcGFyazovL3VzL1BFT1BMRS8xYmMyNDFhNi0zN2EyLTQ1N2MtYjNlZi01ZWVhYTk3MjcyNjc\",\n",
            "            \"created\": \"2022-04-22T15:17:10.586Z\",\n",
            "            \"ownerId\": \"Y2lzY29zcGFyazovL3VzL09SR0FOSVpBVElPTi9kMTgyMzRmOC04MDhmLTQ3YzAtODZkMC04YzIyZjJhMDQ3ZjA\"\n",
            "        },\n",
            "        {\n",
            "            \"id\": \"Y2lzY29zcGFyazovL3VybjpURUFNOmV1LWNlbnRyYWwtMV9rL1JPT00vNDdlMTVmNDAtYzI0Zi0xMWVjLWFjNDQtZTk1MGE1NDNkNmMx\",\n",
            "            \"title\": \"Jos\\u00e9 Manuel Izquierdo Ram\\u00edrez\",\n",
            "            \"type\": \"direct\",\n",
            "            \"isLocked\": false,\n",
            "            \"lastActivity\": \"2022-04-22T15:18:21.209Z\",\n",
            "            \"creatorId\": \"Y2lzY29zcGFyazovL3VzL1BFT1BMRS9kOGQ0MDI3MC1jYjljLTQwMTMtYjY3MS05YWM5MzNiMGQyZDg\",\n",
            "            \"created\": \"2022-04-22T15:17:10.580Z\"\n",
            "        },\n",
            "        {\n",
            "            \"id\": \"Y2lzY29zcGFyazovL3VybjpURUFNOmV1LWNlbnRyYWwtMV9rL1JPT00vMzcyYjQzZjAtYzI0Zi0xMWVjLWI5YWMtM2I1ZGRjODE4YWI5\",\n",
            "            \"title\": \"Rafael Hormigo\",\n",
            "            \"type\": \"direct\",\n",
            "            \"isLocked\": false,\n",
            "            \"lastActivity\": \"2022-04-22T15:16:55.599Z\",\n",
            "            \"creatorId\": \"Y2lzY29zcGFyazovL3VzL1BFT1BMRS9jOTIyZTNmOC04ZGVkLTRlNmUtYTVhNC0xNDlmNWQ4ZDM0ZGU\",\n",
            "            \"created\": \"2022-04-22T15:16:42.543Z\"\n",
            "        }\n",
            "    ]\n",
            "}\n"
          ]
        }
      ]
    }
  ]
}