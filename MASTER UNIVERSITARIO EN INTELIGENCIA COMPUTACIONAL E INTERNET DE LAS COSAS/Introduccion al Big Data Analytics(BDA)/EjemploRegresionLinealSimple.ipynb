{
  "nbformat": 4,
  "nbformat_minor": 0,
  "metadata": {
    "colab": {
      "provenance": []
    },
    "kernelspec": {
      "name": "python3",
      "display_name": "Python 3"
    },
    "language_info": {
      "name": "python"
    }
  },
  "cells": [
    {
      "cell_type": "markdown",
      "source": [
        "\n",
        "# **Asignatura de Big Data Analytics**\n",
        "\n",
        "Prof. José M. Luna\n",
        "\n",
        "jmluna@uco.es\n",
        "\n",
        "---"
      ],
      "metadata": {
        "id": "eAqyVlsBQwYg"
      }
    },
    {
      "cell_type": "markdown",
      "source": [
        "En primer lugar, debemos instalar todas las dependencias necesarias para poder ejecutar el algoritmo. Así, tenemos que instalar Java 8, Spark 3.0 con Hadoop 3.2, y findspark para alojar spark en el sistema (acceder a Spark desde un Notebook)."
      ],
      "metadata": {
        "id": "0NX5i4MIQFqp"
      }
    },
    {
      "cell_type": "code",
      "execution_count": null,
      "metadata": {
        "id": "DE6TxK84zKhP"
      },
      "outputs": [],
      "source": [
        "# Instalacion de java\n",
        "!apt-get install openjdk-8-jdk-headless -qq > /dev/null\n",
        "\n",
        "# Instalacion de spark\n",
        "!wget -q https://archive.apache.org/dist/spark/spark-3.0.0/spark-3.0.0-bin-hadoop3.2.tgz\n",
        "\n",
        "# Descomprimimos el fichero de spark\n",
        "!tar xf spark-3.0.0-bin-hadoop3.2.tgz\n",
        "\n",
        "# Instalamos findspark\n",
        "!pip install -q findspark\n",
        "\n",
        "# Establecemos las variables de entorno para Java y Spark \n",
        "import os\n",
        "os.environ[\"JAVA_HOME\"] = \"/usr/lib/jvm/java-8-openjdk-amd64\"\n",
        "os.environ[\"SPARK_HOME\"] = \"/content/spark-3.0.0-bin-hadoop3.2\""
      ]
    },
    {
      "cell_type": "markdown",
      "source": [
        "Ejecutamos una sesion local de spark para comprobar que esta funcionando."
      ],
      "metadata": {
        "id": "TWlZjg1xSmQF"
      }
    },
    {
      "cell_type": "code",
      "source": [
        "import findspark\n",
        "findspark.init()\n",
        "from pyspark.sql import SparkSession\n",
        "spark = SparkSession.builder.master(\"local[*]\").getOrCreate()"
      ],
      "metadata": {
        "id": "6K8cgoRo05T5"
      },
      "execution_count": null,
      "outputs": []
    },
    {
      "cell_type": "markdown",
      "source": [
        "Importamos el conjunto de datos con el que queremos trabajar y comprobamos que se ha subido correctamente"
      ],
      "metadata": {
        "id": "UbIf9hHrSxSY"
      }
    },
    {
      "cell_type": "code",
      "source": [
        "from google.colab import files\n",
        "uploaded = files.upload()\n",
        "\n",
        "!ls"
      ],
      "metadata": {
        "id": "Y2JwmSfp00RG",
        "colab": {
          "base_uri": "https://localhost:8080/",
          "height": 103
        },
        "outputId": "d2acca68-832d-42d2-c3ea-38a993dfff85"
      },
      "execution_count": null,
      "outputs": [
        {
          "output_type": "display_data",
          "data": {
            "text/plain": [
              "<IPython.core.display.HTML object>"
            ],
            "text/html": [
              "\n",
              "     <input type=\"file\" id=\"files-c9a9090e-c43e-45be-9915-9c6431f69d3b\" name=\"files[]\" multiple disabled\n",
              "        style=\"border:none\" />\n",
              "     <output id=\"result-c9a9090e-c43e-45be-9915-9c6431f69d3b\">\n",
              "      Upload widget is only available when the cell has been executed in the\n",
              "      current browser session. Please rerun this cell to enable.\n",
              "      </output>\n",
              "      <script>// Copyright 2017 Google LLC\n",
              "//\n",
              "// Licensed under the Apache License, Version 2.0 (the \"License\");\n",
              "// you may not use this file except in compliance with the License.\n",
              "// You may obtain a copy of the License at\n",
              "//\n",
              "//      http://www.apache.org/licenses/LICENSE-2.0\n",
              "//\n",
              "// Unless required by applicable law or agreed to in writing, software\n",
              "// distributed under the License is distributed on an \"AS IS\" BASIS,\n",
              "// WITHOUT WARRANTIES OR CONDITIONS OF ANY KIND, either express or implied.\n",
              "// See the License for the specific language governing permissions and\n",
              "// limitations under the License.\n",
              "\n",
              "/**\n",
              " * @fileoverview Helpers for google.colab Python module.\n",
              " */\n",
              "(function(scope) {\n",
              "function span(text, styleAttributes = {}) {\n",
              "  const element = document.createElement('span');\n",
              "  element.textContent = text;\n",
              "  for (const key of Object.keys(styleAttributes)) {\n",
              "    element.style[key] = styleAttributes[key];\n",
              "  }\n",
              "  return element;\n",
              "}\n",
              "\n",
              "// Max number of bytes which will be uploaded at a time.\n",
              "const MAX_PAYLOAD_SIZE = 100 * 1024;\n",
              "\n",
              "function _uploadFiles(inputId, outputId) {\n",
              "  const steps = uploadFilesStep(inputId, outputId);\n",
              "  const outputElement = document.getElementById(outputId);\n",
              "  // Cache steps on the outputElement to make it available for the next call\n",
              "  // to uploadFilesContinue from Python.\n",
              "  outputElement.steps = steps;\n",
              "\n",
              "  return _uploadFilesContinue(outputId);\n",
              "}\n",
              "\n",
              "// This is roughly an async generator (not supported in the browser yet),\n",
              "// where there are multiple asynchronous steps and the Python side is going\n",
              "// to poll for completion of each step.\n",
              "// This uses a Promise to block the python side on completion of each step,\n",
              "// then passes the result of the previous step as the input to the next step.\n",
              "function _uploadFilesContinue(outputId) {\n",
              "  const outputElement = document.getElementById(outputId);\n",
              "  const steps = outputElement.steps;\n",
              "\n",
              "  const next = steps.next(outputElement.lastPromiseValue);\n",
              "  return Promise.resolve(next.value.promise).then((value) => {\n",
              "    // Cache the last promise value to make it available to the next\n",
              "    // step of the generator.\n",
              "    outputElement.lastPromiseValue = value;\n",
              "    return next.value.response;\n",
              "  });\n",
              "}\n",
              "\n",
              "/**\n",
              " * Generator function which is called between each async step of the upload\n",
              " * process.\n",
              " * @param {string} inputId Element ID of the input file picker element.\n",
              " * @param {string} outputId Element ID of the output display.\n",
              " * @return {!Iterable<!Object>} Iterable of next steps.\n",
              " */\n",
              "function* uploadFilesStep(inputId, outputId) {\n",
              "  const inputElement = document.getElementById(inputId);\n",
              "  inputElement.disabled = false;\n",
              "\n",
              "  const outputElement = document.getElementById(outputId);\n",
              "  outputElement.innerHTML = '';\n",
              "\n",
              "  const pickedPromise = new Promise((resolve) => {\n",
              "    inputElement.addEventListener('change', (e) => {\n",
              "      resolve(e.target.files);\n",
              "    });\n",
              "  });\n",
              "\n",
              "  const cancel = document.createElement('button');\n",
              "  inputElement.parentElement.appendChild(cancel);\n",
              "  cancel.textContent = 'Cancel upload';\n",
              "  const cancelPromise = new Promise((resolve) => {\n",
              "    cancel.onclick = () => {\n",
              "      resolve(null);\n",
              "    };\n",
              "  });\n",
              "\n",
              "  // Wait for the user to pick the files.\n",
              "  const files = yield {\n",
              "    promise: Promise.race([pickedPromise, cancelPromise]),\n",
              "    response: {\n",
              "      action: 'starting',\n",
              "    }\n",
              "  };\n",
              "\n",
              "  cancel.remove();\n",
              "\n",
              "  // Disable the input element since further picks are not allowed.\n",
              "  inputElement.disabled = true;\n",
              "\n",
              "  if (!files) {\n",
              "    return {\n",
              "      response: {\n",
              "        action: 'complete',\n",
              "      }\n",
              "    };\n",
              "  }\n",
              "\n",
              "  for (const file of files) {\n",
              "    const li = document.createElement('li');\n",
              "    li.append(span(file.name, {fontWeight: 'bold'}));\n",
              "    li.append(span(\n",
              "        `(${file.type || 'n/a'}) - ${file.size} bytes, ` +\n",
              "        `last modified: ${\n",
              "            file.lastModifiedDate ? file.lastModifiedDate.toLocaleDateString() :\n",
              "                                    'n/a'} - `));\n",
              "    const percent = span('0% done');\n",
              "    li.appendChild(percent);\n",
              "\n",
              "    outputElement.appendChild(li);\n",
              "\n",
              "    const fileDataPromise = new Promise((resolve) => {\n",
              "      const reader = new FileReader();\n",
              "      reader.onload = (e) => {\n",
              "        resolve(e.target.result);\n",
              "      };\n",
              "      reader.readAsArrayBuffer(file);\n",
              "    });\n",
              "    // Wait for the data to be ready.\n",
              "    let fileData = yield {\n",
              "      promise: fileDataPromise,\n",
              "      response: {\n",
              "        action: 'continue',\n",
              "      }\n",
              "    };\n",
              "\n",
              "    // Use a chunked sending to avoid message size limits. See b/62115660.\n",
              "    let position = 0;\n",
              "    do {\n",
              "      const length = Math.min(fileData.byteLength - position, MAX_PAYLOAD_SIZE);\n",
              "      const chunk = new Uint8Array(fileData, position, length);\n",
              "      position += length;\n",
              "\n",
              "      const base64 = btoa(String.fromCharCode.apply(null, chunk));\n",
              "      yield {\n",
              "        response: {\n",
              "          action: 'append',\n",
              "          file: file.name,\n",
              "          data: base64,\n",
              "        },\n",
              "      };\n",
              "\n",
              "      let percentDone = fileData.byteLength === 0 ?\n",
              "          100 :\n",
              "          Math.round((position / fileData.byteLength) * 100);\n",
              "      percent.textContent = `${percentDone}% done`;\n",
              "\n",
              "    } while (position < fileData.byteLength);\n",
              "  }\n",
              "\n",
              "  // All done.\n",
              "  yield {\n",
              "    response: {\n",
              "      action: 'complete',\n",
              "    }\n",
              "  };\n",
              "}\n",
              "\n",
              "scope.google = scope.google || {};\n",
              "scope.google.colab = scope.google.colab || {};\n",
              "scope.google.colab._files = {\n",
              "  _uploadFiles,\n",
              "  _uploadFilesContinue,\n",
              "};\n",
              "})(self);\n",
              "</script> "
            ]
          },
          "metadata": {}
        },
        {
          "output_type": "stream",
          "name": "stdout",
          "text": [
            "Saving BostonHousing.csv to BostonHousing.csv\n",
            "BostonHousing.csv  spark-3.0.0-bin-hadoop3.2\n",
            "sample_data\t   spark-3.0.0-bin-hadoop3.2.tgz\n"
          ]
        }
      ]
    },
    {
      "cell_type": "markdown",
      "source": [
        "Leemos el dataset con el que queremos trabajar, en este caso vamos a trabajar con el dataset de BostonHousing\n",
        "\n"
      ],
      "metadata": {
        "id": "oTNlC6hLQEcj"
      }
    },
    {
      "cell_type": "code",
      "source": [
        "dataset = spark.read.csv('BostonHousing.csv',inferSchema=True, header =True)"
      ],
      "metadata": {
        "id": "5sooAU--WkYQ"
      },
      "execution_count": null,
      "outputs": []
    },
    {
      "cell_type": "markdown",
      "source": [
        "Mostramos los atributos que tiene el dataset y su tipo"
      ],
      "metadata": {
        "id": "vH_EiS93Wspc"
      }
    },
    {
      "cell_type": "code",
      "source": [
        "dataset.printSchema()"
      ],
      "metadata": {
        "id": "9-DH4JqH6kRH",
        "colab": {
          "base_uri": "https://localhost:8080/"
        },
        "outputId": "fb28ee60-0a63-4549-bedb-e81a996fd0f8"
      },
      "execution_count": null,
      "outputs": [
        {
          "output_type": "stream",
          "name": "stdout",
          "text": [
            "root\n",
            " |-- crim: double (nullable = true)\n",
            " |-- zn: double (nullable = true)\n",
            " |-- indus: double (nullable = true)\n",
            " |-- chas: integer (nullable = true)\n",
            " |-- nox: double (nullable = true)\n",
            " |-- rm: double (nullable = true)\n",
            " |-- age: double (nullable = true)\n",
            " |-- dis: double (nullable = true)\n",
            " |-- rad: integer (nullable = true)\n",
            " |-- tax: integer (nullable = true)\n",
            " |-- ptratio: double (nullable = true)\n",
            " |-- b: double (nullable = true)\n",
            " |-- lstat: double (nullable = true)\n",
            " |-- medv: double (nullable = true)\n",
            "\n"
          ]
        }
      ]
    },
    {
      "cell_type": "markdown",
      "source": [
        "En primer lugar, vamos a trabajar con una sola variable y una salida. Vamos a coger, por ejemplo, la variable crim y la varible medv (salida)"
      ],
      "metadata": {
        "id": "pEK6sg-OW26u"
      }
    },
    {
      "cell_type": "code",
      "source": [
        "subdataset = dataset.select(\"crim\",\"medv\")\n",
        "subdataset.printSchema()\n",
        "subdataset.show()"
      ],
      "metadata": {
        "id": "nd8jyG1qXFMS",
        "colab": {
          "base_uri": "https://localhost:8080/"
        },
        "outputId": "365febef-3576-49d3-974a-ce3778997846"
      },
      "execution_count": null,
      "outputs": [
        {
          "output_type": "stream",
          "name": "stdout",
          "text": [
            "root\n",
            " |-- crim: double (nullable = true)\n",
            " |-- medv: double (nullable = true)\n",
            "\n",
            "+-------+----+\n",
            "|   crim|medv|\n",
            "+-------+----+\n",
            "|0.00632|24.0|\n",
            "|0.02731|21.6|\n",
            "|0.02729|34.7|\n",
            "|0.03237|33.4|\n",
            "|0.06905|36.2|\n",
            "|0.02985|28.7|\n",
            "|0.08829|22.9|\n",
            "|0.14455|27.1|\n",
            "|0.21124|16.5|\n",
            "|0.17004|18.9|\n",
            "|0.22489|15.0|\n",
            "|0.11747|18.9|\n",
            "|0.09378|21.7|\n",
            "|0.62976|20.4|\n",
            "|0.63796|18.2|\n",
            "|0.62739|19.9|\n",
            "|1.05393|23.1|\n",
            "| 0.7842|17.5|\n",
            "|0.80271|20.2|\n",
            "| 0.7258|18.2|\n",
            "+-------+----+\n",
            "only showing top 20 rows\n",
            "\n"
          ]
        }
      ]
    },
    {
      "cell_type": "markdown",
      "source": [
        "Creamos un nuevo conjunto de datos donde los inputs serán un vector (necesario para LinearRegression), pero consideramos sólo un atributo"
      ],
      "metadata": {
        "id": "Gc4Tjp-McvL4"
      }
    },
    {
      "cell_type": "code",
      "source": [
        "from pyspark.ml.feature import VectorAssembler\n",
        "\n",
        "df = VectorAssembler(inputCols=['crim'], outputCol='inputs').transform(subdataset)\n",
        "\n",
        "df = df.select(['inputs','medv'])\n",
        "\n",
        "df.printSchema()"
      ],
      "metadata": {
        "id": "K-Zla-cjcDjx",
        "colab": {
          "base_uri": "https://localhost:8080/"
        },
        "outputId": "fee7c42b-876b-4776-97ee-b50355016e7d"
      },
      "execution_count": null,
      "outputs": [
        {
          "output_type": "stream",
          "name": "stdout",
          "text": [
            "root\n",
            " |-- inputs: vector (nullable = true)\n",
            " |-- medv: double (nullable = true)\n",
            "\n"
          ]
        }
      ]
    },
    {
      "cell_type": "markdown",
      "source": [
        "Dividimos el conjunto de datos en train y test. Vamos a considerar una partición del tipo 80/20"
      ],
      "metadata": {
        "id": "2G2US5dkXqmm"
      }
    },
    {
      "cell_type": "code",
      "source": [
        "trainData,testData = df.randomSplit([0.8,0.2])"
      ],
      "metadata": {
        "id": "X12qbtC7Xx2r"
      },
      "execution_count": null,
      "outputs": []
    },
    {
      "cell_type": "markdown",
      "source": [
        "Indicamos qué atributos serán las entradas y cuales serán la salida. En este caso, vamos a tomar como entrada \"crim\" y como salida \"medv\". Finalmente, entrenamos y testeamos con trainData y testData, y mostramos las predicciones"
      ],
      "metadata": {
        "id": "hZKWsevfX_aa"
      }
    },
    {
      "cell_type": "code",
      "source": [
        "from pyspark.ml.regression import LinearRegression\n",
        "\n",
        "regressor = LinearRegression(featuresCol = 'inputs', labelCol = 'medv')\n",
        "\n",
        "#Entrenamos el modelo con el conjunto de train\n",
        "regressor = regressor.fit(trainData)\n",
        "\n",
        "#Evaluamos el modelo con el conjunto de test\n",
        "pred = regressor.evaluate(testData)\n",
        "\n",
        "#Mostramos las predicciones\n",
        "pred.predictions.show()"
      ],
      "metadata": {
        "id": "sZA95wApX-hm",
        "colab": {
          "base_uri": "https://localhost:8080/"
        },
        "outputId": "22f35d10-5417-45c2-f252-5ba6d1069654"
      },
      "execution_count": null,
      "outputs": [
        {
          "output_type": "stream",
          "name": "stdout",
          "text": [
            "+---------+----+------------------+\n",
            "|   inputs|medv|        prediction|\n",
            "+---------+----+------------------+\n",
            "|[0.01501]|24.5|23.861244119853577|\n",
            "|[0.01538]|44.0| 23.86110047364677|\n",
            "|[0.02177]|42.3| 23.85861966483186|\n",
            "|[0.02498]|16.5| 23.85737343692954|\n",
            "|[0.02731]|21.6|23.856468854059624|\n",
            "|[0.03306]|20.6|  23.8542365143592|\n",
            "|[0.03445]|24.1|23.853696870501185|\n",
            "|[0.03551]|22.9|23.853285343530327|\n",
            "|[0.03659]|24.8| 23.85286605189964|\n",
            "|[0.03768]|34.6|23.852442877939033|\n",
            "|[0.03961]|21.1|23.851693588265675|\n",
            "| [0.0459]|22.3|23.849251602749906|\n",
            "|[0.04819]|21.9|23.848362549199653|\n",
            "|[0.05425]|24.6|  23.8460098572719|\n",
            "|[0.05644]|32.4| 23.84515962702078|\n",
            "| [0.0566]|23.6| 23.84509750974216|\n",
            "|[0.06263]|22.4| 23.84275646480415|\n",
            "|[0.06588]|39.8| 23.84149470758217|\n",
            "|[0.06617]|19.3| 23.84138212001467|\n",
            "|[0.06642]|29.9| 23.84128506176683|\n",
            "+---------+----+------------------+\n",
            "only showing top 20 rows\n",
            "\n"
          ]
        }
      ]
    },
    {
      "cell_type": "markdown",
      "source": [
        "Mostramos resultados del modelo de regresión en train"
      ],
      "metadata": {
        "id": "t417HzVPjq6u"
      }
    },
    {
      "cell_type": "code",
      "source": [
        "#coeficientes del modelo de regresion\n",
        "coeff = regressor.coefficients\n",
        "#interseccioon del model con Y\n",
        "intr = regressor.intercept\n",
        "print (\"Coeficientes: %a\" %coeff)\n",
        "print (\"Interseccion: %f\" %intr)\n",
        "\n",
        "#Entrenamiento\n",
        "print(\"Root Mean Squared Err (RMSE): %f\" % regressor.summary.rootMeanSquaredError)\n",
        "print(\"Mean Absolute Err (MAE): %f\" % regressor.summary.meanAbsoluteError)\n",
        "print(\"Mean Squared Err (MSE): %f\" % regressor.summary.meanSquaredError)"
      ],
      "metadata": {
        "id": "1-4ckrBIgybT",
        "colab": {
          "base_uri": "https://localhost:8080/"
        },
        "outputId": "dca9a8a0-498e-43b5-9a7e-afe5c7c78404"
      },
      "execution_count": null,
      "outputs": [
        {
          "output_type": "stream",
          "name": "stdout",
          "text": [
            "Coeficientes: DenseVector([-0.3882])\n",
            "Interseccion: 23.867071\n",
            "Root Mean Squared Err (RMSE): 8.413242\n",
            "Mean Absolute Err (MAE): 6.121929\n",
            "Mean Squared Err (MSE): 70.782645\n"
          ]
        }
      ]
    },
    {
      "cell_type": "markdown",
      "source": [
        "Mostramos resultados del modelo de regresión en test"
      ],
      "metadata": {
        "id": "Xrj35xtmlhLh"
      }
    },
    {
      "cell_type": "code",
      "source": [
        "from pyspark.ml.evaluation import RegressionEvaluator\n",
        "\n",
        "rmse = RegressionEvaluator(labelCol=\"medv\", predictionCol=\"prediction\", metricName=\"rmse\").evaluate(pred.predictions)\n",
        "print (\"Root Mean Squared Err (RMSE): %f\" % rmse)\n",
        "mae = RegressionEvaluator(labelCol=\"medv\", predictionCol=\"prediction\", metricName=\"mae\").evaluate(pred.predictions)\n",
        "print (\"Mean Absolute Err (MAE): %f\" % mae)\n",
        "mse = RegressionEvaluator(labelCol=\"medv\", predictionCol=\"prediction\", metricName=\"mse\").evaluate(pred.predictions)\n",
        "print (\"Mean Squared Err (MSE): %f\" % mse)"
      ],
      "metadata": {
        "id": "wYJpi7q9lgNj",
        "colab": {
          "base_uri": "https://localhost:8080/"
        },
        "outputId": "d22c6b39-b8b2-4b20-a44b-60984565f918"
      },
      "execution_count": null,
      "outputs": [
        {
          "output_type": "stream",
          "name": "stdout",
          "text": [
            "Root Mean Squared Err (RMSE): 8.230148\n",
            "Mean Absolute Err (MAE): 6.420361\n",
            "Mean Squared Err (MSE): 67.735335\n"
          ]
        }
      ]
    }
  ]
}