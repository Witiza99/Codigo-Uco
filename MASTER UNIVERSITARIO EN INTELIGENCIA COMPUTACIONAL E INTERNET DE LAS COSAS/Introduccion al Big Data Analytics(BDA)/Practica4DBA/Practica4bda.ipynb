{
  "nbformat": 4,
  "nbformat_minor": 0,
  "metadata": {
    "colab": {
      "provenance": []
    },
    "kernelspec": {
      "name": "python3",
      "display_name": "Python 3"
    },
    "language_info": {
      "name": "python"
    }
  },
  "cells": [
    {
      "cell_type": "markdown",
      "source": [
        "# **Asignatura de Big Data Analytics**\n",
        "\n",
        "Antonio Gómez Giménez\n",
        "\n",
        "i72gogia@uco.es\n",
        "\n",
        "---"
      ],
      "metadata": {
        "id": "eAqyVlsBQwYg"
      }
    },
    {
      "cell_type": "markdown",
      "source": [
        "# **Preparar entorno**"
      ],
      "metadata": {
        "id": "9mCFVY5JASpg"
      }
    },
    {
      "cell_type": "markdown",
      "source": [
        "En primer lugar, debemos instalar todas las dependencias necesarias para poder ejecutar el algoritmo. Así, tenemos que instalar Java 8, Spark 3.0 con Hadoop 3.2, y findspark para alojar spark en el sistema (acceder a Spark desde un Notebook)."
      ],
      "metadata": {
        "id": "0NX5i4MIQFqp"
      }
    },
    {
      "cell_type": "code",
      "execution_count": null,
      "metadata": {
        "id": "DE6TxK84zKhP"
      },
      "outputs": [],
      "source": [
        "# Instalacion de java\n",
        "!apt-get install openjdk-8-jdk-headless -qq > /dev/null\n",
        "\n",
        "# Instalacion de spark\n",
        "!wget -q https://archive.apache.org/dist/spark/spark-3.0.0/spark-3.0.0-bin-hadoop3.2.tgz\n",
        "\n",
        "# Descomprimimos el fichero de spark\n",
        "!tar xf spark-3.0.0-bin-hadoop3.2.tgz\n",
        "\n",
        "# Instalamos findspark\n",
        "!pip install -q findspark\n",
        "\n",
        "# Establecemos las variables de entorno para Java y Spark \n",
        "import os\n",
        "os.environ[\"JAVA_HOME\"] = \"/usr/lib/jvm/java-8-openjdk-amd64\"\n",
        "os.environ[\"SPARK_HOME\"] = \"/content/spark-3.0.0-bin-hadoop3.2\""
      ]
    },
    {
      "cell_type": "markdown",
      "source": [
        "# **Prueba dataset Zoo con Arbol de decisión**"
      ],
      "metadata": {
        "id": "T23UZp1BAxvv"
      }
    },
    {
      "cell_type": "markdown",
      "source": [
        "Ejecutamos una sesion local de spark para comprobar que esta funcionando."
      ],
      "metadata": {
        "id": "TWlZjg1xSmQF"
      }
    },
    {
      "cell_type": "code",
      "source": [
        "import findspark\n",
        "findspark.init()\n",
        "from pyspark.sql import SparkSession\n",
        "spark = SparkSession.builder.master(\"local[*]\").getOrCreate()"
      ],
      "metadata": {
        "id": "6K8cgoRo05T5"
      },
      "execution_count": 55,
      "outputs": []
    },
    {
      "cell_type": "markdown",
      "source": [
        "Importamos el conjunto de datos con el que queremos trabajar y comprobamos que se ha subido correctamente"
      ],
      "metadata": {
        "id": "UbIf9hHrSxSY"
      }
    },
    {
      "cell_type": "code",
      "source": [
        "from google.colab import files\n",
        "uploaded = files.upload()\n",
        "\n",
        "!ls"
      ],
      "metadata": {
        "colab": {
          "base_uri": "https://localhost:8080/",
          "height": 125
        },
        "id": "Y2JwmSfp00RG",
        "outputId": "2aa9db7c-ce7e-4fff-ffd1-28b6aa6df9ba"
      },
      "execution_count": 56,
      "outputs": [
        {
          "output_type": "display_data",
          "data": {
            "text/plain": [
              "<IPython.core.display.HTML object>"
            ],
            "text/html": [
              "\n",
              "     <input type=\"file\" id=\"files-0cc75860-5d78-4d18-9a24-1651593a8fcf\" name=\"files[]\" multiple disabled\n",
              "        style=\"border:none\" />\n",
              "     <output id=\"result-0cc75860-5d78-4d18-9a24-1651593a8fcf\">\n",
              "      Upload widget is only available when the cell has been executed in the\n",
              "      current browser session. Please rerun this cell to enable.\n",
              "      </output>\n",
              "      <script>// Copyright 2017 Google LLC\n",
              "//\n",
              "// Licensed under the Apache License, Version 2.0 (the \"License\");\n",
              "// you may not use this file except in compliance with the License.\n",
              "// You may obtain a copy of the License at\n",
              "//\n",
              "//      http://www.apache.org/licenses/LICENSE-2.0\n",
              "//\n",
              "// Unless required by applicable law or agreed to in writing, software\n",
              "// distributed under the License is distributed on an \"AS IS\" BASIS,\n",
              "// WITHOUT WARRANTIES OR CONDITIONS OF ANY KIND, either express or implied.\n",
              "// See the License for the specific language governing permissions and\n",
              "// limitations under the License.\n",
              "\n",
              "/**\n",
              " * @fileoverview Helpers for google.colab Python module.\n",
              " */\n",
              "(function(scope) {\n",
              "function span(text, styleAttributes = {}) {\n",
              "  const element = document.createElement('span');\n",
              "  element.textContent = text;\n",
              "  for (const key of Object.keys(styleAttributes)) {\n",
              "    element.style[key] = styleAttributes[key];\n",
              "  }\n",
              "  return element;\n",
              "}\n",
              "\n",
              "// Max number of bytes which will be uploaded at a time.\n",
              "const MAX_PAYLOAD_SIZE = 100 * 1024;\n",
              "\n",
              "function _uploadFiles(inputId, outputId) {\n",
              "  const steps = uploadFilesStep(inputId, outputId);\n",
              "  const outputElement = document.getElementById(outputId);\n",
              "  // Cache steps on the outputElement to make it available for the next call\n",
              "  // to uploadFilesContinue from Python.\n",
              "  outputElement.steps = steps;\n",
              "\n",
              "  return _uploadFilesContinue(outputId);\n",
              "}\n",
              "\n",
              "// This is roughly an async generator (not supported in the browser yet),\n",
              "// where there are multiple asynchronous steps and the Python side is going\n",
              "// to poll for completion of each step.\n",
              "// This uses a Promise to block the python side on completion of each step,\n",
              "// then passes the result of the previous step as the input to the next step.\n",
              "function _uploadFilesContinue(outputId) {\n",
              "  const outputElement = document.getElementById(outputId);\n",
              "  const steps = outputElement.steps;\n",
              "\n",
              "  const next = steps.next(outputElement.lastPromiseValue);\n",
              "  return Promise.resolve(next.value.promise).then((value) => {\n",
              "    // Cache the last promise value to make it available to the next\n",
              "    // step of the generator.\n",
              "    outputElement.lastPromiseValue = value;\n",
              "    return next.value.response;\n",
              "  });\n",
              "}\n",
              "\n",
              "/**\n",
              " * Generator function which is called between each async step of the upload\n",
              " * process.\n",
              " * @param {string} inputId Element ID of the input file picker element.\n",
              " * @param {string} outputId Element ID of the output display.\n",
              " * @return {!Iterable<!Object>} Iterable of next steps.\n",
              " */\n",
              "function* uploadFilesStep(inputId, outputId) {\n",
              "  const inputElement = document.getElementById(inputId);\n",
              "  inputElement.disabled = false;\n",
              "\n",
              "  const outputElement = document.getElementById(outputId);\n",
              "  outputElement.innerHTML = '';\n",
              "\n",
              "  const pickedPromise = new Promise((resolve) => {\n",
              "    inputElement.addEventListener('change', (e) => {\n",
              "      resolve(e.target.files);\n",
              "    });\n",
              "  });\n",
              "\n",
              "  const cancel = document.createElement('button');\n",
              "  inputElement.parentElement.appendChild(cancel);\n",
              "  cancel.textContent = 'Cancel upload';\n",
              "  const cancelPromise = new Promise((resolve) => {\n",
              "    cancel.onclick = () => {\n",
              "      resolve(null);\n",
              "    };\n",
              "  });\n",
              "\n",
              "  // Wait for the user to pick the files.\n",
              "  const files = yield {\n",
              "    promise: Promise.race([pickedPromise, cancelPromise]),\n",
              "    response: {\n",
              "      action: 'starting',\n",
              "    }\n",
              "  };\n",
              "\n",
              "  cancel.remove();\n",
              "\n",
              "  // Disable the input element since further picks are not allowed.\n",
              "  inputElement.disabled = true;\n",
              "\n",
              "  if (!files) {\n",
              "    return {\n",
              "      response: {\n",
              "        action: 'complete',\n",
              "      }\n",
              "    };\n",
              "  }\n",
              "\n",
              "  for (const file of files) {\n",
              "    const li = document.createElement('li');\n",
              "    li.append(span(file.name, {fontWeight: 'bold'}));\n",
              "    li.append(span(\n",
              "        `(${file.type || 'n/a'}) - ${file.size} bytes, ` +\n",
              "        `last modified: ${\n",
              "            file.lastModifiedDate ? file.lastModifiedDate.toLocaleDateString() :\n",
              "                                    'n/a'} - `));\n",
              "    const percent = span('0% done');\n",
              "    li.appendChild(percent);\n",
              "\n",
              "    outputElement.appendChild(li);\n",
              "\n",
              "    const fileDataPromise = new Promise((resolve) => {\n",
              "      const reader = new FileReader();\n",
              "      reader.onload = (e) => {\n",
              "        resolve(e.target.result);\n",
              "      };\n",
              "      reader.readAsArrayBuffer(file);\n",
              "    });\n",
              "    // Wait for the data to be ready.\n",
              "    let fileData = yield {\n",
              "      promise: fileDataPromise,\n",
              "      response: {\n",
              "        action: 'continue',\n",
              "      }\n",
              "    };\n",
              "\n",
              "    // Use a chunked sending to avoid message size limits. See b/62115660.\n",
              "    let position = 0;\n",
              "    do {\n",
              "      const length = Math.min(fileData.byteLength - position, MAX_PAYLOAD_SIZE);\n",
              "      const chunk = new Uint8Array(fileData, position, length);\n",
              "      position += length;\n",
              "\n",
              "      const base64 = btoa(String.fromCharCode.apply(null, chunk));\n",
              "      yield {\n",
              "        response: {\n",
              "          action: 'append',\n",
              "          file: file.name,\n",
              "          data: base64,\n",
              "        },\n",
              "      };\n",
              "\n",
              "      let percentDone = fileData.byteLength === 0 ?\n",
              "          100 :\n",
              "          Math.round((position / fileData.byteLength) * 100);\n",
              "      percent.textContent = `${percentDone}% done`;\n",
              "\n",
              "    } while (position < fileData.byteLength);\n",
              "  }\n",
              "\n",
              "  // All done.\n",
              "  yield {\n",
              "    response: {\n",
              "      action: 'complete',\n",
              "    }\n",
              "  };\n",
              "}\n",
              "\n",
              "scope.google = scope.google || {};\n",
              "scope.google.colab = scope.google.colab || {};\n",
              "scope.google.colab._files = {\n",
              "  _uploadFiles,\n",
              "  _uploadFilesContinue,\n",
              "};\n",
              "})(self);\n",
              "</script> "
            ]
          },
          "metadata": {}
        },
        {
          "output_type": "stream",
          "name": "stdout",
          "text": [
            "Saving zoo.csv to zoo (3).csv\n",
            " sample_data\t\t\t'zoo (1).csv'   zoo.csv\n",
            " spark-3.0.0-bin-hadoop3.2\t'zoo (2).csv'\n",
            " spark-3.0.0-bin-hadoop3.2.tgz\t'zoo (3).csv'\n"
          ]
        }
      ]
    },
    {
      "cell_type": "markdown",
      "source": [
        "Leemos el dataset con el que queremos trabajar, en este caso vamos a trabajar con el dataset de Zoo\n",
        "\n"
      ],
      "metadata": {
        "id": "oTNlC6hLQEcj"
      }
    },
    {
      "cell_type": "code",
      "source": [
        "dataset = spark.read.csv('zoo.csv',inferSchema=True, header =True)"
      ],
      "metadata": {
        "id": "5sooAU--WkYQ"
      },
      "execution_count": 57,
      "outputs": []
    },
    {
      "cell_type": "markdown",
      "source": [
        "Mostramos los atributos que tiene el dataset y su tipo"
      ],
      "metadata": {
        "id": "vH_EiS93Wspc"
      }
    },
    {
      "cell_type": "code",
      "source": [
        "dataset.printSchema()"
      ],
      "metadata": {
        "colab": {
          "base_uri": "https://localhost:8080/"
        },
        "id": "9-DH4JqH6kRH",
        "outputId": "dcee399a-4ef7-41ab-a2ec-998d079a757a"
      },
      "execution_count": 58,
      "outputs": [
        {
          "output_type": "stream",
          "name": "stdout",
          "text": [
            "root\n",
            " |-- animal_name: string (nullable = true)\n",
            " |-- hair: integer (nullable = true)\n",
            " |-- feathers: integer (nullable = true)\n",
            " |-- eggs: integer (nullable = true)\n",
            " |-- milk: integer (nullable = true)\n",
            " |-- airborne: integer (nullable = true)\n",
            " |-- aquatic: integer (nullable = true)\n",
            " |-- predator: integer (nullable = true)\n",
            " |-- toothed: integer (nullable = true)\n",
            " |-- backbone: integer (nullable = true)\n",
            " |-- breathes: integer (nullable = true)\n",
            " |-- venomous: integer (nullable = true)\n",
            " |-- fins: integer (nullable = true)\n",
            " |-- legs: integer (nullable = true)\n",
            " |-- tail: integer (nullable = true)\n",
            " |-- domestic: integer (nullable = true)\n",
            " |-- catsize: integer (nullable = true)\n",
            " |-- class_type: integer (nullable = true)\n",
            "\n"
          ]
        }
      ]
    },
    {
      "cell_type": "markdown",
      "source": [
        "Ahora vamos a trabajar con todas las variables y la varible variety será la salida. Creamos un conjunto de datos donde los inputs serán un vector"
      ],
      "metadata": {
        "id": "pEK6sg-OW26u"
      }
    },
    {
      "cell_type": "code",
      "source": [
        "from pyspark.ml.feature import VectorAssembler\n",
        "from pyspark.ml.feature import StringIndexer\n",
        "\n",
        "df = VectorAssembler(inputCols=['hair', 'feathers', 'eggs', 'milk', 'airborne', 'aquatic', 'predator', 'toothed', 'backbone', 'breathes', 'venomous', \n",
        "                                'fins', 'legs', 'tail', 'domestic', 'catsize'], \n",
        "                     outputCol = 'inputs').transform(dataset)\n",
        "\n",
        "df = df.select(['inputs','class_type'])\n",
        "\n",
        "df.printSchema()\n",
        "\n",
        "labelIndexer = StringIndexer(inputCol='class_type', outputCol='Class').fit(df)\n",
        "df = labelIndexer.transform(df)"
      ],
      "metadata": {
        "colab": {
          "base_uri": "https://localhost:8080/"
        },
        "id": "K-Zla-cjcDjx",
        "outputId": "e13fd3cd-dead-4850-9b01-1b819e790433"
      },
      "execution_count": 59,
      "outputs": [
        {
          "output_type": "stream",
          "name": "stdout",
          "text": [
            "root\n",
            " |-- inputs: vector (nullable = true)\n",
            " |-- class_type: integer (nullable = true)\n",
            "\n"
          ]
        }
      ]
    },
    {
      "cell_type": "markdown",
      "source": [
        "Dividimos el conjunto de datos en train y test. Vamos a considerar una partición del tipo 80/20"
      ],
      "metadata": {
        "id": "2G2US5dkXqmm"
      }
    },
    {
      "cell_type": "code",
      "source": [
        "trainData,testData = df.randomSplit([0.8,0.2])"
      ],
      "metadata": {
        "id": "X12qbtC7Xx2r"
      },
      "execution_count": 60,
      "outputs": []
    },
    {
      "cell_type": "markdown",
      "source": [
        "Indicamos qué atributos serán las entradas y cuales serán la salida. Finalmente, entrenamos y testeamos con trainData y testData, y mostramos las predicciones"
      ],
      "metadata": {
        "id": "hZKWsevfX_aa"
      }
    },
    {
      "cell_type": "code",
      "source": [
        "from pyspark.ml.classification import DecisionTreeClassifier\n",
        "\n",
        "dt = DecisionTreeClassifier(featuresCol = 'inputs', labelCol = 'Class', maxDepth = 3)\n",
        "\n",
        "#Entrenamos el modelo con el conjunto de train\n",
        "model = dt.fit(trainData)\n",
        "\n",
        "#Hacemos predicciones\n",
        "predictions = model.transform(testData)\n",
        "\n",
        "#Mostramos las predicciones\n",
        "predictions.select('Class', 'prediction').show()"
      ],
      "metadata": {
        "colab": {
          "base_uri": "https://localhost:8080/"
        },
        "id": "sZA95wApX-hm",
        "outputId": "e53a92cd-0711-4cbb-e4ea-9715a54b9f9d"
      },
      "execution_count": 61,
      "outputs": [
        {
          "output_type": "stream",
          "name": "stdout",
          "text": [
            "+-----+----------+\n",
            "|Class|prediction|\n",
            "+-----+----------+\n",
            "|  0.0|       0.0|\n",
            "|  0.0|       0.0|\n",
            "|  0.0|       0.0|\n",
            "|  0.0|       0.0|\n",
            "|  0.0|       0.0|\n",
            "|  0.0|       0.0|\n",
            "|  0.0|       0.0|\n",
            "|  1.0|       1.0|\n",
            "|  1.0|       1.0|\n",
            "|  1.0|       1.0|\n",
            "|  1.0|       1.0|\n",
            "|  4.0|       3.0|\n",
            "|  6.0|       3.0|\n",
            "|  6.0|       3.0|\n",
            "|  2.0|       2.0|\n",
            "|  2.0|       2.0|\n",
            "|  2.0|       2.0|\n",
            "|  6.0|       3.0|\n",
            "|  2.0|       2.0|\n",
            "|  2.0|       2.0|\n",
            "+-----+----------+\n",
            "only showing top 20 rows\n",
            "\n"
          ]
        }
      ]
    },
    {
      "cell_type": "markdown",
      "source": [
        "Mostramos resultados del modelo en test"
      ],
      "metadata": {
        "id": "Xrj35xtmlhLh"
      }
    },
    {
      "cell_type": "code",
      "source": [
        "from pyspark.ml.evaluation import MulticlassClassificationEvaluator\n",
        "from sklearn.metrics import confusion_matrix, ConfusionMatrixDisplay\n",
        "\n",
        "evaluator = MulticlassClassificationEvaluator(labelCol=\"Class\", predictionCol=\"prediction\", metricName = \"accuracy\")\n",
        "accuracy = evaluator.evaluate(predictions)\n",
        "print(\"Test Error = %g\" % (1.0 - accuracy))\n",
        "print(\"Accuracy = %g \" % accuracy)\n",
        "\n",
        "y_pred=predictions.select(\"prediction\").collect()\n",
        "y_orig=predictions.select(\"Class\").collect()\n",
        "\n",
        "cm = confusion_matrix(y_orig, y_pred)\n",
        "cm_display = ConfusionMatrixDisplay(cm).plot()"
      ],
      "metadata": {
        "colab": {
          "base_uri": "https://localhost:8080/",
          "height": 318
        },
        "id": "wYJpi7q9lgNj",
        "outputId": "cce5fa10-e741-47ae-f2c2-0a1bb58c0316"
      },
      "execution_count": 64,
      "outputs": [
        {
          "output_type": "stream",
          "name": "stdout",
          "text": [
            "Test Error = 0.217391\n",
            "Accuracy = 0.782609 \n"
          ]
        },
        {
          "output_type": "display_data",
          "data": {
            "text/plain": [
              "<Figure size 432x288 with 2 Axes>"
            ],
            "image/png": "[encoded data removed]"
          },
          "metadata": {
            "needs_background": "light"
          }
        }
      ]
    },
    {
      "cell_type": "markdown",
      "source": [
        "Mostramos el arbol resultado del modelo"
      ],
      "metadata": {
        "id": "y0NyNLDMN7Zq"
      }
    },
    {
      "cell_type": "code",
      "source": [
        "print(model.toDebugString)"
      ],
      "metadata": {
        "colab": {
          "base_uri": "https://localhost:8080/"
        },
        "id": "XrBou2GwN-VL",
        "outputId": "274e8091-e679-4630-ece3-884a3971bc94"
      },
      "execution_count": 65,
      "outputs": [
        {
          "output_type": "stream",
          "name": "stdout",
          "text": [
            "DecisionTreeClassificationModel: uid=DecisionTreeClassifier_80646c6ddbc5, depth=3, numNodes=7, numClasses=7, numFeatures=16\n",
            "  If (feature 3 <= 0.5)\n",
            "   If (feature 1 <= 0.5)\n",
            "    If (feature 11 <= 0.5)\n",
            "     Predict: 3.0\n",
            "    Else (feature 11 > 0.5)\n",
            "     Predict: 2.0\n",
            "   Else (feature 1 > 0.5)\n",
            "    Predict: 1.0\n",
            "  Else (feature 3 > 0.5)\n",
            "   Predict: 0.0\n",
            "\n"
          ]
        }
      ]
    },
    {
      "cell_type": "markdown",
      "source": [
        "# **Prueba dataset Zoo con Red Neuronal**"
      ],
      "metadata": {
        "id": "s4MEavopBBO5"
      }
    },
    {
      "cell_type": "markdown",
      "source": [
        "Ejecutamos una sesion local de spark para comprobar que esta funcionando."
      ],
      "metadata": {
        "id": "XXj1UZEXBKRr"
      }
    },
    {
      "cell_type": "code",
      "source": [
        "import findspark\n",
        "findspark.init()\n",
        "from pyspark.sql import SparkSession\n",
        "spark = SparkSession.builder.master(\"local[*]\").getOrCreate()"
      ],
      "metadata": {
        "id": "KviCqJl9BKRw"
      },
      "execution_count": 66,
      "outputs": []
    },
    {
      "cell_type": "markdown",
      "source": [
        "Importamos el conjunto de datos con el que queremos trabajar y comprobamos que se ha subido correctamente"
      ],
      "metadata": {
        "id": "kUrNBJZIBKR1"
      }
    },
    {
      "cell_type": "code",
      "source": [
        "from google.colab import files\n",
        "uploaded = files.upload()\n",
        "\n",
        "!ls"
      ],
      "metadata": {
        "colab": {
          "base_uri": "https://localhost:8080/",
          "height": 125
        },
        "outputId": "a7e47930-3657-40da-d807-42fd083bc2a0",
        "id": "LJOJX41JBKR4"
      },
      "execution_count": 67,
      "outputs": [
        {
          "output_type": "display_data",
          "data": {
            "text/plain": [
              "<IPython.core.display.HTML object>"
            ],
            "text/html": [
              "\n",
              "     <input type=\"file\" id=\"files-b74fb52e-1567-40aa-b7ed-276d1d52da3d\" name=\"files[]\" multiple disabled\n",
              "        style=\"border:none\" />\n",
              "     <output id=\"result-b74fb52e-1567-40aa-b7ed-276d1d52da3d\">\n",
              "      Upload widget is only available when the cell has been executed in the\n",
              "      current browser session. Please rerun this cell to enable.\n",
              "      </output>\n",
              "      <script>// Copyright 2017 Google LLC\n",
              "//\n",
              "// Licensed under the Apache License, Version 2.0 (the \"License\");\n",
              "// you may not use this file except in compliance with the License.\n",
              "// You may obtain a copy of the License at\n",
              "//\n",
              "//      http://www.apache.org/licenses/LICENSE-2.0\n",
              "//\n",
              "// Unless required by applicable law or agreed to in writing, software\n",
              "// distributed under the License is distributed on an \"AS IS\" BASIS,\n",
              "// WITHOUT WARRANTIES OR CONDITIONS OF ANY KIND, either express or implied.\n",
              "// See the License for the specific language governing permissions and\n",
              "// limitations under the License.\n",
              "\n",
              "/**\n",
              " * @fileoverview Helpers for google.colab Python module.\n",
              " */\n",
              "(function(scope) {\n",
              "function span(text, styleAttributes = {}) {\n",
              "  const element = document.createElement('span');\n",
              "  element.textContent = text;\n",
              "  for (const key of Object.keys(styleAttributes)) {\n",
              "    element.style[key] = styleAttributes[key];\n",
              "  }\n",
              "  return element;\n",
              "}\n",
              "\n",
              "// Max number of bytes which will be uploaded at a time.\n",
              "const MAX_PAYLOAD_SIZE = 100 * 1024;\n",
              "\n",
              "function _uploadFiles(inputId, outputId) {\n",
              "  const steps = uploadFilesStep(inputId, outputId);\n",
              "  const outputElement = document.getElementById(outputId);\n",
              "  // Cache steps on the outputElement to make it available for the next call\n",
              "  // to uploadFilesContinue from Python.\n",
              "  outputElement.steps = steps;\n",
              "\n",
              "  return _uploadFilesContinue(outputId);\n",
              "}\n",
              "\n",
              "// This is roughly an async generator (not supported in the browser yet),\n",
              "// where there are multiple asynchronous steps and the Python side is going\n",
              "// to poll for completion of each step.\n",
              "// This uses a Promise to block the python side on completion of each step,\n",
              "// then passes the result of the previous step as the input to the next step.\n",
              "function _uploadFilesContinue(outputId) {\n",
              "  const outputElement = document.getElementById(outputId);\n",
              "  const steps = outputElement.steps;\n",
              "\n",
              "  const next = steps.next(outputElement.lastPromiseValue);\n",
              "  return Promise.resolve(next.value.promise).then((value) => {\n",
              "    // Cache the last promise value to make it available to the next\n",
              "    // step of the generator.\n",
              "    outputElement.lastPromiseValue = value;\n",
              "    return next.value.response;\n",
              "  });\n",
              "}\n",
              "\n",
              "/**\n",
              " * Generator function which is called between each async step of the upload\n",
              " * process.\n",
              " * @param {string} inputId Element ID of the input file picker element.\n",
              " * @param {string} outputId Element ID of the output display.\n",
              " * @return {!Iterable<!Object>} Iterable of next steps.\n",
              " */\n",
              "function* uploadFilesStep(inputId, outputId) {\n",
              "  const inputElement = document.getElementById(inputId);\n",
              "  inputElement.disabled = false;\n",
              "\n",
              "  const outputElement = document.getElementById(outputId);\n",
              "  outputElement.innerHTML = '';\n",
              "\n",
              "  const pickedPromise = new Promise((resolve) => {\n",
              "    inputElement.addEventListener('change', (e) => {\n",
              "      resolve(e.target.files);\n",
              "    });\n",
              "  });\n",
              "\n",
              "  const cancel = document.createElement('button');\n",
              "  inputElement.parentElement.appendChild(cancel);\n",
              "  cancel.textContent = 'Cancel upload';\n",
              "  const cancelPromise = new Promise((resolve) => {\n",
              "    cancel.onclick = () => {\n",
              "      resolve(null);\n",
              "    };\n",
              "  });\n",
              "\n",
              "  // Wait for the user to pick the files.\n",
              "  const files = yield {\n",
              "    promise: Promise.race([pickedPromise, cancelPromise]),\n",
              "    response: {\n",
              "      action: 'starting',\n",
              "    }\n",
              "  };\n",
              "\n",
              "  cancel.remove();\n",
              "\n",
              "  // Disable the input element since further picks are not allowed.\n",
              "  inputElement.disabled = true;\n",
              "\n",
              "  if (!files) {\n",
              "    return {\n",
              "      response: {\n",
              "        action: 'complete',\n",
              "      }\n",
              "    };\n",
              "  }\n",
              "\n",
              "  for (const file of files) {\n",
              "    const li = document.createElement('li');\n",
              "    li.append(span(file.name, {fontWeight: 'bold'}));\n",
              "    li.append(span(\n",
              "        `(${file.type || 'n/a'}) - ${file.size} bytes, ` +\n",
              "        `last modified: ${\n",
              "            file.lastModifiedDate ? file.lastModifiedDate.toLocaleDateString() :\n",
              "                                    'n/a'} - `));\n",
              "    const percent = span('0% done');\n",
              "    li.appendChild(percent);\n",
              "\n",
              "    outputElement.appendChild(li);\n",
              "\n",
              "    const fileDataPromise = new Promise((resolve) => {\n",
              "      const reader = new FileReader();\n",
              "      reader.onload = (e) => {\n",
              "        resolve(e.target.result);\n",
              "      };\n",
              "      reader.readAsArrayBuffer(file);\n",
              "    });\n",
              "    // Wait for the data to be ready.\n",
              "    let fileData = yield {\n",
              "      promise: fileDataPromise,\n",
              "      response: {\n",
              "        action: 'continue',\n",
              "      }\n",
              "    };\n",
              "\n",
              "    // Use a chunked sending to avoid message size limits. See b/62115660.\n",
              "    let position = 0;\n",
              "    do {\n",
              "      const length = Math.min(fileData.byteLength - position, MAX_PAYLOAD_SIZE);\n",
              "      const chunk = new Uint8Array(fileData, position, length);\n",
              "      position += length;\n",
              "\n",
              "      const base64 = btoa(String.fromCharCode.apply(null, chunk));\n",
              "      yield {\n",
              "        response: {\n",
              "          action: 'append',\n",
              "          file: file.name,\n",
              "          data: base64,\n",
              "        },\n",
              "      };\n",
              "\n",
              "      let percentDone = fileData.byteLength === 0 ?\n",
              "          100 :\n",
              "          Math.round((position / fileData.byteLength) * 100);\n",
              "      percent.textContent = `${percentDone}% done`;\n",
              "\n",
              "    } while (position < fileData.byteLength);\n",
              "  }\n",
              "\n",
              "  // All done.\n",
              "  yield {\n",
              "    response: {\n",
              "      action: 'complete',\n",
              "    }\n",
              "  };\n",
              "}\n",
              "\n",
              "scope.google = scope.google || {};\n",
              "scope.google.colab = scope.google.colab || {};\n",
              "scope.google.colab._files = {\n",
              "  _uploadFiles,\n",
              "  _uploadFilesContinue,\n",
              "};\n",
              "})(self);\n",
              "</script> "
            ]
          },
          "metadata": {}
        },
        {
          "output_type": "stream",
          "name": "stdout",
          "text": [
            "Saving zoo.csv to zoo (4).csv\n",
            " sample_data\t\t\t'zoo (1).csv'  'zoo (4).csv'\n",
            " spark-3.0.0-bin-hadoop3.2\t'zoo (2).csv'   zoo.csv\n",
            " spark-3.0.0-bin-hadoop3.2.tgz\t'zoo (3).csv'\n"
          ]
        }
      ]
    },
    {
      "cell_type": "markdown",
      "source": [
        "Leemos el dataset con el que queremos trabajar, en este caso vamos a trabajar con el dataset de zoo\n",
        "\n",
        "\n"
      ],
      "metadata": {
        "id": "PeriAYNTjFly"
      }
    },
    {
      "cell_type": "code",
      "source": [
        "dataset = spark.read.csv('zoo.csv',inferSchema=True, header =True)"
      ],
      "metadata": {
        "id": "pbkg9z7bjFl4"
      },
      "execution_count": 68,
      "outputs": []
    },
    {
      "cell_type": "markdown",
      "source": [
        "Mostramos los atributos que tiene el dataset y su tipo"
      ],
      "metadata": {
        "id": "4lK4SAM0jFl_"
      }
    },
    {
      "cell_type": "code",
      "source": [
        "dataset.printSchema()"
      ],
      "metadata": {
        "colab": {
          "base_uri": "https://localhost:8080/"
        },
        "outputId": "c66da26b-9b3e-4ce4-d1f0-0080acb0779f",
        "id": "F5CxxbZljFmD"
      },
      "execution_count": 69,
      "outputs": [
        {
          "output_type": "stream",
          "name": "stdout",
          "text": [
            "root\n",
            " |-- animal_name: string (nullable = true)\n",
            " |-- hair: integer (nullable = true)\n",
            " |-- feathers: integer (nullable = true)\n",
            " |-- eggs: integer (nullable = true)\n",
            " |-- milk: integer (nullable = true)\n",
            " |-- airborne: integer (nullable = true)\n",
            " |-- aquatic: integer (nullable = true)\n",
            " |-- predator: integer (nullable = true)\n",
            " |-- toothed: integer (nullable = true)\n",
            " |-- backbone: integer (nullable = true)\n",
            " |-- breathes: integer (nullable = true)\n",
            " |-- venomous: integer (nullable = true)\n",
            " |-- fins: integer (nullable = true)\n",
            " |-- legs: integer (nullable = true)\n",
            " |-- tail: integer (nullable = true)\n",
            " |-- domestic: integer (nullable = true)\n",
            " |-- catsize: integer (nullable = true)\n",
            " |-- class_type: integer (nullable = true)\n",
            "\n"
          ]
        }
      ]
    },
    {
      "cell_type": "markdown",
      "source": [
        "Ahora vamos a trabajar con todas las variables y la varible variety será la salida. Creamos un conjunto de datos donde los inputs serán un vector"
      ],
      "metadata": {
        "id": "UmDJmKHMjFmH"
      }
    },
    {
      "cell_type": "code",
      "source": [
        "from pyspark.ml.feature import VectorAssembler\n",
        "from pyspark.ml.feature import StringIndexer\n",
        "\n",
        "df = VectorAssembler(inputCols=['hair', 'feathers', 'eggs', 'milk', 'airborne', 'aquatic', 'predator', 'toothed', 'backbone', 'breathes', 'venomous', \n",
        "                                'fins', 'legs', 'tail', 'domestic', 'catsize'], \n",
        "                     outputCol = 'inputs').transform(dataset)\n",
        "\n",
        "df = df.select(['inputs','class_type'])\n",
        "\n",
        "df.printSchema()\n",
        "\n",
        "labelIndexer = StringIndexer(inputCol='class_type', outputCol='Class').fit(df)\n",
        "df = labelIndexer.transform(df)"
      ],
      "metadata": {
        "colab": {
          "base_uri": "https://localhost:8080/"
        },
        "outputId": "98566ca5-2de9-48e6-8530-d3db14ed9822",
        "id": "ENW4bjjdjFmK"
      },
      "execution_count": 70,
      "outputs": [
        {
          "output_type": "stream",
          "name": "stdout",
          "text": [
            "root\n",
            " |-- inputs: vector (nullable = true)\n",
            " |-- class_type: integer (nullable = true)\n",
            "\n"
          ]
        }
      ]
    },
    {
      "cell_type": "markdown",
      "source": [
        "Dividimos el conjunto de datos en train y test. Vamos a considerar una partición del tipo 80/20"
      ],
      "metadata": {
        "id": "JKw4sTUAg84n"
      }
    },
    {
      "cell_type": "code",
      "source": [
        "trainData,testData = df.randomSplit([0.8,0.2])"
      ],
      "metadata": {
        "id": "K1F4_Cr5g84s"
      },
      "execution_count": 71,
      "outputs": []
    },
    {
      "cell_type": "markdown",
      "source": [
        "Realizamos el mismo proceso pero para el modelo svm de la libreria mllib."
      ],
      "metadata": {
        "id": "HsMdIPZ6eazH"
      }
    },
    {
      "cell_type": "code",
      "source": [
        "from pyspark.ml.classification import MultilayerPerceptronClassifier\n",
        "\n",
        "# especificamos las capas de la red neuronal:\n",
        "# capa de entrada de 16 neuronas (atributos), dos capas intermedias de 5 y 4\n",
        "# y salida de tamaño 7 (clases posibles)\n",
        "layers = [16, 5, 4, 7]\n",
        "\n",
        "dt = MultilayerPerceptronClassifier(featuresCol = 'inputs', labelCol = 'Class', maxIter=100, layers=layers, blockSize=128, seed=1234)\n",
        "\n",
        "#Entrenamos el modelo con el conjunto de train\n",
        "model = dt.fit(trainData)\n",
        "\n",
        "#Hacemos predicciones\n",
        "predictions = model.transform(testData)\n",
        "\n",
        "#Mostramos las predicciones\n",
        "predictions.select('Class', 'prediction').show()"
      ],
      "metadata": {
        "colab": {
          "base_uri": "https://localhost:8080/"
        },
        "outputId": "57faa209-a38f-4472-8d0a-f9dbba4bf410",
        "id": "H6zQsiDMeazP"
      },
      "execution_count": 72,
      "outputs": [
        {
          "output_type": "stream",
          "name": "stdout",
          "text": [
            "+-----+----------+\n",
            "|Class|prediction|\n",
            "+-----+----------+\n",
            "|  0.0|       0.0|\n",
            "|  0.0|       0.0|\n",
            "|  0.0|       0.0|\n",
            "|  0.0|       0.0|\n",
            "|  0.0|       0.0|\n",
            "|  0.0|       0.0|\n",
            "|  0.0|       0.0|\n",
            "|  0.0|       0.0|\n",
            "|  1.0|       1.0|\n",
            "|  1.0|       1.0|\n",
            "|  1.0|       1.0|\n",
            "|  1.0|       1.0|\n",
            "|  1.0|       1.0|\n",
            "|  1.0|       1.0|\n",
            "|  1.0|       1.0|\n",
            "|  4.0|       4.0|\n",
            "|  2.0|       2.0|\n",
            "|  2.0|       2.0|\n",
            "|  3.0|       5.0|\n",
            "|  5.0|       0.0|\n",
            "+-----+----------+\n",
            "only showing top 20 rows\n",
            "\n"
          ]
        }
      ]
    },
    {
      "cell_type": "markdown",
      "source": [
        "Mostramos resultados del modelo en test"
      ],
      "metadata": {
        "id": "shys3Or2eazX"
      }
    },
    {
      "cell_type": "code",
      "source": [
        "from pyspark.ml.evaluation import MulticlassClassificationEvaluator\n",
        "from sklearn.metrics import confusion_matrix, ConfusionMatrixDisplay\n",
        "\n",
        "evaluator = MulticlassClassificationEvaluator(labelCol=\"Class\", predictionCol=\"prediction\", metricName = \"accuracy\")\n",
        "accuracy = evaluator.evaluate(predictions)\n",
        "print(\"Test Error = %g\" % (1.0 - accuracy))\n",
        "print(\"Accuracy = %g \" % accuracy)\n",
        "\n",
        "y_pred=predictions.select(\"prediction\").collect()\n",
        "y_orig=predictions.select(\"Class\").collect()\n",
        "\n",
        "cm = confusion_matrix(y_orig, y_pred)\n",
        "cm_display = ConfusionMatrixDisplay(cm).plot()"
      ],
      "metadata": {
        "colab": {
          "base_uri": "https://localhost:8080/",
          "height": 318
        },
        "outputId": "57926617-bcb0-4dbb-8386-853bf7311fef",
        "id": "n-UjnjX-eazc"
      },
      "execution_count": 73,
      "outputs": [
        {
          "output_type": "stream",
          "name": "stdout",
          "text": [
            "Test Error = 0.130435\n",
            "Accuracy = 0.869565 \n"
          ]
        },
        {
          "output_type": "display_data",
          "data": {
            "text/plain": [
              "<Figure size 432x288 with 2 Axes>"
            ],
            "image/png": "[encoded data removed]"
          },
          "metadata": {
            "needs_background": "light"
          }
        }
      ]
    },
    {
      "cell_type": "code",
      "source": [
        "spark.stop() "
      ],
      "metadata": {
        "id": "QmS6t4hTiYvD"
      },
      "execution_count": 74,
      "outputs": []
    },
    {
      "cell_type": "markdown",
      "source": [
        "# **Prueba dataset Zoo con SVM lineal**"
      ],
      "metadata": {
        "id": "1XL9oOXFCPCu"
      }
    },
    {
      "cell_type": "markdown",
      "source": [
        "Ejecutamos una sesion local de spark para comprobar que esta funcionando."
      ],
      "metadata": {
        "id": "Yq5VMlFlCPCz"
      }
    },
    {
      "cell_type": "code",
      "source": [
        "import findspark\n",
        "findspark.init()\n",
        "from pyspark.sql import SparkSession\n",
        "spark = SparkSession.builder.master(\"local[*]\").getOrCreate()"
      ],
      "metadata": {
        "id": "0wOFkDDoCPC3"
      },
      "execution_count": 75,
      "outputs": []
    },
    {
      "cell_type": "markdown",
      "source": [
        "Importamos el conjunto de datos con el que queremos trabajar y comprobamos que se ha subido correctamente"
      ],
      "metadata": {
        "id": "K1tA3peUCPC8"
      }
    },
    {
      "cell_type": "code",
      "source": [
        "from google.colab import files\n",
        "uploaded = files.upload()\n",
        "\n",
        "!ls"
      ],
      "metadata": {
        "colab": {
          "base_uri": "https://localhost:8080/",
          "height": 125
        },
        "outputId": "fe377554-1794-41cf-e8aa-f5e4b6497543",
        "id": "6spzkY4lCPC_"
      },
      "execution_count": 76,
      "outputs": [
        {
          "output_type": "display_data",
          "data": {
            "text/plain": [
              "<IPython.core.display.HTML object>"
            ],
            "text/html": [
              "\n",
              "     <input type=\"file\" id=\"files-cd295614-cec2-44f5-afb9-3a9e3e29623f\" name=\"files[]\" multiple disabled\n",
              "        style=\"border:none\" />\n",
              "     <output id=\"result-cd295614-cec2-44f5-afb9-3a9e3e29623f\">\n",
              "      Upload widget is only available when the cell has been executed in the\n",
              "      current browser session. Please rerun this cell to enable.\n",
              "      </output>\n",
              "      <script>// Copyright 2017 Google LLC\n",
              "//\n",
              "// Licensed under the Apache License, Version 2.0 (the \"License\");\n",
              "// you may not use this file except in compliance with the License.\n",
              "// You may obtain a copy of the License at\n",
              "//\n",
              "//      http://www.apache.org/licenses/LICENSE-2.0\n",
              "//\n",
              "// Unless required by applicable law or agreed to in writing, software\n",
              "// distributed under the License is distributed on an \"AS IS\" BASIS,\n",
              "// WITHOUT WARRANTIES OR CONDITIONS OF ANY KIND, either express or implied.\n",
              "// See the License for the specific language governing permissions and\n",
              "// limitations under the License.\n",
              "\n",
              "/**\n",
              " * @fileoverview Helpers for google.colab Python module.\n",
              " */\n",
              "(function(scope) {\n",
              "function span(text, styleAttributes = {}) {\n",
              "  const element = document.createElement('span');\n",
              "  element.textContent = text;\n",
              "  for (const key of Object.keys(styleAttributes)) {\n",
              "    element.style[key] = styleAttributes[key];\n",
              "  }\n",
              "  return element;\n",
              "}\n",
              "\n",
              "// Max number of bytes which will be uploaded at a time.\n",
              "const MAX_PAYLOAD_SIZE = 100 * 1024;\n",
              "\n",
              "function _uploadFiles(inputId, outputId) {\n",
              "  const steps = uploadFilesStep(inputId, outputId);\n",
              "  const outputElement = document.getElementById(outputId);\n",
              "  // Cache steps on the outputElement to make it available for the next call\n",
              "  // to uploadFilesContinue from Python.\n",
              "  outputElement.steps = steps;\n",
              "\n",
              "  return _uploadFilesContinue(outputId);\n",
              "}\n",
              "\n",
              "// This is roughly an async generator (not supported in the browser yet),\n",
              "// where there are multiple asynchronous steps and the Python side is going\n",
              "// to poll for completion of each step.\n",
              "// This uses a Promise to block the python side on completion of each step,\n",
              "// then passes the result of the previous step as the input to the next step.\n",
              "function _uploadFilesContinue(outputId) {\n",
              "  const outputElement = document.getElementById(outputId);\n",
              "  const steps = outputElement.steps;\n",
              "\n",
              "  const next = steps.next(outputElement.lastPromiseValue);\n",
              "  return Promise.resolve(next.value.promise).then((value) => {\n",
              "    // Cache the last promise value to make it available to the next\n",
              "    // step of the generator.\n",
              "    outputElement.lastPromiseValue = value;\n",
              "    return next.value.response;\n",
              "  });\n",
              "}\n",
              "\n",
              "/**\n",
              " * Generator function which is called between each async step of the upload\n",
              " * process.\n",
              " * @param {string} inputId Element ID of the input file picker element.\n",
              " * @param {string} outputId Element ID of the output display.\n",
              " * @return {!Iterable<!Object>} Iterable of next steps.\n",
              " */\n",
              "function* uploadFilesStep(inputId, outputId) {\n",
              "  const inputElement = document.getElementById(inputId);\n",
              "  inputElement.disabled = false;\n",
              "\n",
              "  const outputElement = document.getElementById(outputId);\n",
              "  outputElement.innerHTML = '';\n",
              "\n",
              "  const pickedPromise = new Promise((resolve) => {\n",
              "    inputElement.addEventListener('change', (e) => {\n",
              "      resolve(e.target.files);\n",
              "    });\n",
              "  });\n",
              "\n",
              "  const cancel = document.createElement('button');\n",
              "  inputElement.parentElement.appendChild(cancel);\n",
              "  cancel.textContent = 'Cancel upload';\n",
              "  const cancelPromise = new Promise((resolve) => {\n",
              "    cancel.onclick = () => {\n",
              "      resolve(null);\n",
              "    };\n",
              "  });\n",
              "\n",
              "  // Wait for the user to pick the files.\n",
              "  const files = yield {\n",
              "    promise: Promise.race([pickedPromise, cancelPromise]),\n",
              "    response: {\n",
              "      action: 'starting',\n",
              "    }\n",
              "  };\n",
              "\n",
              "  cancel.remove();\n",
              "\n",
              "  // Disable the input element since further picks are not allowed.\n",
              "  inputElement.disabled = true;\n",
              "\n",
              "  if (!files) {\n",
              "    return {\n",
              "      response: {\n",
              "        action: 'complete',\n",
              "      }\n",
              "    };\n",
              "  }\n",
              "\n",
              "  for (const file of files) {\n",
              "    const li = document.createElement('li');\n",
              "    li.append(span(file.name, {fontWeight: 'bold'}));\n",
              "    li.append(span(\n",
              "        `(${file.type || 'n/a'}) - ${file.size} bytes, ` +\n",
              "        `last modified: ${\n",
              "            file.lastModifiedDate ? file.lastModifiedDate.toLocaleDateString() :\n",
              "                                    'n/a'} - `));\n",
              "    const percent = span('0% done');\n",
              "    li.appendChild(percent);\n",
              "\n",
              "    outputElement.appendChild(li);\n",
              "\n",
              "    const fileDataPromise = new Promise((resolve) => {\n",
              "      const reader = new FileReader();\n",
              "      reader.onload = (e) => {\n",
              "        resolve(e.target.result);\n",
              "      };\n",
              "      reader.readAsArrayBuffer(file);\n",
              "    });\n",
              "    // Wait for the data to be ready.\n",
              "    let fileData = yield {\n",
              "      promise: fileDataPromise,\n",
              "      response: {\n",
              "        action: 'continue',\n",
              "      }\n",
              "    };\n",
              "\n",
              "    // Use a chunked sending to avoid message size limits. See b/62115660.\n",
              "    let position = 0;\n",
              "    do {\n",
              "      const length = Math.min(fileData.byteLength - position, MAX_PAYLOAD_SIZE);\n",
              "      const chunk = new Uint8Array(fileData, position, length);\n",
              "      position += length;\n",
              "\n",
              "      const base64 = btoa(String.fromCharCode.apply(null, chunk));\n",
              "      yield {\n",
              "        response: {\n",
              "          action: 'append',\n",
              "          file: file.name,\n",
              "          data: base64,\n",
              "        },\n",
              "      };\n",
              "\n",
              "      let percentDone = fileData.byteLength === 0 ?\n",
              "          100 :\n",
              "          Math.round((position / fileData.byteLength) * 100);\n",
              "      percent.textContent = `${percentDone}% done`;\n",
              "\n",
              "    } while (position < fileData.byteLength);\n",
              "  }\n",
              "\n",
              "  // All done.\n",
              "  yield {\n",
              "    response: {\n",
              "      action: 'complete',\n",
              "    }\n",
              "  };\n",
              "}\n",
              "\n",
              "scope.google = scope.google || {};\n",
              "scope.google.colab = scope.google.colab || {};\n",
              "scope.google.colab._files = {\n",
              "  _uploadFiles,\n",
              "  _uploadFilesContinue,\n",
              "};\n",
              "})(self);\n",
              "</script> "
            ]
          },
          "metadata": {}
        },
        {
          "output_type": "stream",
          "name": "stdout",
          "text": [
            "Saving zoo.csv to zoo (5).csv\n",
            " sample_data\t\t\t'zoo (1).csv'  'zoo (4).csv'\n",
            " spark-3.0.0-bin-hadoop3.2\t'zoo (2).csv'  'zoo (5).csv'\n",
            " spark-3.0.0-bin-hadoop3.2.tgz\t'zoo (3).csv'   zoo.csv\n"
          ]
        }
      ]
    },
    {
      "cell_type": "markdown",
      "source": [
        "Leemos el dataset con el que queremos trabajar, en este caso vamos a trabajar con el dataset de zoo\n",
        "\n",
        "\n"
      ],
      "metadata": {
        "id": "nBGp2OV3CPDE"
      }
    },
    {
      "cell_type": "code",
      "source": [
        "dataset = spark.read.csv('zoo.csv',inferSchema=True, header =True)"
      ],
      "metadata": {
        "id": "-kXc_ZaCCPDH"
      },
      "execution_count": 77,
      "outputs": []
    },
    {
      "cell_type": "markdown",
      "source": [
        "Mostramos los atributos que tiene el dataset y su tipo"
      ],
      "metadata": {
        "id": "e5W2E-_rCPDJ"
      }
    },
    {
      "cell_type": "code",
      "source": [
        "dataset.printSchema()"
      ],
      "metadata": {
        "colab": {
          "base_uri": "https://localhost:8080/"
        },
        "outputId": "bb9f9b1e-d696-405a-e2d7-06f8bb6b2f82",
        "id": "pbWyI2gdCPDL"
      },
      "execution_count": 78,
      "outputs": [
        {
          "output_type": "stream",
          "name": "stdout",
          "text": [
            "root\n",
            " |-- animal_name: string (nullable = true)\n",
            " |-- hair: integer (nullable = true)\n",
            " |-- feathers: integer (nullable = true)\n",
            " |-- eggs: integer (nullable = true)\n",
            " |-- milk: integer (nullable = true)\n",
            " |-- airborne: integer (nullable = true)\n",
            " |-- aquatic: integer (nullable = true)\n",
            " |-- predator: integer (nullable = true)\n",
            " |-- toothed: integer (nullable = true)\n",
            " |-- backbone: integer (nullable = true)\n",
            " |-- breathes: integer (nullable = true)\n",
            " |-- venomous: integer (nullable = true)\n",
            " |-- fins: integer (nullable = true)\n",
            " |-- legs: integer (nullable = true)\n",
            " |-- tail: integer (nullable = true)\n",
            " |-- domestic: integer (nullable = true)\n",
            " |-- catsize: integer (nullable = true)\n",
            " |-- class_type: integer (nullable = true)\n",
            "\n"
          ]
        }
      ]
    },
    {
      "cell_type": "markdown",
      "source": [
        "Ahora vamos a trabajar con todas las variables y la varible variety será la salida. Creamos un conjunto de datos donde los inputs serán un vector"
      ],
      "metadata": {
        "id": "BIUz9Oq-CPDP"
      }
    },
    {
      "cell_type": "code",
      "source": [
        "from pyspark.ml.feature import VectorAssembler\n",
        "from pyspark.ml.feature import StringIndexer\n",
        "\n",
        "df = VectorAssembler(inputCols=['hair', 'feathers', 'eggs', 'milk', 'airborne', 'aquatic', 'predator', 'toothed', 'backbone', 'breathes', 'venomous', \n",
        "                                'fins', 'legs', 'tail', 'domestic', 'catsize'], \n",
        "                     outputCol = 'features').transform(dataset)\n",
        "\n",
        "df = df.select(['features','class_type'])\n",
        "\n",
        "df.printSchema()\n",
        "\n",
        "labelIndexer = StringIndexer(inputCol='class_type', outputCol='label').fit(df)\n",
        "df = labelIndexer.transform(df)"
      ],
      "metadata": {
        "colab": {
          "base_uri": "https://localhost:8080/"
        },
        "outputId": "22ea7549-9402-4d44-c3b5-980e3b9b0242",
        "id": "DP7WNkZfCPDR"
      },
      "execution_count": 79,
      "outputs": [
        {
          "output_type": "stream",
          "name": "stdout",
          "text": [
            "root\n",
            " |-- features: vector (nullable = true)\n",
            " |-- class_type: integer (nullable = true)\n",
            "\n"
          ]
        }
      ]
    },
    {
      "cell_type": "markdown",
      "source": [
        "Dividimos el conjunto de datos en train y test. Vamos a considerar una partición del tipo 80/20"
      ],
      "metadata": {
        "id": "LgosY_mMCPDV"
      }
    },
    {
      "cell_type": "code",
      "source": [
        "#tmp\n",
        "print(df)"
      ],
      "metadata": {
        "colab": {
          "base_uri": "https://localhost:8080/"
        },
        "id": "E6aMJIF-LAxA",
        "outputId": "b5afaa32-a62a-4292-9a49-c8362b398f0f"
      },
      "execution_count": 80,
      "outputs": [
        {
          "output_type": "stream",
          "name": "stdout",
          "text": [
            "DataFrame[features: vector, class_type: int, label: double]\n"
          ]
        }
      ]
    },
    {
      "cell_type": "code",
      "source": [
        "trainData,testData = df.randomSplit([0.8,0.2])"
      ],
      "metadata": {
        "id": "oIiM31hECPDW"
      },
      "execution_count": 81,
      "outputs": []
    },
    {
      "cell_type": "markdown",
      "source": [
        "Realizamos el mismo proceso pero para el modelo svm de la libreria mllib."
      ],
      "metadata": {
        "id": "W6ZEtCgRCPDX"
      }
    },
    {
      "cell_type": "code",
      "source": [
        "from pyspark.ml.classification import LinearSVC, OneVsRest, LogisticRegression\n",
        "\n",
        "#creamos el modelo de svc lineal\n",
        "lr = LogisticRegression(maxIter=10, tol=1E-6, fitIntercept=True)\n",
        "\n",
        "# instanciamos the One Vs Rest Classifier.\n",
        "ovr = OneVsRest(classifier=lr)\n",
        "\n",
        "#Entrenamos el modelo con el conjunto de train\n",
        "model = ovr.fit(trainData)\n",
        "\n",
        "#Hacemos predicciones\n",
        "predictions = model.transform(testData)\n",
        "\n",
        "#Mostramos las predicciones\n",
        "predictions.select('label', 'prediction').show()"
      ],
      "metadata": {
        "colab": {
          "base_uri": "https://localhost:8080/"
        },
        "outputId": "39f042c5-2754-4189-beed-05fb6bd7adaa",
        "id": "LkGc1jzjCPDY"
      },
      "execution_count": 82,
      "outputs": [
        {
          "output_type": "stream",
          "name": "stdout",
          "text": [
            "+-----+----------+\n",
            "|label|prediction|\n",
            "+-----+----------+\n",
            "|  4.0|       4.0|\n",
            "|  0.0|       0.0|\n",
            "|  0.0|       0.0|\n",
            "|  0.0|       0.0|\n",
            "|  0.0|       0.0|\n",
            "|  0.0|       0.0|\n",
            "|  0.0|       0.0|\n",
            "|  0.0|       0.0|\n",
            "|  0.0|       0.0|\n",
            "|  1.0|       1.0|\n",
            "|  1.0|       1.0|\n",
            "|  1.0|       1.0|\n",
            "|  1.0|       1.0|\n",
            "|  1.0|       1.0|\n",
            "|  1.0|       1.0|\n",
            "|  2.0|       2.0|\n",
            "|  2.0|       2.0|\n",
            "|  2.0|       2.0|\n",
            "|  2.0|       2.0|\n",
            "|  2.0|       2.0|\n",
            "+-----+----------+\n",
            "only showing top 20 rows\n",
            "\n"
          ]
        }
      ]
    },
    {
      "cell_type": "markdown",
      "source": [
        "Mostramos resultados del modelo en test"
      ],
      "metadata": {
        "id": "wgq-mqO6CPDc"
      }
    },
    {
      "cell_type": "code",
      "source": [
        "from pyspark.ml.evaluation import MulticlassClassificationEvaluator\n",
        "from sklearn.metrics import confusion_matrix, ConfusionMatrixDisplay\n",
        "\n",
        "evaluator = MulticlassClassificationEvaluator(labelCol=\"label\", predictionCol=\"prediction\", metricName = \"accuracy\")\n",
        "accuracy = evaluator.evaluate(predictions)\n",
        "print(\"Test Error = %g\" % (1.0 - accuracy))\n",
        "print(\"Accuracy = %g \" % accuracy)\n",
        "\n",
        "y_pred=predictions.select(\"prediction\").collect()\n",
        "y_orig=predictions.select(\"label\").collect()\n",
        "\n",
        "cm = confusion_matrix(y_orig, y_pred)\n",
        "cm_display = ConfusionMatrixDisplay(cm).plot()"
      ],
      "metadata": {
        "colab": {
          "base_uri": "https://localhost:8080/",
          "height": 318
        },
        "outputId": "f38dfab4-15d6-42a4-dbce-c9e3b47a1e67",
        "id": "ZOdWEv23CPDd"
      },
      "execution_count": 83,
      "outputs": [
        {
          "output_type": "stream",
          "name": "stdout",
          "text": [
            "Test Error = 0\n",
            "Accuracy = 1 \n"
          ]
        },
        {
          "output_type": "display_data",
          "data": {
            "text/plain": [
              "<Figure size 432x288 with 2 Axes>"
            ],
            "image/png": "[encoded data removed]"
          },
          "metadata": {
            "needs_background": "light"
          }
        }
      ]
    },
    {
      "cell_type": "code",
      "source": [
        "spark.stop() "
      ],
      "metadata": {
        "id": "QT-9wpFnCPDg"
      },
      "execution_count": 84,
      "outputs": []
    },
    {
      "cell_type": "markdown",
      "source": [
        "# **Resultados**\n",
        "\n",
        "\\begin{array}{|c|c|} \\hline\n",
        " & Accuracy & Test Error \\\\ \\hline\n",
        "Arbol\\ de\\ decision & 0.782 & 0.217 \\\\ \\hline\n",
        "Red\\ neuronal & 0.869 &  0.130 \\\\ \\hline\n",
        "SVM\\ lineal\\ (OVR) & 1 & 0 \\\\ \\hline\n",
        "\\end{array}\n",
        "<br>\n",
        "Para la realización de esta práctica se ha escogido el dataset **Zoo**. Este es un dataset para problemas de clasificación. Donde se pretende clasificar distintos animales con su respectiva clase (mamiferos, aves, invertebrados, etc).\n",
        "Este dataset, es un dataset sencillo con 101 instancias y 16 variables que describen a dicho animal.\n",
        "\n",
        "Las pruebas realizadas, fueron sobre los modelos de árbol de decisión, red neuronal y svm lineal. En este último, como solo funciona para problemas de clasificación binarios, se le aplicó OVR (One vs Rest), para poder aplicarlo a problemas con distintas clases.\n",
        "\n",
        "Para este dataset en concreto, si observamos la tabla anterior, podemos apreciar que para clasificar patrones con la estructura del dataset zoo, nos ofrece mejores resultados SVM lineal, ya que la tasa de acierto es de un 100%. El peor clasificador para este caso sería el arbol de decisión. Aun así, probablemente, al crear un nuevo modelo tanto de árbol de decisión como de red neuronal, puede ser que se de el caso contrario, ya que el train y el test se están generando de forma aleatoria.\n",
        "\n",
        "Cabe destacar, que durante la ejecución del problema se mostraron las matrices de confusión por si se quiere ver, cuales han sido los errores que ha tenido el modelo para cada clase."
      ],
      "metadata": {
        "id": "E07qnmGwGf8x"
      }
    }
  ]
}