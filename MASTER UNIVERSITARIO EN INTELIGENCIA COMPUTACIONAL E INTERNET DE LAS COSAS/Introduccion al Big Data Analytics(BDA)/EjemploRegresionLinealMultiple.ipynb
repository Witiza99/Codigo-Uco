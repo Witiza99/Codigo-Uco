{
  "nbformat": 4,
  "nbformat_minor": 0,
  "metadata": {
    "colab": {
      "provenance": []
    },
    "kernelspec": {
      "name": "python3",
      "display_name": "Python 3"
    },
    "language_info": {
      "name": "python"
    }
  },
  "cells": [
    {
      "cell_type": "markdown",
      "source": [
        "\n",
        "# **Asignatura de Big Data Analytics**\n",
        "\n",
        "Prof. José M. Luna\n",
        "\n",
        "jmluna@uco.es\n",
        "\n",
        "---"
      ],
      "metadata": {
        "id": "eAqyVlsBQwYg"
      }
    },
    {
      "cell_type": "markdown",
      "source": [
        "En primer lugar, debemos instalar todas las dependencias necesarias para poder ejecutar el algoritmo. Así, tenemos que instalar Java 8, Spark 3.0 con Hadoop 3.2, y findspark para alojar spark en el sistema (acceder a Spark desde un Notebook)."
      ],
      "metadata": {
        "id": "0NX5i4MIQFqp"
      }
    },
    {
      "cell_type": "code",
      "execution_count": null,
      "metadata": {
        "id": "DE6TxK84zKhP"
      },
      "outputs": [],
      "source": [
        "# Instalacion de java\n",
        "!apt-get install openjdk-8-jdk-headless -qq > /dev/null\n",
        "\n",
        "# Instalacion de spark\n",
        "!wget -q https://archive.apache.org/dist/spark/spark-3.0.0/spark-3.0.0-bin-hadoop3.2.tgz\n",
        "\n",
        "# Descomprimimos el fichero de spark\n",
        "!tar xf spark-3.0.0-bin-hadoop3.2.tgz\n",
        "\n",
        "# Instalamos findspark\n",
        "!pip install -q findspark\n",
        "\n",
        "# Establecemos las variables de entorno para Java y Spark \n",
        "import os\n",
        "os.environ[\"JAVA_HOME\"] = \"/usr/lib/jvm/java-8-openjdk-amd64\"\n",
        "os.environ[\"SPARK_HOME\"] = \"/content/spark-3.0.0-bin-hadoop3.2\""
      ]
    },
    {
      "cell_type": "markdown",
      "source": [
        "Ejecutamos una sesion local de spark para comprobar que esta funcionando."
      ],
      "metadata": {
        "id": "TWlZjg1xSmQF"
      }
    },
    {
      "cell_type": "code",
      "source": [
        "import findspark\n",
        "findspark.init()\n",
        "from pyspark.sql import SparkSession\n",
        "spark = SparkSession.builder.master(\"local[*]\").getOrCreate()"
      ],
      "metadata": {
        "id": "6K8cgoRo05T5"
      },
      "execution_count": null,
      "outputs": []
    },
    {
      "cell_type": "markdown",
      "source": [
        "Importamos el conjunto de datos con el que queremos trabajar y comprobamos que se ha subido correctamente"
      ],
      "metadata": {
        "id": "UbIf9hHrSxSY"
      }
    },
    {
      "cell_type": "code",
      "source": [
        "from google.colab import files\n",
        "uploaded = files.upload()\n",
        "\n",
        "!ls"
      ],
      "metadata": {
        "colab": {
          "base_uri": "https://localhost:8080/",
          "height": 103
        },
        "id": "Y2JwmSfp00RG",
        "outputId": "d3e9b1a3-fe25-46b3-e2b4-09f94c202a80"
      },
      "execution_count": null,
      "outputs": [
        {
          "output_type": "display_data",
          "data": {
            "text/plain": [
              "<IPython.core.display.HTML object>"
            ],
            "text/html": [
              "\n",
              "     <input type=\"file\" id=\"files-15225f32-a934-4c2a-a3c1-ba4916d7e81e\" name=\"files[]\" multiple disabled\n",
              "        style=\"border:none\" />\n",
              "     <output id=\"result-15225f32-a934-4c2a-a3c1-ba4916d7e81e\">\n",
              "      Upload widget is only available when the cell has been executed in the\n",
              "      current browser session. Please rerun this cell to enable.\n",
              "      </output>\n",
              "      <script>// Copyright 2017 Google LLC\n",
              "//\n",
              "// Licensed under the Apache License, Version 2.0 (the \"License\");\n",
              "// you may not use this file except in compliance with the License.\n",
              "// You may obtain a copy of the License at\n",
              "//\n",
              "//      http://www.apache.org/licenses/LICENSE-2.0\n",
              "//\n",
              "// Unless required by applicable law or agreed to in writing, software\n",
              "// distributed under the License is distributed on an \"AS IS\" BASIS,\n",
              "// WITHOUT WARRANTIES OR CONDITIONS OF ANY KIND, either express or implied.\n",
              "// See the License for the specific language governing permissions and\n",
              "// limitations under the License.\n",
              "\n",
              "/**\n",
              " * @fileoverview Helpers for google.colab Python module.\n",
              " */\n",
              "(function(scope) {\n",
              "function span(text, styleAttributes = {}) {\n",
              "  const element = document.createElement('span');\n",
              "  element.textContent = text;\n",
              "  for (const key of Object.keys(styleAttributes)) {\n",
              "    element.style[key] = styleAttributes[key];\n",
              "  }\n",
              "  return element;\n",
              "}\n",
              "\n",
              "// Max number of bytes which will be uploaded at a time.\n",
              "const MAX_PAYLOAD_SIZE = 100 * 1024;\n",
              "\n",
              "function _uploadFiles(inputId, outputId) {\n",
              "  const steps = uploadFilesStep(inputId, outputId);\n",
              "  const outputElement = document.getElementById(outputId);\n",
              "  // Cache steps on the outputElement to make it available for the next call\n",
              "  // to uploadFilesContinue from Python.\n",
              "  outputElement.steps = steps;\n",
              "\n",
              "  return _uploadFilesContinue(outputId);\n",
              "}\n",
              "\n",
              "// This is roughly an async generator (not supported in the browser yet),\n",
              "// where there are multiple asynchronous steps and the Python side is going\n",
              "// to poll for completion of each step.\n",
              "// This uses a Promise to block the python side on completion of each step,\n",
              "// then passes the result of the previous step as the input to the next step.\n",
              "function _uploadFilesContinue(outputId) {\n",
              "  const outputElement = document.getElementById(outputId);\n",
              "  const steps = outputElement.steps;\n",
              "\n",
              "  const next = steps.next(outputElement.lastPromiseValue);\n",
              "  return Promise.resolve(next.value.promise).then((value) => {\n",
              "    // Cache the last promise value to make it available to the next\n",
              "    // step of the generator.\n",
              "    outputElement.lastPromiseValue = value;\n",
              "    return next.value.response;\n",
              "  });\n",
              "}\n",
              "\n",
              "/**\n",
              " * Generator function which is called between each async step of the upload\n",
              " * process.\n",
              " * @param {string} inputId Element ID of the input file picker element.\n",
              " * @param {string} outputId Element ID of the output display.\n",
              " * @return {!Iterable<!Object>} Iterable of next steps.\n",
              " */\n",
              "function* uploadFilesStep(inputId, outputId) {\n",
              "  const inputElement = document.getElementById(inputId);\n",
              "  inputElement.disabled = false;\n",
              "\n",
              "  const outputElement = document.getElementById(outputId);\n",
              "  outputElement.innerHTML = '';\n",
              "\n",
              "  const pickedPromise = new Promise((resolve) => {\n",
              "    inputElement.addEventListener('change', (e) => {\n",
              "      resolve(e.target.files);\n",
              "    });\n",
              "  });\n",
              "\n",
              "  const cancel = document.createElement('button');\n",
              "  inputElement.parentElement.appendChild(cancel);\n",
              "  cancel.textContent = 'Cancel upload';\n",
              "  const cancelPromise = new Promise((resolve) => {\n",
              "    cancel.onclick = () => {\n",
              "      resolve(null);\n",
              "    };\n",
              "  });\n",
              "\n",
              "  // Wait for the user to pick the files.\n",
              "  const files = yield {\n",
              "    promise: Promise.race([pickedPromise, cancelPromise]),\n",
              "    response: {\n",
              "      action: 'starting',\n",
              "    }\n",
              "  };\n",
              "\n",
              "  cancel.remove();\n",
              "\n",
              "  // Disable the input element since further picks are not allowed.\n",
              "  inputElement.disabled = true;\n",
              "\n",
              "  if (!files) {\n",
              "    return {\n",
              "      response: {\n",
              "        action: 'complete',\n",
              "      }\n",
              "    };\n",
              "  }\n",
              "\n",
              "  for (const file of files) {\n",
              "    const li = document.createElement('li');\n",
              "    li.append(span(file.name, {fontWeight: 'bold'}));\n",
              "    li.append(span(\n",
              "        `(${file.type || 'n/a'}) - ${file.size} bytes, ` +\n",
              "        `last modified: ${\n",
              "            file.lastModifiedDate ? file.lastModifiedDate.toLocaleDateString() :\n",
              "                                    'n/a'} - `));\n",
              "    const percent = span('0% done');\n",
              "    li.appendChild(percent);\n",
              "\n",
              "    outputElement.appendChild(li);\n",
              "\n",
              "    const fileDataPromise = new Promise((resolve) => {\n",
              "      const reader = new FileReader();\n",
              "      reader.onload = (e) => {\n",
              "        resolve(e.target.result);\n",
              "      };\n",
              "      reader.readAsArrayBuffer(file);\n",
              "    });\n",
              "    // Wait for the data to be ready.\n",
              "    let fileData = yield {\n",
              "      promise: fileDataPromise,\n",
              "      response: {\n",
              "        action: 'continue',\n",
              "      }\n",
              "    };\n",
              "\n",
              "    // Use a chunked sending to avoid message size limits. See b/62115660.\n",
              "    let position = 0;\n",
              "    do {\n",
              "      const length = Math.min(fileData.byteLength - position, MAX_PAYLOAD_SIZE);\n",
              "      const chunk = new Uint8Array(fileData, position, length);\n",
              "      position += length;\n",
              "\n",
              "      const base64 = btoa(String.fromCharCode.apply(null, chunk));\n",
              "      yield {\n",
              "        response: {\n",
              "          action: 'append',\n",
              "          file: file.name,\n",
              "          data: base64,\n",
              "        },\n",
              "      };\n",
              "\n",
              "      let percentDone = fileData.byteLength === 0 ?\n",
              "          100 :\n",
              "          Math.round((position / fileData.byteLength) * 100);\n",
              "      percent.textContent = `${percentDone}% done`;\n",
              "\n",
              "    } while (position < fileData.byteLength);\n",
              "  }\n",
              "\n",
              "  // All done.\n",
              "  yield {\n",
              "    response: {\n",
              "      action: 'complete',\n",
              "    }\n",
              "  };\n",
              "}\n",
              "\n",
              "scope.google = scope.google || {};\n",
              "scope.google.colab = scope.google.colab || {};\n",
              "scope.google.colab._files = {\n",
              "  _uploadFiles,\n",
              "  _uploadFilesContinue,\n",
              "};\n",
              "})(self);\n",
              "</script> "
            ]
          },
          "metadata": {}
        },
        {
          "output_type": "stream",
          "name": "stdout",
          "text": [
            "Saving BostonHousing.csv to BostonHousing.csv\n",
            "BostonHousing.csv  spark-3.0.0-bin-hadoop3.2\n",
            "sample_data\t   spark-3.0.0-bin-hadoop3.2.tgz\n"
          ]
        }
      ]
    },
    {
      "cell_type": "markdown",
      "source": [
        "Leemos el dataset con el que queremos trabajar, en este caso vamos a trabajar con el dataset de BostonHousing\n",
        "\n"
      ],
      "metadata": {
        "id": "oTNlC6hLQEcj"
      }
    },
    {
      "cell_type": "code",
      "source": [
        "dataset = spark.read.csv('BostonHousing.csv',inferSchema=True, header =True)"
      ],
      "metadata": {
        "id": "5sooAU--WkYQ"
      },
      "execution_count": null,
      "outputs": []
    },
    {
      "cell_type": "markdown",
      "source": [
        "Mostramos los atributos que tiene el dataset y su tipo"
      ],
      "metadata": {
        "id": "vH_EiS93Wspc"
      }
    },
    {
      "cell_type": "code",
      "source": [
        "dataset.printSchema()"
      ],
      "metadata": {
        "colab": {
          "base_uri": "https://localhost:8080/"
        },
        "id": "9-DH4JqH6kRH",
        "outputId": "e386e224-23e9-4806-b48f-fcf765c61b53"
      },
      "execution_count": null,
      "outputs": [
        {
          "output_type": "stream",
          "name": "stdout",
          "text": [
            "root\n",
            " |-- crim: double (nullable = true)\n",
            " |-- zn: double (nullable = true)\n",
            " |-- indus: double (nullable = true)\n",
            " |-- chas: integer (nullable = true)\n",
            " |-- nox: double (nullable = true)\n",
            " |-- rm: double (nullable = true)\n",
            " |-- age: double (nullable = true)\n",
            " |-- dis: double (nullable = true)\n",
            " |-- rad: integer (nullable = true)\n",
            " |-- tax: integer (nullable = true)\n",
            " |-- ptratio: double (nullable = true)\n",
            " |-- b: double (nullable = true)\n",
            " |-- lstat: double (nullable = true)\n",
            " |-- medv: double (nullable = true)\n",
            "\n"
          ]
        }
      ]
    },
    {
      "cell_type": "markdown",
      "source": [
        "Ahora vamos a trabajar con todas las variables y la varible medv será la salida. Creamos un conjunto de datos donde los inputs serán un vector"
      ],
      "metadata": {
        "id": "pEK6sg-OW26u"
      }
    },
    {
      "cell_type": "code",
      "source": [
        "from pyspark.ml.feature import VectorAssembler\n",
        "\n",
        "df = VectorAssembler(inputCols=['crim', 'zn', 'indus', 'chas', 'nox', 'rm', 'age', 'dis', 'rad', 'tax', 'ptratio', 'b', 'lstat'], outputCol = 'inputs').transform(dataset)\n",
        "\n",
        "df = df.select(['inputs','medv'])\n",
        "\n",
        "df.printSchema()"
      ],
      "metadata": {
        "colab": {
          "base_uri": "https://localhost:8080/"
        },
        "id": "K-Zla-cjcDjx",
        "outputId": "3e633f90-8da8-4abe-c3b2-febfc1f98212"
      },
      "execution_count": null,
      "outputs": [
        {
          "output_type": "stream",
          "name": "stdout",
          "text": [
            "root\n",
            " |-- inputs: vector (nullable = true)\n",
            " |-- medv: double (nullable = true)\n",
            "\n"
          ]
        }
      ]
    },
    {
      "cell_type": "markdown",
      "source": [
        "Dividimos el conjunto de datos en train y test. Vamos a considerar una partición del tipo 80/20"
      ],
      "metadata": {
        "id": "2G2US5dkXqmm"
      }
    },
    {
      "cell_type": "code",
      "source": [
        "trainData,testData = df.randomSplit([0.8,0.2])"
      ],
      "metadata": {
        "id": "X12qbtC7Xx2r"
      },
      "execution_count": null,
      "outputs": []
    },
    {
      "cell_type": "markdown",
      "source": [
        "Indicamos qué atributos serán las entradas y cuales serán la salida. En este caso, vamos a tomar como entrada \"crim\" y como salida \"medv\". Finalmente, entrenamos y testeamos con trainData y testData, y mostramos las predicciones"
      ],
      "metadata": {
        "id": "hZKWsevfX_aa"
      }
    },
    {
      "cell_type": "code",
      "source": [
        "from pyspark.ml.regression import LinearRegression\n",
        "\n",
        "regressor = LinearRegression(featuresCol = 'inputs', labelCol = 'medv')\n",
        "\n",
        "#Entrenamos el modelo con el conjunto de train\n",
        "regressor = regressor.fit(trainData)\n",
        "\n",
        "#Evaluamos el modelo con el conjunto de test\n",
        "pred = regressor.evaluate(testData)\n",
        "\n",
        "#Mostramos las predicciones\n",
        "pred.predictions.show()"
      ],
      "metadata": {
        "colab": {
          "base_uri": "https://localhost:8080/"
        },
        "id": "sZA95wApX-hm",
        "outputId": "3c98b5ea-928a-49a5-84fb-71d895b3725a"
      },
      "execution_count": null,
      "outputs": [
        {
          "output_type": "stream",
          "name": "stdout",
          "text": [
            "+--------------------+----+------------------+\n",
            "|              inputs|medv|        prediction|\n",
            "+--------------------+----+------------------+\n",
            "|[0.0136,75.0,4.0,...|18.9|15.401288163550717|\n",
            "|[0.01538,90.0,3.7...|44.0|37.499867106244565|\n",
            "|[0.01965,80.0,1.7...|20.1| 19.99056024515422|\n",
            "|[0.02177,82.5,2.0...|42.3|36.826671537628634|\n",
            "|[0.03049,55.0,3.7...|31.2| 28.30222960629167|\n",
            "|[0.03113,0.0,4.39...|17.5|16.441806555211677|\n",
            "|[0.03237,0.0,2.18...|33.4| 28.62830923442691|\n",
            "|[0.03502,80.0,4.9...|28.5|33.521152900494705|\n",
            "|[0.03705,20.0,3.3...|35.4|34.236283397973885|\n",
            "|[0.04297,52.5,5.3...|24.8|26.813428863733627|\n",
            "|[0.04462,25.0,4.8...|23.9| 27.23207314240119|\n",
            "|[0.04544,0.0,3.24...|19.8| 21.36085090371814|\n",
            "|[0.04981,21.0,5.6...|23.4|23.813218074934493|\n",
            "|[0.0536,21.0,5.64...|25.0|27.459397609869274|\n",
            "|[0.05479,33.0,2.1...|28.4|30.947328473865543|\n",
            "|[0.05735,0.0,4.49...|26.6|27.931965051506985|\n",
            "|[0.06129,20.0,3.3...|46.0| 40.72336979670956|\n",
            "|[0.06162,0.0,4.39...|17.2|14.705108957708884|\n",
            "|[0.06417,0.0,5.96...|18.9|23.928009760389497|\n",
            "|[0.06466,70.0,2.2...|22.5|28.770736874641287|\n",
            "+--------------------+----+------------------+\n",
            "only showing top 20 rows\n",
            "\n"
          ]
        }
      ]
    },
    {
      "cell_type": "markdown",
      "source": [
        "Mostramos resultados del modelo de regresión en train"
      ],
      "metadata": {
        "id": "t417HzVPjq6u"
      }
    },
    {
      "cell_type": "code",
      "source": [
        "#coeficientes del modelo de regresion\n",
        "coeff = regressor.coefficients\n",
        "#interseccioon del model con Y\n",
        "intr = regressor.intercept\n",
        "print (\"Coeficientes: %a\" %coeff)\n",
        "print (\"Interseccion: %f\" %intr)\n",
        "\n",
        "#Entrenamiento\n",
        "print(\"Root Mean Squared Err (RMSE): %f\" % regressor.summary.rootMeanSquaredError)\n",
        "print(\"Mean Absolute Err (MAE): %f\" % regressor.summary.meanAbsoluteError)\n",
        "print(\"Mean Squared Err (MSE): %f\" % regressor.summary.meanSquaredError)"
      ],
      "metadata": {
        "colab": {
          "base_uri": "https://localhost:8080/"
        },
        "id": "1-4ckrBIgybT",
        "outputId": "574747a2-3d70-4447-a6e5-d0b2aeb3a2f5"
      },
      "execution_count": null,
      "outputs": [
        {
          "output_type": "stream",
          "name": "stdout",
          "text": [
            "Coeficientes: DenseVector([-0.1148, 0.0458, 0.0275, 3.0299, -20.2886, 3.936, 0.0052, -1.5201, 0.3199, -0.0127, -0.9036, 0.009, -0.5171])\n",
            "Interseccion: 36.014081\n",
            "Root Mean Squared Err (RMSE): 4.705631\n",
            "Mean Absolute Err (MAE): 3.344118\n",
            "Mean Squared Err (MSE): 22.142966\n"
          ]
        }
      ]
    },
    {
      "cell_type": "markdown",
      "source": [
        "Mostramos resultados del modelo de regresión en test"
      ],
      "metadata": {
        "id": "Xrj35xtmlhLh"
      }
    },
    {
      "cell_type": "code",
      "source": [
        "from pyspark.ml.evaluation import RegressionEvaluator\n",
        "\n",
        "rmse = RegressionEvaluator(labelCol=\"medv\", predictionCol=\"prediction\", metricName=\"rmse\").evaluate(pred.predictions)\n",
        "print (\"Root Mean Squared Err (RMSE): %f\" % rmse)\n",
        "mae = RegressionEvaluator(labelCol=\"medv\", predictionCol=\"prediction\", metricName=\"mae\").evaluate(pred.predictions)\n",
        "print (\"Mean Absolute Err (MAE): %f\" % mae)\n",
        "mse = RegressionEvaluator(labelCol=\"medv\", predictionCol=\"prediction\", metricName=\"mse\").evaluate(pred.predictions)\n",
        "print (\"Mean Squared Err (MSE): %f\" % mse)"
      ],
      "metadata": {
        "colab": {
          "base_uri": "https://localhost:8080/"
        },
        "id": "wYJpi7q9lgNj",
        "outputId": "5ad479cf-7aaf-4075-a6ec-2e2d906e09fe"
      },
      "execution_count": null,
      "outputs": [
        {
          "output_type": "stream",
          "name": "stdout",
          "text": [
            "Root Mean Squared Err (RMSE): 4.601477\n",
            "Mean Absolute Err (MAE): 3.113926\n",
            "Mean Squared Err (MSE): 21.173586\n"
          ]
        }
      ]
    }
  ]
}