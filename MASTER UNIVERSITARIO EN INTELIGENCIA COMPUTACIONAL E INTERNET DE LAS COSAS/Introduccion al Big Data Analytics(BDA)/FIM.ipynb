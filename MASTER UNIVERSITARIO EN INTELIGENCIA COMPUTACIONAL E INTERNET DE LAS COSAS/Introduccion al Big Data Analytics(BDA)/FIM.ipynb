{
  "nbformat": 4,
  "nbformat_minor": 0,
  "metadata": {
    "colab": {
      "provenance": []
    },
    "kernelspec": {
      "name": "python3",
      "display_name": "Python 3"
    },
    "language_info": {
      "name": "python"
    }
  },
  "cells": [
    {
      "cell_type": "markdown",
      "source": [
        "\n",
        "# **Asignatura de Big Data Analytics**\n",
        "\n",
        "Prof. José M. Luna\n",
        "\n",
        "jmluna@uco.es\n",
        "\n",
        "---"
      ],
      "metadata": {
        "id": "eAqyVlsBQwYg"
      }
    },
    {
      "cell_type": "markdown",
      "source": [
        "En primer lugar, debemos instalar todas las dependencias necesarias para poder ejecutar el algoritmo. Así, tenemos que instalar Java 8, Spark 3.0 con Hadoop 3.2, y findspark para alojar spark en el sistema (acceder a Spark desde un Notebook)."
      ],
      "metadata": {
        "id": "0NX5i4MIQFqp"
      }
    },
    {
      "cell_type": "code",
      "execution_count": null,
      "metadata": {
        "id": "DE6TxK84zKhP"
      },
      "outputs": [],
      "source": [
        "# Instalacion de java\n",
        "!apt-get install openjdk-8-jdk-headless -qq > /dev/null\n",
        "\n",
        "# Instalacion de spark\n",
        "!wget -q https://archive.apache.org/dist/spark/spark-3.0.0/spark-3.0.0-bin-hadoop3.2.tgz\n",
        "\n",
        "# Descomprimimos el fichero de spark\n",
        "!tar xf spark-3.0.0-bin-hadoop3.2.tgz\n",
        "\n",
        "# Instalamos findspark\n",
        "!pip install -q findspark\n",
        "\n",
        "# Establecemos las variables de entorno para Java y Spark \n",
        "import os\n",
        "os.environ[\"JAVA_HOME\"] = \"/usr/lib/jvm/java-8-openjdk-amd64\"\n",
        "os.environ[\"SPARK_HOME\"] = \"/content/spark-3.0.0-bin-hadoop3.2\""
      ]
    },
    {
      "cell_type": "markdown",
      "source": [
        "Ejecutamos una sesion local de spark para comprobar que esta funcionando."
      ],
      "metadata": {
        "id": "TWlZjg1xSmQF"
      }
    },
    {
      "cell_type": "code",
      "source": [
        "import findspark\n",
        "findspark.init()\n",
        "from pyspark.sql import SparkSession\n",
        "spark = SparkSession.builder.master(\"local[*]\").getOrCreate()"
      ],
      "metadata": {
        "id": "6K8cgoRo05T5"
      },
      "execution_count": null,
      "outputs": []
    },
    {
      "cell_type": "markdown",
      "source": [
        "Importamos el conjunto de datos con el que queremos trabajar y comprobamos que se ha subido correctamente"
      ],
      "metadata": {
        "id": "UbIf9hHrSxSY"
      }
    },
    {
      "cell_type": "code",
      "source": [
        "from google.colab import files\n",
        "uploaded = files.upload()\n",
        "\n",
        "!ls"
      ],
      "metadata": {
        "id": "Y2JwmSfp00RG",
        "colab": {
          "base_uri": "https://localhost:8080/",
          "height": 103
        },
        "outputId": "765aeefc-b7b9-4826-a711-0d471febc9d4"
      },
      "execution_count": null,
      "outputs": [
        {
          "output_type": "display_data",
          "data": {
            "text/plain": [
              "<IPython.core.display.HTML object>"
            ],
            "text/html": [
              "\n",
              "     <input type=\"file\" id=\"files-4b454a51-9f75-4cad-8429-128fa998161f\" name=\"files[]\" multiple disabled\n",
              "        style=\"border:none\" />\n",
              "     <output id=\"result-4b454a51-9f75-4cad-8429-128fa998161f\">\n",
              "      Upload widget is only available when the cell has been executed in the\n",
              "      current browser session. Please rerun this cell to enable.\n",
              "      </output>\n",
              "      <script>// Copyright 2017 Google LLC\n",
              "//\n",
              "// Licensed under the Apache License, Version 2.0 (the \"License\");\n",
              "// you may not use this file except in compliance with the License.\n",
              "// You may obtain a copy of the License at\n",
              "//\n",
              "//      http://www.apache.org/licenses/LICENSE-2.0\n",
              "//\n",
              "// Unless required by applicable law or agreed to in writing, software\n",
              "// distributed under the License is distributed on an \"AS IS\" BASIS,\n",
              "// WITHOUT WARRANTIES OR CONDITIONS OF ANY KIND, either express or implied.\n",
              "// See the License for the specific language governing permissions and\n",
              "// limitations under the License.\n",
              "\n",
              "/**\n",
              " * @fileoverview Helpers for google.colab Python module.\n",
              " */\n",
              "(function(scope) {\n",
              "function span(text, styleAttributes = {}) {\n",
              "  const element = document.createElement('span');\n",
              "  element.textContent = text;\n",
              "  for (const key of Object.keys(styleAttributes)) {\n",
              "    element.style[key] = styleAttributes[key];\n",
              "  }\n",
              "  return element;\n",
              "}\n",
              "\n",
              "// Max number of bytes which will be uploaded at a time.\n",
              "const MAX_PAYLOAD_SIZE = 100 * 1024;\n",
              "\n",
              "function _uploadFiles(inputId, outputId) {\n",
              "  const steps = uploadFilesStep(inputId, outputId);\n",
              "  const outputElement = document.getElementById(outputId);\n",
              "  // Cache steps on the outputElement to make it available for the next call\n",
              "  // to uploadFilesContinue from Python.\n",
              "  outputElement.steps = steps;\n",
              "\n",
              "  return _uploadFilesContinue(outputId);\n",
              "}\n",
              "\n",
              "// This is roughly an async generator (not supported in the browser yet),\n",
              "// where there are multiple asynchronous steps and the Python side is going\n",
              "// to poll for completion of each step.\n",
              "// This uses a Promise to block the python side on completion of each step,\n",
              "// then passes the result of the previous step as the input to the next step.\n",
              "function _uploadFilesContinue(outputId) {\n",
              "  const outputElement = document.getElementById(outputId);\n",
              "  const steps = outputElement.steps;\n",
              "\n",
              "  const next = steps.next(outputElement.lastPromiseValue);\n",
              "  return Promise.resolve(next.value.promise).then((value) => {\n",
              "    // Cache the last promise value to make it available to the next\n",
              "    // step of the generator.\n",
              "    outputElement.lastPromiseValue = value;\n",
              "    return next.value.response;\n",
              "  });\n",
              "}\n",
              "\n",
              "/**\n",
              " * Generator function which is called between each async step of the upload\n",
              " * process.\n",
              " * @param {string} inputId Element ID of the input file picker element.\n",
              " * @param {string} outputId Element ID of the output display.\n",
              " * @return {!Iterable<!Object>} Iterable of next steps.\n",
              " */\n",
              "function* uploadFilesStep(inputId, outputId) {\n",
              "  const inputElement = document.getElementById(inputId);\n",
              "  inputElement.disabled = false;\n",
              "\n",
              "  const outputElement = document.getElementById(outputId);\n",
              "  outputElement.innerHTML = '';\n",
              "\n",
              "  const pickedPromise = new Promise((resolve) => {\n",
              "    inputElement.addEventListener('change', (e) => {\n",
              "      resolve(e.target.files);\n",
              "    });\n",
              "  });\n",
              "\n",
              "  const cancel = document.createElement('button');\n",
              "  inputElement.parentElement.appendChild(cancel);\n",
              "  cancel.textContent = 'Cancel upload';\n",
              "  const cancelPromise = new Promise((resolve) => {\n",
              "    cancel.onclick = () => {\n",
              "      resolve(null);\n",
              "    };\n",
              "  });\n",
              "\n",
              "  // Wait for the user to pick the files.\n",
              "  const files = yield {\n",
              "    promise: Promise.race([pickedPromise, cancelPromise]),\n",
              "    response: {\n",
              "      action: 'starting',\n",
              "    }\n",
              "  };\n",
              "\n",
              "  cancel.remove();\n",
              "\n",
              "  // Disable the input element since further picks are not allowed.\n",
              "  inputElement.disabled = true;\n",
              "\n",
              "  if (!files) {\n",
              "    return {\n",
              "      response: {\n",
              "        action: 'complete',\n",
              "      }\n",
              "    };\n",
              "  }\n",
              "\n",
              "  for (const file of files) {\n",
              "    const li = document.createElement('li');\n",
              "    li.append(span(file.name, {fontWeight: 'bold'}));\n",
              "    li.append(span(\n",
              "        `(${file.type || 'n/a'}) - ${file.size} bytes, ` +\n",
              "        `last modified: ${\n",
              "            file.lastModifiedDate ? file.lastModifiedDate.toLocaleDateString() :\n",
              "                                    'n/a'} - `));\n",
              "    const percent = span('0% done');\n",
              "    li.appendChild(percent);\n",
              "\n",
              "    outputElement.appendChild(li);\n",
              "\n",
              "    const fileDataPromise = new Promise((resolve) => {\n",
              "      const reader = new FileReader();\n",
              "      reader.onload = (e) => {\n",
              "        resolve(e.target.result);\n",
              "      };\n",
              "      reader.readAsArrayBuffer(file);\n",
              "    });\n",
              "    // Wait for the data to be ready.\n",
              "    let fileData = yield {\n",
              "      promise: fileDataPromise,\n",
              "      response: {\n",
              "        action: 'continue',\n",
              "      }\n",
              "    };\n",
              "\n",
              "    // Use a chunked sending to avoid message size limits. See b/62115660.\n",
              "    let position = 0;\n",
              "    do {\n",
              "      const length = Math.min(fileData.byteLength - position, MAX_PAYLOAD_SIZE);\n",
              "      const chunk = new Uint8Array(fileData, position, length);\n",
              "      position += length;\n",
              "\n",
              "      const base64 = btoa(String.fromCharCode.apply(null, chunk));\n",
              "      yield {\n",
              "        response: {\n",
              "          action: 'append',\n",
              "          file: file.name,\n",
              "          data: base64,\n",
              "        },\n",
              "      };\n",
              "\n",
              "      let percentDone = fileData.byteLength === 0 ?\n",
              "          100 :\n",
              "          Math.round((position / fileData.byteLength) * 100);\n",
              "      percent.textContent = `${percentDone}% done`;\n",
              "\n",
              "    } while (position < fileData.byteLength);\n",
              "  }\n",
              "\n",
              "  // All done.\n",
              "  yield {\n",
              "    response: {\n",
              "      action: 'complete',\n",
              "    }\n",
              "  };\n",
              "}\n",
              "\n",
              "scope.google = scope.google || {};\n",
              "scope.google.colab = scope.google.colab || {};\n",
              "scope.google.colab._files = {\n",
              "  _uploadFiles,\n",
              "  _uploadFilesContinue,\n",
              "};\n",
              "})(self);\n",
              "</script> "
            ]
          },
          "metadata": {}
        },
        {
          "output_type": "stream",
          "name": "stdout",
          "text": [
            "Saving market.csv to market.csv\n",
            "market.csv   spark-3.0.0-bin-hadoop3.2\n",
            "sample_data  spark-3.0.0-bin-hadoop3.2.tgz\n"
          ]
        }
      ]
    },
    {
      "cell_type": "markdown",
      "source": [
        "Leemos el dataset con el que queremos trabajar, en este caso vamos a trabajar con el dataset de BostonHousing\n",
        "\n"
      ],
      "metadata": {
        "id": "oTNlC6hLQEcj"
      }
    },
    {
      "cell_type": "code",
      "source": [
        "dataset = spark.read.csv('market.csv',inferSchema=True, header =True)"
      ],
      "metadata": {
        "id": "5sooAU--WkYQ"
      },
      "execution_count": null,
      "outputs": []
    },
    {
      "cell_type": "markdown",
      "source": [
        "Mostramos los atributos que tiene el dataset y su tipo"
      ],
      "metadata": {
        "id": "vH_EiS93Wspc"
      }
    },
    {
      "cell_type": "code",
      "source": [
        "dataset.printSchema()\n",
        "dataset.show()"
      ],
      "metadata": {
        "id": "9-DH4JqH6kRH",
        "colab": {
          "base_uri": "https://localhost:8080/"
        },
        "outputId": "bcca8ec3-7b00-4cb1-bd76-699bc6ea6fee"
      },
      "execution_count": null,
      "outputs": [
        {
          "output_type": "stream",
          "name": "stdout",
          "text": [
            "root\n",
            " |-- SalesDate: string (nullable = true)\n",
            " |-- SalesValue: double (nullable = true)\n",
            " |-- SalesAmount: integer (nullable = true)\n",
            " |-- Customer: integer (nullable = true)\n",
            " |-- SalesTransactionID: integer (nullable = true)\n",
            " |-- SalesItem: integer (nullable = true)\n",
            "\n",
            "+-------------------+----------+-----------+--------+------------------+---------+\n",
            "|          SalesDate|SalesValue|SalesAmount|Customer|SalesTransactionID|SalesItem|\n",
            "+-------------------+----------+-----------+--------+------------------+---------+\n",
            "|2018-09-28 00:00:00|    8280.0|         10|       0|                 0|        0|\n",
            "|2018-09-28 00:00:00|    7452.0|         10|       0|                 0|        0|\n",
            "|2019-04-23 00:00:00|   21114.0|         30|       0|                 1|        0|\n",
            "|2019-04-23 00:00:00|    7038.0|         10|       0|                 1|        1|\n",
            "|2019-04-23 00:00:00|    7000.0|          2|       0|                 1|        2|\n",
            "|2019-02-08 00:00:00|     745.2|          1|       0|                 2|        1|\n",
            "|2019-02-08 00:00:00|    6334.2|          9|       0|                 2|        1|\n",
            "|2019-02-22 00:00:00|   14076.0|         20|       0|                 3|        0|\n",
            "|2018-12-11 00:00:00|    7452.0|         10|       0|                 4|        0|\n",
            "|2018-11-21 00:00:00|    6706.8|          9|       0|                 5|        0|\n",
            "|2018-09-21 00:00:00|    7000.0|          2|       0|                 6|        2|\n",
            "|2018-08-09 00:00:00|    3500.0|          1|       0|                 7|        2|\n",
            "|2019-03-08 00:00:00|   14076.0|         20|       0|                 8|        0|\n",
            "|2019-10-25 00:00:00|   13972.5|         25|       0|                10|        0|\n",
            "|2019-10-25 00:00:00|    2794.5|          5|       0|                10|        1|\n",
            "|2019-06-12 00:00:00|   11178.0|         20|       0|                11|        0|\n",
            "|2018-07-20 00:00:00|   10000.0|          1|       1|                12|        3|\n",
            "|2018-07-20 00:00:00|     500.0|          1|       1|                12|        4|\n",
            "|2019-05-14 00:00:00|    6000.0|          2|       1|                13|        1|\n",
            "|2017-07-11 00:00:00|    191.34|          1|       3|                15|        2|\n",
            "+-------------------+----------+-----------+--------+------------------+---------+\n",
            "only showing top 20 rows\n",
            "\n"
          ]
        }
      ]
    },
    {
      "cell_type": "markdown",
      "source": [
        "Reordenamos el dataset, considerando sólo los ID de las transacciones y los items vendidos en cada transaccion. Ademas, una misma transaccion no puede tener el mismo item dos o mas veces"
      ],
      "metadata": {
        "id": "_Pl8nHxE8SH1"
      }
    },
    {
      "cell_type": "code",
      "source": [
        "from pyspark.sql import functions\n",
        "from pyspark.ml.fpm import FPGrowth\n",
        "import pandas\n",
        "\n",
        "basketdata = dataset.dropDuplicates(['SalesTransactionID', 'SalesItem']).sort('SalesTransactionID')\n",
        "basketdata = basketdata.groupBy(\"SalesTransactionID\").agg(functions.collect_list(\"SalesItem\")).sort('SalesTransactionID')\n",
        "\n",
        "basketdata.printSchema()\n",
        "basketdata.show()"
      ],
      "metadata": {
        "id": "D-CKuFxf1Cyi",
        "colab": {
          "base_uri": "https://localhost:8080/"
        },
        "outputId": "150f5a17-d027-4a16-ccfb-38a77d4787cf"
      },
      "execution_count": null,
      "outputs": [
        {
          "output_type": "stream",
          "name": "stdout",
          "text": [
            "root\n",
            " |-- SalesTransactionID: integer (nullable = true)\n",
            " |-- collect_list(SalesItem): array (nullable = true)\n",
            " |    |-- element: integer (containsNull = false)\n",
            "\n",
            "+------------------+-----------------------+\n",
            "|SalesTransactionID|collect_list(SalesItem)|\n",
            "+------------------+-----------------------+\n",
            "|                 0|                    [0]|\n",
            "|                 1|              [0, 2, 1]|\n",
            "|                 2|                    [1]|\n",
            "|                 3|                    [0]|\n",
            "|                 4|                    [0]|\n",
            "|                 5|                    [0]|\n",
            "|                 6|                    [2]|\n",
            "|                 7|                    [2]|\n",
            "|                 8|                    [0]|\n",
            "|                10|                 [1, 0]|\n",
            "|                11|                    [0]|\n",
            "|                12|                 [4, 3]|\n",
            "|                13|                    [1]|\n",
            "|                15|              [2, 4, 3]|\n",
            "|                16|           [3, 2, 0, 1]|\n",
            "|                17|                    [2]|\n",
            "|                18|                    [2]|\n",
            "|                19|        [2, 1, 4, 3, 0]|\n",
            "|                20|        [2, 3, 0, 1, 4]|\n",
            "+------------------+-----------------------+\n",
            "\n"
          ]
        }
      ]
    },
    {
      "cell_type": "markdown",
      "source": [
        "Ejecutamos el algoritmo FPGrowth sobre el conjunto de datos transformado, considerando unos valores minimos de soporte y confianza."
      ],
      "metadata": {
        "id": "pEK6sg-OW26u"
      }
    },
    {
      "cell_type": "code",
      "source": [
        "#FP-Growth algorithm\n",
        "fpGrowth = FPGrowth(itemsCol=\"collect_list(SalesItem)\", minSupport=0.2, minConfidence=0.3)\n",
        "itemsets = fpGrowth.fit(basketdata)\n",
        "# Mostramos los items frecuentes\n",
        "itemsets.freqItemsets.show()\n",
        "# Mostramos las reglas de asociacion\n",
        "itemsets.associationRules.show()"
      ],
      "metadata": {
        "id": "nd8jyG1qXFMS",
        "colab": {
          "base_uri": "https://localhost:8080/"
        },
        "outputId": "378e44eb-ef7d-4f1a-e42c-f2cac64ae92a"
      },
      "execution_count": null,
      "outputs": [
        {
          "output_type": "stream",
          "name": "stdout",
          "text": [
            "+---------+----+\n",
            "|    items|freq|\n",
            "+---------+----+\n",
            "|      [0]|  11|\n",
            "|      [2]|   9|\n",
            "|   [2, 0]|   4|\n",
            "|      [1]|   7|\n",
            "|   [1, 2]|   4|\n",
            "|[1, 2, 0]|   4|\n",
            "|   [1, 0]|   5|\n",
            "|      [3]|   5|\n",
            "|   [3, 2]|   4|\n",
            "|      [4]|   4|\n",
            "|   [4, 3]|   4|\n",
            "+---------+----+\n",
            "\n",
            "+----------+----------+-------------------+------------------+\n",
            "|antecedent|consequent|         confidence|              lift|\n",
            "+----------+----------+-------------------+------------------+\n",
            "|    [1, 0]|       [2]|                0.8| 1.688888888888889|\n",
            "|       [4]|       [3]|                1.0|3.8000000000000003|\n",
            "|       [3]|       [2]|                0.8| 1.688888888888889|\n",
            "|       [3]|       [4]|                0.8|3.8000000000000003|\n",
            "|       [1]|       [2]| 0.5714285714285714|1.2063492063492063|\n",
            "|       [1]|       [0]| 0.7142857142857143|1.2337662337662338|\n",
            "|    [2, 0]|       [1]|                1.0|2.7142857142857144|\n",
            "|       [2]|       [0]| 0.4444444444444444|0.7676767676767676|\n",
            "|       [2]|       [1]| 0.4444444444444444|1.2063492063492063|\n",
            "|       [2]|       [3]| 0.4444444444444444|1.6888888888888889|\n",
            "|       [0]|       [2]|0.36363636363636365|0.7676767676767677|\n",
            "|       [0]|       [1]|0.45454545454545453|1.2337662337662338|\n",
            "|    [1, 2]|       [0]|                1.0|1.7272727272727273|\n",
            "+----------+----------+-------------------+------------------+\n",
            "\n"
          ]
        }
      ]
    }
  ]
}