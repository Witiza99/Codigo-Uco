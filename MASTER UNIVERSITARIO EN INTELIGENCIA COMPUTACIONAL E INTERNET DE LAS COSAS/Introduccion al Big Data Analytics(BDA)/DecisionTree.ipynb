{
  "nbformat": 4,
  "nbformat_minor": 0,
  "metadata": {
    "colab": {
      "provenance": []
    },
    "kernelspec": {
      "name": "python3",
      "display_name": "Python 3"
    },
    "language_info": {
      "name": "python"
    }
  },
  "cells": [
    {
      "cell_type": "markdown",
      "source": [
        "\n",
        "# **Asignatura de Big Data Analytics**\n",
        "\n",
        "Prof. José M. Luna\n",
        "\n",
        "jmluna@uco.es\n",
        "\n",
        "---"
      ],
      "metadata": {
        "id": "eAqyVlsBQwYg"
      }
    },
    {
      "cell_type": "markdown",
      "source": [
        "En primer lugar, debemos instalar todas las dependencias necesarias para poder ejecutar el algoritmo. Así, tenemos que instalar Java 8, Spark 3.0 con Hadoop 3.2, y findspark para alojar spark en el sistema (acceder a Spark desde un Notebook)."
      ],
      "metadata": {
        "id": "0NX5i4MIQFqp"
      }
    },
    {
      "cell_type": "code",
      "execution_count": null,
      "metadata": {
        "id": "DE6TxK84zKhP"
      },
      "outputs": [],
      "source": [
        "# Instalacion de java\n",
        "!apt-get install openjdk-8-jdk-headless -qq > /dev/null\n",
        "\n",
        "# Instalacion de spark\n",
        "!wget -q https://archive.apache.org/dist/spark/spark-3.0.0/spark-3.0.0-bin-hadoop3.2.tgz\n",
        "\n",
        "# Descomprimimos el fichero de spark\n",
        "!tar xf spark-3.0.0-bin-hadoop3.2.tgz\n",
        "\n",
        "# Instalamos findspark\n",
        "!pip install -q findspark\n",
        "\n",
        "# Establecemos las variables de entorno para Java y Spark \n",
        "import os\n",
        "os.environ[\"JAVA_HOME\"] = \"/usr/lib/jvm/java-8-openjdk-amd64\"\n",
        "os.environ[\"SPARK_HOME\"] = \"/content/spark-3.0.0-bin-hadoop3.2\""
      ]
    },
    {
      "cell_type": "markdown",
      "source": [
        "Ejecutamos una sesion local de spark para comprobar que esta funcionando."
      ],
      "metadata": {
        "id": "TWlZjg1xSmQF"
      }
    },
    {
      "cell_type": "code",
      "source": [
        "import findspark\n",
        "findspark.init()\n",
        "from pyspark.sql import SparkSession\n",
        "spark = SparkSession.builder.master(\"local[*]\").getOrCreate()"
      ],
      "metadata": {
        "id": "6K8cgoRo05T5"
      },
      "execution_count": null,
      "outputs": []
    },
    {
      "cell_type": "markdown",
      "source": [
        "Importamos el conjunto de datos con el que queremos trabajar y comprobamos que se ha subido correctamente"
      ],
      "metadata": {
        "id": "UbIf9hHrSxSY"
      }
    },
    {
      "cell_type": "code",
      "source": [
        "from google.colab import files\n",
        "uploaded = files.upload()\n",
        "\n",
        "!ls"
      ],
      "metadata": {
        "colab": {
          "base_uri": "https://localhost:8080/",
          "height": 86
        },
        "id": "Y2JwmSfp00RG",
        "outputId": "23eaf249-32f8-43b4-a00f-6434f2043ee6"
      },
      "execution_count": null,
      "outputs": [
        {
          "output_type": "display_data",
          "data": {
            "text/plain": [
              "<IPython.core.display.HTML object>"
            ],
            "text/html": [
              "\n",
              "     <input type=\"file\" id=\"files-e4218530-3579-41d6-9c5a-e5d941a53959\" name=\"files[]\" multiple disabled\n",
              "        style=\"border:none\" />\n",
              "     <output id=\"result-e4218530-3579-41d6-9c5a-e5d941a53959\">\n",
              "      Upload widget is only available when the cell has been executed in the\n",
              "      current browser session. Please rerun this cell to enable.\n",
              "      </output>\n",
              "      <script>// Copyright 2017 Google LLC\n",
              "//\n",
              "// Licensed under the Apache License, Version 2.0 (the \"License\");\n",
              "// you may not use this file except in compliance with the License.\n",
              "// You may obtain a copy of the License at\n",
              "//\n",
              "//      http://www.apache.org/licenses/LICENSE-2.0\n",
              "//\n",
              "// Unless required by applicable law or agreed to in writing, software\n",
              "// distributed under the License is distributed on an \"AS IS\" BASIS,\n",
              "// WITHOUT WARRANTIES OR CONDITIONS OF ANY KIND, either express or implied.\n",
              "// See the License for the specific language governing permissions and\n",
              "// limitations under the License.\n",
              "\n",
              "/**\n",
              " * @fileoverview Helpers for google.colab Python module.\n",
              " */\n",
              "(function(scope) {\n",
              "function span(text, styleAttributes = {}) {\n",
              "  const element = document.createElement('span');\n",
              "  element.textContent = text;\n",
              "  for (const key of Object.keys(styleAttributes)) {\n",
              "    element.style[key] = styleAttributes[key];\n",
              "  }\n",
              "  return element;\n",
              "}\n",
              "\n",
              "// Max number of bytes which will be uploaded at a time.\n",
              "const MAX_PAYLOAD_SIZE = 100 * 1024;\n",
              "\n",
              "function _uploadFiles(inputId, outputId) {\n",
              "  const steps = uploadFilesStep(inputId, outputId);\n",
              "  const outputElement = document.getElementById(outputId);\n",
              "  // Cache steps on the outputElement to make it available for the next call\n",
              "  // to uploadFilesContinue from Python.\n",
              "  outputElement.steps = steps;\n",
              "\n",
              "  return _uploadFilesContinue(outputId);\n",
              "}\n",
              "\n",
              "// This is roughly an async generator (not supported in the browser yet),\n",
              "// where there are multiple asynchronous steps and the Python side is going\n",
              "// to poll for completion of each step.\n",
              "// This uses a Promise to block the python side on completion of each step,\n",
              "// then passes the result of the previous step as the input to the next step.\n",
              "function _uploadFilesContinue(outputId) {\n",
              "  const outputElement = document.getElementById(outputId);\n",
              "  const steps = outputElement.steps;\n",
              "\n",
              "  const next = steps.next(outputElement.lastPromiseValue);\n",
              "  return Promise.resolve(next.value.promise).then((value) => {\n",
              "    // Cache the last promise value to make it available to the next\n",
              "    // step of the generator.\n",
              "    outputElement.lastPromiseValue = value;\n",
              "    return next.value.response;\n",
              "  });\n",
              "}\n",
              "\n",
              "/**\n",
              " * Generator function which is called between each async step of the upload\n",
              " * process.\n",
              " * @param {string} inputId Element ID of the input file picker element.\n",
              " * @param {string} outputId Element ID of the output display.\n",
              " * @return {!Iterable<!Object>} Iterable of next steps.\n",
              " */\n",
              "function* uploadFilesStep(inputId, outputId) {\n",
              "  const inputElement = document.getElementById(inputId);\n",
              "  inputElement.disabled = false;\n",
              "\n",
              "  const outputElement = document.getElementById(outputId);\n",
              "  outputElement.innerHTML = '';\n",
              "\n",
              "  const pickedPromise = new Promise((resolve) => {\n",
              "    inputElement.addEventListener('change', (e) => {\n",
              "      resolve(e.target.files);\n",
              "    });\n",
              "  });\n",
              "\n",
              "  const cancel = document.createElement('button');\n",
              "  inputElement.parentElement.appendChild(cancel);\n",
              "  cancel.textContent = 'Cancel upload';\n",
              "  const cancelPromise = new Promise((resolve) => {\n",
              "    cancel.onclick = () => {\n",
              "      resolve(null);\n",
              "    };\n",
              "  });\n",
              "\n",
              "  // Wait for the user to pick the files.\n",
              "  const files = yield {\n",
              "    promise: Promise.race([pickedPromise, cancelPromise]),\n",
              "    response: {\n",
              "      action: 'starting',\n",
              "    }\n",
              "  };\n",
              "\n",
              "  cancel.remove();\n",
              "\n",
              "  // Disable the input element since further picks are not allowed.\n",
              "  inputElement.disabled = true;\n",
              "\n",
              "  if (!files) {\n",
              "    return {\n",
              "      response: {\n",
              "        action: 'complete',\n",
              "      }\n",
              "    };\n",
              "  }\n",
              "\n",
              "  for (const file of files) {\n",
              "    const li = document.createElement('li');\n",
              "    li.append(span(file.name, {fontWeight: 'bold'}));\n",
              "    li.append(span(\n",
              "        `(${file.type || 'n/a'}) - ${file.size} bytes, ` +\n",
              "        `last modified: ${\n",
              "            file.lastModifiedDate ? file.lastModifiedDate.toLocaleDateString() :\n",
              "                                    'n/a'} - `));\n",
              "    const percent = span('0% done');\n",
              "    li.appendChild(percent);\n",
              "\n",
              "    outputElement.appendChild(li);\n",
              "\n",
              "    const fileDataPromise = new Promise((resolve) => {\n",
              "      const reader = new FileReader();\n",
              "      reader.onload = (e) => {\n",
              "        resolve(e.target.result);\n",
              "      };\n",
              "      reader.readAsArrayBuffer(file);\n",
              "    });\n",
              "    // Wait for the data to be ready.\n",
              "    let fileData = yield {\n",
              "      promise: fileDataPromise,\n",
              "      response: {\n",
              "        action: 'continue',\n",
              "      }\n",
              "    };\n",
              "\n",
              "    // Use a chunked sending to avoid message size limits. See b/62115660.\n",
              "    let position = 0;\n",
              "    do {\n",
              "      const length = Math.min(fileData.byteLength - position, MAX_PAYLOAD_SIZE);\n",
              "      const chunk = new Uint8Array(fileData, position, length);\n",
              "      position += length;\n",
              "\n",
              "      const base64 = btoa(String.fromCharCode.apply(null, chunk));\n",
              "      yield {\n",
              "        response: {\n",
              "          action: 'append',\n",
              "          file: file.name,\n",
              "          data: base64,\n",
              "        },\n",
              "      };\n",
              "\n",
              "      let percentDone = fileData.byteLength === 0 ?\n",
              "          100 :\n",
              "          Math.round((position / fileData.byteLength) * 100);\n",
              "      percent.textContent = `${percentDone}% done`;\n",
              "\n",
              "    } while (position < fileData.byteLength);\n",
              "  }\n",
              "\n",
              "  // All done.\n",
              "  yield {\n",
              "    response: {\n",
              "      action: 'complete',\n",
              "    }\n",
              "  };\n",
              "}\n",
              "\n",
              "scope.google = scope.google || {};\n",
              "scope.google.colab = scope.google.colab || {};\n",
              "scope.google.colab._files = {\n",
              "  _uploadFiles,\n",
              "  _uploadFilesContinue,\n",
              "};\n",
              "})(self);\n",
              "</script> "
            ]
          },
          "metadata": {}
        },
        {
          "output_type": "stream",
          "name": "stdout",
          "text": [
            "Saving iris.csv to iris.csv\n",
            "iris.csv  sample_data  spark-3.0.0-bin-hadoop3.2  spark-3.0.0-bin-hadoop3.2.tgz\n"
          ]
        }
      ]
    },
    {
      "cell_type": "markdown",
      "source": [
        "Leemos el dataset con el que queremos trabajar, en este caso vamos a trabajar con el dataset de Iris\n",
        "\n"
      ],
      "metadata": {
        "id": "oTNlC6hLQEcj"
      }
    },
    {
      "cell_type": "code",
      "source": [
        "dataset = spark.read.csv('iris.csv',inferSchema=True, header =True)"
      ],
      "metadata": {
        "id": "5sooAU--WkYQ"
      },
      "execution_count": null,
      "outputs": []
    },
    {
      "cell_type": "markdown",
      "source": [
        "Mostramos los atributos que tiene el dataset y su tipo"
      ],
      "metadata": {
        "id": "vH_EiS93Wspc"
      }
    },
    {
      "cell_type": "code",
      "source": [
        "dataset.printSchema()"
      ],
      "metadata": {
        "colab": {
          "base_uri": "https://localhost:8080/"
        },
        "id": "9-DH4JqH6kRH",
        "outputId": "a8ac475c-92ea-4cf7-a62a-3d85b5cda993"
      },
      "execution_count": null,
      "outputs": [
        {
          "output_type": "stream",
          "name": "stdout",
          "text": [
            "root\n",
            " |-- sepallength: double (nullable = true)\n",
            " |-- sepalwidth: double (nullable = true)\n",
            " |-- petallength: double (nullable = true)\n",
            " |-- petalwidth: double (nullable = true)\n",
            " |-- variety: string (nullable = true)\n",
            "\n"
          ]
        }
      ]
    },
    {
      "cell_type": "markdown",
      "source": [
        "Ahora vamos a trabajar con todas las variables y la varible variety será la salida. Creamos un conjunto de datos donde los inputs serán un vector"
      ],
      "metadata": {
        "id": "pEK6sg-OW26u"
      }
    },
    {
      "cell_type": "code",
      "source": [
        "from pyspark.ml.feature import VectorAssembler\n",
        "from pyspark.ml.feature import StringIndexer\n",
        "\n",
        "df = VectorAssembler(inputCols=['sepallength', 'sepalwidth', 'petallength', 'petalwidth'], outputCol = 'inputs').transform(dataset)\n",
        "\n",
        "df = df.select(['inputs','variety'])\n",
        "\n",
        "df.printSchema()\n",
        "\n",
        "labelIndexer = StringIndexer(inputCol='variety', outputCol='Class').fit(df)\n",
        "df = labelIndexer.transform(df)"
      ],
      "metadata": {
        "colab": {
          "base_uri": "https://localhost:8080/"
        },
        "id": "K-Zla-cjcDjx",
        "outputId": "0b17a350-e305-4e59-f4b2-aff2298078d3"
      },
      "execution_count": null,
      "outputs": [
        {
          "output_type": "stream",
          "name": "stdout",
          "text": [
            "root\n",
            " |-- inputs: vector (nullable = true)\n",
            " |-- variety: string (nullable = true)\n",
            "\n"
          ]
        }
      ]
    },
    {
      "cell_type": "markdown",
      "source": [
        "Dividimos el conjunto de datos en train y test. Vamos a considerar una partición del tipo 80/20"
      ],
      "metadata": {
        "id": "2G2US5dkXqmm"
      }
    },
    {
      "cell_type": "code",
      "source": [
        "trainData,testData = df.randomSplit([0.8,0.2])"
      ],
      "metadata": {
        "id": "X12qbtC7Xx2r"
      },
      "execution_count": null,
      "outputs": []
    },
    {
      "cell_type": "markdown",
      "source": [
        "Indicamos qué atributos serán las entradas y cuales serán la salida. Finalmente, entrenamos y testeamos con trainData y testData, y mostramos las predicciones"
      ],
      "metadata": {
        "id": "hZKWsevfX_aa"
      }
    },
    {
      "cell_type": "code",
      "source": [
        "from pyspark.ml.classification import DecisionTreeClassifier\n",
        "\n",
        "dt = DecisionTreeClassifier(featuresCol = 'inputs', labelCol = 'Class', maxDepth = 3)\n",
        "\n",
        "#Entrenamos el modelo con el conjunto de train\n",
        "model = dt.fit(trainData)\n",
        "\n",
        "#Hacemos predicciones\n",
        "predictions = model.transform(testData)\n",
        "\n",
        "#Mostramos las predicciones\n",
        "predictions.select('Class', 'prediction').show()"
      ],
      "metadata": {
        "colab": {
          "base_uri": "https://localhost:8080/"
        },
        "id": "sZA95wApX-hm",
        "outputId": "f8b643df-bd24-4f59-a186-c5b9763260fb"
      },
      "execution_count": null,
      "outputs": [
        {
          "output_type": "stream",
          "name": "stdout",
          "text": [
            "+-----+----------+\n",
            "|Class|prediction|\n",
            "+-----+----------+\n",
            "|  0.0|       0.0|\n",
            "|  0.0|       0.0|\n",
            "|  0.0|       0.0|\n",
            "|  0.0|       0.0|\n",
            "|  0.0|       0.0|\n",
            "|  1.0|       1.0|\n",
            "|  0.0|       0.0|\n",
            "|  0.0|       0.0|\n",
            "|  0.0|       0.0|\n",
            "|  0.0|       0.0|\n",
            "|  0.0|       0.0|\n",
            "|  0.0|       0.0|\n",
            "|  0.0|       0.0|\n",
            "|  0.0|       0.0|\n",
            "|  1.0|       1.0|\n",
            "|  1.0|       1.0|\n",
            "|  1.0|       1.0|\n",
            "|  2.0|       2.0|\n",
            "|  2.0|       2.0|\n",
            "|  2.0|       2.0|\n",
            "+-----+----------+\n",
            "only showing top 20 rows\n",
            "\n"
          ]
        }
      ]
    },
    {
      "cell_type": "markdown",
      "source": [
        "Mostramos resultados del modelo en test"
      ],
      "metadata": {
        "id": "Xrj35xtmlhLh"
      }
    },
    {
      "cell_type": "code",
      "source": [
        "from pyspark.ml.evaluation import MulticlassClassificationEvaluator\n",
        "\n",
        "evaluator = MulticlassClassificationEvaluator(labelCol=\"Class\", predictionCol=\"prediction\", metricName = \"accuracy\")\n",
        "accuracy = evaluator.evaluate(predictions)\n",
        "print(\"Test Error = %g\" % (1.0 - accuracy))\n",
        "print(\"Accuracy = %g \" % accuracy)"
      ],
      "metadata": {
        "colab": {
          "base_uri": "https://localhost:8080/"
        },
        "id": "wYJpi7q9lgNj",
        "outputId": "3a66fe8f-cd91-4110-968e-97d940607e75"
      },
      "execution_count": null,
      "outputs": [
        {
          "output_type": "stream",
          "name": "stdout",
          "text": [
            "Test Error = 0.0571429\n",
            "Accuracy = 0.942857 \n"
          ]
        }
      ]
    },
    {
      "cell_type": "markdown",
      "source": [
        "Mostramos el arbol resultado del modelo"
      ],
      "metadata": {
        "id": "y0NyNLDMN7Zq"
      }
    },
    {
      "cell_type": "code",
      "source": [
        "print(model.toDebugString)"
      ],
      "metadata": {
        "colab": {
          "base_uri": "https://localhost:8080/"
        },
        "id": "XrBou2GwN-VL",
        "outputId": "35a82607-44b0-41f1-a08c-b98cf633babb"
      },
      "execution_count": null,
      "outputs": [
        {
          "output_type": "stream",
          "name": "stdout",
          "text": [
            "DecisionTreeClassificationModel: uid=DecisionTreeClassifier_cc359943ea15, depth=3, numNodes=7, numClasses=3, numFeatures=4\n",
            "  If (feature 2 <= 2.45)\n",
            "   Predict: 0.0\n",
            "  Else (feature 2 > 2.45)\n",
            "   If (feature 3 <= 1.75)\n",
            "    If (feature 2 <= 5.05)\n",
            "     Predict: 1.0\n",
            "    Else (feature 2 > 5.05)\n",
            "     Predict: 2.0\n",
            "   Else (feature 3 > 1.75)\n",
            "    Predict: 2.0\n",
            "\n"
          ]
        }
      ]
    }
  ]
}