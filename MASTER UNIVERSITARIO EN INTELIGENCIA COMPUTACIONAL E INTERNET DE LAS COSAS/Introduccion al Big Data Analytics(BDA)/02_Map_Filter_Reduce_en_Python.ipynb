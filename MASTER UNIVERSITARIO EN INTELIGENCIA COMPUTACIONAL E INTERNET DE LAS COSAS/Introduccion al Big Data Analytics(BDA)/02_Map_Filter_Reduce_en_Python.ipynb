{
  "nbformat": 4,
  "nbformat_minor": 0,
  "metadata": {
    "colab": {
      "provenance": []
    },
    "kernelspec": {
      "name": "python3",
      "display_name": "Python 3"
    },
    "language_info": {
      "name": "python"
    }
  },
  "cells": [
    {
      "cell_type": "markdown",
      "source": [
        "# <b>`map`, `filter`, `reduce` en Python</b>\n",
        "## <i>Big Data Analytics</i>\n",
        "\n",
        "Curso 2022/23\n",
        "\n",
        "Prof. *Dr. José Raúl Romero Salguero*\n",
        "\n",
        "---\n",
        "\n"
      ],
      "metadata": {
        "id": "LUXZZJ93Ftqs"
      }
    },
    {
      "cell_type": "markdown",
      "source": [
        "Para entender el modelo de desarrollo con MapReduce en Python, es necesario conocer primero los fundamentos de la programación funcional en este lenguaje, así como las funciones `map`, `filter` y `reduce` de Python. Este es el tema que se aborda en este *notebook*.\n",
        "\n",
        "---"
      ],
      "metadata": {
        "id": "UrAEyNEG3w5Z"
      }
    },
    {
      "cell_type": "markdown",
      "source": [
        "# **Expresiones lambda en Python**\n",
        "\n",
        "Para entender cómo idear un código de MapReduce, tomamos como referencia el paradigma de la **programación funcional**, en el que las funciones son *ciudadanos de primer orden*, donde sus expresiones pueden ser asignadas a variables que se pasan como parámetros en cualquier función. Para ello, hay primero que entender las **expresiones lambda**. \n"
      ],
      "metadata": {
        "id": "hk0Un4vegMJy"
      }
    },
    {
      "cell_type": "markdown",
      "source": [
        "## ¿Qué son las expresiones lambda?\n",
        "Las **expresiones lambda** nos permiten centrarnos en *qué se hace*, no tanto en el estado o el *cómo se hace*.\n",
        "\n",
        "En general, una expresión lambda es una función sin nombre y una única línea de código, de la forma: `lamdba arg(s): expr`.\n",
        "\n",
        "Su función es evaluar la expresión `expr` para un(os) argumento(s) `arg(s)` dado(s).\n",
        "\n",
        "##¿Por qué se utilizan?\n",
        "* En expresiones lógicas, hace el código más legible y fácil de comprender.\n",
        "* Especialmente adecuado para códigos de un solo uso.\n",
        "\n",
        "##¿Cuándo **no** utilizarlas?\n",
        "* Cuando se necesite ejecutar múltiples expresiones.\n",
        "* En operaciones que necesiten condicionales o expresiones anidadas: \n",
        "> *si no se puede leer y entender rápidamente, no es una expresión lambda adecuada* <br> → utiliza una función\n",
        "\n",
        "##¿Qué relación tienen con nuestra asignatura?\n",
        "En Python, se utilizan funciones lambda como argumento de `map()` y `filter()`, denominadas **funciones de orden superior** (*higher-order functions*). \n",
        "\n",
        "> En contraposición a las **funciones de primer orden**, una de orden superior toma una función como argumento o devuelve una función\n",
        "\n",
        "\n"
      ],
      "metadata": {
        "id": "2tbwex6Olly_"
      }
    },
    {
      "cell_type": "markdown",
      "source": [
        "Ejemplo: Queremos multiplicar por 2 los elementos de una lista."
      ],
      "metadata": {
        "id": "NreCg59TnwJV"
      }
    },
    {
      "cell_type": "code",
      "source": [
        "def duplicar_en(data):\n",
        "    res = []\n",
        "    for i in data:\n",
        "        res.append(2 * i)\n",
        "    return res"
      ],
      "metadata": {
        "id": "kWgLj2dXn77D"
      },
      "execution_count": null,
      "outputs": []
    },
    {
      "cell_type": "markdown",
      "source": [
        "Ejemplo: Queremos multiplicar por 6 los elementos de una lista."
      ],
      "metadata": {
        "id": "WDGZ7S2coISv"
      }
    },
    {
      "cell_type": "code",
      "source": [
        "def sextuplicar_en(data):\n",
        "    res = []\n",
        "    for i in data:\n",
        "        res.append(6 * i)\n",
        "    return res"
      ],
      "metadata": {
        "id": "EzSi_1hpoOiI"
      },
      "execution_count": null,
      "outputs": []
    },
    {
      "cell_type": "markdown",
      "source": [
        "Ya tenemos dos operaciones, `duplicar_en` y `sextuplicar_en`, que utilizaremos según lo que deseemos hacer con los valores de la lista. "
      ],
      "metadata": {
        "id": "jYOPURU1oUXI"
      }
    },
    {
      "cell_type": "code",
      "source": [
        "sextuplicar_en([1,2,4,8,16,32,64,128])"
      ],
      "metadata": {
        "colab": {
          "base_uri": "https://localhost:8080/"
        },
        "id": "KxTj1UKuoooN",
        "outputId": "fe795c41-6990-4157-97e0-dbe6c6ea8a7c"
      },
      "execution_count": null,
      "outputs": [
        {
          "output_type": "execute_result",
          "data": {
            "text/plain": [
              "[6, 12, 24, 48, 96, 192, 384, 768]"
            ]
          },
          "metadata": {},
          "execution_count": 3
        }
      ]
    },
    {
      "cell_type": "code",
      "source": [
        "duplicar_en([1,2,4,8,16,32,64,128])"
      ],
      "metadata": {
        "colab": {
          "base_uri": "https://localhost:8080/"
        },
        "id": "0kbqe36Ko4MY",
        "outputId": "70e1acf6-ecdd-4587-e1c7-5fafdc83a121"
      },
      "execution_count": null,
      "outputs": [
        {
          "output_type": "execute_result",
          "data": {
            "text/plain": [
              "[2, 4, 8, 16, 32, 64, 128, 256]"
            ]
          },
          "metadata": {},
          "execution_count": 4
        }
      ]
    },
    {
      "cell_type": "markdown",
      "source": [
        "**¡Estamos duplicando código!**\n",
        "\n",
        "¿Cómo podemos evitar duplicar código?"
      ],
      "metadata": {
        "id": "UYZhjgEeo4h0"
      }
    },
    {
      "cell_type": "code",
      "source": [
        "def multiplicar_en(n, data):\n",
        "    res = []\n",
        "    for i in data:\n",
        "        res.append(n * i)\n",
        "    return res"
      ],
      "metadata": {
        "id": "TQg5ok9WpUv2"
      },
      "execution_count": null,
      "outputs": []
    },
    {
      "cell_type": "markdown",
      "source": [
        "Ahora el código anterior ya no se duplica:"
      ],
      "metadata": {
        "id": "vNxfRaYopfJo"
      }
    },
    {
      "cell_type": "code",
      "source": [
        "# Sextuplicar\n",
        "multiplicar_en(6,[1,2,4,8,16,32,64,128])\n",
        "# Duplicar\n",
        "multiplicar_en(2,[1,2,4,8,16,32,64,128])"
      ],
      "metadata": {
        "id": "jcDkDwrSpiQG",
        "colab": {
          "base_uri": "https://localhost:8080/"
        },
        "outputId": "5a1188dd-b425-412e-ff55-a8c53d3cf7f0"
      },
      "execution_count": null,
      "outputs": [
        {
          "output_type": "execute_result",
          "data": {
            "text/plain": [
              "[2, 4, 8, 16, 32, 64, 128, 256]"
            ]
          },
          "metadata": {},
          "execution_count": 6
        }
      ]
    },
    {
      "cell_type": "markdown",
      "source": [
        "¿Solucionado?\n",
        "\n",
        "Ejemplo: Supongamos que queremos elevar al cuadrado los elementos de una lista."
      ],
      "metadata": {
        "id": "Ckll2kkzpxlS"
      }
    },
    {
      "cell_type": "code",
      "source": [
        "def cuadrado_en(data):\n",
        "    res = []\n",
        "    for i in data:\n",
        "        res.append(i * i)\n",
        "    return res"
      ],
      "metadata": {
        "id": "GXpdn3Unp7gW"
      },
      "execution_count": null,
      "outputs": []
    },
    {
      "cell_type": "code",
      "source": [
        "import random\n",
        "cuadrado_en([random.randint(0,1000) for _ in range(10)])"
      ],
      "metadata": {
        "colab": {
          "base_uri": "https://localhost:8080/"
        },
        "id": "9y9PH8NwqDX9",
        "outputId": "7e2928fa-faa9-47bf-bfa9-0363b3318b34"
      },
      "execution_count": null,
      "outputs": [
        {
          "output_type": "execute_result",
          "data": {
            "text/plain": [
              "[34596, 95481, 220900, 180625, 455625, 474721, 427716, 948676, 413449, 341056]"
            ]
          },
          "metadata": {},
          "execution_count": 8
        }
      ]
    },
    {
      "cell_type": "markdown",
      "source": [
        "Al código anterior no puedo aplicarle un operando (desconocido), por lo que seguiremos duplicando el código para implementar el recorrido por la lista para realizar la operación.\n",
        "\n",
        "Consideramos entonces el siguiente código."
      ],
      "metadata": {
        "id": "NWLU_WWwrR9x"
      }
    },
    {
      "cell_type": "code",
      "source": [
        "def cuadrado(x):\n",
        "  return x*x\n",
        "\n",
        "def doble(x):\n",
        "  return 2*x\n",
        "\n",
        "#Podemos redefinir las funciones de antes:\n",
        "def cuadrado_en(data):\n",
        "    res = []\n",
        "    for i in data:\n",
        "        res.append(cuadrado(i))\n",
        "    return res\n",
        "\n",
        "def duplicar_en(data):\n",
        "    res = []\n",
        "    for i in data:\n",
        "        res.append(doble(i))\n",
        "    return res\n",
        "\n",
        "duplicar_en([1,2,4,8,16,32,64,128])"
      ],
      "metadata": {
        "colab": {
          "base_uri": "https://localhost:8080/"
        },
        "id": "4jtp7IafrAbx",
        "outputId": "5ac26416-1d61-41e3-e7da-8590b4176128"
      },
      "execution_count": null,
      "outputs": [
        {
          "output_type": "execute_result",
          "data": {
            "text/plain": [
              "[2, 4, 8, 16, 32, 64, 128, 256]"
            ]
          },
          "metadata": {},
          "execution_count": 10
        }
      ]
    },
    {
      "cell_type": "code",
      "source": [
        "cuadrado_en([1,2,4,8,16,32,64,128])"
      ],
      "metadata": {
        "colab": {
          "base_uri": "https://localhost:8080/"
        },
        "id": "X1sAuIPWssEb",
        "outputId": "1673a9fd-8ce8-4bcd-affb-363f312ef6d9"
      },
      "execution_count": null,
      "outputs": [
        {
          "output_type": "execute_result",
          "data": {
            "text/plain": [
              "[1, 4, 16, 64, 256, 1024, 4096, 16384]"
            ]
          },
          "metadata": {},
          "execution_count": 11
        }
      ]
    },
    {
      "cell_type": "markdown",
      "source": [
        "Incluso refactorizando el código, se mantiene la duplicidad. \n",
        "\n",
        "**¿Puede evitarse esta duplicidad de código?**"
      ],
      "metadata": {
        "id": "ZhIKUuges6XK"
      }
    },
    {
      "cell_type": "markdown",
      "source": [
        "## Funciones como valores"
      ],
      "metadata": {
        "id": "mMxAVlvctJ4u"
      }
    },
    {
      "cell_type": "markdown",
      "source": [
        "Dado que todo el cuerpo del comportamiento es similar, cambiando la expresión que se aplica, podemos pasar esta **expresión como valor a la función** que realiza la operación en el recorrido de la lista. Se trataría de una *inyección de dependencias*.\n",
        "\n",
        "Ya tenemos las expresiones definidas antes, por lo que ahora definimos el comportamiento de cómo se realiza la operación sobre los elementos de la lista."
      ],
      "metadata": {
        "id": "J2HyQcrstVDx"
      }
    },
    {
      "cell_type": "code",
      "source": [
        "def aplicar_f_en(f, data):\n",
        "    res = []\n",
        "    for i in data:\n",
        "        res.append(f(i))\n",
        "    return res"
      ],
      "metadata": {
        "id": "NHe3u9Q5tUJl"
      },
      "execution_count": null,
      "outputs": []
    },
    {
      "cell_type": "markdown",
      "source": [
        "Realizamos de nuevo las operaciones `cuadrado` y `multiplicar`."
      ],
      "metadata": {
        "id": "2jfPkFuZt_kJ"
      }
    },
    {
      "cell_type": "code",
      "source": [
        "aplicar_f_en(cuadrado, [1,2,4,8,16,32,64,128])"
      ],
      "metadata": {
        "colab": {
          "base_uri": "https://localhost:8080/"
        },
        "id": "coU3a6QBuH4m",
        "outputId": "2fc189ec-3a02-44de-8fd3-7a209b050bbe"
      },
      "execution_count": null,
      "outputs": [
        {
          "output_type": "execute_result",
          "data": {
            "text/plain": [
              "[1, 4, 16, 64, 256, 1024, 4096, 16384]"
            ]
          },
          "metadata": {},
          "execution_count": 13
        }
      ]
    },
    {
      "cell_type": "code",
      "source": [
        "aplicar_f_en(doble, [1,2,4,8,16,32,64,128])"
      ],
      "metadata": {
        "colab": {
          "base_uri": "https://localhost:8080/"
        },
        "id": "xsZ8LNPrucbc",
        "outputId": "f4dcfcb5-4aab-449a-8565-b8ad8646d3b9"
      },
      "execution_count": null,
      "outputs": [
        {
          "output_type": "execute_result",
          "data": {
            "text/plain": [
              "[2, 4, 8, 16, 32, 64, 128, 256]"
            ]
          },
          "metadata": {},
          "execution_count": 14
        }
      ]
    },
    {
      "cell_type": "markdown",
      "source": [
        "Pero mantenemos una limitación: **¿hay necesidad de dar un nombre** (de función) **a una expresión sencilla?**\n",
        "\n",
        "Eliminemos las funciones `doble` y `cuadrado`, ya que *conocemos sus expresiones*, *no requieren más parámetros* y *son limitantes* respecto a qué operaciones artiméticas se pueden realizar sobre los elementos de la lista."
      ],
      "metadata": {
        "id": "L9bG6fB-um5R"
      }
    },
    {
      "cell_type": "markdown",
      "source": [
        "## <b>Funciones lambda</b>\n",
        "\n"
      ],
      "metadata": {
        "id": "fMZQmoRpvFza"
      }
    },
    {
      "cell_type": "markdown",
      "source": [
        "Las expresiones lambda ahorran tiempo y código.\n",
        "\n",
        "Volvamos a las operaciones `cuadrado` y `duplicar`:"
      ],
      "metadata": {
        "id": "k00NZNcQvrOD"
      }
    },
    {
      "cell_type": "code",
      "source": [
        "aplicar_f_en(lambda x:x*x, [1,2,4,8,16,32,64,128])"
      ],
      "metadata": {
        "colab": {
          "base_uri": "https://localhost:8080/"
        },
        "id": "af5Q935_vgxP",
        "outputId": "75c91ddd-72c2-41c1-f240-b40dcb0aba50"
      },
      "execution_count": null,
      "outputs": [
        {
          "output_type": "execute_result",
          "data": {
            "text/plain": [
              "[1, 4, 16, 64, 256, 1024, 4096, 16384]"
            ]
          },
          "metadata": {},
          "execution_count": 15
        }
      ]
    },
    {
      "cell_type": "code",
      "source": [
        "aplicar_f_en(lambda x:2*x, [1,2,4,8,16,32,64,128])"
      ],
      "metadata": {
        "colab": {
          "base_uri": "https://localhost:8080/"
        },
        "id": "BnAUS057wHrT",
        "outputId": "ccee50d7-40be-4ec4-c14d-eceda27cece4"
      },
      "execution_count": null,
      "outputs": [
        {
          "output_type": "execute_result",
          "data": {
            "text/plain": [
              "[2, 4, 8, 16, 32, 64, 128, 256]"
            ]
          },
          "metadata": {},
          "execution_count": 16
        }
      ]
    },
    {
      "cell_type": "markdown",
      "source": [
        "# **`map`** y **`reduce`** en Python"
      ],
      "metadata": {
        "id": "LF34KnagvgEC"
      }
    },
    {
      "cell_type": "markdown",
      "source": [
        "Las funciones `map`, `filter` y `reduce` ayudan a la manipulación de colecciones en Python. Python dispone de una implementación nativa de estas funciones, siendo el **núcleo de tecnologías como Spar**k, frameworks para la manipulación y almacenamiento de datos.\n",
        "\n",
        "Independientemente de si se utilizan en Spark o no, resultan de gran ayuda también para desarrollos en lenguaje Python nativo."
      ],
      "metadata": {
        "id": "1ddtMW92qHk3"
      }
    },
    {
      "cell_type": "markdown",
      "source": [
        "## Función `map`\n",
        "\n",
        "La función `map` tiene la siguiente estructura: \n",
        "> `map(fn, col)`\n",
        "\n",
        "Esta función transforma cada elemento de un iterable o colección `col` pasándolo por la función `fn` y produce una nueva colección __con el mismo número de elementos__. El objeto creado es de tipo `map`, por lo que puede ser necesario su transformación.\n",
        "\n",
        "Una de las ventajas notorias de `map` es que su implementación **es más rápida que el uso de bucles sobre colecciones**, por lo que es una forma más adecuada de iteración cuando se cumplen las condiciones para ello.  "
      ],
      "metadata": {
        "id": "3IOn-pAy4J-x"
      }
    },
    {
      "cell_type": "code",
      "source": [
        "list(map(lambda x: x*x, [1, 2, 3, 4, 5]))"
      ],
      "metadata": {
        "colab": {
          "base_uri": "https://localhost:8080/"
        },
        "id": "GwUKUSqw5J95",
        "outputId": "f9465948-37b7-4735-cb08-c69e9c8afbd6"
      },
      "execution_count": null,
      "outputs": [
        {
          "output_type": "execute_result",
          "data": {
            "text/plain": [
              "[1, 4, 9, 16, 25]"
            ]
          },
          "metadata": {},
          "execution_count": 17
        }
      ]
    },
    {
      "cell_type": "markdown",
      "source": [
        "Observa que `map` no necesariamente requiere una función con nombre, por lo que el **uso de lambda** puede mejorar la comprensibilidad y tiempos de la llamada.\n",
        "\n",
        "La correspondencia entre el iterable de entrada y el de salida es siempre exacta en cuanto a números de elementos: **función N:N**.\n",
        "\n",
        "Ejemplo: Conteo de letras de los elementos de una lista."
      ],
      "metadata": {
        "id": "SIbHiMUA6rGb"
      }
    },
    {
      "cell_type": "code",
      "source": [
        "# El uso de len(x) para el conteo de caracteres de una cadena es válido en Python3\n",
        "map_long = map(lambda x:len(x), ['Anakin', 'Luke', 'Han', 'Leia', 'Obi-Wan', 'Yoda', 'Kylo', 'Chewbacca'])\n",
        "list(map_long)"
      ],
      "metadata": {
        "colab": {
          "base_uri": "https://localhost:8080/"
        },
        "id": "O_w0SXD87J5h",
        "outputId": "e158585b-e911-4d96-a9c0-b1b06f006cf6"
      },
      "execution_count": null,
      "outputs": [
        {
          "output_type": "execute_result",
          "data": {
            "text/plain": [
              "[6, 4, 3, 4, 7, 4, 4, 9]"
            ]
          },
          "metadata": {},
          "execution_count": 18
        }
      ]
    },
    {
      "cell_type": "markdown",
      "source": [
        "La función `map` desarrollada en la celda de arriba es la optimización apropiada con uso de lambda para la formulación. Una versión equivalente pero no tan correcta sería:"
      ],
      "metadata": {
        "id": "viCxit4-94mI"
      }
    },
    {
      "cell_type": "code",
      "source": [
        "def contar_letras(x):\n",
        "  return len(x)\n",
        "\n",
        "list(map(contar_letras, ['Anakin', 'Luke', 'Han', 'Leia', 'Obi-Wan', 'Yoda', 'Kylo', 'Chewbacca']))"
      ],
      "metadata": {
        "colab": {
          "base_uri": "https://localhost:8080/"
        },
        "id": "qDE2lqdo-ADj",
        "outputId": "a6734af6-3ed0-46f4-a206-139e5fb8caab"
      },
      "execution_count": null,
      "outputs": [
        {
          "output_type": "execute_result",
          "data": {
            "text/plain": [
              "[6, 4, 3, 4, 7, 4, 4, 9]"
            ]
          },
          "metadata": {},
          "execution_count": 19
        }
      ]
    },
    {
      "cell_type": "markdown",
      "source": [
        "## Función `filter`\n",
        "\n",
        "La función filter tiene la siguiente estructura:\n",
        "\n",
        "> `filter(fn, col)`\n",
        "\n",
        "Esta función crea una nueva lista a partir de los elementos del iterable `col` si satisfacen la condición establecida en `fn`, esto es, si `fn` devuelve `True`. \n",
        "\n",
        "`filter` es equivalente a implementar un bucle con un condicional. Sin embargo, tanto en *frameworks* como en Python nativo resulta una forma mucha más eficiente de realizar esta implementación. \n",
        "\n",
        "En este caso, la correspondencia entre el iterable de entrada y el de salida no es exacta (como en `map`), sino que será una **relación N:M / M <= N**\n"
      ],
      "metadata": {
        "id": "fMn1qgwc-YUv"
      }
    },
    {
      "cell_type": "markdown",
      "source": [
        "*Ejemplo*: Supongamos que solo nos gustan los nombres cortos (4 o menos letras)"
      ],
      "metadata": {
        "id": "BvUt8ZHIfWNe"
      }
    },
    {
      "cell_type": "code",
      "source": [
        "def esNombreCorto(x):\n",
        "  return len(x) < 5\n",
        "\n",
        "n_cortos = filter(esNombreCorto, ['Anakin', 'Luke', 'Han', 'Leia', 'Obi-Wan', 'Yoda', 'Kylo', 'Chewbacca'])\n",
        "list(n_cortos)"
      ],
      "metadata": {
        "colab": {
          "base_uri": "https://localhost:8080/"
        },
        "id": "GGs2edONfmGD",
        "outputId": "be90d0e9-d697-43ca-c13c-22bb3291939c"
      },
      "execution_count": null,
      "outputs": [
        {
          "output_type": "execute_result",
          "data": {
            "text/plain": [
              "['Luke', 'Han', 'Leia', 'Yoda', 'Kylo']"
            ]
          },
          "metadata": {},
          "execution_count": 20
        }
      ]
    },
    {
      "cell_type": "markdown",
      "source": [
        "De forma similar a `map`, aligerar y optimizar el código con el **uso de expresiones lambda** cuando sea posible. "
      ],
      "metadata": {
        "id": "A5dehclyf98A"
      }
    },
    {
      "cell_type": "code",
      "source": [
        "n_cortos = filter(lambda x: len(x) < 5, ['Anakin', 'Luke', 'Han', 'Leia', 'Obi-Wan', 'Yoda', 'Kylo', 'Chewbacca'])\n",
        "list(n_cortos)"
      ],
      "metadata": {
        "colab": {
          "base_uri": "https://localhost:8080/"
        },
        "id": "I2SM4IxLgkgK",
        "outputId": "995af2a0-55c1-485d-ea5f-499f9833be64"
      },
      "execution_count": null,
      "outputs": [
        {
          "output_type": "execute_result",
          "data": {
            "text/plain": [
              "['Luke', 'Han', 'Leia', 'Yoda', 'Kylo']"
            ]
          },
          "metadata": {},
          "execution_count": 21
        }
      ]
    },
    {
      "cell_type": "markdown",
      "source": [
        "## Función `reduce`\n",
        "\n",
        "La función `reduce` tiene la siguiente estructura:\n",
        "\n",
        "> `reduce(fn, col[, init])`\n",
        "\n",
        "Esta función aplica la función `fn` sobre elementos del iterable `col` y **devuelve un único valor resultado** de la computación. Por tanto, reduce establece entre sus entradas y salidas una **relación N:1**.\n",
        "\n",
        "Para saber cómo funciona, supongamos la multiplicación de los valores de una lista: "
      ],
      "metadata": {
        "id": "XEJMa3JTg1UK"
      }
    },
    {
      "cell_type": "code",
      "source": [
        "import functools\n",
        "\n",
        "functools.reduce(lambda x,y: x*y, [1,2,3,4,5,6,7,8,9]) #[1,2,4,8,16,32,64,128,256])"
      ],
      "metadata": {
        "colab": {
          "base_uri": "https://localhost:8080/"
        },
        "id": "POnWiPEvi9FE",
        "outputId": "ab5d696b-2142-4ade-b868-ebdb54d4987c"
      },
      "execution_count": null,
      "outputs": [
        {
          "output_type": "execute_result",
          "data": {
            "text/plain": [
              "362880"
            ]
          },
          "metadata": {},
          "execution_count": 28
        }
      ]
    },
    {
      "cell_type": "markdown",
      "source": [
        "*NOTA*: Obsérvese que **`reduce` ya no está implementada de forma nativa** desde la versión Python3, por lo que debe utilizarse en el módulo que la define: `functools`\n",
        "\n",
        "`init` es el valor inicial resultado con el que se comienza la ejecución de `reduce`, incorporándose antes que el primero (elemento 0) cuando se proporciona.\n",
        "\n",
        "Para la reducción anterior, la secuencia es como sigue:\n",
        "\n",
        "1.   `1*2` → 2\n",
        "2.   `2*3` → 6\n",
        "3.   `6*4` → 24\n",
        "4.   `24*5` → 120\n",
        "5.   ...\n",
        "\n",
        "En caso de haber especificado `init`, se incluiría un paso 0 (anterior al 1), que hubiera realizado la operación `init*1`\n"
      ],
      "metadata": {
        "id": "8r1UCFAjkO-M"
      }
    },
    {
      "cell_type": "markdown",
      "source": [
        "*Ejemplo*: Supongamos que queremos obtener el máximo de una lista"
      ],
      "metadata": {
        "id": "dI0HTQQcmwcX"
      }
    },
    {
      "cell_type": "code",
      "source": [
        "import random\n",
        "\n",
        "lista = [random.randint(0,1000) for _ in range(10)]\n",
        "print(\"La lista de elementos es: \", lista)\n",
        "\n",
        "functools.reduce(lambda x,y: x if x > y else y, lista)"
      ],
      "metadata": {
        "colab": {
          "base_uri": "https://localhost:8080/"
        },
        "id": "JN85cFdQm0w1",
        "outputId": "c286c637-1126-400e-b18c-650182d4dafb"
      },
      "execution_count": null,
      "outputs": [
        {
          "output_type": "stream",
          "name": "stdout",
          "text": [
            "La lista de elementos es:  [289, 594, 200, 477, 923, 551, 915, 127, 828, 455]\n"
          ]
        },
        {
          "output_type": "execute_result",
          "data": {
            "text/plain": [
              "923"
            ]
          },
          "metadata": {},
          "execution_count": 30
        }
      ]
    },
    {
      "cell_type": "markdown",
      "source": [
        "`reduce` puede combinarse con funciones de `operator` en Python para hacer el código más legible: https://www.geeksforgeeks.org/operator-functions-in-python-set-1/"
      ],
      "metadata": {
        "id": "O5YFfPo3oDsT"
      }
    },
    {
      "cell_type": "code",
      "source": [
        "from operator import gt\n",
        "from functools import reduce\n",
        "reduce(lambda x,y: x if gt(x,y) else y, lista)"
      ],
      "metadata": {
        "colab": {
          "base_uri": "https://localhost:8080/"
        },
        "id": "zXS4dPSboThh",
        "outputId": "7fecf861-193d-403c-dbc2-79d6793ceba7"
      },
      "execution_count": null,
      "outputs": [
        {
          "output_type": "execute_result",
          "data": {
            "text/plain": [
              "923"
            ]
          },
          "metadata": {},
          "execution_count": 31
        }
      ]
    },
    {
      "cell_type": "markdown",
      "source": [
        "Como puedes observar, `reduce` solo devuelve el elemento resultado. Si estás interesado en recibir los resultados intermedios, puede utilizarse la función `accumulate` de Python, implementada en el módulo `itertools`.\n",
        "\n",
        "*NOTA*: Precaución porque (1) se alterna el orden de los parámetros respecto a `reduce`; y (2) no se garantiza el mismo rendimiento. "
      ],
      "metadata": {
        "id": "CeHhH6uipg5R"
      }
    },
    {
      "cell_type": "code",
      "source": [
        "from itertools import accumulate\n",
        "lista = [random.randint(0,10) for _ in range(10)]\n",
        "print(\"Lista de elementos a sumar: \", lista)\n",
        "print(\"El resultado de la suma de la lista es: \", reduce(lambda x,y: x+y, lista))\n",
        "print(\"Los valores intermedios de la suma son: \", list(accumulate(lista, lambda x,y: x+y)))"
      ],
      "metadata": {
        "colab": {
          "base_uri": "https://localhost:8080/"
        },
        "id": "ut6qZM_SqBtq",
        "outputId": "c537ab43-e248-40c3-fe44-14af2a582e24"
      },
      "execution_count": null,
      "outputs": [
        {
          "output_type": "stream",
          "name": "stdout",
          "text": [
            "Lista de elementos a sumar:  [8, 0, 3, 5, 6, 6, 6, 9, 8, 9]\n",
            "El resultado de la suma de la lista es:  60\n",
            "Los valores intermedios de la suma son:  [8, 8, 11, 16, 22, 28, 34, 43, 51, 60]\n"
          ]
        }
      ]
    },
    {
      "cell_type": "markdown",
      "source": [
        "El uso de las tres funciones, `map`, `filter` y `reduce`, combinadas resulta uno de los conceptos más potentes de Python, y aprovecha al máximo las capacidades de la programación funcional.\n",
        "\n",
        "*Ejemplo*: Supongamos que tenemos un dataset con datos de las ciudades más populosas de los distintos países, sean las capitales o no. Queremos obtener una única cadena con el listado (separado por comas) de aquellas capitales que tienen más de 10M de población. *Fuente*: (Luck, 2020)"
      ],
      "metadata": {
        "id": "GuoBPjsYxMR8"
      }
    },
    {
      "cell_type": "code",
      "source": [
        "from functools import reduce\n",
        "\n",
        "# Se define el dataset con algunos datos, incluyendo una columna no realmente necesaria\n",
        "data=[['Tokyo', 35676000.0, 'primary'], ['New York', 19354922.0, 'nan'], ['Mexico City', 19028000.0, 'primary'], ['Mumbai', 18978000.0, 'admin'], ['São Paulo', 18845000.0, 'admin'], ['Delhi', 15926000.0, 'admin'], ['Shanghai', 14987000.0, 'admin'], ['Kolkata', 14787000.0, 'admin'], ['Los Angeles', 12815475.0, 'nan'], ['Dhaka', 12797394.0, 'primary'], ['Buenos Aires', 12795000.0, 'primary'], ['Karachi', 12130000.0, 'admin'], ['Cairo', 11893000.0, 'primary'], ['Rio de Janeiro', 11748000.0, 'admin'], ['Ōsaka', 11294000.0, 'admin'], ['Beijing', 11106000.0, 'primary'], ['Manila', 11100000.0, 'primary'], ['Moscow', 10452000.0, 'primary'], ['Istanbul', 10061000.0, 'admin'], ['Paris', 9904000.0, 'primary']]\n",
        "\n",
        "# Primero, se filtran aquellas ciudades que son capitales de país y tienen más de 10M de habitantes\n",
        "map_obj = filter(lambda x: x[2]=='primary' and x[1]>10000000,data)\n",
        "# Segundo, se crea una nueva lista a partir del elemento 0 de la lista anterior (los nombres)\n",
        "map_obj = map(lambda x: x[0], map_obj)\n",
        "# Tercero, se reduce la lista a una cadena (iniciada con \"Capitales:\") mediante la concatenación los elementos de la lista anterior (separados por comas)\n",
        "map_obj = reduce(lambda x,y: x+\", \"+y, map_obj, 'Capitales:')\n",
        "print(map_obj)"
      ],
      "metadata": {
        "colab": {
          "base_uri": "https://localhost:8080/"
        },
        "id": "-Ig6lREmyiR4",
        "outputId": "b77a0aac-5673-470d-e1bf-c88a01f2cc07"
      },
      "execution_count": null,
      "outputs": [
        {
          "output_type": "stream",
          "name": "stdout",
          "text": [
            "Capitales:, Tokyo, Mexico City, Dhaka, Buenos Aires, Cairo, Beijing, Manila, Moscow\n"
          ]
        }
      ]
    },
    {
      "cell_type": "markdown",
      "source": [
        "## Programación funcional y paralelismo\n",
        "\n",
        "*Fuente*: Phelps, 2016.\n",
        "\n",
        "La función de `map` se puede paralelizar a nivel de datos fácilmente. Para ello, es <u>importante</u> que la función argumento de `map` esté libre de efectos secundarios (*side effects*). Por ejemplo, se debe evitar trabajar con [datos mutables](https://towardsdatascience.com/https-towardsdatascience-com-python-basics-mutable-vs-immutable-objects-829a0cb1530a#:~:text=An%20object's%20type%20defines%20the%20possible%20values%20and%20operations.,are%20created%20are%20called%20immutable.).  \n",
        "\n",
        "Un esquema habitual de paralelismo para este tipo de computación es como sigue, que sirve a modo de **plantilla para nuestro código**:"
      ],
      "metadata": {
        "id": "6MDjH_E_wjLG"
      }
    },
    {
      "cell_type": "code",
      "source": [
        "def hacer(fn, res, data, i):\n",
        "    print(\"Calculando el \", i, \"-ésimo resultado...\")\n",
        "    # Esta operación se planifica en distintos CPU o hilos\n",
        "    res[i] = fn(data[i])\n",
        "\n",
        "def fn_map(fn, data):\n",
        "    # Recordemos que map es una función N:N\n",
        "    res = [None] * len(data)\n",
        "    for i in range(len(data)):\n",
        "        hacer(fn, res, data, i)\n",
        "    # Esperar aquí a que el resto de hilos termine antes de emitir el resultado...\n",
        "    return res\n",
        "\n",
        "# Pongamos un ejemplo de función lambda\n",
        "fn_map(lambda x: x * x, [random.randint(0,100) for _ in range(10)])"
      ],
      "metadata": {
        "colab": {
          "base_uri": "https://localhost:8080/"
        },
        "id": "uUKCJk6nz3kb",
        "outputId": "49f94d8f-8e34-4d04-c77e-652a3286ae46"
      },
      "execution_count": null,
      "outputs": [
        {
          "output_type": "stream",
          "name": "stdout",
          "text": [
            "Calculando el  0 -ésimo resultado...\n",
            "Calculando el  1 -ésimo resultado...\n",
            "Calculando el  2 -ésimo resultado...\n",
            "Calculando el  3 -ésimo resultado...\n",
            "Calculando el  4 -ésimo resultado...\n",
            "Calculando el  5 -ésimo resultado...\n",
            "Calculando el  6 -ésimo resultado...\n",
            "Calculando el  7 -ésimo resultado...\n",
            "Calculando el  8 -ésimo resultado...\n",
            "Calculando el  9 -ésimo resultado...\n"
          ]
        },
        {
          "output_type": "execute_result",
          "data": {
            "text/plain": [
              "[5625, 6084, 4225, 4, 784, 6889, 441, 5041, 4, 1369]"
            ]
          },
          "metadata": {},
          "execution_count": 34
        }
      ]
    },
    {
      "cell_type": "markdown",
      "source": [
        "Como vemos, la paralelización dentro se aplica en la invocación al cálculo de `map`.\n",
        "\n",
        "Ahora, una vez tenemos la plantilla de código para resolver el problema, aplicamos *multi-threading* para paralelizar de forma real. Para ello, utilizaremos el módulo `threading`\n",
        "\n",
        "En Python, un proceso puede tener varios hilos de ejecución simultánea (paralelo). Se recomienda la lectura del tutorial para comprender los fundamentos: https://www.geeksforgeeks.org/multithreading-python-set-1/\n",
        "\n",
        "Transformamos el ejemplo anterior en un programa multi-hilo:"
      ],
      "metadata": {
        "id": "wpz7d57i1IWs"
      }
    },
    {
      "cell_type": "code",
      "source": [
        "import threading\n",
        "import random\n",
        "\n",
        "def hacer_hilo(fn, res, data, hilos, i):    \n",
        "    # La evaluación de cada función se planifica en un core distinto\n",
        "    def trabajo(): \n",
        "        print(\"trabajo(\", threading.current_thread().name, \"): Procesando datos:\", data[i])\n",
        "        # Es realmente en este punto donde se aplica lambda sobre los datos concretos del hilo\n",
        "        res[i] = fn(data[i])\n",
        "        print(\"trabajo(\", threading.current_thread().name, \"): Finalizado hilo #\", i)    \n",
        "        print(\"trabajo(\", threading.current_thread().name, \"): Resultado es\", res[i])\n",
        "    hilos[i] = Thread(target=trabajo)\n",
        "  \n",
        "def fn_map_multihilo(fn, data):\n",
        "    # El programa principal es el encargado de planificar los trabajos, ejecutar los hilos y esperar a que terminen\n",
        "    n = len(data)\n",
        "    res = [None] * n\n",
        "    hilos = [None] * n\n",
        "    print(\"fn_map_multihilo(): Planificando trabajos\")\n",
        "    for i in range(n):\n",
        "        hacer_hilo(fn, res, data, hilos, i)\n",
        "    print(\"fn_map_multihilo(): Iniciando trabajos\")\n",
        "    for i in range(n):\n",
        "        hilos[i].start()\n",
        "    print(\"fn_map_multihilo(): Esperando terminación de hilos\")\n",
        "    for i in range(n):\n",
        "        hilos[i].join()\n",
        "    print(\"¡Terminado!\")\n",
        "    return res\n",
        "\n",
        "# Invocamos a la función lambda multi-hilo\n",
        "fn_map_multihilo(lambda x: x * x, [random.randint(0,100) for _ in range(10)])"
      ],
      "metadata": {
        "colab": {
          "base_uri": "https://localhost:8080/"
        },
        "id": "GHPcETMh3paP",
        "outputId": "0dfc1be8-a241-49ac-a2ce-a5fb65acff3e"
      },
      "execution_count": null,
      "outputs": [
        {
          "output_type": "stream",
          "name": "stdout",
          "text": [
            "fn_map_multihilo(): Planificando trabajos\n",
            "fn_map_multihilo(): Iniciando trabajos\n",
            "trabajo( trabajo(Thread-151 ): Procesando datos: 14\n",
            "trabajo( Thread-151 ): Finalizado hilo # 0\n",
            "trabajo( Thread-151  Thread-152 ): Procesando datos: 35\n",
            "trabajo( Thread-152 ): Finalizado hilo # 1\n",
            "trabajo( Thread-152 ): Resultado es 1225\n",
            "trabajo( ): Resultado es 196\n",
            "trabajo( Thread-154 ): Procesando datos: 60\n",
            "trabajo( Thread-154 ): Finalizado hilo # 3\n",
            "trabajo( Thread-154 ): Resultado es 3600\n",
            "Thread-153 ): Procesando datos:trabajo(trabajo(  Thread-156  40): Procesando datos: 35\n",
            "trabajo( Thread-156 ): Finalizado hilo # 5\n",
            "trabajo( Thread-156 ): Resultado es 1225\n",
            "Thread-155 ): Procesando datos: 40\n",
            "trabajo( Thread-155 ): Finalizado hilo # 4\n",
            "trabajo( Thread-153 ): Finalizado hilo # 2\n",
            "trabajo( Thread-153 ): Resultado es 1600\n",
            "\n",
            "trabajo( Thread-155 ): Resultado es 1600\n",
            "trabajo( Thread-157 ): Procesando datos: 32\n",
            "trabajo( Thread-157 ): Finalizado hilo # 6\n",
            "trabajo( Thread-157 ): Resultado es 1024\n",
            "trabajo( Thread-158 ): Procesando datos: 32\n",
            "trabajo( Thread-158 ): Finalizado hilo # 7\n",
            "trabajo( Thread-158 ): Resultado es 1024\n",
            "trabajo( Thread-159 trabajo( Thread-160): Procesando datos: 6\n",
            "trabajo( Thread-159 ): Finalizado hilo # 8\n",
            "trabajo( Thread-159 ): Resultado es 36\n",
            " ): Procesando datos: 84\n",
            "trabajo( Thread-160 ): Finalizado hilo # 9\n",
            "trabajo( Thread-160 ): Resultado es 7056\n",
            "fn_map_multihilo(): Esperando terminación de hilos\n",
            "¡Terminado!\n"
          ]
        },
        {
          "output_type": "execute_result",
          "data": {
            "text/plain": [
              "[196, 1225, 1600, 3600, 1600, 1225, 1024, 1024, 36, 7056]"
            ]
          },
          "metadata": {},
          "execution_count": 92
        }
      ]
    },
    {
      "cell_type": "markdown",
      "source": [
        "Como observamos en el código anterior, la funcion `fn_map_multihilo` es en realidad el código controlador del paralelismo.\n",
        "\n",
        "Para **crear un hilo nuevo**, se crea un objeto de `Thread` indicando la función que ejecuta el hilo, `target=trabajo`, y los argumentos que se pasan a la función, `args=(0,)`, que en este caso no se aplica.\n",
        "\n",
        "Una vez creado el hilo, se debe **inicializar el hilo** con el método `start`. De esta forma, se estarán ejecutando simultáneamente los hilos ya iniciados y el programa principal, `fn_map_multihilo`.\n",
        "\n",
        "En caso de que cada hilo tuviera una carga computacional diferente, podrían acabar en tiempos distintos y no necesariamente en el mismo orden que se iniciaron. Para **esperar la finalización de un hilo**, esto es, detener la ejecución del programa actual hasta que el hilo acaba, se utiliza el método `join`. \n",
        "\n",
        "En el caso del ejemplo de `map` mostrado arriba, los hilos se van creando en *cores* separados. Conforme se van inicializando nuevos hilos, los anteriores siguen su ejecución. Cuando todos son creados, ya habrán estado ejecutándose gran parte de los hilos sobre sus respectivas particiones/colecciones de datos. Por tanto, es momento de comenzar a esperar que los hilos acaben.\n",
        "\n",
        "*NOTA*: Este *notebook* está orientado a conocer el funcionamiento de `map`, `filter`, `reduce`, y formular sus versiones en paralelo más sencillas. No se han considerado otros aspectos (bloqueos y zonas críticas, sincronización, desbalanceo de particiones de datos, etc.) que podrían resultar de interés."
      ],
      "metadata": {
        "id": "TsIixCl98WI7"
      }
    },
    {
      "cell_type": "markdown",
      "source": [
        "# <b>Referencias</b>\n",
        "\n",
        "Información adicional para consulta:\n",
        "\n",
        "* S. Luck, [*Map, Filter and Reduce in Pure Python*](https://towardsdatascience.com/accelerate-your-python-list-handling-with-map-filter-and-reduce-d70941b19e52), 2020 \n",
        "* V. Yordanov, [*Python Basics: Mutable vs Immutable Objects*](https://towardsdatascience.com/https-towardsdatascience-com-python-basics-mutable-vs-immutable-objects-829a0cb1530a#:~:text=Some%20of%20the%20mutable%20data,string%2C%20tuple%2C%20and%20range.), 2019 \n",
        "* S. Phelps, [*Data science and big data with Python*](https://github.com/phelps-sg/python-bigdata), 2016\n",
        "* Tutorial básico/guía de referencia de Python: https://www.w3schools.com/python/\n",
        "* Tutorial de Python: https://www.geeksforgeeks.org/python-programming-language/"
      ],
      "metadata": {
        "id": "9vv6TS7cC5MP"
      }
    }
  ]
}