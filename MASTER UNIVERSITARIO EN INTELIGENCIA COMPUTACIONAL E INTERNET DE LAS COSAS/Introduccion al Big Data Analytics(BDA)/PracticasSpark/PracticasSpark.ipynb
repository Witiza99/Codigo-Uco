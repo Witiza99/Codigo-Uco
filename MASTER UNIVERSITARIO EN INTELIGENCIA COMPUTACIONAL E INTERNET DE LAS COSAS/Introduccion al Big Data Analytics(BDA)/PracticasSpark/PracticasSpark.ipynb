{
  "nbformat": 4,
  "nbformat_minor": 0,
  "metadata": {
    "colab": {
      "provenance": [],
      "collapsed_sections": [
        "oA8Fsl8E2YSh",
        "vLadjQjmxV-m",
        "LRXMJ1Wsk4QN"
      ]
    },
    "kernelspec": {
      "name": "python3",
      "display_name": "Python 3"
    },
    "language_info": {
      "name": "python"
    }
  },
  "cells": [
    {
      "cell_type": "markdown",
      "source": [
        "# <b>Prácticas uso de Spark</b>"
      ],
      "metadata": {
        "id": "kUz_lZPans1e"
      }
    },
    {
      "cell_type": "markdown",
      "source": [
        "# **Instalación del entorno**\n",
        "## Instalación de Hadoop\n",
        "\n",
        "Instalamos la versión de Hadoop/Spark 3.2.3\n",
        "Se recomienda visitar el sitio de Apache Spark para descargar la última versión estable:\n",
        "\n",
        "https://spark.apache.org/downloads.html\n",
        "\n",
        "Se configuran posteriormente las variables de entorno `JAVA_HOME` y `SPARK_HOME`"
      ],
      "metadata": {
        "id": "oA8Fsl8E2YSh"
      }
    },
    {
      "cell_type": "code",
      "source": [
        "!apt-get install openjdk-8-jdk-headless -qq > /dev/null\n",
        "import os\n",
        "os.environ[\"JAVA_HOME\"] = \"/usr/lib/jvm/java-8-openjdk-amd64\"\n",
        "os.environ[\"SPARK_HOME\"] = \"/content/spark-3.2.3-bin-hadoop3.2\""
      ],
      "metadata": {
        "id": "iDM_FjfutRUk"
      },
      "execution_count": null,
      "outputs": []
    },
    {
      "cell_type": "markdown",
      "source": [
        "La descarga de Hadoop puede tomar su tiempo, según la conexión disponible. Se borra posteriormente de la máquina virtual el archivo `.tgz`"
      ],
      "metadata": {
        "id": "ygAAV5Hc3go6"
      }
    },
    {
      "cell_type": "code",
      "execution_count": null,
      "metadata": {
        "id": "gboXJnmYsHJD",
        "colab": {
          "base_uri": "https://localhost:8080/"
        },
        "outputId": "6b42a51d-8d49-4fac-d855-560916f53a4d"
      },
      "outputs": [
        {
          "output_type": "stream",
          "name": "stdout",
          "text": [
            "--2023-01-22 13:06:45--  https://dlcdn.apache.org/spark/spark-3.2.3/spark-3.2.3-bin-hadoop3.2.tgz\n",
            "Resolving dlcdn.apache.org (dlcdn.apache.org)... 151.101.2.132, 2a04:4e42::644\n",
            "Connecting to dlcdn.apache.org (dlcdn.apache.org)|151.101.2.132|:443... connected.\n",
            "HTTP request sent, awaiting response... 200 OK\n",
            "Length: 301136158 (287M) [application/x-gzip]\n",
            "Saving to: ‘spark-3.2.3-bin-hadoop3.2.tgz’\n",
            "\n",
            "spark-3.2.3-bin-had 100%[===================>] 287.19M  97.1MB/s    in 3.0s    \n",
            "\n",
            "2023-01-22 13:06:48 (97.1 MB/s) - ‘spark-3.2.3-bin-hadoop3.2.tgz’ saved [301136158/301136158]\n",
            "\n"
          ]
        }
      ],
      "source": [
        "# Descomentar las líneaa según la necesidad\n",
        "!wget https://dlcdn.apache.org/spark/spark-3.2.3/spark-3.2.3-bin-hadoop3.2.tgz\n",
        "!tar -xf spark-3.2.3-bin-hadoop3.2.tgz\n",
        "!rm spark-3.2.3-bin-hadoop3.2.tgz"
      ]
    },
    {
      "cell_type": "markdown",
      "source": [
        "## Instalación e iniciación de la sesión de Spark\n",
        "\n",
        "* Buscamos la librería `findspark` con `pip install`\n"
      ],
      "metadata": {
        "id": "gc1G4c_l4JzA"
      }
    },
    {
      "cell_type": "code",
      "source": [
        "!pip install -q findspark"
      ],
      "metadata": {
        "id": "ouepVeD-Hg30"
      },
      "execution_count": null,
      "outputs": []
    },
    {
      "cell_type": "markdown",
      "source": [
        "* Con `SparkSession` inicializamos"
      ],
      "metadata": {
        "id": "wgNshvyOHhfM"
      }
    },
    {
      "cell_type": "code",
      "source": [
        "import findspark\n",
        "findspark.init()\n",
        "from pyspark.sql import SparkSession\n",
        "spark = SparkSession.builder\\\n",
        "        .master(\"local[*]\")\\\n",
        "        .appName(\"Spark_Dataframes\")\\\n",
        "        .getOrCreate()"
      ],
      "metadata": {
        "id": "jXPu1jn_tYoC"
      },
      "execution_count": null,
      "outputs": []
    },
    {
      "cell_type": "code",
      "source": [
        "spark"
      ],
      "metadata": {
        "colab": {
          "base_uri": "https://localhost:8080/",
          "height": 219
        },
        "id": "TmZVwuoCJ6pe",
        "outputId": "4cdf38cb-3efd-44fd-c3de-a11529588557"
      },
      "execution_count": null,
      "outputs": [
        {
          "output_type": "execute_result",
          "data": {
            "text/plain": [
              "<pyspark.sql.session.SparkSession at 0x7fcaaf7c5df0>"
            ],
            "text/html": [
              "\n",
              "            <div>\n",
              "                <p><b>SparkSession - in-memory</b></p>\n",
              "                \n",
              "        <div>\n",
              "            <p><b>SparkContext</b></p>\n",
              "\n",
              "            <p><a href=\"http://70522524284e:4040\">Spark UI</a></p>\n",
              "\n",
              "            <dl>\n",
              "              <dt>Version</dt>\n",
              "                <dd><code>v3.2.3</code></dd>\n",
              "              <dt>Master</dt>\n",
              "                <dd><code>local[*]</code></dd>\n",
              "              <dt>AppName</dt>\n",
              "                <dd><code>Spark_Dataframes</code></dd>\n",
              "            </dl>\n",
              "        </div>\n",
              "        \n",
              "            </div>\n",
              "        "
            ]
          },
          "metadata": {},
          "execution_count": 160
        }
      ]
    },
    {
      "cell_type": "markdown",
      "source": [
        "# ***MapReduce*** en Spark, Ejercicio 1 (B)\n",
        "\n"
      ],
      "metadata": {
        "id": "vLadjQjmxV-m"
      }
    },
    {
      "cell_type": "code",
      "source": [
        "#Invocamos a métodos de un objeto de pyspark.context.SparkContext, que representa al contexto de ejecución."
      ],
      "metadata": {
        "id": "6JBoswyBt-wh"
      },
      "execution_count": null,
      "outputs": []
    },
    {
      "cell_type": "code",
      "source": [
        "from pyspark import SparkContext\n",
        "sc =SparkContext.getOrCreate()"
      ],
      "metadata": {
        "id": "5aGsJIH_6xH9"
      },
      "execution_count": null,
      "outputs": []
    },
    {
      "cell_type": "code",
      "source": [
        "#Invocamos las funciones de spark para poder usarlas a futuro"
      ],
      "metadata": {
        "id": "R6eaZxv5jpYR"
      },
      "execution_count": null,
      "outputs": []
    },
    {
      "cell_type": "code",
      "source": [
        "from pyspark.sql import functions as F"
      ],
      "metadata": {
        "id": "YQiFUNtL6wYN"
      },
      "execution_count": null,
      "outputs": []
    },
    {
      "cell_type": "code",
      "source": [
        "#Cargamos el dataset con el que vamos a trabajar, y se convierte directamente a rdd"
      ],
      "metadata": {
        "id": "MUh7Pkm7prfE"
      },
      "execution_count": null,
      "outputs": []
    },
    {
      "cell_type": "code",
      "source": [
        "#weblog_rdd = sc.textFile(\"/content/drive/MyDrive/weblog.csv\")\n",
        "weblog_rdd = spark.read.format(\"CSV\").option(\"header\",\"true\").load(\"/content/drive/MyDrive/weblog.csv\")"
      ],
      "metadata": {
        "id": "ymv5aHHhs00O"
      },
      "execution_count": null,
      "outputs": []
    },
    {
      "cell_type": "code",
      "source": [
        "#Comprobamos si se ha realizado correctamente"
      ],
      "metadata": {
        "id": "-ehgchZgrUna"
      },
      "execution_count": null,
      "outputs": []
    },
    {
      "cell_type": "code",
      "source": [
        "weblog_rdd.take(5)"
      ],
      "metadata": {
        "colab": {
          "base_uri": "https://localhost:8080/"
        },
        "id": "8mn0B0Sn68Oc",
        "outputId": "70d1ae14-3a9e-4a00-dc4e-7302d2de1808"
      },
      "execution_count": null,
      "outputs": [
        {
          "output_type": "execute_result",
          "data": {
            "text/plain": [
              "[Row(IP='10.128.2.1', Time='[29/Nov/2017:06:58:55', URL='GET /login.php HTTP/1.1', Staus='200'),\n",
              " Row(IP='10.128.2.1', Time='[29/Nov/2017:06:59:02', URL='POST /process.php HTTP/1.1', Staus='302'),\n",
              " Row(IP='10.128.2.1', Time='[29/Nov/2017:06:59:03', URL='GET /home.php HTTP/1.1', Staus='200'),\n",
              " Row(IP='10.131.2.1', Time='[29/Nov/2017:06:59:04', URL='GET /js/vendor/moment.min.js HTTP/1.1', Staus='200'),\n",
              " Row(IP='10.130.2.1', Time='[29/Nov/2017:06:59:06', URL='GET /bootstrap-3.3.7/js/bootstrap.js HTTP/1.1', Staus='200')]"
            ]
          },
          "metadata": {},
          "execution_count": 220
        }
      ]
    },
    {
      "cell_type": "code",
      "source": [
        "# Primero, se filtran las columnas con la ip y codigo 20x\n",
        "weblog_rdd_filtrado = weblog_rdd.filter(F.col(\"URL\").like(\"%php%\"))\n",
        "weblog_rdd_filtrado = weblog_rdd_filtrado.filter(\"Staus >= 200 AND Staus < 210\")"
      ],
      "metadata": {
        "id": "c3ZK_01AyP8e"
      },
      "execution_count": null,
      "outputs": []
    },
    {
      "cell_type": "code",
      "source": [
        "#selecionamos las columnas con las que deseamos trabajar\n",
        "datos_filtrados = weblog_rdd_filtrado.select(\"IP\", \"URL\")"
      ],
      "metadata": {
        "id": "ocsH6z-Y1smt"
      },
      "execution_count": null,
      "outputs": []
    },
    {
      "cell_type": "code",
      "source": [
        "#compruebo los datos_filtrados"
      ],
      "metadata": {
        "id": "CQupb6c82OP3"
      },
      "execution_count": null,
      "outputs": []
    },
    {
      "cell_type": "code",
      "source": [
        "datos_filtrados.take(5)"
      ],
      "metadata": {
        "colab": {
          "base_uri": "https://localhost:8080/"
        },
        "id": "ns0H8gvM1TGT",
        "outputId": "b7df819b-76d9-40e4-95ca-232fed658253"
      },
      "execution_count": null,
      "outputs": [
        {
          "output_type": "execute_result",
          "data": {
            "text/plain": [
              "[Row(IP='10.128.2.1', URL='GET /login.php HTTP/1.1'),\n",
              " Row(IP='10.128.2.1', URL='GET /home.php HTTP/1.1'),\n",
              " Row(IP='10.130.2.1', URL='GET /profile.php?user=bala HTTP/1.1'),\n",
              " Row(IP='10.131.2.1', URL='GET /edit.php?name=bala HTTP/1.1'),\n",
              " Row(IP='10.131.2.1', URL='GET /login.php HTTP/1.1')]"
            ]
          },
          "metadata": {},
          "execution_count": 224
        }
      ]
    },
    {
      "cell_type": "code",
      "source": [
        "#tranformo el dataset a rdd y realizo mapeo "
      ],
      "metadata": {
        "id": "6k5pMB1L4YWA"
      },
      "execution_count": null,
      "outputs": []
    },
    {
      "cell_type": "code",
      "source": [
        "rddObj=datos_filtrados.rdd\n",
        "tuplas_rddObj = rddObj.map(lambda x: (x, 1))\n",
        "tuplas_rddObj"
      ],
      "metadata": {
        "colab": {
          "base_uri": "https://localhost:8080/"
        },
        "id": "C5Oxa2e_zx9g",
        "outputId": "83ca928d-b490-478b-f988-4459ca68b28b"
      },
      "execution_count": null,
      "outputs": [
        {
          "output_type": "execute_result",
          "data": {
            "text/plain": [
              "PythonRDD[258] at RDD at PythonRDD.scala:53"
            ]
          },
          "metadata": {},
          "execution_count": 226
        }
      ]
    },
    {
      "cell_type": "code",
      "source": [
        "#compruebo si se realiza correctamente"
      ],
      "metadata": {
        "id": "2yVwL6i-4gxl"
      },
      "execution_count": null,
      "outputs": []
    },
    {
      "cell_type": "code",
      "source": [
        "tuplas_rddObj.take(10)"
      ],
      "metadata": {
        "colab": {
          "base_uri": "https://localhost:8080/"
        },
        "id": "5J_lqoLo4JP5",
        "outputId": "78cb0229-d02e-4bf6-9f93-ec7022fe3902"
      },
      "execution_count": null,
      "outputs": [
        {
          "output_type": "execute_result",
          "data": {
            "text/plain": [
              "[(Row(IP='10.128.2.1', URL='GET /login.php HTTP/1.1'), 1),\n",
              " (Row(IP='10.128.2.1', URL='GET /home.php HTTP/1.1'), 1),\n",
              " (Row(IP='10.130.2.1', URL='GET /profile.php?user=bala HTTP/1.1'), 1),\n",
              " (Row(IP='10.131.2.1', URL='GET /edit.php?name=bala HTTP/1.1'), 1),\n",
              " (Row(IP='10.131.2.1', URL='GET /login.php HTTP/1.1'), 1),\n",
              " (Row(IP='10.130.2.1', URL='GET /login.php HTTP/1.1'), 1),\n",
              " (Row(IP='10.130.2.1', URL='GET /login.php HTTP/1.1'), 1),\n",
              " (Row(IP='10.130.2.1', URL='GET /login.php HTTP/1.1'), 1),\n",
              " (Row(IP='10.131.0.1', URL='GET /home.php HTTP/1.1'), 1),\n",
              " (Row(IP='10.131.0.1', URL='GET /contestproblem.php?name=RUET%20OJ%20Server%20Testing%20Contest HTTP/1.1'),\n",
              "  1)]"
            ]
          },
          "metadata": {},
          "execution_count": 228
        }
      ]
    },
    {
      "cell_type": "code",
      "source": [
        "#agrupo por clave para reducir"
      ],
      "metadata": {
        "id": "FlEMIX-U4mmq"
      },
      "execution_count": null,
      "outputs": []
    },
    {
      "cell_type": "code",
      "source": [
        "tuplas_rddObj = tuplas_rddObj.reduceByKey(lambda x,y: x + y)"
      ],
      "metadata": {
        "id": "7GKGaNjcuW27"
      },
      "execution_count": null,
      "outputs": []
    },
    {
      "cell_type": "code",
      "source": [
        "#muestro para comprobar el funcionamiento"
      ],
      "metadata": {
        "id": "Zgt-6sxS42V3"
      },
      "execution_count": null,
      "outputs": []
    },
    {
      "cell_type": "code",
      "source": [
        "tuplas_rddObj.take(10)"
      ],
      "metadata": {
        "colab": {
          "base_uri": "https://localhost:8080/"
        },
        "id": "yXMl89al44pE",
        "outputId": "149f7645-c595-4668-96ac-04d643c7a453"
      },
      "execution_count": null,
      "outputs": [
        {
          "output_type": "execute_result",
          "data": {
            "text/plain": [
              "[(Row(IP='10.128.2.1', URL='GET /login.php HTTP/1.1'), 987),\n",
              " (Row(IP='10.128.2.1', URL='GET /home.php HTTP/1.1'), 90),\n",
              " (Row(IP='10.130.2.1', URL='GET /profile.php?user=bala HTTP/1.1'), 1),\n",
              " (Row(IP='10.131.2.1', URL='GET /edit.php?name=bala HTTP/1.1'), 1),\n",
              " (Row(IP='10.131.2.1', URL='GET /login.php HTTP/1.1'), 171),\n",
              " (Row(IP='10.130.2.1', URL='GET /login.php HTTP/1.1'), 959),\n",
              " (Row(IP='10.131.0.1', URL='GET /home.php HTTP/1.1'), 113),\n",
              " (Row(IP='10.131.0.1', URL='GET /contestproblem.php?name=RUET%20OJ%20Server%20Testing%20Contest HTTP/1.1'),\n",
              "  88),\n",
              " (Row(IP='10.131.2.1', URL='GET /contestproblem.php?name=RUET%20OJ%20Server%20Testing%20Contest HTTP/1.1'),\n",
              "  79),\n",
              " (Row(IP='10.131.2.1', URL='GET /login.php?value=fail HTTP/1.1'), 8)]"
            ]
          },
          "metadata": {},
          "execution_count": 232
        }
      ]
    },
    {
      "cell_type": "code",
      "source": [
        "#una vez agrupado, finalmente se agrupa por página únicamente para obtener el resultado pedido"
      ],
      "metadata": {
        "id": "pxgWTKWT48uK"
      },
      "execution_count": null,
      "outputs": []
    },
    {
      "cell_type": "code",
      "source": [
        "#primero transformamos en lista"
      ],
      "metadata": {
        "id": "_DC71gE8eloR"
      },
      "execution_count": null,
      "outputs": []
    },
    {
      "cell_type": "code",
      "source": [
        "tuplas_lista = tuplas_rddObj.collect()"
      ],
      "metadata": {
        "id": "f-QVKwQq_IUu"
      },
      "execution_count": null,
      "outputs": []
    },
    {
      "cell_type": "code",
      "source": [
        "#copiamos los elementos de la lista en una nueva lista con aquellos valores que interesan (eliminamos la agrupación de valores y nos quedamos con la clave)"
      ],
      "metadata": {
        "id": "IVXVt8wAeodq"
      },
      "execution_count": null,
      "outputs": []
    },
    {
      "cell_type": "code",
      "source": [
        "tuplas_lista_reducida = []\n",
        "for i in range(len(tuplas_lista)):\n",
        "  tuplas_lista_reducida.append(tuplas_lista[i][0])\n",
        "\n",
        "print(tuplas_lista_reducida)\n"
      ],
      "metadata": {
        "id": "fmLAxFkH_J26",
        "colab": {
          "base_uri": "https://localhost:8080/"
        },
        "outputId": "c082ac2e-84fb-4e8e-c6f2-14ee0920d6de"
      },
      "execution_count": null,
      "outputs": [
        {
          "output_type": "stream",
          "name": "stdout",
          "text": [
            "[Row(IP='10.128.2.1', URL='GET /login.php HTTP/1.1'), Row(IP='10.128.2.1', URL='GET /home.php HTTP/1.1'), Row(IP='10.130.2.1', URL='GET /profile.php?user=bala HTTP/1.1'), Row(IP='10.131.2.1', URL='GET /edit.php?name=bala HTTP/1.1'), Row(IP='10.131.2.1', URL='GET /login.php HTTP/1.1'), Row(IP='10.130.2.1', URL='GET /login.php HTTP/1.1'), Row(IP='10.131.0.1', URL='GET /home.php HTTP/1.1'), Row(IP='10.131.0.1', URL='GET /contestproblem.php?name=RUET%20OJ%20Server%20Testing%20Contest HTTP/1.1'), Row(IP='10.131.2.1', URL='GET /contestproblem.php?name=RUET%20OJ%20Server%20Testing%20Contest HTTP/1.1'), Row(IP='10.131.2.1', URL='GET /login.php?value=fail HTTP/1.1'), Row(IP='10.131.2.1', URL='GET /home.php HTTP/1.1'), Row(IP='10.130.2.1', URL='GET /countdown.php?name=RUET%20OJ%20Server%20Testing%20Contest HTTP/1.1'), Row(IP='10.128.2.1', URL='GET /countdown.php?name=RUET%20OJ%20Server%20Testing%20Contest HTTP/1.1'), Row(IP='10.128.2.1', URL='GET /compiler.php HTTP/1.1'), Row(IP='10.129.2.1', URL='GET /login.php HTTP/1.1'), Row(IP='10.131.2.1', URL='GET /details.php?id=44 HTTP/1.1'), Row(IP='10.128.2.1', URL='GET /contestproblem.php?name=RUET%20OJ%20Server%20Testing%20Contest HTTP/1.1'), Row(IP='10.131.2.1', URL='GET /contest.php HTTP/1.1'), Row(IP='10.131.2.1', URL='GET /details.php?id=46 HTTP/1.1'), Row(IP='10.131.2.1', URL='GET /details.php?id=42 HTTP/1.1'), Row(IP='10.131.2.1', URL='GET /details.php?id=45 HTTP/1.1'), Row(IP='10.130.2.1', URL='GET /compiler.php HTTP/1.1'), Row(IP='10.130.2.1', URL='GET /home.php HTTP/1.1'), Row(IP='10.128.2.1', URL='GET /contest.php HTTP/1.1'), Row(IP='10.129.2.1', URL='GET /home.php HTTP/1.1'), Row(IP='10.129.2.1', URL='GET /compiler.php HTTP/1.1'), Row(IP='10.128.2.1', URL='GET /contestproblem.php?name=RUET%20OJ%20TLE%20Testing%20Contest HTTP/1.1'), Row(IP='10.131.0.1', URL='GET /contest.php HTTP/1.1'), Row(IP='10.130.2.1', URL='GET /contest.php HTTP/1.1'), Row(IP='10.131.2.1', URL='GET /countdown.php?name=RUET%20OJ%20Server%20Testing%20Contest HTTP/1.1'), Row(IP='10.129.2.1', URL='GET /countdown.php?name=RUET%20OJ%20Server%20Testing%20Contest HTTP/1.1'), Row(IP='10.129.2.1', URL='GET /contestproblem.php?name=RUET%20OJ%20TLE%20Testing%20Contest HTTP/1.1'), Row(IP='10.131.2.1', URL='GET /archive.php HTTP/1.1'), Row(IP='10.131.2.1', URL='GET /allsubmission.php HTTP/1.1'), Row(IP='10.131.2.1', URL='GET /showcode.php?id=284&nm=xyz_xyz HTTP/1.1'), Row(IP='10.131.2.1', URL='GET /showcode.php?id=281&nm=shawon HTTP/1.1'), Row(IP='10.131.0.1', URL='GET /countdown.php?name=RUET%20OJ%20Server%20Testing%20Contest HTTP/1.1'), Row(IP='10.131.2.1', URL='GET /compiler.php HTTP/1.1'), Row(IP='10.131.2.1', URL='GET /index.php HTTP/1.1'), Row(IP='10.131.2.1', URL='GET /contestproblem.php?name=Toph%20Contest%202 HTTP/1.1'), Row(IP='10.131.2.1', URL='GET /contestproblem.php?name=ncpc%202016 HTTP/1.1'), Row(IP='10.131.2.1', URL='GET /details.php?id=3 HTTP/1.1'), Row(IP='10.131.2.1', URL='GET /contestsubmission.php?id=4 HTTP/1.1'), Row(IP='10.131.0.1', URL='GET /login.php HTTP/1.1'), Row(IP='10.129.2.1', URL='GET /sign.php HTTP/1.1'), Row(IP='10.131.0.1', URL='GET /archive.php HTTP/1.1'), Row(IP='10.129.2.1', URL='GET /contestsubmission.php?id=13 HTTP/1.1'), Row(IP='10.130.2.1', URL='GET /login.php?value=fail HTTP/1.1'), Row(IP='10.128.2.1', URL='GET /login.php?value=fail HTTP/1.1'), Row(IP='10.131.2.1', URL='GET /sign.php HTTP/1.1'), Row(IP='10.129.2.1', URL='GET /description.php?id=72 HTTP/1.1'), Row(IP='10.130.2.1', URL='GET /archive.php HTTP/1.1'), Row(IP='10.131.2.1', URL='GET /description.php?id=62 HTTP/1.1'), Row(IP='10.131.0.1', URL='GET /sign.php HTTP/1.1'), Row(IP='10.129.2.1', URL='GET /contest.php HTTP/1.1'), Row(IP='10.128.2.1', URL='GET /profile.php?user=ksrsingh HTTP/1.1'), Row(IP='10.131.2.1', URL='GET /edit.php?name=ksrsingh HTTP/1.1'), Row(IP='10.131.2.1', URL='GET /profile.php?user=ksrsingh HTTP/1.1'), Row(IP='10.131.0.1', URL='GET /description.php?id=55 HTTP/1.1'), Row(IP='10.131.0.1', URL='GET /submit.php?id=55 HTTP/1.1'), Row(IP='10.131.0.1', URL='GET /description.php?id=64 HTTP/1.1'), Row(IP='10.129.2.1', URL='GET /submit.php?id=64 HTTP/1.1'), Row(IP='10.129.2.1', URL='GET /description.php?id=64 HTTP/1.1'), Row(IP='10.129.2.1', URL='POST /pcompile.php HTTP/1.1'), Row(IP='10.131.0.1', URL='POST /allsubmission.php HTTP/1.1'), Row(IP='10.131.0.1', URL='GET /allsubmission.php HTTP/1.1'), Row(IP='10.131.0.1', URL='GET /showcode.php?id=285&nm=ksrsingh HTTP/1.1'), Row(IP='10.131.0.1', URL='GET /description.php?name=RUET HTTP/1.1'), Row(IP='10.131.0.1', URL='GET /details.php?id=44 HTTP/1.1'), Row(IP='10.128.2.1', URL='GET /profile.php?user=shawon HTTP/1.1'), Row(IP='10.128.2.1', URL='GET /allsubmission.php?name=shawon HTTP/1.1'), Row(IP='10.128.2.1', URL='GET /contestsubmission.php?id=3&show=shawon HTTP/1.1'), Row(IP='10.129.2.1', URL='GET /archive.php HTTP/1.1'), Row(IP='10.129.2.1', URL='GET /description.php?id=55 HTTP/1.1'), Row(IP='10.129.2.1', URL='GET /allsubmission.php HTTP/1.1'), Row(IP='10.129.2.1', URL='GET /description.php?name=RUET HTTP/1.1'), Row(IP='10.129.2.1', URL='GET /contestproblem.php?name=RUET%20OJ%20Server%20Testing%20Contest HTTP/1.1'), Row(IP='10.129.2.1', URL='GET /details.php?id=41 HTTP/1.1'), Row(IP='10.129.2.1', URL='GET /archive.php?page=2 HTTP/1.1'), Row(IP='10.131.2.1', URL='GET /details.php?id=41 HTTP/1.1'), Row(IP='10.128.2.1', URL='GET /sign.php HTTP/1.1'), Row(IP='10.129.2.1', URL='GET /login.php HTTP/1.0'), Row(IP='10.130.2.1', URL='GET /sign.php HTTP/1.1'), Row(IP='10.131.0.1', URL='GET /login.php?value=fail HTTP/1.1'), Row(IP='10.130.2.1', URL='GET /contestproblem.php?name=RUET%20OJ%20Server%20Testing%20Contest HTTP/1.1'), Row(IP='10.130.2.1', URL='GET /allsubmission.php HTTP/1.1'), Row(IP='10.130.2.1', URL='GET /contestproblem.php?name=RUET%20OJ%20TLE%20Testing%20Contest HTTP/1.1'), Row(IP='10.129.2.1', URL='GET /login.php?value=fail HTTP/1.1'), Row(IP='10.128.2.1', URL='GET /details.php?id=33 HTTP/1.1'), Row(IP='10.129.2.1', URL='GET /details.php?id=33 HTTP/1.1'), Row(IP='10.130.2.1', URL='GET /contestsubmission.php?id=13 HTTP/1.1'), Row(IP='10.131.2.1', URL='GET /contestproblem.php?name=RUET%20OJ%20TLE%20Testing%20Contest HTTP/1.1'), Row(IP='10.131.2.1', URL='GET /details.php?id=33 HTTP/1.1'), Row(IP='10.130.2.1', URL='GET /description.php?id=55 HTTP/1.1'), Row(IP='10.131.0.1', URL='GET /compiler.php HTTP/1.1'), Row(IP='10.130.2.1', URL='GET /description.php?id=72 HTTP/1.1'), Row(IP='10.131.0.1', URL='GET /details.php?id=33 HTTP/1.1'), Row(IP='10.131.0.1', URL='GET /contestproblem.php?name=RUET%20OJ%20TLE%20Testing%20Contest HTTP/1.1'), Row(IP='10.128.2.1', URL='GET /description.php?id=64 HTTP/1.1'), Row(IP='10.130.2.1', URL='GET /details.php?id=33 HTTP/1.1'), Row(IP='10.128.2.1', URL='GET /archive.php?page=1 HTTP/1.1'), Row(IP='10.129.2.1', URL='POST /allsubmission.php HTTP/1.1'), Row(IP='10.128.2.1', URL='GET /submit.php?id=64 HTTP/1.1'), Row(IP='10.131.0.1', URL='GET /submit.php?id=64 HTTP/1.1'), Row(IP='10.130.2.1', URL='POST /pcompile.php HTTP/1.1'), Row(IP='10.128.2.1', URL='POST /allsubmission.php HTTP/1.1'), Row(IP='10.130.2.1', URL='GET /submit.php?id=64 HTTP/1.1'), Row(IP='10.128.2.1', URL='POST /pcompile.php HTTP/1.1'), Row(IP='10.131.0.1', URL='POST /pcompile.php HTTP/1.1'), Row(IP='10.128.2.1', URL='GET /description.php?id=72 HTTP/1.1'), Row(IP='10.131.0.1', URL='GET /profile.php?user=moshiur_cse15 HTTP/1.1'), Row(IP='10.128.2.1', URL='GET /profile.php?user=Rakib_1603065 HTTP/1.1'), Row(IP='10.131.0.1', URL='GET /allsubmission.php?name=moshiur_cse15 HTTP/1.1'), Row(IP='10.130.2.1', URL='GET /description.php?id=71 HTTP/1.1'), Row(IP='10.131.2.1', URL='GET /description.php?id=64 HTTP/1.1'), Row(IP='10.128.2.1', URL='GET /archive.php HTTP/1.1'), Row(IP='10.128.2.1', URL='GET /description.php?id=60 HTTP/1.1'), Row(IP='10.131.0.1', URL='GET /description.php?id=67 HTTP/1.1'), Row(IP='10.128.2.1', URL='GET /profile.php?user=toph HTTP/1.1'), Row(IP='10.131.2.1', URL='GET /profile.php?user=DevSkill HTTP/1.1'), Row(IP='10.131.0.1', URL='GET /description.php?id=71 HTTP/1.1'), Row(IP='10.128.2.1', URL='GET /archive.php?page=2 HTTP/1.1'), Row(IP='10.131.0.1', URL='GET /showcode.php?id=286&nm=Rakib_1603065 HTTP/1.1'), Row(IP='10.128.2.1', URL='GET /allsubmission.php HTTP/1.1'), Row(IP='10.128.2.1', URL='GET /showcode.php?id=287&nm=Riyal_RUET HTTP/1.1'), Row(IP='10.128.2.1', URL='GET /showcode.php?id=288&nm=Riyal_RUET HTTP/1.1'), Row(IP='10.128.2.1', URL='GET /showcode.php?id=289&nm=Rakib_1603065 HTTP/1.1'), Row(IP='10.128.2.1', URL='GET /showcode.php?id=290&nm=Rakib_1603065 HTTP/1.1'), Row(IP='10.128.2.1', URL='GET /description.php?name=RUET HTTP/1.1'), Row(IP='10.130.2.1', URL='GET /profile.php?user=shawon HTTP/1.1'), Row(IP='10.130.2.1', URL='GET /details.php?id=44 HTTP/1.1'), Row(IP='10.131.2.1', URL='GET /submit.php?id=67 HTTP/1.1'), Row(IP='10.131.2.1', URL='POST /pcompile.php HTTP/1.1'), Row(IP='10.131.2.1', URL='POST /allsubmission.php HTTP/1.1'), Row(IP='10.131.2.1', URL='GET /profile.php?user=Rakib_1603065 HTTP/1.1'), Row(IP='10.128.2.1', URL='GET /description.php?id=62 HTTP/1.1'), Row(IP='10.128.2.1', URL='GET /description.php?id=55 HTTP/1.1'), Row(IP='10.128.2.1', URL='GET /submit.php?id=55 HTTP/1.1'), Row(IP='10.128.2.1', URL='GET /profile.php?user=Riyal_RUET HTTP/1.1'), Row(IP='10.130.2.1', URL='GET /description.php?id=58 HTTP/1.1'), Row(IP='10.129.2.1', URL='GET /description.php?id=62 HTTP/1.1'), Row(IP='10.130.2.1', URL='GET /submit.php?id=58 HTTP/1.1'), Row(IP='10.130.2.1', URL='GET /submit.php?id=67 HTTP/1.1'), Row(IP='10.131.2.1', URL='GET /description.php?id=63 HTTP/1.1'), Row(IP='10.131.2.1', URL='GET /submit.php?id=63 HTTP/1.1'), Row(IP='10.130.2.1', URL='POST /allsubmission.php HTTP/1.1'), Row(IP='10.130.2.1', URL='GET /description.php?name=The%20Triangle HTTP/1.1'), Row(IP='10.128.2.1', URL='GET /description.php?id=68 HTTP/1.1'), Row(IP='10.130.2.1', URL='GET /description.php?id=68 HTTP/1.1'), Row(IP='10.130.2.1', URL='GET /submit.php?id=68 HTTP/1.1'), Row(IP='10.130.2.1', URL='GET /allsubmission.php?page=2 HTTP/1.1'), Row(IP='10.130.2.1', URL='GET /description.php?name=Many%20a%20little%20makes%20a%20mickle HTTP/1.1'), Row(IP='10.129.2.1', URL='GET /description.php?id=73 HTTP/1.1'), Row(IP='10.129.2.1', URL='GET /submit.php?id=73 HTTP/1.1'), Row(IP='10.130.2.1', URL='GET /contestsubmission.php?id=16 HTTP/1.1'), Row(IP='10.128.2.1', URL='GET /description.php?id=67 HTTP/1.1'), Row(IP='10.128.2.1', URL='GET /profile.php?user=Goni HTTP/1.1'), Row(IP='10.131.0.1', URL='GET /showcode.php?id=294&nm=Rakib_1603065 HTTP/1.1'), Row(IP='10.128.2.1', URL='GET /description.php?name=Many%20a%20little%20makes%20a%20mickle HTTP/1.1'), Row(IP='10.131.0.1', URL='GET /contestsubmission.php?id=13 HTTP/1.1'), Row(IP='10.130.2.1', URL='GET /details.php?id=45 HTTP/1.1'), Row(IP='10.131.0.1', URL='GET /details.php?id=41 HTTP/1.1'), Row(IP='10.131.0.1', URL='GET /details.php?id=42 HTTP/1.1'), Row(IP='10.128.2.1', URL='GET /details.php?id=43 HTTP/1.1'), Row(IP='10.128.2.1', URL='GET /details.php?id=44 HTTP/1.1'), Row(IP='10.130.2.1', URL='GET /details.php?id=41 HTTP/1.1'), Row(IP='10.128.2.1', URL='GET /details.php?id=42 HTTP/1.1'), Row(IP='10.128.2.1', URL='GET /details.php?id=45 HTTP/1.1'), Row(IP='10.128.2.1', URL='GET /details.php?id=46 HTTP/1.1'), Row(IP='10.130.2.1', URL='GET /details.php?id=42 HTTP/1.1'), Row(IP='10.130.2.1', URL='GET /contestsubmit.php?id=45 HTTP/1.1'), Row(IP='10.130.2.1', URL='GET /profile.php?user=bruce HTTP/1.1'), Row(IP='10.130.2.1', URL='POST /contestsubmission.php HTTP/1.1'), Row(IP='10.129.2.1', URL='GET /details.php?id=45 HTTP/1.1'), Row(IP='10.131.0.1', URL='GET /standings.php?id=16 HTTP/1.1'), Row(IP='10.131.2.1', URL='GET /details.php?id=43 HTTP/1.1'), Row(IP='10.131.2.1', URL='GET /standings.php?id=16 HTTP/1.1'), Row(IP='10.131.2.1', URL='GET /contestsubmission.php?id=16&show=bruce HTTP/1.1'), Row(IP='10.131.0.1', URL='GET /contestsubmission.php?id=16 HTTP/1.1'), Row(IP='10.131.0.1', URL='GET /details.php?id=46 HTTP/1.1'), Row(IP='10.131.0.1', URL='GET /details.php?id=43 HTTP/1.1'), Row(IP='10.131.0.1', URL='GET /description.php?id=60 HTTP/1.1'), Row(IP='10.128.2.1', URL='GET /profile.php?user=Tazbinur%20Rahaman HTTP/1.1'), Row(IP='10.128.2.1', URL='GET /edit.php?name=Tazbinur%20Rahaman HTTP/1.1'), Row(IP='10.128.2.1', URL='POST /update.php HTTP/1.1'), Row(IP='10.129.2.1', URL='GET /details.php?id=43 HTTP/1.1'), Row(IP='10.128.2.1', URL='GET /contestproblem.php?name=ncpc_ruet HTTP/1.1'), Row(IP='10.130.2.1', URL='GET /details.php?id=9 HTTP/1.1'), Row(IP='10.131.0.1', URL='GET /contestsubmission.php?id=16&show=bruce HTTP/1.1'), Row(IP='10.129.2.1', URL='GET /details.php?id=44 HTTP/1.1'), Row(IP='10.129.2.1', URL='GET /details.php?id=46 HTTP/1.1'), Row(IP='10.130.2.1', URL='GET /details.php?id=46 HTTP/1.1'), Row(IP='10.129.2.1', URL='GET /contestsubmission.php?id=16 HTTP/1.1'), Row(IP='10.129.2.1', URL='GET /standings.php?id=16 HTTP/1.1'), Row(IP='10.129.2.1', URL='GET /contestsubmission.php?id=16&show=bruce HTTP/1.1'), Row(IP='10.128.2.1', URL='GET /profile.php?user=bruce HTTP/1.1'), Row(IP='10.131.2.1', URL='GET /contestsubmit.php?id=42 HTTP/1.1'), Row(IP='10.131.2.1', URL='POST /contestsubmission.php HTTP/1.1'), Row(IP='10.131.2.1', URL='GET /details.php?name=Research%20Items&cod=16 HTTP/1.1'), Row(IP='10.128.2.1', URL='GET /contestsubmit.php?id=42 HTTP/1.1'), Row(IP='10.128.2.1', URL='GET /contestsubmit.php?id=41 HTTP/1.1'), Row(IP='10.128.2.1', URL='GET /details.php?id=41 HTTP/1.1'), Row(IP='10.130.2.1', URL='GET /details.php?name=Research%20Items&cod=16 HTTP/1.1'), Row(IP='10.131.0.1', URL='GET /contestsubmit.php?id=42 HTTP/1.1'), Row(IP='10.131.0.1', URL='POST /contestsubmission.php HTTP/1.1'), Row(IP='10.131.0.1', URL='GET /details.php?name=Research%20Items&cod=16 HTTP/1.1'), Row(IP='10.128.2.1', URL='GET /standings.php?id=16 HTTP/1.1'), Row(IP='10.130.2.1', URL='GET /contestsubmit.php?id=42 HTTP/1.1'), Row(IP='10.128.2.1', URL='GET /contestsubmission.php?id=16 HTTP/1.1'), Row(IP='10.128.2.1', URL='GET /details.php?name=Research%20Items&cod=16 HTTP/1.1'), Row(IP='10.131.0.1', URL='GET /details.php?id=45 HTTP/1.1'), Row(IP='10.129.2.1', URL='GET /contestsubmit.php?id=42 HTTP/1.1'), Row(IP='10.129.2.1', URL='GET /details.php?id=42 HTTP/1.1'), Row(IP='10.131.2.1', URL='GET /contestsubmit.php?id=45 HTTP/1.1'), Row(IP='10.131.2.1', URL='GET /details.php?name=Factorial%20Factorization&cod=16 HTTP/1.1'), Row(IP='10.129.2.1', URL='POST /contestsubmission.php HTTP/1.1'), Row(IP='10.129.2.1', URL='GET /details.php?name=Research%20Items&cod=16 HTTP/1.1'), Row(IP='10.130.2.1', URL='GET /standings.php?id=16 HTTP/1.1'), Row(IP='10.130.2.1', URL='GET /contestsubmission.php?id=16&show=bruce HTTP/1.1'), Row(IP='10.129.2.1', URL='GET /contestsubmit.php?id=41 HTTP/1.1'), Row(IP='10.128.2.1', URL='GET /details.php?name=Matrix%20For%20My%20Valentine%20&cod=16 HTTP/1.1'), Row(IP='10.128.2.1', URL='POST /contestsubmission.php HTTP/1.1'), Row(IP='10.131.0.1', URL='GET /contestsubmission.php?id=16&page=1 HTTP/1.1'), Row(IP='10.131.0.1', URL='GET /details.php?name=Matrix%20For%20My%20Valentine%20&cod=16 HTTP/1.1'), Row(IP='10.131.2.1', URL='GET /contestsubmission.php?id=16&show=tanu_1603070 HTTP/1.1'), Row(IP='10.130.2.1', URL='GET /details.php?id=43 HTTP/1.1'), Row(IP='10.129.2.1', URL='GET /contestsubmission.php?id=16&show=tanu_1603070 HTTP/1.1'), Row(IP='10.128.2.1', URL='GET /contestproblem.php?name=RUET%20OJ%20Final%20Test HTTP/1.1'), Row(IP='10.128.2.1', URL='GET /details.php?id=39 HTTP/1.1'), Row(IP='10.128.2.1', URL='GET /contestsubmit.php?id=45 HTTP/1.1'), Row(IP='10.130.2.1', URL='GET /details.php?name=Factorial%20Factorization&cod=16 HTTP/1.1'), Row(IP='10.128.2.1', URL='GET /contestsubmission.php?id=16&show=bruce HTTP/1.1'), Row(IP='10.128.2.1', URL='GET /details.php?name=Factorial%20Factorization&cod=16 HTTP/1.1'), Row(IP='10.130.2.1', URL='GET /contestsubmission.php?id=16&page=1 HTTP/1.1'), Row(IP='10.131.2.1', URL='GET /contestsubmission.php?id=16&page=1 HTTP/1.1'), Row(IP='10.131.0.1', URL='GET /contestsubmit.php?id=45 HTTP/1.1'), Row(IP='10.131.0.1', URL='GET /details.php?name=Factorial%20Factorization&cod=16 HTTP/1.1'), Row(IP='10.129.2.1', URL='GET /contestsubmission.php?id=16&show=samin_1610002 HTTP/1.1'), Row(IP='10.129.2.1', URL='GET /details.php?name=Factorial%20Factorization&cod=16 HTTP/1.1'), Row(IP='10.131.0.1', URL='GET /contestsubmission.php?id=16&show=tanu_1603070 HTTP/1.1'), Row(IP='10.131.0.1', URL='GET /contestsubmission.php?id=16&show=dhruba_1603088 HTTP/1.1'), Row(IP='10.131.2.1', URL='GET /contestsubmission.php?id=16 HTTP/1.1'), Row(IP='10.129.2.1', URL='GET /contestshowcode.php?id=392&nm=dhruba_1603088&cn=16 HTTP/1.1'), Row(IP='10.131.0.1', URL='GET /profile.php?user=bruce HTTP/1.1'), Row(IP='10.128.2.1', URL='GET /contestsubmission.php?id=14&show=bruce HTTP/1.1'), Row(IP='10.131.0.1', URL='GET /contestshowcode.php?id=392&nm=dhruba_1603088&cn=16 HTTP/1.1'), Row(IP='10.129.2.1', URL='GET /contestsubmit.php?id=45 HTTP/1.1'), Row(IP='10.131.2.1', URL='POST /compile.php HTTP/1.1'), Row(IP='10.131.0.1', URL='GET /profile.php?user=mahadi HTTP/1.1'), Row(IP='10.131.0.1', URL='GET /edit.php?name=mahadi HTTP/1.1'), Row(IP='10.131.0.1', URL='POST /update.php HTTP/1.1'), Row(IP='10.131.0.1', URL='GET /allsubmission.php?name=mahadi HTTP/1.1'), Row(IP='10.130.2.1', URL='POST /compile.php HTTP/1.1'), Row(IP='10.128.2.1', URL='GET /editcontestproblem.php?id=45 HTTP/1.1'), Row(IP='10.129.2.1', URL='POST /contestproblem.php HTTP/1.1'), Row(IP='10.131.0.1', URL='POST /compile.php HTTP/1.1'), Row(IP='10.129.2.1', URL='GET /profile.php?user=shawon HTTP/1.1'), Row(IP='10.129.2.1', URL='GET /announcement.php HTTP/1.1'), Row(IP='10.129.2.1', URL='POST /announcement.php HTTP/1.1'), Row(IP='10.129.2.1', URL='GET /contestsubmission.php?id=16&show=superman100 HTTP/1.1'), Row(IP='10.130.2.1', URL='GET /contestsubmit.php?id=44 HTTP/1.1'), Row(IP='10.131.2.1', URL='GET /profile.php?user=shawon HTTP/1.1'), Row(IP='10.131.2.1', URL='GET /profile.php?user=abufarhad HTTP/1.1'), Row(IP='10.130.2.1', URL='GET /contestsubmission.php?id=13&show=abufarhad HTTP/1.1'), Row(IP='10.130.2.1', URL='GET /standings.php?id=13 HTTP/1.1'), Row(IP='10.129.2.1', URL='GET /editcontestproblem.php?id=43 HTTP/1.1'), Row(IP='10.131.0.1', URL='GET /contestsubmission.php?id=16&show=samin_1610002 HTTP/1.1'), Row(IP='10.131.2.1', URL='GET /profile.php?user=superman100 HTTP/1.1'), Row(IP='10.130.2.1', URL='GET /contestsubmission.php?id=16&show=superman100 HTTP/1.1'), Row(IP='10.131.0.1', URL='POST /contestproblem.php HTTP/1.1'), Row(IP='10.130.2.1', URL='GET /profile.php?user=dhruba_1603088 HTTP/1.1'), Row(IP='10.131.0.1', URL='GET /profile.php?user=shawon HTTP/1.1'), Row(IP='10.131.2.1', URL='GET /announcement.php HTTP/1.1'), Row(IP='10.128.2.1', URL='GET /announcement.php HTTP/1.1'), Row(IP='10.128.2.1', URL='GET /contestproblem.php?name= HTTP/1.1'), Row(IP='10.131.0.1', URL='GET /contestproblem.php?name= HTTP/1.1'), Row(IP='10.128.2.1', URL='GET /contestsubmission.php?id=16&show=dhruba_1603088 HTTP/1.1'), Row(IP='10.130.2.1', URL='GET /sign.php?value=fail HTTP/1.1'), Row(IP='10.129.2.1', URL='GET /contestsubmit.php?id=43 HTTP/1.1'), Row(IP='10.129.2.1', URL='GET /details.php?name=Another%20Multiplication%20Game&cod=16 HTTP/1.1'), Row(IP='10.128.2.1', URL='GET /sign.php?value=fail HTTP/1.1'), Row(IP='10.131.0.1', URL='POST /home.php HTTP/1.1'), Row(IP='10.128.2.1', URL='GET /contestsubmit.php?id=43 HTTP/1.1'), Row(IP='10.128.2.1', URL='GET /details.php?name=Another%20Multiplication%20Game&cod=16 HTTP/1.1'), Row(IP='10.129.2.1', URL='GET /contestsubmission.php?id=16&show=Tasnim_1610007 HTTP/1.1'), Row(IP='10.128.2.1', URL='GET /profile.php?user=m.r.saurov HTTP/1.1'), Row(IP='10.129.2.1', URL='GET /profile.php?user=Tasnim_1610007 HTTP/1.1'), Row(IP='10.128.2.1', URL='GET /edit.php?name=m.r.saurov HTTP/1.1'), Row(IP='10.131.2.1', URL='GET /profile.php?user=m.r.saurov HTTP/1.1'), Row(IP='10.131.2.1', URL='GET /profile.php?user=samin_1610002 HTTP/1.1'), Row(IP='10.131.2.1', URL='GET /contestsubmission.php?id=16&show=Tasnim_1610007 HTTP/1.1'), Row(IP='10.130.2.1', URL='GET /details.php?name=Another%20Multiplication%20Game&cod=16 HTTP/1.1'), Row(IP='10.128.2.1', URL='GET /profile.php?user=Tasnim_1610007 HTTP/1.1'), Row(IP='10.130.2.1', URL='GET /contestsubmission.php?id=16&page=2 HTTP/1.1'), Row(IP='10.129.2.1', URL='GET /contestsubmission.php?id=16&show=dhruba_1603088 HTTP/1.1'), Row(IP='10.130.2.1', URL='GET /contestsubmission.php?id=16&show=samin_1610002 HTTP/1.1'), Row(IP='10.131.2.1', URL='GET /contestsubmit.php?id=41 HTTP/1.1'), Row(IP='10.131.2.1', URL='GET /details.php?name=Matrix%20For%20My%20Valentine%20&cod=16 HTTP/1.1'), Row(IP='10.131.2.1', URL='GET /contestsubmission.php?id=16&show=samin_1610002 HTTP/1.1'), Row(IP='10.131.0.1', URL='GET /contestsubmit.php?id=41 HTTP/1.1'), Row(IP='10.128.2.1', URL='GET /contestsubmission.php?id=16&show=samin_1610002 HTTP/1.1'), Row(IP='10.131.0.1', URL='GET /contestsubmission.php?id=16&show=superman100 HTTP/1.1'), Row(IP='10.131.0.1', URL='GET /contestsubmission.php?id=16&show=Tasnim_1610007 HTTP/1.1'), Row(IP='10.131.0.1', URL='GET /profile.php?user=utshab_1603022 HTTP/1.1'), Row(IP='10.131.0.1', URL='GET /contestsubmission.php?id=16&show=utshab_1603022 HTTP/1.1'), Row(IP='10.131.0.1', URL='GET /contestsubmission.php?id=16&show=FFIsty_1603011 HTTP/1.1'), Row(IP='10.129.2.1', URL='GET /editcontestproblem.php?id=41 HTTP/1.1'), Row(IP='10.131.2.1', URL='GET /setproblem.php HTTP/1.1'), Row(IP='10.131.2.1', URL='POST /archive.php HTTP/1.1'), Row(IP='10.131.2.1', URL='GET /archive.php?page=2 HTTP/1.1'), Row(IP='10.131.2.1', URL='GET /description.php?id=76 HTTP/1.1'), Row(IP='10.131.2.1', URL='GET /profile.php?user=PKP HTTP/1.1'), Row(IP='10.129.2.1', URL='GET /description.php?id=76 HTTP/1.1'), Row(IP='10.129.2.1', URL='GET /allsubmission.php?page=2 HTTP/1.1'), Row(IP='10.129.2.1', URL='GET /profile.php?user=nasif25 HTTP/1.1'), Row(IP='10.131.0.1', URL='GET /editcontestproblem.php?id=42 HTTP/1.1'), Row(IP='10.131.0.1', URL='GET /setproblem.php HTTP/1.1'), Row(IP='10.131.0.1', URL='POST /archive.php HTTP/1.1'), Row(IP='10.131.0.1', URL='GET /archive.php?page=2 HTTP/1.1'), Row(IP='10.131.2.1', URL='GET /description.php?id=77 HTTP/1.1'), Row(IP='10.131.2.1', URL='GET /submit.php?id=76 HTTP/1.1'), Row(IP='10.131.2.1', URL='GET /description.php?name=Matrix%20For%20My%20Valentine HTTP/1.1'), Row(IP='10.131.2.1', URL='GET /editcontestproblem.php?id=45 HTTP/1.1'), Row(IP='10.128.2.1', URL='GET /allsubmission.php?page=3 HTTP/1.1'), Row(IP='10.128.2.1', URL='GET /profile.php?user=xyz_xyz HTTP/1.1'), Row(IP='10.131.2.1', URL='GET /allsubmission.php?page=2 HTTP/1.1'), Row(IP='10.131.2.1', URL='GET /allsubmission.php?page=3 HTTP/1.1'), Row(IP='10.131.2.1', URL='GET /allsubmission.php?page=4 HTTP/1.1'), Row(IP='10.131.2.1', URL='GET /allsubmission.php?page=5 HTTP/1.1'), Row(IP='10.128.2.1', URL='POST /archive.php HTTP/1.1'), Row(IP='10.128.2.1', URL='GET /description.php?id=76 HTTP/1.1'), Row(IP='10.128.2.1', URL='GET /contestsubmission.php?id=16&page=2 HTTP/1.1'), Row(IP='10.131.0.1', URL='GET /contestsubmission.php?id=16&page=2 HTTP/1.1'), Row(IP='10.128.2.1', URL='GET /profile.php?user=FFIsty_1603011 HTTP/1.1'), Row(IP='10.128.2.1', URL='GET /details.php?name=Adjacency%20List&cod=16 HTTP/1.1'), Row(IP='10.131.0.1', URL='GET /editcontestproblem.php?id=44 HTTP/1.1'), Row(IP='10.128.2.1', URL='GET /profile.php?user=dhruba_1603088 HTTP/1.1'), Row(IP='10.128.2.1', URL='GET /profile.php?user=samin_1610002 HTTP/1.1'), Row(IP='10.128.2.1', URL='GET /contestsubmission.php?id=16&show=tanu_1603070 HTTP/1.1'), Row(IP='10.130.2.1', URL='GET /contestsubmission.php?id=16&show=dhruba_1603088 HTTP/1.1'), Row(IP='10.131.2.1', URL='GET /profile.php?user=Tasnim_1610007 HTTP/1.1'), Row(IP='10.128.2.1', URL='GET /contestsubmission.php?id=16&show=Tasnim_1610007 HTTP/1.1'), Row(IP='10.128.2.1', URL='POST /compile.php HTTP/1.1'), Row(IP='10.131.2.1', URL='GET /description.php?id=67 HTTP/1.1'), Row(IP='10.129.2.1', URL='GET /description.php?id=78 HTTP/1.1'), Row(IP='10.129.2.1', URL='GET /submit.php?id=78 HTTP/1.1'), Row(IP='10.131.2.1', URL='GET /submit.php?id=78 HTTP/1.1'), Row(IP='10.131.2.1', URL='GET /showcode.php?id=296&nm=bruce HTTP/1.1'), Row(IP='10.131.2.1', URL='GET /description.php?id=78 HTTP/1.1'), Row(IP='10.129.2.1', URL='GET /pcompile.php HTTP/1.1'), Row(IP='10.131.0.1', URL='GET /pcompile.php HTTP/1.0'), Row(IP='10.129.2.1', URL='POST /compile.php HTTP/1.1'), Row(IP='10.131.2.1', URL='GET /description.php?id=72 HTTP/1.1'), Row(IP='10.130.2.1', URL='GET /profile.php?user=wbreturn HTTP/1.1'), Row(IP='10.131.0.1', URL='GET /contestproblem.php?name=ncpc_ruet HTTP/1.1'), Row(IP='10.128.2.1', URL='GET /contestsubmission.php?id=3 HTTP/1.1'), Row(IP='10.129.2.1', URL='GET /contestproblem.php?name=ncpc_ruet HTTP/1.1'), Row(IP='10.131.2.1', URL='GET /standings.php?id=3 HTTP/1.1'), Row(IP='10.131.2.1', URL='GET /contestsubmission.php?id=3&show=shawon HTTP/1.1'), Row(IP='10.129.2.1', URL='GET /profile.php?user=zerocool HTTP/1.1'), Row(IP='10.129.2.1', URL='GET /edit.php?name=zerocool HTTP/1.1'), Row(IP='10.131.2.1', URL='GET /allsubmission.php?name=zerocool HTTP/1.1'), Row(IP='10.131.0.1', URL='GET /standings.php?id=13 HTTP/1.1'), Row(IP='10.129.2.1', URL='GET /contestsubmission.php?id=13&show=AYSrizon HTTP/1.1'), Row(IP='10.128.2.1', URL='GET /details.php?name=Magic%20Square&cod=13 HTTP/1.1'), Row(IP='10.129.2.1', URL='GET /profile.php?user=mdshs.shanto HTTP/1.1'), Row(IP='10.128.2.1', URL='GET /profile.php?user=ashadullah HTTP/1.1'), Row(IP='10.128.2.1', URL='GET /setproblem.php HTTP/1.1'), Row(IP='10.131.0.1', URL='GET /profile.php?user=ashadullah HTTP/1.1'), Row(IP='10.129.2.1', URL='GET /submit.php?id=77 HTTP/1.1'), Row(IP='10.129.2.1', URL='GET /showcode.php?id=282&nm=ashadullah HTTP/1.1'), Row(IP='10.129.2.1', URL='GET /showcode.php?id=283&nm=ashadullah HTTP/1.1'), Row(IP='10.130.2.1', URL='GET /archive.php?page=2 HTTP/1.1'), Row(IP='10.130.2.1', URL='GET /description.php?id=77 HTTP/1.1'), Row(IP='10.130.2.1', URL='GET /submit.php?id=77 HTTP/1.1'), Row(IP='10.130.2.1', URL='GET /profile.php?user=xyz_xyz HTTP/1.1'), Row(IP='10.130.2.1', URL='GET /showcode.php?id=284&nm=xyz_xyz HTTP/1.1'), Row(IP='10.131.2.1', URL='GET /profile.php?user=ashadullah HTTP/1.1'), Row(IP='10.128.2.1', URL='GET /setcontest.php HTTP/1.1'), Row(IP='10.131.0.1', URL='POST /contest.php HTTP/1.1'), Row(IP='10.131.0.1', URL='GET /setcontest.php HTTP/1.1'), Row(IP='10.128.2.1', URL='POST /contest.php HTTP/1.1'), Row(IP='10.128.2.1', URL='GET /showcode.php?id=281&nm=shawon HTTP/1.1'), Row(IP='10.131.0.1', URL='GET /showcode.php?id=283&nm=ashadullah HTTP/1.1'), Row(IP='10.131.0.1', URL='GET /description.php?id=77 HTTP/1.1'), Row(IP='10.131.0.1', URL='GET /profile.php?user=Shawon HTTP/1.1'), Row(IP='10.129.2.1', URL='GET /edit.php?name=shawon HTTP/1.1'), Row(IP='10.129.2.1', URL='POST /update.php HTTP/1.1'), Row(IP='10.128.2.1', URL='GET /edit.php?name=ashadullah HTTP/1.1'), Row(IP='10.130.2.1', URL='GET /profile.php?user=ashadullah HTTP/1.1'), Row(IP='10.131.2.1', URL='GET /showcode.php?id=280&nm=shawon HTTP/1.1'), Row(IP='10.131.0.1', URL='GET /showcode.php?id=284&nm=xyz_xyz HTTP/1.1'), Row(IP='10.131.0.1', URL='GET /showcode.php?id=281&nm=shawon HTTP/1.1'), Row(IP='10.129.2.1', URL='GET /showcode.php?id=284&nm=xyz_xyz HTTP/1.1'), Row(IP='10.129.2.1', URL='GET /description.php?id=77 HTTP/1.1'), Row(IP='10.129.2.1', URL='GET /details.php?id=38 HTTP/1.1'), Row(IP='10.131.2.1', URL='GET /setcontest.php HTTP/1.1'), Row(IP='10.131.0.1', URL='POST /login.php HTTP/1.1'), Row(IP='10.131.2.1', URL='GET /contestsubmission.php?id=13 HTTP/1.1'), Row(IP='10.131.2.1', URL='GET /contestshowcode.php?id=339&nm=shawon&cn=13 HTTP/1.1'), Row(IP='10.129.2.1', URL='GET /contestshowcode.php?id=338&nm=shawon&cn=13 HTTP/1.1'), Row(IP='10.130.2.1', URL='GET /createadmin.php HTTP/1.1'), Row(IP='10.130.2.1', URL='GET /contestproblem.php?name=RUET%20OJ%20Testing%20Contest%203 HTTP/1.1'), Row(IP='10.130.2.1', URL='GET /contestsubmission.php?id=12 HTTP/1.1'), Row(IP='10.129.2.1', URL='GET /contestproblem.php?name=RUET%20CSE%20Contest%203 HTTP/1.1'), Row(IP='10.128.2.1', URL='GET /contestproblem.php?name=ROJ%20Testing%20Contest%201 HTTP/1.1'), Row(IP='10.128.2.1', URL='GET /contestproblem.php?name=RUET%20OJ%20Testing%20Contest%202 HTTP/1.1'), Row(IP='10.129.2.1', URL='GET /contestsubmission.php?id=11 HTTP/1.1'), Row(IP='10.129.2.1', URL='GET /profile.php?user=st.zuhori HTTP/1.1'), Row(IP='10.129.2.1', URL='GET /sign.php?value=fail HTTP/1.1'), Row(IP='10.130.2.1', URL='GET /profile.php?user=Shawon_ICT HTTP/1.1'), Row(IP='10.129.2.1', URL='GET /description.php?id=75 HTTP/1.1'), Row(IP='10.129.2.1', URL='GET /showcode.php?id=281&nm=shawon HTTP/1.1'), Row(IP='10.130.2.1', URL='GET /submit.php?id=55 HTTP/1.1'), Row(IP='10.129.2.1', URL='GET /description.php?id=67 HTTP/1.1'), Row(IP='10.130.2.1', URL='GET /profile.php?user=sanaul HTTP/1.1'), Row(IP='10.130.2.1', URL='GET /contestproblem.php?name=RUET%20CSE%20Contest%203 HTTP/1.1'), Row(IP='10.129.2.1', URL='GET /contestproblem.php?name=RUET%20OJ%20Testing%20Contest%202 HTTP/1.1'), Row(IP='10.129.2.1', URL='GET /contestproblem.php?name=RUET%20OJ%20Testing%20Contest%203 HTTP/1.1'), Row(IP='10.129.2.1', URL='GET /contestsubmission.php?id=12 HTTP/1.1'), Row(IP='10.129.2.1', URL='GET /contestsubmission.php?id=12&page=2 HTTP/1.1'), Row(IP='10.129.2.1', URL='GET /standings.php?id=13 HTTP/1.1'), Row(IP='10.129.2.1', URL='GET /profile.php?user=saif_1603035 HTTP/1.1'), Row(IP='10.131.2.1', URL='GET /standings.php?id=12 HTTP/1.1'), Row(IP='10.131.2.1', URL='GET /profile.php?user=xyz HTTP/1.1'), Row(IP='10.129.2.1', URL='GET /contestsubmission.php?id=13&page=3 HTTP/1.1'), Row(IP='10.129.2.1', URL='GET /contestsubmission.php?id=13&page=2 HTTP/1.1'), Row(IP='10.129.2.1', URL='GET /profile.php?user=emrul_mu HTTP/1.1'), Row(IP='10.129.2.1', URL='GET /contestsubmission.php?id=13&page=4 HTTP/1.1'), Row(IP='10.131.2.1', URL='GET /description.php?name=The%20Triangle HTTP/1.1'), Row(IP='10.131.2.1', URL='GET /description.php?id=55 HTTP/1.1'), Row(IP='10.130.2.1', URL='GET /showcode.php?id=222&nm=nasif25 HTTP/1.1'), Row(IP='10.131.0.1', URL='GET /allsubmission.php?page=2 HTTP/1.1'), Row(IP='10.131.0.1', URL='GET /allsubmission.php?page=3 HTTP/1.1'), Row(IP='10.131.0.1', URL='GET /allsubmission.php?page=4 HTTP/1.1'), Row(IP='10.131.0.1', URL='GET /showcode.php?id=193&nm=shawon HTTP/1.1'), Row(IP='10.131.2.1', URL='GET /description.php?name=Google%20feeling%20lucky. HTTP/1.1'), Row(IP='10.128.2.1', URL='GET /allsubmission.php?page=2 HTTP/1.1'), Row(IP='10.128.2.1', URL='GET /allsubmission.php?page=5 HTTP/1.1'), Row(IP='10.130.2.1', URL='GET /profile.php?user=nasif25 HTTP/1.1'), Row(IP='10.131.0.1', URL='GET /sign.php?value=fail HTTP/1.1'), Row(IP='10.129.2.1', URL='GET /setproblem.php HTTP/1.1'), Row(IP='10.131.2.1', URL='GET /setcontestproblem.php HTTP/1.1'), Row(IP='10.130.2.1', URL='POST /contestproblem.php HTTP/1.1'), Row(IP='10.131.0.1', URL='GET /setcontestproblem.php HTTP/1.1'), Row(IP='10.128.2.1', URL='POST /contestproblem.php HTTP/1.1'), Row(IP='10.128.2.1', URL='GET /editcontest.php?name=RUET%20OJ%20Server%20Testing%20Contest HTTP/1.1'), Row(IP='10.129.2.1', URL='POST /contest.php HTTP/1.1'), Row(IP='10.129.2.1', URL='GET /editcontestproblem.php?id=42 HTTP/1.1'), Row(IP='10.128.2.1', URL='GET /editcontestproblem.php?id=43 HTTP/1.1'), Row(IP='10.130.2.1', URL='GET /contestsubmit.php?id=41 HTTP/1.1'), Row(IP='10.128.2.1', URL='GET /editcontestproblem.php?id=42 HTTP/1.1'), Row(IP='10.130.2.1', URL='GET /contestsubmit.php?id=43 HTTP/1.1'), Row(IP='10.131.2.1', URL='GET /countdown.php?name=Another%20Multiplication%20Game HTTP/1.1'), Row(IP='10.129.2.1', URL='GET /archive.php?page=1 HTTP/1.1'), Row(IP='10.131.2.1', URL='GET /archive.php?page=1 HTTP/1.1'), Row(IP='10.131.2.1', URL='GET /editcontestproblem.php?id=43 HTTP/1.1'), Row(IP='10.130.2.1', URL='GET /profile.php?user=mkarzymat HTTP/1.1'), Row(IP='10.131.0.1', URL='GET /profile.php?user=samin_1610002 HTTP/1.1'), Row(IP='10.128.2.1', URL='GET /pcompile.php HTTP/1.0'), Row(IP='10.130.2.1', URL='GET /archive.php?page=1 HTTP/1.1'), Row(IP='10.130.2.1', URL='GET /description.php?name=Google%20feeling%20lucky. HTTP/1.1'), Row(IP='10.131.0.1', URL='GET /profile.php?user=Shawon14012 HTTP/1.1'), Row(IP='10.131.0.1', URL='GET /edit.php?name=Shawon14012 HTTP/1.1'), Row(IP='10.131.0.1', URL='GET /showcode.php?id=300&nm=x HTTP/1.1'), Row(IP='10.131.0.1', URL='GET /showcode.php?id=301&nm=Shawon14012 HTTP/1.1'), Row(IP='10.131.0.1', URL='GET /profile.php?user=sammm HTTP/1.1'), Row(IP='10.130.2.1', URL='GET /description.php?id=55%27 HTTP/1.1'), Row(IP='10.130.2.1', URL='GET /details.php?id=35 HTTP/1.1'), Row(IP='10.130.2.1', URL='GET /details.php?id=34 HTTP/1.1'), Row(IP='10.131.0.1', URL='GET /details.php?id=36 HTTP/1.1'), Row(IP='10.131.0.1', URL='GET /details.php?id=37 HTTP/1.1'), Row(IP='10.131.0.1', URL='GET /description.php?id=73 HTTP/1.1'), Row(IP='10.131.0.1', URL='GET /submit.php?id=73 HTTP/1.1'), Row(IP='10.131.0.1', URL='GET /profile.php?user=uva HTTP/1.1'), Row(IP='10.131.0.1', URL='GET /description.php?id=58 HTTP/1.1'), Row(IP='10.130.2.1', URL='GET /description.php?id=64 HTTP/1.1'), Row(IP='10.130.2.1', URL='GET /login.php HTTP/1.0'), Row(IP='10.128.2.1', URL='GET /login.php HTTP/1.0'), Row(IP='10.128.2.1', URL='HEAD /login.php HTTP/1.1'), Row(IP='10.130.2.1', URL='HEAD /login.php HTTP/1.1'), Row(IP='10.131.0.1', URL='GET /login.php HTTP/1.0'), Row(IP='10.130.2.1', URL='GET /submit.php?id=71 HTTP/1.1'), Row(IP='10.128.2.1', URL='GET /showcode.php?id=304&nm=vinoth HTTP/1.1'), Row(IP='10.128.2.1', URL='GET /showcode.php?id=218&nm=shawon HTTP/1.1'), Row(IP='10.131.0.1', URL='GET /showcode.php?id=218&nm=shawon HTTP/1.1'), Row(IP='10.130.2.1', URL='GET /sign.php HTTP/1.0'), Row(IP='10.131.0.1', URL='GET /sign.php HTTP/1.0'), Row(IP='10.130.2.1', URL='GET /home.php HTTP/1.0'), Row(IP='10.128.2.1', URL='GET /index.php HTTP/1.0'), Row(IP='10.131.0.1', URL='POST /compile.php HTTP/1.0'), Row(IP='10.130.2.1', URL='GET /edit.php HTTP/1.1'), Row(IP='10.128.2.1', URL='GET /standings.php?id=14 HTTP/1.1'), Row(IP='10.128.2.1', URL='GET /contestsubmission.php?id=14&show=shawon HTTP/1.1'), Row(IP='10.131.0.1', URL='GET /contestproblem.php?name=RUET%20OJ%20Final%20Test HTTP/1.1'), Row(IP='10.131.0.1', URL='GET /details.php?id=39 HTTP/1.1'), Row(IP='10.128.2.1', URL='GET /contestproblem.php?name=ncpc%202016 HTTP/1.1'), Row(IP='10.128.2.1', URL='GET /standings.php?id=4 HTTP/1.1'), Row(IP='10.128.2.1', URL='GET /contestsubmission.php?id=4&show=shawon HTTP/1.1'), Row(IP='10.131.0.1', URL='GET /contestsubmission.php?id=3&show=shawon HTTP/1.1'), Row(IP='10.131.0.1', URL='GET /contestsubmission.php?id=4&show=shawon HTTP/1.1'), Row(IP='10.131.0.1', URL='GET /contestsubmission.php?id=10&show=shawon HTTP/1.1'), Row(IP='10.131.0.1', URL='GET /contestproblem.php?name=RUET%20CSE%20Contest%203 HTTP/1.1'), Row(IP='10.131.0.1', URL='GET /details.php?id=20 HTTP/1.1'), Row(IP='10.131.0.1', URL='GET /submit.php?id=58 HTTP/1.1'), Row(IP='10.130.2.1', URL='GET /description.php?name=IP%20Checking HTTP/1.1'), Row(IP='10.131.0.1', URL='GET /profile.php?user=ham05 HTTP/1.1'), Row(IP='10.130.2.1', URL='GET /edit.php?name=ham05 HTTP/1.1'), Row(IP='10.128.2.1', URL='GET /submit.php?id=58 HTTP/1.1'), Row(IP='10.131.0.1', URL='GET /profile.php?user=abc145 HTTP/1.1'), Row(IP='10.131.0.1', URL='GET /allsubmission.php?name=abc145 HTTP/1.1'), Row(IP='10.128.2.1', URL='GET /profile.php?user=ham05 HTTP/1.1'), Row(IP='10.130.2.1', URL='GET /profile.php?user=qruiger_116 HTTP/1.1'), Row(IP='10.130.2.1', URL='GET /description.php?id=67 HTTP/1.1'), Row(IP='10.130.2.1', URL='GET /description.php?id=60 HTTP/1.1'), Row(IP='10.130.2.1', URL='GET /profile.php?user=toph HTTP/1.1'), Row(IP='10.130.2.1', URL='GET /profile.php?user=ham05 HTTP/1.1'), Row(IP='10.130.2.1', URL='GET /allsubmission.php?name=ham05 HTTP/1.1'), Row(IP='10.131.0.1', URL='GET /profile.php?user=Aslan HTTP/1.1'), Row(IP='10.130.2.1', URL='GET /edit.php?name=Aslan HTTP/1.1'), Row(IP='10.130.2.1', URL='GET /profile.php?user=Aslan HTTP/1.1'), Row(IP='10.128.2.1', URL='GET /showcode.php?id=308&nm=ham05 HTTP/1.1'), Row(IP='10.131.0.1', URL='GET /allsubmission.php?name=ham05 HTTP/1.1'), Row(IP='10.128.2.1', URL='GET /profile.php?user=abc145 HTTP/1.1'), Row(IP='10.128.2.1', URL='GET /showcode.php?id=313&nm=abc145 HTTP/1.1'), Row(IP='10.130.2.1', URL='GET /showcode.php?id=309&nm=ham05 HTTP/1.1')]\n"
          ]
        }
      ]
    },
    {
      "cell_type": "code",
      "source": [
        "#transformo la lista a un dataframe de spark"
      ],
      "metadata": {
        "id": "u4k8Tayafx-x"
      },
      "execution_count": null,
      "outputs": []
    },
    {
      "cell_type": "code",
      "source": [
        "rdd_tuplas_lista_reducida = spark.createDataFrame(data=tuplas_lista_reducida)"
      ],
      "metadata": {
        "id": "Rncb00uIfC0K"
      },
      "execution_count": null,
      "outputs": []
    },
    {
      "cell_type": "code",
      "source": [
        "#selecionamos las columnas con las que deseamos trabajar\n",
        "datos_filtrados = rdd_tuplas_lista_reducida.select(\"URL\")"
      ],
      "metadata": {
        "id": "nAO_0Yu1gEyH"
      },
      "execution_count": null,
      "outputs": []
    },
    {
      "cell_type": "code",
      "source": [
        "#tranformo el dataset a rdd y realizo mapeo "
      ],
      "metadata": {
        "id": "Mc4N1d3bjGkR"
      },
      "execution_count": null,
      "outputs": []
    },
    {
      "cell_type": "code",
      "source": [
        "rddObj=datos_filtrados.rdd\n",
        "tuplas_rddObj = rddObj.map(lambda x: (x, 1))\n",
        "tuplas_rddObj"
      ],
      "metadata": {
        "colab": {
          "base_uri": "https://localhost:8080/"
        },
        "outputId": "82b8550a-639f-4867-fbe1-d26a0bdc11ca",
        "id": "JOm8WqWKjGkW"
      },
      "execution_count": null,
      "outputs": [
        {
          "output_type": "execute_result",
          "data": {
            "text/plain": [
              "PythonRDD[275] at RDD at PythonRDD.scala:53"
            ]
          },
          "metadata": {},
          "execution_count": 242
        }
      ]
    },
    {
      "cell_type": "code",
      "source": [
        "#compruebo si se realiza correctamente"
      ],
      "metadata": {
        "id": "J3OeW6szjGkZ"
      },
      "execution_count": null,
      "outputs": []
    },
    {
      "cell_type": "code",
      "source": [
        "tuplas_rddObj.take(10)"
      ],
      "metadata": {
        "colab": {
          "base_uri": "https://localhost:8080/"
        },
        "outputId": "f6c0a984-b63e-4d99-9c7a-019a37882796",
        "id": "QonbY8jOjGkb"
      },
      "execution_count": null,
      "outputs": [
        {
          "output_type": "execute_result",
          "data": {
            "text/plain": [
              "[(Row(URL='GET /login.php HTTP/1.1'), 1),\n",
              " (Row(URL='GET /home.php HTTP/1.1'), 1),\n",
              " (Row(URL='GET /profile.php?user=bala HTTP/1.1'), 1),\n",
              " (Row(URL='GET /edit.php?name=bala HTTP/1.1'), 1),\n",
              " (Row(URL='GET /login.php HTTP/1.1'), 1),\n",
              " (Row(URL='GET /login.php HTTP/1.1'), 1),\n",
              " (Row(URL='GET /home.php HTTP/1.1'), 1),\n",
              " (Row(URL='GET /contestproblem.php?name=RUET%20OJ%20Server%20Testing%20Contest HTTP/1.1'),\n",
              "  1),\n",
              " (Row(URL='GET /contestproblem.php?name=RUET%20OJ%20Server%20Testing%20Contest HTTP/1.1'),\n",
              "  1),\n",
              " (Row(URL='GET /login.php?value=fail HTTP/1.1'), 1)]"
            ]
          },
          "metadata": {},
          "execution_count": 244
        }
      ]
    },
    {
      "cell_type": "code",
      "source": [
        "#agrupo por clave para reducir y mostrar cuanto se ha visitado cada página"
      ],
      "metadata": {
        "id": "25VeLjdsjGke"
      },
      "execution_count": null,
      "outputs": []
    },
    {
      "cell_type": "code",
      "source": [
        "tuplas_rddObj = tuplas_rddObj.reduceByKey(lambda x,y: x + y)"
      ],
      "metadata": {
        "id": "Wiei3SzNjGkf"
      },
      "execution_count": null,
      "outputs": []
    },
    {
      "cell_type": "code",
      "source": [
        "#muestro el resultado que se ha pedido en el ejercicio"
      ],
      "metadata": {
        "id": "z4UkjAOBjGkg"
      },
      "execution_count": null,
      "outputs": []
    },
    {
      "cell_type": "code",
      "source": [
        "tuplas_rddObj.collect()[:10]"
      ],
      "metadata": {
        "colab": {
          "base_uri": "https://localhost:8080/"
        },
        "outputId": "6e2549fb-6c86-4861-e833-16de17ee779a",
        "id": "Uc6neWOljGki"
      },
      "execution_count": null,
      "outputs": [
        {
          "output_type": "execute_result",
          "data": {
            "text/plain": [
              "[(Row(URL='GET /home.php HTTP/1.1'), 5),\n",
              " (Row(URL='GET /profile.php?user=bala HTTP/1.1'), 1),\n",
              " (Row(URL='GET /edit.php?name=bala HTTP/1.1'), 1),\n",
              " (Row(URL='GET /login.php?value=fail HTTP/1.1'), 5),\n",
              " (Row(URL='GET /countdown.php?name=RUET%20OJ%20Server%20Testing%20Contest HTTP/1.1'),\n",
              "  5),\n",
              " (Row(URL='GET /compiler.php HTTP/1.1'), 5),\n",
              " (Row(URL='GET /details.php?id=44 HTTP/1.1'), 5),\n",
              " (Row(URL='GET /contestproblem.php?name=RUET%20OJ%20TLE%20Testing%20Contest HTTP/1.1'),\n",
              "  5),\n",
              " (Row(URL='GET /allsubmission.php HTTP/1.1'), 5),\n",
              " (Row(URL='GET /showcode.php?id=281&nm=shawon HTTP/1.1'), 4)]"
            ]
          },
          "metadata": {},
          "execution_count": 250
        }
      ]
    },
    {
      "cell_type": "markdown",
      "source": [
        "# ***MapReduce*** en Spark, Ejercicio 2 (D)\n",
        "\n"
      ],
      "metadata": {
        "id": "LRXMJ1Wsk4QN"
      }
    },
    {
      "cell_type": "code",
      "source": [
        "#Invocamos a métodos de un objeto de pyspark.context.SparkContext, que representa al contexto de ejecución."
      ],
      "metadata": {
        "id": "_pjwtT3Xk4QS"
      },
      "execution_count": null,
      "outputs": []
    },
    {
      "cell_type": "code",
      "source": [
        "from pyspark import SparkContext\n",
        "sc =SparkContext.getOrCreate()"
      ],
      "metadata": {
        "id": "mt6g94M8k4QW"
      },
      "execution_count": null,
      "outputs": []
    },
    {
      "cell_type": "code",
      "source": [
        "#Invocamos las funciones de spark para poder usarlas a futuro"
      ],
      "metadata": {
        "id": "HUuzZQb4k4QZ"
      },
      "execution_count": null,
      "outputs": []
    },
    {
      "cell_type": "code",
      "source": [
        "from pyspark.sql import functions as F"
      ],
      "metadata": {
        "id": "FxVVUpoLk4Qb"
      },
      "execution_count": null,
      "outputs": []
    },
    {
      "cell_type": "code",
      "source": [
        "#Cargamos el dataset con el que vamos a trabajar, y se convierte directamente a rdd"
      ],
      "metadata": {
        "id": "g_i2SBLUk4Qd"
      },
      "execution_count": null,
      "outputs": []
    },
    {
      "cell_type": "code",
      "source": [
        "#weblog_rdd = sc.textFile(\"/content/drive/MyDrive/weblog.csv\")\n",
        "weblog_rdd = spark.read.format(\"CSV\").option(\"header\",\"true\").load(\"/content/drive/MyDrive/weblog.csv\")"
      ],
      "metadata": {
        "id": "fF-YMdrkk4Qf"
      },
      "execution_count": null,
      "outputs": []
    },
    {
      "cell_type": "code",
      "source": [
        "#Comprobamos si se ha realizado correctamente"
      ],
      "metadata": {
        "id": "AyOopS5zk4Qj"
      },
      "execution_count": null,
      "outputs": []
    },
    {
      "cell_type": "code",
      "source": [
        "weblog_rdd.take(5)"
      ],
      "metadata": {
        "colab": {
          "base_uri": "https://localhost:8080/"
        },
        "outputId": "d01684dc-720d-4d80-dd20-ec91a21e1c97",
        "id": "0xe_fCpdk4Ql"
      },
      "execution_count": null,
      "outputs": [
        {
          "output_type": "execute_result",
          "data": {
            "text/plain": [
              "[Row(IP='10.128.2.1', Time='[29/Nov/2017:06:58:55', URL='GET /login.php HTTP/1.1', Staus='200'),\n",
              " Row(IP='10.128.2.1', Time='[29/Nov/2017:06:59:02', URL='POST /process.php HTTP/1.1', Staus='302'),\n",
              " Row(IP='10.128.2.1', Time='[29/Nov/2017:06:59:03', URL='GET /home.php HTTP/1.1', Staus='200'),\n",
              " Row(IP='10.131.2.1', Time='[29/Nov/2017:06:59:04', URL='GET /js/vendor/moment.min.js HTTP/1.1', Staus='200'),\n",
              " Row(IP='10.130.2.1', Time='[29/Nov/2017:06:59:06', URL='GET /bootstrap-3.3.7/js/bootstrap.js HTTP/1.1', Staus='200')]"
            ]
          },
          "metadata": {},
          "execution_count": 200
        }
      ]
    },
    {
      "cell_type": "code",
      "source": [
        "# Primero, se filtran las columnas con la ip y codigo 20x\n",
        "weblog_rdd_filtrado = weblog_rdd.filter(F.col(\"URL\").like(\"%php%\"))"
      ],
      "metadata": {
        "id": "Ywea6x1Pk4Qo"
      },
      "execution_count": null,
      "outputs": []
    },
    {
      "cell_type": "code",
      "source": [
        "#selecionamos las columnas con las que deseamos trabajar\n",
        "datos_filtrados = weblog_rdd_filtrado.select(\"IP\", \"URL\")"
      ],
      "metadata": {
        "id": "GgljeXe9k4Qp"
      },
      "execution_count": null,
      "outputs": []
    },
    {
      "cell_type": "code",
      "source": [
        "#compruebo los datos_filtrados"
      ],
      "metadata": {
        "id": "jo144_fSk4Qu"
      },
      "execution_count": null,
      "outputs": []
    },
    {
      "cell_type": "code",
      "source": [
        "datos_filtrados.take(5)"
      ],
      "metadata": {
        "colab": {
          "base_uri": "https://localhost:8080/"
        },
        "outputId": "1d132847-5d05-4b15-e155-8ca458c12cc3",
        "id": "Zje1WvVAk4Qw"
      },
      "execution_count": null,
      "outputs": [
        {
          "output_type": "execute_result",
          "data": {
            "text/plain": [
              "[Row(IP='10.128.2.1', URL='GET /login.php HTTP/1.1'),\n",
              " Row(IP='10.128.2.1', URL='POST /process.php HTTP/1.1'),\n",
              " Row(IP='10.128.2.1', URL='GET /home.php HTTP/1.1'),\n",
              " Row(IP='10.130.2.1', URL='GET /profile.php?user=bala HTTP/1.1'),\n",
              " Row(IP='10.131.2.1', URL='GET /edit.php?name=bala HTTP/1.1')]"
            ]
          },
          "metadata": {},
          "execution_count": 204
        }
      ]
    },
    {
      "cell_type": "code",
      "source": [
        "#tranformo el dataset a rdd y realizo mapeo "
      ],
      "metadata": {
        "id": "-SB4QchYk4Qy"
      },
      "execution_count": null,
      "outputs": []
    },
    {
      "cell_type": "code",
      "source": [
        "rddObj=datos_filtrados.rdd\n",
        "tuplas_rddObj = rddObj.map(lambda x: (x, 1))\n",
        "tuplas_rddObj"
      ],
      "metadata": {
        "colab": {
          "base_uri": "https://localhost:8080/"
        },
        "outputId": "e962e1d4-1d19-4ae3-b441-b457b68a84fb",
        "id": "iTet8Ugak4Q0"
      },
      "execution_count": null,
      "outputs": [
        {
          "output_type": "execute_result",
          "data": {
            "text/plain": [
              "PythonRDD[224] at RDD at PythonRDD.scala:53"
            ]
          },
          "metadata": {},
          "execution_count": 205
        }
      ]
    },
    {
      "cell_type": "code",
      "source": [
        "#compruebo si se realiza correctamente"
      ],
      "metadata": {
        "id": "_aiifBosk4Q2"
      },
      "execution_count": null,
      "outputs": []
    },
    {
      "cell_type": "code",
      "source": [
        "tuplas_rddObj.take(10)"
      ],
      "metadata": {
        "colab": {
          "base_uri": "https://localhost:8080/"
        },
        "outputId": "3ebab7ae-df4d-41fa-d982-405cae477f9b",
        "id": "jmU_LPesk4Q3"
      },
      "execution_count": null,
      "outputs": [
        {
          "output_type": "execute_result",
          "data": {
            "text/plain": [
              "[(Row(IP='10.128.2.1', URL='GET /login.php HTTP/1.1'), 1),\n",
              " (Row(IP='10.128.2.1', URL='POST /process.php HTTP/1.1'), 1),\n",
              " (Row(IP='10.128.2.1', URL='GET /home.php HTTP/1.1'), 1),\n",
              " (Row(IP='10.130.2.1', URL='GET /profile.php?user=bala HTTP/1.1'), 1),\n",
              " (Row(IP='10.131.2.1', URL='GET /edit.php?name=bala HTTP/1.1'), 1),\n",
              " (Row(IP='10.131.2.1', URL='GET /logout.php HTTP/1.1'), 1),\n",
              " (Row(IP='10.131.2.1', URL='GET /login.php HTTP/1.1'), 1),\n",
              " (Row(IP='10.130.2.1', URL='GET /login.php HTTP/1.1'), 1),\n",
              " (Row(IP='10.130.2.1', URL='GET /login.php HTTP/1.1'), 1),\n",
              " (Row(IP='10.130.2.1', URL='GET /login.php HTTP/1.1'), 1)]"
            ]
          },
          "metadata": {},
          "execution_count": 206
        }
      ]
    },
    {
      "cell_type": "code",
      "source": [
        "#agrupo por clave para reducir"
      ],
      "metadata": {
        "id": "nn0F4L9sk4Q6"
      },
      "execution_count": null,
      "outputs": []
    },
    {
      "cell_type": "code",
      "source": [
        "tuplas_rddObj = tuplas_rddObj.reduceByKey(lambda x,y: x + y)"
      ],
      "metadata": {
        "id": "j8huL_ryk4Q7"
      },
      "execution_count": null,
      "outputs": []
    },
    {
      "cell_type": "code",
      "source": [
        "#muestro para comprobar el funcionamiento"
      ],
      "metadata": {
        "id": "2MifEP0uk4Q7"
      },
      "execution_count": null,
      "outputs": []
    },
    {
      "cell_type": "code",
      "source": [
        "tuplas_rddObj.take(10)"
      ],
      "metadata": {
        "colab": {
          "base_uri": "https://localhost:8080/"
        },
        "outputId": "f33c167e-2177-404d-ee24-03f36ad8a883",
        "id": "v72vSY4Bk4Q9"
      },
      "execution_count": null,
      "outputs": [
        {
          "output_type": "execute_result",
          "data": {
            "text/plain": [
              "[(Row(IP='10.128.2.1', URL='GET /login.php HTTP/1.1'), 991),\n",
              " (Row(IP='10.128.2.1', URL='POST /process.php HTTP/1.1'), 65),\n",
              " (Row(IP='10.128.2.1', URL='GET /home.php HTTP/1.1'), 872),\n",
              " (Row(IP='10.130.2.1', URL='GET /profile.php?user=bala HTTP/1.1'), 1),\n",
              " (Row(IP='10.131.2.1', URL='GET /edit.php?name=bala HTTP/1.1'), 1),\n",
              " (Row(IP='10.131.2.1', URL='GET /logout.php HTTP/1.1'), 9),\n",
              " (Row(IP='10.131.2.1', URL='GET /login.php HTTP/1.1'), 173),\n",
              " (Row(IP='10.130.2.1', URL='GET /login.php HTTP/1.1'), 959),\n",
              " (Row(IP='10.129.2.1', URL='POST /process.php HTTP/1.1'), 44),\n",
              " (Row(IP='10.131.0.1', URL='GET /home.php HTTP/1.1'), 788)]"
            ]
          },
          "metadata": {},
          "execution_count": 208
        }
      ]
    },
    {
      "cell_type": "code",
      "source": [
        "#una vez agrupado, solo faltaría calcula la frecuencia de cada uno para cada página"
      ],
      "metadata": {
        "id": "tzKfMFy2k4Q_"
      },
      "execution_count": null,
      "outputs": []
    },
    {
      "cell_type": "code",
      "source": [
        "#Primero, habría que revertir el orden "
      ],
      "metadata": {
        "id": "DRhc9MjNnydV"
      },
      "execution_count": null,
      "outputs": []
    },
    {
      "cell_type": "code",
      "source": [
        "def revertir_tupla(par):\n",
        "  return (par[1], par[0])\n",
        "\n",
        "# Se revierte la clave y el valor para poder ordenar por clave\n",
        "secuencias = tuplas_rddObj.map(revertir_tupla)\n",
        "\n",
        "# Se ordena por clave (descendiente: False)\n",
        "secuencias_ord = secuencias.sortByKey(False)\n",
        "secuencias_ord.take(5)"
      ],
      "metadata": {
        "colab": {
          "base_uri": "https://localhost:8080/"
        },
        "id": "pzb9Cjspeu8m",
        "outputId": "462f2bbb-0385-438b-bf0f-6d963a15c206"
      },
      "execution_count": null,
      "outputs": [
        {
          "output_type": "execute_result",
          "data": {
            "text/plain": [
              "[(991, Row(IP='10.128.2.1', URL='GET /login.php HTTP/1.1')),\n",
              " (979, Row(IP='10.131.0.1', URL='GET /login.php HTTP/1.1')),\n",
              " (959, Row(IP='10.130.2.1', URL='GET /login.php HTTP/1.1')),\n",
              " (872, Row(IP='10.128.2.1', URL='GET /home.php HTTP/1.1')),\n",
              " (788, Row(IP='10.131.0.1', URL='GET /home.php HTTP/1.1'))]"
            ]
          },
          "metadata": {},
          "execution_count": 209
        }
      ]
    },
    {
      "cell_type": "code",
      "source": [
        "# Primero, calculamos el total de accesos\n",
        "total = secuencias_ord.keys().sum()\n",
        "\n",
        "# Aplicamos el cálculo de la frecuencia con comprensión de lista (list comprehension)\n",
        "secuencias = [(sec[0]/total,sec[1]) for sec in secuencias_ord.collect()]\n",
        "\n",
        "#mostramos el resultado pedido por el ejercicio\n",
        "print(\"Número total de accesos de cada cliente a recursos de cada servidor.: \",total)\n",
        "secuencias[:10]"
      ],
      "metadata": {
        "colab": {
          "base_uri": "https://localhost:8080/"
        },
        "id": "_cPfFDA9gumX",
        "outputId": "c88755bd-c5de-4707-b6ae-ebebffa8c686"
      },
      "execution_count": null,
      "outputs": [
        {
          "output_type": "stream",
          "name": "stdout",
          "text": [
            "Número total de accesos de cada cliente a recursos de cada servidor.:  9499\n"
          ]
        },
        {
          "output_type": "execute_result",
          "data": {
            "text/plain": [
              "[(0.1043267712390778, Row(IP='10.128.2.1', URL='GET /login.php HTTP/1.1')),\n",
              " (0.10306348036635435, Row(IP='10.131.0.1', URL='GET /login.php HTTP/1.1')),\n",
              " (0.10095799557848195, Row(IP='10.130.2.1', URL='GET /login.php HTTP/1.1')),\n",
              " (0.09179913675123698, Row(IP='10.128.2.1', URL='GET /home.php HTTP/1.1')),\n",
              " (0.08295610064217286, Row(IP='10.131.0.1', URL='GET /home.php HTTP/1.1')),\n",
              " (0.08253500368459837, Row(IP='10.130.2.1', URL='GET /home.php HTTP/1.1')),\n",
              " (0.01915991156963891, Row(IP='10.129.2.1', URL='GET /login.php HTTP/1.1')),\n",
              " (0.018212443415096327, Row(IP='10.131.2.1', URL='GET /login.php HTTP/1.1')),\n",
              " (0.0108432466575429, Row(IP='10.129.2.1', URL='GET /home.php HTTP/1.1')),\n",
              " (0.01073797241814928,\n",
              "  Row(IP='10.131.2.1', URL='GET /contestproblem.php?name=RUET%20OJ%20Server%20Testing%20Contest HTTP/1.1'))]"
            ]
          },
          "metadata": {},
          "execution_count": 251
        }
      ]
    }
  ]
}