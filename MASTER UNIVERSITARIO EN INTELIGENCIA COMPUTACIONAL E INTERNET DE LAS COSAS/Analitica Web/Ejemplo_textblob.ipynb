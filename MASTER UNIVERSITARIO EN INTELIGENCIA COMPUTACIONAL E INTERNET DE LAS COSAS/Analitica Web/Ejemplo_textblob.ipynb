{
  "cells": [
    {
      "cell_type": "markdown",
      "metadata": {
        "Collapsed": "false",
        "id": "T-MPiaxvwX8-"
      },
      "source": [
        "# TextBlob para Análisis de Sentimiento\n",
        "\n",
        "[Textblob](http://textblob.readthedocs.org/) es una librería de procesamiento del texto para Python que permite realizar tareas de Procesamiento del Lenguaje Natural como análisis morfológico, extracción de entidades, análisis de opinión, traducción automática, etc. Nosotros nos centraremos en la tarea de análisis de sentimiento basado el léxico. Es una de la más populares junto con VADER. En este ejemplo, veremos algunas de sus características más relevantes.\n"
      ]
    },
    {
      "cell_type": "markdown",
      "metadata": {
        "Collapsed": "false",
        "id": "qiWpjssLwX8_"
      },
      "source": [
        "Está construida sobre otras dos librerías muy famosas de Python: [NLTK](http://www.nltk.org/) y [pattern](http://www.clips.ua.ac.be/pages/pattern-en). La principal ventaja de [textblob](http://textblob.readthedocs.org/) es que permite combinar el uso de las dos herramientas anteriores en un interfaz más simple.\n",
        "\n",
        "Lo primero es importar el objeto `TextBlob` que nos permite acceder a todas las herramentas que incluye e instalarlo si nuestra distribución lo tuviese. También importaremos la librería nltk y descargaremos:\n",
        "\n",
        "\n",
        "*  punkt: se descarga los recursos para dividir un texto en tokens.\n",
        "*  brown: se descarga los recursos para fragmentar frases nominales.\n",
        "* wordnet: se descarga los recursos para realizar la lematización, entre otras tareas.\n",
        "* omw-1.4: se descarga los recursos para realizar tareas de lematización y conversiones del singular y plural.\n",
        "* averaged_perceptron_tagger: se descarga recursos necesarios para hacer análisis morfosintáctico."
      ]
    },
    {
      "cell_type": "code",
      "execution_count": 1,
      "metadata": {
        "Collapsed": "false",
        "id": "UKZ_ClTVwX8_",
        "colab": {
          "base_uri": "https://localhost:8080/"
        },
        "outputId": "983298a7-3501-484f-eba2-9da4a3376fdb"
      },
      "outputs": [
        {
          "output_type": "stream",
          "name": "stderr",
          "text": [
            "[nltk_data] Downloading package punkt to /root/nltk_data...\n",
            "[nltk_data]   Unzipping tokenizers/punkt.zip.\n",
            "[nltk_data] Downloading package brown to /root/nltk_data...\n",
            "[nltk_data]   Unzipping corpora/brown.zip.\n",
            "[nltk_data] Downloading package wordnet to /root/nltk_data...\n",
            "[nltk_data] Downloading package omw-1.4 to /root/nltk_data...\n",
            "[nltk_data] Downloading package averaged_perceptron_tagger to\n",
            "[nltk_data]     /root/nltk_data...\n",
            "[nltk_data]   Unzipping taggers/averaged_perceptron_tagger.zip.\n"
          ]
        },
        {
          "output_type": "execute_result",
          "data": {
            "text/plain": [
              "True"
            ]
          },
          "metadata": {},
          "execution_count": 1
        }
      ],
      "source": [
        "from textblob import TextBlob\n",
        "import nltk\n",
        "nltk.download('punkt')\n",
        "nltk.download('brown')\n",
        "nltk.download('wordnet')\n",
        "nltk.download('omw-1.4')\n",
        "nltk.download('averaged_perceptron_tagger')"
      ]
    },
    {
      "cell_type": "markdown",
      "metadata": {
        "Collapsed": "false",
        "id": "8vKrowTFwX9A"
      },
      "source": [
        "Vamos a crear nuestro primer ejemplo de *textblob* a través del objeto `TextBlob`. Los *textblobs* son como una especie de cadenas de texto de Python, analizadas y enriquecidas con algunas características extra. "
      ]
    },
    {
      "cell_type": "code",
      "execution_count": 2,
      "metadata": {
        "Collapsed": "false",
        "id": "RXHZ6FdjwX9A",
        "colab": {
          "base_uri": "https://localhost:8080/"
        },
        "outputId": "fa8448ef-55ea-474a-9a81-3a472a33e21c"
      },
      "outputs": [
        {
          "output_type": "stream",
          "name": "stdout",
          "text": [
            "In new lawsuits brought against the ride-sharing companies Uber and Lyft, the top prosecutors in Los Angeles and San Francisco counties make an important point about the lightly regulated sharing economy. The consumers who  participate deserve a very clear picture of the risks they arere taking\n"
          ]
        }
      ],
      "source": [
        "texto = \"In new lawsuits brought against the ride-sharing companies Uber and Lyft, the top prosecutors in Los Angeles and San Francisco counties make an important point about the lightly regulated sharing economy. The consumers who  participate deserve a very clear picture of the risks they arere taking\"\n",
        "\n",
        "tb = TextBlob(texto)\n",
        "\n",
        "#Mostramos el objeto textblob\n",
        "print(tb)\n"
      ]
    },
    {
      "cell_type": "markdown",
      "metadata": {
        "Collapsed": "false",
        "id": "_Os2WSq1wX9B"
      },
      "source": [
        "## Procesando oraciones, palabras y entidades\n",
        "\n",
        "Podemos segmentar en oraciones accediendo a la propiedad `.sentences` e imprimimos por pantalla: "
      ]
    },
    {
      "cell_type": "code",
      "execution_count": 3,
      "metadata": {
        "Collapsed": "false",
        "id": "wHiMPhgZwX9B",
        "colab": {
          "base_uri": "https://localhost:8080/"
        },
        "outputId": "e7218b99-10db-4dec-c6f8-f9799e5aee3d"
      },
      "outputs": [
        {
          "output_type": "stream",
          "name": "stdout",
          "text": [
            "In new lawsuits brought against the ride-sharing companies Uber and Lyft, the top prosecutors in Los Angeles and San Francisco counties make an important point about the lightly regulated sharing economy.\n",
            "---------------------------------------------------------------------------\n",
            "The consumers who  participate deserve a very clear picture of the risks they arere taking\n",
            "---------------------------------------------------------------------------\n"
          ]
        }
      ],
      "source": [
        "# Dividimos el texto en frases y las mostramos por pantalla\n",
        "for sentence in tb.sentences:\n",
        "    print(sentence)\n",
        "    print(\"-\" * 75)"
      ]
    },
    {
      "cell_type": "markdown",
      "source": [
        "Segmentamos en palabras accediendo a la propiedad  .words e imprimimos por pantalla:"
      ],
      "metadata": {
        "id": "ZVCoC0Lpgt05"
      }
    },
    {
      "cell_type": "code",
      "source": [
        "# Dividimos el texto en palabras y las mostramos por pantalla\n",
        "print(tb.words)\n",
        "#print(texto.split())"
      ],
      "metadata": {
        "id": "N6ddecdIgtgb",
        "colab": {
          "base_uri": "https://localhost:8080/"
        },
        "outputId": "28b5aaba-d76b-4008-85a4-6345478803d5"
      },
      "execution_count": 4,
      "outputs": [
        {
          "output_type": "stream",
          "name": "stdout",
          "text": [
            "['In', 'new', 'lawsuits', 'brought', 'against', 'the', 'ride-sharing', 'companies', 'Uber', 'and', 'Lyft', 'the', 'top', 'prosecutors', 'in', 'Los', 'Angeles', 'and', 'San', 'Francisco', 'counties', 'make', 'an', 'important', 'point', 'about', 'the', 'lightly', 'regulated', 'sharing', 'economy', 'The', 'consumers', 'who', 'participate', 'deserve', 'a', 'very', 'clear', 'picture', 'of', 'the', 'risks', 'they', 'arere', 'taking']\n"
          ]
        }
      ]
    },
    {
      "cell_type": "markdown",
      "metadata": {
        "Collapsed": "false",
        "id": "1ijlI4RUwX9C"
      },
      "source": [
        "La propiedad `.noun_phrases` nos permite acceder a la lista de entidades (en realidad, son sintagmas nominales) incluídos en el *textblob*"
      ]
    },
    {
      "cell_type": "code",
      "execution_count": 5,
      "metadata": {
        "Collapsed": "false",
        "id": "xaOiDitiwX9C",
        "colab": {
          "base_uri": "https://localhost:8080/"
        },
        "outputId": "36721a0e-a563-4a49-c319-cf1cf3e65d76"
      },
      "outputs": [
        {
          "output_type": "stream",
          "name": "stdout",
          "text": [
            "El texto de ejemplo contiene 8 entidades\n",
            "- new lawsuits\n",
            "- uber\n",
            "- lyft\n",
            "- top prosecutors\n",
            "- los angeles\n",
            "- san francisco\n",
            "- important point\n",
            "- clear picture\n"
          ]
        }
      ],
      "source": [
        "#Obtenenmos las entidades y lo mostramos por pantalla\n",
        "print(\"El texto de ejemplo contiene\", len(tb.noun_phrases), \"entidades\")\n",
        "\n",
        "#Se muestran por pantalla dichas entidades\n",
        "for element in tb.noun_phrases:\n",
        "    print(\"-\", element)"
      ]
    },
    {
      "cell_type": "code",
      "execution_count": 6,
      "metadata": {
        "Collapsed": "false",
        "id": "DSeRLtDSwX9C",
        "colab": {
          "base_uri": "https://localhost:8080/"
        },
        "outputId": "6e3a878c-df0f-4fc4-a51b-42772c618604"
      },
      "outputs": [
        {
          "output_type": "stream",
          "name": "stdout",
          "text": [
            "In In Ins\n",
            "new new news\n",
            "lawsuit lawsuits lawsuit\n",
            "brought brought broughts\n",
            "against against againsts\n",
            "the the thes\n",
            "ride-sharing ride-sharing ride-sharings\n",
            "company companies company\n",
            "Uber Uber Ubers\n",
            "and and ands\n",
            "Lyft Lyft Lyfts\n",
            "the the thes\n",
            "top top tops\n",
            "prosecutor prosecutors prosecutor\n",
            "in in ins\n",
            "Los Los Lo\n",
            "Angeles Angeles Angele\n",
            "and and ands\n",
            "San San Sans\n",
            "Francisco Francisco Franciscoes\n",
            "county counties county\n",
            "make make makes\n",
            "an an some\n",
            "important important importants\n",
            "point point points\n",
            "about about abouts\n",
            "the the thes\n",
            "lightly lightly lightlies\n",
            "regulated regulated regulateds\n",
            "sharing sharing sharings\n",
            "economy economy economies\n",
            "The The Thes\n",
            "consumer consumers consumer\n",
            "who who whoes\n",
            "participate participate participates\n",
            "deserve deserve deserves\n",
            "a a some\n",
            "very very veries\n",
            "clear clear clears\n",
            "picture picture pictures\n",
            "of of ofs\n",
            "the the thes\n",
            "risk risks risk\n",
            "they they they\n",
            "arere arere areres\n",
            "taking taking takings\n"
          ]
        }
      ],
      "source": [
        "# Haciendo lematización, muestra la palabra, su singular y su plural\n",
        "for word in tb.words:\n",
        "    if word.endswith(\"s\"):\n",
        "        print(word.lemmatize(), word, word.singularize())\n",
        "    else:\n",
        "        print(word.lemmatize(), word, word.pluralize())"
      ]
    },
    {
      "cell_type": "markdown",
      "source": [
        "Otra opción de realizar la lematización es utilizar la propiedad tags, que nos hace un análisis de cada palabra. Permite hacer el procedimiento POS."
      ],
      "metadata": {
        "id": "O2secGmnir72"
      }
    },
    {
      "cell_type": "code",
      "execution_count": 7,
      "metadata": {
        "Collapsed": "false",
        "id": "o8XHZidHwX9D",
        "colab": {
          "base_uri": "https://localhost:8080/"
        },
        "outputId": "b94cd550-b7b3-43da-b0c6-4475f6ce1f09"
      },
      "outputs": [
        {
          "output_type": "stream",
          "name": "stdout",
          "text": [
            "In In\n",
            "new new\n",
            "lawsuits --> lawsuit\n",
            "brought brought\n",
            "against against\n",
            "the the\n",
            "ride-sharing ride-sharing\n",
            "companies --> company\n",
            "Uber Uber\n",
            "and and\n",
            "Lyft Lyft\n",
            "the the\n",
            "top top\n",
            "prosecutors --> prosecutor\n",
            "in in\n",
            "Los Los\n",
            "Angeles Angeles\n",
            "and and\n",
            "San San\n",
            "Francisco Francisco\n",
            "counties --> county\n",
            "make make\n",
            "an an\n",
            "important important\n",
            "point --> points\n",
            "about about\n",
            "the the\n",
            "lightly lightly\n",
            "regulated regulated\n",
            "sharing sharing\n",
            "economy --> economies\n",
            "The The\n",
            "consumers --> consumer\n",
            "who who\n",
            "participate participate\n",
            "deserve deserve\n",
            "a a\n",
            "very very\n",
            "clear clear\n",
            "picture --> pictures\n",
            "of of\n",
            "the the\n",
            "risks --> risk\n",
            "they they\n",
            "arere arere\n",
            "taking taking\n"
          ]
        }
      ],
      "source": [
        "# Realizamos un análisis de cada palabra con .tags, luego pasamos a plural solamente \n",
        "# si es un nombre en singular, o un nombre en plural\n",
        "for item in tb.tags:\n",
        "    if item[1] == \"NN\":\n",
        "        print(item[0], \"-->\", item[0].pluralize())\n",
        "    elif item[1] == \"NNS\":\n",
        "        print(item[0], \"-->\", item[0].singularize())\n",
        "    else:\n",
        "        print(item[0], item[0].lemmatize())"
      ]
    },
    {
      "cell_type": "markdown",
      "metadata": {
        "Collapsed": "false",
        "id": "DWjSNTEywX9D"
      },
      "source": [
        "## Análisis sintático\n",
        "\n",
        "Aunque podemos utilizar otros analizadores, por defecto el método `.parse()` invoca al analizador morfosintáctico del módulo  `pattern`."
      ]
    },
    {
      "cell_type": "code",
      "execution_count": 8,
      "metadata": {
        "Collapsed": "false",
        "id": "P1EGI8CZwX9D",
        "colab": {
          "base_uri": "https://localhost:8080/"
        },
        "outputId": "b1b92374-f531-44e0-9b3b-9965edc4d2bb"
      },
      "outputs": [
        {
          "output_type": "stream",
          "name": "stdout",
          "text": [
            "In/IN/B-PP/B-PNP new/JJ/B-NP/I-PNP lawsuits/NNS/I-NP/I-PNP brought/VBN/B-VP/I-PNP against/IN/B-PP/B-PNP the/DT/B-NP/I-PNP ride-sharing/JJ/I-NP/I-PNP companies/NNS/I-NP/I-PNP Uber/NNP/I-NP/I-PNP and/CC/O/O Lyft/NNP/B-NP/O ,/,/O/O the/DT/B-NP/O top/JJ/I-NP/O prosecutors/NNS/I-NP/O in/IN/B-PP/B-PNP Los/NNP/B-NP/I-PNP Angeles/NNP/I-NP/I-PNP and/CC/I-NP/I-PNP San/NNP/I-NP/I-PNP Francisco/NNP/I-NP/I-PNP counties/NNS/I-NP/I-PNP make/VB/B-VP/O an/DT/B-NP/O important/JJ/I-NP/O point/NN/I-NP/O about/IN/B-PP/O the/DT/O/O lightly/RB/B-VP/O regulated/VBN/I-VP/O sharing/VBG/I-VP/O economy/NN/B-NP/O ././O/O\n",
            "The/DT/B-NP/O consumers/NNS/I-NP/O who/WP/O/O participate/VB/B-VP/O deserve/VBP/I-VP/O a/DT/B-NP/O very/RB/I-NP/O clear/JJ/I-NP/O picture/NN/I-NP/O of/IN/B-PP/B-PNP the/DT/B-NP/I-PNP risks/NNS/I-NP/I-PNP they/PRP/I-NP/I-PNP arere/NN/I-NP/I-PNP taking/VBG/B-VP/I-PNP\n"
          ]
        }
      ],
      "source": [
        "# Se realiza el análisis\n",
        "print(tb.parse())"
      ]
    },
    {
      "cell_type": "markdown",
      "source": [
        "## Corregir errores en el texto\n",
        "\n",
        "La función correct, permite corregir errores ortográficos en el texto."
      ],
      "metadata": {
        "id": "HQPH69Zpn8-6"
      }
    },
    {
      "cell_type": "code",
      "source": [
        "# Realizar corrección ortográfica\n",
        "b1 = TextBlob(\"I havv goood speling!\")\n",
        "print(b1.correct())"
      ],
      "metadata": {
        "id": "3-v2rUmMoTnP",
        "colab": {
          "base_uri": "https://localhost:8080/"
        },
        "outputId": "fbcfaa4a-9d72-4170-b6d3-a43f3a7b329b"
      },
      "execution_count": 9,
      "outputs": [
        {
          "output_type": "stream",
          "name": "stdout",
          "text": [
            "I have good spelling!\n"
          ]
        }
      ]
    },
    {
      "cell_type": "markdown",
      "metadata": {
        "Collapsed": "false",
        "id": "tLmYbWDQwX9D"
      },
      "source": [
        "## Traducción automática\n",
        "\n",
        "\n",
        "A partir de cualquier texto procesado con `TextBlob`, se puede hacer uso de un traductor automático utilizando la propiedad `.translate`. Se debe indicar tanto la lengua de origen como la de destino. Si no se indica lengua de origen, la intenta predecir con la frase que se desea traducir."
      ]
    },
    {
      "cell_type": "code",
      "execution_count": 10,
      "metadata": {
        "Collapsed": "false",
        "id": "8au_Nh6JwX9D",
        "colab": {
          "base_uri": "https://localhost:8080/"
        },
        "outputId": "303c4a72-053c-43c2-e9c3-06ef392dd419"
      },
      "outputs": [
        {
          "output_type": "stream",
          "name": "stdout",
          "text": [
            "--------------\n",
            "Public debt has marked new records in Spain in the third quarter\n",
            "--------------\n",
            "La dette publique a marqué de nouveaux records en Espagne au troisième trimestre\n"
          ]
        }
      ],
      "source": [
        "# Probamos traducir un texto en textblob de español a inglés y de español a francés\n",
        "tb_es = TextBlob(\"La deuda pública ha marcado nuevos récords en España en el tercer trimestre\")\n",
        "\n",
        "\n",
        "print(\"--------------\")\n",
        "print(tb_es.translate(from_lang=\"es\", to=\"en\"))\n",
        "\n",
        "print(\"--------------\")\n",
        "print(tb_es.translate(from_lang=\"es\", to=\"fr\"))\n"
      ]
    },
    {
      "cell_type": "markdown",
      "metadata": {
        "Collapsed": "false",
        "id": "HYU_k5mFwX9E"
      },
      "source": [
        "## Análisis de opinion\n",
        "\n",
        "En textblob podemos obtener una métrica de polaridad y subjetividad. La polaridad es el sentimiento mismo, que va de -1 a +1. La subjetividad es una medida del sentimiento siendo objetivo a subjetivo, y va de 0 a 1. "
      ]
    },
    {
      "cell_type": "code",
      "execution_count": 11,
      "metadata": {
        "Collapsed": "false",
        "id": "i7WkiE83wX9E",
        "colab": {
          "base_uri": "https://localhost:8080/"
        },
        "outputId": "4cf53ce5-cc7b-4016-85b3-42629c85d922"
      },
      "outputs": [
        {
          "output_type": "stream",
          "name": "stdout",
          "text": [
            "Sentiment(polarity=0.5387784090909091, subjectivity=0.6011363636363636)\n",
            "Sentiment(polarity=0.0, subjectivity=0.0)\n",
            "0.5387784090909091\n",
            "Se trata de una opinión\n"
          ]
        }
      ],
      "source": [
        "# Realizamos un análisis de la opinión 1 y lo mostramos\n",
        "opinion1 = TextBlob(\"This new restaurant is great. I had so much fun!! :-P\")\n",
        "print(opinion1.sentiment)\n",
        "\n",
        "# Realizamos un análisis de la opinión 2 y lo mostramos\n",
        "opinion2 = TextBlob(\"Google News to close in Spain.\")\n",
        "print(opinion2.sentiment)\n",
        "\n",
        "#También se puede solicitar solamente la polaridad o la subjectividad\n",
        "print(opinion1.sentiment.polarity)\n",
        "if opinion1.sentiment.subjectivity > 0.5:\n",
        "    print(\"Se trata de una opinión\")\n"
      ]
    }
  ],
  "metadata": {
    "kernelspec": {
      "display_name": "Python 3",
      "language": "python",
      "name": "python3"
    },
    "language_info": {
      "codemirror_mode": {
        "name": "ipython",
        "version": 3
      },
      "file_extension": ".py",
      "mimetype": "text/x-python",
      "name": "python",
      "nbconvert_exporter": "python",
      "pygments_lexer": "ipython3",
      "version": "3.7.6"
    },
    "colab": {
      "provenance": []
    }
  },
  "nbformat": 4,
  "nbformat_minor": 0
}