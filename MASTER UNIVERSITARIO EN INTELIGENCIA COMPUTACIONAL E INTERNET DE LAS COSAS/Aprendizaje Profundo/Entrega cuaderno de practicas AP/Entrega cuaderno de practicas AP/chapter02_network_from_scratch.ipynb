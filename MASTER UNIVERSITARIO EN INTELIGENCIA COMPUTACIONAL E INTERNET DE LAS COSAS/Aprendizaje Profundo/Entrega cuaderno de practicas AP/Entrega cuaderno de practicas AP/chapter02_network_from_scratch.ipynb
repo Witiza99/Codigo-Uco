{
  "nbformat": 4,
  "nbformat_minor": 0,
  "metadata": {
    "colab": {
      "provenance": []
    },
    "kernelspec": {
      "name": "python3",
      "display_name": "Python 3"
    },
    "language_info": {
      "name": "python"
    }
  },
  "cells": [
    {
      "cell_type": "markdown",
      "source": [],
      "metadata": {
        "id": "S976n7dT52xs"
      }
    },
    {
      "cell_type": "markdown",
      "source": [
        "# Los bloques de construcción matemáticos del aprendizaje profundo (parte II)"
      ],
      "metadata": {
        "id": "leKwkJPWvPV3"
      }
    },
    {
      "cell_type": "markdown",
      "source": [
        "En este cuaderno vamos a ver: \n",
        "\n",
        "* Un ejemplo de red neuronal\n",
        "* El concepto de tensor y operaciones con tensores\n",
        "* Cómo las redes neuronales aprenden a través del algoritmo de retropropagación y el descenso por gradiente\n",
        "\n",
        "**EJERCICIOS: Durante este cuaderno de prácticas verás ejercicios y preguntas marcadas con ❓❓❓. Puedes contestar añadiendo nuevos bloques de texto (breve) y/o código a continuación de la pregunta.**\n",
        "\n"
      ],
      "metadata": {
        "id": "VLKqo45Tu80M"
      }
    },
    {
      "cell_type": "markdown",
      "source": [
        "Este cuaderno está basado en los cuadernos del libro [Deep Learning with Python, Second Edition](https://www.manning.com/books/deep-learning-with-python-second-edition?a_aid=keras&a_bid=76564dff).\n",
        "\n",
        "> This is a companion notebook for the book [Deep Learning with Python, Second Edition](https://www.manning.com/books/deep-learning-with-python-second-edition?a_aid=keras&a_bid=76564dff). For readability, it only contains runnable code blocks and section titles, and omits everything else in the book: text paragraphs, figures, and pseudocode.\n",
        "\n",
        "\n",
        "> **If you want to be able to follow what's going on, I recommend reading the notebook side by side with your copy of the book.**\n",
        "\n",
        "> This notebook was generated for TensorFlow 2.6."
      ],
      "metadata": {
        "id": "1I35kAPLu7Z0"
      }
    },
    {
      "cell_type": "markdown",
      "metadata": {
        "id": "vZPUYr1xugWP"
      },
      "source": [
        "### Reimplementando nuestro ejemplo desde cero en TensorFlow\n",
        "\n",
        "Una forma de poner a prueba lo que se ha aprendido sobre algo es implementarlo \"desde cero\". Y esto vamos a hacer con una red neuronal. Obviamente no vamos a reimplementar operadores de matrices o algoritmos de optimización, pero si los componentes básicos de una red. \n"
      ]
    },
    {
      "cell_type": "markdown",
      "metadata": {
        "id": "6Rad4u8KugWP"
      },
      "source": [
        "#### Clase Dense\n",
        "\n",
        "La clase `Dense` implementa la siguiente transformación de los datos de entrada donde `W` y `b` son los datos del modelo:\n",
        "\n",
        "```\n",
        "output = activation(dot(W, input) + b)\n",
        "```\n",
        "\n",
        "Donde la función de actividad suele ser `relu` para capas ocultas o `softmax` en la última capa.\n",
        "\n",
        "Nota de orientación a objetos en Python: \n",
        "* El método `__init__` es el constructor de la clase y se llama al crear una instancia de la clase para asignar valores por defecto a los atributos de la clase. \n",
        "* El método `__call__` es el método que se lanza cuando se llama a la instancia de la clase como si fuera una función. \n",
        "\n"
      ]
    },
    {
      "cell_type": "code",
      "execution_count": 1,
      "metadata": {
        "id": "wGqA3sy3ugWP"
      },
      "outputs": [],
      "source": [
        "import tensorflow as tf\n",
        "\n",
        "class NaiveDense:\n",
        "    def __init__(self, input_size, output_size, activation):\n",
        "        self.activation = activation\n",
        "\n",
        "        w_shape = (input_size, output_size)\n",
        "        w_initial_value = tf.random.uniform(w_shape, minval=0, maxval=1e-1)\n",
        "        self.W = tf.Variable(w_initial_value)\n",
        "\n",
        "        b_shape = (output_size,)\n",
        "        b_initial_value = tf.zeros(b_shape)\n",
        "        self.b = tf.Variable(b_initial_value)\n",
        "\n",
        "    def __call__(self, inputs):\n",
        "        return self.activation(tf.matmul(inputs, self.W) + self.b)\n",
        "\n",
        "    @property\n",
        "    def weights(self):\n",
        "        return [self.W, self.b]"
      ]
    },
    {
      "cell_type": "code",
      "source": [
        "capa = NaiveDense(3,2,tf.nn.tanh)\n",
        "type(capa)\n",
        "print(capa.activation)\n",
        "print(capa.weights)"
      ],
      "metadata": {
        "colab": {
          "base_uri": "https://localhost:8080/"
        },
        "outputId": "8cf3371b-2655-434d-ca24-55d74ba5ed8e",
        "id": "v5Km_I3CveKX"
      },
      "execution_count": 2,
      "outputs": [
        {
          "output_type": "stream",
          "name": "stdout",
          "text": [
            "<function tanh at 0x7f1c8a95e940>\n",
            "[<tf.Variable 'Variable:0' shape=(3, 2) dtype=float32, numpy=\n",
            "array([[0.06020682, 0.03569577],\n",
            "       [0.00672787, 0.07623785],\n",
            "       [0.01908342, 0.00669973]], dtype=float32)>, <tf.Variable 'Variable:0' shape=(2,) dtype=float32, numpy=array([0., 0.], dtype=float32)>]\n"
          ]
        }
      ]
    },
    {
      "cell_type": "markdown",
      "source": [
        "❓❓❓ Intenta cambiar la forma de inicialización de los pesos y observa el efecto. ❓❓❓<br>\n",
        "Se cambia el peso inicial asignado a cada neurona entre 0 y 1."
      ],
      "metadata": {
        "id": "hsE9tTRssFKp"
      }
    },
    {
      "cell_type": "code",
      "source": [
        "import tensorflow as tf\n",
        "\n",
        "class NaiveDense:\n",
        "    def __init__(self, input_size, output_size, activation):\n",
        "        self.activation = activation\n",
        "\n",
        "        w_shape = (input_size, output_size)\n",
        "        w_initial_value = tf.random.uniform(w_shape, minval=0, maxval=1)\n",
        "        self.W = tf.Variable(w_initial_value)\n",
        "\n",
        "        b_shape = (output_size,)\n",
        "        b_initial_value = tf.zeros(b_shape)\n",
        "        self.b = tf.Variable(b_initial_value)\n",
        "\n",
        "    def __call__(self, inputs):\n",
        "        return self.activation(tf.matmul(inputs, self.W) + self.b)\n",
        "\n",
        "    @property\n",
        "    def weights(self):\n",
        "        return [self.W, self.b]"
      ],
      "metadata": {
        "id": "zAUYIaSwtWn6"
      },
      "execution_count": 3,
      "outputs": []
    },
    {
      "cell_type": "code",
      "source": [
        "capa = NaiveDense(3,2,tf.nn.tanh)\n",
        "type(capa)\n",
        "print(capa.activation)\n",
        "print(capa.weights)"
      ],
      "metadata": {
        "colab": {
          "base_uri": "https://localhost:8080/"
        },
        "id": "n54v8mTRvGkF",
        "outputId": "377b17be-74f1-4490-93d2-0181af8bd435"
      },
      "execution_count": 4,
      "outputs": [
        {
          "output_type": "stream",
          "name": "stdout",
          "text": [
            "<function tanh at 0x7f1c8a95e940>\n",
            "[<tf.Variable 'Variable:0' shape=(3, 2) dtype=float32, numpy=\n",
            "array([[0.74500525, 0.48566508],\n",
            "       [0.42916512, 0.382537  ],\n",
            "       [0.8495233 , 0.5852077 ]], dtype=float32)>, <tf.Variable 'Variable:0' shape=(2,) dtype=float32, numpy=array([0., 0.], dtype=float32)>]\n"
          ]
        }
      ]
    },
    {
      "cell_type": "markdown",
      "metadata": {
        "id": "bX0Aiyr3ugWQ"
      },
      "source": [
        "#### Clase Sequential\n",
        "\n",
        "Esta clase se va a encargar de encadenar las capas. Va a empaquetar una lista de capas y expone un método `__call__()` que simplemente llama en orden a las capas subyacentes. "
      ]
    },
    {
      "cell_type": "code",
      "execution_count": 5,
      "metadata": {
        "id": "jfso4YniugWQ"
      },
      "outputs": [],
      "source": [
        "class NaiveSequential:\n",
        "    def __init__(self, layers):\n",
        "        self.layers = layers\n",
        "\n",
        "    def __call__(self, inputs):\n",
        "        x = inputs\n",
        "        for layer in self.layers:\n",
        "           x = layer(x)\n",
        "        return x\n",
        "\n",
        "    @property\n",
        "    def weights(self):\n",
        "       weights = []\n",
        "       for layer in self.layers:\n",
        "           weights += layer.weights\n",
        "       return weights"
      ]
    },
    {
      "cell_type": "markdown",
      "source": [
        "Usando las clases `NaiveDense` y `NaiveSequential` podemos crear algo similar a un modelo de Keras:"
      ],
      "metadata": {
        "id": "j81P9OhoQetU"
      }
    },
    {
      "cell_type": "code",
      "execution_count": 6,
      "metadata": {
        "id": "qOIdPFPbugWQ"
      },
      "outputs": [],
      "source": [
        "model = NaiveSequential([\n",
        "    NaiveDense(input_size=28 * 28, output_size=512, activation=tf.nn.relu),\n",
        "    NaiveDense(input_size=512, output_size=10, activation=tf.nn.softmax)\n",
        "])\n",
        "assert len(model.weights) == 4"
      ]
    },
    {
      "cell_type": "markdown",
      "source": [
        "❓❓❓ **EJERCICIO**: Prueba a cambiar la función de activación de la capa oculta de las disponibles en [tf.nn](https://www.tensorflow.org/api_docs/python/tf/nn)❓❓❓"
      ],
      "metadata": {
        "id": "zF3wrbTcQs3h"
      }
    },
    {
      "cell_type": "code",
      "execution_count": 7,
      "metadata": {
        "id": "2ThgTqgqwZcC"
      },
      "outputs": [],
      "source": [
        "model = NaiveSequential([\n",
        "    NaiveDense(input_size=28 * 28, output_size=512, activation=tf.nn.relu),\n",
        "    #NaiveDense(input_size=512, output_size=512, activation=tf.nn.gelu),\n",
        "    NaiveDense(input_size=512, output_size=10, activation=tf.nn.softmax)\n",
        "])\n",
        "assert len(model.weights) == 4 #6"
      ]
    },
    {
      "cell_type": "markdown",
      "metadata": {
        "id": "Ek_YvseeugWR"
      },
      "source": [
        "#### Generador de lotes o *batches* \n",
        "\n",
        "Esta clase nos permitirá iterar sobre las imágenes de entrenamiento en *mini-batches*."
      ]
    },
    {
      "cell_type": "code",
      "execution_count": 8,
      "metadata": {
        "id": "nVUExC7hugWR"
      },
      "outputs": [],
      "source": [
        "import math\n",
        "\n",
        "class BatchGenerator:\n",
        "    def __init__(self, images, labels, batch_size=128):\n",
        "        assert len(images) == len(labels)\n",
        "        self.index = 0\n",
        "        self.images = images\n",
        "        self.labels = labels\n",
        "        self.batch_size = batch_size\n",
        "        self.num_batches = math.ceil(len(images) / batch_size)\n",
        "\n",
        "    def next(self):\n",
        "        images = self.images[self.index : self.index + self.batch_size]\n",
        "        labels = self.labels[self.index : self.index + self.batch_size]\n",
        "        self.index += self.batch_size\n",
        "        return images, labels"
      ]
    },
    {
      "cell_type": "markdown",
      "metadata": {
        "id": "7PXxSP3SugWR"
      },
      "source": [
        "### Ejecutar un paso de entrenamiento\n",
        "\n",
        "La parte más difícil del proceso es el \"**paso de entrenamiento**\": actualizar los pesos del modelo después de procesar un lote de datos. Necesitamos: \n",
        "1. Calcular las predicciones del modelo para las imágenes del lote.\n",
        "1. Calcular el valor de la pérdida para estas predicciones, dadas las etiquetas reales.\n",
        "1. Calcular el gradiente de la pérdida con respecto a los pesos del modelo.\n",
        "1. Mover los pesos una pequeña cantidad en la dirección opuesta al gradiente. \n",
        "\n",
        "El gradiente lo vamos a calcular con `GradientTape` de TensorFlow."
      ]
    },
    {
      "cell_type": "code",
      "execution_count": 9,
      "metadata": {
        "id": "WW-YoylIugWR"
      },
      "outputs": [],
      "source": [
        "def one_training_step(model, images_batch, labels_batch):\n",
        "    with tf.GradientTape() as tape:\n",
        "        # (1) llama a __call__()\n",
        "        predictions = model(images_batch) \n",
        "        # (2)\n",
        "        per_sample_losses = tf.keras.losses.sparse_categorical_crossentropy(\n",
        "            labels_batch, predictions)\n",
        "        # (2) media de elementos a través de las dimensiones del tensor\n",
        "        average_loss = tf.reduce_mean(per_sample_losses)\n",
        "    # (3) Calcula el gradiente del la función de coste/pérdida respecto a los pesos\n",
        "    # del modelo de todas las capas. Los gradientes de salida son una lista\n",
        "    # donde cada entrada corresponde con un peso de la lista model.weights\n",
        "    gradients = tape.gradient(average_loss, model.weights)\n",
        "    # (4) actualiza los pesos (a continuación)\n",
        "    update_weights(gradients, model.weights)\n",
        "    return average_loss"
      ]
    },
    {
      "cell_type": "markdown",
      "source": [
        "**La función `update_weights` moverá los pesos \"un poco\" en la dirección que reduzca la pérdida para este lote**. La magnitud de este movimiento dependerá del `learning_rate` y será en dirección contaria al gradiente, por tanto basta con restar el gradiente multiplicado por `learning_rate` a los pesos para actualizarlos. \n",
        "\n",
        "Nota Python: [cómo funciona zip](https://www.freecodecamp.org/news/the-zip-function-in-python-explained-with-examples/).\n",
        "\n",
        "Nota TF: `assign_sub` equivale a `-=\n",
        "\n",
        "\n",
        "```\n",
        "learning_rate = 1e-3\n",
        "\n",
        "def update_weights(gradients, weights):\n",
        "    for g, w in zip(gradients, weights):\n",
        "        w.assign_sub(g * learning_rate)\n",
        "```"
      ],
      "metadata": {
        "id": "3gB5qSZ0VK-I"
      }
    },
    {
      "cell_type": "markdown",
      "source": [
        "En la práctica será muy raro que implementemos la actualización de los pesos a mano y utilizaremos uno de los optimizadores de Keras:"
      ],
      "metadata": {
        "id": "H6V-aZ5AWtrx"
      }
    },
    {
      "cell_type": "code",
      "execution_count": 10,
      "metadata": {
        "id": "BlEYGwT3ugWS"
      },
      "outputs": [],
      "source": [
        "from tensorflow.keras import optimizers\n",
        "\n",
        "#optimizer = optimizers.SGD(learning_rate=1e-3)\n",
        "optimizer = optimizers.Adam(learning_rate=1e-3)\n",
        "\n",
        "def update_weights(gradients, weights):\n",
        "    optimizer.apply_gradients(zip(gradients, weights))"
      ]
    },
    {
      "cell_type": "markdown",
      "metadata": {
        "id": "iEx1Hih-ugWS"
      },
      "source": [
        "### El bucle de aprendizaje completo\n",
        "\n",
        "Una época o *epoch* de aprendizaje consiste en repetir un paso de aprendizaje para cada lote del conjunto de entrenamiento. El bucle completo de aprendizaje es simplemente la repetición de una época. "
      ]
    },
    {
      "cell_type": "code",
      "execution_count": 11,
      "metadata": {
        "id": "XrL_f9piugWS"
      },
      "outputs": [],
      "source": [
        "def fit(model, images, labels, epochs, batch_size=128):\n",
        "    hloss = list()\n",
        "    for epoch_counter in range(epochs):\n",
        "      print(f\"Epoch {epoch_counter}\")\n",
        "      batch_generator = BatchGenerator(images, labels)\n",
        "      for batch_counter in range(batch_generator.num_batches):\n",
        "          images_batch, labels_batch = batch_generator.next()\n",
        "          loss = one_training_step(model, images_batch, labels_batch)\n",
        "          if batch_counter % 100 == 0:\n",
        "              print(f\"loss at batch {batch_counter}: {loss:.2f}\")\n",
        "              hloss.append(loss)\n",
        "    return hloss"
      ]
    },
    {
      "cell_type": "markdown",
      "source": [
        "Probemos nuestro modelo: "
      ],
      "metadata": {
        "id": "7ItBUzzUZ2gy"
      }
    },
    {
      "cell_type": "code",
      "execution_count": 12,
      "metadata": {
        "id": "oL2E5EEHugWS",
        "colab": {
          "base_uri": "https://localhost:8080/"
        },
        "outputId": "fb44c6f2-870b-420f-8c29-7895e77ad420"
      },
      "outputs": [
        {
          "output_type": "stream",
          "name": "stdout",
          "text": [
            "Downloading data from https://storage.googleapis.com/tensorflow/tf-keras-datasets/mnist.npz\n",
            "11490434/11490434 [==============================] - 0s 0us/step\n",
            "Epoch 0\n",
            "loss at batch 0: 14.43\n",
            "loss at batch 100: 12.96\n",
            "loss at batch 200: 12.34\n",
            "loss at batch 300: 13.73\n",
            "loss at batch 400: 13.10\n",
            "Epoch 1\n",
            "loss at batch 0: 12.84\n",
            "loss at batch 100: 12.86\n",
            "loss at batch 200: 12.34\n",
            "loss at batch 300: 13.73\n",
            "loss at batch 400: 13.10\n",
            "Epoch 2\n",
            "loss at batch 0: 12.84\n",
            "loss at batch 100: 12.97\n",
            "loss at batch 200: 12.34\n",
            "loss at batch 300: 13.73\n",
            "loss at batch 400: 13.10\n",
            "Epoch 3\n",
            "loss at batch 0: 12.84\n",
            "loss at batch 100: 12.97\n",
            "loss at batch 200: 12.34\n",
            "loss at batch 300: 13.73\n",
            "loss at batch 400: 13.10\n",
            "Epoch 4\n",
            "loss at batch 0: 12.84\n",
            "loss at batch 100: 12.90\n",
            "loss at batch 200: 12.34\n",
            "loss at batch 300: 13.73\n",
            "loss at batch 400: 13.10\n",
            "Epoch 5\n",
            "loss at batch 0: 12.84\n",
            "loss at batch 100: 12.97\n",
            "loss at batch 200: 12.34\n",
            "loss at batch 300: 13.75\n",
            "loss at batch 400: 13.10\n",
            "Epoch 6\n",
            "loss at batch 0: 12.84\n",
            "loss at batch 100: 12.84\n",
            "loss at batch 200: 12.34\n",
            "loss at batch 300: 13.73\n",
            "loss at batch 400: 13.10\n",
            "Epoch 7\n",
            "loss at batch 0: 12.84\n",
            "loss at batch 100: 12.97\n",
            "loss at batch 200: 12.34\n",
            "loss at batch 300: 13.73\n",
            "loss at batch 400: 13.10\n",
            "Epoch 8\n",
            "loss at batch 0: 12.84\n",
            "loss at batch 100: 12.84\n",
            "loss at batch 200: 12.47\n",
            "loss at batch 300: 13.73\n",
            "loss at batch 400: 13.10\n",
            "Epoch 9\n",
            "loss at batch 0: 12.84\n",
            "loss at batch 100: 12.84\n",
            "loss at batch 200: 12.34\n",
            "loss at batch 300: 13.73\n",
            "loss at batch 400: 13.10\n"
          ]
        }
      ],
      "source": [
        "from tensorflow.keras.datasets import mnist\n",
        "(train_images, train_labels), (test_images, test_labels) = mnist.load_data()\n",
        "\n",
        "train_images = train_images.reshape((60000, 28 * 28))\n",
        "train_images = train_images.astype(\"float32\") / 255\n",
        "test_images = test_images.reshape((10000, 28 * 28))\n",
        "test_images = test_images.astype(\"float32\") / 255\n",
        "\n",
        "historico = fit(model, train_images, train_labels, epochs=10, batch_size=128)"
      ]
    },
    {
      "cell_type": "markdown",
      "source": [
        "❓❓❓\n",
        " \n",
        "**EJERCICIO**: Modifica el código anterior para guardar el histórico de la función de pérdida y dibuja esta en una gráfica para poder estudiar la convergencia del algoritmo. Analiza la salida de la evolución de la función de error. ¿Ha sido siempre descendente?¿Qué podríamos hacer para mejorar la precisión?\n",
        "\n",
        "Prueba a reemplazar el optimizador por [otro de Keras](https://keras.io/api/optimizers/).\n",
        "\n",
        "Prueba a cambiar la tasa de aprendizaje y a activar el momento.\n",
        "\n",
        "❓❓❓<br>\n",
        "No siempre es descendente. A mayor cantidad de epocas, más se reduce el error, en este caso.<br>\n",
        "Se probo adams.\n",
        "Para modificar la tasa de aprendizaje se cambia la linea-><br>\n",
        "optimizer = optimizers.Adam(learning_rate=1e-3)\n",
        "Para modificar el momento es necesario pasar como parámetro de la función anterior el siguiente parámetro-><br>\n",
        "ema_momentum ,y asignar un valor a la misma, por defecto 0.99\n"
      ],
      "metadata": {
        "id": "7dQPbpK55jq2"
      }
    },
    {
      "cell_type": "code",
      "source": [
        "import matplotlib.pyplot as plt\n",
        "plt.plot(historico)"
      ],
      "metadata": {
        "colab": {
          "base_uri": "https://localhost:8080/",
          "height": 283
        },
        "id": "XT-Co-R41TJe",
        "outputId": "b3586871-d35a-4391-fb60-2dcd342fea12"
      },
      "execution_count": 13,
      "outputs": [
        {
          "output_type": "execute_result",
          "data": {
            "text/plain": [
              "[<matplotlib.lines.Line2D at 0x7f1c61cdcfd0>]"
            ]
          },
          "metadata": {},
          "execution_count": 13
        },
        {
          "output_type": "display_data",
          "data": {
            "text/plain": [
              "<Figure size 432x288 with 1 Axes>"
            ],
            "image/png": "[encoded data removed]"
          },
          "metadata": {
            "needs_background": "light"
          }
        }
      ]
    },
    {
      "cell_type": "markdown",
      "metadata": {
        "id": "knkPRk_-ugWT"
      },
      "source": [
        "### Evaluación del modelo\n",
        "\n",
        "Podemos evaluar el modelo eligiendo la neurona de salida con máximo valor en la predicción del conjunto de test y comparándola con la etiqueta esperada\n",
        "\n",
        "❓❓❓ **EJERCICIO**: Completa el código para elegir la neurona con mayor probabilidad\n",
        "❓❓❓\n"
      ]
    },
    {
      "cell_type": "code",
      "execution_count": 14,
      "metadata": {
        "id": "D65ho0WiugWT",
        "colab": {
          "base_uri": "https://localhost:8080/"
        },
        "outputId": "612766b7-14f2-4d7d-86cb-d0f733bcb7bd"
      },
      "outputs": [
        {
          "output_type": "stream",
          "name": "stdout",
          "text": [
            "accuracy: 0.20\n"
          ]
        }
      ],
      "source": [
        "import numpy as np\n",
        "predictions = model(test_images)\n",
        "predictions = predictions.numpy()\n",
        "predicted_labels = predictions.argmax(axis = 1) # CAMBIAR AQUÍ\n",
        "matches = predicted_labels == test_labels\n",
        "print(f\"accuracy: {matches.mean():.2f}\")"
      ]
    },
    {
      "cell_type": "code",
      "source": [
        "print(len(test_images))\n",
        "predictions.shape\n",
        "predictions.argmax(axis = 1)"
      ],
      "metadata": {
        "colab": {
          "base_uri": "https://localhost:8080/"
        },
        "id": "C2mfvwiu3FBL",
        "outputId": "d7f93ae7-56d4-44cd-86c4-f99b83987fd7"
      },
      "execution_count": 15,
      "outputs": [
        {
          "output_type": "stream",
          "name": "stdout",
          "text": [
            "10000\n"
          ]
        },
        {
          "output_type": "execute_result",
          "data": {
            "text/plain": [
              "array([3, 3, 3, ..., 4, 3, 3])"
            ]
          },
          "metadata": {},
          "execution_count": 15
        }
      ]
    },
    {
      "cell_type": "markdown",
      "source": [
        "❓❓❓\n",
        "\n",
        "**EJERCICIO**: \n",
        "\n",
        "Pon todo el código que hemos desarrollado en una única celda de manera que permita hacer varias ejecuciones.\n",
        "\n",
        "1. Definición y clases y funciones\n",
        "1. Cargar datos\n",
        "1. Definir modelo\n",
        "1. Ajustar el modelo\n",
        "1. Evaluar el modelo\n",
        "\n",
        "❓❓❓"
      ],
      "metadata": {
        "id": "121qc_kH3QzT"
      }
    },
    {
      "cell_type": "code",
      "source": [
        "import tensorflow as tf\n",
        "\n",
        "#Definición y clases y funciones\n",
        "class NaiveDense:\n",
        "    def __init__(self, input_size, output_size, activation):\n",
        "        self.activation = activation\n",
        "\n",
        "        w_shape = (input_size, output_size)\n",
        "        w_initial_value = tf.random.uniform(w_shape, minval=0, maxval=1e-1)\n",
        "        self.W = tf.Variable(w_initial_value)\n",
        "\n",
        "        b_shape = (output_size,)\n",
        "        b_initial_value = tf.zeros(b_shape)\n",
        "        self.b = tf.Variable(b_initial_value)\n",
        "\n",
        "    def __call__(self, inputs):\n",
        "        return self.activation(tf.matmul(inputs, self.W) + self.b)\n",
        "\n",
        "    @property\n",
        "    def weights(self):\n",
        "        return [self.W, self.b]\n",
        "\n",
        "\n",
        "class NaiveSequential:\n",
        "    def __init__(self, layers):\n",
        "        self.layers = layers\n",
        "\n",
        "    def __call__(self, inputs):\n",
        "        x = inputs\n",
        "        for layer in self.layers:\n",
        "           x = layer(x)\n",
        "        return x\n",
        "\n",
        "    @property\n",
        "    def weights(self):\n",
        "       weights = []\n",
        "       for layer in self.layers:\n",
        "           weights += layer.weights\n",
        "       return weights\n",
        "\n",
        "\n",
        "class BatchGenerator:\n",
        "    def __init__(self, images, labels, batch_size=128):\n",
        "        assert len(images) == len(labels)\n",
        "        self.index = 0\n",
        "        self.images = images\n",
        "        self.labels = labels\n",
        "        self.batch_size = batch_size\n",
        "        self.num_batches = math.ceil(len(images) / batch_size)\n",
        "\n",
        "    def next(self):\n",
        "        images = self.images[self.index : self.index + self.batch_size]\n",
        "        labels = self.labels[self.index : self.index + self.batch_size]\n",
        "        self.index += self.batch_size\n",
        "        return images, labels\n",
        "\n",
        "\n",
        "def one_training_step(model, images_batch, labels_batch):\n",
        "    with tf.GradientTape() as tape:\n",
        "        # (1) llama a __call__()\n",
        "        predictions = model(images_batch) \n",
        "        # (2)\n",
        "        per_sample_losses = tf.keras.losses.sparse_categorical_crossentropy(\n",
        "            labels_batch, predictions)\n",
        "        # (2) media de elementos a través de las dimensiones del tensor\n",
        "        average_loss = tf.reduce_mean(per_sample_losses)\n",
        "    # (3) Calcula el gradiente del la función de coste/pérdida respecto a los pesos\n",
        "    # del modelo de todas las capas. Los gradientes de salida son una lista\n",
        "    # donde cada entrada corresponde con un peso de la lista model.weights\n",
        "    gradients = tape.gradient(average_loss, model.weights)\n",
        "    # (4) actualiza los pesos (a continuación)\n",
        "    update_weights(gradients, model.weights)\n",
        "    return average_loss\n",
        "\n",
        "\n",
        "def update_weights(gradients, weights):\n",
        "    optimizer.apply_gradients(zip(gradients, weights))\n",
        "\n",
        "\n",
        "def fit(model, images, labels, epochs, batch_size=128):\n",
        "    hloss = list()\n",
        "    for epoch_counter in range(epochs):\n",
        "      print(f\"Epoch {epoch_counter}\")\n",
        "      batch_generator = BatchGenerator(images, labels)\n",
        "      for batch_counter in range(batch_generator.num_batches):\n",
        "          images_batch, labels_batch = batch_generator.next()\n",
        "          loss = one_training_step(model, images_batch, labels_batch)\n",
        "          if batch_counter % 100 == 0:\n",
        "              print(f\"loss at batch {batch_counter}: {loss:.2f}\")\n",
        "              hloss.append(loss)\n",
        "    return hloss\n",
        "\n",
        "\n",
        "from tensorflow.keras.datasets import mnist\n",
        "\n",
        "#Cargar datos\n",
        "(train_images, train_labels), (test_images, test_labels) = mnist.load_data()\n",
        "\n",
        "train_images = train_images.reshape((60000, 28 * 28))\n",
        "train_images = train_images.astype(\"float32\") / 255\n",
        "test_images = test_images.reshape((10000, 28 * 28))\n",
        "test_images = test_images.astype(\"float32\") / 255\n",
        "\n",
        "\n",
        "#Definir modelo\n",
        "model = NaiveSequential([\n",
        "    NaiveDense(input_size=28 * 28, output_size=512, activation=tf.nn.relu),\n",
        "    NaiveDense(input_size=512, output_size=10, activation=tf.nn.softmax)\n",
        "])\n",
        "\n",
        "\n",
        "from tensorflow.keras import optimizers\n",
        "\n",
        "#optimizer = optimizers.SGD(learning_rate=1e-3)\n",
        "optimizer = optimizers.SGD(learning_rate=1e-3)\n",
        "\n",
        "#Ajustar el modelo\n",
        "historicoSGD = fit(model, train_images, train_labels, epochs=10, batch_size=128)\n",
        "\n",
        "#Definir modelo\n",
        "model2 = NaiveSequential([\n",
        "    NaiveDense(input_size=28 * 28, output_size=512, activation=tf.nn.relu),\n",
        "    NaiveDense(input_size=512, output_size=10, activation=tf.nn.softmax)\n",
        "])\n",
        "\n",
        "#optimizer = optimizers.Adam(learning_rate=1e-3)\n",
        "optimizer = optimizers.Adam(learning_rate=1e-3)\n",
        "\n",
        "#Ajustar el modelo\n",
        "historicoAdam = fit(model2, train_images, train_labels, epochs=10, batch_size=128)\n",
        "\n",
        "#Evaluar el modelo\n",
        "import matplotlib.pyplot as plt\n",
        "plt.plot(historicoSGD)\n",
        "plt.plot(historicoAdam,'r')\n",
        "\n",
        "import numpy as np\n",
        "predictions = model(test_images)\n",
        "predictions = predictions.numpy()\n",
        "predicted_labels = predictions.argmax(axis = 1) # CAMBIAR AQUÍ\n",
        "matches = predicted_labels == test_labels\n",
        "print(f\"accuracy: {matches.mean():.2f}\")\n",
        "\n",
        "#para el segundo modelo\n",
        "predictions = model2(test_images)\n",
        "predictions = predictions.numpy()\n",
        "predicted_labels = predictions.argmax(axis = 1) # CAMBIAR AQUÍ\n",
        "matches = predicted_labels == test_labels\n",
        "print(f\"accuracy: {matches.mean():.2f}\")"
      ],
      "metadata": {
        "colab": {
          "base_uri": "https://localhost:8080/",
          "height": 1000
        },
        "id": "v67CU-xy4lyT",
        "outputId": "338b88c0-18d3-4d6c-9d17-b7cf6a47c66a"
      },
      "execution_count": 16,
      "outputs": [
        {
          "output_type": "stream",
          "name": "stdout",
          "text": [
            "Epoch 0\n",
            "loss at batch 0: 3.95\n",
            "loss at batch 100: 2.24\n",
            "loss at batch 200: 2.24\n",
            "loss at batch 300: 2.08\n",
            "loss at batch 400: 2.19\n",
            "Epoch 1\n",
            "loss at batch 0: 1.92\n",
            "loss at batch 100: 1.88\n",
            "loss at batch 200: 1.87\n",
            "loss at batch 300: 1.71\n",
            "loss at batch 400: 1.81\n",
            "Epoch 2\n",
            "loss at batch 0: 1.60\n",
            "loss at batch 100: 1.58\n",
            "loss at batch 200: 1.55\n",
            "loss at batch 300: 1.42\n",
            "loss at batch 400: 1.50\n",
            "Epoch 3\n",
            "loss at batch 0: 1.34\n",
            "loss at batch 100: 1.34\n",
            "loss at batch 200: 1.27\n",
            "loss at batch 300: 1.20\n",
            "loss at batch 400: 1.27\n",
            "Epoch 4\n",
            "loss at batch 0: 1.14\n",
            "loss at batch 100: 1.15\n",
            "loss at batch 200: 1.07\n",
            "loss at batch 300: 1.04\n",
            "loss at batch 400: 1.11\n",
            "Epoch 5\n",
            "loss at batch 0: 1.00\n",
            "loss at batch 100: 1.01\n",
            "loss at batch 200: 0.92\n",
            "loss at batch 300: 0.92\n",
            "loss at batch 400: 0.99\n",
            "Epoch 6\n",
            "loss at batch 0: 0.89\n",
            "loss at batch 100: 0.91\n",
            "loss at batch 200: 0.82\n",
            "loss at batch 300: 0.83\n",
            "loss at batch 400: 0.90\n",
            "Epoch 7\n",
            "loss at batch 0: 0.80\n",
            "loss at batch 100: 0.82\n",
            "loss at batch 200: 0.74\n",
            "loss at batch 300: 0.76\n",
            "loss at batch 400: 0.83\n",
            "Epoch 8\n",
            "loss at batch 0: 0.74\n",
            "loss at batch 100: 0.75\n",
            "loss at batch 200: 0.67\n",
            "loss at batch 300: 0.70\n",
            "loss at batch 400: 0.78\n",
            "Epoch 9\n",
            "loss at batch 0: 0.69\n",
            "loss at batch 100: 0.70\n",
            "loss at batch 200: 0.62\n",
            "loss at batch 300: 0.66\n",
            "loss at batch 400: 0.74\n",
            "Epoch 0\n",
            "loss at batch 0: 4.69\n",
            "loss at batch 100: 0.43\n",
            "loss at batch 200: 0.30\n",
            "loss at batch 300: 0.32\n",
            "loss at batch 400: 0.50\n",
            "Epoch 1\n",
            "loss at batch 0: 0.25\n",
            "loss at batch 100: 0.23\n",
            "loss at batch 200: 0.25\n",
            "loss at batch 300: 0.26\n",
            "loss at batch 400: 0.49\n",
            "Epoch 2\n",
            "loss at batch 0: 0.18\n",
            "loss at batch 100: 0.21\n",
            "loss at batch 200: 0.23\n",
            "loss at batch 300: 0.26\n",
            "loss at batch 400: 0.45\n",
            "Epoch 3\n",
            "loss at batch 0: 0.17\n",
            "loss at batch 100: 0.19\n",
            "loss at batch 200: 0.24\n",
            "loss at batch 300: 0.26\n",
            "loss at batch 400: 0.36\n",
            "Epoch 4\n",
            "loss at batch 0: 0.17\n",
            "loss at batch 100: 0.18\n",
            "loss at batch 200: 0.25\n",
            "loss at batch 300: 0.23\n",
            "loss at batch 400: 0.31\n",
            "Epoch 5\n",
            "loss at batch 0: 0.18\n",
            "loss at batch 100: 0.18\n",
            "loss at batch 200: 0.25\n",
            "loss at batch 300: 0.21\n",
            "loss at batch 400: 0.26\n",
            "Epoch 6\n",
            "loss at batch 0: 0.17\n",
            "loss at batch 100: 0.18\n",
            "loss at batch 200: 0.23\n",
            "loss at batch 300: 0.18\n",
            "loss at batch 400: 0.21\n",
            "Epoch 7\n",
            "loss at batch 0: 0.16\n",
            "loss at batch 100: 0.15\n",
            "loss at batch 200: 0.19\n",
            "loss at batch 300: 0.14\n",
            "loss at batch 400: 0.16\n",
            "Epoch 8\n",
            "loss at batch 0: 0.14\n",
            "loss at batch 100: 0.12\n",
            "loss at batch 200: 0.13\n",
            "loss at batch 300: 0.11\n",
            "loss at batch 400: 0.13\n",
            "Epoch 9\n",
            "loss at batch 0: 0.10\n",
            "loss at batch 100: 0.09\n",
            "loss at batch 200: 0.09\n",
            "loss at batch 300: 0.09\n",
            "loss at batch 400: 0.12\n",
            "accuracy: 0.81\n",
            "accuracy: 0.96\n"
          ]
        },
        {
          "output_type": "display_data",
          "data": {
            "text/plain": [
              "<Figure size 432x288 with 1 Axes>"
            ],
            "image/png": "[encoded data removed]"
          },
          "metadata": {
            "needs_background": "light"
          }
        }
      ]
    }
  ]
}