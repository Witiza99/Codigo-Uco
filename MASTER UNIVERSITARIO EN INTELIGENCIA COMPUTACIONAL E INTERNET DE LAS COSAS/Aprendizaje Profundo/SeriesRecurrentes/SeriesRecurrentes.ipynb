{
  "cells": [
    {
      "cell_type": "markdown",
      "metadata": {
        "id": "WMucfLUS1yhH"
      },
      "source": [
        "## ¿Qué es esto?\n",
        "\n",
        "Este cuaderno de Jupyter contiene código Python para construir una red recurrente LSTM  que proporciona alrededor de un 87-88% de precisión en el dataset *IMDB Movie Review Sentiment Analysis Dataset*. \n",
        "\n",
        "Para más información podéis consultar este [enlace](https://www.bouvet.no/bouvet-deler/explaining-recurrent-neural-networks)."
      ]
    },
    {
      "cell_type": "markdown",
      "metadata": {
        "id": "wFUKGe4x3ala"
      },
      "source": [
        "## Pensado para Google Collaboratory\n",
        "\n",
        "El código está preparado para funcionar en Google Collab. Si queréis ejecutarlo de forma local, tendréis que configurar todos los elementos (Cuda, Tensorflow...).\n",
        "\n",
        "En Google Collab, para conseguir que la red se entrene más rápido deberíamos usar la GPU. En el menú **Entorno de ejecución** elige **Cambiar tipo de entorno de ejecución** y selecciona \"GPU\".\n",
        "\n",
        "No olvides hacer los cambios efectivos pulsando sobre **Reiniciar entorno de ejecución**.\n"
      ]
    },
    {
      "cell_type": "markdown",
      "metadata": {
        "id": "WP1VrbVp3sVu"
      },
      "source": [
        "## Preparándolo todo\n",
        "\n",
        "Al ejecutar este código, puede ser que recibas un *warning* pidiéndote que reinicies el *Entorno de ejecución*. Puedes ignorarlo o reiniciarlo con \"Entorno de ejecución -> Reiniciar entorno de ejecución\" si encuentras algún tipo de problema."
      ]
    },
    {
      "cell_type": "code",
      "execution_count": 15,
      "metadata": {
        "id": "2e3txwbh3q76"
      },
      "outputs": [],
      "source": [
        "# Todos los import necesarios\n",
        "import tensorflow as tf \n",
        "import numpy as np\n",
        "from tensorflow.keras.preprocessing import sequence\n",
        "from numpy import array\n",
        "\n",
        "# Suprimir los warning de tensorflow\n",
        "import logging\n",
        "logging.getLogger('tensorflow').disabled = True\n",
        "\n",
        "# Obtener los datos de \"IMDB Movie Review\", limitando las revisiones\n",
        "# a las 10000 palabras más comunes\n",
        "vocab_size = 10000\n",
        "(x_train, y_train), (x_test, y_test) = tf.keras.datasets.imdb.load_data(num_words=vocab_size)\n",
        "\n",
        "# Maping de las etiquetas\n",
        "class_names = [\"Negative\", \"Positive\"]"
      ]
    },
    {
      "cell_type": "markdown",
      "metadata": {
        "id": "hdyHL8FF0JJy"
      },
      "source": [
        "## Crear un mapeo que nos permita convertir el dataset IMDB a revisiones que podamos leer\n",
        "\n",
        "Las revisiones en el dataset IMDB están codificadas como una secuencia de enteros. Afortunadamente, el dataset también contiene un índice que nos permite volver a una representación tipo texto."
      ]
    },
    {
      "cell_type": "code",
      "execution_count": 16,
      "metadata": {
        "id": "E05AweFu0Imt"
      },
      "outputs": [],
      "source": [
        "# Obtener el índice de palabras del dataset\n",
        "word_index = tf.keras.datasets.imdb.get_word_index()\n",
        "\n",
        "# Asegurarnos de que las palabras \"especiales\" pueden leerse correctamente \n",
        "word_index = {k:(v+3) for k,v in word_index.items()}\n",
        "word_index[\"<PAD>\"] = 0\n",
        "word_index[\"<START>\"] = 1\n",
        "word_index[\"<UNKNOWN>\"] = 2\n",
        "word_index[\"<UNUSED>\"] = 3\n",
        "\n",
        "# Buscar las palabras en el índice y hacer una función que decodifique cada review\n",
        "# Si la palabra no está devolverá '?'\n",
        "reverse_word_index = dict([(value, key) for (key, value) in word_index.items()])\n",
        "def decode_review(text):\n",
        "    return ' '.join([reverse_word_index.get(i, '?') for i in text])"
      ]
    },
    {
      "cell_type": "markdown",
      "metadata": {
        "id": "fFXK-g6G81sC"
      },
      "source": [
        "## Echemos un vistazo a los datos\n",
        "\n",
        "Ahora vamos a ver más de cerca los datos. ¿Cuántas palabras contienen nuestras reviews?\n",
        "\n",
        "¿Qué aspecto tiene una review codificada y decodificada?\n"
      ]
    },
    {
      "cell_type": "code",
      "execution_count": 17,
      "metadata": {
        "id": "yD1qHVBn81Y_",
        "colab": {
          "base_uri": "https://localhost:8080/"
        },
        "outputId": "3d49c481-feaf-4c07-ab30-009e9c684f23"
      },
      "outputs": [
        {
          "output_type": "stream",
          "name": "stdout",
          "text": [
            "Máxima longitud de una revisión: 2494\n",
            "Mínima longitud de una revisión: 7\n",
            "Longitud media de las revisiones: 234.75892\n",
            "\n",
            "Revisión en modo máquina (codificada)\n",
            "  Código de la revisión: [1, 13, 219, 14, 33, 4, 2, 22, 1413, 12, 16, 373, 175, 2711, 1115, 1026, 430, 939, 16, 23, 2444, 25, 43, 697, 89, 12, 16, 170, 8, 130, 262, 19, 32, 4, 665, 7, 4, 2, 322, 5, 4, 1520, 7, 4, 86, 250, 10, 10, 4, 249, 173, 16, 4, 3891, 6, 19, 4, 167, 564, 5, 564, 1325, 36, 805, 8, 216, 638, 17, 2, 21, 25, 100, 376, 507, 4, 2110, 15, 79, 125, 23, 567, 13, 2134, 233, 36, 4852, 2, 5, 81, 1672, 10, 10, 92, 437, 129, 58, 13, 69, 8, 401, 61, 1432, 39, 1286, 46, 7, 12]\n",
            "  Sentimiento: 0\n",
            "\n",
            "Revisión en modo texto\n",
            "  Texto de la revisión: <START> i saw this at the <UNKNOWN> film festival it was awful every clichéd violent rich boy fantasy was on display you just knew how it was going to end especially with all the shots of the <UNKNOWN> wife and the rape of the first girl br br the worst part was the q a with the director writer and writer producer they tried to come across as <UNKNOWN> but you could tell they're the types that get off on violence i bet anything they frequent <UNKNOWN> and do drugs br br don't waste your time i had to keep my boyfriend from walking out of it\n",
            "  Sentimiento: Negative\n"
          ]
        }
      ],
      "source": [
        "# Concatenar los datasets de entrenamiento y de test\n",
        "allreviews = np.concatenate((x_train, x_test), axis=0)\n",
        "\n",
        "# Longitud de las revisiones a largo de los dos conjuntos\n",
        "result = [len(x) for x in allreviews]\n",
        "print(\"Máxima longitud de una revisión: {}\".format(np.max(result)))\n",
        "print(\"Mínima longitud de una revisión: {}\".format(np.min(result)))\n",
        "print(\"Longitud media de las revisiones: {}\".format(np.mean(result)))\n",
        "\n",
        "# Imprimir una revisión concreta y su etiqueta.\n",
        "# Reemplaza el número si quieres ver otra.\n",
        "review_to_print=60\n",
        "print(\"\")\n",
        "print(\"Revisión en modo máquina (codificada)\")\n",
        "print(\"  Código de la revisión: \" + str(x_train[review_to_print]))\n",
        "print(\"  Sentimiento: \" + str(y_train[review_to_print]))\n",
        "print(\"\")\n",
        "print(\"Revisión en modo texto\")\n",
        "print(\"  Texto de la revisión: \" + decode_review(x_train[review_to_print]))\n",
        "print(\"  Sentimiento: \" + class_names[y_train[review_to_print]])\n"
      ]
    },
    {
      "cell_type": "markdown",
      "metadata": {
        "id": "mF-Votm66zD5"
      },
      "source": [
        "## Pre-procesando los datos\n",
        "\n",
        "Tenemos que asegurarnos de que nuestras revisiones tienen siempre la misma\n",
        "longitud, ya que se necesita para establecer los parámetros de la LSTM.\n",
        "\n",
        "Para algunas revisiones tendremos que truncar algunas palabras, mientras que para otras habrá que establecer palabras de relleno (`padding`)."
      ]
    },
    {
      "cell_type": "code",
      "execution_count": 18,
      "metadata": {
        "id": "uNtJTLJA6gaT",
        "colab": {
          "base_uri": "https://localhost:8080/"
        },
        "outputId": "2ab2e44d-6a18-4637-9461-d42ef3d119f6"
      },
      "outputs": [
        {
          "output_type": "stream",
          "name": "stdout",
          "text": [
            "Shape de los datos de entrenamiento: (25000, 700)\n",
            "Shape de la etiqueta de entrenamiento (25000,)\n",
            "Shape de los datos de test: (25000, 700)\n",
            "Shape de la etiqueta de test: (25000,)\n",
            "\n",
            "Texto de la revisión (post padding): <PAD> <PAD> <PAD> <PAD> <PAD> <PAD> <PAD> <PAD> <PAD> <PAD> <PAD> <PAD> <PAD> <PAD> <PAD> <PAD> <PAD> <PAD> <PAD> <PAD> <PAD> <PAD> <PAD> <PAD> <PAD> <PAD> <PAD> <PAD> <PAD> <PAD> <PAD> <PAD> <PAD> <PAD> <PAD> <PAD> <PAD> <PAD> <PAD> <PAD> <PAD> <PAD> <PAD> <PAD> <PAD> <PAD> <PAD> <PAD> <PAD> <PAD> <PAD> <PAD> <PAD> <PAD> <PAD> <PAD> <PAD> <PAD> <PAD> <PAD> <PAD> <PAD> <PAD> <PAD> <PAD> <PAD> <PAD> <PAD> <PAD> <PAD> <PAD> <PAD> <PAD> <PAD> <PAD> <PAD> <PAD> <PAD> <PAD> <PAD> <PAD> <PAD> <PAD> <PAD> <PAD> <PAD> <PAD> <PAD> <PAD> <PAD> <PAD> <PAD> <PAD> <PAD> <PAD> <PAD> <PAD> <PAD> <PAD> <PAD> <PAD> <PAD> <PAD> <PAD> <PAD> <PAD> <PAD> <PAD> <PAD> <PAD> <PAD> <PAD> <PAD> <PAD> <PAD> <PAD> <PAD> <PAD> <PAD> <PAD> <PAD> <PAD> <PAD> <PAD> <PAD> <PAD> <PAD> <PAD> <PAD> <PAD> <PAD> <PAD> <PAD> <PAD> <PAD> <PAD> <PAD> <PAD> <PAD> <PAD> <PAD> <PAD> <PAD> <PAD> <PAD> <PAD> <PAD> <PAD> <PAD> <PAD> <PAD> <PAD> <PAD> <PAD> <PAD> <PAD> <PAD> <PAD> <PAD> <PAD> <PAD> <PAD> <PAD> <PAD> <PAD> <PAD> <PAD> <PAD> <PAD> <PAD> <PAD> <PAD> <PAD> <PAD> <PAD> <PAD> <PAD> <PAD> <PAD> <PAD> <PAD> <PAD> <PAD> <PAD> <PAD> <PAD> <PAD> <PAD> <PAD> <PAD> <PAD> <PAD> <PAD> <PAD> <PAD> <PAD> <PAD> <PAD> <PAD> <PAD> <PAD> <PAD> <PAD> <PAD> <PAD> <PAD> <PAD> <PAD> <PAD> <PAD> <PAD> <PAD> <PAD> <PAD> <PAD> <PAD> <PAD> <PAD> <PAD> <PAD> <PAD> <PAD> <PAD> <PAD> <PAD> <PAD> <PAD> <PAD> <PAD> <PAD> <PAD> <PAD> <PAD> <PAD> <PAD> <PAD> <PAD> <PAD> <PAD> <PAD> <PAD> <PAD> <PAD> <PAD> <PAD> <PAD> <PAD> <PAD> <PAD> <PAD> <PAD> <PAD> <PAD> <PAD> <PAD> <PAD> <PAD> <PAD> <PAD> <PAD> <PAD> <PAD> <PAD> <PAD> <PAD> <PAD> <PAD> <PAD> <PAD> <PAD> <PAD> <PAD> <PAD> <PAD> <PAD> <PAD> <PAD> <PAD> <PAD> <PAD> <PAD> <PAD> <PAD> <PAD> <PAD> <PAD> <PAD> <PAD> <PAD> <PAD> <PAD> <PAD> <PAD> <PAD> <PAD> <PAD> <PAD> <PAD> <PAD> <PAD> <PAD> <PAD> <PAD> <PAD> <PAD> <PAD> <PAD> <PAD> <PAD> <PAD> <PAD> <PAD> <PAD> <PAD> <PAD> <PAD> <PAD> <PAD> <PAD> <PAD> <PAD> <PAD> <PAD> <PAD> <PAD> <PAD> <PAD> <PAD> <PAD> <PAD> <PAD> <PAD> <PAD> <PAD> <PAD> <PAD> <PAD> <PAD> <PAD> <PAD> <PAD> <PAD> <PAD> <PAD> <PAD> <PAD> <PAD> <PAD> <PAD> <PAD> <PAD> <PAD> <PAD> <PAD> <PAD> <PAD> <PAD> <PAD> <PAD> <PAD> <PAD> <PAD> <PAD> <PAD> <PAD> <PAD> <PAD> <PAD> <PAD> <PAD> <PAD> <PAD> <PAD> <PAD> <PAD> <PAD> <PAD> <PAD> <PAD> <PAD> <PAD> <PAD> <PAD> <PAD> <PAD> <PAD> <PAD> <PAD> <PAD> <PAD> <PAD> <PAD> <PAD> <PAD> <PAD> <PAD> <PAD> <PAD> <PAD> <PAD> <PAD> <PAD> <PAD> <PAD> <PAD> <PAD> <PAD> <PAD> <PAD> <PAD> <PAD> <PAD> <PAD> <PAD> <PAD> <PAD> <PAD> <PAD> <PAD> <PAD> <PAD> <PAD> <PAD> <PAD> <PAD> <PAD> <PAD> <PAD> <PAD> <PAD> <PAD> <PAD> <PAD> <PAD> <PAD> <PAD> <PAD> <PAD> <PAD> <PAD> <PAD> <PAD> <PAD> <PAD> <PAD> <PAD> <PAD> <PAD> <PAD> <PAD> <PAD> <PAD> <PAD> <PAD> <PAD> <PAD> <PAD> <PAD> <PAD> <PAD> <PAD> <PAD> <PAD> <PAD> <PAD> <PAD> <PAD> <PAD> <PAD> <PAD> <PAD> <PAD> <PAD> <PAD> <PAD> <PAD> <PAD> <PAD> <PAD> <PAD> <PAD> <PAD> <PAD> <PAD> <PAD> <PAD> <PAD> <PAD> <PAD> <PAD> <PAD> <PAD> <PAD> <PAD> <PAD> <PAD> <PAD> <PAD> <PAD> <PAD> <PAD> <PAD> <PAD> <PAD> <PAD> <PAD> <PAD> <PAD> <PAD> <PAD> <PAD> <PAD> <PAD> <PAD> <PAD> <PAD> <PAD> <PAD> <PAD> <PAD> <PAD> <PAD> <PAD> <PAD> <PAD> <PAD> <PAD> <PAD> <PAD> <PAD> <PAD> <PAD> <PAD> <PAD> <PAD> <PAD> <PAD> <PAD> <PAD> <PAD> <PAD> <PAD> <PAD> <PAD> <PAD> <PAD> <PAD> <PAD> <PAD> <PAD> <PAD> <PAD> <PAD> <PAD> <PAD> <PAD> <PAD> <PAD> <PAD> <PAD> <PAD> <PAD> <PAD> <PAD> <PAD> <PAD> <PAD> <PAD> <PAD> <PAD> <PAD> <PAD> <PAD> <PAD> <PAD> <PAD> <PAD> <PAD> <PAD> <PAD> <PAD> <PAD> <PAD> <PAD> <PAD> <PAD> <PAD> <PAD> <PAD> <PAD> <PAD> <PAD> <PAD> <START> i saw this at the <UNKNOWN> film festival it was awful every clichéd violent rich boy fantasy was on display you just knew how it was going to end especially with all the shots of the <UNKNOWN> wife and the rape of the first girl br br the worst part was the q a with the director writer and writer producer they tried to come across as <UNKNOWN> but you could tell they're the types that get off on violence i bet anything they frequent <UNKNOWN> and do drugs br br don't waste your time i had to keep my boyfriend from walking out of it\n"
          ]
        }
      ],
      "source": [
        "# Longitud a la que vamos a dejar la ventana\n",
        "review_length = 700\n",
        "\n",
        "# Truncar o rellenar los conjuntos\n",
        "x_train = sequence.pad_sequences(x_train, maxlen = review_length)\n",
        "x_test = sequence.pad_sequences(x_test, maxlen = review_length)\n",
        "\n",
        "# Comprobamos el tamaño de los conjuntos. Revisaremos los datos de entrenamiento\n",
        "# y de test, comprobando que las 25000 revisiones tienen 500 enteros.\n",
        "# Las etiquetas de clase deberían ser 25000, con valores de 0 o 1\n",
        "print(\"Shape de los datos de entrenamiento: \" + str(x_train.shape))\n",
        "print(\"Shape de la etiqueta de entrenamiento \" + str(y_train.shape))\n",
        "print(\"Shape de los datos de test: \" + str(x_test.shape))\n",
        "print(\"Shape de la etiqueta de test: \" + str(y_test.shape))\n",
        "\n",
        "# Note padding is added to start of review, not the end\n",
        "print(\"\")\n",
        "print(\"Texto de la revisión (post padding): \" + decode_review(x_train[60]))"
      ]
    },
    {
      "cell_type": "markdown",
      "metadata": {
        "id": "BfOdV_VCCFee"
      },
      "source": [
        "## Crear y construir una red LSTM recurrente"
      ]
    },
    {
      "cell_type": "code",
      "execution_count": 19,
      "metadata": {
        "id": "8nmO8M4aCKwT",
        "colab": {
          "base_uri": "https://localhost:8080/"
        },
        "outputId": "187c964a-c06f-4250-e17a-782fe895d880"
      },
      "outputs": [
        {
          "output_type": "stream",
          "name": "stdout",
          "text": [
            "Model: \"sequential_2\"\n",
            "_________________________________________________________________\n",
            " Layer (type)                Output Shape              Param #   \n",
            "=================================================================\n",
            " embedding_2 (Embedding)     (None, 700, 32)           320000    \n",
            "                                                                 \n",
            " dropout_4 (Dropout)         (None, 700, 32)           0         \n",
            "                                                                 \n",
            " lstm_1 (LSTM)               (None, 64)                24832     \n",
            "                                                                 \n",
            " dropout_5 (Dropout)         (None, 64)                0         \n",
            "                                                                 \n",
            " dense_2 (Dense)             (None, 1)                 65        \n",
            "                                                                 \n",
            "=================================================================\n",
            "Total params: 344,897\n",
            "Trainable params: 344,897\n",
            "Non-trainable params: 0\n",
            "_________________________________________________________________\n"
          ]
        }
      ],
      "source": [
        "# Empezamos definiendo una pila vacía. Usaremos esta pila para ir construyendo\n",
        "# la red, capa por capa\n",
        "model = tf.keras.models.Sequential()\n",
        "\n",
        "# La capa de tipo Embedding proporciona un mapeo (también llamado Word Embedding)\n",
        "# para todas las palabras de nuestro conjunto de entrenamiento. En este embedding,\n",
        "# las palabras que están cerca unas de otras comparten información de contexto \n",
        "# y/o de significado. Esta transformación es aprendida durante el entrenamiento\n",
        "model.add(\n",
        "    tf.keras.layers.Embedding(\n",
        "        input_dim = vocab_size, # Tamaño del vocabulario\n",
        "        output_dim = 32, # Dimensionalidad del embedding\n",
        "        input_length = review_length # Longitud de las secuencias de entrada\n",
        "    )\n",
        ")\n",
        "\n",
        "# Las capas de tipo Dropout combaten el sobre aprendizaje y fuerzan a que el \n",
        "# modelo aprenda múltiples representaciones de los mismos datos, ya que pone a \n",
        "# cero de forma aleatoria algunas de las neuronas durante la fase de \n",
        "# entrenamiento\n",
        "model.add(\n",
        "    tf.keras.layers.Dropout(\n",
        "        rate=0.25 # Poner a cero aleatoriamente un 25% de las neuronas\n",
        "    )\n",
        ")\n",
        "\n",
        "# Aquí es donde viene realmente la capa LSTM. Esta capa va a mirar cada \n",
        "# secuencia de palabras de la revisión junto con sus embeddings y utilizará \n",
        "# ambos elementos para determinar el sentimiento de la revisión\n",
        "model.add(\n",
        "    tf.keras.layers.LSTM(\n",
        "        units=64 # La capa va a tener 32 neuronas de tipo LSTM\n",
        "    )\n",
        ")\n",
        "\n",
        "# Añadir una segunda capa Dropout con el mismo objetivo que la primera\n",
        "model.add(\n",
        "    tf.keras.layers.Dropout(\n",
        "        rate=0.30 # Poner a cero aleatoriamente un 25% de las neuronas\n",
        "    )\n",
        ")\n",
        "\n",
        "# Todas las neuronas LSTM se conectan a un solo nodo en la capa densa. La \n",
        "# función sigmoide determina la salida de este nodo, con un valor entre 0 y 1.\n",
        "# Cuanto más cercano sea a 1, más positiva es la revisión\n",
        "model.add(\n",
        "    tf.keras.layers.Dense(\n",
        "        units=1, # Una única salida\n",
        "        activation='sigmoid' # Función de activación sigmoide\n",
        "    )\n",
        ")\n",
        "\n",
        "# Compilar el modelo\n",
        "model.compile(\n",
        "    loss=tf.keras.losses.binary_crossentropy, # Entropía cruzada\n",
        "    optimizer=tf.keras.optimizers.Adam(), # Optimizador Adam\n",
        "    metrics=['accuracy']) # Métrica de los informes\n",
        "\n",
        "# Mostrar un resumen de la estructura del modelo\n",
        "model.summary()"
      ]
    },
    {
      "cell_type": "markdown",
      "metadata": {
        "id": "8Xx1Q2I8WNI9"
      },
      "source": [
        "## Visualizar el modelo"
      ]
    },
    {
      "cell_type": "code",
      "execution_count": 20,
      "metadata": {
        "id": "cz0Erj2WU3Vh",
        "colab": {
          "base_uri": "https://localhost:8080/",
          "height": 644
        },
        "outputId": "8a468712-6c5d-4cf0-ede0-033571f8dfa8"
      },
      "outputs": [
        {
          "output_type": "execute_result",
          "data": {
            "image/png": "[encoded data removed]",
            "text/plain": [
              "<IPython.core.display.Image object>"
            ]
          },
          "metadata": {},
          "execution_count": 20
        }
      ],
      "source": [
        "tf.keras.utils.plot_model(model, to_file='model.png', show_shapes=True, show_layer_names=False)"
      ]
    },
    {
      "cell_type": "markdown",
      "metadata": {
        "id": "5KdfAoHsGwzo"
      },
      "source": [
        "## Entrenar la LSTM"
      ]
    },
    {
      "cell_type": "code",
      "execution_count": 21,
      "metadata": {
        "colab": {
          "base_uri": "https://localhost:8080/"
        },
        "id": "rEN1vV4nG1V3",
        "outputId": "fecdb653-48e5-4adb-f78b-14651f916a42"
      },
      "outputs": [
        {
          "output_type": "stream",
          "name": "stdout",
          "text": [
            "Epoch 1/5\n",
            "137/137 [==============================] - 126s 901ms/step - loss: 0.5441 - accuracy: 0.7155 - val_loss: 0.3688 - val_accuracy: 0.8439\n",
            "Epoch 2/5\n",
            "137/137 [==============================] - 122s 889ms/step - loss: 0.3099 - accuracy: 0.8765 - val_loss: 0.3184 - val_accuracy: 0.8671\n",
            "Epoch 3/5\n",
            "137/137 [==============================] - 120s 878ms/step - loss: 0.2349 - accuracy: 0.9122 - val_loss: 0.3320 - val_accuracy: 0.8689\n",
            "Epoch 4/5\n",
            "137/137 [==============================] - 120s 874ms/step - loss: 0.1692 - accuracy: 0.9397 - val_loss: 0.3184 - val_accuracy: 0.8695\n",
            "Epoch 5/5\n",
            "137/137 [==============================] - 121s 886ms/step - loss: 0.1395 - accuracy: 0.9522 - val_loss: 0.3251 - val_accuracy: 0.8753\n"
          ]
        }
      ],
      "source": [
        "# Entrenar la LSTM en los datos de entrenamiento\n",
        "history = model.fit(\n",
        "\n",
        "    # Datos de entrenamiento : características (revisiones) y clases (positivas o negativas)\n",
        "    x_train, y_train,\n",
        "                    \n",
        "    # Número de ejemplos a examinar antes de actualizar los pesos en el \n",
        "    # backpropagation. Cuanto más grande sea el tamaño de batch, más memoria\n",
        "    # necesitaremos\n",
        "    batch_size=128, \n",
        "\n",
        "    # Una época hace tantos batches como sea necesario para agotar el conjunto\n",
        "    # de entrenamiento\n",
        "    epochs=5, \n",
        "    \n",
        "    # Esta fracción de los datos será usada como conjunto de validación, con \n",
        "    # vistas a detener el algoritmo si se está produciendo sobre aprendizaje\n",
        "    validation_split=0.30,\n",
        "    \n",
        "    verbose=1\n",
        ") "
      ]
    },
    {
      "cell_type": "markdown",
      "metadata": {
        "id": "rpCS2-jFH1KY"
      },
      "source": [
        "## Evaluar el modelo con los datos de test y ver el resultado"
      ]
    },
    {
      "cell_type": "code",
      "execution_count": 22,
      "metadata": {
        "colab": {
          "base_uri": "https://localhost:8080/"
        },
        "id": "nPnfxwbnITqV",
        "outputId": "116754da-ad01-48d5-d0cc-5e0ddbf7a6c5"
      },
      "outputs": [
        {
          "output_type": "stream",
          "name": "stdout",
          "text": [
            "782/782 [==============================] - 82s 104ms/step\n",
            "              precision    recall  f1-score   support\n",
            "\n",
            "    Negative       0.87      0.86      0.87     12500\n",
            "    Positive       0.86      0.87      0.87     12500\n",
            "\n",
            "    accuracy                           0.87     25000\n",
            "   macro avg       0.87      0.87      0.87     25000\n",
            "weighted avg       0.87      0.87      0.87     25000\n",
            "\n"
          ]
        },
        {
          "output_type": "execute_result",
          "data": {
            "text/plain": [
              "<tf.Tensor: shape=(2, 2), dtype=int32, numpy=\n",
              "array([[10802,  1698],\n",
              "       [ 1670, 10830]], dtype=int32)>"
            ]
          },
          "metadata": {},
          "execution_count": 22
        }
      ],
      "source": [
        "# Obtener las predicciones para los datos de test\n",
        "from sklearn.metrics import classification_report\n",
        "predicted_probabilities = model.predict(x_test)\n",
        "predicted_classes = predicted_probabilities  > 0.5\n",
        "print(classification_report(y_test, predicted_classes, target_names=class_names))\n",
        "tf.math.confusion_matrix(y_test, predicted_classes)"
      ]
    },
    {
      "cell_type": "markdown",
      "metadata": {
        "id": "CkfHCIVHrJni"
      },
      "source": [
        "## Ver algunas predicciones incorrectas\n",
        "\n",
        "Vamos a echar un vistazo a algunas de las revisiones incorrectamente clasificadas. Eliminaremos el `padding`.\n",
        "\n"
      ]
    },
    {
      "cell_type": "code",
      "execution_count": 23,
      "metadata": {
        "colab": {
          "base_uri": "https://localhost:8080/"
        },
        "id": "bwKLBwBbp7zg",
        "outputId": "28aa5a07-ff63-4665-88e7-e3b555311ad8"
      },
      "outputs": [
        {
          "output_type": "stream",
          "name": "stdout",
          "text": [
            "Revisión de test incorrectamente clasificada [1]\n",
            "Revisión de test #8: Predicho [Positive] Objetivo [Negative]\n",
            "Texto de la revisión: <START> hollywood had a long love affair with bogus <UNKNOWN> nights tales but few of these products have stood the test of time the most memorable were the jon hall maria <UNKNOWN> films which have long since become camp this one is filled with dubbed songs <UNKNOWN> <UNKNOWN> and slapstick it's a truly crop of corn and pretty near <UNKNOWN> today it was nominated for its imaginative special effects which are almost <UNKNOWN> in this day and age <UNKNOWN> mainly of trick photography the only outstanding positive feature which survives is its beautiful color and clarity sad to say of the many films made in this genre few of them come up to alexander <UNKNOWN> original thief of <UNKNOWN> almost any other <UNKNOWN> nights film is superior to this one though it's a loser\n",
            "\n",
            "Revisión de test incorrectamente clasificada [2]\n",
            "Revisión de test #17: Predicho [Positive] Objetivo [Negative]\n",
            "Texto de la revisión: <START> ed <UNKNOWN> mitchell is a teenager who lives for his job at good <UNKNOWN> a small but friendly neighborhood <UNKNOWN> stand while his buddy <UNKNOWN> thompson also works there but lack <UNKNOWN> single minded devotion to his job he's there because he accidentally destroyed the car of his teacher mr <UNKNOWN> <UNKNOWN> and has to raise money to pay the <UNKNOWN> when <UNKNOWN> <UNKNOWN> a <UNKNOWN> fast foot chain opens across the street it looks like good <UNKNOWN> is history until ed <UNKNOWN> a secret <UNKNOWN> that brings hundreds of new customers to their door however the <UNKNOWN> manager of <UNKNOWN> <UNKNOWN> kurt jan is determined to get his hands on the <UNKNOWN> and put good <UNKNOWN> out of business meanwhile ed and <UNKNOWN> must rescue <UNKNOWN> <UNKNOWN> <UNKNOWN> the world's oldest fast food employee from the demented hills asylum and ed might just find love with <UNKNOWN> jackson if he could take his mind off the <UNKNOWN> long enough to pay attention to her good <UNKNOWN> is a comedy directed for kids decent story acting and overall a pretty harmless kids movie\n",
            "\n",
            "Revisión de test incorrectamente clasificada [3]\n",
            "Revisión de test #22: Predicho [Negative] Objetivo [Positive]\n",
            "Texto de la revisión: <START> how managed to avoid attention remains a mystery a potent mix of comedy and crime this one takes chances where tarantino plays it safe with the hollywood formula the risks don't always pay off one character in one sequence comes off <UNKNOWN> silly and falls flat in the lead role thomas jane gives a wonderful and complex performance and two brief appearances by mickey rourke hint at the high potential of this much under and <UNKNOWN> used actor here's a director one should keep one's eye on\n",
            "\n",
            "Revisión de test incorrectamente clasificada [4]\n",
            "Revisión de test #45: Predicho [Negative] Objetivo [Positive]\n",
            "Texto de la revisión: <START> the above profile was written by me when i used the nick of which is still my email address i still believe andy <UNKNOWN> character of <UNKNOWN> is the best twilight episodes ever and i watch this episode at least once a year as i consider to be a fortunate man as he has many friends who love him <UNKNOWN> br br in case many of you are too young to remember i'm <UNKNOWN> andy <UNKNOWN> <UNKNOWN> a children's entertainment show in the 50's i believe called <UNKNOWN> gang on it he had three <UNKNOWN> a cat named midnight who played the <UNKNOWN> a mouse named <UNKNOWN> who played an a hand <UNKNOWN> and a <UNKNOWN> <UNKNOWN> named who's could appear and disappear at will embarrassing many of <UNKNOWN> funny guest stars like billy gilbert\n",
            "\n",
            "Revisión de test incorrectamente clasificada [5]\n",
            "Revisión de test #55: Predicho [Negative] Objetivo [Positive]\n",
            "Texto de la revisión: <START> this is a special film if you know the context antonioni in his eighties had been crippled by a stroke mute and half <UNKNOWN> his friends who incidentally are the best the film world has arranged for him to a last significant film the idea is that he can <UNKNOWN> a story into being by just looking at it so we have a film about a director who <UNKNOWN> stories by simple observation and the matter of the four stories is about how the visual imagination <UNKNOWN> love br br the film emerges by giving us the tools to bring it into being through our own imagination the result is pure movie world every person except the director is lovely in aspect or movement some of these women are and they exist in a dreamy misty world of sensual encounter there is no nuance no hint that anything exists but what we see no desire is at work other than what we create br br i know of no other film that so successfully <UNKNOWN> our own visual yearning to have us create the world we see he understands something about not touching no one understands van <UNKNOWN> visually like he does <UNKNOWN> <UNKNOWN> space music is <UNKNOWN> on precisely the same notion the sensual touch that implies but doesn't physically touch br br <UNKNOWN> <UNKNOWN> wife appears appropriately as the <UNKNOWN> and she also directs a lackluster <UNKNOWN> <UNKNOWN> film that is on the dvd br br ted's <UNKNOWN> 3 of 4 worth watching\n",
            "\n",
            "Revisión de test incorrectamente clasificada [6]\n",
            "Revisión de test #56: Predicho [Negative] Objetivo [Positive]\n",
            "Texto de la revisión: <START> i was very disappointed when this show was canceled although i can not vote i live on the island of i sat down to see the show on <UNKNOWN> and was very surprised that it didn't aired the next day i read on the internet that it was canceled br br it's true not every one was as much talented as the other but there were very talented people singing br br i find it very sad for them br br that they worked so hard and there dreams came <UNKNOWN> down br br its a pity br br\n",
            "\n",
            "Revisión de test incorrectamente clasificada [7]\n",
            "Revisión de test #66: Predicho [Positive] Objetivo [Negative]\n",
            "Texto de la revisión: getting out there and making a film br br but the movie itself let me tell you a story br br found this dvd in my local rental shop yesterday and had vague <UNKNOWN> of the reviews at the time of cinema release here so i thought i would give it a go br br for some reason i decided to watch the <UNKNOWN> <UNKNOWN> before i watched the actual movie not something that i usually do turned the <UNKNOWN> <UNKNOWN> off halfway through as i'd had enough cringing at the <UNKNOWN> we so wonderful for putting together such a hard hitting film with such a raw <UNKNOWN> attitude br br the movie ugh full of clichés and pathetic character development the actors well done guys you are <UNKNOWN> and i applaud you and just like a team is only as good as the coach that directs them you unfortunately did not have a great script to work with br br i felt that the movie actually so many of the subjects that it seemed to want to cover i have seen many reviews here that refer to it as nothing more than a soap agreed br br finally and forgive me if i don't phrase this correctly i was extremely disappointed that there were no optimistic overtones at all yes we all know that life is full of hard stuff and yes we know that things such as incest do occur but i really find it hard to applaud a movie that has not one piece of joy in it i believe that a director has a responsibility to put it in there somewhere otherwise the movie is all about them and their feelings they have created it for themselves not for an audience br br which i think is the basis of why this movie isn't so great the special features mention that the director wrote the screenplay in a <UNKNOWN> hour sitting the day after he himself tried to end his own life well it may have been <UNKNOWN> for him to do this however the movie <UNKNOWN> of self <UNKNOWN> when you know the story behind why it was written i feel horrid i'm going to write a movie about feeling horrid note i have read the interview with andrew urban and understand why needed to write something to help him through his own issues but i believe there is a line in film that cannot be crossed the line of making a movie purely for your own emotional needs and i feel that this is what has unintentionally happened here br br by his own admission the director had no technical experience at all and sadly this makes the movie come off looking like nothing more than a year twelve media project br br as for any <UNKNOWN> that this movie should be studied at school or that all teenagers should watch it not sure there either because there is a very dangerous line at the end i too have been in a place where i have thought that someone who no longer has to <UNKNOWN> <UNKNOWN> is <UNKNOWN> but as an adult i do worry that this line could be influential on a young viewer that was in a vulnerable frame of mind might be in there to promote discussion but again it reflects no possibility of redemption or joy in this story as a whole in fact it almost <UNKNOWN> that there is more sadness to come br br i haven't seen elephant but i just might go find it given all the comparisons here br br nothing personal here guys i do hope you can make another movie someday and we all have to start out somewhere so forgive me if i've been too harsh i am glad that you are proud of what you created which in the end is what life is all about it's not a movie i would recommend though br br oh i did like the way the time frames often <UNKNOWN> thought that was an interesting way to film br br but the whole its the quiet ones you have to watch we already know that\n",
            "\n",
            "Revisión de test incorrectamente clasificada [8]\n",
            "Revisión de test #75: Predicho [Positive] Objetivo [Negative]\n",
            "Texto de la revisión: <START> the adventures of <UNKNOWN> has to be one of the <UNKNOWN> excuses for a movie i've yet run across you would have to look far and wide to find anything that approaches the level of <UNKNOWN> on display in this movie acting  bad editing  bad direction  bad special effects  bad and laughable plot  bad lighting  bad cinematography  bad costume design  bad and silly everything else  bad watching the adventures of <UNKNOWN> is about as enjoyable as a root <UNKNOWN> even for a fan of bad movies it's a real <UNKNOWN> test this is one for either <UNKNOWN> or lou <UNKNOWN> <UNKNOWN> if any exist br br eight things i learned from watching the adventures of <UNKNOWN> br br 1 if you don't have the budget for real special effects <UNKNOWN> a scene from the previous movie it will look great trust me br br 2 when on a quest to recover take time for frequent stops to oil up you body it worked for <UNKNOWN> and his two amazon companions br br 3 any sword fight use of magic and just about all other day to day activities in ancient <UNKNOWN> created a sound very similar to a game of man or <UNKNOWN> br br 4 some of the ancient greek gods dressed like extras from star wars br br 5 if you need to pad your crappy movie's runtime <UNKNOWN> the title sequence by adding star trek style credits and throw in some overly <UNKNOWN> music it also helps if you've got a previous movie to pull scenes from br br 6 fight scenes move along much <UNKNOWN> if the bad guys attack <UNKNOWN> one at a time br br 7 william <UNKNOWN> did anything for money br br 8 i didn't think it was possible but the adventures of <UNKNOWN> makes the first film <UNKNOWN> 1983 look like an academy award winner\n",
            "\n",
            "Revisión de test incorrectamente clasificada [9]\n",
            "Revisión de test #80: Predicho [Negative] Objetivo [Positive]\n",
            "Texto de la revisión: <START> with the obvious exception of fools horses this was in my opinion david <UNKNOWN> finest series br br coming straight after his tv debut on <UNKNOWN> not <UNKNOWN> your set ' these 13 episodes revealed a <UNKNOWN> of comic timing not seen since the old silent movie days by comparison <UNKNOWN> open all hours and that awful series <UNKNOWN> man' did not come close br br i believe jason banned the series being repeated because it showed him at his <UNKNOWN> shame on him a new generation deserves to enjoy this the series actually <UNKNOWN> in the ratings but that is most likely because it was shown against 'the <UNKNOWN> which aired on bbc at the same time before <UNKNOWN> were <UNKNOWN> br br btw i have only just noticed that his long suffering assistant spencer was played by mark <UNKNOWN> alan <UNKNOWN> off <UNKNOWN> street i am amazed he didn't try to murder edgar <UNKNOWN>\n",
            "\n",
            "Revisión de test incorrectamente clasificada [10]\n",
            "Revisión de test #83: Predicho [Negative] Objetivo [Positive]\n",
            "Texto de la revisión: <START> i'm not into reality shows that much but this one is exceptional because at the end the viewer gets something useful out of it besides entertainment i don't have children but lessons will be a great help when and if i ever do my only complaint is that the show has been watered down since it has been in the us i prefer the british version with the <UNKNOWN> <UNKNOWN> approach is it just me or does anyone else find the us version to be a bit soft now it's the <UNKNOWN> <UNKNOWN> <UNKNOWN> i guess we <UNKNOWN> need a <UNKNOWN> of sugar to help the medicine go down after all still nothing wrong with a sappy happy ending is there\n",
            "\n",
            "Revisión de test incorrectamente clasificada [11]\n",
            "Revisión de test #100: Predicho [Negative] Objetivo [Positive]\n",
            "Texto de la revisión: <START> a quick glance at the premise of this film would seem to indicate just another dumb <UNKNOWN> <UNKNOWN> <UNKNOWN> slash fest the type where sex equals death and the actors are all annoying stereotypes you actually want to die however delivers considerably more br br rather than focus on bare flesh and gore though there is a little of each no sex however the flick focuses on delivering impending dread <UNKNOWN> tension amidst a lovely <UNKNOWN> backdrop these feelings are further <UNKNOWN> by a cast of realistically likable characters and <UNKNOWN> that are more amoral than cardboard <UNKNOWN> of evil oh yeah george kennedy is here too and when is that not a good thing br br if you liked wrong turn then watch this to see where much of its' <UNKNOWN> came from\n",
            "\n",
            "Revisión de test incorrectamente clasificada [12]\n",
            "Revisión de test #101: Predicho [Negative] Objetivo [Positive]\n",
            "Texto de la revisión: <START> <UNKNOWN> is the first of its kind in turkish cinema and it's way better than i expected those people who say it's neither scary nor funny have a point it's not all that great indeed but it must be kept in mind that everyone involved with the movie is rather amateur so it's basically a maiden voyage and comparing this one to other films such as the 1st class garbage propaganda this movie is pretty damn good br br one thing that must be said it deals with the <UNKNOWN> <UNKNOWN> life in turkey very realistically that's exactly how it goes the scenes that are meant to scare are somewhat cheap and <UNKNOWN> most of them even if not all but that religion lesson scene made me laugh in tears and performs the best acting of this flick as a religion teacher br br it's not a waste of your time go and watch it you'll find it rather amusing especially if you know turkey enough to relate to turkish school lives\n",
            "\n",
            "Revisión de test incorrectamente clasificada [13]\n",
            "Revisión de test #112: Predicho [Positive] Objetivo [Negative]\n",
            "Texto de la revisión: <START> if you want to see a horror film which is horrible and in very bad taste this is definitely the film to view this films starts out with two young teenagers getting wild ideas about going into a chat room and going out on blind dates and quite possibly they will wind up like a little <UNKNOWN> to the slaughter house plenty of blood gore nudity <UNKNOWN> and all kinds of blood <UNKNOWN> <UNKNOWN> and things you will never dream a person is capable of performing on men and women if you like <UNKNOWN> well this kind of <UNKNOWN> deals with heavy heavy <UNKNOWN> and plenty of besides lots of <UNKNOWN> and thread to seal up things on the human body i really hope that this film does not give some sick person in this world the idea to act out these horrors in real life\n",
            "\n",
            "Revisión de test incorrectamente clasificada [14]\n",
            "Revisión de test #113: Predicho [Positive] Objetivo [Negative]\n",
            "Texto de la revisión: <START> this film probably would have been good if they didn't use cgi computer generated imagery for the werewolf scenes it made the creatures look fake and the werewolves looked cartoonish cgi is great for certain effects like the in jurassic park or <UNKNOWN> but when we see a film where the creature must look completely real cgi is not the way to go look at an american werewolf in london no cgi just makeup and a mechanical creature and what you come up with was more realistic than what was shown in the sequel this film did offer a few gags that was fun to watch and the humor in this movie seemed to have drawn me in but it's nothing more than a film that i thought was o k and that's not good enough in my opinion an american werewolf in paris doesn't hold up to the original\n",
            "\n",
            "Revisión de test incorrectamente clasificada [15]\n",
            "Revisión de test #115: Predicho [Positive] Objetivo [Negative]\n",
            "Texto de la revisión: <START> while the design and locations and photography are strong <UNKNOWN> in this film it is a turgid and melodramatic affair which demonstrates the limits of cinema to convey truth br br the case is the use of the soundtrack music a mix of <UNKNOWN> and andrew lloyd <UNKNOWN> that plays constantly and <UNKNOWN> and would have made max <UNKNOWN> <UNKNOWN> at its over use as it <UNKNOWN> the audience how difficult how <UNKNOWN> how tortured it is to be an artist and then it really counts the story the details at the end br br this <UNKNOWN> and <UNKNOWN> exploitation of emotions was once well <UNKNOWN> by peter <UNKNOWN> about a <UNKNOWN> <UNKNOWN> book this is not writing this is barbara <UNKNOWN> precisely the same critique can be made of this film a <UNKNOWN> <UNKNOWN> vanity project\n",
            "\n",
            "Revisión de test incorrectamente clasificada [16]\n",
            "Revisión de test #134: Predicho [Negative] Objetivo [Positive]\n",
            "Texto de la revisión: <START> the <UNKNOWN> is a very worthwhile addition to recent re releases from the soviet union director 1977 film <UNKNOWN> the moral <UNKNOWN> of <UNKNOWN> and honor in german occupied russia during the second world war on foot and in a <UNKNOWN> two members of a <UNKNOWN> soviet group leave to locate supplies and are captured by nazi soldiers the focus of the movie is on how each man handles or <UNKNOWN> his moral <UNKNOWN> one chooses dignity and integrity while the other <UNKNOWN> for collaboration with the enemy however in the end he cannot <UNKNOWN> by his selfish decision the film makes much use of slow wide angle pans which shift to extreme closeups and highlight the spiritual <UNKNOWN> within the souls of each man this is not a great film but it does effectively portray an intense moral dilemma against the backdrop of a harsh and <UNKNOWN> soviet wilderness\n",
            "\n",
            "Revisión de test incorrectamente clasificada [17]\n",
            "Revisión de test #146: Predicho [Negative] Objetivo [Positive]\n",
            "Texto de la revisión: <START> i was shocked to learn that jimmy <UNKNOWN> has left this show does anyone know why i regard james as one of the all time <UNKNOWN> and wasn't surprised he ended up on tv which can be better than the crap you see on the big screen the stories are slick and the camera faster than a <UNKNOWN> bullet <UNKNOWN> forget the rest of the cast james vanessa <UNKNOWN> <UNKNOWN> molly josh mitch also can anyone tell me why on earth there's a crap theme tune on the dvd sets but <UNKNOWN> <UNKNOWN> of a little less conversation is used on the initial nbc <UNKNOWN> does it not make sense to use a tune that you would associate with the gambling <UNKNOWN> of america for dvd releases\n",
            "\n",
            "Revisión de test incorrectamente clasificada [18]\n",
            "Revisión de test #147: Predicho [Positive] Objetivo [Negative]\n",
            "Texto de la revisión: <START> having enjoyed neil <UNKNOWN> writing especially his collaboration with <UNKNOWN> in the dream hunters in the past i figured <UNKNOWN> to be a sure thing and was very disappointed the beginning live action section of the movie was intriguing enough the relationships between the characters was believable and easy to empathize with and i loved the sets the <UNKNOWN> and <UNKNOWN> artwork the subsequent computer generated scenes however were excruciating the dialogue was awkward and pretentious the interaction between the live actors and the cgi horrifying events occurred for the <UNKNOWN> reasons and most events seemed superfluous to whatever plot may have existed i only watched the first twenty or thirty minutes of the movie so i'm not exactly an authority but i strongly recommend that you don't watch any of it at all and stick with <UNKNOWN> strong written work\n",
            "\n",
            "Revisión de test incorrectamente clasificada [19]\n",
            "Revisión de test #152: Predicho [Positive] Objetivo [Negative]\n",
            "Texto de la revisión: <START> i can pretend no knowledge of cinematography or mr <UNKNOWN> but i know <UNKNOWN> and i love her people in july my 14 year old son and i traveled to turkey in search of some remains of the neighborhood where his great grandfather lived until the great <UNKNOWN> of <UNKNOWN> in <UNKNOWN> reading the summary of the film <UNKNOWN> from <UNKNOWN> i thought that perhaps i might learn something more about the forced <UNKNOWN> of modern <UNKNOWN> if i did not have a home in <UNKNOWN> had i not been to <UNKNOWN> 28 times in as many years were i not familiar with dozens of islands and cities in <UNKNOWN> and if i had never enjoyed the friendship of these <UNKNOWN> life <UNKNOWN> people i might have believed that this had something to do with modern <UNKNOWN> as a professor at a new jersey state college let me assure you that i am familiar with the history of the period covered in the film indeed my wife's uncle was murdered by the <UNKNOWN> during the communist grab for power my mother in law lived through the italian invasion and german <UNKNOWN> barely these characters on the screen speak greek they listen to greek music but who are they no they are not even vaguely greek of course they are not people at all but simply <UNKNOWN> they are that which the artist <UNKNOWN> when life does not entirely fit or is <UNKNOWN> to his perception of how it was or should have been all represent some aspect of post wwi <UNKNOWN> that greater outside forces <UNKNOWN> to a fate they didn't deserve as we <UNKNOWN> in the late 70's in america the revolution didn't happen for an <UNKNOWN> artist this is no joke it's in fact grounds to put us through two and a half hours of torment and it's all because the various powers <UNKNOWN> of guards in different colored uniforms didn't allow the generation after the <UNKNOWN> of <UNKNOWN> to follow the call of peace and freedom the music of <UNKNOWN> and his fellow musicians i e the movement the cause this dark surreal <UNKNOWN> <UNKNOWN> the true and heroic efforts of the greek people to sustain their lust for life through the <UNKNOWN> of the 20th century to achieve more than any of their <UNKNOWN> neighbors to have become so politically evolved and <UNKNOWN> integrated\n",
            "\n",
            "Revisión de test incorrectamente clasificada [20]\n",
            "Revisión de test #154: Predicho [Positive] Objetivo [Negative]\n",
            "Texto de la revisión: <START> i saw this movie many years ago and just for kicks decided to rent it and watch it again the plot is a <UNKNOWN> copy from fright night i did like the hairy vampire and the bug eating driver otherwise it was not good at all\n",
            "\n"
          ]
        }
      ],
      "source": [
        "predicted_classes_reshaped = np.reshape(predicted_classes, 25000)\n",
        "\n",
        "incorrect = np.nonzero(predicted_classes_reshaped!=y_test)[0]\n",
        "\n",
        "# Nos vamos a centrar en las 20 primeras revisiones incorrectas\n",
        "for j, incorrect in enumerate(incorrect[0:20]):\n",
        "    \n",
        "    predicted = class_names[predicted_classes_reshaped[incorrect].astype(int)]\n",
        "    actual = class_names[y_test[incorrect]]\n",
        "    human_readable_review = decode_review(x_test[incorrect])\n",
        "    \n",
        "    print(\"Revisión de test incorrectamente clasificada [\"+ str(j+1) +\"]\") \n",
        "    print(\"Revisión de test #\" + str(incorrect)  + \": Predicho [\"+ predicted + \"] Objetivo [\"+ actual + \"]\")\n",
        "    print(\"Texto de la revisión: \" + human_readable_review.replace(\"<PAD> \", \"\"))\n",
        "    print(\"\")"
      ]
    },
    {
      "cell_type": "markdown",
      "metadata": {
        "id": "OlAfxIoTrtYa"
      },
      "source": [
        "## Prueba tu propio texto como conjunto de test\n",
        "\n",
        "Esta es una forma divertida de comprobar los límites del modelo que hemos entrenado. Debes teclear todo en minúscula y no usar signos de puntuación.\n",
        "\n",
        "Podrás comprobar la predicción del modelo, un valor entre 0 y 1\n"
      ]
    },
    {
      "cell_type": "code",
      "execution_count": 24,
      "metadata": {
        "colab": {
          "base_uri": "https://localhost:8080/"
        },
        "id": "UEKEB0DpD_8P",
        "outputId": "b9a59b05-fe81-4932-d879-15122c9de45f"
      },
      "outputs": [
        {
          "output_type": "stream",
          "name": "stdout",
          "text": [
            "1/1 [==============================] - 0s 58ms/step\n",
            "Revisión: this is the best film i have ever seen it is great and fantastic and i loved it\n",
            "Predicción numérica: 0.9845328\n",
            "Clase predicha: Positive\n"
          ]
        }
      ],
      "source": [
        "# Escribe tu propia revisión (EN INGLÉS)\n",
        "#review = \"this was a terrible film with too much sex and violence i walked out halfway through\"\n",
        "review = \"this is the best film i have ever seen it is great and fantastic and i loved it\"\n",
        "#review = \"this was an awful film that i will never see again\"\n",
        "#review = \"absolutely wonderful movie i am sure i will repeat it really worth the money i am delighted with the actors and i think it is epic the best movie from this director it is really fantastic and super\"\n",
        "\n",
        "# Codificamos la revisión (reemplazamos las palabras por los enteros)\n",
        "tmp = []\n",
        "for word in review.split(\" \"):\n",
        "    tmp.append(word_index[word])\n",
        "\n",
        "# Nos aseguramos que la longitud de secuencia es 500\n",
        "tmp_padded = sequence.pad_sequences([tmp], maxlen=review_length) \n",
        "\n",
        "# Introducimos la revisión ya procesada en el modelo\n",
        "rawprediction = model.predict(array([tmp_padded][0]))[0][0]\n",
        "prediction = int(round(rawprediction))\n",
        "\n",
        "# Probamos el modelo y vemos los resultados\n",
        "print(\"Revisión: \" + review)\n",
        "print(\"Predicción numérica: \" + str(rawprediction))\n",
        "print(\"Clase predicha: \" + class_names[prediction])"
      ]
    },
    {
      "cell_type": "markdown",
      "metadata": {
        "id": "zHROnRa9bRQS"
      },
      "source": [
        "## Redes GRU\n",
        "\n",
        "Ahora vamos a repetir el entrenamiento pero con las redes GRU. Recuerda que las redes Gated Recurrent Unit (GRU) implementan una simplificación de la neurona LSTM basada en reducir el número de puertas, parámetros y estaddos de la misma."
      ]
    },
    {
      "cell_type": "code",
      "execution_count": 25,
      "metadata": {
        "colab": {
          "base_uri": "https://localhost:8080/"
        },
        "id": "SAp18yLnZKaL",
        "outputId": "573d055e-88c0-45f4-9779-479df0fd1daf"
      },
      "outputs": [
        {
          "output_type": "stream",
          "name": "stdout",
          "text": [
            "Model: \"sequential_3\"\n",
            "_________________________________________________________________\n",
            " Layer (type)                Output Shape              Param #   \n",
            "=================================================================\n",
            " embedding_3 (Embedding)     (None, 700, 64)           640000    \n",
            "                                                                 \n",
            " dropout_6 (Dropout)         (None, 700, 64)           0         \n",
            "                                                                 \n",
            " gru_1 (GRU)                 (None, 64)                24960     \n",
            "                                                                 \n",
            " dropout_7 (Dropout)         (None, 64)                0         \n",
            "                                                                 \n",
            " dense_3 (Dense)             (None, 1)                 65        \n",
            "                                                                 \n",
            "=================================================================\n",
            "Total params: 665,025\n",
            "Trainable params: 665,025\n",
            "Non-trainable params: 0\n",
            "_________________________________________________________________\n"
          ]
        }
      ],
      "source": [
        "# Pila vacía\n",
        "model = tf.keras.models.Sequential()\n",
        "\n",
        "# Embedding\n",
        "model.add(\n",
        "    tf.keras.layers.Embedding(\n",
        "        input_dim = vocab_size, # Tamaño del vocabulario\n",
        "        output_dim = 64, # Dimensionalidad del embedding\n",
        "        input_length = review_length # Longitud de las secuencias de entrada\n",
        "    )\n",
        ")\n",
        "\n",
        "# Primer Dropout\n",
        "model.add(\n",
        "    tf.keras.layers.Dropout(\n",
        "        rate=0.30 # Poner a cero aleatoriamente un 25% de las neuronas\n",
        "    )\n",
        ")\n",
        "\n",
        "# Capa GRU\n",
        "model.add(\n",
        "    tf.keras.layers.GRU(\n",
        "        units=64 # La capa va a tener 32 neuronas de tipo LSTM\n",
        "    )\n",
        ")\n",
        "\n",
        "# Segundo Dropout\n",
        "model.add(\n",
        "    tf.keras.layers.Dropout(\n",
        "        rate=0.30 # Poner a cero aleatoriamente un 25% de las neuronas\n",
        "    )\n",
        ")\n",
        "\n",
        "# Capa densa final\n",
        "model.add(\n",
        "    tf.keras.layers.Dense(\n",
        "        units=1, # Una única salida\n",
        "        activation='sigmoid' # Función de activación sigmoide\n",
        "    )\n",
        ")\n",
        "\n",
        "# Compilar el modelo\n",
        "model.compile(\n",
        "    loss=tf.keras.losses.binary_crossentropy, # Entropía cruzada\n",
        "    optimizer=tf.keras.optimizers.Adam(), # Optimizador Adam\n",
        "    metrics=['accuracy']) # Métrica de los informes\n",
        "\n",
        "# Mostrar un resumen de la estructura del modelo\n",
        "model.summary()"
      ]
    },
    {
      "cell_type": "code",
      "execution_count": 26,
      "metadata": {
        "colab": {
          "base_uri": "https://localhost:8080/",
          "height": 644
        },
        "id": "07ahFqW9br-2",
        "outputId": "868c198b-4222-4c37-e92c-18571baad0ea"
      },
      "outputs": [
        {
          "output_type": "execute_result",
          "data": {
            "image/png": "[encoded data removed]",
            "text/plain": [
              "<IPython.core.display.Image object>"
            ]
          },
          "metadata": {},
          "execution_count": 26
        }
      ],
      "source": [
        "# Representar el modelo\n",
        "tf.keras.utils.plot_model(model, to_file='model.png', show_shapes=True, show_layer_names=False)"
      ]
    },
    {
      "cell_type": "code",
      "execution_count": 27,
      "metadata": {
        "id": "8LelP9R1bwzW",
        "colab": {
          "base_uri": "https://localhost:8080/"
        },
        "outputId": "95d39ba6-57ee-45a8-e62c-cf0ebd020fbe"
      },
      "outputs": [
        {
          "output_type": "stream",
          "name": "stdout",
          "text": [
            "Epoch 1/4\n",
            "167/167 [==============================] - 136s 798ms/step - loss: 0.5996 - accuracy: 0.6687 - val_loss: 0.4348 - val_accuracy: 0.7941\n",
            "Epoch 2/4\n",
            "167/167 [==============================] - 134s 803ms/step - loss: 0.3179 - accuracy: 0.8668 - val_loss: 0.3573 - val_accuracy: 0.8501\n",
            "Epoch 3/4\n",
            "167/167 [==============================] - 134s 804ms/step - loss: 0.2091 - accuracy: 0.9209 - val_loss: 0.3095 - val_accuracy: 0.8739\n",
            "Epoch 4/4\n",
            "167/167 [==============================] - 134s 805ms/step - loss: 0.1675 - accuracy: 0.9386 - val_loss: 0.3436 - val_accuracy: 0.8805\n"
          ]
        }
      ],
      "source": [
        "# Entrenar la GRU en los datos\n",
        "history = model.fit(\n",
        "\n",
        "    # Datos de entrenamiento\n",
        "    x_train, y_train,\n",
        "                    \n",
        "    # Tamaño de batch\n",
        "    batch_size=128, \n",
        "\n",
        "    # Número de épocas\n",
        "    epochs=4, \n",
        "    \n",
        "    # Porcentaje de validación\n",
        "    validation_split=0.15,\n",
        "    \n",
        "    verbose=1\n",
        ") "
      ]
    },
    {
      "cell_type": "code",
      "execution_count": 28,
      "metadata": {
        "id": "UyQgjOyub02c",
        "colab": {
          "base_uri": "https://localhost:8080/"
        },
        "outputId": "776c9f2d-85e6-4c21-9dca-99d3719ff2d5"
      },
      "outputs": [
        {
          "output_type": "stream",
          "name": "stdout",
          "text": [
            "782/782 [==============================] - 63s 81ms/step\n",
            "              precision    recall  f1-score   support\n",
            "\n",
            "    Negative       0.87      0.86      0.87     12500\n",
            "    Positive       0.87      0.88      0.87     12500\n",
            "\n",
            "    accuracy                           0.87     25000\n",
            "   macro avg       0.87      0.87      0.87     25000\n",
            "weighted avg       0.87      0.87      0.87     25000\n",
            "\n"
          ]
        },
        {
          "output_type": "execute_result",
          "data": {
            "text/plain": [
              "<tf.Tensor: shape=(2, 2), dtype=int32, numpy=\n",
              "array([[10793,  1707],\n",
              "       [ 1558, 10942]], dtype=int32)>"
            ]
          },
          "metadata": {},
          "execution_count": 28
        }
      ],
      "source": [
        "# Obtener las predicciones para los datos de test\n",
        "from sklearn.metrics import classification_report\n",
        "\n",
        "predicted_probabilities = model.predict(x_test)\n",
        "predicted_classes = predicted_probabilities  > 0.5\n",
        "print(classification_report(y_test, predicted_classes, target_names=class_names))\n",
        "tf.math.confusion_matrix(y_test, predicted_classes)"
      ]
    },
    {
      "cell_type": "markdown",
      "metadata": {
        "id": "NzMNJuepgGJo"
      },
      "source": [
        "## Referencia\n",
        "\n",
        "Este material ha sido elaborado a partir del [cuaderno](https://github.com/markwest1972/LSTM-Example-Google-Colaboratory) de Mark West"
      ]
    },
    {
      "cell_type": "code",
      "execution_count": 28,
      "metadata": {
        "id": "0lV7-2klfgf6"
      },
      "outputs": [],
      "source": []
    }
  ],
  "metadata": {
    "colab": {
      "machine_shape": "hm",
      "provenance": []
    },
    "gpuClass": "standard",
    "kernelspec": {
      "display_name": "Python 3 (ipykernel)",
      "language": "python",
      "name": "python3"
    },
    "language_info": {
      "codemirror_mode": {
        "name": "ipython",
        "version": 3
      },
      "file_extension": ".py",
      "mimetype": "text/x-python",
      "name": "python",
      "nbconvert_exporter": "python",
      "pygments_lexer": "ipython3",
      "version": "3.9.7"
    }
  },
  "nbformat": 4,
  "nbformat_minor": 0
}