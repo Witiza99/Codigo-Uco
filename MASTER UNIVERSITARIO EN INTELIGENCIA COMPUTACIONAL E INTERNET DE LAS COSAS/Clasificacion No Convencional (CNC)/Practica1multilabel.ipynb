{
  "nbformat": 4,
  "nbformat_minor": 0,
  "metadata": {
    "colab": {
      "provenance": [],
      "collapsed_sections": [
        "dBzRzA0WkYaQ",
        "-6MFYNh7kdkk",
        "czT_brNUkhlO",
        "Qlvt_K2rroBD",
        "F9mkau92Y_Pp",
        "pe23t2kvPgpX",
        "N-TUxz-pbUyo",
        "VktukYhqePNw",
        "6Eommr_11S_F"
      ]
    },
    "kernelspec": {
      "name": "python3",
      "display_name": "Python 3"
    },
    "language_info": {
      "name": "python"
    }
  },
  "cells": [
    {
      "cell_type": "markdown",
      "source": [
        "# **CLASIFICACIÓN NO CONVENCIONAL: MULTILABEL**\n",
        "Máster Inteligencia Computacional e Internet de las Cosas"
      ],
      "metadata": {
        "id": "GdmeqPQfSti8"
      }
    },
    {
      "cell_type": "markdown",
      "source": [
        "# **Apartado 1**"
      ],
      "metadata": {
        "id": "dBzRzA0WkYaQ"
      }
    },
    {
      "cell_type": "code",
      "metadata": {
        "id": "0N0J6v0VNg4b",
        "colab": {
          "base_uri": "https://localhost:8080/"
        },
        "outputId": "2fcdfb16-1d82-4f83-ce0a-e1f1959a3d35"
      },
      "source": [
        "!pip install wheel\n",
        "!pip install scikit-multilearn #Successfully installed scikit-multilearn-0.2.0\n",
        "!pip install liac-arff\n",
        "!pip install scipy\n",
        "!pip install requests\n",
        "!pip install scikit-learn"
      ],
      "execution_count": null,
      "outputs": [
        {
          "output_type": "stream",
          "name": "stdout",
          "text": [
            "Looking in indexes: https://pypi.org/simple, https://us-python.pkg.dev/colab-wheels/public/simple/\n",
            "Requirement already satisfied: wheel in /usr/local/lib/python3.8/dist-packages (0.38.4)\n",
            "Looking in indexes: https://pypi.org/simple, https://us-python.pkg.dev/colab-wheels/public/simple/\n",
            "Collecting scikit-multilearn\n",
            "  Downloading scikit_multilearn-0.2.0-py3-none-any.whl (89 kB)\n",
            "\u001b[2K     \u001b[90m━━━━━━━━━━━━━━━━━━━━━━━━━━━━━━━━━━━━━━━━\u001b[0m \u001b[32m89.4/89.4 KB\u001b[0m \u001b[31m3.1 MB/s\u001b[0m eta \u001b[36m0:00:00\u001b[0m\n",
            "\u001b[?25hInstalling collected packages: scikit-multilearn\n",
            "Successfully installed scikit-multilearn-0.2.0\n",
            "Looking in indexes: https://pypi.org/simple, https://us-python.pkg.dev/colab-wheels/public/simple/\n",
            "Collecting liac-arff\n",
            "  Downloading liac-arff-2.5.0.tar.gz (13 kB)\n",
            "  Preparing metadata (setup.py) ... \u001b[?25l\u001b[?25hdone\n",
            "Building wheels for collected packages: liac-arff\n",
            "  Building wheel for liac-arff (setup.py) ... \u001b[?25l\u001b[?25hdone\n",
            "  Created wheel for liac-arff: filename=liac_arff-2.5.0-py3-none-any.whl size=11732 sha256=feb47cd2bcf9ee8fcd07f0e7a3a9a9387cd3a4d446b0b49f1a193154e1663a0f\n",
            "  Stored in directory: /root/.cache/pip/wheels/a2/de/68/bf3972de3ecb31e32bef59a7f4c75f0687a3674c476b347c14\n",
            "Successfully built liac-arff\n",
            "Installing collected packages: liac-arff\n",
            "Successfully installed liac-arff-2.5.0\n",
            "Looking in indexes: https://pypi.org/simple, https://us-python.pkg.dev/colab-wheels/public/simple/\n",
            "Requirement already satisfied: scipy in /usr/local/lib/python3.8/dist-packages (1.7.3)\n",
            "Requirement already satisfied: numpy<1.23.0,>=1.16.5 in /usr/local/lib/python3.8/dist-packages (from scipy) (1.21.6)\n",
            "Looking in indexes: https://pypi.org/simple, https://us-python.pkg.dev/colab-wheels/public/simple/\n",
            "Requirement already satisfied: requests in /usr/local/lib/python3.8/dist-packages (2.25.1)\n",
            "Requirement already satisfied: chardet<5,>=3.0.2 in /usr/local/lib/python3.8/dist-packages (from requests) (4.0.0)\n",
            "Requirement already satisfied: urllib3<1.27,>=1.21.1 in /usr/local/lib/python3.8/dist-packages (from requests) (1.24.3)\n",
            "Requirement already satisfied: certifi>=2017.4.17 in /usr/local/lib/python3.8/dist-packages (from requests) (2022.12.7)\n",
            "Requirement already satisfied: idna<3,>=2.5 in /usr/local/lib/python3.8/dist-packages (from requests) (2.10)\n",
            "Looking in indexes: https://pypi.org/simple, https://us-python.pkg.dev/colab-wheels/public/simple/\n",
            "Requirement already satisfied: scikit-learn in /usr/local/lib/python3.8/dist-packages (1.0.2)\n",
            "Requirement already satisfied: scipy>=1.1.0 in /usr/local/lib/python3.8/dist-packages (from scikit-learn) (1.7.3)\n",
            "Requirement already satisfied: joblib>=0.11 in /usr/local/lib/python3.8/dist-packages (from scikit-learn) (1.2.0)\n",
            "Requirement already satisfied: threadpoolctl>=2.0.0 in /usr/local/lib/python3.8/dist-packages (from scikit-learn) (3.1.0)\n",
            "Requirement already satisfied: numpy>=1.14.6 in /usr/local/lib/python3.8/dist-packages (from scikit-learn) (1.21.6)\n"
          ]
        }
      ]
    },
    {
      "cell_type": "code",
      "source": [
        "#Realización del tutorial"
      ],
      "metadata": {
        "id": "faJsdG9DdX1K"
      },
      "execution_count": null,
      "outputs": []
    },
    {
      "cell_type": "code",
      "execution_count": null,
      "metadata": {
        "id": "jrdr3qReVKGU"
      },
      "outputs": [],
      "source": [
        "from skmultilearn.dataset import load_dataset"
      ]
    },
    {
      "cell_type": "code",
      "source": [
        "X_train, y_train, feature_names, label_names = load_dataset('emotions', 'train')\n",
        "X_test, y_test, _, _ = load_dataset('emotions', 'test')"
      ],
      "metadata": {
        "colab": {
          "base_uri": "https://localhost:8080/"
        },
        "id": "0zJhFxt3VYrg",
        "outputId": "e6fdaa5f-8cbf-43fa-de63-d1942c8f025a"
      },
      "execution_count": null,
      "outputs": [
        {
          "output_type": "stream",
          "name": "stdout",
          "text": [
            "emotions:train - does not exists downloading\n",
            "Downloaded emotions-train\n",
            "emotions:test - does not exists downloading\n",
            "Downloaded emotions-test\n"
          ]
        }
      ]
    },
    {
      "cell_type": "code",
      "source": [
        "feature_names[:10]"
      ],
      "metadata": {
        "colab": {
          "base_uri": "https://localhost:8080/"
        },
        "id": "8F4ox9n5WFmU",
        "outputId": "8ac816f1-c8a8-4576-cd82-2fa7b405b74d"
      },
      "execution_count": null,
      "outputs": [
        {
          "output_type": "execute_result",
          "data": {
            "text/plain": [
              "[('Mean_Acc1298_Mean_Mem40_Centroid', 'NUMERIC'),\n",
              " ('Mean_Acc1298_Mean_Mem40_Rolloff', 'NUMERIC'),\n",
              " ('Mean_Acc1298_Mean_Mem40_Flux', 'NUMERIC'),\n",
              " ('Mean_Acc1298_Mean_Mem40_MFCC_0', 'NUMERIC'),\n",
              " ('Mean_Acc1298_Mean_Mem40_MFCC_1', 'NUMERIC'),\n",
              " ('Mean_Acc1298_Mean_Mem40_MFCC_2', 'NUMERIC'),\n",
              " ('Mean_Acc1298_Mean_Mem40_MFCC_3', 'NUMERIC'),\n",
              " ('Mean_Acc1298_Mean_Mem40_MFCC_4', 'NUMERIC'),\n",
              " ('Mean_Acc1298_Mean_Mem40_MFCC_5', 'NUMERIC'),\n",
              " ('Mean_Acc1298_Mean_Mem40_MFCC_6', 'NUMERIC')]"
            ]
          },
          "metadata": {},
          "execution_count": 4
        }
      ]
    },
    {
      "cell_type": "code",
      "source": [
        "label_names"
      ],
      "metadata": {
        "colab": {
          "base_uri": "https://localhost:8080/"
        },
        "id": "TCaA38K4WLML",
        "outputId": "eb58fed1-0516-4946-baa7-9c85b2d2b7ec"
      },
      "execution_count": null,
      "outputs": [
        {
          "output_type": "execute_result",
          "data": {
            "text/plain": [
              "[('amazed-suprised', ['0', '1']),\n",
              " ('happy-pleased', ['0', '1']),\n",
              " ('relaxing-calm', ['0', '1']),\n",
              " ('quiet-still', ['0', '1']),\n",
              " ('sad-lonely', ['0', '1']),\n",
              " ('angry-aggresive', ['0', '1'])]"
            ]
          },
          "metadata": {},
          "execution_count": 5
        }
      ]
    },
    {
      "cell_type": "code",
      "source": [
        "from skmultilearn.problem_transform import BinaryRelevance\n",
        "from sklearn.svm import SVC"
      ],
      "metadata": {
        "id": "7zo3yEsIWNdG"
      },
      "execution_count": null,
      "outputs": []
    },
    {
      "cell_type": "code",
      "source": [
        "clf = BinaryRelevance(\n",
        "    classifier=SVC(),\n",
        "    require_dense=[False, True]\n",
        ")"
      ],
      "metadata": {
        "id": "tx9Q_LskWQsw"
      },
      "execution_count": null,
      "outputs": []
    },
    {
      "cell_type": "code",
      "source": [
        "clf.classifiers_"
      ],
      "metadata": {
        "id": "Fjwc2NlKWXeh"
      },
      "execution_count": null,
      "outputs": []
    },
    {
      "cell_type": "code",
      "source": [
        "clf.fit(X_train, y_train)"
      ],
      "metadata": {
        "colab": {
          "base_uri": "https://localhost:8080/"
        },
        "id": "6rSl6yUCWaoT",
        "outputId": "f7109fd4-18dc-4abd-e4fc-ac8a17566258"
      },
      "execution_count": null,
      "outputs": [
        {
          "output_type": "execute_result",
          "data": {
            "text/plain": [
              "BinaryRelevance(classifier=SVC(), require_dense=[False, True])"
            ]
          },
          "metadata": {},
          "execution_count": 10
        }
      ]
    },
    {
      "cell_type": "code",
      "source": [
        "clf.classifiers_"
      ],
      "metadata": {
        "colab": {
          "base_uri": "https://localhost:8080/"
        },
        "id": "bOv2_7bvWdHm",
        "outputId": "b023ee87-781b-4eb8-fbd9-7eef0369c3da"
      },
      "execution_count": null,
      "outputs": [
        {
          "output_type": "execute_result",
          "data": {
            "text/plain": [
              "[SVC(), SVC(), SVC(), SVC(), SVC(), SVC()]"
            ]
          },
          "metadata": {},
          "execution_count": 11
        }
      ]
    },
    {
      "cell_type": "code",
      "source": [
        "prediction = clf.predict(X_test)"
      ],
      "metadata": {
        "id": "RmJ23d5RWhNQ"
      },
      "execution_count": null,
      "outputs": []
    },
    {
      "cell_type": "code",
      "source": [
        "prediction"
      ],
      "metadata": {
        "colab": {
          "base_uri": "https://localhost:8080/"
        },
        "id": "KAkZaEhpWkTp",
        "outputId": "df0f561e-ca36-4323-c270-77b5cd3d2135"
      },
      "execution_count": null,
      "outputs": [
        {
          "output_type": "execute_result",
          "data": {
            "text/plain": [
              "<202x6 sparse matrix of type '<class 'numpy.int64'>'\n",
              "\twith 27 stored elements in Compressed Sparse Column format>"
            ]
          },
          "metadata": {},
          "execution_count": 14
        }
      ]
    },
    {
      "cell_type": "code",
      "source": [
        "import sklearn.metrics as metrics"
      ],
      "metadata": {
        "id": "lGo1dofPWk7z"
      },
      "execution_count": null,
      "outputs": []
    },
    {
      "cell_type": "code",
      "source": [
        "metrics.hamming_loss(y_test, prediction)"
      ],
      "metadata": {
        "colab": {
          "base_uri": "https://localhost:8080/"
        },
        "id": "0mam5h8FWoKH",
        "outputId": "7c270194-63ac-48f0-9307-e49ec7de3270"
      },
      "execution_count": null,
      "outputs": [
        {
          "output_type": "execute_result",
          "data": {
            "text/plain": [
              "0.3250825082508251"
            ]
          },
          "metadata": {},
          "execution_count": 16
        }
      ]
    },
    {
      "cell_type": "code",
      "source": [
        "metrics.accuracy_score(y_test, prediction)"
      ],
      "metadata": {
        "colab": {
          "base_uri": "https://localhost:8080/"
        },
        "id": "7iMWCvk4WqKw",
        "outputId": "a92c10fb-b238-4f5c-fd7d-8e15f33b5d71"
      },
      "execution_count": null,
      "outputs": [
        {
          "output_type": "execute_result",
          "data": {
            "text/plain": [
              "0.01485148514851485"
            ]
          },
          "metadata": {},
          "execution_count": 17
        }
      ]
    },
    {
      "cell_type": "code",
      "source": [
        "#Fin del tutorial, se realiza la carga y comprension de los 17 dataset"
      ],
      "metadata": {
        "id": "fr1KvAdTdbuN"
      },
      "execution_count": null,
      "outputs": []
    },
    {
      "cell_type": "markdown",
      "source": [
        "#**Apartado 2**"
      ],
      "metadata": {
        "id": "-6MFYNh7kdkk"
      }
    },
    {
      "cell_type": "code",
      "source": [
        "#{'scene', 'Corel5k', 'bibtex', 'enron', 'rcv1subset5', 'tmc2007_500',\n",
        "#'rcv1subset3', 'rcv1subset1', 'delicious', 'rcv1subset4', 'genbase', 'birds', 'emotions',\n",
        "#'rcv1subset2', 'mediamill', 'medical', 'yeast'}"
      ],
      "metadata": {
        "id": "FCBsbkeLcWJP"
      },
      "execution_count": null,
      "outputs": []
    },
    {
      "cell_type": "code",
      "source": [
        "#scene, dataset con distintos escenarios naturales como playa, urbano, montaña, etc"
      ],
      "metadata": {
        "id": "-x_r8-zHdI3T"
      },
      "execution_count": null,
      "outputs": []
    },
    {
      "cell_type": "code",
      "source": [
        "X_train, y_train, feature_names, label_names = load_dataset('scene', 'train')\n",
        "X_test, y_test, _, _ = load_dataset('scene', 'test')"
      ],
      "metadata": {
        "id": "ZplVXU50cRLj",
        "colab": {
          "base_uri": "https://localhost:8080/"
        },
        "outputId": "7fc4081c-70a6-421e-89cc-b8ca08eb6156"
      },
      "execution_count": null,
      "outputs": [
        {
          "output_type": "stream",
          "name": "stdout",
          "text": [
            "scene:train - exists, not redownloading\n",
            "scene:test - exists, not redownloading\n"
          ]
        }
      ]
    },
    {
      "cell_type": "code",
      "source": [
        "feature_names[:10]"
      ],
      "metadata": {
        "id": "h4xmwdnkchqL",
        "colab": {
          "base_uri": "https://localhost:8080/"
        },
        "outputId": "3394f508-76b6-4980-b2a2-517f2faaee8c"
      },
      "execution_count": null,
      "outputs": [
        {
          "output_type": "execute_result",
          "data": {
            "text/plain": [
              "[('Att1', 'NUMERIC'),\n",
              " ('Att2', 'NUMERIC'),\n",
              " ('Att3', 'NUMERIC'),\n",
              " ('Att4', 'NUMERIC'),\n",
              " ('Att5', 'NUMERIC'),\n",
              " ('Att6', 'NUMERIC'),\n",
              " ('Att7', 'NUMERIC'),\n",
              " ('Att8', 'NUMERIC'),\n",
              " ('Att9', 'NUMERIC'),\n",
              " ('Att10', 'NUMERIC')]"
            ]
          },
          "metadata": {},
          "execution_count": 19
        }
      ]
    },
    {
      "cell_type": "code",
      "source": [
        "label_names"
      ],
      "metadata": {
        "id": "fxRYalctchqQ",
        "colab": {
          "base_uri": "https://localhost:8080/"
        },
        "outputId": "35b2cdfc-76e7-48d2-aee2-c510844b0431"
      },
      "execution_count": null,
      "outputs": [
        {
          "output_type": "execute_result",
          "data": {
            "text/plain": [
              "[('Beach', ['0', '1']),\n",
              " ('Sunset', ['0', '1']),\n",
              " ('FallFoliage', ['0', '1']),\n",
              " ('Field', ['0', '1']),\n",
              " ('Mountain', ['0', '1']),\n",
              " ('Urban', ['0', '1'])]"
            ]
          },
          "metadata": {},
          "execution_count": 20
        }
      ]
    },
    {
      "cell_type": "code",
      "source": [
        "#Corel5k, dataset con muchisimas etiquetas, diferentes palabras desde animales, plantas, etc"
      ],
      "metadata": {
        "id": "36Vp0USQdDC0"
      },
      "execution_count": null,
      "outputs": []
    },
    {
      "cell_type": "code",
      "source": [
        "X_train, y_train, feature_names, label_names = load_dataset('Corel5k', 'train')\n",
        "X_test, y_test, _, _ = load_dataset('Corel5k', 'test')"
      ],
      "metadata": {
        "id": "QXlT04ngcuHP",
        "colab": {
          "base_uri": "https://localhost:8080/"
        },
        "outputId": "865aad18-09b4-4ef6-92d6-be02a676901a"
      },
      "execution_count": null,
      "outputs": [
        {
          "output_type": "stream",
          "name": "stdout",
          "text": [
            "Corel5k:train - exists, not redownloading\n",
            "Corel5k:test - exists, not redownloading\n"
          ]
        }
      ]
    },
    {
      "cell_type": "code",
      "source": [
        "feature_names[:10]"
      ],
      "metadata": {
        "id": "HPavKsxocuHX",
        "colab": {
          "base_uri": "https://localhost:8080/"
        },
        "outputId": "aba16139-784c-41cf-e30f-716a4a11927d"
      },
      "execution_count": null,
      "outputs": [
        {
          "output_type": "execute_result",
          "data": {
            "text/plain": [
              "[('Cluster1', ['0', '1']),\n",
              " ('Cluster2', ['0', '1']),\n",
              " ('Cluster3', ['0', '1']),\n",
              " ('Cluster4', ['0', '1']),\n",
              " ('Cluster5', ['0', '1']),\n",
              " ('Cluster6', ['0', '1']),\n",
              " ('Cluster7', ['0', '1']),\n",
              " ('Cluster8', ['0', '1']),\n",
              " ('Cluster9', ['0', '1']),\n",
              " ('Cluster10', ['0', '1'])]"
            ]
          },
          "metadata": {},
          "execution_count": 25
        }
      ]
    },
    {
      "cell_type": "code",
      "source": [
        "label_names"
      ],
      "metadata": {
        "id": "tImJ4CjCcuHa",
        "colab": {
          "base_uri": "https://localhost:8080/"
        },
        "outputId": "71baad19-0de0-4044-898f-10148d7d5827"
      },
      "execution_count": null,
      "outputs": [
        {
          "output_type": "execute_result",
          "data": {
            "text/plain": [
              "[('city', ['0', '1']),\n",
              " ('mountain', ['0', '1']),\n",
              " ('sky', ['0', '1']),\n",
              " ('sun', ['0', '1']),\n",
              " ('water', ['0', '1']),\n",
              " ('clouds', ['0', '1']),\n",
              " ('tree', ['0', '1']),\n",
              " ('bay', ['0', '1']),\n",
              " ('lake', ['0', '1']),\n",
              " ('sea', ['0', '1']),\n",
              " ('beach', ['0', '1']),\n",
              " ('boats', ['0', '1']),\n",
              " ('people', ['0', '1']),\n",
              " ('branch', ['0', '1']),\n",
              " ('leaf', ['0', '1']),\n",
              " ('grass', ['0', '1']),\n",
              " ('plain', ['0', '1']),\n",
              " ('palm', ['0', '1']),\n",
              " ('horizon', ['0', '1']),\n",
              " ('shell', ['0', '1']),\n",
              " ('hills', ['0', '1']),\n",
              " ('waves', ['0', '1']),\n",
              " ('birds', ['0', '1']),\n",
              " ('land', ['0', '1']),\n",
              " ('dog', ['0', '1']),\n",
              " ('bridge', ['0', '1']),\n",
              " ('ships', ['0', '1']),\n",
              " ('buildings', ['0', '1']),\n",
              " ('fence', ['0', '1']),\n",
              " ('island', ['0', '1']),\n",
              " ('storm', ['0', '1']),\n",
              " ('peaks', ['0', '1']),\n",
              " ('jet', ['0', '1']),\n",
              " ('plane', ['0', '1']),\n",
              " ('runway', ['0', '1']),\n",
              " ('basket', ['0', '1']),\n",
              " ('flight', ['0', '1']),\n",
              " ('flag', ['0', '1']),\n",
              " ('helicopter', ['0', '1']),\n",
              " ('boeing', ['0', '1']),\n",
              " ('prop', ['0', '1']),\n",
              " ('f-16', ['0', '1']),\n",
              " ('tails', ['0', '1']),\n",
              " ('smoke', ['0', '1']),\n",
              " ('formation', ['0', '1']),\n",
              " ('bear', ['0', '1']),\n",
              " ('polar', ['0', '1']),\n",
              " ('snow', ['0', '1']),\n",
              " ('tundra', ['0', '1']),\n",
              " ('ice', ['0', '1']),\n",
              " ('head', ['0', '1']),\n",
              " ('black', ['0', '1']),\n",
              " ('reflection', ['0', '1']),\n",
              " ('ground', ['0', '1']),\n",
              " ('forest', ['0', '1']),\n",
              " ('fall', ['0', '1']),\n",
              " ('river', ['0', '1']),\n",
              " ('field', ['0', '1']),\n",
              " ('flowers', ['0', '1']),\n",
              " ('stream', ['0', '1']),\n",
              " ('meadow', ['0', '1']),\n",
              " ('rocks', ['0', '1']),\n",
              " ('hillside', ['0', '1']),\n",
              " ('shrubs', ['0', '1']),\n",
              " ('close-up', ['0', '1']),\n",
              " ('grizzly', ['0', '1']),\n",
              " ('cubs', ['0', '1']),\n",
              " ('drum', ['0', '1']),\n",
              " ('log', ['0', '1']),\n",
              " ('hut', ['0', '1']),\n",
              " ('sunset', ['0', '1']),\n",
              " ('display', ['0', '1']),\n",
              " ('plants', ['0', '1']),\n",
              " ('pool', ['0', '1']),\n",
              " ('coral', ['0', '1']),\n",
              " ('fan', ['0', '1']),\n",
              " ('anemone', ['0', '1']),\n",
              " ('fish', ['0', '1']),\n",
              " ('ocean', ['0', '1']),\n",
              " ('diver', ['0', '1']),\n",
              " ('sunrise', ['0', '1']),\n",
              " ('face', ['0', '1']),\n",
              " ('sand', ['0', '1']),\n",
              " ('rainbow', ['0', '1']),\n",
              " ('farms', ['0', '1']),\n",
              " ('reefs', ['0', '1']),\n",
              " ('vegetation', ['0', '1']),\n",
              " ('house', ['0', '1']),\n",
              " ('village', ['0', '1']),\n",
              " ('carvings', ['0', '1']),\n",
              " ('path', ['0', '1']),\n",
              " ('wood', ['0', '1']),\n",
              " ('dress', ['0', '1']),\n",
              " ('coast', ['0', '1']),\n",
              " ('sailboats', ['0', '1']),\n",
              " ('cat', ['0', '1']),\n",
              " ('tiger', ['0', '1']),\n",
              " ('bengal', ['0', '1']),\n",
              " ('fox', ['0', '1']),\n",
              " ('kit', ['0', '1']),\n",
              " ('run', ['0', '1']),\n",
              " ('shadows', ['0', '1']),\n",
              " ('winter', ['0', '1']),\n",
              " ('autumn', ['0', '1']),\n",
              " ('cliff', ['0', '1']),\n",
              " ('bush', ['0', '1']),\n",
              " ('rockface', ['0', '1']),\n",
              " ('pair', ['0', '1']),\n",
              " ('den', ['0', '1']),\n",
              " ('coyote', ['0', '1']),\n",
              " ('light', ['0', '1']),\n",
              " ('arctic', ['0', '1']),\n",
              " ('shore', ['0', '1']),\n",
              " ('town', ['0', '1']),\n",
              " ('road', ['0', '1']),\n",
              " ('chapel', ['0', '1']),\n",
              " ('moon', ['0', '1']),\n",
              " ('harbor', ['0', '1']),\n",
              " ('windmills', ['0', '1']),\n",
              " ('restaurant', ['0', '1']),\n",
              " ('wall', ['0', '1']),\n",
              " ('skyline', ['0', '1']),\n",
              " ('window', ['0', '1']),\n",
              " ('clothes', ['0', '1']),\n",
              " ('shops', ['0', '1']),\n",
              " ('street', ['0', '1']),\n",
              " ('cafe', ['0', '1']),\n",
              " ('tables', ['0', '1']),\n",
              " ('nets', ['0', '1']),\n",
              " ('crafts', ['0', '1']),\n",
              " ('roofs', ['0', '1']),\n",
              " ('ruins', ['0', '1']),\n",
              " ('stone', ['0', '1']),\n",
              " ('cars', ['0', '1']),\n",
              " ('castle', ['0', '1']),\n",
              " ('courtyard', ['0', '1']),\n",
              " ('statue', ['0', '1']),\n",
              " ('stairs', ['0', '1']),\n",
              " ('costume', ['0', '1']),\n",
              " ('sponges', ['0', '1']),\n",
              " ('sign', ['0', '1']),\n",
              " ('palace', ['0', '1']),\n",
              " ('paintings', ['0', '1']),\n",
              " ('sheep', ['0', '1']),\n",
              " ('valley', ['0', '1']),\n",
              " ('balcony', ['0', '1']),\n",
              " ('post', ['0', '1']),\n",
              " ('gate', ['0', '1']),\n",
              " ('plaza', ['0', '1']),\n",
              " ('festival', ['0', '1']),\n",
              " ('temple', ['0', '1']),\n",
              " ('sculpture', ['0', '1']),\n",
              " ('museum', ['0', '1']),\n",
              " ('hotel', ['0', '1']),\n",
              " ('art', ['0', '1']),\n",
              " ('fountain', ['0', '1']),\n",
              " ('market', ['0', '1']),\n",
              " ('door', ['0', '1']),\n",
              " ('mural', ['0', '1']),\n",
              " ('garden', ['0', '1']),\n",
              " ('star', ['0', '1']),\n",
              " ('butterfly', ['0', '1']),\n",
              " ('angelfish', ['0', '1']),\n",
              " ('lion', ['0', '1']),\n",
              " ('cave', ['0', '1']),\n",
              " ('crab', ['0', '1']),\n",
              " ('grouper', ['0', '1']),\n",
              " ('pagoda', ['0', '1']),\n",
              " ('buddha', ['0', '1']),\n",
              " ('decoration', ['0', '1']),\n",
              " ('monastery', ['0', '1']),\n",
              " ('landscape', ['0', '1']),\n",
              " ('detail', ['0', '1']),\n",
              " ('writing', ['0', '1']),\n",
              " ('sails', ['0', '1']),\n",
              " ('food', ['0', '1']),\n",
              " ('room', ['0', '1']),\n",
              " ('entrance', ['0', '1']),\n",
              " ('fruit', ['0', '1']),\n",
              " ('night', ['0', '1']),\n",
              " ('perch', ['0', '1']),\n",
              " ('cow', ['0', '1']),\n",
              " ('figures', ['0', '1']),\n",
              " ('facade', ['0', '1']),\n",
              " ('chairs', ['0', '1']),\n",
              " ('guard', ['0', '1']),\n",
              " ('pond', ['0', '1']),\n",
              " ('church', ['0', '1']),\n",
              " ('park', ['0', '1']),\n",
              " ('barn', ['0', '1']),\n",
              " ('arch', ['0', '1']),\n",
              " ('hats', ['0', '1']),\n",
              " ('cathedral', ['0', '1']),\n",
              " ('ceremony', ['0', '1']),\n",
              " ('crowd', ['0', '1']),\n",
              " ('glass', ['0', '1']),\n",
              " ('shrine', ['0', '1']),\n",
              " ('model', ['0', '1']),\n",
              " ('pillar', ['0', '1']),\n",
              " ('carpet', ['0', '1']),\n",
              " ('monument', ['0', '1']),\n",
              " ('floor', ['0', '1']),\n",
              " ('vines', ['0', '1']),\n",
              " ('cottage', ['0', '1']),\n",
              " ('poppies', ['0', '1']),\n",
              " ('lawn', ['0', '1']),\n",
              " ('tower', ['0', '1']),\n",
              " ('vegetables', ['0', '1']),\n",
              " ('bench', ['0', '1']),\n",
              " ('rose', ['0', '1']),\n",
              " ('tulip', ['0', '1']),\n",
              " ('canal', ['0', '1']),\n",
              " ('cheese', ['0', '1']),\n",
              " ('railing', ['0', '1']),\n",
              " ('dock', ['0', '1']),\n",
              " ('horses', ['0', '1']),\n",
              " ('petals', ['0', '1']),\n",
              " ('umbrella', ['0', '1']),\n",
              " ('column', ['0', '1']),\n",
              " ('waterfalls', ['0', '1']),\n",
              " ('elephant', ['0', '1']),\n",
              " ('monks', ['0', '1']),\n",
              " ('pattern', ['0', '1']),\n",
              " ('interior', ['0', '1']),\n",
              " ('vendor', ['0', '1']),\n",
              " ('silhouette', ['0', '1']),\n",
              " ('architecture', ['0', '1']),\n",
              " ('blossoms', ['0', '1']),\n",
              " ('athlete', ['0', '1']),\n",
              " ('parade', ['0', '1']),\n",
              " ('ladder', ['0', '1']),\n",
              " ('sidewalk', ['0', '1']),\n",
              " ('store', ['0', '1']),\n",
              " ('steps', ['0', '1']),\n",
              " ('relief', ['0', '1']),\n",
              " ('fog', ['0', '1']),\n",
              " ('frost', ['0', '1']),\n",
              " ('frozen', ['0', '1']),\n",
              " ('rapids', ['0', '1']),\n",
              " ('crystals', ['0', '1']),\n",
              " ('spider', ['0', '1']),\n",
              " ('needles', ['0', '1']),\n",
              " ('stick', ['0', '1']),\n",
              " ('mist', ['0', '1']),\n",
              " ('doorway', ['0', '1']),\n",
              " ('vineyard', ['0', '1']),\n",
              " ('pottery', ['0', '1']),\n",
              " ('pots', ['0', '1']),\n",
              " ('military', ['0', '1']),\n",
              " ('designs', ['0', '1']),\n",
              " ('mushrooms', ['0', '1']),\n",
              " ('terrace', ['0', '1']),\n",
              " ('tent', ['0', '1']),\n",
              " ('bulls', ['0', '1']),\n",
              " ('giant', ['0', '1']),\n",
              " ('tortoise', ['0', '1']),\n",
              " ('wings', ['0', '1']),\n",
              " ('albatross', ['0', '1']),\n",
              " ('booby', ['0', '1']),\n",
              " ('nest', ['0', '1']),\n",
              " ('hawk', ['0', '1']),\n",
              " ('iguana', ['0', '1']),\n",
              " ('lizard', ['0', '1']),\n",
              " ('marine', ['0', '1']),\n",
              " ('penguin', ['0', '1']),\n",
              " ('deer', ['0', '1']),\n",
              " ('white-tailed', ['0', '1']),\n",
              " ('horns', ['0', '1']),\n",
              " ('slope', ['0', '1']),\n",
              " ('mule', ['0', '1']),\n",
              " ('fawn', ['0', '1']),\n",
              " ('antlers', ['0', '1']),\n",
              " ('elk', ['0', '1']),\n",
              " ('caribou', ['0', '1']),\n",
              " ('herd', ['0', '1']),\n",
              " ('moose', ['0', '1']),\n",
              " ('clearing', ['0', '1']),\n",
              " ('mare', ['0', '1']),\n",
              " ('foals', ['0', '1']),\n",
              " ('orchid', ['0', '1']),\n",
              " ('lily', ['0', '1']),\n",
              " ('stems', ['0', '1']),\n",
              " ('row', ['0', '1']),\n",
              " ('chrysanthemums', ['0', '1']),\n",
              " ('blooms', ['0', '1']),\n",
              " ('cactus', ['0', '1']),\n",
              " ('saguaro', ['0', '1']),\n",
              " ('giraffe', ['0', '1']),\n",
              " ('zebra', ['0', '1']),\n",
              " ('tusks', ['0', '1']),\n",
              " ('hands', ['0', '1']),\n",
              " ('train', ['0', '1']),\n",
              " ('desert', ['0', '1']),\n",
              " ('dunes', ['0', '1']),\n",
              " ('canyon', ['0', '1']),\n",
              " ('lighthouse', ['0', '1']),\n",
              " ('mast', ['0', '1']),\n",
              " ('seals', ['0', '1']),\n",
              " ('texture', ['0', '1']),\n",
              " ('dust', ['0', '1']),\n",
              " ('pepper', ['0', '1']),\n",
              " ('swimmers', ['0', '1']),\n",
              " ('pyramid', ['0', '1']),\n",
              " ('mosque', ['0', '1']),\n",
              " ('sphinx', ['0', '1']),\n",
              " ('truck', ['0', '1']),\n",
              " ('fly', ['0', '1']),\n",
              " ('trunk', ['0', '1']),\n",
              " ('baby', ['0', '1']),\n",
              " ('eagle', ['0', '1']),\n",
              " ('lynx', ['0', '1']),\n",
              " ('rodent', ['0', '1']),\n",
              " ('squirrel', ['0', '1']),\n",
              " ('goat', ['0', '1']),\n",
              " ('marsh', ['0', '1']),\n",
              " ('wolf', ['0', '1']),\n",
              " ('pack', ['0', '1']),\n",
              " ('dall', ['0', '1']),\n",
              " ('porcupine', ['0', '1']),\n",
              " ('whales', ['0', '1']),\n",
              " ('rabbit', ['0', '1']),\n",
              " ('tracks', ['0', '1']),\n",
              " ('crops', ['0', '1']),\n",
              " ('animals', ['0', '1']),\n",
              " ('moss', ['0', '1']),\n",
              " ('trail', ['0', '1']),\n",
              " ('locomotive', ['0', '1']),\n",
              " ('railroad', ['0', '1']),\n",
              " ('vehicle', ['0', '1']),\n",
              " ('aerial', ['0', '1']),\n",
              " ('range', ['0', '1']),\n",
              " ('insect', ['0', '1']),\n",
              " ('man', ['0', '1']),\n",
              " ('woman', ['0', '1']),\n",
              " ('rice', ['0', '1']),\n",
              " ('prayer', ['0', '1']),\n",
              " ('glacier', ['0', '1']),\n",
              " ('harvest', ['0', '1']),\n",
              " ('girl', ['0', '1']),\n",
              " ('indian', ['0', '1']),\n",
              " ('pole', ['0', '1']),\n",
              " ('dance', ['0', '1']),\n",
              " ('african', ['0', '1']),\n",
              " ('shirt', ['0', '1']),\n",
              " ('buddhist', ['0', '1']),\n",
              " ('tomb', ['0', '1']),\n",
              " ('outside', ['0', '1']),\n",
              " ('shade', ['0', '1']),\n",
              " ('formula', ['0', '1']),\n",
              " ('turn', ['0', '1']),\n",
              " ('straightaway', ['0', '1']),\n",
              " ('prototype', ['0', '1']),\n",
              " ('steel', ['0', '1']),\n",
              " ('scotland', ['0', '1']),\n",
              " ('ceiling', ['0', '1']),\n",
              " ('furniture', ['0', '1']),\n",
              " ('lichen', ['0', '1']),\n",
              " ('pups', ['0', '1']),\n",
              " ('antelope', ['0', '1']),\n",
              " ('pebbles', ['0', '1']),\n",
              " ('remains', ['0', '1']),\n",
              " ('leopard', ['0', '1']),\n",
              " ('jeep', ['0', '1']),\n",
              " ('calf', ['0', '1']),\n",
              " ('reptile', ['0', '1']),\n",
              " ('snake', ['0', '1']),\n",
              " ('cougar', ['0', '1']),\n",
              " ('oahu', ['0', '1']),\n",
              " ('kauai', ['0', '1']),\n",
              " ('maui', ['0', '1']),\n",
              " ('school', ['0', '1']),\n",
              " ('canoe', ['0', '1']),\n",
              " ('race', ['0', '1']),\n",
              " ('hawaii', ['0', '1'])]"
            ]
          },
          "metadata": {},
          "execution_count": 26
        }
      ]
    },
    {
      "cell_type": "code",
      "source": [
        "#bibtex, dataset diferentes labels sobre referencias topicos, web, simulaciones, estructuras, etc"
      ],
      "metadata": {
        "id": "807jHp4MeFTT"
      },
      "execution_count": null,
      "outputs": []
    },
    {
      "cell_type": "code",
      "source": [
        "X_train, y_train, feature_names, label_names = load_dataset('bibtex', 'train')\n",
        "X_test, y_test, _, _ = load_dataset('bibtex', 'test')"
      ],
      "metadata": {
        "id": "uYHgn2jneFTW",
        "colab": {
          "base_uri": "https://localhost:8080/"
        },
        "outputId": "65e35ab3-2f23-4513-848d-de3680a7affa"
      },
      "execution_count": null,
      "outputs": [
        {
          "output_type": "stream",
          "name": "stdout",
          "text": [
            "bibtex:train - exists, not redownloading\n",
            "bibtex:test - exists, not redownloading\n"
          ]
        }
      ]
    },
    {
      "cell_type": "code",
      "source": [
        "feature_names[:10]"
      ],
      "metadata": {
        "id": "-YLM7K1ZeFTa",
        "colab": {
          "base_uri": "https://localhost:8080/"
        },
        "outputId": "d2f18cb3-f721-489f-f272-14f8b0c772d2"
      },
      "execution_count": null,
      "outputs": [
        {
          "output_type": "execute_result",
          "data": {
            "text/plain": [
              "[('0', ['0', '1']),\n",
              " ('000', ['0', '1']),\n",
              " ('02', ['0', '1']),\n",
              " ('05', ['0', '1']),\n",
              " ('06', ['0', '1']),\n",
              " ('1', ['0', '1']),\n",
              " ('10', ['0', '1']),\n",
              " ('100', ['0', '1']),\n",
              " ('11', ['0', '1']),\n",
              " ('12', ['0', '1'])]"
            ]
          },
          "metadata": {},
          "execution_count": 30
        }
      ]
    },
    {
      "cell_type": "code",
      "source": [
        "label_names"
      ],
      "metadata": {
        "id": "Z9oyGj0-eFTd",
        "colab": {
          "base_uri": "https://localhost:8080/"
        },
        "outputId": "9b567c4e-d371-4b7e-f21b-5f347e8e4f06"
      },
      "execution_count": null,
      "outputs": [
        {
          "output_type": "execute_result",
          "data": {
            "text/plain": [
              "[('TAG_2005', ['0', '1']),\n",
              " ('TAG_2006', ['0', '1']),\n",
              " ('TAG_2007', ['0', '1']),\n",
              " ('TAG_agdetection', ['0', '1']),\n",
              " ('TAG_algorithms', ['0', '1']),\n",
              " ('TAG_amperometry', ['0', '1']),\n",
              " ('TAG_analysis', ['0', '1']),\n",
              " ('TAG_and', ['0', '1']),\n",
              " ('TAG_annotation', ['0', '1']),\n",
              " ('TAG_antibody', ['0', '1']),\n",
              " ('TAG_apob', ['0', '1']),\n",
              " ('TAG_architecture', ['0', '1']),\n",
              " ('TAG_article', ['0', '1']),\n",
              " ('TAG_bettasplendens', ['0', '1']),\n",
              " ('TAG_bibteximport', ['0', '1']),\n",
              " ('TAG_book', ['0', '1']),\n",
              " ('TAG_children', ['0', '1']),\n",
              " ('TAG_classification', ['0', '1']),\n",
              " ('TAG_clustering', ['0', '1']),\n",
              " ('TAG_cognition', ['0', '1']),\n",
              " ('TAG_collaboration', ['0', '1']),\n",
              " ('TAG_collaborative', ['0', '1']),\n",
              " ('TAG_community', ['0', '1']),\n",
              " ('TAG_competition', ['0', '1']),\n",
              " ('TAG_complex', ['0', '1']),\n",
              " ('TAG_complexity', ['0', '1']),\n",
              " ('TAG_compounds', ['0', '1']),\n",
              " ('TAG_computer', ['0', '1']),\n",
              " ('TAG_computing', ['0', '1']),\n",
              " ('TAG_concept', ['0', '1']),\n",
              " ('TAG_context', ['0', '1']),\n",
              " ('TAG_cortex', ['0', '1']),\n",
              " ('TAG_critical', ['0', '1']),\n",
              " ('TAG_data', ['0', '1']),\n",
              " ('TAG_datamining', ['0', '1']),\n",
              " ('TAG_date', ['0', '1']),\n",
              " ('TAG_design', ['0', '1']),\n",
              " ('TAG_development', ['0', '1']),\n",
              " ('TAG_diffusion', ['0', '1']),\n",
              " ('TAG_diplomathesis', ['0', '1']),\n",
              " ('TAG_disability', ['0', '1']),\n",
              " ('TAG_dynamics', ['0', '1']),\n",
              " ('TAG_education', ['0', '1']),\n",
              " ('TAG_elearning', ['0', '1']),\n",
              " ('TAG_electrochemistry', ['0', '1']),\n",
              " ('TAG_elisa', ['0', '1']),\n",
              " ('TAG_empirical', ['0', '1']),\n",
              " ('TAG_energy', ['0', '1']),\n",
              " ('TAG_engineering', ['0', '1']),\n",
              " ('TAG_epitope', ['0', '1']),\n",
              " ('TAG_equation', ['0', '1']),\n",
              " ('TAG_evaluation', ['0', '1']),\n",
              " ('TAG_evolution', ['0', '1']),\n",
              " ('TAG_fca', ['0', '1']),\n",
              " ('TAG_folksonomy', ['0', '1']),\n",
              " ('TAG_formal', ['0', '1']),\n",
              " ('TAG_fornepomuk', ['0', '1']),\n",
              " ('TAG_games', ['0', '1']),\n",
              " ('TAG_granular', ['0', '1']),\n",
              " ('TAG_graph', ['0', '1']),\n",
              " ('TAG_hci', ['0', '1']),\n",
              " ('TAG_homogeneous', ['0', '1']),\n",
              " ('TAG_imaging', ['0', '1']),\n",
              " ('TAG_immunoassay', ['0', '1']),\n",
              " ('TAG_immunoelectrode', ['0', '1']),\n",
              " ('TAG_immunosensor', ['0', '1']),\n",
              " ('TAG_information', ['0', '1']),\n",
              " ('TAG_informationretrieval', ['0', '1']),\n",
              " ('TAG_kaldesignresearch', ['0', '1']),\n",
              " ('TAG_kinetic', ['0', '1']),\n",
              " ('TAG_knowledge', ['0', '1']),\n",
              " ('TAG_knowledgemanagement', ['0', '1']),\n",
              " ('TAG_langen', ['0', '1']),\n",
              " ('TAG_language', ['0', '1']),\n",
              " ('TAG_ldl', ['0', '1']),\n",
              " ('TAG_learning', ['0', '1']),\n",
              " ('TAG_liposome', ['0', '1']),\n",
              " ('TAG_litreview', ['0', '1']),\n",
              " ('TAG_logic', ['0', '1']),\n",
              " ('TAG_maintenance', ['0', '1']),\n",
              " ('TAG_management', ['0', '1']),\n",
              " ('TAG_mapping', ['0', '1']),\n",
              " ('TAG_marotzkiwinfried', ['0', '1']),\n",
              " ('TAG_mathematics', ['0', '1']),\n",
              " ('TAG_mathgamespatterns', ['0', '1']),\n",
              " ('TAG_methodology', ['0', '1']),\n",
              " ('TAG_metrics', ['0', '1']),\n",
              " ('TAG_mining', ['0', '1']),\n",
              " ('TAG_model', ['0', '1']),\n",
              " ('TAG_modeling', ['0', '1']),\n",
              " ('TAG_models', ['0', '1']),\n",
              " ('TAG_molecular', ['0', '1']),\n",
              " ('TAG_montecarlo', ['0', '1']),\n",
              " ('TAG_myown', ['0', '1']),\n",
              " ('TAG_narrative', ['0', '1']),\n",
              " ('TAG_nepomuk', ['0', '1']),\n",
              " ('TAG_network', ['0', '1']),\n",
              " ('TAG_networks', ['0', '1']),\n",
              " ('TAG_nlp', ['0', '1']),\n",
              " ('TAG_nonequilibrium', ['0', '1']),\n",
              " ('TAG_notag', ['0', '1']),\n",
              " ('TAG_objectoriented', ['0', '1']),\n",
              " ('TAG_of', ['0', '1']),\n",
              " ('TAG_ontologies', ['0', '1']),\n",
              " ('TAG_ontology', ['0', '1']),\n",
              " ('TAG_pattern', ['0', '1']),\n",
              " ('TAG_patterns', ['0', '1']),\n",
              " ('TAG_phase', ['0', '1']),\n",
              " ('TAG_physics', ['0', '1']),\n",
              " ('TAG_process', ['0', '1']),\n",
              " ('TAG_programming', ['0', '1']),\n",
              " ('TAG_prolearn', ['0', '1']),\n",
              " ('TAG_psycholinguistics', ['0', '1']),\n",
              " ('TAG_quantum', ['0', '1']),\n",
              " ('TAG_random', ['0', '1']),\n",
              " ('TAG_rdf', ['0', '1']),\n",
              " ('TAG_representation', ['0', '1']),\n",
              " ('TAG_requirements', ['0', '1']),\n",
              " ('TAG_research', ['0', '1']),\n",
              " ('TAG_review', ['0', '1']),\n",
              " ('TAG_science', ['0', '1']),\n",
              " ('TAG_search', ['0', '1']),\n",
              " ('TAG_semantic', ['0', '1']),\n",
              " ('TAG_semantics', ['0', '1']),\n",
              " ('TAG_semanticweb', ['0', '1']),\n",
              " ('TAG_sequence', ['0', '1']),\n",
              " ('TAG_simulation', ['0', '1']),\n",
              " ('TAG_simulations', ['0', '1']),\n",
              " ('TAG_sna', ['0', '1']),\n",
              " ('TAG_social', ['0', '1']),\n",
              " ('TAG_socialnets', ['0', '1']),\n",
              " ('TAG_software', ['0', '1']),\n",
              " ('TAG_spin', ['0', '1']),\n",
              " ('TAG_statistics', ['0', '1']),\n",
              " ('TAG_statphys23', ['0', '1']),\n",
              " ('TAG_structure', ['0', '1']),\n",
              " ('TAG_survey', ['0', '1']),\n",
              " ('TAG_system', ['0', '1']),\n",
              " ('TAG_systems', ['0', '1']),\n",
              " ('TAG_tagging', ['0', '1']),\n",
              " ('TAG_technology', ['0', '1']),\n",
              " ('TAG_theory', ['0', '1']),\n",
              " ('TAG_topic1', ['0', '1']),\n",
              " ('TAG_topic10', ['0', '1']),\n",
              " ('TAG_topic11', ['0', '1']),\n",
              " ('TAG_topic2', ['0', '1']),\n",
              " ('TAG_topic3', ['0', '1']),\n",
              " ('TAG_topic4', ['0', '1']),\n",
              " ('TAG_topic6', ['0', '1']),\n",
              " ('TAG_topic7', ['0', '1']),\n",
              " ('TAG_topic8', ['0', '1']),\n",
              " ('TAG_topic9', ['0', '1']),\n",
              " ('TAG_toread', ['0', '1']),\n",
              " ('TAG_transition', ['0', '1']),\n",
              " ('TAG_visual', ['0', '1']),\n",
              " ('TAG_visualization', ['0', '1']),\n",
              " ('TAG_web', ['0', '1']),\n",
              " ('TAG_web20', ['0', '1']),\n",
              " ('TAG_wiki', ['0', '1'])]"
            ]
          },
          "metadata": {},
          "execution_count": 29
        }
      ]
    },
    {
      "cell_type": "code",
      "source": [
        "#enron, dataset diferentes labels sobre codificaciones como A.A8, C.C9, D.D1"
      ],
      "metadata": {
        "id": "OSI9NGmbegrO"
      },
      "execution_count": null,
      "outputs": []
    },
    {
      "cell_type": "code",
      "source": [
        "X_train, y_train, feature_names, label_names = load_dataset('enron', 'train')\n",
        "X_test, y_test, _, _ = load_dataset('enron', 'test')"
      ],
      "metadata": {
        "id": "CCecoQtUegrR",
        "colab": {
          "base_uri": "https://localhost:8080/"
        },
        "outputId": "e5f10ca3-625d-43d7-f224-2141d541daab"
      },
      "execution_count": null,
      "outputs": [
        {
          "output_type": "stream",
          "name": "stdout",
          "text": [
            "enron:train - exists, not redownloading\n",
            "enron:test - exists, not redownloading\n"
          ]
        }
      ]
    },
    {
      "cell_type": "code",
      "source": [
        "feature_names[:10]"
      ],
      "metadata": {
        "id": "WkdGmeN6egrU",
        "colab": {
          "base_uri": "https://localhost:8080/"
        },
        "outputId": "b47fb89c-aa7c-439a-bc97-4e811ca48650"
      },
      "execution_count": null,
      "outputs": [
        {
          "output_type": "execute_result",
          "data": {
            "text/plain": [
              "[('0', ['0', '1']),\n",
              " ('00', ['0', '1']),\n",
              " ('000', ['0', '1']),\n",
              " ('01', ['0', '1']),\n",
              " ('02', ['0', '1']),\n",
              " ('03', ['0', '1']),\n",
              " ('04', ['0', '1']),\n",
              " ('05', ['0', '1']),\n",
              " ('06', ['0', '1']),\n",
              " ('07', ['0', '1'])]"
            ]
          },
          "metadata": {},
          "execution_count": 33
        }
      ]
    },
    {
      "cell_type": "code",
      "source": [
        "label_names"
      ],
      "metadata": {
        "id": "V_5cXRAHegrX",
        "colab": {
          "base_uri": "https://localhost:8080/"
        },
        "outputId": "2f65a1ad-9c03-4ec1-b8af-be22ddf9b166"
      },
      "execution_count": null,
      "outputs": [
        {
          "output_type": "execute_result",
          "data": {
            "text/plain": [
              "[('A.A8', ['0', '1']),\n",
              " ('C.C9', ['0', '1']),\n",
              " ('B.B12', ['0', '1']),\n",
              " ('C.C11', ['0', '1']),\n",
              " ('C.C5', ['0', '1']),\n",
              " ('C.C7', ['0', '1']),\n",
              " ('B.B2', ['0', '1']),\n",
              " ('B.B3', ['0', '1']),\n",
              " ('D.D16', ['0', '1']),\n",
              " ('A.A7', ['0', '1']),\n",
              " ('D.D1', ['0', '1']),\n",
              " ('A.A4', ['0', '1']),\n",
              " ('C.C2', ['0', '1']),\n",
              " ('A.A3', ['0', '1']),\n",
              " ('A.A1', ['0', '1']),\n",
              " ('D.D9', ['0', '1']),\n",
              " ('D.D19', ['0', '1']),\n",
              " ('B.B8', ['0', '1']),\n",
              " ('D.D12', ['0', '1']),\n",
              " ('D.D6', ['0', '1']),\n",
              " ('C.C8', ['0', '1']),\n",
              " ('A.A6', ['0', '1']),\n",
              " ('B.B9', ['0', '1']),\n",
              " ('A.A5', ['0', '1']),\n",
              " ('C.C10', ['0', '1']),\n",
              " ('B.B1', ['0', '1']),\n",
              " ('D.D5', ['0', '1']),\n",
              " ('B.B11', ['0', '1']),\n",
              " ('D.D2', ['0', '1']),\n",
              " ('B.B4', ['0', '1']),\n",
              " ('D.D15', ['0', '1']),\n",
              " ('C.C4', ['0', '1']),\n",
              " ('D.D8', ['0', '1']),\n",
              " ('B.B6', ['0', '1']),\n",
              " ('D.D3', ['0', '1']),\n",
              " ('D.D13', ['0', '1']),\n",
              " ('D.D7', ['0', '1']),\n",
              " ('C.C12', ['0', '1']),\n",
              " ('B.B7', ['0', '1']),\n",
              " ('C.C6', ['0', '1']),\n",
              " ('B.B5', ['0', '1']),\n",
              " ('D.D11', ['0', '1']),\n",
              " ('A.A2', ['0', '1']),\n",
              " ('C.C3', ['0', '1']),\n",
              " ('D.D10', ['0', '1']),\n",
              " ('D.D18', ['0', '1']),\n",
              " ('B.B13', ['0', '1']),\n",
              " ('D.D17', ['0', '1']),\n",
              " ('B.B10', ['0', '1']),\n",
              " ('C.C1', ['0', '1']),\n",
              " ('D.D4', ['0', '1']),\n",
              " ('C.C13', ['0', '1']),\n",
              " ('D.D14', ['0', '1'])]"
            ]
          },
          "metadata": {},
          "execution_count": 34
        }
      ]
    },
    {
      "cell_type": "code",
      "source": [
        "#rcv1subset5, dataset con diferentes labels desde clase 1 hasta clase 101"
      ],
      "metadata": {
        "id": "Nv-8qesOfAnT"
      },
      "execution_count": null,
      "outputs": []
    },
    {
      "cell_type": "code",
      "source": [
        "X_train, y_train, feature_names, label_names = load_dataset('rcv1subset5', 'train')\n",
        "X_test, y_test, _, _ = load_dataset('rcv1subset5', 'test')"
      ],
      "metadata": {
        "id": "jiWQ_60cfAnY",
        "colab": {
          "base_uri": "https://localhost:8080/"
        },
        "outputId": "9aa161d8-37ab-43e0-aaec-950b31d13a51"
      },
      "execution_count": null,
      "outputs": [
        {
          "output_type": "stream",
          "name": "stdout",
          "text": [
            "rcv1subset5:train - exists, not redownloading\n",
            "rcv1subset5:test - exists, not redownloading\n"
          ]
        }
      ]
    },
    {
      "cell_type": "code",
      "source": [
        "feature_names[:10]"
      ],
      "metadata": {
        "id": "dRFOAye8fAnc",
        "colab": {
          "base_uri": "https://localhost:8080/"
        },
        "outputId": "a91c6b9a-08f4-4e84-9e34-2d430a8f6599"
      },
      "execution_count": null,
      "outputs": [
        {
          "output_type": "execute_result",
          "data": {
            "text/plain": [
              "[('Att1', 'NUMERIC'),\n",
              " ('Att2', 'NUMERIC'),\n",
              " ('Att3', 'NUMERIC'),\n",
              " ('Att4', 'NUMERIC'),\n",
              " ('Att5', 'NUMERIC'),\n",
              " ('Att6', 'NUMERIC'),\n",
              " ('Att7', 'NUMERIC'),\n",
              " ('Att8', 'NUMERIC'),\n",
              " ('Att9', 'NUMERIC'),\n",
              " ('Att10', 'NUMERIC')]"
            ]
          },
          "metadata": {},
          "execution_count": 37
        }
      ]
    },
    {
      "cell_type": "code",
      "source": [
        "label_names"
      ],
      "metadata": {
        "id": "-q8HilZPfAnd",
        "colab": {
          "base_uri": "https://localhost:8080/"
        },
        "outputId": "f21c611d-eddb-42ac-c6c0-f6ef72870499"
      },
      "execution_count": null,
      "outputs": [
        {
          "output_type": "execute_result",
          "data": {
            "text/plain": [
              "[('Class1', ['0', '1']),\n",
              " ('Class2', ['0', '1']),\n",
              " ('Class3', ['0', '1']),\n",
              " ('Class4', ['0', '1']),\n",
              " ('Class5', ['0', '1']),\n",
              " ('Class6', ['0', '1']),\n",
              " ('Class7', ['0', '1']),\n",
              " ('Class8', ['0', '1']),\n",
              " ('Class9', ['0', '1']),\n",
              " ('Class10', ['0', '1']),\n",
              " ('Class11', ['0', '1']),\n",
              " ('Class12', ['0', '1']),\n",
              " ('Class13', ['0', '1']),\n",
              " ('Class14', ['0', '1']),\n",
              " ('Class15', ['0', '1']),\n",
              " ('Class16', ['0', '1']),\n",
              " ('Class17', ['0', '1']),\n",
              " ('Class18', ['0', '1']),\n",
              " ('Class19', ['0', '1']),\n",
              " ('Class20', ['0', '1']),\n",
              " ('Class21', ['0', '1']),\n",
              " ('Class22', ['0', '1']),\n",
              " ('Class23', ['0', '1']),\n",
              " ('Class24', ['0', '1']),\n",
              " ('Class25', ['0', '1']),\n",
              " ('Class26', ['0', '1']),\n",
              " ('Class27', ['0', '1']),\n",
              " ('Class28', ['0', '1']),\n",
              " ('Class29', ['0', '1']),\n",
              " ('Class30', ['0', '1']),\n",
              " ('Class31', ['0', '1']),\n",
              " ('Class32', ['0', '1']),\n",
              " ('Class33', ['0', '1']),\n",
              " ('Class34', ['0', '1']),\n",
              " ('Class35', ['0', '1']),\n",
              " ('Class36', ['0', '1']),\n",
              " ('Class37', ['0', '1']),\n",
              " ('Class38', ['0', '1']),\n",
              " ('Class39', ['0', '1']),\n",
              " ('Class40', ['0', '1']),\n",
              " ('Class41', ['0', '1']),\n",
              " ('Class42', ['0', '1']),\n",
              " ('Class43', ['0', '1']),\n",
              " ('Class44', ['0', '1']),\n",
              " ('Class45', ['0', '1']),\n",
              " ('Class46', ['0', '1']),\n",
              " ('Class47', ['0', '1']),\n",
              " ('Class48', ['0', '1']),\n",
              " ('Class49', ['0', '1']),\n",
              " ('Class50', ['0', '1']),\n",
              " ('Class51', ['0', '1']),\n",
              " ('Class52', ['0', '1']),\n",
              " ('Class53', ['0', '1']),\n",
              " ('Class54', ['0', '1']),\n",
              " ('Class55', ['0', '1']),\n",
              " ('Class56', ['0', '1']),\n",
              " ('Class57', ['0', '1']),\n",
              " ('Class58', ['0', '1']),\n",
              " ('Class59', ['0', '1']),\n",
              " ('Class60', ['0', '1']),\n",
              " ('Class61', ['0', '1']),\n",
              " ('Class62', ['0', '1']),\n",
              " ('Class63', ['0', '1']),\n",
              " ('Class64', ['0', '1']),\n",
              " ('Class65', ['0', '1']),\n",
              " ('Class66', ['0', '1']),\n",
              " ('Class67', ['0', '1']),\n",
              " ('Class68', ['0', '1']),\n",
              " ('Class69', ['0', '1']),\n",
              " ('Class70', ['0', '1']),\n",
              " ('Class71', ['0', '1']),\n",
              " ('Class72', ['0', '1']),\n",
              " ('Class73', ['0', '1']),\n",
              " ('Class74', ['0', '1']),\n",
              " ('Class75', ['0', '1']),\n",
              " ('Class76', ['0', '1']),\n",
              " ('Class77', ['0', '1']),\n",
              " ('Class78', ['0', '1']),\n",
              " ('Class79', ['0', '1']),\n",
              " ('Class80', ['0', '1']),\n",
              " ('Class81', ['0', '1']),\n",
              " ('Class82', ['0', '1']),\n",
              " ('Class83', ['0', '1']),\n",
              " ('Class84', ['0', '1']),\n",
              " ('Class85', ['0', '1']),\n",
              " ('Class86', ['0', '1']),\n",
              " ('Class87', ['0', '1']),\n",
              " ('Class88', ['0', '1']),\n",
              " ('Class89', ['0', '1']),\n",
              " ('Class90', ['0', '1']),\n",
              " ('Class91', ['0', '1']),\n",
              " ('Class92', ['0', '1']),\n",
              " ('Class93', ['0', '1']),\n",
              " ('Class94', ['0', '1']),\n",
              " ('Class95', ['0', '1']),\n",
              " ('Class96', ['0', '1']),\n",
              " ('Class97', ['0', '1']),\n",
              " ('Class98', ['0', '1']),\n",
              " ('Class99', ['0', '1']),\n",
              " ('Class100', ['0', '1']),\n",
              " ('Class101', ['0', '1'])]"
            ]
          },
          "metadata": {},
          "execution_count": 38
        }
      ]
    },
    {
      "cell_type": "code",
      "source": [
        "#tmc2007_500, dataset con diferentes labels desde clase 1 hasta clase 22"
      ],
      "metadata": {
        "id": "kisABfYXfjfr"
      },
      "execution_count": null,
      "outputs": []
    },
    {
      "cell_type": "code",
      "source": [
        "X_train, y_train, feature_names, label_names = load_dataset('tmc2007_500', 'train')\n",
        "X_test, y_test, _, _ = load_dataset('tmc2007_500', 'test')"
      ],
      "metadata": {
        "colab": {
          "base_uri": "https://localhost:8080/"
        },
        "id": "NyUVuOYjfjfw",
        "outputId": "178f9fb3-e713-4c5d-e07f-a9080efbd551"
      },
      "execution_count": null,
      "outputs": [
        {
          "output_type": "stream",
          "name": "stdout",
          "text": [
            "tmc2007_500:train - exists, not redownloading\n",
            "tmc2007_500:test - exists, not redownloading\n"
          ]
        }
      ]
    },
    {
      "cell_type": "code",
      "source": [
        "feature_names[:10]"
      ],
      "metadata": {
        "id": "ljNLgN7ofjfz",
        "colab": {
          "base_uri": "https://localhost:8080/"
        },
        "outputId": "eab8ab40-52c7-4265-c20e-e1ac8d4bb7ae"
      },
      "execution_count": null,
      "outputs": [
        {
          "output_type": "execute_result",
          "data": {
            "text/plain": [
              "[('abort', ['0', '1']),\n",
              " ('abortedtakeoff', ['0', '1']),\n",
              " ('above', ['0', '1']),\n",
              " ('abuse', ['0', '1']),\n",
              " ('abusive', ['0', '1']),\n",
              " ('accomplish', ['0', '1']),\n",
              " ('acquire', ['0', '1']),\n",
              " ('acrid', ['0', '1']),\n",
              " ('across', ['0', '1']),\n",
              " ('activerunway', ['0', '1'])]"
            ]
          },
          "metadata": {},
          "execution_count": 40
        }
      ]
    },
    {
      "cell_type": "code",
      "source": [
        "label_names"
      ],
      "metadata": {
        "id": "wKKa87Sxfjf1",
        "colab": {
          "base_uri": "https://localhost:8080/"
        },
        "outputId": "2d241656-7a84-465d-8bca-625b1fabb81a"
      },
      "execution_count": null,
      "outputs": [
        {
          "output_type": "execute_result",
          "data": {
            "text/plain": [
              "[('class01', ['0', '1']),\n",
              " ('class02', ['0', '1']),\n",
              " ('class03', ['0', '1']),\n",
              " ('class04', ['0', '1']),\n",
              " ('class05', ['0', '1']),\n",
              " ('class06', ['0', '1']),\n",
              " ('class07', ['0', '1']),\n",
              " ('class08', ['0', '1']),\n",
              " ('class09', ['0', '1']),\n",
              " ('class10', ['0', '1']),\n",
              " ('class11', ['0', '1']),\n",
              " ('class12', ['0', '1']),\n",
              " ('class13', ['0', '1']),\n",
              " ('class14', ['0', '1']),\n",
              " ('class15', ['0', '1']),\n",
              " ('class16', ['0', '1']),\n",
              " ('class17', ['0', '1']),\n",
              " ('class18', ['0', '1']),\n",
              " ('class19', ['0', '1']),\n",
              " ('class20', ['0', '1']),\n",
              " ('class21', ['0', '1']),\n",
              " ('class22', ['0', '1'])]"
            ]
          },
          "metadata": {},
          "execution_count": 42
        }
      ]
    },
    {
      "cell_type": "code",
      "source": [
        "#rcv1subset3, dataset con diferentes labels desde clase 1 hasta clase 101, similar a rcv1subset5 pero usando otros subconjunto"
      ],
      "metadata": {
        "id": "_0CANohDf0J1"
      },
      "execution_count": null,
      "outputs": []
    },
    {
      "cell_type": "code",
      "source": [
        "X_train, y_train, feature_names, label_names = load_dataset('rcv1subset3', 'train')\n",
        "X_test, y_test, _, _ = load_dataset('rcv1subset3', 'test')"
      ],
      "metadata": {
        "colab": {
          "base_uri": "https://localhost:8080/"
        },
        "outputId": "cfc896f7-511d-4ca0-cd06-38ce136f0611",
        "id": "WEKMnaUof0J5"
      },
      "execution_count": null,
      "outputs": [
        {
          "output_type": "stream",
          "name": "stdout",
          "text": [
            "rcv1subset3:train - exists, not redownloading\n",
            "rcv1subset3:test - exists, not redownloading\n"
          ]
        }
      ]
    },
    {
      "cell_type": "code",
      "source": [
        "feature_names[:10]"
      ],
      "metadata": {
        "id": "cDFfpHLof0J9",
        "colab": {
          "base_uri": "https://localhost:8080/"
        },
        "outputId": "c4036a9e-897b-4a95-a7d2-3003fef72e00"
      },
      "execution_count": null,
      "outputs": [
        {
          "output_type": "execute_result",
          "data": {
            "text/plain": [
              "[('Att1', 'NUMERIC'),\n",
              " ('Att2', 'NUMERIC'),\n",
              " ('Att3', 'NUMERIC'),\n",
              " ('Att4', 'NUMERIC'),\n",
              " ('Att5', 'NUMERIC'),\n",
              " ('Att6', 'NUMERIC'),\n",
              " ('Att7', 'NUMERIC'),\n",
              " ('Att8', 'NUMERIC'),\n",
              " ('Att9', 'NUMERIC'),\n",
              " ('Att10', 'NUMERIC')]"
            ]
          },
          "metadata": {},
          "execution_count": 45
        }
      ]
    },
    {
      "cell_type": "code",
      "source": [
        "label_names"
      ],
      "metadata": {
        "id": "M6L_VJ_cf0KC",
        "colab": {
          "base_uri": "https://localhost:8080/"
        },
        "outputId": "e17e717f-9ce0-456e-fbff-c1225ecaea29"
      },
      "execution_count": null,
      "outputs": [
        {
          "output_type": "execute_result",
          "data": {
            "text/plain": [
              "[('Class1', ['0', '1']),\n",
              " ('Class2', ['0', '1']),\n",
              " ('Class3', ['0', '1']),\n",
              " ('Class4', ['0', '1']),\n",
              " ('Class5', ['0', '1']),\n",
              " ('Class6', ['0', '1']),\n",
              " ('Class7', ['0', '1']),\n",
              " ('Class8', ['0', '1']),\n",
              " ('Class9', ['0', '1']),\n",
              " ('Class10', ['0', '1']),\n",
              " ('Class11', ['0', '1']),\n",
              " ('Class12', ['0', '1']),\n",
              " ('Class13', ['0', '1']),\n",
              " ('Class14', ['0', '1']),\n",
              " ('Class15', ['0', '1']),\n",
              " ('Class16', ['0', '1']),\n",
              " ('Class17', ['0', '1']),\n",
              " ('Class18', ['0', '1']),\n",
              " ('Class19', ['0', '1']),\n",
              " ('Class20', ['0', '1']),\n",
              " ('Class21', ['0', '1']),\n",
              " ('Class22', ['0', '1']),\n",
              " ('Class23', ['0', '1']),\n",
              " ('Class24', ['0', '1']),\n",
              " ('Class25', ['0', '1']),\n",
              " ('Class26', ['0', '1']),\n",
              " ('Class27', ['0', '1']),\n",
              " ('Class28', ['0', '1']),\n",
              " ('Class29', ['0', '1']),\n",
              " ('Class30', ['0', '1']),\n",
              " ('Class31', ['0', '1']),\n",
              " ('Class32', ['0', '1']),\n",
              " ('Class33', ['0', '1']),\n",
              " ('Class34', ['0', '1']),\n",
              " ('Class35', ['0', '1']),\n",
              " ('Class36', ['0', '1']),\n",
              " ('Class37', ['0', '1']),\n",
              " ('Class38', ['0', '1']),\n",
              " ('Class39', ['0', '1']),\n",
              " ('Class40', ['0', '1']),\n",
              " ('Class41', ['0', '1']),\n",
              " ('Class42', ['0', '1']),\n",
              " ('Class43', ['0', '1']),\n",
              " ('Class44', ['0', '1']),\n",
              " ('Class45', ['0', '1']),\n",
              " ('Class46', ['0', '1']),\n",
              " ('Class47', ['0', '1']),\n",
              " ('Class48', ['0', '1']),\n",
              " ('Class49', ['0', '1']),\n",
              " ('Class50', ['0', '1']),\n",
              " ('Class51', ['0', '1']),\n",
              " ('Class52', ['0', '1']),\n",
              " ('Class53', ['0', '1']),\n",
              " ('Class54', ['0', '1']),\n",
              " ('Class55', ['0', '1']),\n",
              " ('Class56', ['0', '1']),\n",
              " ('Class57', ['0', '1']),\n",
              " ('Class58', ['0', '1']),\n",
              " ('Class59', ['0', '1']),\n",
              " ('Class60', ['0', '1']),\n",
              " ('Class61', ['0', '1']),\n",
              " ('Class62', ['0', '1']),\n",
              " ('Class63', ['0', '1']),\n",
              " ('Class64', ['0', '1']),\n",
              " ('Class65', ['0', '1']),\n",
              " ('Class66', ['0', '1']),\n",
              " ('Class67', ['0', '1']),\n",
              " ('Class68', ['0', '1']),\n",
              " ('Class69', ['0', '1']),\n",
              " ('Class70', ['0', '1']),\n",
              " ('Class71', ['0', '1']),\n",
              " ('Class72', ['0', '1']),\n",
              " ('Class73', ['0', '1']),\n",
              " ('Class74', ['0', '1']),\n",
              " ('Class75', ['0', '1']),\n",
              " ('Class76', ['0', '1']),\n",
              " ('Class77', ['0', '1']),\n",
              " ('Class78', ['0', '1']),\n",
              " ('Class79', ['0', '1']),\n",
              " ('Class80', ['0', '1']),\n",
              " ('Class81', ['0', '1']),\n",
              " ('Class82', ['0', '1']),\n",
              " ('Class83', ['0', '1']),\n",
              " ('Class84', ['0', '1']),\n",
              " ('Class85', ['0', '1']),\n",
              " ('Class86', ['0', '1']),\n",
              " ('Class87', ['0', '1']),\n",
              " ('Class88', ['0', '1']),\n",
              " ('Class89', ['0', '1']),\n",
              " ('Class90', ['0', '1']),\n",
              " ('Class91', ['0', '1']),\n",
              " ('Class92', ['0', '1']),\n",
              " ('Class93', ['0', '1']),\n",
              " ('Class94', ['0', '1']),\n",
              " ('Class95', ['0', '1']),\n",
              " ('Class96', ['0', '1']),\n",
              " ('Class97', ['0', '1']),\n",
              " ('Class98', ['0', '1']),\n",
              " ('Class99', ['0', '1']),\n",
              " ('Class100', ['0', '1']),\n",
              " ('Class101', ['0', '1'])]"
            ]
          },
          "metadata": {},
          "execution_count": 46
        }
      ]
    },
    {
      "cell_type": "code",
      "source": [
        "#rcv1subset1, dataset con diferentes labels desde clase 1 hasta clase 101, similar a rcv1subset5 pero usando otros subconjunto"
      ],
      "metadata": {
        "id": "m6G4DZb9gGGs"
      },
      "execution_count": null,
      "outputs": []
    },
    {
      "cell_type": "code",
      "source": [
        "X_train, y_train, feature_names, label_names = load_dataset('rcv1subset1', 'train')\n",
        "X_test, y_test, _, _ = load_dataset('rcv1subset1', 'test')"
      ],
      "metadata": {
        "id": "cT5G0dvwgGGw",
        "colab": {
          "base_uri": "https://localhost:8080/"
        },
        "outputId": "8f065207-f2e3-4dbc-9ab2-fb6f0cc6e848"
      },
      "execution_count": null,
      "outputs": [
        {
          "output_type": "stream",
          "name": "stdout",
          "text": [
            "rcv1subset1:train - exists, not redownloading\n",
            "rcv1subset1:test - exists, not redownloading\n"
          ]
        }
      ]
    },
    {
      "cell_type": "code",
      "source": [
        "feature_names[:10]"
      ],
      "metadata": {
        "id": "m7Fha8RzgGG2",
        "colab": {
          "base_uri": "https://localhost:8080/"
        },
        "outputId": "91d95cb9-67c4-4883-906b-d52acb19a284"
      },
      "execution_count": null,
      "outputs": [
        {
          "output_type": "execute_result",
          "data": {
            "text/plain": [
              "[('Att1', 'NUMERIC'),\n",
              " ('Att2', 'NUMERIC'),\n",
              " ('Att3', 'NUMERIC'),\n",
              " ('Att4', 'NUMERIC'),\n",
              " ('Att5', 'NUMERIC'),\n",
              " ('Att6', 'NUMERIC'),\n",
              " ('Att7', 'NUMERIC'),\n",
              " ('Att8', 'NUMERIC'),\n",
              " ('Att9', 'NUMERIC'),\n",
              " ('Att10', 'NUMERIC')]"
            ]
          },
          "metadata": {},
          "execution_count": 49
        }
      ]
    },
    {
      "cell_type": "code",
      "source": [
        "label_names"
      ],
      "metadata": {
        "id": "fJqlh-rQgGG4",
        "colab": {
          "base_uri": "https://localhost:8080/"
        },
        "outputId": "383b7777-aa0e-489c-c2ef-968a0e36f026"
      },
      "execution_count": null,
      "outputs": [
        {
          "output_type": "execute_result",
          "data": {
            "text/plain": [
              "[('Class1', ['0', '1']),\n",
              " ('Class2', ['0', '1']),\n",
              " ('Class3', ['0', '1']),\n",
              " ('Class4', ['0', '1']),\n",
              " ('Class5', ['0', '1']),\n",
              " ('Class6', ['0', '1']),\n",
              " ('Class7', ['0', '1']),\n",
              " ('Class8', ['0', '1']),\n",
              " ('Class9', ['0', '1']),\n",
              " ('Class10', ['0', '1']),\n",
              " ('Class11', ['0', '1']),\n",
              " ('Class12', ['0', '1']),\n",
              " ('Class13', ['0', '1']),\n",
              " ('Class14', ['0', '1']),\n",
              " ('Class15', ['0', '1']),\n",
              " ('Class16', ['0', '1']),\n",
              " ('Class17', ['0', '1']),\n",
              " ('Class18', ['0', '1']),\n",
              " ('Class19', ['0', '1']),\n",
              " ('Class20', ['0', '1']),\n",
              " ('Class21', ['0', '1']),\n",
              " ('Class22', ['0', '1']),\n",
              " ('Class23', ['0', '1']),\n",
              " ('Class24', ['0', '1']),\n",
              " ('Class25', ['0', '1']),\n",
              " ('Class26', ['0', '1']),\n",
              " ('Class27', ['0', '1']),\n",
              " ('Class28', ['0', '1']),\n",
              " ('Class29', ['0', '1']),\n",
              " ('Class30', ['0', '1']),\n",
              " ('Class31', ['0', '1']),\n",
              " ('Class32', ['0', '1']),\n",
              " ('Class33', ['0', '1']),\n",
              " ('Class34', ['0', '1']),\n",
              " ('Class35', ['0', '1']),\n",
              " ('Class36', ['0', '1']),\n",
              " ('Class37', ['0', '1']),\n",
              " ('Class38', ['0', '1']),\n",
              " ('Class39', ['0', '1']),\n",
              " ('Class40', ['0', '1']),\n",
              " ('Class41', ['0', '1']),\n",
              " ('Class42', ['0', '1']),\n",
              " ('Class43', ['0', '1']),\n",
              " ('Class44', ['0', '1']),\n",
              " ('Class45', ['0', '1']),\n",
              " ('Class46', ['0', '1']),\n",
              " ('Class47', ['0', '1']),\n",
              " ('Class48', ['0', '1']),\n",
              " ('Class49', ['0', '1']),\n",
              " ('Class50', ['0', '1']),\n",
              " ('Class51', ['0', '1']),\n",
              " ('Class52', ['0', '1']),\n",
              " ('Class53', ['0', '1']),\n",
              " ('Class54', ['0', '1']),\n",
              " ('Class55', ['0', '1']),\n",
              " ('Class56', ['0', '1']),\n",
              " ('Class57', ['0', '1']),\n",
              " ('Class58', ['0', '1']),\n",
              " ('Class59', ['0', '1']),\n",
              " ('Class60', ['0', '1']),\n",
              " ('Class61', ['0', '1']),\n",
              " ('Class62', ['0', '1']),\n",
              " ('Class63', ['0', '1']),\n",
              " ('Class64', ['0', '1']),\n",
              " ('Class65', ['0', '1']),\n",
              " ('Class66', ['0', '1']),\n",
              " ('Class67', ['0', '1']),\n",
              " ('Class68', ['0', '1']),\n",
              " ('Class69', ['0', '1']),\n",
              " ('Class70', ['0', '1']),\n",
              " ('Class71', ['0', '1']),\n",
              " ('Class72', ['0', '1']),\n",
              " ('Class73', ['0', '1']),\n",
              " ('Class74', ['0', '1']),\n",
              " ('Class75', ['0', '1']),\n",
              " ('Class76', ['0', '1']),\n",
              " ('Class77', ['0', '1']),\n",
              " ('Class78', ['0', '1']),\n",
              " ('Class79', ['0', '1']),\n",
              " ('Class80', ['0', '1']),\n",
              " ('Class81', ['0', '1']),\n",
              " ('Class82', ['0', '1']),\n",
              " ('Class83', ['0', '1']),\n",
              " ('Class84', ['0', '1']),\n",
              " ('Class85', ['0', '1']),\n",
              " ('Class86', ['0', '1']),\n",
              " ('Class87', ['0', '1']),\n",
              " ('Class88', ['0', '1']),\n",
              " ('Class89', ['0', '1']),\n",
              " ('Class90', ['0', '1']),\n",
              " ('Class91', ['0', '1']),\n",
              " ('Class92', ['0', '1']),\n",
              " ('Class93', ['0', '1']),\n",
              " ('Class94', ['0', '1']),\n",
              " ('Class95', ['0', '1']),\n",
              " ('Class96', ['0', '1']),\n",
              " ('Class97', ['0', '1']),\n",
              " ('Class98', ['0', '1']),\n",
              " ('Class99', ['0', '1']),\n",
              " ('Class100', ['0', '1']),\n",
              " ('Class101', ['0', '1'])]"
            ]
          },
          "metadata": {},
          "execution_count": 50
        }
      ]
    },
    {
      "cell_type": "code",
      "source": [
        "#rcv1subset4, dataset con diferentes labels desde clase 1 hasta clase 101, similar a rcv1subset5 pero usando otros subconjunto"
      ],
      "metadata": {
        "id": "rayh988BgRUK"
      },
      "execution_count": null,
      "outputs": []
    },
    {
      "cell_type": "code",
      "source": [
        "X_train, y_train, feature_names, label_names = load_dataset('rcv1subset4', 'train')\n",
        "X_test, y_test, _, _ = load_dataset('rcv1subset4', 'test')"
      ],
      "metadata": {
        "id": "bc6WVu-TgRUP",
        "colab": {
          "base_uri": "https://localhost:8080/"
        },
        "outputId": "409fd1e8-eb25-4c34-9265-d0a5516be48e"
      },
      "execution_count": null,
      "outputs": [
        {
          "output_type": "stream",
          "name": "stdout",
          "text": [
            "rcv1subset4:train - exists, not redownloading\n",
            "rcv1subset4:test - exists, not redownloading\n"
          ]
        }
      ]
    },
    {
      "cell_type": "code",
      "source": [
        "feature_names[:10]"
      ],
      "metadata": {
        "id": "0bduMIG0gRUU",
        "colab": {
          "base_uri": "https://localhost:8080/"
        },
        "outputId": "de6c5f0f-3a41-454c-aa5d-f36ce1728a69"
      },
      "execution_count": null,
      "outputs": [
        {
          "output_type": "execute_result",
          "data": {
            "text/plain": [
              "[('Att1', 'NUMERIC'),\n",
              " ('Att2', 'NUMERIC'),\n",
              " ('Att3', 'NUMERIC'),\n",
              " ('Att4', 'NUMERIC'),\n",
              " ('Att5', 'NUMERIC'),\n",
              " ('Att6', 'NUMERIC'),\n",
              " ('Att7', 'NUMERIC'),\n",
              " ('Att8', 'NUMERIC'),\n",
              " ('Att9', 'NUMERIC'),\n",
              " ('Att10', 'NUMERIC')]"
            ]
          },
          "metadata": {},
          "execution_count": 52
        }
      ]
    },
    {
      "cell_type": "code",
      "source": [
        "label_names"
      ],
      "metadata": {
        "id": "HZ8kop4PgRUY",
        "colab": {
          "base_uri": "https://localhost:8080/"
        },
        "outputId": "e9464bca-6988-4e95-dd66-6b0e02e04e29"
      },
      "execution_count": null,
      "outputs": [
        {
          "output_type": "execute_result",
          "data": {
            "text/plain": [
              "[('Class1', ['0', '1']),\n",
              " ('Class2', ['0', '1']),\n",
              " ('Class3', ['0', '1']),\n",
              " ('Class4', ['0', '1']),\n",
              " ('Class5', ['0', '1']),\n",
              " ('Class6', ['0', '1']),\n",
              " ('Class7', ['0', '1']),\n",
              " ('Class8', ['0', '1']),\n",
              " ('Class9', ['0', '1']),\n",
              " ('Class10', ['0', '1']),\n",
              " ('Class11', ['0', '1']),\n",
              " ('Class12', ['0', '1']),\n",
              " ('Class13', ['0', '1']),\n",
              " ('Class14', ['0', '1']),\n",
              " ('Class15', ['0', '1']),\n",
              " ('Class16', ['0', '1']),\n",
              " ('Class17', ['0', '1']),\n",
              " ('Class18', ['0', '1']),\n",
              " ('Class19', ['0', '1']),\n",
              " ('Class20', ['0', '1']),\n",
              " ('Class21', ['0', '1']),\n",
              " ('Class22', ['0', '1']),\n",
              " ('Class23', ['0', '1']),\n",
              " ('Class24', ['0', '1']),\n",
              " ('Class25', ['0', '1']),\n",
              " ('Class26', ['0', '1']),\n",
              " ('Class27', ['0', '1']),\n",
              " ('Class28', ['0', '1']),\n",
              " ('Class29', ['0', '1']),\n",
              " ('Class30', ['0', '1']),\n",
              " ('Class31', ['0', '1']),\n",
              " ('Class32', ['0', '1']),\n",
              " ('Class33', ['0', '1']),\n",
              " ('Class34', ['0', '1']),\n",
              " ('Class35', ['0', '1']),\n",
              " ('Class36', ['0', '1']),\n",
              " ('Class37', ['0', '1']),\n",
              " ('Class38', ['0', '1']),\n",
              " ('Class39', ['0', '1']),\n",
              " ('Class40', ['0', '1']),\n",
              " ('Class41', ['0', '1']),\n",
              " ('Class42', ['0', '1']),\n",
              " ('Class43', ['0', '1']),\n",
              " ('Class44', ['0', '1']),\n",
              " ('Class45', ['0', '1']),\n",
              " ('Class46', ['0', '1']),\n",
              " ('Class47', ['0', '1']),\n",
              " ('Class48', ['0', '1']),\n",
              " ('Class49', ['0', '1']),\n",
              " ('Class50', ['0', '1']),\n",
              " ('Class51', ['0', '1']),\n",
              " ('Class52', ['0', '1']),\n",
              " ('Class53', ['0', '1']),\n",
              " ('Class54', ['0', '1']),\n",
              " ('Class55', ['0', '1']),\n",
              " ('Class56', ['0', '1']),\n",
              " ('Class57', ['0', '1']),\n",
              " ('Class58', ['0', '1']),\n",
              " ('Class59', ['0', '1']),\n",
              " ('Class60', ['0', '1']),\n",
              " ('Class61', ['0', '1']),\n",
              " ('Class62', ['0', '1']),\n",
              " ('Class63', ['0', '1']),\n",
              " ('Class64', ['0', '1']),\n",
              " ('Class65', ['0', '1']),\n",
              " ('Class66', ['0', '1']),\n",
              " ('Class67', ['0', '1']),\n",
              " ('Class68', ['0', '1']),\n",
              " ('Class69', ['0', '1']),\n",
              " ('Class70', ['0', '1']),\n",
              " ('Class71', ['0', '1']),\n",
              " ('Class72', ['0', '1']),\n",
              " ('Class73', ['0', '1']),\n",
              " ('Class74', ['0', '1']),\n",
              " ('Class75', ['0', '1']),\n",
              " ('Class76', ['0', '1']),\n",
              " ('Class77', ['0', '1']),\n",
              " ('Class78', ['0', '1']),\n",
              " ('Class79', ['0', '1']),\n",
              " ('Class80', ['0', '1']),\n",
              " ('Class81', ['0', '1']),\n",
              " ('Class82', ['0', '1']),\n",
              " ('Class83', ['0', '1']),\n",
              " ('Class84', ['0', '1']),\n",
              " ('Class85', ['0', '1']),\n",
              " ('Class86', ['0', '1']),\n",
              " ('Class87', ['0', '1']),\n",
              " ('Class88', ['0', '1']),\n",
              " ('Class89', ['0', '1']),\n",
              " ('Class90', ['0', '1']),\n",
              " ('Class91', ['0', '1']),\n",
              " ('Class92', ['0', '1']),\n",
              " ('Class93', ['0', '1']),\n",
              " ('Class94', ['0', '1']),\n",
              " ('Class95', ['0', '1']),\n",
              " ('Class96', ['0', '1']),\n",
              " ('Class97', ['0', '1']),\n",
              " ('Class98', ['0', '1']),\n",
              " ('Class99', ['0', '1']),\n",
              " ('Class100', ['0', '1']),\n",
              " ('Class101', ['0', '1'])]"
            ]
          },
          "metadata": {},
          "execution_count": 54
        }
      ]
    },
    {
      "cell_type": "code",
      "source": [
        "#rcv1subset2, dataset con diferentes labels desde clase 1 hasta clase 101, similar a rcv1subset5 pero usando otros subconjunto"
      ],
      "metadata": {
        "id": "ua49m8jrgY_8"
      },
      "execution_count": null,
      "outputs": []
    },
    {
      "cell_type": "code",
      "source": [
        "X_train, y_train, feature_names, label_names = load_dataset('rcv1subset2', 'train')\n",
        "X_test, y_test, _, _ = load_dataset('rcv1subset2', 'test')"
      ],
      "metadata": {
        "id": "XQTHo8YIgZAA",
        "colab": {
          "base_uri": "https://localhost:8080/"
        },
        "outputId": "a97ebe5b-d4bc-4dec-d4a2-427709fe9116"
      },
      "execution_count": null,
      "outputs": [
        {
          "output_type": "stream",
          "name": "stdout",
          "text": [
            "rcv1subset2:train - exists, not redownloading\n",
            "rcv1subset2:test - exists, not redownloading\n"
          ]
        }
      ]
    },
    {
      "cell_type": "code",
      "source": [
        "feature_names[:10]"
      ],
      "metadata": {
        "id": "3XbNHRdhgZAE",
        "colab": {
          "base_uri": "https://localhost:8080/"
        },
        "outputId": "44868e86-3437-4c5b-f801-5463f126f5e2"
      },
      "execution_count": null,
      "outputs": [
        {
          "output_type": "execute_result",
          "data": {
            "text/plain": [
              "[('Att1', 'NUMERIC'),\n",
              " ('Att2', 'NUMERIC'),\n",
              " ('Att3', 'NUMERIC'),\n",
              " ('Att4', 'NUMERIC'),\n",
              " ('Att5', 'NUMERIC'),\n",
              " ('Att6', 'NUMERIC'),\n",
              " ('Att7', 'NUMERIC'),\n",
              " ('Att8', 'NUMERIC'),\n",
              " ('Att9', 'NUMERIC'),\n",
              " ('Att10', 'NUMERIC')]"
            ]
          },
          "metadata": {},
          "execution_count": 57
        }
      ]
    },
    {
      "cell_type": "code",
      "source": [
        "label_names"
      ],
      "metadata": {
        "id": "ciC5ua_kgZAG",
        "colab": {
          "base_uri": "https://localhost:8080/"
        },
        "outputId": "18cb6600-9715-4f09-89eb-2804dcabe6de"
      },
      "execution_count": null,
      "outputs": [
        {
          "output_type": "execute_result",
          "data": {
            "text/plain": [
              "[('Class1', ['0', '1']),\n",
              " ('Class2', ['0', '1']),\n",
              " ('Class3', ['0', '1']),\n",
              " ('Class4', ['0', '1']),\n",
              " ('Class5', ['0', '1']),\n",
              " ('Class6', ['0', '1']),\n",
              " ('Class7', ['0', '1']),\n",
              " ('Class8', ['0', '1']),\n",
              " ('Class9', ['0', '1']),\n",
              " ('Class10', ['0', '1']),\n",
              " ('Class11', ['0', '1']),\n",
              " ('Class12', ['0', '1']),\n",
              " ('Class13', ['0', '1']),\n",
              " ('Class14', ['0', '1']),\n",
              " ('Class15', ['0', '1']),\n",
              " ('Class16', ['0', '1']),\n",
              " ('Class17', ['0', '1']),\n",
              " ('Class18', ['0', '1']),\n",
              " ('Class19', ['0', '1']),\n",
              " ('Class20', ['0', '1']),\n",
              " ('Class21', ['0', '1']),\n",
              " ('Class22', ['0', '1']),\n",
              " ('Class23', ['0', '1']),\n",
              " ('Class24', ['0', '1']),\n",
              " ('Class25', ['0', '1']),\n",
              " ('Class26', ['0', '1']),\n",
              " ('Class27', ['0', '1']),\n",
              " ('Class28', ['0', '1']),\n",
              " ('Class29', ['0', '1']),\n",
              " ('Class30', ['0', '1']),\n",
              " ('Class31', ['0', '1']),\n",
              " ('Class32', ['0', '1']),\n",
              " ('Class33', ['0', '1']),\n",
              " ('Class34', ['0', '1']),\n",
              " ('Class35', ['0', '1']),\n",
              " ('Class36', ['0', '1']),\n",
              " ('Class37', ['0', '1']),\n",
              " ('Class38', ['0', '1']),\n",
              " ('Class39', ['0', '1']),\n",
              " ('Class40', ['0', '1']),\n",
              " ('Class41', ['0', '1']),\n",
              " ('Class42', ['0', '1']),\n",
              " ('Class43', ['0', '1']),\n",
              " ('Class44', ['0', '1']),\n",
              " ('Class45', ['0', '1']),\n",
              " ('Class46', ['0', '1']),\n",
              " ('Class47', ['0', '1']),\n",
              " ('Class48', ['0', '1']),\n",
              " ('Class49', ['0', '1']),\n",
              " ('Class50', ['0', '1']),\n",
              " ('Class51', ['0', '1']),\n",
              " ('Class52', ['0', '1']),\n",
              " ('Class53', ['0', '1']),\n",
              " ('Class54', ['0', '1']),\n",
              " ('Class55', ['0', '1']),\n",
              " ('Class56', ['0', '1']),\n",
              " ('Class57', ['0', '1']),\n",
              " ('Class58', ['0', '1']),\n",
              " ('Class59', ['0', '1']),\n",
              " ('Class60', ['0', '1']),\n",
              " ('Class61', ['0', '1']),\n",
              " ('Class62', ['0', '1']),\n",
              " ('Class63', ['0', '1']),\n",
              " ('Class64', ['0', '1']),\n",
              " ('Class65', ['0', '1']),\n",
              " ('Class66', ['0', '1']),\n",
              " ('Class67', ['0', '1']),\n",
              " ('Class68', ['0', '1']),\n",
              " ('Class69', ['0', '1']),\n",
              " ('Class70', ['0', '1']),\n",
              " ('Class71', ['0', '1']),\n",
              " ('Class72', ['0', '1']),\n",
              " ('Class73', ['0', '1']),\n",
              " ('Class74', ['0', '1']),\n",
              " ('Class75', ['0', '1']),\n",
              " ('Class76', ['0', '1']),\n",
              " ('Class77', ['0', '1']),\n",
              " ('Class78', ['0', '1']),\n",
              " ('Class79', ['0', '1']),\n",
              " ('Class80', ['0', '1']),\n",
              " ('Class81', ['0', '1']),\n",
              " ('Class82', ['0', '1']),\n",
              " ('Class83', ['0', '1']),\n",
              " ('Class84', ['0', '1']),\n",
              " ('Class85', ['0', '1']),\n",
              " ('Class86', ['0', '1']),\n",
              " ('Class87', ['0', '1']),\n",
              " ('Class88', ['0', '1']),\n",
              " ('Class89', ['0', '1']),\n",
              " ('Class90', ['0', '1']),\n",
              " ('Class91', ['0', '1']),\n",
              " ('Class92', ['0', '1']),\n",
              " ('Class93', ['0', '1']),\n",
              " ('Class94', ['0', '1']),\n",
              " ('Class95', ['0', '1']),\n",
              " ('Class96', ['0', '1']),\n",
              " ('Class97', ['0', '1']),\n",
              " ('Class98', ['0', '1']),\n",
              " ('Class99', ['0', '1']),\n",
              " ('Class100', ['0', '1']),\n",
              " ('Class101', ['0', '1'])]"
            ]
          },
          "metadata": {},
          "execution_count": 58
        }
      ]
    },
    {
      "cell_type": "code",
      "source": [
        "#delicious, dataset con diferentes labels con diferentes Tag como linux, web, logo, etc"
      ],
      "metadata": {
        "id": "4HHSeQE-gkFn"
      },
      "execution_count": null,
      "outputs": []
    },
    {
      "cell_type": "code",
      "source": [
        "X_train, y_train, feature_names, label_names = load_dataset('delicious', 'train')\n",
        "X_test, y_test, _, _ = load_dataset('delicious', 'test')"
      ],
      "metadata": {
        "id": "9w8onLlPgkFr",
        "colab": {
          "base_uri": "https://localhost:8080/"
        },
        "outputId": "d26234da-d53c-4c79-a01e-979698783312"
      },
      "execution_count": null,
      "outputs": [
        {
          "output_type": "stream",
          "name": "stdout",
          "text": [
            "delicious:train - exists, not redownloading\n",
            "delicious:test - exists, not redownloading\n"
          ]
        }
      ]
    },
    {
      "cell_type": "code",
      "source": [
        "feature_names[:10]"
      ],
      "metadata": {
        "id": "boEzVkpTgkFv",
        "colab": {
          "base_uri": "https://localhost:8080/"
        },
        "outputId": "4fb3127c-d8ff-4faa-bb11-0a7aa35e2ecd"
      },
      "execution_count": null,
      "outputs": [
        {
          "output_type": "execute_result",
          "data": {
            "text/plain": [
              "[('_qacct', ['0', '1']),\n",
              " ('accessing', ['0', '1']),\n",
              " ('actionscript', ['0', '1']),\n",
              " ('activerecord', ['0', '1']),\n",
              " ('addoverlay', ['0', '1']),\n",
              " ('afternoon', ['0', '1']),\n",
              " ('against', ['0', '1']),\n",
              " ('air', ['0', '1']),\n",
              " ('ajax_action', ['0', '1']),\n",
              " ('als', ['0', '1'])]"
            ]
          },
          "metadata": {},
          "execution_count": 61
        }
      ]
    },
    {
      "cell_type": "code",
      "source": [
        "label_names"
      ],
      "metadata": {
        "id": "pQIibIDsgkFz",
        "colab": {
          "base_uri": "https://localhost:8080/"
        },
        "outputId": "9dea1445-92f5-433e-df5d-a7f1b1ba1b24"
      },
      "execution_count": null,
      "outputs": [
        {
          "output_type": "execute_result",
          "data": {
            "text/plain": [
              "[('TAG_.imported', ['0', '1']),\n",
              " ('TAG_.net', ['0', '1']),\n",
              " ('TAG_2.0', ['0', '1']),\n",
              " ('TAG_2007', ['0', '1']),\n",
              " ('TAG_3d', ['0', '1']),\n",
              " ('TAG_??', ['0', '1']),\n",
              " ('TAG_???', ['0', '1']),\n",
              " ('TAG_????', ['0', '1']),\n",
              " ('TAG_academia', ['0', '1']),\n",
              " ('TAG_academic', ['0', '1']),\n",
              " ('TAG_access', ['0', '1']),\n",
              " ('TAG_accessibility', ['0', '1']),\n",
              " ('TAG_accessories', ['0', '1']),\n",
              " ('TAG_accounts', ['0', '1']),\n",
              " ('TAG_actionscript', ['0', '1']),\n",
              " ('TAG_activism', ['0', '1']),\n",
              " ('TAG_ad', ['0', '1']),\n",
              " ('TAG_addon', ['0', '1']),\n",
              " ('TAG_addons', ['0', '1']),\n",
              " ('TAG_admin', ['0', '1']),\n",
              " ('TAG_administration', ['0', '1']),\n",
              " ('TAG_adobe', ['0', '1']),\n",
              " ('TAG_ads', ['0', '1']),\n",
              " ('TAG_adsense', ['0', '1']),\n",
              " ('TAG_adult', ['0', '1']),\n",
              " ('TAG_advertising', ['0', '1']),\n",
              " ('TAG_advice', ['0', '1']),\n",
              " ('TAG_affiliate', ['0', '1']),\n",
              " ('TAG_agencies', ['0', '1']),\n",
              " ('TAG_agency', ['0', '1']),\n",
              " ('TAG_aggregator', ['0', '1']),\n",
              " ('TAG_agile', ['0', '1']),\n",
              " ('TAG_ai', ['0', '1']),\n",
              " ('TAG_air', ['0', '1']),\n",
              " ('TAG_airfare', ['0', '1']),\n",
              " ('TAG_airline', ['0', '1']),\n",
              " ('TAG_airlines', ['0', '1']),\n",
              " ('TAG_ajax', ['0', '1']),\n",
              " ('TAG_album', ['0', '1']),\n",
              " ('TAG_algorithm', ['0', '1']),\n",
              " ('TAG_algorithms', ['0', '1']),\n",
              " ('TAG_alternative', ['0', '1']),\n",
              " ('TAG_amazing', ['0', '1']),\n",
              " ('TAG_amazon', ['0', '1']),\n",
              " ('TAG_america', ['0', '1']),\n",
              " ('TAG_analysis', ['0', '1']),\n",
              " ('TAG_analytics', ['0', '1']),\n",
              " ('TAG_angst', ['0', '1']),\n",
              " ('TAG_animals', ['0', '1']),\n",
              " ('TAG_animation', ['0', '1']),\n",
              " ('TAG_anime', ['0', '1']),\n",
              " ('TAG_anonymous', ['0', '1']),\n",
              " ('TAG_anthropology', ['0', '1']),\n",
              " ('TAG_apache', ['0', '1']),\n",
              " ('TAG_apartment', ['0', '1']),\n",
              " ('TAG_api', ['0', '1']),\n",
              " ('TAG_app', ['0', '1']),\n",
              " ('TAG_apparel', ['0', '1']),\n",
              " ('TAG_apple', ['0', '1']),\n",
              " ('TAG_application', ['0', '1']),\n",
              " ('TAG_applications', ['0', '1']),\n",
              " ('TAG_apps', ['0', '1']),\n",
              " ('TAG_architecture', ['0', '1']),\n",
              " ('TAG_archive', ['0', '1']),\n",
              " ('TAG_archives', ['0', '1']),\n",
              " ('TAG_art', ['0', '1']),\n",
              " ('TAG_arte', ['0', '1']),\n",
              " ('TAG_article', ['0', '1']),\n",
              " ('TAG_articles', ['0', '1']),\n",
              " ('TAG_artist', ['0', '1']),\n",
              " ('TAG_artists', ['0', '1']),\n",
              " ('TAG_arts', ['0', '1']),\n",
              " ('TAG_asp', ['0', '1']),\n",
              " ('TAG_asp.net', ['0', '1']),\n",
              " ('TAG_astronomy', ['0', '1']),\n",
              " ('TAG_atom', ['0', '1']),\n",
              " ('TAG_au', ['0', '1']),\n",
              " ('TAG_audio', ['0', '1']),\n",
              " ('TAG_authentication', ['0', '1']),\n",
              " ('TAG_auto', ['0', '1']),\n",
              " ('TAG_automation', ['0', '1']),\n",
              " ('TAG_awards', ['0', '1']),\n",
              " ('TAG_awesome', ['0', '1']),\n",
              " ('TAG_backup', ['0', '1']),\n",
              " ('TAG_bags', ['0', '1']),\n",
              " ('TAG_baking', ['0', '1']),\n",
              " ('TAG_bands', ['0', '1']),\n",
              " ('TAG_bandslash', ['0', '1']),\n",
              " ('TAG_bank', ['0', '1']),\n",
              " ('TAG_banking', ['0', '1']),\n",
              " ('TAG_bargains', ['0', '1']),\n",
              " ('TAG_bbc', ['0', '1']),\n",
              " ('TAG_beauty', ['0', '1']),\n",
              " ('TAG_best', ['0', '1']),\n",
              " ('TAG_beta', ['0', '1']),\n",
              " ('TAG_bills', ['0', '1']),\n",
              " ('TAG_biology', ['0', '1']),\n",
              " ('TAG_bit200w07', ['0', '1']),\n",
              " ('TAG_bittorrent', ['0', '1']),\n",
              " ('TAG_blog', ['0', '1']),\n",
              " ('TAG_blogger', ['0', '1']),\n",
              " ('TAG_blogging', ['0', '1']),\n",
              " ('TAG_blogs', ['0', '1']),\n",
              " ('TAG_bluetooth', ['0', '1']),\n",
              " ('TAG_book', ['0', '1']),\n",
              " ('TAG_bookmark', ['0', '1']),\n",
              " ('TAG_bookmarking', ['0', '1']),\n",
              " ('TAG_bookmarks', ['0', '1']),\n",
              " ('TAG_books', ['0', '1']),\n",
              " ('TAG_boot', ['0', '1']),\n",
              " ('TAG_brain', ['0', '1']),\n",
              " ('TAG_brand', ['0', '1']),\n",
              " ('TAG_branding', ['0', '1']),\n",
              " ('TAG_brasil', ['0', '1']),\n",
              " ('TAG_broadband', ['0', '1']),\n",
              " ('TAG_browser', ['0', '1']),\n",
              " ('TAG_browsers', ['0', '1']),\n",
              " ('TAG_brushes', ['0', '1']),\n",
              " ('TAG_budget', ['0', '1']),\n",
              " ('TAG_build', ['0', '1']),\n",
              " ('TAG_building', ['0', '1']),\n",
              " ('TAG_buscadores', ['0', '1']),\n",
              " ('TAG_business', ['0', '1']),\n",
              " ('TAG_button', ['0', '1']),\n",
              " ('TAG_buttons', ['0', '1']),\n",
              " ('TAG_buy', ['0', '1']),\n",
              " ('TAG_c', ['0', '1']),\n",
              " ('TAG_c#', ['0', '1']),\n",
              " ('TAG_c++', ['0', '1']),\n",
              " ('TAG_calculator', ['0', '1']),\n",
              " ('TAG_calendar', ['0', '1']),\n",
              " ('TAG_camera', ['0', '1']),\n",
              " ('TAG_cameras', ['0', '1']),\n",
              " ('TAG_canada', ['0', '1']),\n",
              " ('TAG_car', ['0', '1']),\n",
              " ('TAG_card', ['0', '1']),\n",
              " ('TAG_cards', ['0', '1']),\n",
              " ('TAG_career', ['0', '1']),\n",
              " ('TAG_careers', ['0', '1']),\n",
              " ('TAG_cars', ['0', '1']),\n",
              " ('TAG_cartoon', ['0', '1']),\n",
              " ('TAG_cartoons', ['0', '1']),\n",
              " ('TAG_catalog', ['0', '1']),\n",
              " ('TAG_cd', ['0', '1']),\n",
              " ('TAG_celebrity', ['0', '1']),\n",
              " ('TAG_cell', ['0', '1']),\n",
              " ('TAG_cellphone', ['0', '1']),\n",
              " ('TAG_charity', ['0', '1']),\n",
              " ('TAG_chart', ['0', '1']),\n",
              " ('TAG_charts', ['0', '1']),\n",
              " ('TAG_chat', ['0', '1']),\n",
              " ('TAG_cheap', ['0', '1']),\n",
              " ('TAG_cheatsheet', ['0', '1']),\n",
              " ('TAG_children', ['0', '1']),\n",
              " ('TAG_china', ['0', '1']),\n",
              " ('TAG_chinese', ['0', '1']),\n",
              " ('TAG_cinema', ['0', '1']),\n",
              " ('TAG_cities', ['0', '1']),\n",
              " ('TAG_city', ['0', '1']),\n",
              " ('TAG_clean', ['0', '1']),\n",
              " ('TAG_cli', ['0', '1']),\n",
              " ('TAG_client', ['0', '1']),\n",
              " ('TAG_climate', ['0', '1']),\n",
              " ('TAG_clipart', ['0', '1']),\n",
              " ('TAG_clothes', ['0', '1']),\n",
              " ('TAG_clothing', ['0', '1']),\n",
              " ('TAG_cms', ['0', '1']),\n",
              " ('TAG_cocoa', ['0', '1']),\n",
              " ('TAG_code', ['0', '1']),\n",
              " ('TAG_codec', ['0', '1']),\n",
              " ('TAG_coding', ['0', '1']),\n",
              " ('TAG_collaboration', ['0', '1']),\n",
              " ('TAG_collection', ['0', '1']),\n",
              " ('TAG_college', ['0', '1']),\n",
              " ('TAG_color', ['0', '1']),\n",
              " ('TAG_colors', ['0', '1']),\n",
              " ('TAG_colour', ['0', '1']),\n",
              " ('TAG_comedy', ['0', '1']),\n",
              " ('TAG_comic', ['0', '1']),\n",
              " ('TAG_comics', ['0', '1']),\n",
              " ('TAG_commands', ['0', '1']),\n",
              " ('TAG_commentary', ['0', '1']),\n",
              " ('TAG_communication', ['0', '1']),\n",
              " ('TAG_community', ['0', '1']),\n",
              " ('TAG_companies', ['0', '1']),\n",
              " ('TAG_company', ['0', '1']),\n",
              " ('TAG_compare', ['0', '1']),\n",
              " ('TAG_comparison', ['0', '1']),\n",
              " ('TAG_components', ['0', '1']),\n",
              " ('TAG_computer', ['0', '1']),\n",
              " ('TAG_computers', ['0', '1']),\n",
              " ('TAG_computing', ['0', '1']),\n",
              " ('TAG_conference', ['0', '1']),\n",
              " ('TAG_configuration', ['0', '1']),\n",
              " ('TAG_conservation', ['0', '1']),\n",
              " ('TAG_construction', ['0', '1']),\n",
              " ('TAG_consulting', ['0', '1']),\n",
              " ('TAG_consumer', ['0', '1']),\n",
              " ('TAG_content', ['0', '1']),\n",
              " ('TAG_control', ['0', '1']),\n",
              " ('TAG_conversion', ['0', '1']),\n",
              " ('TAG_convert', ['0', '1']),\n",
              " ('TAG_converter', ['0', '1']),\n",
              " ('TAG_cook', ['0', '1']),\n",
              " ('TAG_cooking', ['0', '1']),\n",
              " ('TAG_cool', ['0', '1']),\n",
              " ('TAG_copyright', ['0', '1']),\n",
              " ('TAG_course', ['0', '1']),\n",
              " ('TAG_courses', ['0', '1']),\n",
              " ('TAG_crack', ['0', '1']),\n",
              " ('TAG_crackfic', ['0', '1']),\n",
              " ('TAG_craft', ['0', '1']),\n",
              " ('TAG_crafts', ['0', '1']),\n",
              " ('TAG_crafty', ['0', '1']),\n",
              " ('TAG_creative', ['0', '1']),\n",
              " ('TAG_creativecommons', ['0', '1']),\n",
              " ('TAG_creativity', ['0', '1']),\n",
              " ('TAG_crypto', ['0', '1']),\n",
              " ('TAG_cryptography', ['0', '1']),\n",
              " ('TAG_cs', ['0', '1']),\n",
              " ('TAG_csharp', ['0', '1']),\n",
              " ('TAG_css', ['0', '1']),\n",
              " ('TAG_cuisine', ['0', '1']),\n",
              " ('TAG_culture', ['0', '1']),\n",
              " ('TAG_custom', ['0', '1']),\n",
              " ('TAG_cute', ['0', '1']),\n",
              " ('TAG_daily', ['0', '1']),\n",
              " ('TAG_data', ['0', '1']),\n",
              " ('TAG_database', ['0', '1']),\n",
              " ('TAG_databases', ['0', '1']),\n",
              " ('TAG_db', ['0', '1']),\n",
              " ('TAG_deals', ['0', '1']),\n",
              " ('TAG_debian', ['0', '1']),\n",
              " ('TAG_debug', ['0', '1']),\n",
              " ('TAG_debugging', ['0', '1']),\n",
              " ('TAG_decor', ['0', '1']),\n",
              " ('TAG_decorating', ['0', '1']),\n",
              " ('TAG_del.icio.us', ['0', '1']),\n",
              " ('TAG_delicious', ['0', '1']),\n",
              " ('TAG_deployment', ['0', '1']),\n",
              " ('TAG_design', ['0', '1']),\n",
              " ('TAG_designer', ['0', '1']),\n",
              " ('TAG_designers', ['0', '1']),\n",
              " ('TAG_desktop', ['0', '1']),\n",
              " ('TAG_deutsch', ['0', '1']),\n",
              " ('TAG_dev', ['0', '1']),\n",
              " ('TAG_developer', ['0', '1']),\n",
              " ('TAG_development', ['0', '1']),\n",
              " ('TAG_dhtml', ['0', '1']),\n",
              " ('TAG_dictionaries', ['0', '1']),\n",
              " ('TAG_dictionary', ['0', '1']),\n",
              " ('TAG_diet', ['0', '1']),\n",
              " ('TAG_digg', ['0', '1']),\n",
              " ('TAG_digital', ['0', '1']),\n",
              " ('TAG_directories', ['0', '1']),\n",
              " ('TAG_directory', ['0', '1']),\n",
              " ('TAG_discount', ['0', '1']),\n",
              " ('TAG_dise?o', ['0', '1']),\n",
              " ('TAG_dise\\\\~no', ['0', '1']),\n",
              " ('TAG_distributed', ['0', '1']),\n",
              " ('TAG_distribution', ['0', '1']),\n",
              " ('TAG_distro', ['0', '1']),\n",
              " ('TAG_divx', ['0', '1']),\n",
              " ('TAG_diy', ['0', '1']),\n",
              " ('TAG_dj', ['0', '1']),\n",
              " ('TAG_django', ['0', '1']),\n",
              " ('TAG_dns', ['0', '1']),\n",
              " ('TAG_doc', ['0', '1']),\n",
              " ('TAG_docs', ['0', '1']),\n",
              " ('TAG_document', ['0', '1']),\n",
              " ('TAG_documentary', ['0', '1']),\n",
              " ('TAG_documentation', ['0', '1']),\n",
              " ('TAG_dom', ['0', '1']),\n",
              " ('TAG_domain', ['0', '1']),\n",
              " ('TAG_dotnet', ['0', '1']),\n",
              " ('TAG_download', ['0', '1']),\n",
              " ('TAG_downloads', ['0', '1']),\n",
              " ('TAG_drawing', ['0', '1']),\n",
              " ('TAG_drivers', ['0', '1']),\n",
              " ('TAG_dvd', ['0', '1']),\n",
              " ('TAG_e-commerce', ['0', '1']),\n",
              " ('TAG_e-learning', ['0', '1']),\n",
              " ('TAG_e-mail', ['0', '1']),\n",
              " ('TAG_earth', ['0', '1']),\n",
              " ('TAG_earthside', ['0', '1']),\n",
              " ('TAG_ebook', ['0', '1']),\n",
              " ('TAG_ebooks', ['0', '1']),\n",
              " ('TAG_eclipse', ['0', '1']),\n",
              " ('TAG_eco', ['0', '1']),\n",
              " ('TAG_ecology', ['0', '1']),\n",
              " ('TAG_ecommerce', ['0', '1']),\n",
              " ('TAG_economics', ['0', '1']),\n",
              " ('TAG_economy', ['0', '1']),\n",
              " ('TAG_editing', ['0', '1']),\n",
              " ('TAG_editor', ['0', '1']),\n",
              " ('TAG_edtech', ['0', '1']),\n",
              " ('TAG_education', ['0', '1']),\n",
              " ('TAG_educational', ['0', '1']),\n",
              " ('TAG_effects', ['0', '1']),\n",
              " ('TAG_elearning', ['0', '1']),\n",
              " ('TAG_electronic', ['0', '1']),\n",
              " ('TAG_electronics', ['0', '1']),\n",
              " ('TAG_email', ['0', '1']),\n",
              " ('TAG_embedded', ['0', '1']),\n",
              " ('TAG_employment', ['0', '1']),\n",
              " ('TAG_emulation', ['0', '1']),\n",
              " ('TAG_emulator', ['0', '1']),\n",
              " ('TAG_encoding', ['0', '1']),\n",
              " ('TAG_encryption', ['0', '1']),\n",
              " ('TAG_encyclopedia', ['0', '1']),\n",
              " ('TAG_energy', ['0', '1']),\n",
              " ('TAG_engine', ['0', '1']),\n",
              " ('TAG_engineering', ['0', '1']),\n",
              " ('TAG_english', ['0', '1']),\n",
              " ('TAG_enterprise', ['0', '1']),\n",
              " ('TAG_entertainment', ['0', '1']),\n",
              " ('TAG_entrepreneur', ['0', '1']),\n",
              " ('TAG_entrepreneurship', ['0', '1']),\n",
              " ('TAG_environment', ['0', '1']),\n",
              " ('TAG_environmental', ['0', '1']),\n",
              " ('TAG_essay', ['0', '1']),\n",
              " ('TAG_essays', ['0', '1']),\n",
              " ('TAG_europe', ['0', '1']),\n",
              " ('TAG_events', ['0', '1']),\n",
              " ('TAG_evolution', ['0', '1']),\n",
              " ('TAG_example', ['0', '1']),\n",
              " ('TAG_examples', ['0', '1']),\n",
              " ('TAG_exercise', ['0', '1']),\n",
              " ('TAG_experimental', ['0', '1']),\n",
              " ('TAG_extension', ['0', '1']),\n",
              " ('TAG_extensions', ['0', '1']),\n",
              " ('TAG_family', ['0', '1']),\n",
              " ('TAG_fanfic', ['0', '1']),\n",
              " ('TAG_fanfiction', ['0', '1']),\n",
              " ('TAG_fantasy', ['0', '1']),\n",
              " ('TAG_faq', ['0', '1']),\n",
              " ('TAG_fashion', ['0', '1']),\n",
              " ('TAG_feed', ['0', '1']),\n",
              " ('TAG_feeds', ['0', '1']),\n",
              " ('TAG_fic', ['0', '1']),\n",
              " ('TAG_fiction', ['0', '1']),\n",
              " ('TAG_file', ['0', '1']),\n",
              " ('TAG_files', ['0', '1']),\n",
              " ('TAG_filesharing', ['0', '1']),\n",
              " ('TAG_filesystem', ['0', '1']),\n",
              " ('TAG_film', ['0', '1']),\n",
              " ('TAG_films', ['0', '1']),\n",
              " ('TAG_finance', ['0', '1']),\n",
              " ('TAG_finances', ['0', '1']),\n",
              " ('TAG_financial', ['0', '1']),\n",
              " ('TAG_firefox', ['0', '1']),\n",
              " ('TAG_firewall', ['0', '1']),\n",
              " ('TAG_first-time', ['0', '1']),\n",
              " ('TAG_firsttime', ['0', '1']),\n",
              " ('TAG_fitness', ['0', '1']),\n",
              " ('TAG_flash', ['0', '1']),\n",
              " ('TAG_flex', ['0', '1']),\n",
              " ('TAG_flickr', ['0', '1']),\n",
              " ('TAG_flight', ['0', '1']),\n",
              " ('TAG_flights', ['0', '1']),\n",
              " ('TAG_flv', ['0', '1']),\n",
              " ('TAG_fob', ['0', '1']),\n",
              " ('TAG_folksonomy', ['0', '1']),\n",
              " ('TAG_font', ['0', '1']),\n",
              " ('TAG_fonts', ['0', '1']),\n",
              " ('TAG_food', ['0', '1']),\n",
              " ('TAG_foodblog', ['0', '1']),\n",
              " ('TAG_foodblogs', ['0', '1']),\n",
              " ('TAG_form', ['0', '1']),\n",
              " ('TAG_forms', ['0', '1']),\n",
              " ('TAG_forum', ['0', '1']),\n",
              " ('TAG_forums', ['0', '1']),\n",
              " ('TAG_foto', ['0', '1']),\n",
              " ('TAG_fotografia', ['0', '1']),\n",
              " ('TAG_fotos', ['0', '1']),\n",
              " ('TAG_framework', ['0', '1']),\n",
              " ('TAG_frameworks', ['0', '1']),\n",
              " ('TAG_france', ['0', '1']),\n",
              " ('TAG_free', ['0', '1']),\n",
              " ('TAG_freedom', ['0', '1']),\n",
              " ('TAG_freelance', ['0', '1']),\n",
              " ('TAG_freeware', ['0', '1']),\n",
              " ('TAG_french', ['0', '1']),\n",
              " ('TAG_friday', ['0', '1']),\n",
              " ('TAG_friends', ['0', '1']),\n",
              " ('TAG_fuentes', ['0', '1']),\n",
              " ('TAG_fun', ['0', '1']),\n",
              " ('TAG_funny', ['0', '1']),\n",
              " ('TAG_furniture', ['0', '1']),\n",
              " ('TAG_future', ['0', '1']),\n",
              " ('TAG_gadget', ['0', '1']),\n",
              " ('TAG_gadgets', ['0', '1']),\n",
              " ('TAG_gallery', ['0', '1']),\n",
              " ('TAG_game', ['0', '1']),\n",
              " ('TAG_gamedev', ['0', '1']),\n",
              " ('TAG_games', ['0', '1']),\n",
              " ('TAG_gaming', ['0', '1']),\n",
              " ('TAG_gear', ['0', '1']),\n",
              " ('TAG_geek', ['0', '1']),\n",
              " ('TAG_gen', ['0', '1']),\n",
              " ('TAG_generator', ['0', '1']),\n",
              " ('TAG_geo', ['0', '1']),\n",
              " ('TAG_geography', ['0', '1']),\n",
              " ('TAG_geotagging', ['0', '1']),\n",
              " ('TAG_german', ['0', '1']),\n",
              " ('TAG_germany', ['0', '1']),\n",
              " ('TAG_gift', ['0', '1']),\n",
              " ('TAG_gifts', ['0', '1']),\n",
              " ('TAG_gis', ['0', '1']),\n",
              " ('TAG_global', ['0', '1']),\n",
              " ('TAG_gmail', ['0', '1']),\n",
              " ('TAG_gnome', ['0', '1']),\n",
              " ('TAG_gnu', ['0', '1']),\n",
              " ('TAG_google', ['0', '1']),\n",
              " ('TAG_googlemaps', ['0', '1']),\n",
              " ('TAG_gossip', ['0', '1']),\n",
              " ('TAG_government', ['0', '1']),\n",
              " ('TAG_gps', ['0', '1']),\n",
              " ('TAG_graffiti', ['0', '1']),\n",
              " ('TAG_grammar', ['0', '1']),\n",
              " ('TAG_graph', ['0', '1']),\n",
              " ('TAG_graphic', ['0', '1']),\n",
              " ('TAG_graphicdesign', ['0', '1']),\n",
              " ('TAG_graphics', ['0', '1']),\n",
              " ('TAG_graphs', ['0', '1']),\n",
              " ('TAG_gratis', ['0', '1']),\n",
              " ('TAG_greasemonkey', ['0', '1']),\n",
              " ('TAG_green', ['0', '1']),\n",
              " ('TAG_grid', ['0', '1']),\n",
              " ('TAG_gtd', ['0', '1']),\n",
              " ('TAG_gui', ['0', '1']),\n",
              " ('TAG_guide', ['0', '1']),\n",
              " ('TAG_guides', ['0', '1']),\n",
              " ('TAG_hack', ['0', '1']),\n",
              " ('TAG_hacking', ['0', '1']),\n",
              " ('TAG_hacks', ['0', '1']),\n",
              " ('TAG_hardware', ['0', '1']),\n",
              " ('TAG_health', ['0', '1']),\n",
              " ('TAG_help', ['0', '1']),\n",
              " ('TAG_het', ['0', '1']),\n",
              " ('TAG_history', ['0', '1']),\n",
              " ('TAG_holiday', ['0', '1']),\n",
              " ('TAG_home', ['0', '1']),\n",
              " ('TAG_homepage', ['0', '1']),\n",
              " ('TAG_hosting', ['0', '1']),\n",
              " ('TAG_hotel', ['0', '1']),\n",
              " ('TAG_hotels', ['0', '1']),\n",
              " ('TAG_house', ['0', '1']),\n",
              " ('TAG_household', ['0', '1']),\n",
              " ('TAG_housewares', ['0', '1']),\n",
              " ('TAG_housing', ['0', '1']),\n",
              " ('TAG_how-to', ['0', '1']),\n",
              " ('TAG_howto', ['0', '1']),\n",
              " ('TAG_hp', ['0', '1']),\n",
              " ('TAG_html', ['0', '1']),\n",
              " ('TAG_http', ['0', '1']),\n",
              " ('TAG_humor', ['0', '1']),\n",
              " ('TAG_humour', ['0', '1']),\n",
              " ('TAG_ia', ['0', '1']),\n",
              " ('TAG_icon', ['0', '1']),\n",
              " ('TAG_icons', ['0', '1']),\n",
              " ('TAG_ide', ['0', '1']),\n",
              " ('TAG_idea', ['0', '1']),\n",
              " ('TAG_ideas', ['0', '1']),\n",
              " ('TAG_identity', ['0', '1']),\n",
              " ('TAG_ie', ['0', '1']),\n",
              " ('TAG_illustration', ['0', '1']),\n",
              " ('TAG_illustrator', ['0', '1']),\n",
              " ('TAG_im', ['0', '1']),\n",
              " ('TAG_image', ['0', '1']),\n",
              " ('TAG_images', ['0', '1']),\n",
              " ('TAG_imported', ['0', '1']),\n",
              " ('TAG_independent', ['0', '1']),\n",
              " ('TAG_indie', ['0', '1']),\n",
              " ('TAG_industrial', ['0', '1']),\n",
              " ('TAG_info', ['0', '1']),\n",
              " ('TAG_information', ['0', '1']),\n",
              " ('TAG_innovation', ['0', '1']),\n",
              " ('TAG_inspiration', ['0', '1']),\n",
              " ('TAG_install', ['0', '1']),\n",
              " ('TAG_installation', ['0', '1']),\n",
              " ('TAG_intelligence', ['0', '1']),\n",
              " ('TAG_interaction', ['0', '1']),\n",
              " ('TAG_interactive', ['0', '1']),\n",
              " ('TAG_interesting', ['0', '1']),\n",
              " ('TAG_interface', ['0', '1']),\n",
              " ('TAG_interior', ['0', '1']),\n",
              " ('TAG_international', ['0', '1']),\n",
              " ('TAG_internet', ['0', '1']),\n",
              " ('TAG_interview', ['0', '1']),\n",
              " ('TAG_investing', ['0', '1']),\n",
              " ('TAG_investment', ['0', '1']),\n",
              " ('TAG_ip', ['0', '1']),\n",
              " ('TAG_ipod', ['0', '1']),\n",
              " ('TAG_iptv', ['0', '1']),\n",
              " ('TAG_it', ['0', '1']),\n",
              " ('TAG_itunes', ['0', '1']),\n",
              " ('TAG_j2ee', ['0', '1']),\n",
              " ('TAG_japan', ['0', '1']),\n",
              " ('TAG_japanese', ['0', '1']),\n",
              " ('TAG_java', ['0', '1']),\n",
              " ('TAG_javascript', ['0', '1']),\n",
              " ('TAG_jewelry', ['0', '1']),\n",
              " ('TAG_job', ['0', '1']),\n",
              " ('TAG_jobs', ['0', '1']),\n",
              " ('TAG_jobsearch', ['0', '1']),\n",
              " ('TAG_jogos', ['0', '1']),\n",
              " ('TAG_john/rodney', ['0', '1']),\n",
              " ('TAG_johnsheppard', ['0', '1']),\n",
              " ('TAG_journal', ['0', '1']),\n",
              " ('TAG_journalism', ['0', '1']),\n",
              " ('TAG_journals', ['0', '1']),\n",
              " ('TAG_js', ['0', '1']),\n",
              " ('TAG_juegos', ['0', '1']),\n",
              " ('TAG_keyboard', ['0', '1']),\n",
              " ('TAG_keywords', ['0', '1']),\n",
              " ('TAG_kids', ['0', '1']),\n",
              " ('TAG_kitchen', ['0', '1']),\n",
              " ('TAG_knowledge', ['0', '1']),\n",
              " ('TAG_language', ['0', '1']),\n",
              " ('TAG_languages', ['0', '1']),\n",
              " ('TAG_laptop', ['0', '1']),\n",
              " ('TAG_law', ['0', '1']),\n",
              " ('TAG_layout', ['0', '1']),\n",
              " ('TAG_leadership', ['0', '1']),\n",
              " ('TAG_learn', ['0', '1']),\n",
              " ('TAG_learning', ['0', '1']),\n",
              " ('TAG_legal', ['0', '1']),\n",
              " ('TAG_lessons', ['0', '1']),\n",
              " ('TAG_liberal', ['0', '1']),\n",
              " ('TAG_libraries', ['0', '1']),\n",
              " ('TAG_library', ['0', '1']),\n",
              " ('TAG_life', ['0', '1']),\n",
              " ('TAG_lifehack', ['0', '1']),\n",
              " ('TAG_lifehacker', ['0', '1']),\n",
              " ('TAG_lifehacks', ['0', '1']),\n",
              " ('TAG_lifestyle', ['0', '1']),\n",
              " ('TAG_lighting', ['0', '1']),\n",
              " ('TAG_linguistics', ['0', '1']),\n",
              " ('TAG_links', ['0', '1']),\n",
              " ('TAG_linux', ['0', '1']),\n",
              " ('TAG_list', ['0', '1']),\n",
              " ('TAG_lists', ['0', '1']),\n",
              " ('TAG_literature', ['0', '1']),\n",
              " ('TAG_live', ['0', '1']),\n",
              " ('TAG_living', ['0', '1']),\n",
              " ('TAG_local', ['0', '1']),\n",
              " ('TAG_location', ['0', '1']),\n",
              " ('TAG_logic', ['0', '1']),\n",
              " ('TAG_logo', ['0', '1']),\n",
              " ('TAG_logos', ['0', '1']),\n",
              " ('TAG_london', ['0', '1']),\n",
              " ('TAG_long', ['0', '1']),\n",
              " ('TAG_mac', ['0', '1']),\n",
              " ('TAG_macintosh', ['0', '1']),\n",
              " ('TAG_macosx', ['0', '1']),\n",
              " ('TAG_magazine', ['0', '1']),\n",
              " ('TAG_magazines', ['0', '1']),\n",
              " ('TAG_mail', ['0', '1']),\n",
              " ('TAG_make', ['0', '1']),\n",
              " ('TAG_management', ['0', '1']),\n",
              " ('TAG_manual', ['0', '1']),\n",
              " ('TAG_map', ['0', '1']),\n",
              " ('TAG_mapas', ['0', '1']),\n",
              " ('TAG_mapping', ['0', '1']),\n",
              " ('TAG_maps', ['0', '1']),\n",
              " ('TAG_market', ['0', '1']),\n",
              " ('TAG_marketing', ['0', '1']),\n",
              " ('TAG_mashup', ['0', '1']),\n",
              " ('TAG_mashups', ['0', '1']),\n",
              " ('TAG_math', ['0', '1']),\n",
              " ('TAG_mathematics', ['0', '1']),\n",
              " ('TAG_maths', ['0', '1']),\n",
              " ('TAG_mckay/sheppard', ['0', '1']),\n",
              " ('TAG_mcshep', ['0', '1']),\n",
              " ('TAG_media', ['0', '1']),\n",
              " ('TAG_medical', ['0', '1']),\n",
              " ('TAG_medicine', ['0', '1']),\n",
              " ('TAG_memory', ['0', '1']),\n",
              " ('TAG_menu', ['0', '1']),\n",
              " ('TAG_messaging', ['0', '1']),\n",
              " ('TAG_metadata', ['0', '1']),\n",
              " ('TAG_microsoft', ['0', '1']),\n",
              " ('TAG_mind', ['0', '1']),\n",
              " ('TAG_misc', ['0', '1']),\n",
              " ('TAG_mit', ['0', '1']),\n",
              " ('TAG_mmorpg', ['0', '1']),\n",
              " ('TAG_mobile', ['0', '1']),\n",
              " ('TAG_moda', ['0', '1']),\n",
              " ('TAG_modern', ['0', '1']),\n",
              " ('TAG_monday', ['0', '1']),\n",
              " ('TAG_money', ['0', '1']),\n",
              " ('TAG_monitor', ['0', '1']),\n",
              " ('TAG_monitoring', ['0', '1']),\n",
              " ('TAG_motion', ['0', '1']),\n",
              " ('TAG_motiongraphics', ['0', '1']),\n",
              " ('TAG_motivation', ['0', '1']),\n",
              " ('TAG_movie', ['0', '1']),\n",
              " ('TAG_movies', ['0', '1']),\n",
              " ('TAG_mozilla', ['0', '1']),\n",
              " ('TAG_mp3', ['0', '1']),\n",
              " ('TAG_mp3blog', ['0', '1']),\n",
              " ('TAG_mp3s', ['0', '1']),\n",
              " ('TAG_msdn', ['0', '1']),\n",
              " ('TAG_multimedia', ['0', '1']),\n",
              " ('TAG_museum', ['0', '1']),\n",
              " ('TAG_music', ['0', '1']),\n",
              " ('TAG_musica', ['0', '1']),\n",
              " ('TAG_musik', ['0', '1']),\n",
              " ('TAG_mvc', ['0', '1']),\n",
              " ('TAG_myspace', ['0', '1']),\n",
              " ('TAG_mysql', ['0', '1']),\n",
              " (\"TAG_m\\\\'usica\", ['0', '1']),\n",
              " ('TAG_nature', ['0', '1']),\n",
              " ('TAG_navigation', ['0', '1']),\n",
              " ('TAG_nc-17', ['0', '1']),\n",
              " ('TAG_nc17', ['0', '1']),\n",
              " ('TAG_network', ['0', '1']),\n",
              " ('TAG_networking', ['0', '1']),\n",
              " ('TAG_networks', ['0', '1']),\n",
              " ('TAG_new', ['0', '1']),\n",
              " ('TAG_news', ['0', '1']),\n",
              " ('TAG_newspaper', ['0', '1']),\n",
              " ('TAG_newspapers', ['0', '1']),\n",
              " ('TAG_newyork', ['0', '1']),\n",
              " ('TAG_nintendo', ['0', '1']),\n",
              " ('TAG_nokia', ['0', '1']),\n",
              " ('TAG_nonprofit', ['0', '1']),\n",
              " ('TAG_notes', ['0', '1']),\n",
              " ('TAG_nutrition', ['0', '1']),\n",
              " ('TAG_nyc', ['0', '1']),\n",
              " ('TAG_office', ['0', '1']),\n",
              " ('TAG_online', ['0', '1']),\n",
              " ('TAG_oop', ['0', '1']),\n",
              " ('TAG_open', ['0', '1']),\n",
              " ('TAG_open-source', ['0', '1']),\n",
              " ('TAG_opensource', ['0', '1']),\n",
              " ('TAG_opinion', ['0', '1']),\n",
              " ('TAG_optimization', ['0', '1']),\n",
              " ('TAG_organic', ['0', '1']),\n",
              " ('TAG_organization', ['0', '1']),\n",
              " ('TAG_os', ['0', '1']),\n",
              " ('TAG_oss', ['0', '1']),\n",
              " ('TAG_osx', ['0', '1']),\n",
              " ('TAG_p2p', ['0', '1']),\n",
              " ('TAG_painting', ['0', '1']),\n",
              " ('TAG_palm', ['0', '1']),\n",
              " ('TAG_paper', ['0', '1']),\n",
              " ('TAG_parody', ['0', '1']),\n",
              " ('TAG_pattern', ['0', '1']),\n",
              " ('TAG_patterns', ['0', '1']),\n",
              " ('TAG_pc', ['0', '1']),\n",
              " ('TAG_pda', ['0', '1']),\n",
              " ('TAG_pdf', ['0', '1']),\n",
              " ('TAG_people', ['0', '1']),\n",
              " ('TAG_performance', ['0', '1']),\n",
              " ('TAG_perl', ['0', '1']),\n",
              " ('TAG_personal', ['0', '1']),\n",
              " ('TAG_philosophy', ['0', '1']),\n",
              " ('TAG_phone', ['0', '1']),\n",
              " ('TAG_phones', ['0', '1']),\n",
              " ('TAG_photo', ['0', '1']),\n",
              " ('TAG_photographer', ['0', '1']),\n",
              " ('TAG_photographers', ['0', '1']),\n",
              " ('TAG_photography', ['0', '1']),\n",
              " ('TAG_photos', ['0', '1']),\n",
              " ('TAG_photoshop', ['0', '1']),\n",
              " ('TAG_php', ['0', '1']),\n",
              " ('TAG_physics', ['0', '1']),\n",
              " ('TAG_pics', ['0', '1']),\n",
              " ('TAG_picture', ['0', '1']),\n",
              " ('TAG_pictures', ['0', '1']),\n",
              " ('TAG_planning', ['0', '1']),\n",
              " ('TAG_player', ['0', '1']),\n",
              " ('TAG_plugin', ['0', '1']),\n",
              " ('TAG_plugins', ['0', '1']),\n",
              " ('TAG_pocketpc', ['0', '1']),\n",
              " ('TAG_podcast', ['0', '1']),\n",
              " ('TAG_podcasting', ['0', '1']),\n",
              " ('TAG_podcasts', ['0', '1']),\n",
              " ('TAG_policy', ['0', '1']),\n",
              " ('TAG_political', ['0', '1']),\n",
              " ('TAG_politics', ['0', '1']),\n",
              " ('TAG_porn', ['0', '1']),\n",
              " ('TAG_portable', ['0', '1']),\n",
              " ('TAG_portal', ['0', '1']),\n",
              " ('TAG_portfolio', ['0', '1']),\n",
              " ('TAG_portfolios', ['0', '1']),\n",
              " ('TAG_posters', ['0', '1']),\n",
              " ('TAG_power', ['0', '1']),\n",
              " ('TAG_ppc', ['0', '1']),\n",
              " ('TAG_presentation', ['0', '1']),\n",
              " ('TAG_presentations', ['0', '1']),\n",
              " ('TAG_print', ['0', '1']),\n",
              " ('TAG_printing', ['0', '1']),\n",
              " ('TAG_privacy', ['0', '1']),\n",
              " ('TAG_process', ['0', '1']),\n",
              " ('TAG_product', ['0', '1']),\n",
              " ('TAG_productivity', ['0', '1']),\n",
              " ('TAG_products', ['0', '1']),\n",
              " ('TAG_programming', ['0', '1']),\n",
              " ('TAG_progressive', ['0', '1']),\n",
              " ('TAG_project', ['0', '1']),\n",
              " ('TAG_projectmanagement', ['0', '1']),\n",
              " ('TAG_projects', ['0', '1']),\n",
              " ('TAG_propaganda', ['0', '1']),\n",
              " ('TAG_prototype', ['0', '1']),\n",
              " ('TAG_proxy', ['0', '1']),\n",
              " ('TAG_psychology', ['0', '1']),\n",
              " ('TAG_public', ['0', '1']),\n",
              " ('TAG_publishing', ['0', '1']),\n",
              " ('TAG_puzzle', ['0', '1']),\n",
              " ('TAG_puzzles', ['0', '1']),\n",
              " ('TAG_pvr', ['0', '1']),\n",
              " ('TAG_python', ['0', '1']),\n",
              " ('TAG_quiz', ['0', '1']),\n",
              " ('TAG_quotes', ['0', '1']),\n",
              " ('TAG_r', ['0', '1']),\n",
              " ('TAG_radio', ['0', '1']),\n",
              " ('TAG_rails', ['0', '1']),\n",
              " ('TAG_random', ['0', '1']),\n",
              " ('TAG_ranking', ['0', '1']),\n",
              " ('TAG_read', ['0', '1']),\n",
              " ('TAG_reader', ['0', '1']),\n",
              " ('TAG_reading', ['0', '1']),\n",
              " ('TAG_realestate', ['0', '1']),\n",
              " ('TAG_recipe', ['0', '1']),\n",
              " ('TAG_recipes', ['0', '1']),\n",
              " ('TAG_recommendations', ['0', '1']),\n",
              " ('TAG_recording', ['0', '1']),\n",
              " ('TAG_recovery', ['0', '1']),\n",
              " ('TAG_recs', ['0', '1']),\n",
              " ('TAG_recursos', ['0', '1']),\n",
              " ('TAG_reference', ['0', '1']),\n",
              " ('TAG_religion', ['0', '1']),\n",
              " ('TAG_remote', ['0', '1']),\n",
              " ('TAG_repair', ['0', '1']),\n",
              " ('TAG_repository', ['0', '1']),\n",
              " ('TAG_research', ['0', '1']),\n",
              " ('TAG_resource', ['0', '1']),\n",
              " ('TAG_resources', ['0', '1']),\n",
              " ('TAG_rest', ['0', '1']),\n",
              " ('TAG_restaurant', ['0', '1']),\n",
              " ('TAG_restaurants', ['0', '1']),\n",
              " ('TAG_retail', ['0', '1']),\n",
              " ('TAG_retro', ['0', '1']),\n",
              " ('TAG_review', ['0', '1']),\n",
              " ('TAG_reviews', ['0', '1']),\n",
              " ('TAG_rock', ['0', '1']),\n",
              " ('TAG_rodneymckay', ['0', '1']),\n",
              " ('TAG_ror', ['0', '1']),\n",
              " ('TAG_router', ['0', '1']),\n",
              " ('TAG_rpg', ['0', '1']),\n",
              " ('TAG_rps', ['0', '1']),\n",
              " ('TAG_rss', ['0', '1']),\n",
              " ('TAG_ruby', ['0', '1']),\n",
              " ('TAG_rubyonrails', ['0', '1']),\n",
              " ('TAG_safari', ['0', '1']),\n",
              " ('TAG_safari_export', ['0', '1']),\n",
              " ('TAG_sam/dean', ['0', '1']),\n",
              " ('TAG_satire', ['0', '1']),\n",
              " ('TAG_scalability', ['0', '1']),\n",
              " ('TAG_school', ['0', '1']),\n",
              " ('TAG_science', ['0', '1']),\n",
              " ('TAG_scifi', ['0', '1']),\n",
              " ('TAG_scm', ['0', '1']),\n",
              " ('TAG_screen', ['0', '1']),\n",
              " ('TAG_script', ['0', '1']),\n",
              " ('TAG_scripting', ['0', '1']),\n",
              " ('TAG_scripts', ['0', '1']),\n",
              " ('TAG_search', ['0', '1']),\n",
              " ('TAG_searchengine', ['0', '1']),\n",
              " ('TAG_searchengines', ['0', '1']),\n",
              " ('TAG_security', ['0', '1']),\n",
              " ('TAG_sem', ['0', '1']),\n",
              " ('TAG_seo', ['0', '1']),\n",
              " ('TAG_series', ['0', '1']),\n",
              " ('TAG_server', ['0', '1']),\n",
              " ('TAG_service', ['0', '1']),\n",
              " ('TAG_services', ['0', '1']),\n",
              " ('TAG_setup', ['0', '1']),\n",
              " ('TAG_sex', ['0', '1']),\n",
              " ('TAG_sf', ['0', '1']),\n",
              " ('TAG_sga', ['0', '1']),\n",
              " ('TAG_share', ['0', '1']),\n",
              " ('TAG_shareware', ['0', '1']),\n",
              " ('TAG_sharing', ['0', '1']),\n",
              " ('TAG_shell', ['0', '1']),\n",
              " ('TAG_sheppard/mckay', ['0', '1']),\n",
              " ('TAG_shirts', ['0', '1']),\n",
              " ('TAG_shoes', ['0', '1']),\n",
              " ('TAG_shop', ['0', '1']),\n",
              " ('TAG_shopping', ['0', '1']),\n",
              " ('TAG_shops', ['0', '1']),\n",
              " ('TAG_showcase', ['0', '1']),\n",
              " ('TAG_shows', ['0', '1']),\n",
              " ('TAG_simulation', ['0', '1']),\n",
              " ('TAG_site', ['0', '1']),\n",
              " ('TAG_skype', ['0', '1']),\n",
              " ('TAG_slash', ['0', '1']),\n",
              " ('TAG_slideshow', ['0', '1']),\n",
              " ('TAG_sms', ['0', '1']),\n",
              " ('TAG_sns', ['0', '1']),\n",
              " ('TAG_social', ['0', '1']),\n",
              " ('TAG_socialnetwork', ['0', '1']),\n",
              " ('TAG_socialnetworking', ['0', '1']),\n",
              " ('TAG_socialsoftware', ['0', '1']),\n",
              " ('TAG_society', ['0', '1']),\n",
              " ('TAG_sociology', ['0', '1']),\n",
              " ('TAG_software', ['0', '1']),\n",
              " ('TAG_solar', ['0', '1']),\n",
              " ('TAG_sound', ['0', '1']),\n",
              " ('TAG_source', ['0', '1']),\n",
              " ('TAG_space', ['0', '1']),\n",
              " ('TAG_spam', ['0', '1']),\n",
              " ('TAG_spanish', ['0', '1']),\n",
              " ('TAG_speed', ['0', '1']),\n",
              " ('TAG_spn', ['0', '1']),\n",
              " ('TAG_sport', ['0', '1']),\n",
              " ('TAG_sports', ['0', '1']),\n",
              " ('TAG_sql', ['0', '1']),\n",
              " ('TAG_ssh', ['0', '1']),\n",
              " ('TAG_standards', ['0', '1']),\n",
              " ('TAG_startup', ['0', '1']),\n",
              " ('TAG_stationery', ['0', '1']),\n",
              " ('TAG_statistics', ['0', '1']),\n",
              " ('TAG_stats', ['0', '1']),\n",
              " ('TAG_stock', ['0', '1']),\n",
              " ('TAG_stocks', ['0', '1']),\n",
              " ('TAG_storage', ['0', '1']),\n",
              " ('TAG_store', ['0', '1']),\n",
              " ('TAG_stores', ['0', '1']),\n",
              " ('TAG_strategy', ['0', '1']),\n",
              " ('TAG_stream', ['0', '1']),\n",
              " ('TAG_streaming', ['0', '1']),\n",
              " ('TAG_street', ['0', '1']),\n",
              " ('TAG_studio', ['0', '1']),\n",
              " ('TAG_study', ['0', '1']),\n",
              " ('TAG_stuff', ['0', '1']),\n",
              " ('TAG_style', ['0', '1']),\n",
              " ('TAG_subversion', ['0', '1']),\n",
              " ('TAG_sun', ['0', '1']),\n",
              " ('TAG_supernatural', ['0', '1']),\n",
              " ('TAG_support', ['0', '1']),\n",
              " ('TAG_sustainability', ['0', '1']),\n",
              " ('TAG_sustainable', ['0', '1']),\n",
              " ('TAG_svn', ['0', '1']),\n",
              " ('TAG_sync', ['0', '1']),\n",
              " ('TAG_syndication', ['0', '1']),\n",
              " ('TAG_sysadmin', ['0', '1']),\n",
              " ('TAG_system', ['0', '1']),\n",
              " ('TAG_t-shirt', ['0', '1']),\n",
              " ('TAG_t-shirts', ['0', '1']),\n",
              " ('TAG_tag', ['0', '1']),\n",
              " ('TAG_tagging', ['0', '1']),\n",
              " ('TAG_tags', ['0', '1']),\n",
              " ('TAG_tdd', ['0', '1']),\n",
              " ('TAG_teaching', ['0', '1']),\n",
              " ('TAG_tech', ['0', '1']),\n",
              " ('TAG_technique', ['0', '1']),\n",
              " ('TAG_technology', ['0', '1']),\n",
              " ('TAG_telephone', ['0', '1']),\n",
              " ('TAG_telephony', ['0', '1']),\n",
              " ('TAG_television', ['0', '1']),\n",
              " ('TAG_template', ['0', '1']),\n",
              " ('TAG_templates', ['0', '1']),\n",
              " ('TAG_test', ['0', '1']),\n",
              " ('TAG_testing', ['0', '1']),\n",
              " ('TAG_text', ['0', '1']),\n",
              " ('TAG_theme', ['0', '1']),\n",
              " ('TAG_themes', ['0', '1']),\n",
              " ('TAG_theory', ['0', '1']),\n",
              " ('TAG_thinking', ['0', '1']),\n",
              " ('TAG_tickets', ['0', '1']),\n",
              " ('TAG_time', ['0', '1']),\n",
              " ('TAG_tipografia', ['0', '1']),\n",
              " ('TAG_tips', ['0', '1']),\n",
              " ('TAG_todo', ['0', '1']),\n",
              " ('TAG_tool', ['0', '1']),\n",
              " ('TAG_tools', ['0', '1']),\n",
              " ('TAG_top', ['0', '1']),\n",
              " ('TAG_toread', ['0', '1']),\n",
              " ('TAG_torrent', ['0', '1']),\n",
              " ('TAG_torrents', ['0', '1']),\n",
              " ('TAG_toys', ['0', '1']),\n",
              " ('TAG_tracking', ['0', '1']),\n",
              " ('TAG_trading', ['0', '1']),\n",
              " ('TAG_traffic', ['0', '1']),\n",
              " ('TAG_training', ['0', '1']),\n",
              " ('TAG_translation', ['0', '1']),\n",
              " ('TAG_transport', ['0', '1']),\n",
              " ('TAG_transportation', ['0', '1']),\n",
              " ('TAG_travel', ['0', '1']),\n",
              " ('TAG_trends', ['0', '1']),\n",
              " ('TAG_tricks', ['0', '1']),\n",
              " ('TAG_tshirt', ['0', '1']),\n",
              " ('TAG_tshirts', ['0', '1']),\n",
              " ('TAG_tutorial', ['0', '1']),\n",
              " ('TAG_tutorials', ['0', '1']),\n",
              " ('TAG_tv', ['0', '1']),\n",
              " ('TAG_tweak', ['0', '1']),\n",
              " ('TAG_tweaks', ['0', '1']),\n",
              " ('TAG_twitter', ['0', '1']),\n",
              " ('TAG_type', ['0', '1']),\n",
              " ('TAG_typo', ['0', '1']),\n",
              " ('TAG_typography', ['0', '1']),\n",
              " ('TAG_ubuntu', ['0', '1']),\n",
              " ('TAG_ui', ['0', '1']),\n",
              " ('TAG_uk', ['0', '1']),\n",
              " ('TAG_unix', ['0', '1']),\n",
              " ('TAG_unread', ['0', '1']),\n",
              " ('TAG_upload', ['0', '1']),\n",
              " ('TAG_urban', ['0', '1']),\n",
              " ('TAG_us', ['0', '1']),\n",
              " ('TAG_usa', ['0', '1']),\n",
              " ('TAG_usability', ['0', '1']),\n",
              " ('TAG_usb', ['0', '1']),\n",
              " ('TAG_useful', ['0', '1']),\n",
              " ('TAG_utilities', ['0', '1']),\n",
              " ('TAG_utility', ['0', '1']),\n",
              " ('TAG_vacation', ['0', '1']),\n",
              " ('TAG_vector', ['0', '1']),\n",
              " ('TAG_vegan', ['0', '1']),\n",
              " ('TAG_vegetarian', ['0', '1']),\n",
              " ('TAG_video', ['0', '1']),\n",
              " ('TAG_videogames', ['0', '1']),\n",
              " ('TAG_videos', ['0', '1']),\n",
              " ('TAG_vintage', ['0', '1']),\n",
              " ('TAG_viral', ['0', '1']),\n",
              " ('TAG_virtual', ['0', '1']),\n",
              " ('TAG_virtualization', ['0', '1']),\n",
              " ('TAG_vista', ['0', '1']),\n",
              " ('TAG_visual', ['0', '1']),\n",
              " ('TAG_visualization', ['0', '1']),\n",
              " ('TAG_visualstudio', ['0', '1']),\n",
              " ('TAG_voip', ['0', '1']),\n",
              " ('TAG_w3c', ['0', '1']),\n",
              " ('TAG_wallpaper', ['0', '1']),\n",
              " ('TAG_wallpapers', ['0', '1']),\n",
              " ('TAG_war', ['0', '1']),\n",
              " ('TAG_warez', ['0', '1']),\n",
              " ('TAG_web', ['0', '1']),\n",
              " ('TAG_web2.0', ['0', '1']),\n",
              " ('TAG_webapp', ['0', '1']),\n",
              " ('TAG_webcomic', ['0', '1']),\n",
              " ('TAG_webcomics', ['0', '1']),\n",
              " ('TAG_webdesign', ['0', '1']),\n",
              " ('TAG_webdev', ['0', '1']),\n",
              " ('TAG_webdevelopment', ['0', '1']),\n",
              " ('TAG_weblog', ['0', '1']),\n",
              " ('TAG_weblogs', ['0', '1']),\n",
              " ('TAG_webmaster', ['0', '1']),\n",
              " ('TAG_webradio', ['0', '1']),\n",
              " ('TAG_webserver', ['0', '1']),\n",
              " ('TAG_webservice', ['0', '1']),\n",
              " ('TAG_webservices', ['0', '1']),\n",
              " ('TAG_website', ['0', '1']),\n",
              " ('TAG_webstandards', ['0', '1']),\n",
              " ('TAG_wedding', ['0', '1']),\n",
              " ('TAG_weekly', ['0', '1']),\n",
              " ('TAG_weird', ['0', '1']),\n",
              " ('TAG_widget', ['0', '1']),\n",
              " ('TAG_widgets', ['0', '1']),\n",
              " ('TAG_wifi', ['0', '1']),\n",
              " ('TAG_wiki', ['0', '1']),\n",
              " ('TAG_wikipedia', ['0', '1']),\n",
              " ('TAG_wikis', ['0', '1']),\n",
              " ('TAG_windows', ['0', '1']),\n",
              " ('TAG_wireless', ['0', '1']),\n",
              " ('TAG_wishlist', ['0', '1']),\n",
              " ('TAG_women', ['0', '1']),\n",
              " ('TAG_word', ['0', '1']),\n",
              " ('TAG_wordpress', ['0', '1']),\n",
              " ('TAG_words', ['0', '1']),\n",
              " ('TAG_work', ['0', '1']),\n",
              " ('TAG_world', ['0', '1']),\n",
              " ('TAG_wp', ['0', '1']),\n",
              " ('TAG_writing', ['0', '1']),\n",
              " ('TAG_xhtml', ['0', '1']),\n",
              " ('TAG_xml', ['0', '1']),\n",
              " ('TAG_xp', ['0', '1']),\n",
              " ('TAG_yahoo', ['0', '1']),\n",
              " ('TAG_youtube', ['0', '1'])]"
            ]
          },
          "metadata": {},
          "execution_count": 62
        }
      ]
    },
    {
      "cell_type": "code",
      "source": [
        "#genbase, dataset con diferentes labels, que contiene secuencias de proteinas que pueden ser asignadas a otras proteinas familiares\n",
        "#un ejemplo de label puede ser PDOC00154 o PDOC00343"
      ],
      "metadata": {
        "id": "axf-l1Jtg462"
      },
      "execution_count": null,
      "outputs": []
    },
    {
      "cell_type": "code",
      "source": [
        "X_train, y_train, feature_names, label_names = load_dataset('genbase', 'train')\n",
        "X_test, y_test, _, _ = load_dataset('genbase', 'test')"
      ],
      "metadata": {
        "id": "x1ZcsBZfg467",
        "colab": {
          "base_uri": "https://localhost:8080/"
        },
        "outputId": "496ed106-29c6-41a7-872b-dce476989d89"
      },
      "execution_count": null,
      "outputs": [
        {
          "output_type": "stream",
          "name": "stdout",
          "text": [
            "genbase:train - exists, not redownloading\n",
            "genbase:test - exists, not redownloading\n"
          ]
        }
      ]
    },
    {
      "cell_type": "code",
      "source": [
        "feature_names[:10]"
      ],
      "metadata": {
        "id": "pogi5ipGg46-",
        "colab": {
          "base_uri": "https://localhost:8080/"
        },
        "outputId": "90e77439-c223-4e5b-c46f-dd038e454167"
      },
      "execution_count": null,
      "outputs": [
        {
          "output_type": "execute_result",
          "data": {
            "text/plain": [
              "[('protein',\n",
              "  ['O00060',\n",
              "   'O00139',\n",
              "   'O02741',\n",
              "   'O08424',\n",
              "   'O12984',\n",
              "   'O12988',\n",
              "   'O13224',\n",
              "   'O13351',\n",
              "   'O13433',\n",
              "   'O14343',\n",
              "   'O14558',\n",
              "   'O14782',\n",
              "   'O14788',\n",
              "   'O14936',\n",
              "   'O15066',\n",
              "   'O15886',\n",
              "   'O19131',\n",
              "   'O23826',\n",
              "   'O24585',\n",
              "   'O24594',\n",
              "   'O26662',\n",
              "   'O28538',\n",
              "   'O30851',\n",
              "   'O31288',\n",
              "   'O34328',\n",
              "   'O35066',\n",
              "   'O35071',\n",
              "   'O35235',\n",
              "   'O35734',\n",
              "   'O35787',\n",
              "   'O35878',\n",
              "   'O43093',\n",
              "   'O43416',\n",
              "   'O43557',\n",
              "   'O43896',\n",
              "   'O49886',\n",
              "   'O49939',\n",
              "   'O51628',\n",
              "   'O53021',\n",
              "   'O55165',\n",
              "   'O59469',\n",
              "   'O60282',\n",
              "   'O60333',\n",
              "   'O62683',\n",
              "   'O64966',\n",
              "   'O64967',\n",
              "   'O66105',\n",
              "   'O69241',\n",
              "   'O69242',\n",
              "   'O70589',\n",
              "   'O73919',\n",
              "   'O74164',\n",
              "   'O75001',\n",
              "   'O75888',\n",
              "   'O76819',\n",
              "   'O77510',\n",
              "   'O77736',\n",
              "   'O77764',\n",
              "   'O84033',\n",
              "   'O86110',\n",
              "   'O88658',\n",
              "   'O93591',\n",
              "   'O95049',\n",
              "   'O95235',\n",
              "   'O95239',\n",
              "   'O97605',\n",
              "   'O97626',\n",
              "   'P00347',\n",
              "   'P01374',\n",
              "   'P01375',\n",
              "   'P02248',\n",
              "   'P02470',\n",
              "   'P02471',\n",
              "   'P02472',\n",
              "   'P02473',\n",
              "   'P02474',\n",
              "   'P02475',\n",
              "   'P02476',\n",
              "   'P02477',\n",
              "   'P02478',\n",
              "   'P02479',\n",
              "   'P02480',\n",
              "   'P02481',\n",
              "   'P02482',\n",
              "   'P02483',\n",
              "   'P02484',\n",
              "   'P02485',\n",
              "   'P02486',\n",
              "   'P02487',\n",
              "   'P02488',\n",
              "   'P02489',\n",
              "   'P02490',\n",
              "   'P02491',\n",
              "   'P02492',\n",
              "   'P02493',\n",
              "   'P02494',\n",
              "   'P02495',\n",
              "   'P02497',\n",
              "   'P02498',\n",
              "   'P02499',\n",
              "   'P02500',\n",
              "   'P02501',\n",
              "   'P02502',\n",
              "   'P02503',\n",
              "   'P02504',\n",
              "   'P02505',\n",
              "   'P02506',\n",
              "   'P02507',\n",
              "   'P02508',\n",
              "   'P02509',\n",
              "   'P02510',\n",
              "   'P02511',\n",
              "   'P02512',\n",
              "   'P02513',\n",
              "   'P02515',\n",
              "   'P02516',\n",
              "   'P02517',\n",
              "   'P02518',\n",
              "   'P02519',\n",
              "   'P02520',\n",
              "   'P03993',\n",
              "   'P04035',\n",
              "   'P04120',\n",
              "   'P04374',\n",
              "   'P04792',\n",
              "   'P04793',\n",
              "   'P04794',\n",
              "   'P04795',\n",
              "   'P04838',\n",
              "   'P04924',\n",
              "   'P05092',\n",
              "   'P05161',\n",
              "   'P05477',\n",
              "   'P05478',\n",
              "   'P05811',\n",
              "   'P05812',\n",
              "   'P06581',\n",
              "   'P06582',\n",
              "   'P06804',\n",
              "   'P06904',\n",
              "   'P07174',\n",
              "   'P08138',\n",
              "   'P08487',\n",
              "   'P08565',\n",
              "   'P08618',\n",
              "   'P08954',\n",
              "   'P09194',\n",
              "   'P09225',\n",
              "   'P09610',\n",
              "   'P09886',\n",
              "   'P09887',\n",
              "   'P10154',\n",
              "   'P10255',\n",
              "   'P10686',\n",
              "   'P10687',\n",
              "   'P10688',\n",
              "   'P10894',\n",
              "   'P10895',\n",
              "   'P11441',\n",
              "   'P11890',\n",
              "   'P12683',\n",
              "   'P12684',\n",
              "   'P12809',\n",
              "   'P12810',\n",
              "   'P12811',\n",
              "   'P12812',\n",
              "   'P13117',\n",
              "   'P13217',\n",
              "   'P13296',\n",
              "   'P13702',\n",
              "   'P13853',\n",
              "   'P14088',\n",
              "   'P14262',\n",
              "   'P14602',\n",
              "   'P14624',\n",
              "   'P14773',\n",
              "   'P14792',\n",
              "   'P14832',\n",
              "   'P14851',\n",
              "   'P14891',\n",
              "   'P15174',\n",
              "   'P15425',\n",
              "   'P15454',\n",
              "   'P15725',\n",
              "   'P15990',\n",
              "   'P15991',\n",
              "   'P15992',\n",
              "   'P16237',\n",
              "   'P16393',\n",
              "   'P16599',\n",
              "   'P16709',\n",
              "   'P16885',\n",
              "   'P17119',\n",
              "   'P17120',\n",
              "   'P17210',\n",
              "   'P17742',\n",
              "   'P18105',\n",
              "   'P18253',\n",
              "   'P18519',\n",
              "   'P19036',\n",
              "   'P19037',\n",
              "   'P19101',\n",
              "   'P19174',\n",
              "   'P19242',\n",
              "   'P19243',\n",
              "   'P19244',\n",
              "   'P19438',\n",
              "   'P19752',\n",
              "   'P19848',\n",
              "   'P20333',\n",
              "   'P20334',\n",
              "   'P20480',\n",
              "   'P20685',\n",
              "   'P20715',\n",
              "   'P20752',\n",
              "   'P20753',\n",
              "   'P21071',\n",
              "   'P21074',\n",
              "   'P21126',\n",
              "   'P21568',\n",
              "   'P21569',\n",
              "   'P21613',\n",
              "   'P21671',\n",
              "   'P22011',\n",
              "   'P22589',\n",
              "   'P22934',\n",
              "   'P22979',\n",
              "   'P23284',\n",
              "   'P23285',\n",
              "   'P23324',\n",
              "   'P23383',\n",
              "   'P23398',\n",
              "   'P23563',\n",
              "   'P23678',\n",
              "   'P23869',\n",
              "   'P23927',\n",
              "   'P23928',\n",
              "   'P24135',\n",
              "   'P24234',\n",
              "   'P24279',\n",
              "   'P24339',\n",
              "   'P24367',\n",
              "   'P24368',\n",
              "   'P24369',\n",
              "   'P24525',\n",
              "   'P24622',\n",
              "   'P24623',\n",
              "   'P24631',\n",
              "   'P24632',\n",
              "   'P24756',\n",
              "   'P25007',\n",
              "   'P25118',\n",
              "   'P25119',\n",
              "   'P25205',\n",
              "   'P25206',\n",
              "   'P25334',\n",
              "   'P25445',\n",
              "   'P25446',\n",
              "   'P25455',\n",
              "   'P25719',\n",
              "   'P25942',\n",
              "   'P25943',\n",
              "   'P26445',\n",
              "   'P26842',\n",
              "   'P26882',\n",
              "   'P27396',\n",
              "   'P27397',\n",
              "   'P27512',\n",
              "   'P27548',\n",
              "   'P27777',\n",
              "   'P27879',\n",
              "   'P27880',\n",
              "   'P27895',\n",
              "   'P28025',\n",
              "   'P28517',\n",
              "   'P28738',\n",
              "   'P28739',\n",
              "   'P28740',\n",
              "   'P28741',\n",
              "   'P28742',\n",
              "   'P28743',\n",
              "   'P28908',\n",
              "   'P29057',\n",
              "   'P29058',\n",
              "   'P29117',\n",
              "   'P29209',\n",
              "   'P29210',\n",
              "   'P29458',\n",
              "   'P29469',\n",
              "   'P29496',\n",
              "   'P29553',\n",
              "   'P29595',\n",
              "   'P29778',\n",
              "   'P29779',\n",
              "   'P29820',\n",
              "   'P29825',\n",
              "   'P29830',\n",
              "   'P29965',\n",
              "   'P30218',\n",
              "   'P30219',\n",
              "   'P30221',\n",
              "   'P30222',\n",
              "   'P30223',\n",
              "   'P30236',\n",
              "   'P30405',\n",
              "   'P30412',\n",
              "   'P30414',\n",
              "   'P30415',\n",
              "   'P30664',\n",
              "   'P30665',\n",
              "   'P30666',\n",
              "   'P30693',\n",
              "   'P31006',\n",
              "   'P31007',\n",
              "   'P31016',\n",
              "   'P31170',\n",
              "   'P31673',\n",
              "   'P32364',\n",
              "   'P32383',\n",
              "   'P32628',\n",
              "   'P32970',\n",
              "   'P32971',\n",
              "   'P32972',\n",
              "   'P33173',\n",
              "   'P33174',\n",
              "   'P33175',\n",
              "   'P33176',\n",
              "   'P33620',\n",
              "   'P33991',\n",
              "   'P33992',\n",
              "   'P33993',\n",
              "   'P34015',\n",
              "   'P34024',\n",
              "   'P34135',\n",
              "   'P34136',\n",
              "   'P34328',\n",
              "   'P34540',\n",
              "   'P34647',\n",
              "   'P34696',\n",
              "   'P34790',\n",
              "   'P34791',\n",
              "   'P34887',\n",
              "   'P35137',\n",
              "   'P35176',\n",
              "   'P35385',\n",
              "   'P35544',\n",
              "   'P35545',\n",
              "   'P35627',\n",
              "   'P35978',\n",
              "   'P36939',\n",
              "   'P36940',\n",
              "   'P36941',\n",
              "   'P38132',\n",
              "   'P39447',\n",
              "   'P40377',\n",
              "   'P40826',\n",
              "   'P40920',\n",
              "   'P40977',\n",
              "   'P41047',\n",
              "   'P41155',\n",
              "   'P41272',\n",
              "   'P41273',\n",
              "   'P41274',\n",
              "   'P41316',\n",
              "   'P41389',\n",
              "   'P42693',\n",
              "   'P42739',\n",
              "   'P42740',\n",
              "   'P42929',\n",
              "   'P42930',\n",
              "   'P42931',\n",
              "   'P43256',\n",
              "   'P43299',\n",
              "   'P43489',\n",
              "   'P44310',\n",
              "   'P44499',\n",
              "   'P45723',\n",
              "   'P45877',\n",
              "   'P45962',\n",
              "   'P46195',\n",
              "   'P46254',\n",
              "   'P46379',\n",
              "   'P46516',\n",
              "   'P46574',\n",
              "   'P46697',\n",
              "   'P46729',\n",
              "   'P46730',\n",
              "   'P46731',\n",
              "   'P46732',\n",
              "   'P46863',\n",
              "   'P46864',\n",
              "   'P46865',\n",
              "   'P46867',\n",
              "   'P46869',\n",
              "   'P46870',\n",
              "   'P46871',\n",
              "   'P46872',\n",
              "   'P46873',\n",
              "   'P46874',\n",
              "   'P46875',\n",
              "   'P47103',\n",
              "   'P47353',\n",
              "   'P47741',\n",
              "   'P48019',\n",
              "   'P48020',\n",
              "   'P48021',\n",
              "   'P48022',\n",
              "   'P48023',\n",
              "   'P48094',\n",
              "   'P48467',\n",
              "   'P48510',\n",
              "   'P48820',\n",
              "   'P49634',\n",
              "   'P49635',\n",
              "   'P49697',\n",
              "   'P49717',\n",
              "   'P49718',\n",
              "   'P49731',\n",
              "   'P49735',\n",
              "   'P49736',\n",
              "   'P49739',\n",
              "   'P49792',\n",
              "   'P50284',\n",
              "   'P50555',\n",
              "   'P50591',\n",
              "   'P50592',\n",
              "   'P51178',\n",
              "   'P51432',\n",
              "   'P51435',\n",
              "   'P51639',\n",
              "   'P51742',\n",
              "   'P51743',\n",
              "   'P51749',\n",
              "   'P51867',\n",
              "   'P52009',\n",
              "   'P52010',\n",
              "   'P52011',\n",
              "   'P52012',\n",
              "   'P52013',\n",
              "   'P52014',\n",
              "   'P52015',\n",
              "   'P52016',\n",
              "   'P52017',\n",
              "   'P52018',\n",
              "   'P52732',\n",
              "   'P53086',\n",
              "   'P53091',\n",
              "   'P53691',\n",
              "   'P53728',\n",
              "   'P54578',\n",
              "   'P54725',\n",
              "   'P54726',\n",
              "   'P54727',\n",
              "   'P54728',\n",
              "   'P54936',\n",
              "   'P54960',\n",
              "   'P54985',\n",
              "   'P55812',\n",
              "   'P55852',\n",
              "   'P55853',\n",
              "   'P55854',\n",
              "   'P55855',\n",
              "   'P55857',\n",
              "   'P55861',\n",
              "   'P55862',\n",
              "   'P56103',\n",
              "   'P56536',\n",
              "   'P57509',\n",
              "   'P57640',\n",
              "   'P57888',\n",
              "   'P70096',\n",
              "   'P70175',\n",
              "   'P70290',\n",
              "   'P70917',\n",
              "   'P70918',\n",
              "   'P71578',\n",
              "   'P71659',\n",
              "   'P72648',\n",
              "   'P75526',\n",
              "   'P78352',\n",
              "   'P79337',\n",
              "   'P79374',\n",
              "   'P79955',\n",
              "   'P80311',\n",
              "   'P80485',\n",
              "   'P81531',\n",
              "   'P82147',\n",
              "   'P82266',\n",
              "   'P82530',\n",
              "   'P82531',\n",
              "   'P82533',\n",
              "   'P87051',\n",
              "   'P96193',\n",
              "   'P97310',\n",
              "   'P97311',\n",
              "   'P97329',\n",
              "   'P97541',\n",
              "   'Q00013',\n",
              "   'Q00445',\n",
              "   'Q00583',\n",
              "   'Q00649',\n",
              "   'Q00722',\n",
              "   'Q01230',\n",
              "   'Q01237',\n",
              "   'Q01544',\n",
              "   'Q01545',\n",
              "   'Q01559',\n",
              "   'Q01970',\n",
              "   'Q02158',\n",
              "   'Q02224',\n",
              "   'Q02241',\n",
              "   'Q03163',\n",
              "   'Q03928',\n",
              "   'Q05120',\n",
              "   'Q05474',\n",
              "   'Q05550',\n",
              "   'Q05557',\n",
              "   'Q05713',\n",
              "   'Q05832',\n",
              "   'Q06118',\n",
              "   'Q06332',\n",
              "   'Q06599',\n",
              "   'Q06600',\n",
              "   'Q06643',\n",
              "   'Q06823',\n",
              "   'Q07011',\n",
              "   'Q07157',\n",
              "   'Q07160',\n",
              "   'Q07371',\n",
              "   'Q07372',\n",
              "   'Q07722',\n",
              "   'Q07970',\n",
              "   'Q08275',\n",
              "   'Q08752',\n",
              "   'Q09637',\n",
              "   'Q09928',\n",
              "   'Q10169',\n",
              "   'Q10235',\n",
              "   'Q10283',\n",
              "   'Q12306',\n",
              "   'Q12329',\n",
              "   'Q12577',\n",
              "   'Q12649',\n",
              "   'Q12756',\n",
              "   'Q12840',\n",
              "   'Q12959',\n",
              "   'Q12988',\n",
              "   'Q13368',\n",
              "   'Q14168',\n",
              "   'Q14566',\n",
              "   'Q14807',\n",
              "   'Q15011',\n",
              "   'Q15147',\n",
              "   'Q15459',\n",
              "   'Q15646',\n",
              "   'Q15700',\n",
              "   'Q15843',\n",
              "   'Q16082',\n",
              "   'Q16774',\n",
              "   'Q21902',\n",
              "   'Q24210',\n",
              "   'Q24849',\n",
              "   'Q26454',\n",
              "   'Q27450',\n",
              "   'Q28203',\n",
              "   'Q29512',\n",
              "   'Q39493',\n",
              "   'Q39613',\n",
              "   'Q39818',\n",
              "   'Q41437',\n",
              "   'Q41438',\n",
              "   'Q41651',\n",
              "   'Q43704',\n",
              "   'Q50639',\n",
              "   'Q53595',\n",
              "   'Q57733',\n",
              "   'Q57809',\n",
              "   'Q58116',\n",
              "   'Q58371',\n",
              "   'Q58884',\n",
              "   'Q59468',\n",
              "   'Q59641',\n",
              "   'Q60275',\n",
              "   'Q60435',\n",
              "   'Q60575',\n",
              "   'Q60739',\n",
              "   'Q61768',\n",
              "   'Q61771',\n",
              "   'Q61881',\n",
              "   'Q62077',\n",
              "   'Q62108',\n",
              "   'Q62696',\n",
              "   'Q62724',\n",
              "   'Q62909',\n",
              "   'Q62915',\n",
              "   'Q62936',\n",
              "   'Q63199',\n",
              "   'Q63622',\n",
              "   'Q64211',\n",
              "   'Q64339',\n",
              "   'Q64520',\n",
              "   'Q90497',\n",
              "   'Q91311',\n",
              "   'Q91312',\n",
              "   'Q91517',\n",
              "   'Q91636',\n",
              "   'Q91637',\n",
              "   'Q91783',\n",
              "   'Q91876',\n",
              "   'Q92353',\n",
              "   'Q92376',\n",
              "   'Q92796',\n",
              "   'Q92956',\n",
              "   'Q93038',\n",
              "   'Q93068',\n",
              "   'Q95168',\n",
              "   'Q95661',\n",
              "   'Q96331',\n",
              "   'Q99661',\n",
              "   'Q99933',\n",
              "   'Q9CEE3',\n",
              "   'Q9HTM2',\n",
              "   'Q9JJK5',\n",
              "   'Q9JK92',\n",
              "   'Q9JT96',\n",
              "   'Q9JYB5',\n",
              "   'Q9K9Y2',\n",
              "   'Q9KNM4',\n",
              "   'Q9KX62',\n",
              "   'Q9KXS0',\n",
              "   'Q9NQ66',\n",
              "   'Q9P6I5',\n",
              "   'Q9PD76',\n",
              "   'Q9PL09',\n",
              "   'Q9PNB8',\n",
              "   'Q9PQS9',\n",
              "   'Q9QW07',\n",
              "   'Q9QXY1',\n",
              "   'Q9QZH3',\n",
              "   'Q9RS38',\n",
              "   'Q9UBY9',\n",
              "   'Q9UDY2',\n",
              "   'Q9UJY1',\n",
              "   'Q9UNP9',\n",
              "   'Q9V1R3',\n",
              "   'Q9V3G3',\n",
              "   'Q9WU72',\n",
              "   'Q9X215',\n",
              "   'Q9X6M5',\n",
              "   'Q9XEL8',\n",
              "   'Q9XHL5',\n",
              "   'Q9XT48',\n",
              "   'Q9Y275',\n",
              "   'Q9Y496',\n",
              "   'Q9Y7D2',\n",
              "   'Q9YAS4',\n",
              "   'Q9Z0U1',\n",
              "   'Q9Z616',\n",
              "   'Q9Z961',\n",
              "   'Q9ZCH7',\n",
              "   'Q9ZDQ3',\n",
              "   'Q9ZMB7']),\n",
              " ('PS00010', ['YES', 'NO']),\n",
              " ('PS00011', ['YES', 'NO']),\n",
              " ('PS00012', ['YES', 'NO']),\n",
              " ('PS00014', ['YES', 'NO']),\n",
              " ('PS00017', ['YES', 'NO']),\n",
              " ('PS00018', ['YES', 'NO']),\n",
              " ('PS00019', ['YES', 'NO']),\n",
              " ('PS00020', ['YES', 'NO']),\n",
              " ('PS00021', ['YES', 'NO'])]"
            ]
          },
          "metadata": {},
          "execution_count": 65
        }
      ]
    },
    {
      "cell_type": "code",
      "source": [
        "label_names"
      ],
      "metadata": {
        "id": "q7VdNXJtg47C",
        "colab": {
          "base_uri": "https://localhost:8080/"
        },
        "outputId": "9f3b1ed7-683c-4587-9e1a-bbc207150ffb"
      },
      "execution_count": null,
      "outputs": [
        {
          "output_type": "execute_result",
          "data": {
            "text/plain": [
              "[('PDOC00154', ['0', '1']),\n",
              " ('PDOC00343', ['0', '1']),\n",
              " ('PDOC00271', ['0', '1']),\n",
              " ('PDOC00064', ['0', '1']),\n",
              " ('PDOC00791', ['0', '1']),\n",
              " ('PDOC00380', ['0', '1']),\n",
              " ('PDOC50007', ['0', '1']),\n",
              " ('PDOC00224', ['0', '1']),\n",
              " ('PDOC00100', ['0', '1']),\n",
              " ('PDOC00670', ['0', '1']),\n",
              " ('PDOC50002', ['0', '1']),\n",
              " ('PDOC50106', ['0', '1']),\n",
              " ('PDOC00561', ['0', '1']),\n",
              " ('PDOC50017', ['0', '1']),\n",
              " ('PDOC50003', ['0', '1']),\n",
              " ('PDOC50006', ['0', '1']),\n",
              " ('PDOC50156', ['0', '1']),\n",
              " ('PDOC00662', ['0', '1']),\n",
              " ('PDOC00018', ['0', '1']),\n",
              " ('PDOC50001', ['0', '1']),\n",
              " ('PDOC00014', ['0', '1']),\n",
              " ('PDOC00750', ['0', '1']),\n",
              " ('PDOC50196', ['0', '1']),\n",
              " ('PDOC50199', ['0', '1']),\n",
              " ('PDOC00660', ['0', '1']),\n",
              " ('PDOC00653', ['0', '1']),\n",
              " ('PDOC00030', ['0', '1'])]"
            ]
          },
          "metadata": {},
          "execution_count": 66
        }
      ]
    },
    {
      "cell_type": "code",
      "source": [
        "#birds, dataset con diferentes labels siendo los diferentes tipos de pájaros posibles. Dependerá de los distintos tipos de sonidos"
      ],
      "metadata": {
        "id": "rRxassHUhqT7"
      },
      "execution_count": null,
      "outputs": []
    },
    {
      "cell_type": "code",
      "source": [
        "X_train, y_train, feature_names, label_names = load_dataset('birds', 'train')\n",
        "X_test, y_test, _, _ = load_dataset('birds', 'test')"
      ],
      "metadata": {
        "id": "le8qjUXkhqT_",
        "colab": {
          "base_uri": "https://localhost:8080/"
        },
        "outputId": "955ba313-16c8-4897-d0cf-b848dad30ec9"
      },
      "execution_count": null,
      "outputs": [
        {
          "output_type": "stream",
          "name": "stdout",
          "text": [
            "birds:train - exists, not redownloading\n",
            "birds:test - exists, not redownloading\n"
          ]
        }
      ]
    },
    {
      "cell_type": "code",
      "source": [
        "feature_names[:10]"
      ],
      "metadata": {
        "id": "wG_cMfM6hqUC",
        "colab": {
          "base_uri": "https://localhost:8080/"
        },
        "outputId": "15cdc726-4b6d-463d-ee7d-eeb890198c47"
      },
      "execution_count": null,
      "outputs": [
        {
          "output_type": "execute_result",
          "data": {
            "text/plain": [
              "[('audio-ssd1', 'NUMERIC'),\n",
              " ('audio-ssd2', 'NUMERIC'),\n",
              " ('audio-ssd3', 'NUMERIC'),\n",
              " ('audio-ssd4', 'NUMERIC'),\n",
              " ('audio-ssd5', 'NUMERIC'),\n",
              " ('audio-ssd6', 'NUMERIC'),\n",
              " ('audio-ssd7', 'NUMERIC'),\n",
              " ('audio-ssd8', 'NUMERIC'),\n",
              " ('audio-ssd9', 'NUMERIC'),\n",
              " ('audio-ssd10', 'NUMERIC')]"
            ]
          },
          "metadata": {},
          "execution_count": 69
        }
      ]
    },
    {
      "cell_type": "code",
      "source": [
        "label_names"
      ],
      "metadata": {
        "id": "Dm4EsmyMhqUE",
        "colab": {
          "base_uri": "https://localhost:8080/"
        },
        "outputId": "8f10cd32-ee23-4870-d2ce-0f37e54bdc68"
      },
      "execution_count": null,
      "outputs": [
        {
          "output_type": "execute_result",
          "data": {
            "text/plain": [
              "[('Brown Creeper', ['0', '1']),\n",
              " ('Pacific Wren', ['0', '1']),\n",
              " ('Pacific-slope Flycatcher', ['0', '1']),\n",
              " ('Red-breasted Nuthatch', ['0', '1']),\n",
              " ('Dark-eyed Junco', ['0', '1']),\n",
              " ('Olive-sided Flycatcher', ['0', '1']),\n",
              " ('Hermit Thrush', ['0', '1']),\n",
              " ('Chestnut-backed Chickadee', ['0', '1']),\n",
              " ('Varied Thrush', ['0', '1']),\n",
              " ('Hermit Warbler', ['0', '1']),\n",
              " (\"Swainson\\\\'s Thrush\", ['0', '1']),\n",
              " (\"Hammond\\\\'s Flycatcher\", ['0', '1']),\n",
              " ('Western Tanager', ['0', '1']),\n",
              " ('Black-headed Grosbeak', ['0', '1']),\n",
              " ('Golden Crowned Kinglet', ['0', '1']),\n",
              " ('Warbling Vireo', ['0', '1']),\n",
              " (\"MacGillivray\\\\'s Warbler\", ['0', '1']),\n",
              " (\"Stellar\\\\'s Jay\", ['0', '1']),\n",
              " ('Common Nighthawk', ['0', '1'])]"
            ]
          },
          "metadata": {},
          "execution_count": 70
        }
      ]
    },
    {
      "cell_type": "code",
      "source": [
        "#emotions, dataset con diferentes labels siendo los diferentes tippos de emociones posibles como amazed-suprised, relaxing-calm, etc,\n",
        "#esta relacionado con la musica y las emociones, es decir, los inputs son canciones."
      ],
      "metadata": {
        "id": "yzeZzO5MiPtS"
      },
      "execution_count": null,
      "outputs": []
    },
    {
      "cell_type": "code",
      "source": [
        "X_train, y_train, feature_names, label_names = load_dataset('emotions', 'train')\n",
        "X_test, y_test, _, _ = load_dataset('emotions', 'test')"
      ],
      "metadata": {
        "id": "A58JlPk_iPtV",
        "colab": {
          "base_uri": "https://localhost:8080/"
        },
        "outputId": "5999a278-d6a6-4289-9bc5-e775881d459f"
      },
      "execution_count": null,
      "outputs": [
        {
          "output_type": "stream",
          "name": "stdout",
          "text": [
            "emotions:train - exists, not redownloading\n",
            "emotions:test - exists, not redownloading\n"
          ]
        }
      ]
    },
    {
      "cell_type": "code",
      "source": [
        "feature_names[:10]"
      ],
      "metadata": {
        "id": "3i0ePb8piPtZ",
        "colab": {
          "base_uri": "https://localhost:8080/"
        },
        "outputId": "36c211b9-04d0-4e9a-bee8-2a1ae6a52f80"
      },
      "execution_count": null,
      "outputs": [
        {
          "output_type": "execute_result",
          "data": {
            "text/plain": [
              "[('Mean_Acc1298_Mean_Mem40_Centroid', 'NUMERIC'),\n",
              " ('Mean_Acc1298_Mean_Mem40_Rolloff', 'NUMERIC'),\n",
              " ('Mean_Acc1298_Mean_Mem40_Flux', 'NUMERIC'),\n",
              " ('Mean_Acc1298_Mean_Mem40_MFCC_0', 'NUMERIC'),\n",
              " ('Mean_Acc1298_Mean_Mem40_MFCC_1', 'NUMERIC'),\n",
              " ('Mean_Acc1298_Mean_Mem40_MFCC_2', 'NUMERIC'),\n",
              " ('Mean_Acc1298_Mean_Mem40_MFCC_3', 'NUMERIC'),\n",
              " ('Mean_Acc1298_Mean_Mem40_MFCC_4', 'NUMERIC'),\n",
              " ('Mean_Acc1298_Mean_Mem40_MFCC_5', 'NUMERIC'),\n",
              " ('Mean_Acc1298_Mean_Mem40_MFCC_6', 'NUMERIC')]"
            ]
          },
          "metadata": {},
          "execution_count": 73
        }
      ]
    },
    {
      "cell_type": "code",
      "source": [
        "label_names"
      ],
      "metadata": {
        "id": "dGHsgx4siPta",
        "colab": {
          "base_uri": "https://localhost:8080/"
        },
        "outputId": "d17c3c23-5d76-440a-8b22-9b24d81e5716"
      },
      "execution_count": null,
      "outputs": [
        {
          "output_type": "execute_result",
          "data": {
            "text/plain": [
              "[('amazed-suprised', ['0', '1']),\n",
              " ('happy-pleased', ['0', '1']),\n",
              " ('relaxing-calm', ['0', '1']),\n",
              " ('quiet-still', ['0', '1']),\n",
              " ('sad-lonely', ['0', '1']),\n",
              " ('angry-aggresive', ['0', '1'])]"
            ]
          },
          "metadata": {},
          "execution_count": 74
        }
      ]
    },
    {
      "cell_type": "code",
      "source": [
        "#mediamill, dataset con diferentes labels desde la clase 1 hasta la clase 101"
      ],
      "metadata": {
        "id": "zZqGaljriygn"
      },
      "execution_count": null,
      "outputs": []
    },
    {
      "cell_type": "code",
      "source": [
        "X_train, y_train, feature_names, label_names = load_dataset('mediamill', 'train')\n",
        "X_test, y_test, _, _ = load_dataset('mediamill', 'test')"
      ],
      "metadata": {
        "id": "Qv_hDQaNiygq",
        "colab": {
          "base_uri": "https://localhost:8080/"
        },
        "outputId": "9ad9fd30-07a7-4af7-ac90-06ba78c2c953"
      },
      "execution_count": null,
      "outputs": [
        {
          "output_type": "stream",
          "name": "stdout",
          "text": [
            "mediamill:train - exists, not redownloading\n",
            "mediamill:test - exists, not redownloading\n"
          ]
        }
      ]
    },
    {
      "cell_type": "code",
      "source": [
        "feature_names[:10]"
      ],
      "metadata": {
        "id": "dDzO-FUJiygs",
        "colab": {
          "base_uri": "https://localhost:8080/"
        },
        "outputId": "ab25c3ec-278b-486b-ccf0-ca16e5d3f9a3"
      },
      "execution_count": null,
      "outputs": [
        {
          "output_type": "execute_result",
          "data": {
            "text/plain": [
              "[('Att1', 'NUMERIC'),\n",
              " ('Att2', 'NUMERIC'),\n",
              " ('Att3', 'NUMERIC'),\n",
              " ('Att4', 'NUMERIC'),\n",
              " ('Att5', 'NUMERIC'),\n",
              " ('Att6', 'NUMERIC'),\n",
              " ('Att7', 'NUMERIC'),\n",
              " ('Att8', 'NUMERIC'),\n",
              " ('Att9', 'NUMERIC'),\n",
              " ('Att10', 'NUMERIC')]"
            ]
          },
          "metadata": {},
          "execution_count": 77
        }
      ]
    },
    {
      "cell_type": "code",
      "source": [
        "label_names"
      ],
      "metadata": {
        "id": "NbgIWYsaiygu",
        "colab": {
          "base_uri": "https://localhost:8080/"
        },
        "outputId": "c7406c09-a3f6-4d60-87ee-397398607d03"
      },
      "execution_count": null,
      "outputs": [
        {
          "output_type": "execute_result",
          "data": {
            "text/plain": [
              "[('Class1', ['0', '1']),\n",
              " ('Class2', ['0', '1']),\n",
              " ('Class3', ['0', '1']),\n",
              " ('Class4', ['0', '1']),\n",
              " ('Class5', ['0', '1']),\n",
              " ('Class6', ['0', '1']),\n",
              " ('Class7', ['0', '1']),\n",
              " ('Class8', ['0', '1']),\n",
              " ('Class9', ['0', '1']),\n",
              " ('Class10', ['0', '1']),\n",
              " ('Class11', ['0', '1']),\n",
              " ('Class12', ['0', '1']),\n",
              " ('Class13', ['0', '1']),\n",
              " ('Class14', ['0', '1']),\n",
              " ('Class15', ['0', '1']),\n",
              " ('Class16', ['0', '1']),\n",
              " ('Class17', ['0', '1']),\n",
              " ('Class18', ['0', '1']),\n",
              " ('Class19', ['0', '1']),\n",
              " ('Class20', ['0', '1']),\n",
              " ('Class21', ['0', '1']),\n",
              " ('Class22', ['0', '1']),\n",
              " ('Class23', ['0', '1']),\n",
              " ('Class24', ['0', '1']),\n",
              " ('Class25', ['0', '1']),\n",
              " ('Class26', ['0', '1']),\n",
              " ('Class27', ['0', '1']),\n",
              " ('Class28', ['0', '1']),\n",
              " ('Class29', ['0', '1']),\n",
              " ('Class30', ['0', '1']),\n",
              " ('Class31', ['0', '1']),\n",
              " ('Class32', ['0', '1']),\n",
              " ('Class33', ['0', '1']),\n",
              " ('Class34', ['0', '1']),\n",
              " ('Class35', ['0', '1']),\n",
              " ('Class36', ['0', '1']),\n",
              " ('Class37', ['0', '1']),\n",
              " ('Class38', ['0', '1']),\n",
              " ('Class39', ['0', '1']),\n",
              " ('Class40', ['0', '1']),\n",
              " ('Class41', ['0', '1']),\n",
              " ('Class42', ['0', '1']),\n",
              " ('Class43', ['0', '1']),\n",
              " ('Class44', ['0', '1']),\n",
              " ('Class45', ['0', '1']),\n",
              " ('Class46', ['0', '1']),\n",
              " ('Class47', ['0', '1']),\n",
              " ('Class48', ['0', '1']),\n",
              " ('Class49', ['0', '1']),\n",
              " ('Class50', ['0', '1']),\n",
              " ('Class51', ['0', '1']),\n",
              " ('Class52', ['0', '1']),\n",
              " ('Class53', ['0', '1']),\n",
              " ('Class54', ['0', '1']),\n",
              " ('Class55', ['0', '1']),\n",
              " ('Class56', ['0', '1']),\n",
              " ('Class57', ['0', '1']),\n",
              " ('Class58', ['0', '1']),\n",
              " ('Class59', ['0', '1']),\n",
              " ('Class60', ['0', '1']),\n",
              " ('Class61', ['0', '1']),\n",
              " ('Class62', ['0', '1']),\n",
              " ('Class63', ['0', '1']),\n",
              " ('Class64', ['0', '1']),\n",
              " ('Class65', ['0', '1']),\n",
              " ('Class66', ['0', '1']),\n",
              " ('Class67', ['0', '1']),\n",
              " ('Class68', ['0', '1']),\n",
              " ('Class69', ['0', '1']),\n",
              " ('Class70', ['0', '1']),\n",
              " ('Class71', ['0', '1']),\n",
              " ('Class72', ['0', '1']),\n",
              " ('Class73', ['0', '1']),\n",
              " ('Class74', ['0', '1']),\n",
              " ('Class75', ['0', '1']),\n",
              " ('Class76', ['0', '1']),\n",
              " ('Class77', ['0', '1']),\n",
              " ('Class78', ['0', '1']),\n",
              " ('Class79', ['0', '1']),\n",
              " ('Class80', ['0', '1']),\n",
              " ('Class81', ['0', '1']),\n",
              " ('Class82', ['0', '1']),\n",
              " ('Class83', ['0', '1']),\n",
              " ('Class84', ['0', '1']),\n",
              " ('Class85', ['0', '1']),\n",
              " ('Class86', ['0', '1']),\n",
              " ('Class87', ['0', '1']),\n",
              " ('Class88', ['0', '1']),\n",
              " ('Class89', ['0', '1']),\n",
              " ('Class90', ['0', '1']),\n",
              " ('Class91', ['0', '1']),\n",
              " ('Class92', ['0', '1']),\n",
              " ('Class93', ['0', '1']),\n",
              " ('Class94', ['0', '1']),\n",
              " ('Class95', ['0', '1']),\n",
              " ('Class96', ['0', '1']),\n",
              " ('Class97', ['0', '1']),\n",
              " ('Class98', ['0', '1']),\n",
              " ('Class99', ['0', '1']),\n",
              " ('Class100', ['0', '1']),\n",
              " ('Class101', ['0', '1'])]"
            ]
          },
          "metadata": {},
          "execution_count": 78
        }
      ]
    },
    {
      "cell_type": "code",
      "source": [
        "#medical, dataset con diferentes labels desde la clase 1 hasta la clase 44"
      ],
      "metadata": {
        "id": "L5iRGIfqjEVg"
      },
      "execution_count": null,
      "outputs": []
    },
    {
      "cell_type": "code",
      "source": [
        "X_train, y_train, feature_names, label_names = load_dataset('medical', 'train')\n",
        "X_test, y_test, _, _ = load_dataset('medical', 'test')"
      ],
      "metadata": {
        "id": "7ejwPSSajEVm",
        "colab": {
          "base_uri": "https://localhost:8080/"
        },
        "outputId": "d6da97c3-1190-4fa0-df66-109284667d9c"
      },
      "execution_count": null,
      "outputs": [
        {
          "output_type": "stream",
          "name": "stdout",
          "text": [
            "medical:train - exists, not redownloading\n",
            "medical:test - exists, not redownloading\n"
          ]
        }
      ]
    },
    {
      "cell_type": "code",
      "source": [
        "feature_names[:10]"
      ],
      "metadata": {
        "id": "5cNqikuhjEVr",
        "colab": {
          "base_uri": "https://localhost:8080/"
        },
        "outputId": "26a56e15-fd78-4a25-fd56-afa7b43ccaee"
      },
      "execution_count": null,
      "outputs": [
        {
          "output_type": "execute_result",
          "data": {
            "text/plain": [
              "[('-', ['0', '1']),\n",
              " ('/', ['0', '1']),\n",
              " ('0', ['0', '1']),\n",
              " ('00', ['0', '1']),\n",
              " ('04', ['0', '1']),\n",
              " ('0;', ['0', '1']),\n",
              " ('0cm', ['0', '1']),\n",
              " ('1', ['0', '1']),\n",
              " ('1-1/2', ['0', '1']),\n",
              " ('1-1/2-year', ['0', '1'])]"
            ]
          },
          "metadata": {},
          "execution_count": 81
        }
      ]
    },
    {
      "cell_type": "code",
      "source": [
        "label_names"
      ],
      "metadata": {
        "id": "LqqaemimjEVv",
        "colab": {
          "base_uri": "https://localhost:8080/"
        },
        "outputId": "e62862ae-9dbb-4551-9c76-0de06f0b1b43"
      },
      "execution_count": null,
      "outputs": [
        {
          "output_type": "execute_result",
          "data": {
            "text/plain": [
              "[('Class-0-593_70', ['0', '1']),\n",
              " ('Class-1-079_99', ['0', '1']),\n",
              " ('Class-2-786_09', ['0', '1']),\n",
              " ('Class-3-759_89', ['0', '1']),\n",
              " ('Class-4-753_0', ['0', '1']),\n",
              " ('Class-5-786_2', ['0', '1']),\n",
              " ('Class-6-V72_5', ['0', '1']),\n",
              " ('Class-7-511_9', ['0', '1']),\n",
              " ('Class-8-596_8', ['0', '1']),\n",
              " ('Class-9-599_0', ['0', '1']),\n",
              " ('Class-10-518_0', ['0', '1']),\n",
              " ('Class-11-593_5', ['0', '1']),\n",
              " ('Class-12-V13_09', ['0', '1']),\n",
              " ('Class-13-791_0', ['0', '1']),\n",
              " ('Class-14-789_00', ['0', '1']),\n",
              " ('Class-15-593_1', ['0', '1']),\n",
              " ('Class-16-462', ['0', '1']),\n",
              " ('Class-17-592_0', ['0', '1']),\n",
              " ('Class-18-786_59', ['0', '1']),\n",
              " ('Class-19-785_6', ['0', '1']),\n",
              " ('Class-20-V67_09', ['0', '1']),\n",
              " ('Class-21-795_5', ['0', '1']),\n",
              " ('Class-22-789_09', ['0', '1']),\n",
              " ('Class-23-786_50', ['0', '1']),\n",
              " ('Class-24-596_54', ['0', '1']),\n",
              " ('Class-25-787_03', ['0', '1']),\n",
              " ('Class-26-V42_0', ['0', '1']),\n",
              " ('Class-27-786_05', ['0', '1']),\n",
              " ('Class-28-753_21', ['0', '1']),\n",
              " ('Class-29-783_0', ['0', '1']),\n",
              " ('Class-30-277_00', ['0', '1']),\n",
              " ('Class-31-780_6', ['0', '1']),\n",
              " ('Class-32-486', ['0', '1']),\n",
              " ('Class-33-788_41', ['0', '1']),\n",
              " ('Class-34-V13_02', ['0', '1']),\n",
              " ('Class-35-493_90', ['0', '1']),\n",
              " ('Class-36-788_30', ['0', '1']),\n",
              " ('Class-37-753_3', ['0', '1']),\n",
              " ('Class-38-593_89', ['0', '1']),\n",
              " ('Class-39-758_6', ['0', '1']),\n",
              " ('Class-40-741_90', ['0', '1']),\n",
              " ('Class-41-591', ['0', '1']),\n",
              " ('Class-42-599_7', ['0', '1']),\n",
              " ('Class-43-279_12', ['0', '1']),\n",
              " ('Class-44-786_07', ['0', '1'])]"
            ]
          },
          "metadata": {},
          "execution_count": 82
        }
      ]
    },
    {
      "cell_type": "code",
      "source": [
        "#yeast, dataset con diferentes labels desde la clase 1 hasta la clase 14, esta relacionado con la bioinformática"
      ],
      "metadata": {
        "id": "OK-avHR6jQKK"
      },
      "execution_count": null,
      "outputs": []
    },
    {
      "cell_type": "code",
      "source": [
        "X_train, y_train, feature_names, label_names = load_dataset('yeast', 'train')\n",
        "X_test, y_test, _, _ = load_dataset('yeast', 'test')"
      ],
      "metadata": {
        "id": "6tpZnrW2jQKN",
        "colab": {
          "base_uri": "https://localhost:8080/"
        },
        "outputId": "41f3fca8-8c88-4c10-ed8c-04be8e55a667"
      },
      "execution_count": null,
      "outputs": [
        {
          "output_type": "stream",
          "name": "stdout",
          "text": [
            "yeast:train - exists, not redownloading\n",
            "yeast:test - exists, not redownloading\n"
          ]
        }
      ]
    },
    {
      "cell_type": "code",
      "source": [
        "feature_names[:10]"
      ],
      "metadata": {
        "id": "6NyJObmZjQKU",
        "colab": {
          "base_uri": "https://localhost:8080/"
        },
        "outputId": "ea282e64-e780-44dd-903f-08186da00355"
      },
      "execution_count": null,
      "outputs": [
        {
          "output_type": "execute_result",
          "data": {
            "text/plain": [
              "[('Att1', 'NUMERIC'),\n",
              " ('Att2', 'NUMERIC'),\n",
              " ('Att3', 'NUMERIC'),\n",
              " ('Att4', 'NUMERIC'),\n",
              " ('Att5', 'NUMERIC'),\n",
              " ('Att6', 'NUMERIC'),\n",
              " ('Att7', 'NUMERIC'),\n",
              " ('Att8', 'NUMERIC'),\n",
              " ('Att9', 'NUMERIC'),\n",
              " ('Att10', 'NUMERIC')]"
            ]
          },
          "metadata": {},
          "execution_count": 85
        }
      ]
    },
    {
      "cell_type": "code",
      "source": [
        "label_names"
      ],
      "metadata": {
        "id": "HclXxLxFjQKX",
        "colab": {
          "base_uri": "https://localhost:8080/"
        },
        "outputId": "313acb6d-1c70-4e3b-efc8-5f6badb77b9f"
      },
      "execution_count": null,
      "outputs": [
        {
          "output_type": "execute_result",
          "data": {
            "text/plain": [
              "[('Class1', ['0', '1']),\n",
              " ('Class2', ['0', '1']),\n",
              " ('Class3', ['0', '1']),\n",
              " ('Class4', ['0', '1']),\n",
              " ('Class5', ['0', '1']),\n",
              " ('Class6', ['0', '1']),\n",
              " ('Class7', ['0', '1']),\n",
              " ('Class8', ['0', '1']),\n",
              " ('Class9', ['0', '1']),\n",
              " ('Class10', ['0', '1']),\n",
              " ('Class11', ['0', '1']),\n",
              " ('Class12', ['0', '1']),\n",
              " ('Class13', ['0', '1']),\n",
              " ('Class14', ['0', '1'])]"
            ]
          },
          "metadata": {},
          "execution_count": 86
        }
      ]
    },
    {
      "cell_type": "markdown",
      "source": [
        "#**Apartado 3**\n"
      ],
      "metadata": {
        "id": "czT_brNUkhlO"
      }
    },
    {
      "cell_type": "code",
      "source": [
        "#car.py"
      ],
      "metadata": {
        "id": "z5NpxBQ-kkgC"
      },
      "execution_count": null,
      "outputs": []
    },
    {
      "cell_type": "code",
      "source": [
        "!pip install wheel\n",
        "!pip install scikit-multilearn #Successfully installed scikit-multilearn-0.2.0\n",
        "!pip install liac-arff\n",
        "!pip install scipy\n",
        "!pip install requests\n",
        "!pip install scikit-learn"
      ],
      "metadata": {
        "id": "YT8qo4cnWyZw",
        "colab": {
          "base_uri": "https://localhost:8080/"
        },
        "outputId": "4a99c10d-9f0d-4e64-d806-e1bec595dce1"
      },
      "execution_count": null,
      "outputs": [
        {
          "output_type": "stream",
          "name": "stdout",
          "text": [
            "Looking in indexes: https://pypi.org/simple, https://us-python.pkg.dev/colab-wheels/public/simple/\n",
            "Requirement already satisfied: wheel in /usr/local/lib/python3.8/dist-packages (0.38.4)\n",
            "Looking in indexes: https://pypi.org/simple, https://us-python.pkg.dev/colab-wheels/public/simple/\n",
            "Requirement already satisfied: scikit-multilearn in /usr/local/lib/python3.8/dist-packages (0.2.0)\n",
            "Looking in indexes: https://pypi.org/simple, https://us-python.pkg.dev/colab-wheels/public/simple/\n",
            "Requirement already satisfied: liac-arff in /usr/local/lib/python3.8/dist-packages (2.5.0)\n",
            "Looking in indexes: https://pypi.org/simple, https://us-python.pkg.dev/colab-wheels/public/simple/\n",
            "Requirement already satisfied: scipy in /usr/local/lib/python3.8/dist-packages (1.7.3)\n",
            "Requirement already satisfied: numpy<1.23.0,>=1.16.5 in /usr/local/lib/python3.8/dist-packages (from scipy) (1.21.6)\n",
            "Looking in indexes: https://pypi.org/simple, https://us-python.pkg.dev/colab-wheels/public/simple/\n",
            "Requirement already satisfied: requests in /usr/local/lib/python3.8/dist-packages (2.25.1)\n",
            "Requirement already satisfied: certifi>=2017.4.17 in /usr/local/lib/python3.8/dist-packages (from requests) (2022.12.7)\n",
            "Requirement already satisfied: chardet<5,>=3.0.2 in /usr/local/lib/python3.8/dist-packages (from requests) (4.0.0)\n",
            "Requirement already satisfied: idna<3,>=2.5 in /usr/local/lib/python3.8/dist-packages (from requests) (2.10)\n",
            "Requirement already satisfied: urllib3<1.27,>=1.21.1 in /usr/local/lib/python3.8/dist-packages (from requests) (1.24.3)\n",
            "Looking in indexes: https://pypi.org/simple, https://us-python.pkg.dev/colab-wheels/public/simple/\n",
            "Requirement already satisfied: scikit-learn in /usr/local/lib/python3.8/dist-packages (1.0.2)\n",
            "Requirement already satisfied: joblib>=0.11 in /usr/local/lib/python3.8/dist-packages (from scikit-learn) (1.2.0)\n",
            "Requirement already satisfied: scipy>=1.1.0 in /usr/local/lib/python3.8/dist-packages (from scikit-learn) (1.7.3)\n",
            "Requirement already satisfied: numpy>=1.14.6 in /usr/local/lib/python3.8/dist-packages (from scikit-learn) (1.21.6)\n",
            "Requirement already satisfied: threadpoolctl>=2.0.0 in /usr/local/lib/python3.8/dist-packages (from scikit-learn) (3.1.0)\n"
          ]
        }
      ]
    },
    {
      "cell_type": "code",
      "source": [
        "#import necesarios"
      ],
      "metadata": {
        "id": "CQITzRL_YlKA"
      },
      "execution_count": null,
      "outputs": []
    },
    {
      "cell_type": "code",
      "source": [
        "from skmultilearn.dataset import load_dataset"
      ],
      "metadata": {
        "id": "MaUxKIsUWzAK"
      },
      "execution_count": null,
      "outputs": []
    },
    {
      "cell_type": "code",
      "source": [
        "#codigo para conseguir los estadísticos de todos los dataset"
      ],
      "metadata": {
        "id": "hDH_N1meYoCS"
      },
      "execution_count": null,
      "outputs": []
    },
    {
      "cell_type": "code",
      "source": [
        "\n",
        "list = ['scene', 'Corel5k', 'bibtex', 'enron', 'rcv1subset5', 'tmc2007_500','rcv1subset3', 'rcv1subset1', 'delicious']\n",
        "\n",
        "for i in list:\n",
        "  X_train, y_train, feature_names, label_names = load_dataset(i, 'train')\n",
        "  \n",
        "  print((\"number of instances -> \" + str(X_train.shape[0])))#instancias\n",
        "  \n",
        "  print((\"number of attributes -> \" + str(X_train.shape[1])))#atributos\n",
        "  \n",
        "  print((\"number of labels -> \" + str(y_train.shape[1])))#etiquetas\n",
        "  \n",
        "  print(\"cardinality -> \"+ str(y_train.sum()/X_train.shape[0]))#cardinalidad=promedio de etiquetas asociadas a cada instancia (total de 1/instancias)\n",
        "  \n",
        "  print(\"density -> \"+ str((y_train.sum()/X_train.shape[0])/y_train.shape[1]))#densidad=cardinalidad entre el número total de etiquetas\n",
        "  \n",
        "  #codigo para sacar todas las combinaciones que tenemos y la frecuencia de cada combinacion\n",
        "  uniquecomb = [y_train.getrow(0),]\n",
        "  freqcomb = [1,]\n",
        "  contador_combinaciones = 1\n",
        "  for w in range(y_train.shape[0]):\n",
        "    combunica = True\n",
        "    for z in range(len(uniquecomb)):\n",
        "      if (y_train.getrow(w).toarray() == uniquecomb[z]).all():\n",
        "        combunica = False\n",
        "        freqcomb[z] += 1\n",
        "        break\n",
        "    if combunica:\n",
        "      uniquecomb.append(y_train.getrow(w))\n",
        "      freqcomb.append(1)\n",
        "      contador_combinaciones += 1 \n",
        "  #for w in uniquecomb:\n",
        "    #print(w.toarray()) \n",
        "  #print(contador)\n",
        "  n_posibles_salidas= 2**y_train.shape[1]\n",
        "  print(\"diversity -> \"+ str(contador_combinaciones/n_posibles_salidas))#diversidad=medida Distinct(número de combinaciones de distintas etiquetas presentes en un conjunto de datos) \n",
        "  \n",
        "  #normalizada por el número total de ejemplos (combinaciones que tenemos/combinaciones totales)\n",
        "  sumfreq = 0\n",
        "  for w in freqcomb:\n",
        "    sumfreq += w/X_train.shape[0]#acumulamos frecuencias para cada combinacion\n",
        "  sumfreq = sumfreq / contador_combinaciones\n",
        "  print(\"avgIR -> \"+ str(sumfreq))#avgIR=media del grado de imbalance de todas las etiquetas, se calcula la frecuencia de aparicion de cada combinación\n",
        "  #y a se divide entre el total de apariciones(instancias totales). Una vez tenemos la frecuencia de cada una se suman y se divide entre la combinaciones posibles\n",
        "  \n",
        "  print(\"rDep -> \")#para calcular esta variable primero sería necesario calcular el número de etiquetas dependientes, usando chi cuadrado (debe superar 6.635 ya que es 99%)\n",
        "  #y se realiza el promedio del numero total de pares etiqueta\n",
        "  \n",
        "  print(\"\\n\")\n",
        "\n",
        "\n",
        "\n",
        "\n"
      ],
      "metadata": {
        "colab": {
          "base_uri": "https://localhost:8080/"
        },
        "id": "U0genP7jWkhI",
        "outputId": "7b5da27d-5445-4a74-8703-43ac06a49e0d"
      },
      "execution_count": null,
      "outputs": [
        {
          "output_type": "stream",
          "name": "stdout",
          "text": [
            "scene:train - exists, not redownloading\n",
            "number of instances -> 1211\n",
            "number of attributes -> 294\n",
            "number of labels -> 6\n",
            "cardinality -> 1.0619322873658135\n",
            "density -> 0.1769887145609689\n",
            "diversity -> 0.21875\n",
            "avgIR -> 0.07148755455939601\n",
            "rDep -> \n",
            "\n",
            "\n",
            "Corel5k:train - exists, not redownloading\n",
            "number of instances -> 4500\n",
            "number of attributes -> 499\n",
            "number of labels -> 374\n",
            "cardinality -> 3.5215555555555556\n",
            "density -> 0.00941592394533571\n",
            "diversity -> 7.601643391127833e-110\n",
            "avgIR -> 0.00034195631528966035\n",
            "rDep -> \n",
            "\n",
            "\n",
            "bibtex:train - exists, not redownloading\n",
            "number of instances -> 4880\n",
            "number of attributes -> 1836\n",
            "number of labels -> 159\n",
            "cardinality -> 2.380327868852459\n",
            "density -> 0.014970615527373957\n",
            "diversity -> 2.816281483965306e-45\n",
            "avgIR -> 0.0004860082206184549\n",
            "rDep -> \n",
            "\n",
            "\n",
            "enron:train - exists, not redownloading\n",
            "number of instances -> 1123\n",
            "number of attributes -> 1001\n",
            "number of labels -> 53\n",
            "cardinality -> 3.3864648263579697\n",
            "density -> 0.06389556276147113\n",
            "diversity -> 6.050715484207103e-14\n",
            "avgIR -> 0.0018364962788075978\n",
            "rDep -> \n",
            "\n",
            "\n",
            "rcv1subset5:train - exists, not redownloading\n",
            "number of instances -> 3000\n",
            "number of attributes -> 47235\n",
            "number of labels -> 101\n",
            "cardinality -> 2.87\n",
            "density -> 0.028415841584158417\n",
            "diversity -> 2.0470940490485256e-28\n",
            "avgIR -> 0.001927424534360933\n",
            "rDep -> \n",
            "\n",
            "\n",
            "tmc2007_500:train - exists, not redownloading\n",
            "number of instances -> 21519\n",
            "number of attributes -> 500\n",
            "number of labels -> 22\n",
            "cardinality -> 2.2255681026069984\n",
            "density -> 0.10116218648213629\n",
            "diversity -> 0.00027942657470703125\n",
            "avgIR -> 0.0008532819714683563\n",
            "rDep -> \n",
            "\n",
            "\n",
            "rcv1subset3:train - exists, not redownloading\n",
            "number of instances -> 3000\n",
            "number of attributes -> 47236\n",
            "number of labels -> 101\n",
            "cardinality -> 2.8956666666666666\n",
            "density -> 0.02866996699669967\n",
            "diversity -> 2.0983700078878914e-28\n",
            "avgIR -> 0.001880325814536324\n",
            "rDep -> \n",
            "\n",
            "\n",
            "rcv1subset1:train - exists, not redownloading\n",
            "number of instances -> 3000\n",
            "number of attributes -> 47236\n",
            "number of labels -> 101\n",
            "cardinality -> 2.9143333333333334\n",
            "density -> 0.028854785478547855\n",
            "diversity -> 2.062871267152946e-28\n",
            "avgIR -> 0.0019126832377310214\n",
            "rDep -> \n",
            "\n",
            "\n",
            "delicious:train - exists, not redownloading\n",
            "number of instances -> 12920\n",
            "number of attributes -> 500\n",
            "number of labels -> 983\n",
            "cardinality -> 19.04705882352941\n",
            "density -> 0.019376458620070612\n",
            "diversity -> 1.555236604562627e-292\n",
            "avgIR -> 7.86595406151499e-05\n",
            "rDep -> \n",
            "\n",
            "\n"
          ]
        }
      ]
    },
    {
      "cell_type": "code",
      "source": [
        "#se copia la celda para separar la lista de los dataset"
      ],
      "metadata": {
        "id": "iXQHMikkL2xX"
      },
      "execution_count": null,
      "outputs": []
    },
    {
      "cell_type": "code",
      "source": [
        "\n",
        "list = ['rcv1subset4', 'genbase', 'birds', 'emotions','rcv1subset2', 'mediamill', 'medical', 'yeast']\n",
        "\n",
        "for i in list:\n",
        "  X_train, y_train, feature_names, label_names = load_dataset(i, 'train')\n",
        "  \n",
        "  print((\"number of instances -> \" + str(X_train.shape[0])))#instancias\n",
        "  \n",
        "  print((\"number of attributes -> \" + str(X_train.shape[1])))#atributos\n",
        "  \n",
        "  print((\"number of labels -> \" + str(y_train.shape[1])))#etiquetas\n",
        "  \n",
        "  print(\"cardinality -> \"+ str(y_train.sum()/X_train.shape[0]))#cardinalidad=promedio de etiquetas asociadas a cada instancia (total de 1/instancias)\n",
        "  \n",
        "  print(\"density -> \"+ str((y_train.sum()/X_train.shape[0])/y_train.shape[1]))#densidad=cardinalidad entre el número total de etiquetas\n",
        "  \n",
        "  #codigo para sacar todas las combinaciones que tenemos y la frecuencia de cada combinacion\n",
        "  uniquecomb = [y_train.getrow(0),]\n",
        "  freqcomb = [1,]\n",
        "  contador_combinaciones = 1\n",
        "  for w in range(y_train.shape[0]):\n",
        "    combunica = True\n",
        "    for z in range(len(uniquecomb)):\n",
        "      if (y_train.getrow(w).toarray() == uniquecomb[z]).all():\n",
        "        combunica = False\n",
        "        freqcomb[z] += 1\n",
        "        break\n",
        "    if combunica:\n",
        "      uniquecomb.append(y_train.getrow(w))\n",
        "      freqcomb.append(1)\n",
        "      contador_combinaciones += 1 \n",
        "  #for w in uniquecomb:\n",
        "    #print(w.toarray()) \n",
        "  #print(contador)\n",
        "  n_posibles_salidas= 2**y_train.shape[1]\n",
        "  print(\"diversity -> \"+ str(contador_combinaciones/n_posibles_salidas))#diversidad=medida Distinct(número de combinaciones de distintas etiquetas presentes en un conjunto de datos) \n",
        "  \n",
        "  #normalizada por el número total de ejemplos (combinaciones que tenemos/combinaciones totales)\n",
        "  sumfreq = 0\n",
        "  for w in freqcomb:\n",
        "    sumfreq += w/X_train.shape[0]#acumulamos frecuencias para cada combinacion\n",
        "  sumfreq = sumfreq / contador_combinaciones\n",
        "  print(\"avgIR -> \"+ str(sumfreq))#avgIR=media del grado de imbalance de todas las etiquetas, se calcula la frecuencia de aparicion de cada combinación\n",
        "  #y a se divide entre el total de apariciones(instancias totales). Una vez tenemos la frecuencia de cada una se suman y se divide entre la combinaciones posibles\n",
        "  \n",
        "  print(\"rDep -> \")#para calcular esta variable primero sería necesario calcular el número de etiquetas dependientes, usando chi cuadrado (debe superar 6.635 ya que es 99%)\n",
        "  #y se realiza el promedio del numero total de pares etiqueta\n",
        "  \n",
        "  print(\"\\n\")\n",
        "\n",
        "\n",
        "\n",
        "\n"
      ],
      "metadata": {
        "colab": {
          "base_uri": "https://localhost:8080/"
        },
        "outputId": "e95fbf36-0a03-4d50-cdeb-db988d86f465",
        "id": "Npfy8EveL07e"
      },
      "execution_count": null,
      "outputs": [
        {
          "output_type": "stream",
          "name": "stdout",
          "text": [
            "rcv1subset4:train - does not exists downloading\n",
            "Downloaded rcv1subset4-train\n",
            "number of instances -> 3000\n",
            "number of attributes -> 47229\n",
            "number of labels -> 101\n",
            "cardinality -> 2.9103333333333334\n",
            "density -> 0.028815181518151815\n",
            "diversity -> 2.007651003787475e-28\n",
            "avgIR -> 0.001965291421087085\n",
            "rDep -> \n",
            "\n",
            "\n",
            "genbase:train - does not exists downloading\n",
            "Downloaded genbase-train\n",
            "number of instances -> 463\n",
            "number of attributes -> 1186\n",
            "number of labels -> 27\n",
            "cardinality -> 1.2613390928725703\n",
            "density -> 0.04671626269898409\n",
            "diversity -> 2.1606683731079102e-07\n",
            "avgIR -> 0.0345572354211663\n",
            "rDep -> \n",
            "\n",
            "\n",
            "birds:train - does not exists downloading\n",
            "Downloaded birds-train\n",
            "number of instances -> 322\n",
            "number of attributes -> 260\n",
            "number of labels -> 19\n",
            "cardinality -> 1.0590062111801242\n",
            "density -> 0.05573716900948022\n",
            "diversity -> 0.0001697540283203125\n",
            "avgIR -> 0.011270849326540554\n",
            "rDep -> \n",
            "\n",
            "\n",
            "emotions:train - does not exists downloading\n",
            "Downloaded emotions-train\n",
            "number of instances -> 391\n",
            "number of attributes -> 72\n",
            "number of labels -> 6\n",
            "cardinality -> 1.813299232736573\n",
            "density -> 0.30221653878942883\n",
            "diversity -> 0.40625\n",
            "avgIR -> 0.0385599055675782\n",
            "rDep -> \n",
            "\n",
            "\n",
            "rcv1subset2:train - does not exists downloading\n",
            "Downloaded rcv1subset2-train\n",
            "number of instances -> 3000\n",
            "number of attributes -> 47236\n",
            "number of labels -> 101\n",
            "cardinality -> 2.9086666666666665\n",
            "density -> 0.028798679867986798\n",
            "diversity -> 2.1180915305184167e-28\n",
            "avgIR -> 0.001862818125387942\n",
            "rDep -> \n",
            "\n",
            "\n",
            "mediamill:train - does not exists downloading\n",
            "Downloaded mediamill-train\n",
            "number of instances -> 30993\n",
            "number of attributes -> 120\n",
            "number of labels -> 101\n",
            "cardinality -> 4.362823863453038\n",
            "density -> 0.04319627587577265\n",
            "diversity -> 1.9378368136754155e-27\n",
            "avgIR -> 0.00020354819160394575\n",
            "rDep -> \n",
            "\n",
            "\n",
            "medical:train - does not exists downloading\n",
            "Downloaded medical-train\n",
            "number of instances -> 333\n",
            "number of attributes -> 1449\n",
            "number of labels -> 45\n",
            "cardinality -> 1.2552552552552552\n",
            "density -> 0.02789456122789456\n",
            "diversity -> 1.7337242752546445e-12\n",
            "avgIR -> 0.016442672180377118\n",
            "rDep -> \n",
            "\n",
            "\n",
            "yeast:train - does not exists downloading\n",
            "Downloaded yeast-train\n",
            "number of instances -> 1500\n",
            "number of attributes -> 103\n",
            "number of labels -> 14\n",
            "cardinality -> 4.228\n",
            "density -> 0.302\n",
            "diversity -> 0.010009765625\n",
            "avgIR -> 0.006101626016260174\n",
            "rDep -> \n",
            "\n",
            "\n"
          ]
        }
      ]
    },
    {
      "cell_type": "markdown",
      "source": [
        "#**Apartado 4**\n"
      ],
      "metadata": {
        "id": "Qlvt_K2rroBD"
      }
    },
    {
      "cell_type": "code",
      "source": [
        "!pip install wheel\n",
        "!pip install scikit-multilearn #Successfully installed scikit-multilearn-0.2.0\n",
        "!pip install liac-arff\n",
        "!pip install scipy\n",
        "!pip install requests\n",
        "!pip install scikit-learn"
      ],
      "metadata": {
        "id": "jPPFbcv9r80i",
        "colab": {
          "base_uri": "https://localhost:8080/"
        },
        "outputId": "9b259ff0-e393-4b67-8d89-0d2a333627e4"
      },
      "execution_count": null,
      "outputs": [
        {
          "output_type": "stream",
          "name": "stdout",
          "text": [
            "Looking in indexes: https://pypi.org/simple, https://us-python.pkg.dev/colab-wheels/public/simple/\n",
            "Requirement already satisfied: wheel in /usr/local/lib/python3.8/dist-packages (0.38.4)\n",
            "Looking in indexes: https://pypi.org/simple, https://us-python.pkg.dev/colab-wheels/public/simple/\n",
            "Requirement already satisfied: scikit-multilearn in /usr/local/lib/python3.8/dist-packages (0.2.0)\n",
            "Looking in indexes: https://pypi.org/simple, https://us-python.pkg.dev/colab-wheels/public/simple/\n",
            "Requirement already satisfied: liac-arff in /usr/local/lib/python3.8/dist-packages (2.5.0)\n",
            "Looking in indexes: https://pypi.org/simple, https://us-python.pkg.dev/colab-wheels/public/simple/\n",
            "Requirement already satisfied: scipy in /usr/local/lib/python3.8/dist-packages (1.7.3)\n",
            "Requirement already satisfied: numpy<1.23.0,>=1.16.5 in /usr/local/lib/python3.8/dist-packages (from scipy) (1.21.6)\n",
            "Looking in indexes: https://pypi.org/simple, https://us-python.pkg.dev/colab-wheels/public/simple/\n",
            "Requirement already satisfied: requests in /usr/local/lib/python3.8/dist-packages (2.25.1)\n",
            "Requirement already satisfied: certifi>=2017.4.17 in /usr/local/lib/python3.8/dist-packages (from requests) (2022.12.7)\n",
            "Requirement already satisfied: chardet<5,>=3.0.2 in /usr/local/lib/python3.8/dist-packages (from requests) (4.0.0)\n",
            "Requirement already satisfied: urllib3<1.27,>=1.21.1 in /usr/local/lib/python3.8/dist-packages (from requests) (1.24.3)\n",
            "Requirement already satisfied: idna<3,>=2.5 in /usr/local/lib/python3.8/dist-packages (from requests) (2.10)\n",
            "Looking in indexes: https://pypi.org/simple, https://us-python.pkg.dev/colab-wheels/public/simple/\n",
            "Requirement already satisfied: scikit-learn in /usr/local/lib/python3.8/dist-packages (1.0.2)\n",
            "Requirement already satisfied: threadpoolctl>=2.0.0 in /usr/local/lib/python3.8/dist-packages (from scikit-learn) (3.1.0)\n",
            "Requirement already satisfied: numpy>=1.14.6 in /usr/local/lib/python3.8/dist-packages (from scikit-learn) (1.21.6)\n",
            "Requirement already satisfied: joblib>=0.11 in /usr/local/lib/python3.8/dist-packages (from scikit-learn) (1.2.0)\n",
            "Requirement already satisfied: scipy>=1.1.0 in /usr/local/lib/python3.8/dist-packages (from scikit-learn) (1.7.3)\n"
          ]
        }
      ]
    },
    {
      "cell_type": "code",
      "source": [
        "#cargo el dataset de banderas"
      ],
      "metadata": {
        "id": "bd0E6LWZqRl8"
      },
      "execution_count": null,
      "outputs": []
    },
    {
      "cell_type": "code",
      "source": [
        "%%bash\n",
        "wget https://sourceforge.net/projects/mulan/files/datasets/flags.zip\n",
        "unzip flags.zip"
      ],
      "metadata": {
        "id": "BhjHVyYCYmk2"
      },
      "execution_count": null,
      "outputs": []
    },
    {
      "cell_type": "code",
      "source": [
        "#importo librerías necesarias"
      ],
      "metadata": {
        "id": "wGHXdsgYV1vE"
      },
      "execution_count": null,
      "outputs": []
    },
    {
      "cell_type": "code",
      "source": [
        "from skmultilearn.dataset import load_from_arff\n",
        "from sklearn.preprocessing import OneHotEncoder"
      ],
      "metadata": {
        "id": "niMyR1Mnr80o"
      },
      "execution_count": null,
      "outputs": []
    },
    {
      "cell_type": "code",
      "source": [
        "import pandas as pd\n",
        "import arff, numpy as np\n",
        "from scipy import sparse"
      ],
      "metadata": {
        "id": "ZBIxSFa3sFKE"
      },
      "execution_count": null,
      "outputs": []
    },
    {
      "cell_type": "code",
      "source": [
        "#cargo el dataset"
      ],
      "metadata": {
        "id": "OCT078FSV4lI"
      },
      "execution_count": null,
      "outputs": []
    },
    {
      "cell_type": "code",
      "source": [
        "\n",
        "> Si descar\n",
        "\n",
        "\n",
        "\n",
        "\n",
        "\n",
        "\n",
        "\n",
        "\n",
        "> Si> Si> Si dataset = arff.load(open('flags.arff'))\n",
        "data = np.array(dataset['data'])"
      ],
      "metadata": {
        "id": "jcftLv3IsB2d"
      },
      "execution_count": null,
      "outputs": []
    },
    {
      "cell_type": "code",
      "source": [
        "#muestro el dataset para comprobar que se ha cargado correctamente"
      ],
      "metadata": {
        "id": "Tix3jIVnV8dU"
      },
      "execution_count": null,
      "outputs": []
    },
    {
      "cell_type": "code",
      "source": [
        "data"
      ],
      "metadata": {
        "id": "w8NWpEgbOPiE",
        "colab": {
          "base_uri": "https://localhost:8080/"
        },
        "outputId": "2189a283-6590-45bd-ac01-4577c07538a7"
      },
      "execution_count": null,
      "outputs": [
        {
          "output_type": "execute_result",
          "data": {
            "text/plain": [
              "array([['5', '1', '648.0', ..., '1', '1', '0'],\n",
              "       ['3', '1', '29.0', ..., '0', '1', '0'],\n",
              "       ['4', '1', '2388.0', ..., '1', '0', '0'],\n",
              "       ...,\n",
              "       ['4', '2', '905.0', ..., '0', '0', '1'],\n",
              "       ['4', '2', '753.0', ..., '0', '1', '1'],\n",
              "       ['4', '2', '391.0', ..., '1', '1', '0']], dtype='<U32')"
            ]
          },
          "metadata": {},
          "execution_count": 258
        }
      ]
    },
    {
      "cell_type": "code",
      "source": [
        "#divido el dataset en entradas y salidas"
      ],
      "metadata": {
        "id": "BI39qPdOWAHp"
      },
      "execution_count": null,
      "outputs": []
    },
    {
      "cell_type": "code",
      "source": [
        "X_train = data[:,1:]\n",
        "y_train = data[:,:1]"
      ],
      "metadata": {
        "id": "LpT5KAubzNM6"
      },
      "execution_count": null,
      "outputs": []
    },
    {
      "cell_type": "code",
      "source": [
        "#muestro si se ha dividido correctamente"
      ],
      "metadata": {
        "id": "0ONnfc5FWLsX"
      },
      "execution_count": null,
      "outputs": []
    },
    {
      "cell_type": "code",
      "source": [
        "print(y_train[:10])"
      ],
      "metadata": {
        "id": "stvuealHOVo9",
        "colab": {
          "base_uri": "https://localhost:8080/"
        },
        "outputId": "1ce29411-7256-4cbf-e71f-df641e0fa4da"
      },
      "execution_count": null,
      "outputs": [
        {
          "output_type": "stream",
          "name": "stdout",
          "text": [
            "[['5']\n",
            " ['3']\n",
            " ['4']\n",
            " ['6']\n",
            " ['3']\n",
            " ['4']\n",
            " ['1']\n",
            " ['1']\n",
            " ['2']\n",
            " ['2']]\n"
          ]
        }
      ]
    },
    {
      "cell_type": "code",
      "source": [
        "#aplico onehotencoder para transformar las etiquetas"
      ],
      "metadata": {
        "id": "smSJGisAWOwR"
      },
      "execution_count": null,
      "outputs": []
    },
    {
      "cell_type": "code",
      "source": [
        "encoder = OneHotEncoder(sparse=False, handle_unknown='error')\n",
        "y_train = encoder.fit_transform(y_train)"
      ],
      "metadata": {
        "id": "fSBpChvXwENe"
      },
      "execution_count": null,
      "outputs": []
    },
    {
      "cell_type": "code",
      "source": [
        "#muestro si se ha dividido correctamente"
      ],
      "metadata": {
        "id": "Mqhp9-FfYOiO"
      },
      "execution_count": null,
      "outputs": []
    },
    {
      "cell_type": "code",
      "source": [
        "print(y_train[:10])"
      ],
      "metadata": {
        "colab": {
          "base_uri": "https://localhost:8080/"
        },
        "outputId": "8bfd47c5-b0fa-4368-f52e-bde046f5978c",
        "id": "8t81I6HLYMI9"
      },
      "execution_count": null,
      "outputs": [
        {
          "output_type": "stream",
          "name": "stdout",
          "text": [
            "[[0. 0. 0. 0. 1. 0.]\n",
            " [0. 0. 1. 0. 0. 0.]\n",
            " [0. 0. 0. 1. 0. 0.]\n",
            " [0. 0. 0. 0. 0. 1.]\n",
            " [0. 0. 1. 0. 0. 0.]\n",
            " [0. 0. 0. 1. 0. 0.]\n",
            " [1. 0. 0. 0. 0. 0.]\n",
            " [1. 0. 0. 0. 0. 0.]\n",
            " [0. 1. 0. 0. 0. 0.]\n",
            " [0. 1. 0. 0. 0. 0.]]\n"
          ]
        }
      ]
    },
    {
      "cell_type": "code",
      "source": [
        "#transformo numpy array a lil_matrix"
      ],
      "metadata": {
        "id": "yJKllwzkWVJg"
      },
      "execution_count": null,
      "outputs": []
    },
    {
      "cell_type": "code",
      "source": [
        "X_train = np.array(X_train, dtype=float)\n",
        "y_train = np.array(y_train, dtype=float)\n",
        "X_train = sparse.csr_matrix(X_train)   # Here's the initialization of the sparse matrix.\n",
        "y_train = sparse.csr_matrix(y_train)"
      ],
      "metadata": {
        "id": "LPHrwemy2Q6n"
      },
      "execution_count": null,
      "outputs": []
    },
    {
      "cell_type": "code",
      "source": [
        "#llamo el código anterior para sacar los estadísticos"
      ],
      "metadata": {
        "id": "IV_8dX5yWawZ"
      },
      "execution_count": null,
      "outputs": []
    },
    {
      "cell_type": "code",
      "source": [
        "print((\"number of instances -> \" + str(X_train.shape[0])))#instancias\n",
        "\n",
        "print((\"number of attributes -> \" + str(X_train.shape[1])))#atributos\n",
        "\n",
        "print((\"number of labels -> \" + str(y_train.shape[1])))#etiquetas\n",
        "\n",
        "print(\"cardinality -> \"+ str(y_train.sum()/X_train.shape[0]))#cardinalidad=promedio de etiquetas asociadas a cada instancia (total de 1/instancias)\n",
        "\n",
        "print(\"density -> \"+ str((y_train.sum()/X_train.shape[0])/y_train.shape[1]))#densidad=cardinalidad entre el número total de etiquetas\n",
        "\n",
        "#codigo para sacar todas las combinaciones que tenemos y la frecuencia de cada combinacion\n",
        "uniquecomb = [y_train.getrow(0),]\n",
        "freqcomb = [1,]\n",
        "contador_combinaciones = 1\n",
        "for w in range(y_train.shape[0]):\n",
        "  combunica = True\n",
        "  for z in range(len(uniquecomb)):\n",
        "    if (y_train.getrow(w).toarray() == uniquecomb[z]).all():\n",
        "      combunica = False\n",
        "      freqcomb[z] += 1\n",
        "      break\n",
        "  if combunica:\n",
        "    uniquecomb.append(y_train.getrow(w))\n",
        "    freqcomb.append(1)\n",
        "    contador_combinaciones += 1 \n",
        "#for w in uniquecomb:\n",
        "  #print(w.toarray()) \n",
        "#print(contador)\n",
        "n_posibles_salidas= 2**y_train.shape[1]\n",
        "print(\"diversity -> \"+ str(contador_combinaciones/n_posibles_salidas))#diversidad=medida Distinct(número de combinaciones de distintas etiquetas presentes en un conjunto de datos) \n",
        "\n",
        "#normalizada por el número total de ejemplos (combinaciones que tenemos/combinaciones totales)\n",
        "sumfreq = 0\n",
        "for w in freqcomb:\n",
        "  sumfreq += w/X_train.shape[0]#acumulamos frecuencias para cada combinacion\n",
        "sumfreq = sumfreq / contador_combinaciones\n",
        "print(\"avgIR -> \"+ str(sumfreq))#avgIR=media del grado de imbalance de todas las etiquetas, se calcula la frecuencia de aparicion de cada combinación\n",
        "#y a se divide entre el total de apariciones(instancias totales). Una vez tenemos la frecuencia de cada una se suman y se divide entre la combinaciones posibles\n",
        "\n",
        "print(\"rDep -> \")#para calcular esta variable primero sería necesario calcular el número de etiquetas dependientes, usando chi cuadrado (debe superar 6.635 ya que es 99%)\n",
        "#y se realiza el promedio del numero total de pares etiqueta\n",
        "\n",
        "print(\"\\n\")"
      ],
      "metadata": {
        "id": "RYgA-27guxqJ",
        "colab": {
          "base_uri": "https://localhost:8080/"
        },
        "outputId": "a4035686-b904-4c10-f7ff-ed354ea485e4"
      },
      "execution_count": null,
      "outputs": [
        {
          "output_type": "stream",
          "name": "stdout",
          "text": [
            "number of instances -> 194\n",
            "number of attributes -> 25\n",
            "number of labels -> 6\n",
            "cardinality -> 1.0\n",
            "density -> 0.16666666666666666\n",
            "diversity -> 0.09375\n",
            "avgIR -> 0.16752577319587625\n",
            "rDep -> \n",
            "\n",
            "\n"
          ]
        }
      ]
    },
    {
      "cell_type": "code",
      "source": [
        "#cargo el dataset de ranas"
      ],
      "metadata": {
        "id": "Dzvlu-B6qVmi"
      },
      "execution_count": null,
      "outputs": []
    },
    {
      "cell_type": "code",
      "source": [
        "%%bash\n",
        "wget https://archive.ics.uci.edu/ml/machine-learning-databases/00528/dataset.csv"
      ],
      "metadata": {
        "id": "9Gen2I18nDXn",
        "colab": {
          "base_uri": "https://localhost:8080/"
        },
        "outputId": "4585233b-8589-4bd2-8d56-485191051f81"
      },
      "execution_count": null,
      "outputs": [
        {
          "output_type": "stream",
          "name": "stderr",
          "text": [
            "--2023-01-16 11:37:21--  https://archive.ics.uci.edu/ml/machine-learning-databases/00528/dataset.csv\n",
            "Resolving archive.ics.uci.edu (archive.ics.uci.edu)... 128.195.10.252\n",
            "Connecting to archive.ics.uci.edu (archive.ics.uci.edu)|128.195.10.252|:443... connected.\n",
            "HTTP request sent, awaiting response... 200 OK\n",
            "Length: 10846 (11K) [application/x-httpd-php]\n",
            "Saving to: ‘dataset.csv.1’\n",
            "\n",
            "     0K ..........                                            100% 73.2M=0s\n",
            "\n",
            "2023-01-16 11:37:21 (73.2 MB/s) - ‘dataset.csv.1’ saved [10846/10846]\n",
            "\n"
          ]
        }
      ]
    },
    {
      "cell_type": "code",
      "source": [
        "#leo el csv"
      ],
      "metadata": {
        "id": "E4K79NMJU102"
      },
      "execution_count": null,
      "outputs": []
    },
    {
      "cell_type": "code",
      "source": [
        "data = pd.read_csv(\"dataset.csv\",sep=';')"
      ],
      "metadata": {
        "id": "mxle3Tigr8y-"
      },
      "execution_count": null,
      "outputs": []
    },
    {
      "cell_type": "code",
      "source": [
        "data"
      ],
      "metadata": {
        "id": "MTrfgonRPQoM",
        "colab": {
          "base_uri": "https://localhost:8080/",
          "height": 424
        },
        "outputId": "3e272fad-6d92-4af9-a401-f20663abb5ed"
      },
      "execution_count": null,
      "outputs": [
        {
          "output_type": "execute_result",
          "data": {
            "text/plain": [
              "    Integer Categorical Numerical Numerical.1 Categorical.1 Categorical.2  \\\n",
              "0        ID    Motorway        SR          NR            TR            VR   \n",
              "1         1          A1       600           1             1             4   \n",
              "2         2          A1       700           1             5             1   \n",
              "3         3          A1       200           1             5             1   \n",
              "4         4          A1       300           1             5             0   \n",
              "..      ...         ...       ...         ...           ...           ...   \n",
              "185     185         S52      2300           1            12             3   \n",
              "186     186         S52       300           1            14             2   \n",
              "187     187         S52       500           1             1             4   \n",
              "188     188         S52       300           1            12             3   \n",
              "189     189         S52       300           1            12             3   \n",
              "\n",
              "    Categorical.3 Categorical.4 Categorical.5 Categorical.6  ... Ordinal.1  \\\n",
              "0            SUR1          SUR2          SUR3            UR  ...        BR   \n",
              "1               6             2            10             0  ...         0   \n",
              "2              10             6            10             3  ...         1   \n",
              "3              10             6            10             3  ...         1   \n",
              "4               6            10             2             3  ...         0   \n",
              "..            ...           ...           ...           ...  ...       ...   \n",
              "185             2             2             1             0  ...         1   \n",
              "186             7            10             2             0  ...         5   \n",
              "187             1            10             2             0  ...         5   \n",
              "188             2             1             6             0  ...         0   \n",
              "189             2             6            10             0  ...         1   \n",
              "\n",
              "    Categorical.8 Categorical.9      Label 1      Label 2      Label 3  \\\n",
              "0              MR            CR  Green frogs  Brown frogs  Common toad   \n",
              "1               0             1            0            0            0   \n",
              "2               0             1            0            1            1   \n",
              "3               0             1            0            1            1   \n",
              "4               0             1            0            0            1   \n",
              "..            ...           ...          ...          ...          ...   \n",
              "185             0             1            0            1            0   \n",
              "186             0             1            1            1            1   \n",
              "187             0             1            1            1            1   \n",
              "188             0             1            0            1            1   \n",
              "189             0             1            0            1            1   \n",
              "\n",
              "               Label 4    Label 5      Label 6             Label 7  \n",
              "0    Fire-bellied toad  Tree frog  Common newt  Great crested newt  \n",
              "1                    0          0            0                   0  \n",
              "2                    0          0            1                   0  \n",
              "3                    0          0            1                   0  \n",
              "4                    0          0            0                   0  \n",
              "..                 ...        ...          ...                 ...  \n",
              "185                  0          0            0                   0  \n",
              "186                  1          0            1                   0  \n",
              "187                  1          0            1                   0  \n",
              "188                  0          0            0                   0  \n",
              "189                  0          0            0                   0  \n",
              "\n",
              "[190 rows x 23 columns]"
            ],
            "text/html": [
              "\n",
              "  <div id=\"df-1a13df9d-28f6-488b-a7a6-93728472c422\">\n",
              "    <div class=\"colab-df-container\">\n",
              "      <div>\n",
              "<style scoped>\n",
              "    .dataframe tbody tr th:only-of-type {\n",
              "        vertical-align: middle;\n",
              "    }\n",
              "\n",
              "    .dataframe tbody tr th {\n",
              "        vertical-align: top;\n",
              "    }\n",
              "\n",
              "    .dataframe thead th {\n",
              "        text-align: right;\n",
              "    }\n",
              "</style>\n",
              "<table border=\"1\" class=\"dataframe\">\n",
              "  <thead>\n",
              "    <tr style=\"text-align: right;\">\n",
              "      <th></th>\n",
              "      <th>Integer</th>\n",
              "      <th>Categorical</th>\n",
              "      <th>Numerical</th>\n",
              "      <th>Numerical.1</th>\n",
              "      <th>Categorical.1</th>\n",
              "      <th>Categorical.2</th>\n",
              "      <th>Categorical.3</th>\n",
              "      <th>Categorical.4</th>\n",
              "      <th>Categorical.5</th>\n",
              "      <th>Categorical.6</th>\n",
              "      <th>...</th>\n",
              "      <th>Ordinal.1</th>\n",
              "      <th>Categorical.8</th>\n",
              "      <th>Categorical.9</th>\n",
              "      <th>Label 1</th>\n",
              "      <th>Label 2</th>\n",
              "      <th>Label 3</th>\n",
              "      <th>Label 4</th>\n",
              "      <th>Label 5</th>\n",
              "      <th>Label 6</th>\n",
              "      <th>Label 7</th>\n",
              "    </tr>\n",
              "  </thead>\n",
              "  <tbody>\n",
              "    <tr>\n",
              "      <th>0</th>\n",
              "      <td>ID</td>\n",
              "      <td>Motorway</td>\n",
              "      <td>SR</td>\n",
              "      <td>NR</td>\n",
              "      <td>TR</td>\n",
              "      <td>VR</td>\n",
              "      <td>SUR1</td>\n",
              "      <td>SUR2</td>\n",
              "      <td>SUR3</td>\n",
              "      <td>UR</td>\n",
              "      <td>...</td>\n",
              "      <td>BR</td>\n",
              "      <td>MR</td>\n",
              "      <td>CR</td>\n",
              "      <td>Green frogs</td>\n",
              "      <td>Brown frogs</td>\n",
              "      <td>Common toad</td>\n",
              "      <td>Fire-bellied toad</td>\n",
              "      <td>Tree frog</td>\n",
              "      <td>Common newt</td>\n",
              "      <td>Great crested newt</td>\n",
              "    </tr>\n",
              "    <tr>\n",
              "      <th>1</th>\n",
              "      <td>1</td>\n",
              "      <td>A1</td>\n",
              "      <td>600</td>\n",
              "      <td>1</td>\n",
              "      <td>1</td>\n",
              "      <td>4</td>\n",
              "      <td>6</td>\n",
              "      <td>2</td>\n",
              "      <td>10</td>\n",
              "      <td>0</td>\n",
              "      <td>...</td>\n",
              "      <td>0</td>\n",
              "      <td>0</td>\n",
              "      <td>1</td>\n",
              "      <td>0</td>\n",
              "      <td>0</td>\n",
              "      <td>0</td>\n",
              "      <td>0</td>\n",
              "      <td>0</td>\n",
              "      <td>0</td>\n",
              "      <td>0</td>\n",
              "    </tr>\n",
              "    <tr>\n",
              "      <th>2</th>\n",
              "      <td>2</td>\n",
              "      <td>A1</td>\n",
              "      <td>700</td>\n",
              "      <td>1</td>\n",
              "      <td>5</td>\n",
              "      <td>1</td>\n",
              "      <td>10</td>\n",
              "      <td>6</td>\n",
              "      <td>10</td>\n",
              "      <td>3</td>\n",
              "      <td>...</td>\n",
              "      <td>1</td>\n",
              "      <td>0</td>\n",
              "      <td>1</td>\n",
              "      <td>0</td>\n",
              "      <td>1</td>\n",
              "      <td>1</td>\n",
              "      <td>0</td>\n",
              "      <td>0</td>\n",
              "      <td>1</td>\n",
              "      <td>0</td>\n",
              "    </tr>\n",
              "    <tr>\n",
              "      <th>3</th>\n",
              "      <td>3</td>\n",
              "      <td>A1</td>\n",
              "      <td>200</td>\n",
              "      <td>1</td>\n",
              "      <td>5</td>\n",
              "      <td>1</td>\n",
              "      <td>10</td>\n",
              "      <td>6</td>\n",
              "      <td>10</td>\n",
              "      <td>3</td>\n",
              "      <td>...</td>\n",
              "      <td>1</td>\n",
              "      <td>0</td>\n",
              "      <td>1</td>\n",
              "      <td>0</td>\n",
              "      <td>1</td>\n",
              "      <td>1</td>\n",
              "      <td>0</td>\n",
              "      <td>0</td>\n",
              "      <td>1</td>\n",
              "      <td>0</td>\n",
              "    </tr>\n",
              "    <tr>\n",
              "      <th>4</th>\n",
              "      <td>4</td>\n",
              "      <td>A1</td>\n",
              "      <td>300</td>\n",
              "      <td>1</td>\n",
              "      <td>5</td>\n",
              "      <td>0</td>\n",
              "      <td>6</td>\n",
              "      <td>10</td>\n",
              "      <td>2</td>\n",
              "      <td>3</td>\n",
              "      <td>...</td>\n",
              "      <td>0</td>\n",
              "      <td>0</td>\n",
              "      <td>1</td>\n",
              "      <td>0</td>\n",
              "      <td>0</td>\n",
              "      <td>1</td>\n",
              "      <td>0</td>\n",
              "      <td>0</td>\n",
              "      <td>0</td>\n",
              "      <td>0</td>\n",
              "    </tr>\n",
              "    <tr>\n",
              "      <th>...</th>\n",
              "      <td>...</td>\n",
              "      <td>...</td>\n",
              "      <td>...</td>\n",
              "      <td>...</td>\n",
              "      <td>...</td>\n",
              "      <td>...</td>\n",
              "      <td>...</td>\n",
              "      <td>...</td>\n",
              "      <td>...</td>\n",
              "      <td>...</td>\n",
              "      <td>...</td>\n",
              "      <td>...</td>\n",
              "      <td>...</td>\n",
              "      <td>...</td>\n",
              "      <td>...</td>\n",
              "      <td>...</td>\n",
              "      <td>...</td>\n",
              "      <td>...</td>\n",
              "      <td>...</td>\n",
              "      <td>...</td>\n",
              "      <td>...</td>\n",
              "    </tr>\n",
              "    <tr>\n",
              "      <th>185</th>\n",
              "      <td>185</td>\n",
              "      <td>S52</td>\n",
              "      <td>2300</td>\n",
              "      <td>1</td>\n",
              "      <td>12</td>\n",
              "      <td>3</td>\n",
              "      <td>2</td>\n",
              "      <td>2</td>\n",
              "      <td>1</td>\n",
              "      <td>0</td>\n",
              "      <td>...</td>\n",
              "      <td>1</td>\n",
              "      <td>0</td>\n",
              "      <td>1</td>\n",
              "      <td>0</td>\n",
              "      <td>1</td>\n",
              "      <td>0</td>\n",
              "      <td>0</td>\n",
              "      <td>0</td>\n",
              "      <td>0</td>\n",
              "      <td>0</td>\n",
              "    </tr>\n",
              "    <tr>\n",
              "      <th>186</th>\n",
              "      <td>186</td>\n",
              "      <td>S52</td>\n",
              "      <td>300</td>\n",
              "      <td>1</td>\n",
              "      <td>14</td>\n",
              "      <td>2</td>\n",
              "      <td>7</td>\n",
              "      <td>10</td>\n",
              "      <td>2</td>\n",
              "      <td>0</td>\n",
              "      <td>...</td>\n",
              "      <td>5</td>\n",
              "      <td>0</td>\n",
              "      <td>1</td>\n",
              "      <td>1</td>\n",
              "      <td>1</td>\n",
              "      <td>1</td>\n",
              "      <td>1</td>\n",
              "      <td>0</td>\n",
              "      <td>1</td>\n",
              "      <td>0</td>\n",
              "    </tr>\n",
              "    <tr>\n",
              "      <th>187</th>\n",
              "      <td>187</td>\n",
              "      <td>S52</td>\n",
              "      <td>500</td>\n",
              "      <td>1</td>\n",
              "      <td>1</td>\n",
              "      <td>4</td>\n",
              "      <td>1</td>\n",
              "      <td>10</td>\n",
              "      <td>2</td>\n",
              "      <td>0</td>\n",
              "      <td>...</td>\n",
              "      <td>5</td>\n",
              "      <td>0</td>\n",
              "      <td>1</td>\n",
              "      <td>1</td>\n",
              "      <td>1</td>\n",
              "      <td>1</td>\n",
              "      <td>1</td>\n",
              "      <td>0</td>\n",
              "      <td>1</td>\n",
              "      <td>0</td>\n",
              "    </tr>\n",
              "    <tr>\n",
              "      <th>188</th>\n",
              "      <td>188</td>\n",
              "      <td>S52</td>\n",
              "      <td>300</td>\n",
              "      <td>1</td>\n",
              "      <td>12</td>\n",
              "      <td>3</td>\n",
              "      <td>2</td>\n",
              "      <td>1</td>\n",
              "      <td>6</td>\n",
              "      <td>0</td>\n",
              "      <td>...</td>\n",
              "      <td>0</td>\n",
              "      <td>0</td>\n",
              "      <td>1</td>\n",
              "      <td>0</td>\n",
              "      <td>1</td>\n",
              "      <td>1</td>\n",
              "      <td>0</td>\n",
              "      <td>0</td>\n",
              "      <td>0</td>\n",
              "      <td>0</td>\n",
              "    </tr>\n",
              "    <tr>\n",
              "      <th>189</th>\n",
              "      <td>189</td>\n",
              "      <td>S52</td>\n",
              "      <td>300</td>\n",
              "      <td>1</td>\n",
              "      <td>12</td>\n",
              "      <td>3</td>\n",
              "      <td>2</td>\n",
              "      <td>6</td>\n",
              "      <td>10</td>\n",
              "      <td>0</td>\n",
              "      <td>...</td>\n",
              "      <td>1</td>\n",
              "      <td>0</td>\n",
              "      <td>1</td>\n",
              "      <td>0</td>\n",
              "      <td>1</td>\n",
              "      <td>1</td>\n",
              "      <td>0</td>\n",
              "      <td>0</td>\n",
              "      <td>0</td>\n",
              "      <td>0</td>\n",
              "    </tr>\n",
              "  </tbody>\n",
              "</table>\n",
              "<p>190 rows × 23 columns</p>\n",
              "</div>\n",
              "      <button class=\"colab-df-convert\" onclick=\"convertToInteractive('df-1a13df9d-28f6-488b-a7a6-93728472c422')\"\n",
              "              title=\"Convert this dataframe to an interactive table.\"\n",
              "              style=\"display:none;\">\n",
              "        \n",
              "  <svg xmlns=\"http://www.w3.org/2000/svg\" height=\"24px\"viewBox=\"0 0 24 24\"\n",
              "       width=\"24px\">\n",
              "    <path d=\"M0 0h24v24H0V0z\" fill=\"none\"/>\n",
              "    <path d=\"M18.56 5.44l.94 2.06.94-2.06 2.06-.94-2.06-.94-.94-2.06-.94 2.06-2.06.94zm-11 1L8.5 8.5l.94-2.06 2.06-.94-2.06-.94L8.5 2.5l-.94 2.06-2.06.94zm10 10l.94 2.06.94-2.06 2.06-.94-2.06-.94-.94-2.06-.94 2.06-2.06.94z\"/><path d=\"M17.41 7.96l-1.37-1.37c-.4-.4-.92-.59-1.43-.59-.52 0-1.04.2-1.43.59L10.3 9.45l-7.72 7.72c-.78.78-.78 2.05 0 2.83L4 21.41c.39.39.9.59 1.41.59.51 0 1.02-.2 1.41-.59l7.78-7.78 2.81-2.81c.8-.78.8-2.07 0-2.86zM5.41 20L4 18.59l7.72-7.72 1.47 1.35L5.41 20z\"/>\n",
              "  </svg>\n",
              "      </button>\n",
              "      \n",
              "  <style>\n",
              "    .colab-df-container {\n",
              "      display:flex;\n",
              "      flex-wrap:wrap;\n",
              "      gap: 12px;\n",
              "    }\n",
              "\n",
              "    .colab-df-convert {\n",
              "      background-color: #E8F0FE;\n",
              "      border: none;\n",
              "      border-radius: 50%;\n",
              "      cursor: pointer;\n",
              "      display: none;\n",
              "      fill: #1967D2;\n",
              "      height: 32px;\n",
              "      padding: 0 0 0 0;\n",
              "      width: 32px;\n",
              "    }\n",
              "\n",
              "    .colab-df-convert:hover {\n",
              "      background-color: #E2EBFA;\n",
              "      box-shadow: 0px 1px 2px rgba(60, 64, 67, 0.3), 0px 1px 3px 1px rgba(60, 64, 67, 0.15);\n",
              "      fill: #174EA6;\n",
              "    }\n",
              "\n",
              "    [theme=dark] .colab-df-convert {\n",
              "      background-color: #3B4455;\n",
              "      fill: #D2E3FC;\n",
              "    }\n",
              "\n",
              "    [theme=dark] .colab-df-convert:hover {\n",
              "      background-color: #434B5C;\n",
              "      box-shadow: 0px 1px 3px 1px rgba(0, 0, 0, 0.15);\n",
              "      filter: drop-shadow(0px 1px 2px rgba(0, 0, 0, 0.3));\n",
              "      fill: #FFFFFF;\n",
              "    }\n",
              "  </style>\n",
              "\n",
              "      <script>\n",
              "        const buttonEl =\n",
              "          document.querySelector('#df-1a13df9d-28f6-488b-a7a6-93728472c422 button.colab-df-convert');\n",
              "        buttonEl.style.display =\n",
              "          google.colab.kernel.accessAllowed ? 'block' : 'none';\n",
              "\n",
              "        async function convertToInteractive(key) {\n",
              "          const element = document.querySelector('#df-1a13df9d-28f6-488b-a7a6-93728472c422');\n",
              "          const dataTable =\n",
              "            await google.colab.kernel.invokeFunction('convertToInteractive',\n",
              "                                                     [key], {});\n",
              "          if (!dataTable) return;\n",
              "\n",
              "          const docLinkHtml = 'Like what you see? Visit the ' +\n",
              "            '<a target=\"_blank\" href=https://colab.research.google.com/notebooks/data_table.ipynb>data table notebook</a>'\n",
              "            + ' to learn more about interactive tables.';\n",
              "          element.innerHTML = '';\n",
              "          dataTable['output_type'] = 'display_data';\n",
              "          await google.colab.output.renderOutput(dataTable, element);\n",
              "          const docLink = document.createElement('div');\n",
              "          docLink.innerHTML = docLinkHtml;\n",
              "          element.appendChild(docLink);\n",
              "        }\n",
              "      </script>\n",
              "    </div>\n",
              "  </div>\n",
              "  "
            ]
          },
          "metadata": {},
          "execution_count": 238
        }
      ]
    },
    {
      "cell_type": "code",
      "source": [
        "#elimino columnas que no me interesan"
      ],
      "metadata": {
        "id": "8pn3kAKeU7gQ"
      },
      "execution_count": null,
      "outputs": []
    },
    {
      "cell_type": "code",
      "source": [
        "data = data.drop(data.columns[[1]],axis = 1)"
      ],
      "metadata": {
        "id": "oyYnfGi-RL0z"
      },
      "execution_count": null,
      "outputs": []
    },
    {
      "cell_type": "code",
      "source": [
        "#transformo a numpy"
      ],
      "metadata": {
        "id": "2oGHh5a1U_Q-"
      },
      "execution_count": null,
      "outputs": []
    },
    {
      "cell_type": "code",
      "source": [
        "data = data.to_numpy()"
      ],
      "metadata": {
        "id": "DaLI-vxQNEM9"
      },
      "execution_count": null,
      "outputs": []
    },
    {
      "cell_type": "code",
      "source": [
        "#elimino filas con información"
      ],
      "metadata": {
        "id": "pk3NvAlFVB43"
      },
      "execution_count": null,
      "outputs": []
    },
    {
      "cell_type": "code",
      "source": [
        "data = np.delete(data, 0, 0)"
      ],
      "metadata": {
        "id": "nQGJX1G1J9F3"
      },
      "execution_count": null,
      "outputs": []
    },
    {
      "cell_type": "code",
      "source": [
        "#transformo la matriz numpy a int"
      ],
      "metadata": {
        "id": "OxD6u-CGVFMA"
      },
      "execution_count": null,
      "outputs": []
    },
    {
      "cell_type": "code",
      "source": [
        "data = np.int32(data)"
      ],
      "metadata": {
        "id": "JjOurHzbTW-I"
      },
      "execution_count": null,
      "outputs": []
    },
    {
      "cell_type": "code",
      "source": [
        "#muestro los datos"
      ],
      "metadata": {
        "id": "VJ94_DGRVVDO"
      },
      "execution_count": null,
      "outputs": []
    },
    {
      "cell_type": "code",
      "source": [
        "print(data)"
      ],
      "metadata": {
        "id": "fXe-H7-kKQOk",
        "colab": {
          "base_uri": "https://localhost:8080/"
        },
        "outputId": "e40fd151-345d-4d5e-c28d-08695e9c3193"
      },
      "execution_count": null,
      "outputs": [
        {
          "output_type": "stream",
          "name": "stdout",
          "text": [
            "[[  1 600   1 ...   0   0   0]\n",
            " [  2 700   1 ...   0   1   0]\n",
            " [  3 200   1 ...   0   1   0]\n",
            " ...\n",
            " [187 500   1 ...   0   1   0]\n",
            " [188 300   1 ...   0   0   0]\n",
            " [189 300   1 ...   0   0   0]]\n"
          ]
        }
      ]
    },
    {
      "cell_type": "code",
      "source": [
        "#los divido en entradas y salidas"
      ],
      "metadata": {
        "id": "YdeAfNBYVWzP"
      },
      "execution_count": null,
      "outputs": []
    },
    {
      "cell_type": "code",
      "source": [
        "X_train = data[:,:-7]\n",
        "y_train = data[:,-7:]"
      ],
      "metadata": {
        "id": "RGGjb2WJne5u"
      },
      "execution_count": null,
      "outputs": []
    },
    {
      "cell_type": "code",
      "source": [
        "print(y_train[:10])"
      ],
      "metadata": {
        "id": "rgFY8Pj1uKtK",
        "colab": {
          "base_uri": "https://localhost:8080/"
        },
        "outputId": "96b6800c-fd5f-418d-9c13-ec1ee2df79c0"
      },
      "execution_count": null,
      "outputs": [
        {
          "output_type": "stream",
          "name": "stdout",
          "text": [
            "[[0 0 0 0 0 0 0]\n",
            " [0 1 1 0 0 1 0]\n",
            " [0 1 1 0 0 1 0]\n",
            " [0 0 1 0 0 0 0]\n",
            " [0 1 1 1 0 1 1]\n",
            " [0 0 0 0 0 0 0]\n",
            " [0 0 1 0 0 0 0]\n",
            " [1 1 0 1 0 0 0]\n",
            " [0 1 1 0 0 0 0]\n",
            " [0 1 1 0 0 0 0]]\n"
          ]
        }
      ]
    },
    {
      "cell_type": "code",
      "source": [
        "#finalmente transformo numpy en lil_matrix"
      ],
      "metadata": {
        "id": "a5_qm2-yVgQG"
      },
      "execution_count": null,
      "outputs": []
    },
    {
      "cell_type": "code",
      "source": [
        "X_train = np.array(X_train, dtype=float)\n",
        "y_train = np.array(y_train, dtype=float)\n",
        "X_train = sparse.csr_matrix(X_train)   # Here's the initialization of the sparse matrix.\n",
        "y_train = sparse.csr_matrix(y_train)"
      ],
      "metadata": {
        "id": "qVKDbJ-AUr9I"
      },
      "execution_count": null,
      "outputs": []
    },
    {
      "cell_type": "code",
      "source": [
        "#llamo el código anterior para sacar los estadísticos"
      ],
      "metadata": {
        "id": "LKY4A6e8Vl1p"
      },
      "execution_count": null,
      "outputs": []
    },
    {
      "cell_type": "code",
      "source": [
        "print((\"number of instances -> \" + str(X_train.shape[0])))#instancias\n",
        "\n",
        "print((\"number of attributes -> \" + str(X_train.shape[1])))#atributos\n",
        "\n",
        "print((\"number of labels -> \" + str(y_train.shape[1])))#etiquetas\n",
        "\n",
        "print(\"cardinality -> \"+ str(y_train.sum()/X_train.shape[0]))#cardinalidad=promedio de etiquetas asociadas a cada instancia (total de 1/instancias)\n",
        "\n",
        "print(\"density -> \"+ str((y_train.sum()/X_train.shape[0])/y_train.shape[1]))#densidad=cardinalidad entre el número total de etiquetas\n",
        "\n",
        "#codigo para sacar todas las combinaciones que tenemos y la frecuencia de cada combinacion\n",
        "uniquecomb = [y_train.getrow(0),]\n",
        "freqcomb = [1,]\n",
        "contador_combinaciones = 1\n",
        "for w in range(y_train.shape[0]):\n",
        "  combunica = True\n",
        "  for z in range(len(uniquecomb)):\n",
        "    if (y_train.getrow(w).toarray() == uniquecomb[z]).all():\n",
        "      combunica = False\n",
        "      freqcomb[z] += 1\n",
        "      break\n",
        "  if combunica:\n",
        "    uniquecomb.append(y_train.getrow(w))\n",
        "    freqcomb.append(1)\n",
        "    contador_combinaciones += 1 \n",
        "#for w in uniquecomb:\n",
        "  #print(w.toarray()) \n",
        "#print(contador)\n",
        "n_posibles_salidas= 2**y_train.shape[1]\n",
        "print(\"diversity -> \"+ str(contador_combinaciones/n_posibles_salidas))#diversidad=medida Distinct(número de combinaciones de distintas etiquetas presentes en un conjunto de datos) \n",
        "\n",
        "#normalizada por el número total de ejemplos (combinaciones que tenemos/combinaciones totales)\n",
        "sumfreq = 0\n",
        "for w in freqcomb:\n",
        "  sumfreq += w/X_train.shape[0]#acumulamos frecuencias para cada combinacion\n",
        "sumfreq = sumfreq / contador_combinaciones\n",
        "print(\"avgIR -> \"+ str(sumfreq))#avgIR=media del grado de imbalance de todas las etiquetas, se calcula la frecuencia de aparicion de cada combinación\n",
        "#y a se divide entre el total de apariciones(instancias totales). Una vez tenemos la frecuencia de cada una se suman y se divide entre la combinaciones posibles\n",
        "\n",
        "print(\"rDep -> \")#para calcular esta variable primero sería necesario calcular el número de etiquetas dependientes, usando chi cuadrado (debe superar 6.635 ya que es 99%)\n",
        "#y se realiza el promedio del numero total de pares etiqueta\n",
        "\n",
        "print(\"\\n\")"
      ],
      "metadata": {
        "id": "ZuEztmz6Ju-F",
        "colab": {
          "base_uri": "https://localhost:8080/"
        },
        "outputId": "5f7439f3-91a1-4567-8d68-2fe65a277112"
      },
      "execution_count": null,
      "outputs": [
        {
          "output_type": "stream",
          "name": "stdout",
          "text": [
            "number of instances -> 189\n",
            "number of attributes -> 15\n",
            "number of labels -> 7\n",
            "cardinality -> 3.111111111111111\n",
            "density -> 0.4444444444444445\n",
            "diversity -> 0.3359375\n",
            "avgIR -> 0.023378860588162926\n",
            "rDep -> \n",
            "\n",
            "\n"
          ]
        }
      ]
    },
    {
      "cell_type": "markdown",
      "source": [
        "#**Apartado 5**"
      ],
      "metadata": {
        "id": "F9mkau92Y_Pp"
      }
    },
    {
      "cell_type": "code",
      "source": [
        "!pip install wheel\n",
        "!pip install scikit-multilearn #Successfully installed scikit-multilearn-0.2.0\n",
        "!pip install liac-arff\n",
        "!pip install scipy\n",
        "!pip install requests\n",
        "!pip install scikit-learn"
      ],
      "metadata": {
        "id": "lZ3T52cLNFSA"
      },
      "execution_count": null,
      "outputs": []
    },
    {
      "cell_type": "code",
      "source": [
        "from skmultilearn.dataset import load_dataset"
      ],
      "metadata": {
        "id": "i17Np6VTZC4O"
      },
      "execution_count": null,
      "outputs": []
    },
    {
      "cell_type": "code",
      "source": [
        "#ML transformación"
      ],
      "metadata": {
        "id": "75nRgyq0OZmc"
      },
      "execution_count": null,
      "outputs": []
    },
    {
      "cell_type": "code",
      "source": [
        "from skmultilearn.problem_transform import BinaryRelevance\n",
        "from skmultilearn.problem_transform import ClassifierChain\n",
        "from skmultilearn.problem_transform import LabelPowerset\n",
        "from sklearn.svm import SVC\n",
        "\n",
        "from sklearn.metrics import confusion_matrix, accuracy_score, precision_score, recall_score, f1_score"
      ],
      "metadata": {
        "id": "v6QI3pX8OzIH"
      },
      "execution_count": null,
      "outputs": []
    },
    {
      "cell_type": "code",
      "source": [
        "# initialize Binary Relevance multi-label classifier\n",
        "# with an SVM classifier\n",
        "# SVM in scikit only supports the X matrix in sparse representation\n",
        "\n",
        "X_train, y_train, feature_names, label_names = load_dataset('scene', 'train')\n",
        "X_test, y_test, feature_names, label_names = load_dataset('scene', 'test')\n",
        "\n",
        "classifier = BinaryRelevance(\n",
        "    classifier = SVC(),\n",
        "    require_dense = [False, True]\n",
        ")\n",
        "\n",
        "# train\n",
        "classifier.fit(X_train, y_train)\n",
        "\n",
        "# predict\n",
        "predictions = classifier.predict(X_test)\n",
        "accuracy_score(y_test, predictions)\n"
      ],
      "metadata": {
        "colab": {
          "base_uri": "https://localhost:8080/"
        },
        "id": "hbGzyK0iNHkD",
        "outputId": "89d6b52e-d6e8-417f-8982-2ee2ca681f7b"
      },
      "execution_count": null,
      "outputs": [
        {
          "output_type": "stream",
          "name": "stdout",
          "text": [
            "scene:train - exists, not redownloading\n",
            "scene:test - exists, not redownloading\n"
          ]
        },
        {
          "output_type": "execute_result",
          "data": {
            "text/plain": [
              "0.5869565217391305"
            ]
          },
          "metadata": {},
          "execution_count": 26
        }
      ]
    },
    {
      "cell_type": "code",
      "source": [
        "\n",
        "# initialize Classifier Chain multi-label classifier\n",
        "# with an SVM classifier\n",
        "# SVM in scikit only supports the X matrix in sparse representation\n",
        "\n",
        "X_train, y_train, feature_names, label_names = load_dataset('scene', 'train')\n",
        "X_test, y_test, feature_names, label_names = load_dataset('scene', 'test')\n",
        "\n",
        "classifier = ClassifierChain(\n",
        "    classifier = SVC(),\n",
        "    require_dense = [False, True]\n",
        ")\n",
        "\n",
        "# train\n",
        "classifier.fit(X_train, y_train)\n",
        "\n",
        "# predict\n",
        "predictions = classifier.predict(X_test)\n",
        "accuracy_score(y_test, predictions)"
      ],
      "metadata": {
        "id": "TesNDmNbNymT",
        "colab": {
          "base_uri": "https://localhost:8080/"
        },
        "outputId": "98cd24dd-02ed-492d-f0df-5fa93767bc65"
      },
      "execution_count": null,
      "outputs": [
        {
          "output_type": "stream",
          "name": "stdout",
          "text": [
            "scene:train - exists, not redownloading\n",
            "scene:test - exists, not redownloading\n"
          ]
        },
        {
          "output_type": "execute_result",
          "data": {
            "text/plain": [
              "0.6780936454849499"
            ]
          },
          "metadata": {},
          "execution_count": 27
        }
      ]
    },
    {
      "cell_type": "code",
      "source": [
        "# initialize LabelPowerset multi-label classifier with a SVM classifier\n",
        "\n",
        "X_train, y_train, feature_names, label_names = load_dataset('scene', 'train')\n",
        "X_test, y_test, feature_names, label_names = load_dataset('scene', 'test')\n",
        "\n",
        "classifier = ClassifierChain(\n",
        "    classifier = SVC(),\n",
        "    require_dense = [False, True]\n",
        ")\n",
        "\n",
        "# train\n",
        "classifier.fit(X_train, y_train)\n",
        "\n",
        "# predict\n",
        "predictions = classifier.predict(X_test)\n",
        "accuracy_score(y_test, predictions)"
      ],
      "metadata": {
        "id": "jWIXgrQoN6bB",
        "colab": {
          "base_uri": "https://localhost:8080/"
        },
        "outputId": "bf1973d6-8c12-424f-944e-034aefa8d617"
      },
      "execution_count": null,
      "outputs": [
        {
          "output_type": "stream",
          "name": "stdout",
          "text": [
            "scene:train - exists, not redownloading\n",
            "scene:test - exists, not redownloading\n"
          ]
        },
        {
          "output_type": "execute_result",
          "data": {
            "text/plain": [
              "0.6780936454849499"
            ]
          },
          "metadata": {},
          "execution_count": 28
        }
      ]
    },
    {
      "cell_type": "code",
      "source": [
        "#ML adaptación"
      ],
      "metadata": {
        "id": "goEOxNbKOfxD"
      },
      "execution_count": null,
      "outputs": []
    },
    {
      "cell_type": "code",
      "source": [
        "from skmultilearn.adapt import MLkNN\n",
        "from skmultilearn.adapt import BRkNNaClassifier\n",
        "from skmultilearn.adapt import MLTSVM"
      ],
      "metadata": {
        "id": "5cOuJbKaO4dS"
      },
      "execution_count": null,
      "outputs": []
    },
    {
      "cell_type": "code",
      "source": [
        "#MLkNN\n",
        "\n",
        "X_train, y_train, feature_names, label_names = load_dataset('scene', 'train')\n",
        "X_test, y_test, feature_names, label_names = load_dataset('scene', 'test')\n",
        "\n",
        "classifier = MLkNN(k=3)\n",
        "\n",
        "# train\n",
        "#classifier.fit(X_train, y_train)#actualmente no funciona esta funcion\n",
        "\n",
        "# predict\n",
        "#predictions = classifier.predict(X_test)\n",
        "#accuracy_score(y_test, predictions)"
      ],
      "metadata": {
        "id": "eKbwW1_KOjoC",
        "colab": {
          "base_uri": "https://localhost:8080/"
        },
        "outputId": "e5a1df5a-b9e0-4f9a-c849-7cc96c1f3b33"
      },
      "execution_count": null,
      "outputs": [
        {
          "output_type": "stream",
          "name": "stdout",
          "text": [
            "scene:train - exists, not redownloading\n",
            "scene:test - exists, not redownloading\n"
          ]
        }
      ]
    },
    {
      "cell_type": "code",
      "source": [
        "X_train, y_train, feature_names, label_names = load_dataset('scene', 'train')\n",
        "X_test, y_test, feature_names, label_names = load_dataset('scene', 'test')\n",
        "\n",
        "#BRkNNaClassifier\n",
        "\n",
        "classifier = BRkNNaClassifier(k=3)\n",
        "\n",
        "# train\n",
        "#classifier.fit(X_train, y_train)#actualmente no funciona esta funcion\n",
        "\n",
        "# predict\n",
        "#predictions = classifier.predict(X_test)\n",
        "#accuracy_score(y_test, predictions)"
      ],
      "metadata": {
        "id": "mSwEi8zDPB_l",
        "colab": {
          "base_uri": "https://localhost:8080/"
        },
        "outputId": "4f50ed4f-2da0-4ca0-86b1-e20befc7c0bd"
      },
      "execution_count": null,
      "outputs": [
        {
          "output_type": "stream",
          "name": "stdout",
          "text": [
            "scene:train - exists, not redownloading\n",
            "scene:test - exists, not redownloading\n"
          ]
        }
      ]
    },
    {
      "cell_type": "code",
      "source": [
        "#MLTSVM\n",
        "\n",
        "X_train, y_train, feature_names, label_names = load_dataset('scene', 'train')\n",
        "X_test, y_test, feature_names, label_names = load_dataset('scene', 'test')\n",
        "\n",
        "classifier = MLTSVM(c_k = 2**-1)\n",
        "\n",
        "# train\n",
        "classifier.fit(X_train, y_train)\n",
        "\n",
        "# predict\n",
        "predictions = classifier.predict(X_test)\n",
        "accuracy_score(y_test, predictions)"
      ],
      "metadata": {
        "id": "I5dEJcvpPNpr",
        "colab": {
          "base_uri": "https://localhost:8080/"
        },
        "outputId": "d0552f7a-4dab-40e6-ff11-1cec9d2c35e2"
      },
      "execution_count": null,
      "outputs": [
        {
          "output_type": "stream",
          "name": "stdout",
          "text": [
            "scene:train - exists, not redownloading\n",
            "scene:test - exists, not redownloading\n"
          ]
        },
        {
          "output_type": "execute_result",
          "data": {
            "text/plain": [
              "0.22408026755852842"
            ]
          },
          "metadata": {},
          "execution_count": 35
        }
      ]
    },
    {
      "cell_type": "markdown",
      "source": [
        "#**Apartado 6**"
      ],
      "metadata": {
        "id": "pe23t2kvPgpX"
      }
    },
    {
      "cell_type": "code",
      "source": [
        "#KFold() y cross_validate(), cross_val_score() y make_scorer()\n",
        "#\n",
        "#KFold()->Proporciona indices de train y test para dividir el conjunto de entrenamiento y test, es decir, divide el conjunto en k partes. Siendo k-1 partes el conjunto de entrenamiento en cada caso\n",
        "#\n",
        "#cross_validate()->evalúa las métricas aplicando validación cruzada\n",
        "#\n",
        "#cross_val_score()->evalúa la puntuación aplicando validación cruzada\n",
        "#\n",
        "#make_scorer()->crea una puntuación a partir de una métrica de rendimiento o una función de pérdida"
      ],
      "metadata": {
        "id": "f_8kbraVPk1j"
      },
      "execution_count": null,
      "outputs": []
    },
    {
      "cell_type": "code",
      "source": [
        "#Para aplicar validación cruzada en el contexto ML, se realizaría con k_fold haciendo estratificación iterativa, obteniendo así los resultados para cada fold"
      ],
      "metadata": {
        "id": "v26rmsfsaTrl"
      },
      "execution_count": null,
      "outputs": []
    },
    {
      "cell_type": "code",
      "source": [
        "!pip install wheel\n",
        "!pip install scikit-multilearn #Successfully installed scikit-multilearn-0.2.0\n",
        "!pip install liac-arff\n",
        "!pip install scipy\n",
        "!pip install requests\n",
        "!pip install scikit-learn"
      ],
      "metadata": {
        "id": "4PrimFxsaDpG",
        "colab": {
          "base_uri": "https://localhost:8080/"
        },
        "outputId": "2d607f67-859a-470e-fca0-659e1490cb3b"
      },
      "execution_count": null,
      "outputs": [
        {
          "output_type": "stream",
          "name": "stdout",
          "text": [
            "Looking in indexes: https://pypi.org/simple, https://us-python.pkg.dev/colab-wheels/public/simple/\n",
            "Requirement already satisfied: wheel in /usr/local/lib/python3.8/dist-packages (0.38.4)\n",
            "Looking in indexes: https://pypi.org/simple, https://us-python.pkg.dev/colab-wheels/public/simple/\n",
            "Requirement already satisfied: scikit-multilearn in /usr/local/lib/python3.8/dist-packages (0.2.0)\n",
            "Looking in indexes: https://pypi.org/simple, https://us-python.pkg.dev/colab-wheels/public/simple/\n",
            "Requirement already satisfied: liac-arff in /usr/local/lib/python3.8/dist-packages (2.5.0)\n",
            "Looking in indexes: https://pypi.org/simple, https://us-python.pkg.dev/colab-wheels/public/simple/\n",
            "Requirement already satisfied: scipy in /usr/local/lib/python3.8/dist-packages (1.7.3)\n",
            "Requirement already satisfied: numpy<1.23.0,>=1.16.5 in /usr/local/lib/python3.8/dist-packages (from scipy) (1.21.6)\n",
            "Looking in indexes: https://pypi.org/simple, https://us-python.pkg.dev/colab-wheels/public/simple/\n",
            "Requirement already satisfied: requests in /usr/local/lib/python3.8/dist-packages (2.25.1)\n",
            "Requirement already satisfied: chardet<5,>=3.0.2 in /usr/local/lib/python3.8/dist-packages (from requests) (4.0.0)\n",
            "Requirement already satisfied: idna<3,>=2.5 in /usr/local/lib/python3.8/dist-packages (from requests) (2.10)\n",
            "Requirement already satisfied: urllib3<1.27,>=1.21.1 in /usr/local/lib/python3.8/dist-packages (from requests) (1.24.3)\n",
            "Requirement already satisfied: certifi>=2017.4.17 in /usr/local/lib/python3.8/dist-packages (from requests) (2022.12.7)\n",
            "Looking in indexes: https://pypi.org/simple, https://us-python.pkg.dev/colab-wheels/public/simple/\n",
            "Requirement already satisfied: scikit-learn in /usr/local/lib/python3.8/dist-packages (1.0.2)\n",
            "Requirement already satisfied: joblib>=0.11 in /usr/local/lib/python3.8/dist-packages (from scikit-learn) (1.2.0)\n",
            "Requirement already satisfied: numpy>=1.14.6 in /usr/local/lib/python3.8/dist-packages (from scikit-learn) (1.21.6)\n",
            "Requirement already satisfied: threadpoolctl>=2.0.0 in /usr/local/lib/python3.8/dist-packages (from scikit-learn) (3.1.0)\n",
            "Requirement already satisfied: scipy>=1.1.0 in /usr/local/lib/python3.8/dist-packages (from scikit-learn) (1.7.3)\n"
          ]
        }
      ]
    },
    {
      "cell_type": "code",
      "source": [
        "from skmultilearn.model_selection import IterativeStratification\n",
        "from skmultilearn.dataset import load_dataset\n",
        "from skmultilearn.problem_transform import BinaryRelevance\n",
        "from sklearn.svm import SVC"
      ],
      "metadata": {
        "id": "XfL3Db8naDpH"
      },
      "execution_count": null,
      "outputs": []
    },
    {
      "cell_type": "code",
      "source": [
        "X_train, y_train, feature_names, label_names = load_dataset('scene', 'train')\n",
        "X_test, y_test, feature_names, label_names = load_dataset('scene', 'test')#esto se usaría si se quiere validar despues de la validación cruzada, ya que sino usaríamos datos de test en el entrenamiento\n",
        "\n",
        "classifier = BinaryRelevance(\n",
        "    classifier = SVC(),\n",
        "    require_dense = [False, True]\n",
        ")\n",
        "sol = []\n",
        "\n",
        "k_fold = IterativeStratification(n_splits=2, order=1)\n",
        "for train, test in k_fold.split(X_train, y_train):\n",
        "    classifier.fit(X_train[train], y_train[train])\n",
        "    result = classifier.predict(X_train[test])\n",
        "    sol.append(accuracy_score(y_train[test], result))\n",
        "print(sol)"
      ],
      "metadata": {
        "id": "-EVK2flFZ_1k",
        "colab": {
          "base_uri": "https://localhost:8080/"
        },
        "outputId": "81bd7ac8-6c85-44fd-f9e1-403d6ae6450d"
      },
      "execution_count": null,
      "outputs": [
        {
          "output_type": "stream",
          "name": "stdout",
          "text": [
            "scene:train - exists, not redownloading\n",
            "scene:test - exists, not redownloading\n",
            "[0.5247524752475248, 0.5586776859504132]\n"
          ]
        }
      ]
    },
    {
      "cell_type": "markdown",
      "source": [
        "#**Apartado 7**"
      ],
      "metadata": {
        "id": "N-TUxz-pbUyo"
      }
    },
    {
      "cell_type": "code",
      "source": [
        "#Existen dos tipos de Métricas evaluación, pudiendo ser Basadas en instancias o Basadas en etiquetas.\n",
        "#\n",
        "#Las basadas en etiquetas son:\n",
        "#\n",
        "#Accuracy-> la proporción de predichas correctamente respecto al total\n",
        "#\n",
        "#Recall-> la fracción de etiquetas positivas reales que se consiguieron predecir (en aprendizaje con imbalance, se emplea recall para medir la cobertura de la clase minoritaria)\n",
        "#\n",
        "#F1_score-> en una única medida atiende a las preocupaciones tanto de precision como de recall\n",
        "#\n",
        "#Las basadas en instancias son:\n",
        "#\n",
        "#Hamming loss-> Evalúa cuántas veces un par instancia-etiqueta se clasifica mal. Operación XOR\n",
        "#\n",
        "#Precision-> calcular la media de la precisión de los clasificadores binarios\n",
        "#\n",
        "#Cabe destacar el uso del area bajo la curva roc o la matriz de confusion para cada clase o para el conjunto de etiquetas, ya que se puede conseguir información relevante a partir de los parámetros anteriores como F1_score o Accuracy o recall."
      ],
      "metadata": {
        "id": "JEuapr5jbYfi"
      },
      "execution_count": null,
      "outputs": []
    },
    {
      "cell_type": "markdown",
      "source": [
        "#**Apartado 8**"
      ],
      "metadata": {
        "id": "VktukYhqePNw"
      }
    },
    {
      "cell_type": "code",
      "source": [
        "#cl-cv.py"
      ],
      "metadata": {
        "id": "5Jm0tujteRwL"
      },
      "execution_count": null,
      "outputs": []
    },
    {
      "cell_type": "code",
      "source": [
        "!pip install wheel\n",
        "!pip install scikit-multilearn #Successfully installed scikit-multilearn-0.2.0\n",
        "!pip install liac-arff\n",
        "!pip install scipy\n",
        "!pip install requests\n",
        "!pip install scikit-learn"
      ],
      "metadata": {
        "colab": {
          "base_uri": "https://localhost:8080/"
        },
        "outputId": "c5f8b612-499f-457b-ad03-5a8ca3491c74",
        "id": "kehGkxYDgyI3"
      },
      "execution_count": null,
      "outputs": [
        {
          "output_type": "stream",
          "name": "stdout",
          "text": [
            "Looking in indexes: https://pypi.org/simple, https://us-python.pkg.dev/colab-wheels/public/simple/\n",
            "Requirement already satisfied: wheel in /usr/local/lib/python3.8/dist-packages (0.38.4)\n",
            "Looking in indexes: https://pypi.org/simple, https://us-python.pkg.dev/colab-wheels/public/simple/\n",
            "Requirement already satisfied: scikit-multilearn in /usr/local/lib/python3.8/dist-packages (0.2.0)\n",
            "Looking in indexes: https://pypi.org/simple, https://us-python.pkg.dev/colab-wheels/public/simple/\n",
            "Requirement already satisfied: liac-arff in /usr/local/lib/python3.8/dist-packages (2.5.0)\n",
            "Looking in indexes: https://pypi.org/simple, https://us-python.pkg.dev/colab-wheels/public/simple/\n",
            "Requirement already satisfied: scipy in /usr/local/lib/python3.8/dist-packages (1.7.3)\n",
            "Requirement already satisfied: numpy<1.23.0,>=1.16.5 in /usr/local/lib/python3.8/dist-packages (from scipy) (1.21.6)\n",
            "Looking in indexes: https://pypi.org/simple, https://us-python.pkg.dev/colab-wheels/public/simple/\n",
            "Requirement already satisfied: requests in /usr/local/lib/python3.8/dist-packages (2.25.1)\n",
            "Requirement already satisfied: idna<3,>=2.5 in /usr/local/lib/python3.8/dist-packages (from requests) (2.10)\n",
            "Requirement already satisfied: certifi>=2017.4.17 in /usr/local/lib/python3.8/dist-packages (from requests) (2022.12.7)\n",
            "Requirement already satisfied: urllib3<1.27,>=1.21.1 in /usr/local/lib/python3.8/dist-packages (from requests) (1.24.3)\n",
            "Requirement already satisfied: chardet<5,>=3.0.2 in /usr/local/lib/python3.8/dist-packages (from requests) (4.0.0)\n",
            "Looking in indexes: https://pypi.org/simple, https://us-python.pkg.dev/colab-wheels/public/simple/\n",
            "Requirement already satisfied: scikit-learn in /usr/local/lib/python3.8/dist-packages (1.0.2)\n",
            "Requirement already satisfied: scipy>=1.1.0 in /usr/local/lib/python3.8/dist-packages (from scikit-learn) (1.7.3)\n",
            "Requirement already satisfied: numpy>=1.14.6 in /usr/local/lib/python3.8/dist-packages (from scikit-learn) (1.21.6)\n",
            "Requirement already satisfied: threadpoolctl>=2.0.0 in /usr/local/lib/python3.8/dist-packages (from scikit-learn) (3.1.0)\n",
            "Requirement already satisfied: joblib>=0.11 in /usr/local/lib/python3.8/dist-packages (from scikit-learn) (1.2.0)\n"
          ]
        }
      ]
    },
    {
      "cell_type": "code",
      "source": [
        "#uso los imports necesarios"
      ],
      "metadata": {
        "id": "jbfDIYl9gyrl"
      },
      "execution_count": null,
      "outputs": []
    },
    {
      "cell_type": "code",
      "source": [
        "from skmultilearn.model_selection import IterativeStratification\n",
        "from skmultilearn.dataset import load_dataset\n",
        "from skmultilearn.problem_transform import BinaryRelevance\n",
        "from skmultilearn.problem_transform import ClassifierChain\n",
        "from skmultilearn.adapt import MLTSVM\n",
        "from sklearn.svm import SVC\n",
        "from sklearn.metrics import classification_report\n",
        "import warnings\n",
        "warnings.filterwarnings(\"ignore\")"
      ],
      "metadata": {
        "id": "1Wsi_RtJgfoI"
      },
      "execution_count": null,
      "outputs": []
    },
    {
      "cell_type": "code",
      "source": [
        "#cargo el dataset, realizo kfold de 3 split para cada clasificador, los clasificadores son BinaryRelevance, ClassifierChain y MLTSVM"
      ],
      "metadata": {
        "id": "EOL01_tJg59W"
      },
      "execution_count": null,
      "outputs": []
    },
    {
      "cell_type": "code",
      "source": [
        "list = ['tmc2007_500','yeast', 'scene', 'birds','emotions']#lista con los 5 dataset\n",
        "\n",
        "for i in list:\n",
        "  X_train, y_train, feature_names, label_names = load_dataset(i, 'train')\n",
        "  X_test, y_test, feature_names, label_names = load_dataset(i, 'test')#esto se usaría si se quiere validar despues de la validación cruzada, ya que sino usaríamos datos de test en el entrenamiento\n",
        "\n",
        "\n",
        "  #clasificador BinaryRelevance\n",
        "  classifier = BinaryRelevance(\n",
        "    classifier = SVC(),\n",
        "    require_dense = [False, True]\n",
        "  )\n",
        "  sol = []\n",
        "\n",
        "  k_fold = IterativeStratification(n_splits=3)\n",
        "  for train, test in k_fold.split(X_train, y_train):\n",
        "      classifier.fit(X_train[train], y_train[train])\n",
        "      result = classifier.predict(X_train[test])\n",
        "      sol.append(classification_report(y_train[test], result))\n",
        "  print(\"Resultados para BinaryRelevance en la bd \", i)\n",
        "  for w in sol:\n",
        "    print(w)\n",
        "\n",
        "  #clasificador ClassifierChain\n",
        "  classifier = ClassifierChain(\n",
        "    classifier = SVC(),\n",
        "    require_dense = [False, True]\n",
        ")\n",
        "  sol = []\n",
        "\n",
        "  k_fold = IterativeStratification(n_splits=3)\n",
        "  for train, test in k_fold.split(X_train, y_train):\n",
        "      classifier.fit(X_train[train], y_train[train])\n",
        "      result = classifier.predict(X_train[test])\n",
        "      sol.append(classification_report(y_train[test], result))\n",
        "  print(\"Resultados para ClassifierChain en la bd\", i)\n",
        "  for w in sol:\n",
        "    print(w)\n",
        "\n",
        "  #clasificador MLTSVM\n",
        "  classifier = MLTSVM(c_k = 2**-1)\n",
        "  sol = []\n",
        "\n",
        "  k_fold = IterativeStratification(n_splits=3)\n",
        "  for train, test in k_fold.split(X_train, y_train):\n",
        "      classifier.fit(X_train[train], y_train[train])\n",
        "      result = classifier.predict(X_train[test])\n",
        "      sol.append(classification_report(y_train[test], result))\n",
        "  print(\"Resultados para MLTSVM en la bd \", i)\n",
        "  for w in sol:\n",
        "    print(w)\n"
      ],
      "metadata": {
        "colab": {
          "base_uri": "https://localhost:8080/"
        },
        "id": "dQAf9UENgvJK",
        "outputId": "5c33b192-15f0-4cee-8856-86a280024469"
      },
      "execution_count": null,
      "outputs": [
        {
          "output_type": "stream",
          "name": "stdout",
          "text": [
            "tmc2007_500:train - exists, not redownloading\n",
            "tmc2007_500:test - exists, not redownloading\n",
            "Resultados para BinaryRelevance en la bd  tmc2007_500\n",
            "              precision    recall  f1-score   support\n",
            "\n",
            "           0       0.76      0.61      0.68       478\n",
            "           1       0.72      0.88      0.79      4292\n",
            "           2       0.76      0.52      0.62       131\n",
            "           3       0.88      0.15      0.26       144\n",
            "           4       0.84      0.72      0.77      1021\n",
            "           5       0.75      0.68      0.71      2021\n",
            "           6       0.55      0.01      0.02       553\n",
            "           7       0.82      0.43      0.57       737\n",
            "           8       0.80      0.03      0.06       137\n",
            "           9       0.81      0.13      0.22       369\n",
            "          10       0.96      0.19      0.32       118\n",
            "          11       0.86      0.64      0.73      1119\n",
            "          12       0.76      0.33      0.46       720\n",
            "          13       0.84      0.54      0.66       421\n",
            "          14       0.00      0.00      0.00       109\n",
            "          15       0.62      0.27      0.38       312\n",
            "          16       1.00      0.06      0.12       131\n",
            "          17       0.84      0.21      0.33       379\n",
            "          18       0.88      0.74      0.80      2256\n",
            "          19       0.87      0.74      0.80       216\n",
            "          20       0.96      0.64      0.77       101\n",
            "          21       0.92      0.73      0.81       191\n",
            "\n",
            "   micro avg       0.78      0.63      0.70     15956\n",
            "   macro avg       0.78      0.42      0.49     15956\n",
            "weighted avg       0.78      0.63      0.66     15956\n",
            " samples avg       0.77      0.68      0.68     15956\n",
            "\n",
            "              precision    recall  f1-score   support\n",
            "\n",
            "           0       0.73      0.62      0.67       490\n",
            "           1       0.71      0.90      0.79      4292\n",
            "           2       0.86      0.46      0.60       131\n",
            "           3       0.84      0.18      0.30       142\n",
            "           4       0.82      0.72      0.76      1020\n",
            "           5       0.74      0.69      0.71      2022\n",
            "           6       0.20      0.01      0.01       553\n",
            "           7       0.80      0.43      0.56       738\n",
            "           8       0.89      0.06      0.11       134\n",
            "           9       0.74      0.15      0.24       369\n",
            "          10       0.89      0.21      0.34       117\n",
            "          11       0.87      0.66      0.75      1119\n",
            "          12       0.75      0.37      0.49       721\n",
            "          13       0.85      0.56      0.67       420\n",
            "          14       0.00      0.00      0.00       113\n",
            "          15       0.61      0.30      0.40       311\n",
            "          16       0.89      0.06      0.11       131\n",
            "          17       0.84      0.22      0.35       380\n",
            "          18       0.89      0.76      0.82      2256\n",
            "          19       0.86      0.69      0.77       216\n",
            "          20       1.00      0.51      0.68       102\n",
            "          21       0.94      0.73      0.82       191\n",
            "\n",
            "   micro avg       0.77      0.64      0.70     15968\n",
            "   macro avg       0.76      0.42      0.50     15968\n",
            "weighted avg       0.76      0.64      0.66     15968\n",
            " samples avg       0.76      0.69      0.68     15968\n",
            "\n",
            "              precision    recall  f1-score   support\n",
            "\n",
            "           0       0.72      0.61      0.66       473\n",
            "           1       0.70      0.88      0.78      4292\n",
            "           2       0.92      0.46      0.61       131\n",
            "           3       0.92      0.16      0.28       142\n",
            "           4       0.81      0.70      0.75      1021\n",
            "           5       0.74      0.69      0.72      2022\n",
            "           6       0.46      0.01      0.02       578\n",
            "           7       0.78      0.41      0.54       738\n",
            "           8       0.75      0.04      0.08       134\n",
            "           9       0.75      0.09      0.16       369\n",
            "          10       0.92      0.30      0.45       118\n",
            "          11       0.87      0.70      0.78      1119\n",
            "          12       0.81      0.36      0.50       721\n",
            "          13       0.84      0.55      0.67       420\n",
            "          14       0.00      0.00      0.00       103\n",
            "          15       0.60      0.24      0.34       312\n",
            "          16       1.00      0.05      0.09       132\n",
            "          17       0.90      0.21      0.33       380\n",
            "          18       0.87      0.76      0.81      2255\n",
            "          19       0.85      0.70      0.77       215\n",
            "          20       0.95      0.58      0.72       101\n",
            "          21       0.92      0.73      0.81       192\n",
            "\n",
            "   micro avg       0.77      0.64      0.70     15968\n",
            "   macro avg       0.78      0.42      0.49     15968\n",
            "weighted avg       0.77      0.64      0.66     15968\n",
            " samples avg       0.76      0.69      0.68     15968\n",
            "\n",
            "Resultados para ClassifierChain en la bd tmc2007_500\n",
            "              precision    recall  f1-score   support\n",
            "\n",
            "           0       0.74      0.61      0.67       480\n",
            "           1       0.71      0.88      0.78      4292\n",
            "           2       0.77      0.43      0.55       131\n",
            "           3       0.86      0.17      0.29       143\n",
            "           4       0.80      0.72      0.76      1020\n",
            "           5       0.75      0.67      0.70      2021\n",
            "           6       0.54      0.04      0.07       561\n",
            "           7       0.80      0.49      0.61       761\n",
            "           8       0.62      0.04      0.07       135\n",
            "           9       0.66      0.08      0.14       369\n",
            "          10       0.88      0.30      0.45       115\n",
            "          11       0.85      0.68      0.76      1119\n",
            "          12       0.81      0.35      0.49       720\n",
            "          13       0.80      0.57      0.67       420\n",
            "          14       0.00      0.00      0.00       113\n",
            "          15       0.61      0.30      0.40       310\n",
            "          16       0.90      0.07      0.13       132\n",
            "          17       0.81      0.16      0.27       380\n",
            "          18       0.87      0.75      0.81      2256\n",
            "          19       0.84      0.62      0.71       216\n",
            "          20       0.97      0.62      0.76       101\n",
            "          21       0.90      0.72      0.80       191\n",
            "\n",
            "   micro avg       0.77      0.63      0.69     15986\n",
            "   macro avg       0.75      0.42      0.49     15986\n",
            "weighted avg       0.76      0.63      0.66     15986\n",
            " samples avg       0.76      0.68      0.68     15986\n",
            "\n",
            "              precision    recall  f1-score   support\n",
            "\n",
            "           0       0.71      0.61      0.66       480\n",
            "           1       0.71      0.88      0.79      4292\n",
            "           2       0.92      0.51      0.66       131\n",
            "           3       0.90      0.20      0.32       143\n",
            "           4       0.81      0.70      0.75      1021\n",
            "           5       0.76      0.66      0.70      2022\n",
            "           6       0.45      0.06      0.10       562\n",
            "           7       0.77      0.47      0.59       726\n",
            "           8       0.67      0.01      0.03       135\n",
            "           9       0.81      0.12      0.20       369\n",
            "          10       0.85      0.14      0.24       122\n",
            "          11       0.84      0.71      0.77      1119\n",
            "          12       0.78      0.38      0.51       721\n",
            "          13       0.81      0.60      0.69       421\n",
            "          14       0.00      0.00      0.00       101\n",
            "          15       0.59      0.21      0.31       315\n",
            "          16       1.00      0.08      0.14       131\n",
            "          17       0.85      0.24      0.37       379\n",
            "          18       0.86      0.76      0.81      2256\n",
            "          19       0.88      0.78      0.83       215\n",
            "          20       0.95      0.59      0.73       102\n",
            "          21       0.93      0.74      0.82       191\n",
            "\n",
            "   micro avg       0.77      0.64      0.70     15954\n",
            "   macro avg       0.77      0.43      0.50     15954\n",
            "weighted avg       0.77      0.64      0.67     15954\n",
            " samples avg       0.77      0.69      0.69     15954\n",
            "\n",
            "              precision    recall  f1-score   support\n",
            "\n",
            "           0       0.73      0.62      0.67       481\n",
            "           1       0.71      0.89      0.79      4292\n",
            "           2       0.86      0.50      0.63       131\n",
            "           3       0.82      0.13      0.22       142\n",
            "           4       0.83      0.73      0.78      1021\n",
            "           5       0.75      0.66      0.70      2022\n",
            "           6       0.57      0.05      0.10       561\n",
            "           7       0.71      0.44      0.54       726\n",
            "           8       0.56      0.04      0.07       135\n",
            "           9       0.79      0.10      0.18       369\n",
            "          10       1.00      0.29      0.45       116\n",
            "          11       0.84      0.70      0.76      1119\n",
            "          12       0.75      0.35      0.48       721\n",
            "          13       0.84      0.60      0.70       420\n",
            "          14       0.00      0.00      0.00       111\n",
            "          15       0.64      0.20      0.31       310\n",
            "          16       0.89      0.06      0.11       131\n",
            "          17       0.92      0.23      0.37       380\n",
            "          18       0.87      0.77      0.82      2255\n",
            "          19       0.88      0.72      0.79       216\n",
            "          20       0.98      0.59      0.74       101\n",
            "          21       0.89      0.81      0.85       192\n",
            "\n",
            "   micro avg       0.77      0.64      0.70     15952\n",
            "   macro avg       0.76      0.43      0.50     15952\n",
            "weighted avg       0.77      0.64      0.66     15952\n",
            " samples avg       0.77      0.70      0.69     15952\n",
            "\n",
            "Resultados para MLTSVM en la bd  tmc2007_500\n",
            "              precision    recall  f1-score   support\n",
            "\n",
            "           0       0.32      0.43      0.37       479\n",
            "           1       0.83      0.15      0.25      4292\n",
            "           2       0.24      0.40      0.30       131\n",
            "           3       0.12      0.44      0.19       142\n",
            "           4       0.51      0.46      0.48      1021\n",
            "           5       0.62      0.33      0.43      2022\n",
            "           6       0.27      0.40      0.33       561\n",
            "           7       0.34      0.42      0.38       730\n",
            "           8       0.19      0.41      0.26       135\n",
            "           9       0.25      0.40      0.31       369\n",
            "          10       0.09      0.42      0.15       118\n",
            "          11       0.53      0.36      0.43      1119\n",
            "          12       0.46      0.23      0.31       721\n",
            "          13       0.26      0.40      0.31       420\n",
            "          14       0.09      0.42      0.15       106\n",
            "          15       0.24      0.42      0.31       312\n",
            "          16       0.16      0.44      0.23       131\n",
            "          17       0.16      0.44      0.23       379\n",
            "          18       0.77      0.22      0.34      2256\n",
            "          19       0.27      0.37      0.31       216\n",
            "          20       0.19      0.30      0.23       102\n",
            "          21       0.52      0.53      0.53       191\n",
            "\n",
            "   micro avg       0.37      0.29      0.33     15953\n",
            "   macro avg       0.34      0.38      0.31     15953\n",
            "weighted avg       0.57      0.29      0.33     15953\n",
            " samples avg       0.29      0.29      0.26     15953\n",
            "\n",
            "              precision    recall  f1-score   support\n",
            "\n",
            "           0       0.36      0.47      0.41       478\n",
            "           1       0.82      0.17      0.28      4292\n",
            "           2       0.22      0.42      0.29       131\n",
            "           3       0.11      0.43      0.18       143\n",
            "           4       0.53      0.48      0.51      1020\n",
            "           5       0.61      0.37      0.46      2021\n",
            "           6       0.26      0.45      0.33       562\n",
            "           7       0.36      0.43      0.40       753\n",
            "           8       0.17      0.39      0.24       135\n",
            "           9       0.20      0.36      0.25       369\n",
            "          10       0.08      0.34      0.12       117\n",
            "          11       0.54      0.40      0.46      1119\n",
            "          12       0.43      0.26      0.32       720\n",
            "          13       0.24      0.44      0.31       420\n",
            "          14       0.10      0.41      0.16       110\n",
            "          15       0.22      0.41      0.29       311\n",
            "          16       0.13      0.41      0.20       131\n",
            "          17       0.14      0.40      0.21       380\n",
            "          18       0.78      0.22      0.34      2255\n",
            "          19       0.36      0.40      0.38       215\n",
            "          20       0.26      0.49      0.33       101\n",
            "          21       0.58      0.49      0.53       191\n",
            "\n",
            "   micro avg       0.37      0.31      0.34     15974\n",
            "   macro avg       0.34      0.39      0.32     15974\n",
            "weighted avg       0.57      0.31      0.35     15974\n",
            " samples avg       0.31      0.31      0.28     15974\n",
            "\n",
            "              precision    recall  f1-score   support\n",
            "\n",
            "           0       0.37      0.50      0.43       484\n",
            "           1       0.80      0.18      0.29      4292\n",
            "           2       0.28      0.48      0.35       131\n",
            "           3       0.10      0.36      0.16       143\n",
            "           4       0.47      0.45      0.46      1021\n",
            "           5       0.57      0.35      0.43      2022\n",
            "           6       0.23      0.40      0.29       561\n",
            "           7       0.33      0.43      0.37       730\n",
            "           8       0.17      0.32      0.22       135\n",
            "           9       0.22      0.32      0.26       369\n",
            "          10       0.10      0.35      0.15       118\n",
            "          11       0.51      0.41      0.46      1119\n",
            "          12       0.41      0.29      0.34       721\n",
            "          13       0.24      0.46      0.31       421\n",
            "          14       0.09      0.31      0.14       109\n",
            "          15       0.22      0.37      0.28       312\n",
            "          16       0.13      0.36      0.19       132\n",
            "          17       0.15      0.42      0.22       380\n",
            "          18       0.76      0.20      0.32      2256\n",
            "          19       0.38      0.46      0.42       216\n",
            "          20       0.21      0.46      0.29       101\n",
            "          21       0.45      0.40      0.42       192\n",
            "\n",
            "   micro avg       0.36      0.31      0.33     15965\n",
            "   macro avg       0.33      0.38      0.31     15965\n",
            "weighted avg       0.55      0.31      0.34     15965\n",
            " samples avg       0.30      0.30      0.27     15965\n",
            "\n",
            "yeast:train - exists, not redownloading\n",
            "yeast:test - exists, not redownloading\n",
            "Resultados para BinaryRelevance en la bd  yeast\n",
            "              precision    recall  f1-score   support\n",
            "\n",
            "           0       0.74      0.46      0.57       159\n",
            "           1       0.61      0.49      0.55       215\n",
            "           2       0.67      0.62      0.65       200\n",
            "           3       0.75      0.44      0.55       177\n",
            "           4       0.78      0.27      0.40       147\n",
            "           5       0.82      0.10      0.18       139\n",
            "           6       0.67      0.07      0.12        87\n",
            "           7       1.00      0.02      0.04        96\n",
            "           8       0.00      0.00      0.00        30\n",
            "           9       0.00      0.00      0.00        54\n",
            "          10       0.00      0.00      0.00        67\n",
            "          11       0.76      0.99      0.86       376\n",
            "          12       0.75      0.99      0.85       374\n",
            "          13       0.00      0.00      0.00         9\n",
            "\n",
            "   micro avg       0.73      0.56      0.63      2130\n",
            "   macro avg       0.54      0.32      0.34      2130\n",
            "weighted avg       0.69      0.56      0.55      2130\n",
            " samples avg       0.72      0.56      0.60      2130\n",
            "\n",
            "              precision    recall  f1-score   support\n",
            "\n",
            "           0       0.83      0.47      0.60       159\n",
            "           1       0.67      0.49      0.57       215\n",
            "           2       0.67      0.59      0.63       199\n",
            "           3       0.73      0.47      0.57       177\n",
            "           4       0.96      0.34      0.50       147\n",
            "           5       1.00      0.12      0.22       114\n",
            "           6       1.00      0.05      0.09        87\n",
            "           7       0.00      0.00      0.00        96\n",
            "           8       0.00      0.00      0.00        29\n",
            "           9       0.00      0.00      0.00        54\n",
            "          10       0.00      0.00      0.00        59\n",
            "          11       0.77      1.00      0.87       376\n",
            "          12       0.77      1.00      0.87       374\n",
            "          13       0.00      0.00      0.00         7\n",
            "\n",
            "   micro avg       0.76      0.57      0.65      2093\n",
            "   macro avg       0.53      0.32      0.35      2093\n",
            "weighted avg       0.70      0.57      0.57      2093\n",
            " samples avg       0.75      0.58      0.63      2093\n",
            "\n",
            "              precision    recall  f1-score   support\n",
            "\n",
            "           0       0.81      0.51      0.63       158\n",
            "           1       0.60      0.42      0.49       215\n",
            "           2       0.66      0.62      0.64       199\n",
            "           3       0.81      0.54      0.65       178\n",
            "           4       0.90      0.43      0.58       147\n",
            "           5       0.77      0.19      0.31       125\n",
            "           6       1.00      0.06      0.11        87\n",
            "           7       0.00      0.00      0.00        97\n",
            "           8       0.00      0.00      0.00        39\n",
            "           9       0.00      0.00      0.00        53\n",
            "          10       0.00      0.00      0.00        72\n",
            "          11       0.73      1.00      0.84       376\n",
            "          12       0.71      1.00      0.83       368\n",
            "          13       0.00      0.00      0.00         5\n",
            "\n",
            "   micro avg       0.72      0.58      0.64      2119\n",
            "   macro avg       0.50      0.34      0.36      2119\n",
            "weighted avg       0.65      0.58      0.57      2119\n",
            " samples avg       0.71      0.58      0.61      2119\n",
            "\n",
            "Resultados para ClassifierChain en la bd yeast\n",
            "              precision    recall  f1-score   support\n",
            "\n",
            "           0       0.90      0.49      0.64       158\n",
            "           1       0.69      0.33      0.45       215\n",
            "           2       0.73      0.31      0.44       199\n",
            "           3       0.80      0.46      0.59       177\n",
            "           4       0.55      0.50      0.53       142\n",
            "           5       0.45      0.31      0.36       121\n",
            "           6       1.00      0.01      0.02        87\n",
            "           7       1.00      0.01      0.02        96\n",
            "           8       0.00      0.00      0.00        34\n",
            "           9       0.14      0.48      0.21        54\n",
            "          10       0.15      0.46      0.22        61\n",
            "          11       0.76      1.00      0.87       376\n",
            "          12       0.76      1.00      0.86       373\n",
            "          13       0.00      0.00      0.00         9\n",
            "\n",
            "   micro avg       0.62      0.57      0.59      2102\n",
            "   macro avg       0.57      0.38      0.37      2102\n",
            "weighted avg       0.70      0.57      0.56      2102\n",
            " samples avg       0.62      0.58      0.58      2102\n",
            "\n",
            "              precision    recall  f1-score   support\n",
            "\n",
            "           0       0.75      0.41      0.53       159\n",
            "           1       0.56      0.28      0.37       215\n",
            "           2       0.76      0.36      0.49       199\n",
            "           3       0.75      0.49      0.59       178\n",
            "           4       0.62      0.54      0.58       156\n",
            "           5       0.46      0.33      0.39       129\n",
            "           6       1.00      0.02      0.04        87\n",
            "           7       1.00      0.02      0.04        96\n",
            "           8       0.00      0.00      0.00        30\n",
            "           9       0.14      0.46      0.21        54\n",
            "          10       0.16      0.41      0.23        68\n",
            "          11       0.76      0.98      0.85       376\n",
            "          12       0.74      0.98      0.85       370\n",
            "          13       0.00      0.00      0.00         6\n",
            "\n",
            "   micro avg       0.61      0.57      0.59      2123\n",
            "   macro avg       0.55      0.38      0.37      2123\n",
            "weighted avg       0.68      0.57      0.55      2123\n",
            " samples avg       0.60      0.57      0.57      2123\n",
            "\n",
            "              precision    recall  f1-score   support\n",
            "\n",
            "           0       0.72      0.48      0.57       159\n",
            "           1       0.64      0.38      0.48       215\n",
            "           2       0.75      0.43      0.55       200\n",
            "           3       0.68      0.53      0.59       177\n",
            "           4       0.54      0.47      0.50       143\n",
            "           5       0.36      0.21      0.27       128\n",
            "           6       0.36      0.09      0.15        87\n",
            "           7       0.36      0.08      0.13        97\n",
            "           8       0.00      0.00      0.00        34\n",
            "           9       0.17      0.40      0.24        53\n",
            "          10       0.20      0.36      0.26        69\n",
            "          11       0.75      0.99      0.85       376\n",
            "          12       0.74      0.99      0.85       373\n",
            "          13       0.00      0.00      0.00         6\n",
            "\n",
            "   micro avg       0.63      0.58      0.61      2117\n",
            "   macro avg       0.45      0.39      0.39      2117\n",
            "weighted avg       0.61      0.58      0.57      2117\n",
            " samples avg       0.63      0.59      0.59      2117\n",
            "\n",
            "Resultados para MLTSVM en la bd  yeast\n",
            "              precision    recall  f1-score   support\n",
            "\n",
            "           0       0.67      0.11      0.19       159\n",
            "           1       0.53      0.08      0.14       215\n",
            "           2       0.78      0.10      0.19       200\n",
            "           3       0.67      0.07      0.12       177\n",
            "           4       0.58      0.05      0.09       147\n",
            "           5       0.50      0.07      0.12       123\n",
            "           6       0.20      0.06      0.09        87\n",
            "           7       0.11      0.02      0.03        96\n",
            "           8       0.04      0.03      0.03        36\n",
            "           9       0.21      0.11      0.15        62\n",
            "          10       0.37      0.10      0.15        73\n",
            "          11       1.00      0.01      0.02       376\n",
            "          12       0.80      0.01      0.02       372\n",
            "          13       0.00      0.00      0.00         7\n",
            "\n",
            "   micro avg       0.42      0.05      0.09      2130\n",
            "   macro avg       0.46      0.06      0.10      2130\n",
            "weighted avg       0.65      0.05      0.09      2130\n",
            " samples avg       0.13      0.06      0.07      2130\n",
            "\n",
            "              precision    recall  f1-score   support\n",
            "\n",
            "           0       0.78      0.11      0.20       158\n",
            "           1       0.52      0.05      0.09       215\n",
            "           2       0.64      0.05      0.08       199\n",
            "           3       0.74      0.11      0.20       177\n",
            "           4       0.64      0.06      0.11       147\n",
            "           5       0.13      0.02      0.03       133\n",
            "           6       0.10      0.03      0.05        87\n",
            "           7       0.33      0.08      0.13        97\n",
            "           8       0.07      0.06      0.07        32\n",
            "           9       0.12      0.04      0.06        50\n",
            "          10       0.29      0.03      0.06        63\n",
            "          11       0.00      0.00      0.00       376\n",
            "          12       0.00      0.00      0.00       371\n",
            "          13       0.00      0.00      0.00        10\n",
            "\n",
            "   micro avg       0.39      0.04      0.07      2115\n",
            "   macro avg       0.31      0.05      0.08      2115\n",
            "weighted avg       0.32      0.04      0.07      2115\n",
            " samples avg       0.12      0.04      0.06      2115\n",
            "\n",
            "              precision    recall  f1-score   support\n",
            "\n",
            "           0       0.89      0.21      0.35       159\n",
            "           1       0.62      0.11      0.19       215\n",
            "           2       0.76      0.18      0.29       199\n",
            "           3       0.92      0.07      0.13       178\n",
            "           4       0.73      0.05      0.10       147\n",
            "           5       0.68      0.20      0.31       122\n",
            "           6       0.32      0.13      0.18        87\n",
            "           7       0.29      0.09      0.14        96\n",
            "           8       0.00      0.00      0.00        30\n",
            "           9       0.17      0.08      0.11        49\n",
            "          10       0.32      0.11      0.17        62\n",
            "          11       0.67      0.01      0.01       376\n",
            "          12       0.67      0.01      0.01       373\n",
            "          13       0.00      0.00      0.00         4\n",
            "\n",
            "   micro avg       0.55      0.08      0.14      2097\n",
            "   macro avg       0.50      0.09      0.14      2097\n",
            "weighted avg       0.65      0.08      0.13      2097\n",
            " samples avg       0.20      0.09      0.11      2097\n",
            "\n",
            "scene:train - exists, not redownloading\n",
            "scene:test - exists, not redownloading\n",
            "Resultados para BinaryRelevance en la bd  scene\n",
            "              precision    recall  f1-score   support\n",
            "\n",
            "           0       0.81      0.61      0.70        75\n",
            "           1       0.95      0.73      0.82        55\n",
            "           2       0.96      0.83      0.89        66\n",
            "           3       0.89      0.75      0.82        65\n",
            "           4       0.81      0.38      0.52        92\n",
            "           5       0.72      0.45      0.56        75\n",
            "\n",
            "   micro avg       0.86      0.61      0.71       428\n",
            "   macro avg       0.86      0.63      0.72       428\n",
            "weighted avg       0.85      0.61      0.70       428\n",
            " samples avg       0.63      0.62      0.62       428\n",
            "\n",
            "              precision    recall  f1-score   support\n",
            "\n",
            "           0       0.85      0.53      0.65        76\n",
            "           1       0.94      0.84      0.88        55\n",
            "           2       0.89      0.82      0.85        66\n",
            "           3       0.90      0.68      0.78        66\n",
            "           4       0.72      0.39      0.50        93\n",
            "           5       0.82      0.43      0.56        75\n",
            "\n",
            "   micro avg       0.85      0.59      0.70       431\n",
            "   macro avg       0.85      0.61      0.70       431\n",
            "weighted avg       0.84      0.59      0.68       431\n",
            " samples avg       0.61      0.60      0.60       431\n",
            "\n",
            "              precision    recall  f1-score   support\n",
            "\n",
            "           0       0.85      0.51      0.64        76\n",
            "           1       0.93      0.76      0.84        55\n",
            "           2       0.94      0.78      0.86        65\n",
            "           3       0.96      0.80      0.87        65\n",
            "           4       0.66      0.32      0.43        92\n",
            "           5       0.87      0.35      0.50        74\n",
            "\n",
            "   micro avg       0.88      0.56      0.68       427\n",
            "   macro avg       0.87      0.59      0.69       427\n",
            "weighted avg       0.85      0.56      0.66       427\n",
            " samples avg       0.59      0.58      0.58       427\n",
            "\n",
            "Resultados para ClassifierChain en la bd scene\n",
            "              precision    recall  f1-score   support\n",
            "\n",
            "           0       0.85      0.53      0.65        76\n",
            "           1       0.96      0.84      0.89        55\n",
            "           2       0.95      0.85      0.90        66\n",
            "           3       0.89      0.72      0.80        65\n",
            "           4       0.71      0.49      0.58        92\n",
            "           5       0.55      0.87      0.67        75\n",
            "\n",
            "   micro avg       0.77      0.70      0.73       429\n",
            "   macro avg       0.82      0.72      0.75       429\n",
            "weighted avg       0.80      0.70      0.73       429\n",
            " samples avg       0.73      0.71      0.72       429\n",
            "\n",
            "              precision    recall  f1-score   support\n",
            "\n",
            "           0       0.86      0.64      0.73        75\n",
            "           1       0.92      0.80      0.85        55\n",
            "           2       0.89      0.83      0.86        65\n",
            "           3       0.88      0.85      0.86        66\n",
            "           4       0.77      0.46      0.58        93\n",
            "           5       0.61      0.76      0.67        75\n",
            "\n",
            "   micro avg       0.80      0.70      0.75       429\n",
            "   macro avg       0.82      0.72      0.76       429\n",
            "weighted avg       0.81      0.70      0.74       429\n",
            " samples avg       0.75      0.73      0.74       429\n",
            "\n",
            "              precision    recall  f1-score   support\n",
            "\n",
            "           0       0.78      0.55      0.65        76\n",
            "           1       0.98      0.73      0.83        55\n",
            "           2       0.88      0.86      0.87        66\n",
            "           3       0.96      0.69      0.80        65\n",
            "           4       0.66      0.49      0.56        92\n",
            "           5       0.51      0.70      0.59        74\n",
            "\n",
            "   micro avg       0.75      0.66      0.70       428\n",
            "   macro avg       0.79      0.67      0.72       428\n",
            "weighted avg       0.77      0.66      0.70       428\n",
            " samples avg       0.69      0.67      0.68       428\n",
            "\n",
            "Resultados para MLTSVM en la bd  scene\n",
            "              precision    recall  f1-score   support\n",
            "\n",
            "           0       0.46      0.34      0.39        76\n",
            "           1       0.86      0.44      0.58        55\n",
            "           2       0.56      0.41      0.47        66\n",
            "           3       0.77      0.41      0.53        66\n",
            "           4       0.49      0.25      0.33        92\n",
            "           5       0.61      0.48      0.54        75\n",
            "\n",
            "   micro avg       0.59      0.38      0.46       430\n",
            "   macro avg       0.62      0.39      0.47       430\n",
            "weighted avg       0.61      0.38      0.46       430\n",
            " samples avg       0.33      0.38      0.34       430\n",
            "\n",
            "              precision    recall  f1-score   support\n",
            "\n",
            "           0       0.59      0.30      0.40        76\n",
            "           1       1.00      0.31      0.47        55\n",
            "           2       0.49      0.44      0.46        66\n",
            "           3       0.72      0.40      0.51        65\n",
            "           4       0.46      0.37      0.41        92\n",
            "           5       0.55      0.31      0.40        74\n",
            "\n",
            "   micro avg       0.57      0.36      0.44       428\n",
            "   macro avg       0.64      0.36      0.44       428\n",
            "weighted avg       0.61      0.36      0.44       428\n",
            " samples avg       0.32      0.36      0.33       428\n",
            "\n",
            "              precision    recall  f1-score   support\n",
            "\n",
            "           0       0.69      0.24      0.36        75\n",
            "           1       0.92      0.64      0.75        55\n",
            "           2       0.46      0.51      0.49        65\n",
            "           3       0.83      0.37      0.51        65\n",
            "           4       0.68      0.23      0.34        93\n",
            "           5       0.43      0.37      0.40        75\n",
            "\n",
            "   micro avg       0.61      0.37      0.46       428\n",
            "   macro avg       0.67      0.39      0.47       428\n",
            "weighted avg       0.66      0.37      0.45       428\n",
            " samples avg       0.33      0.38      0.35       428\n",
            "\n",
            "birds:train - exists, not redownloading\n",
            "birds:test - exists, not redownloading\n",
            "Resultados para BinaryRelevance en la bd  birds\n",
            "              precision    recall  f1-score   support\n",
            "\n",
            "           0       0.00      0.00      0.00         2\n",
            "           1       0.00      0.00      0.00        12\n",
            "           2       0.00      0.00      0.00         7\n",
            "           3       0.00      0.00      0.00         1\n",
            "           4       0.00      0.00      0.00         5\n",
            "           5       0.00      0.00      0.00         2\n",
            "           6       0.00      0.00      0.00         9\n",
            "           7       0.00      0.00      0.00         8\n",
            "           8       0.00      0.00      0.00        11\n",
            "           9       0.00      0.00      0.00         9\n",
            "          10       0.33      0.05      0.08        21\n",
            "          11       0.00      0.00      0.00         4\n",
            "          12       0.00      0.00      0.00         6\n",
            "          13       0.00      0.00      0.00         2\n",
            "          14       0.00      0.00      0.00         7\n",
            "          15       0.00      0.00      0.00         3\n",
            "          16       0.00      0.00      0.00         2\n",
            "          17       0.00      0.00      0.00         2\n",
            "          18       0.00      0.00      0.00         6\n",
            "\n",
            "   micro avg       0.33      0.01      0.02       119\n",
            "   macro avg       0.02      0.00      0.00       119\n",
            "weighted avg       0.06      0.01      0.01       119\n",
            " samples avg       0.01      0.00      0.01       119\n",
            "\n",
            "              precision    recall  f1-score   support\n",
            "\n",
            "           0       0.00      0.00      0.00         2\n",
            "           1       0.00      0.00      0.00        11\n",
            "           2       0.00      0.00      0.00         7\n",
            "           3       0.00      0.00      0.00         2\n",
            "           4       0.00      0.00      0.00         4\n",
            "           5       0.00      0.00      0.00         5\n",
            "           6       0.00      0.00      0.00         8\n",
            "           7       0.00      0.00      0.00         7\n",
            "           8       0.00      0.00      0.00         9\n",
            "           9       0.00      0.00      0.00         8\n",
            "          10       0.00      0.00      0.00        22\n",
            "          11       0.00      0.00      0.00         4\n",
            "          12       0.00      0.00      0.00         6\n",
            "          13       0.00      0.00      0.00         2\n",
            "          14       0.00      0.00      0.00         5\n",
            "          15       0.00      0.00      0.00         2\n",
            "          16       0.00      0.00      0.00         1\n",
            "          17       0.00      0.00      0.00         2\n",
            "          18       0.00      0.00      0.00         5\n",
            "\n",
            "   micro avg       0.00      0.00      0.00       112\n",
            "   macro avg       0.00      0.00      0.00       112\n",
            "weighted avg       0.00      0.00      0.00       112\n",
            " samples avg       0.00      0.00      0.00       112\n",
            "\n",
            "              precision    recall  f1-score   support\n",
            "\n",
            "           0       0.00      0.00      0.00         3\n",
            "           1       0.00      0.00      0.00        12\n",
            "           2       0.00      0.00      0.00         7\n",
            "           3       0.00      0.00      0.00         1\n",
            "           4       0.00      0.00      0.00         4\n",
            "           5       0.00      0.00      0.00         1\n",
            "           6       0.00      0.00      0.00         8\n",
            "           7       0.00      0.00      0.00         7\n",
            "           8       0.00      0.00      0.00         9\n",
            "           9       0.00      0.00      0.00         8\n",
            "          10       0.40      0.10      0.15        21\n",
            "          11       0.00      0.00      0.00         4\n",
            "          12       0.00      0.00      0.00         6\n",
            "          13       0.00      0.00      0.00         2\n",
            "          14       0.00      0.00      0.00         6\n",
            "          15       0.00      0.00      0.00         3\n",
            "          16       0.00      0.00      0.00         1\n",
            "          17       0.00      0.00      0.00         2\n",
            "          18       0.00      0.00      0.00         5\n",
            "\n",
            "   micro avg       0.40      0.02      0.03       110\n",
            "   macro avg       0.02      0.01      0.01       110\n",
            "weighted avg       0.08      0.02      0.03       110\n",
            " samples avg       0.02      0.01      0.01       110\n",
            "\n",
            "Resultados para ClassifierChain en la bd birds\n",
            "              precision    recall  f1-score   support\n",
            "\n",
            "           0       0.00      0.00      0.00         2\n",
            "           1       0.00      0.00      0.00        11\n",
            "           2       0.00      0.00      0.00         7\n",
            "           3       0.00      0.00      0.00         1\n",
            "           4       0.00      0.00      0.00         3\n",
            "           5       0.00      0.00      0.00         2\n",
            "           6       0.00      0.00      0.00         8\n",
            "           7       0.00      0.00      0.00         8\n",
            "           8       0.00      0.00      0.00         9\n",
            "           9       0.00      0.00      0.00         8\n",
            "          10       0.50      0.14      0.21        22\n",
            "          11       0.00      0.00      0.00         4\n",
            "          12       0.00      0.00      0.00         6\n",
            "          13       0.00      0.00      0.00         2\n",
            "          14       0.00      0.00      0.00         5\n",
            "          15       0.00      0.00      0.00         3\n",
            "          16       0.00      0.00      0.00         1\n",
            "          17       0.00      0.00      0.00         2\n",
            "          18       0.00      0.00      0.00         5\n",
            "\n",
            "   micro avg       0.50      0.03      0.05       109\n",
            "   macro avg       0.03      0.01      0.01       109\n",
            "weighted avg       0.10      0.03      0.04       109\n",
            " samples avg       0.03      0.01      0.01       109\n",
            "\n",
            "              precision    recall  f1-score   support\n",
            "\n",
            "           0       0.00      0.00      0.00         3\n",
            "           1       0.00      0.00      0.00        12\n",
            "           2       0.00      0.00      0.00         7\n",
            "           3       0.00      0.00      0.00         1\n",
            "           4       0.00      0.00      0.00         5\n",
            "           5       0.00      0.00      0.00         2\n",
            "           6       0.00      0.00      0.00         9\n",
            "           7       0.00      0.00      0.00         7\n",
            "           8       0.00      0.00      0.00        10\n",
            "           9       0.00      0.00      0.00         9\n",
            "          10       1.00      0.05      0.09        21\n",
            "          11       0.00      0.00      0.00         4\n",
            "          12       0.00      0.00      0.00         6\n",
            "          13       0.00      0.00      0.00         2\n",
            "          14       0.00      0.00      0.00         6\n",
            "          15       0.00      0.00      0.00         3\n",
            "          16       0.00      0.00      0.00         2\n",
            "          17       0.00      0.00      0.00         2\n",
            "          18       0.00      0.00      0.00         6\n",
            "\n",
            "   micro avg       1.00      0.01      0.02       117\n",
            "   macro avg       0.05      0.00      0.00       117\n",
            "weighted avg       0.18      0.01      0.02       117\n",
            " samples avg       0.01      0.00      0.01       117\n",
            "\n",
            "              precision    recall  f1-score   support\n",
            "\n",
            "           0       0.00      0.00      0.00         2\n",
            "           1       0.00      0.00      0.00        12\n",
            "           2       0.00      0.00      0.00         7\n",
            "           3       0.00      0.00      0.00         2\n",
            "           4       0.00      0.00      0.00         5\n",
            "           5       0.00      0.00      0.00         4\n",
            "           6       0.00      0.00      0.00         8\n",
            "           7       0.00      0.00      0.00         7\n",
            "           8       0.00      0.00      0.00        10\n",
            "           9       0.00      0.00      0.00         8\n",
            "          10       0.00      0.00      0.00        21\n",
            "          11       0.00      0.00      0.00         4\n",
            "          12       0.00      0.00      0.00         6\n",
            "          13       0.00      0.00      0.00         2\n",
            "          14       0.00      0.00      0.00         7\n",
            "          15       0.00      0.00      0.00         2\n",
            "          16       0.00      0.00      0.00         1\n",
            "          17       0.00      0.00      0.00         2\n",
            "          18       0.00      0.00      0.00         5\n",
            "\n",
            "   micro avg       0.00      0.00      0.00       115\n",
            "   macro avg       0.00      0.00      0.00       115\n",
            "weighted avg       0.00      0.00      0.00       115\n",
            " samples avg       0.00      0.00      0.00       115\n",
            "\n",
            "Resultados para MLTSVM en la bd  birds\n",
            "              precision    recall  f1-score   support\n",
            "\n",
            "           0       0.05      0.50      0.09         2\n",
            "           1       0.09      0.17      0.11        12\n",
            "           2       0.04      0.14      0.06         7\n",
            "           3       0.03      0.50      0.06         2\n",
            "           4       0.07      0.50      0.12         2\n",
            "           5       0.09      0.67      0.15         3\n",
            "           6       0.14      0.25      0.18         8\n",
            "           7       0.12      0.57      0.21         7\n",
            "           8       0.24      0.70      0.36        10\n",
            "           9       0.08      0.25      0.12         8\n",
            "          10       0.64      0.43      0.51        21\n",
            "          11       0.07      0.25      0.11         4\n",
            "          12       0.12      0.33      0.17         6\n",
            "          13       0.09      0.50      0.15         2\n",
            "          14       0.13      0.33      0.19         6\n",
            "          15       0.08      0.33      0.12         3\n",
            "          16       0.00      0.00      0.00         1\n",
            "          17       0.00      0.00      0.00         2\n",
            "          18       0.29      0.40      0.33         5\n",
            "\n",
            "   micro avg       0.12      0.37      0.18       111\n",
            "   macro avg       0.12      0.36      0.16       111\n",
            "weighted avg       0.22      0.37      0.23       111\n",
            " samples avg       0.08      0.20      0.10       111\n",
            "\n",
            "              precision    recall  f1-score   support\n",
            "\n",
            "           0       0.00      0.00      0.00         3\n",
            "           1       0.25      0.55      0.34        11\n",
            "           2       0.10      0.29      0.15         7\n",
            "           3       0.00      0.00      0.00         1\n",
            "           4       0.06      0.14      0.08         7\n",
            "           5       0.05      0.50      0.08         2\n",
            "           6       0.15      0.44      0.23         9\n",
            "           7       0.12      0.25      0.17         8\n",
            "           8       0.16      0.50      0.24        10\n",
            "           9       0.16      0.67      0.26         9\n",
            "          10       0.44      0.57      0.50        21\n",
            "          11       0.33      0.75      0.46         4\n",
            "          12       0.13      0.67      0.22         6\n",
            "          13       0.11      1.00      0.19         2\n",
            "          14       0.07      0.50      0.13         6\n",
            "          15       0.00      0.00      0.00         2\n",
            "          16       0.00      0.00      0.00         1\n",
            "          17       0.00      0.00      0.00         2\n",
            "          18       0.11      0.33      0.16         6\n",
            "\n",
            "   micro avg       0.13      0.45      0.20       117\n",
            "   macro avg       0.12      0.38      0.17       117\n",
            "weighted avg       0.19      0.45      0.25       117\n",
            " samples avg       0.08      0.25      0.11       117\n",
            "\n",
            "              precision    recall  f1-score   support\n",
            "\n",
            "           0       0.00      0.00      0.00         2\n",
            "           1       0.24      0.42      0.30        12\n",
            "           2       0.15      0.57      0.24         7\n",
            "           3       0.00      0.00      0.00         1\n",
            "           4       0.00      0.00      0.00         4\n",
            "           5       0.03      0.33      0.06         3\n",
            "           6       0.11      0.38      0.17         8\n",
            "           7       0.11      0.29      0.16         7\n",
            "           8       0.17      0.44      0.24         9\n",
            "           9       0.07      0.25      0.11         8\n",
            "          10       0.40      0.27      0.32        22\n",
            "          11       0.17      0.50      0.25         4\n",
            "          12       0.05      0.17      0.08         6\n",
            "          13       0.08      0.50      0.14         2\n",
            "          14       0.17      0.50      0.25         6\n",
            "          15       0.12      0.67      0.21         3\n",
            "          16       0.14      0.50      0.22         2\n",
            "          17       0.14      0.50      0.22         2\n",
            "          18       0.27      0.80      0.40         5\n",
            "\n",
            "   micro avg       0.12      0.37      0.18       113\n",
            "   macro avg       0.13      0.37      0.18       113\n",
            "weighted avg       0.19      0.37      0.22       113\n",
            " samples avg       0.07      0.19      0.09       113\n",
            "\n",
            "emotions:train - exists, not redownloading\n",
            "emotions:test - exists, not redownloading\n",
            "Resultados para BinaryRelevance en la bd  emotions\n",
            "              precision    recall  f1-score   support\n",
            "\n",
            "           0       0.00      0.00      0.00        40\n",
            "           1       0.00      0.00      0.00        35\n",
            "           2       0.00      0.00      0.00        56\n",
            "           3       0.00      0.00      0.00        30\n",
            "           4       0.00      0.00      0.00        32\n",
            "           5       0.00      0.00      0.00        44\n",
            "\n",
            "   micro avg       0.00      0.00      0.00       237\n",
            "   macro avg       0.00      0.00      0.00       237\n",
            "weighted avg       0.00      0.00      0.00       237\n",
            " samples avg       0.00      0.00      0.00       237\n",
            "\n",
            "              precision    recall  f1-score   support\n",
            "\n",
            "           0       0.00      0.00      0.00        39\n",
            "           1       0.00      0.00      0.00        36\n",
            "           2       1.00      0.04      0.07        56\n",
            "           3       0.00      0.00      0.00        29\n",
            "           4       0.00      0.00      0.00        31\n",
            "           5       0.00      0.00      0.00        43\n",
            "\n",
            "   micro avg       1.00      0.01      0.02       234\n",
            "   macro avg       0.17      0.01      0.01       234\n",
            "weighted avg       0.24      0.01      0.02       234\n",
            " samples avg       0.02      0.01      0.01       234\n",
            "\n",
            "              precision    recall  f1-score   support\n",
            "\n",
            "           0       0.00      0.00      0.00        40\n",
            "           1       0.00      0.00      0.00        36\n",
            "           2       0.48      0.20      0.28        56\n",
            "           3       0.00      0.00      0.00        30\n",
            "           4       0.00      0.00      0.00        32\n",
            "           5       0.00      0.00      0.00        44\n",
            "\n",
            "   micro avg       0.48      0.05      0.08       238\n",
            "   macro avg       0.08      0.03      0.05       238\n",
            "weighted avg       0.11      0.05      0.07       238\n",
            " samples avg       0.09      0.04      0.06       238\n",
            "\n",
            "Resultados para ClassifierChain en la bd emotions\n",
            "              precision    recall  f1-score   support\n",
            "\n",
            "           0       0.00      0.00      0.00        40\n",
            "           1       0.00      0.00      0.00        35\n",
            "           2       0.48      0.20      0.28        56\n",
            "           3       0.00      0.00      0.00        30\n",
            "           4       0.00      0.00      0.00        32\n",
            "           5       0.00      0.00      0.00        44\n",
            "\n",
            "   micro avg       0.48      0.05      0.08       237\n",
            "   macro avg       0.08      0.03      0.05       237\n",
            "weighted avg       0.11      0.05      0.07       237\n",
            " samples avg       0.08      0.05      0.06       237\n",
            "\n",
            "              precision    recall  f1-score   support\n",
            "\n",
            "           0       0.00      0.00      0.00        39\n",
            "           1       0.00      0.00      0.00        36\n",
            "           2       0.00      0.00      0.00        56\n",
            "           3       0.00      0.00      0.00        29\n",
            "           4       0.00      0.00      0.00        31\n",
            "           5       0.00      0.00      0.00        43\n",
            "\n",
            "   micro avg       0.00      0.00      0.00       234\n",
            "   macro avg       0.00      0.00      0.00       234\n",
            "weighted avg       0.00      0.00      0.00       234\n",
            " samples avg       0.00      0.00      0.00       234\n",
            "\n",
            "              precision    recall  f1-score   support\n",
            "\n",
            "           0       0.00      0.00      0.00        40\n",
            "           1       0.00      0.00      0.00        36\n",
            "           2       0.56      0.27      0.36        56\n",
            "           3       0.00      0.00      0.00        30\n",
            "           4       0.00      0.00      0.00        32\n",
            "           5       0.00      0.00      0.00        44\n",
            "\n",
            "   micro avg       0.56      0.06      0.11       238\n",
            "   macro avg       0.09      0.04      0.06       238\n",
            "weighted avg       0.13      0.06      0.09       238\n",
            " samples avg       0.12      0.05      0.07       238\n",
            "\n",
            "Resultados para MLTSVM en la bd  emotions\n",
            "              precision    recall  f1-score   support\n",
            "\n",
            "           0       0.85      0.28      0.42        40\n",
            "           1       0.44      0.20      0.27        35\n",
            "           2       0.75      0.32      0.45        56\n",
            "           3       0.74      0.47      0.57        30\n",
            "           4       0.56      0.29      0.38        31\n",
            "           5       0.70      0.16      0.26        44\n",
            "\n",
            "   micro avg       0.67      0.28      0.40       236\n",
            "   macro avg       0.67      0.29      0.39       236\n",
            "weighted avg       0.68      0.28      0.39       236\n",
            " samples avg       0.32      0.26      0.27       236\n",
            "\n",
            "              precision    recall  f1-score   support\n",
            "\n",
            "           0       0.62      0.21      0.31        39\n",
            "           1       0.47      0.25      0.33        36\n",
            "           2       0.82      0.25      0.38        56\n",
            "           3       0.74      0.57      0.64        30\n",
            "           4       0.31      0.13      0.18        31\n",
            "           5       0.94      0.37      0.53        43\n",
            "\n",
            "   micro avg       0.67      0.29      0.40       235\n",
            "   macro avg       0.65      0.30      0.40       235\n",
            "weighted avg       0.68      0.29      0.40       235\n",
            " samples avg       0.36      0.29      0.30       235\n",
            "\n",
            "              precision    recall  f1-score   support\n",
            "\n",
            "           0       0.69      0.50      0.58        40\n",
            "           1       0.46      0.17      0.24        36\n",
            "           2       0.76      0.45      0.56        56\n",
            "           3       0.79      0.52      0.62        29\n",
            "           4       0.41      0.21      0.28        33\n",
            "           5       0.79      0.43      0.56        44\n",
            "\n",
            "   micro avg       0.68      0.39      0.49       238\n",
            "   macro avg       0.65      0.38      0.48       238\n",
            "weighted avg       0.66      0.39      0.48       238\n",
            " samples avg       0.45      0.38      0.39       238\n",
            "\n"
          ]
        }
      ]
    },
    {
      "cell_type": "markdown",
      "source": [
        "#**Apartado 9**"
      ],
      "metadata": {
        "id": "6Eommr_11S_F"
      }
    },
    {
      "cell_type": "markdown",
      "source": [
        "*   ¿Qué método(s) parece(n) comportarse mejor globalmente? Entre otros aspectos, analiza el efecto que tiene en el rendimiento de los métodos de transformación la elección que hagamos del clasificador base.\n",
        "\n",
        "> Respecto a los métodos que se han comprobado en los apartados anteriores, podemos destacar que los que se suelen comportar mejor globalmente son los ML transformación, en concreto quizás un poco más ClassifierChain, aunque lógicamente dependerá del dataset que se este utilizando.\n",
        "Lógicamente, la elección que hagamos del clasificador tendrá relevancia sobre cualquiera de los métodos de transformación, ya que si dividieramos el problema como si de una sola etiqueta se tratasé, el rendimiento incidirá en dicho clasificador. Por lo tanto si un dataset se divide en diferentes dataset con una sola etiqueta, aquel clasificador que funcione mejor para dicho dataset, mejorar el resultado del mejor clasificador. Dependiendo del dataset, será mejor usar SVM, árboles de decisión o knn, entre otros.\n",
        "\n",
        "\n",
        "*   ¿Cuál es el tiempo de ejecución de cada método? ¿Existen diferencias  destacables?\n",
        "\n",
        "> Si comparamos los tiempos entre ML de transformación y ML de adaptación, llegamos a la conclusión que dependerá del dataset. De tal forma que, si por ejemplo un dataset tiene pocas labels como puede ser 6, los clasificadores de transformación serán más rápidos que los de adaptación, si es el caso contrario y tenemos un dataset con 120 etiquetas, los clasificadores de transformación serán muy lentos, ya que para cada etiqueta se esta generando un clasificador propio. Por lo tanto, los tiempos dependerán principalmente del dataset que se utilice y de la estructura del mismo.\n",
        "\n",
        "*   ¿Observas diferencias reseñables en cuanto a los valores de cada métrica?\n",
        "\n",
        "> Si descartamos los valores dados por los dataset que tienen pocas instancias, y por tanto no se realizan de forma precisa los split generando resultados muy imprecisos. Podemos observar que los valores de precision, recall y f1-score nos dan información relevante sobre cada dataset con su respectivo clasificador.\n",
        "De tal forma que, \n",
        "\n",
        "*   Analiza si observas alguna relación entre los resultados obtenidos para las métricas de evaluación y las características propias del conjunto ML: número de instancias, número de etiquetas, densidad, cardinalidad...? Etc. Escribe un breve informe sobre si los estadísticos calculados en el entregable1 dan información del rendimiento que estás observando. ¿Se pueden extraer conclusiones al respecto? Puedes buscar información en referencias bibliográficas previas.\n",
        "\n",
        "> Si nos fijamos en los estadisticos obtenidos, los cuales son, el número de instancias, número de atributos, número de etiquetas, cardinalidad, densidad, diversidad y el avgIr (se obvia el rDep ya que no se pudo obtener), para cada dataset obtenido y lo comparamos con los resultados obtenidos, podemos extraer la siguiente información, antes de ello, se muestran los estadisticos de los dataset usados para los distintos clasificadores multietiqueta (BinaryRelevance, ClassifierChain y MLTSVM) para recordarlos:\n",
        "\n",
        ">**birds**: <br>\n",
        "number of instances -> 322<br>\n",
        "number of attributes -> 260<br>\n",
        "number of labels -> 19<br>\n",
        "cardinality -> 1.059<br>\n",
        "density -> 0.055<br>\n",
        "diversity -> 0.0001<br>\n",
        "avgIR -> 0.011<br>\n",
        "\n",
        ">**emotions**:<br>\n",
        "number of instances -> 391<br>\n",
        "number of attributes -> 72<br>\n",
        "number of labels -> 6<br>\n",
        "cardinality -> 1.813<br>\n",
        "density -> 0.302<br>\n",
        "diversity -> 0.406<br>\n",
        "avgIR -> 0.038<br>\n",
        "\n",
        ">**yeast**:<br>\n",
        "number of instances -> 1500<br>\n",
        "number of attributes -> 103<br>\n",
        "number of labels -> 14<br>\n",
        "cardinality -> 4.228<br>\n",
        "density -> 0.302<br>\n",
        "diversity -> 0.0100<br>\n",
        "avgIR -> 0.006<br>\n",
        "\n",
        ">**tmc2007_500**:<br>\n",
        "number of instances -> 21519<br>\n",
        "number of attributes -> 500<br>\n",
        "number of labels -> 22<br>\n",
        "cardinality -> 2.225<br>\n",
        "density -> 0.101<br>\n",
        "diversity -> 0.0002<br>\n",
        "avgIR -> 0.0008<br>\n",
        "\n",
        ">**scene**:<br>\n",
        "number of instances -> 1211<br>\n",
        "number of attributes -> 294<br>\n",
        "number of labels -> 6<br>\n",
        "cardinality -> 1.061<br>\n",
        "density -> 0.176<br>\n",
        "diversity -> 0.218<br>\n",
        "avgIR -> 0.071<br>\n",
        "\n",
        "> Cabe destacar que los se usaron diferentes tipo de clasificadores, siendo de transformación como BinaryRelevance y ClassifierChain, o adaptación como MLTSVM. Para todos ellos se aplica un k-fold de tres.\n",
        "\n",
        "La información que se ha podido obtener tras realizar este experimento es la siguiente:\n",
        "\n",
        "\n",
        "> - En general, a mayor cantidad de instancias y atributos, el tiempo de computo aumenta en mayor medida, siendo el dataset tmc2007_500, el que mayor tiempo de computo demoró para los tres clasificadores.\n",
        "\n",
        "\n",
        "> - Aquellos dataset con un número de etiquetas mayor(birds y tmc2007_500)aumentan su tiempo de cómputo para los clasificadores de tranformación ya que en el caso de BinaryRelevance, se utiliza en este caso SVC y para cada par de etiquetas se esta generando un clasificador, por tanto mientras mayor sea el número de etiquetas mayor será el tiempo de computo,frente a algoritmos adaptados para este tipo de problemas multietiqueta.\n",
        "\n",
        "> - Aquellos dataset con un avgIR mayor como scene y emotions, presentan un invalanceo de etiquetas, y por tanto, si nos fijamos en el accuracy de estos los valores suelen ser bastante dispares entre sí. Este se debe a que a la hora de entrenar, no todas las etiquetas tienen cantidades de instancias similares para entrenar.\n",
        "\n",
        "> - Los dataset de birds y emotions, dan mejores resultados con MLTSVM que con los clasificadores de transformación, es probable que se deba al dataset en sí y no a los estadísticos.\n",
        "\n",
        "> - Respecto a cual da mejores resultados, este es el dataset yeast, ya que es el dataset con mayor número de instancias y por tanto, la cardinalidad de dicho dataset es muy alta. Esto influye a que a la hora de entrenar cada instancia tiene como media unas cuatro etiquetas, permitiendo así que algoritmos de adaptación puedan aprender las relaciones entre etiquetas. Aun así, también funciona bien para los algoritmos de transformación por la gran cantidad de instancias.\n",
        "\n",
        "\n"
      ],
      "metadata": {
        "id": "eIWZNNDm1boI"
      }
    }
  ]
}