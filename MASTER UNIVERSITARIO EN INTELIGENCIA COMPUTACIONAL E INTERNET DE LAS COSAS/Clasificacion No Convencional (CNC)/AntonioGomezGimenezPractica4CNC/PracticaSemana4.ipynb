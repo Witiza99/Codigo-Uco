{
  "cells": [
    {
      "cell_type": "code",
      "execution_count": null,
      "metadata": {
        "id": "Km7py4JhCyxz"
      },
      "outputs": [],
      "source": [
        "#código para comprobar distintos dataset con modelos semi-supervisados"
      ]
    },
    {
      "cell_type": "code",
      "execution_count": null,
      "metadata": {
        "id": "BGuQsqDKDGdU"
      },
      "outputs": [],
      "source": [
        "import numpy as np\n",
        "from sklearn import datasets\n",
        "from sklearn.semi_supervised import SelfTrainingClassifier\n",
        "from sklearn.svm import SVC\n",
        "from sklearn.model_selection import train_test_split\n",
        "from sklearn.metrics import confusion_matrix, accuracy_score"
      ]
    },
    {
      "cell_type": "code",
      "execution_count": null,
      "metadata": {
        "id": "7Xscc_agDZsd"
      },
      "outputs": [],
      "source": [
        "#carga del dataset iris"
      ]
    },
    {
      "cell_type": "code",
      "execution_count": null,
      "metadata": {
        "id": "9PJ2l5-lDYcf"
      },
      "outputs": [],
      "source": [
        "iris = datasets.load_iris()\n",
        "X = iris.data\n",
        "y = iris.target"
      ]
    },
    {
      "cell_type": "code",
      "execution_count": null,
      "metadata": {
        "id": "PTK_S5m_Dfw_"
      },
      "outputs": [],
      "source": [
        "#lista con los % de etiquetas a eliminar"
      ]
    },
    {
      "cell_type": "code",
      "execution_count": null,
      "metadata": {
        "id": "wru-8DEXEUlH"
      },
      "outputs": [],
      "source": [
        "listaPorcentajes = [0.1,0.3,0.6,0.9]"
      ]
    },
    {
      "cell_type": "code",
      "execution_count": null,
      "metadata": {
        "id": "Mi3qcfxpEoGb"
      },
      "outputs": [],
      "source": [
        "#código para eliminar parte de los datos y comprobar los resultados de los mismos"
      ]
    },
    {
      "cell_type": "code",
      "execution_count": null,
      "metadata": {
        "colab": {
          "base_uri": "https://localhost:8080/"
        },
        "id": "kfHKQkhVElx9",
        "outputId": "87d5b50d-362b-4277-9eba-939fb75e136a"
      },
      "outputs": [
        {
          "name": "stdout",
          "output_type": "stream",
          "text": [
            "number of instances -> 100\n",
            "number of attributes -> 4\n",
            "\n",
            "\n",
            "Matriz de confusión para 0.1 aplicando semi-supervisado\n",
            "[[19  0  0]\n",
            " [ 0 15  0]\n",
            " [ 0  0 16]]\n",
            "Accuracy score -> 1.0\n",
            "\n",
            "\n",
            "Matriz de confusión para 0.1 eliminando los datos sin etiqueta\n",
            "[[19  0  0]\n",
            " [ 0 15  0]\n",
            " [ 0  0 16]]\n",
            "Accuracy score -> 1.0\n",
            "\n",
            "\n",
            "number of instances -> 100\n",
            "number of attributes -> 4\n",
            "\n",
            "\n",
            "Matriz de confusión para 0.3 aplicando semi-supervisado\n",
            "[[19  0  0]\n",
            " [ 0 15  0]\n",
            " [ 0  0 16]]\n",
            "Accuracy score -> 1.0\n",
            "\n",
            "\n",
            "Matriz de confusión para 0.3 eliminando los datos sin etiqueta\n",
            "[[19  0  0]\n",
            " [ 0 15  0]\n",
            " [ 0  0 16]]\n",
            "Accuracy score -> 1.0\n",
            "\n",
            "\n",
            "number of instances -> 100\n",
            "number of attributes -> 4\n",
            "\n",
            "\n",
            "Matriz de confusión para 0.6 aplicando semi-supervisado\n",
            "[[19  0  0]\n",
            " [ 0 15  0]\n",
            " [ 0  1 15]]\n",
            "Accuracy score -> 0.98\n",
            "\n",
            "\n",
            "Matriz de confusión para 0.6 eliminando los datos sin etiqueta\n",
            "[[19  0  0]\n",
            " [ 0 15  0]\n",
            " [ 0  1 15]]\n",
            "Accuracy score -> 0.98\n",
            "\n",
            "\n",
            "number of instances -> 100\n",
            "number of attributes -> 4\n",
            "\n",
            "\n",
            "Matriz de confusión para 0.9 aplicando semi-supervisado\n",
            "[[19  0  0]\n",
            " [ 0 15  0]\n",
            " [ 0  7  9]]\n",
            "Accuracy score -> 0.86\n",
            "\n",
            "\n",
            "Matriz de confusión para 0.9 eliminando los datos sin etiqueta\n",
            "[[19  0  0]\n",
            " [ 0 15  0]\n",
            " [ 0  7  9]]\n",
            "Accuracy score -> 0.86\n",
            "\n",
            "\n"
          ]
        }
      ],
      "source": [
        "for i in listaPorcentajes:\n",
        "  X_train, X_test, y_train, y_test = train_test_split(X, y, test_size=0.33, random_state=42)#cargo el dataset en las variables\n",
        "  print((\"number of instances -> \" + str(X_train.shape[0])))#instancias\n",
        "  print((\"number of attributes -> \" + str(X_train.shape[1])))#atributos\n",
        "  print(\"\\n\")\n",
        "\n",
        "  #código para eliminar % de datos\n",
        "  rng = np.random.RandomState(42)\n",
        "  random_unlabeled_points = rng.rand(y_train.shape[0]) < i\n",
        "  y_train[random_unlabeled_points] = -1\n",
        "  y_train_sin_patrones = list(filter(lambda x: x != -1,y_train))\n",
        "  x_train_sin_patrones = []\n",
        "  for w in range(len(X_train)):\n",
        "    if not random_unlabeled_points[w]:\n",
        "      x_train_sin_patrones.append(X_train[w])\n",
        "  #modelo de autoentrenamiento\n",
        "#-----------------------------------------------------\n",
        "  svc = SVC(probability=True, gamma=\"auto\")\n",
        "  self_training_model = SelfTrainingClassifier(svc)\n",
        "  self_training_model.fit(X_train, y_train)\n",
        "  #resultados obtenidos de dicho modelo\n",
        "  pred = self_training_model.predict(X_test)\n",
        "  cm = confusion_matrix(y_test,pred)\n",
        "  print(\"Matriz de confusión para\", i, \"aplicando semi-supervisado\")\n",
        "  print(cm)\n",
        "  print(\"Accuracy score ->\", accuracy_score(y_test, pred))\n",
        "  print(\"\\n\")\n",
        "#-----------------------------------------------------\n",
        "  svc = SVC(probability=True, gamma=\"auto\")\n",
        "  svc.fit(x_train_sin_patrones, y_train_sin_patrones)\n",
        "  #resultados obtenidos de dicho modelo\n",
        "  pred = self_training_model.predict(X_test)\n",
        "  cm = confusion_matrix(y_test,pred)\n",
        "  print(\"Matriz de confusión para\", i, \"eliminando los datos sin etiqueta\")\n",
        "  print(cm)\n",
        "  print(\"Accuracy score ->\", accuracy_score(y_test, pred))\n",
        "  print(\"\\n\")"
      ]
    },
    {
      "cell_type": "code",
      "execution_count": null,
      "metadata": {
        "id": "5Ne5yM9ZGfRT"
      },
      "outputs": [],
      "source": [
        "#se realiza la misma prueba para el dataset winw"
      ]
    },
    {
      "cell_type": "code",
      "execution_count": null,
      "metadata": {
        "id": "Wcd1qzPlaNeE"
      },
      "outputs": [],
      "source": [
        "wine = datasets.load_wine()\n",
        "X = wine.data\n",
        "y = wine.target"
      ]
    },
    {
      "cell_type": "code",
      "execution_count": null,
      "metadata": {
        "id": "mOUVmThpGza_"
      },
      "outputs": [],
      "source": [
        "#lista con los % de etiquetas a eliminar"
      ]
    },
    {
      "cell_type": "code",
      "execution_count": null,
      "metadata": {
        "id": "uvIh3U_uGzbC"
      },
      "outputs": [],
      "source": [
        "listaPorcentajes = [0.1,0.3,0.6,0.9]"
      ]
    },
    {
      "cell_type": "code",
      "execution_count": null,
      "metadata": {
        "id": "qoHVGrnEGzbE"
      },
      "outputs": [],
      "source": [
        "#código para eliminar parte de los datos y comprobar los resultados de los mismos"
      ]
    },
    {
      "cell_type": "code",
      "execution_count": null,
      "metadata": {
        "colab": {
          "base_uri": "https://localhost:8080/"
        },
        "id": "14NqcIrIGzbG",
        "outputId": "37fee91c-0d08-4987-d978-951817d33538"
      },
      "outputs": [
        {
          "name": "stdout",
          "output_type": "stream",
          "text": [
            "number of instances -> 119\n",
            "number of attributes -> 13\n",
            "\n",
            "\n",
            "Matriz de confusión para 0.1 aplicando semi-supervisado\n",
            "[[ 1 19  0]\n",
            " [ 0 24  0]\n",
            " [ 0 15  0]]\n",
            "Accuracy score -> 0.423728813559322\n",
            "\n",
            "\n",
            "Matriz de confusión para 0.1 eliminando los datos sin etiqueta\n",
            "[[ 1 19  0]\n",
            " [ 0 24  0]\n",
            " [ 0 15  0]]\n",
            "Accuracy score -> 0.423728813559322\n",
            "\n",
            "\n",
            "number of instances -> 119\n",
            "number of attributes -> 13\n",
            "\n",
            "\n",
            "Matriz de confusión para 0.3 aplicando semi-supervisado\n",
            "[[ 1 19  0]\n",
            " [ 0 24  0]\n",
            " [ 0 15  0]]\n",
            "Accuracy score -> 0.423728813559322\n",
            "\n",
            "\n",
            "Matriz de confusión para 0.3 eliminando los datos sin etiqueta\n",
            "[[ 1 19  0]\n",
            " [ 0 24  0]\n",
            " [ 0 15  0]]\n",
            "Accuracy score -> 0.423728813559322\n",
            "\n",
            "\n",
            "number of instances -> 119\n",
            "number of attributes -> 13\n",
            "\n",
            "\n",
            "Matriz de confusión para 0.6 aplicando semi-supervisado\n",
            "[[ 1 19  0]\n",
            " [ 0 24  0]\n",
            " [ 0 15  0]]\n",
            "Accuracy score -> 0.423728813559322\n",
            "\n",
            "\n",
            "Matriz de confusión para 0.6 eliminando los datos sin etiqueta\n",
            "[[ 1 19  0]\n",
            " [ 0 24  0]\n",
            " [ 0 15  0]]\n",
            "Accuracy score -> 0.423728813559322\n",
            "\n",
            "\n",
            "number of instances -> 119\n",
            "number of attributes -> 13\n",
            "\n",
            "\n",
            "Matriz de confusión para 0.9 aplicando semi-supervisado\n",
            "[[ 0 20  0]\n",
            " [ 0 24  0]\n",
            " [ 0 15  0]]\n",
            "Accuracy score -> 0.4067796610169492\n",
            "\n",
            "\n",
            "Matriz de confusión para 0.9 eliminando los datos sin etiqueta\n",
            "[[ 0 20  0]\n",
            " [ 0 24  0]\n",
            " [ 0 15  0]]\n",
            "Accuracy score -> 0.4067796610169492\n",
            "\n",
            "\n"
          ]
        }
      ],
      "source": [
        "for i in listaPorcentajes:\n",
        "  X_train, X_test, y_train, y_test = train_test_split(X, y, test_size=0.33, random_state=42)#cargo el dataset en las variables\n",
        "  print((\"number of instances -> \" + str(X_train.shape[0])))#instancias\n",
        "  print((\"number of attributes -> \" + str(X_train.shape[1])))#atributos\n",
        "  print(\"\\n\")\n",
        "\n",
        "  #código para eliminar % de datos\n",
        "  rng = np.random.RandomState(42)\n",
        "  random_unlabeled_points = rng.rand(y_train.shape[0]) < i\n",
        "  y_train[random_unlabeled_points] = -1\n",
        "  y_train_sin_patrones = list(filter(lambda x: x != -1,y_train))\n",
        "  x_train_sin_patrones = []\n",
        "  for w in range(len(X_train)):\n",
        "    if not random_unlabeled_points[w]:\n",
        "      x_train_sin_patrones.append(X_train[w])\n",
        "  #modelo de autoentrenamiento\n",
        "#-----------------------------------------------------\n",
        "  svc = SVC(probability=True, gamma=\"auto\")\n",
        "  self_training_model = SelfTrainingClassifier(svc)\n",
        "  self_training_model.fit(X_train, y_train)\n",
        "  #resultados obtenidos de dicho modelo\n",
        "  pred = self_training_model.predict(X_test)\n",
        "  cm = confusion_matrix(y_test,pred)\n",
        "  print(\"Matriz de confusión para\", i, \"aplicando semi-supervisado\")\n",
        "  print(cm)\n",
        "  print(\"Accuracy score ->\", accuracy_score(y_test, pred))\n",
        "  print(\"\\n\")\n",
        "#-----------------------------------------------------\n",
        "  svc = SVC(probability=True, gamma=\"auto\")\n",
        "  svc.fit(x_train_sin_patrones, y_train_sin_patrones)\n",
        "  #resultados obtenidos de dicho modelo\n",
        "  pred = self_training_model.predict(X_test)\n",
        "  cm = confusion_matrix(y_test,pred)\n",
        "  print(\"Matriz de confusión para\", i, \"eliminando los datos sin etiqueta\")\n",
        "  print(cm)\n",
        "  print(\"Accuracy score ->\", accuracy_score(y_test, pred))\n",
        "  print(\"\\n\")"
      ]
    },
    {
      "cell_type": "code",
      "execution_count": null,
      "metadata": {
        "id": "XnwIbYOOIDUG"
      },
      "outputs": [],
      "source": [
        "#se realiza la misma prueba para un dataset moons"
      ]
    },
    {
      "cell_type": "code",
      "execution_count": null,
      "metadata": {
        "id": "8g17bbmdIDUK"
      },
      "outputs": [],
      "source": [
        "from sklearn.datasets import make_moons\n",
        "X, y = make_moons(n_samples=20000, noise=0.5, random_state=42)"
      ]
    },
    {
      "cell_type": "code",
      "execution_count": null,
      "metadata": {
        "id": "hC_kQsKFIDUP"
      },
      "outputs": [],
      "source": [
        "#lista con los % de etiquetas a eliminar"
      ]
    },
    {
      "cell_type": "code",
      "execution_count": null,
      "metadata": {
        "id": "WU4-sK-nIDUS"
      },
      "outputs": [],
      "source": [
        "listaPorcentajes = [0.1,0.3,0.6,0.9]"
      ]
    },
    {
      "cell_type": "code",
      "execution_count": null,
      "metadata": {
        "id": "xDd1hfovIDUV"
      },
      "outputs": [],
      "source": [
        "#código para eliminar parte de los datos y comprobar los resultados de los mismos"
      ]
    },
    {
      "cell_type": "code",
      "execution_count": null,
      "metadata": {
        "colab": {
          "background_save": true,
          "base_uri": "https://localhost:8080/"
        },
        "id": "H-FTIgQQIDUX",
        "outputId": "4e83b86b-b019-4e94-e371-4b40161e12c1"
      },
      "outputs": [
        {
          "name": "stdout",
          "output_type": "stream",
          "text": [
            "number of instances -> 13400\n",
            "number of attributes -> 2\n",
            "\n",
            "\n",
            "Matriz de confusión para 0.1 aplicando semi-supervisado\n",
            "[[2774  597]\n",
            " [ 548 2681]]\n",
            "Accuracy score -> 0.8265151515151515\n",
            "\n",
            "\n",
            "Matriz de confusión para 0.1 eliminando los datos sin etiqueta\n",
            "[[2774  597]\n",
            " [ 548 2681]]\n",
            "Accuracy score -> 0.8265151515151515\n",
            "\n",
            "\n",
            "number of instances -> 13400\n",
            "number of attributes -> 2\n",
            "\n",
            "\n",
            "Matriz de confusión para 0.3 aplicando semi-supervisado\n",
            "[[2776  595]\n",
            " [ 549 2680]]\n",
            "Accuracy score -> 0.8266666666666667\n",
            "\n",
            "\n",
            "Matriz de confusión para 0.3 eliminando los datos sin etiqueta\n",
            "[[2776  595]\n",
            " [ 549 2680]]\n",
            "Accuracy score -> 0.8266666666666667\n",
            "\n",
            "\n",
            "number of instances -> 13400\n",
            "number of attributes -> 2\n",
            "\n",
            "\n",
            "Matriz de confusión para 0.6 aplicando semi-supervisado\n",
            "[[2798  573]\n",
            " [ 577 2652]]\n",
            "Accuracy score -> 0.8257575757575758\n",
            "\n",
            "\n",
            "Matriz de confusión para 0.6 eliminando los datos sin etiqueta\n",
            "[[2798  573]\n",
            " [ 577 2652]]\n",
            "Accuracy score -> 0.8257575757575758\n",
            "\n",
            "\n",
            "number of instances -> 13400\n",
            "number of attributes -> 2\n",
            "\n",
            "\n",
            "Matriz de confusión para 0.9 aplicando semi-supervisado\n",
            "[[2866  505]\n",
            " [ 623 2606]]\n",
            "Accuracy score -> 0.8290909090909091\n",
            "\n",
            "\n",
            "Matriz de confusión para 0.9 eliminando los datos sin etiqueta\n",
            "[[2866  505]\n",
            " [ 623 2606]]\n",
            "Accuracy score -> 0.8290909090909091\n",
            "\n",
            "\n"
          ]
        }
      ],
      "source": [
        "for i in listaPorcentajes:\n",
        "  X_train, X_test, y_train, y_test = train_test_split(X, y, test_size=0.33, random_state=42)#cargo el dataset en las variables\n",
        "  print((\"number of instances -> \" + str(X_train.shape[0])))#instancias\n",
        "  print((\"number of attributes -> \" + str(X_train.shape[1])))#atributos\n",
        "  print(\"\\n\")\n",
        "\n",
        "  #código para eliminar % de datos\n",
        "  rng = np.random.RandomState(42)\n",
        "  random_unlabeled_points = rng.rand(y_train.shape[0]) < i\n",
        "  y_train[random_unlabeled_points] = -1\n",
        "  y_train_sin_patrones = list(filter(lambda x: x != -1,y_train))\n",
        "  x_train_sin_patrones = []\n",
        "  for w in range(len(X_train)):\n",
        "    if not random_unlabeled_points[w]:\n",
        "      x_train_sin_patrones.append(X_train[w])\n",
        "  #modelo de autoentrenamiento\n",
        "#-----------------------------------------------------\n",
        "  svc = SVC(probability=True, gamma=\"auto\")\n",
        "  self_training_model = SelfTrainingClassifier(svc)\n",
        "  self_training_model.fit(X_train, y_train)\n",
        "  #resultados obtenidos de dicho modelo\n",
        "  pred = self_training_model.predict(X_test)\n",
        "  cm = confusion_matrix(y_test,pred)\n",
        "  print(\"Matriz de confusión para\", i, \"aplicando semi-supervisado\")\n",
        "  print(cm)\n",
        "  print(\"Accuracy score ->\", accuracy_score(y_test, pred))\n",
        "  print(\"\\n\")\n",
        "#-----------------------------------------------------\n",
        "  svc = SVC(probability=True, gamma=\"auto\")\n",
        "  svc.fit(x_train_sin_patrones, y_train_sin_patrones)\n",
        "  #resultados obtenidos de dicho modelo\n",
        "  pred = self_training_model.predict(X_test)\n",
        "  cm = confusion_matrix(y_test,pred)\n",
        "  print(\"Matriz de confusión para\", i, \"eliminando los datos sin etiqueta\")\n",
        "  print(cm)\n",
        "  print(\"Accuracy score ->\", accuracy_score(y_test, pred))\n",
        "  print(\"\\n\")"
      ]
    }
  ],
  "metadata": {
    "colab": {
      "provenance": []
    },
    "kernelspec": {
      "display_name": "Python 3",
      "name": "python3"
    },
    "language_info": {
      "name": "python"
    }
  },
  "nbformat": 4,
  "nbformat_minor": 0
}