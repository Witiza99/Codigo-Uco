{
  "nbformat": 4,
  "nbformat_minor": 0,
  "metadata": {
    "colab": {
      "provenance": []
    },
    "kernelspec": {
      "name": "python3",
      "display_name": "Python 3"
    },
    "language_info": {
      "name": "python"
    }
  },
  "cells": [
    {
      "cell_type": "markdown",
      "source": [
        "# **Ejercicio 1**\n",
        "Contenido del dataset: Candidatos a púlsar obtenidos mediante la exploración HTRU. Los púlsares son un tipo de estrella, de considerable interés científico. Los candidatos deben estar clasificados en clases pulsar y no pulsar para facilitar el descubrimiento.\n",
        "El ejercicio consiste obtener un modelo de clasificación para clasificar en pulsar (clase positiva) y no pulsar (clase negativa).\n",
        "El dataset está en formato csv, contiene 8 atributos y la clase. No aparecen los nombres de los atributos en la primera línea del dataset. En el código suministrado se resuelve este problema.\n",
        "\n",
        "*   URL: https://archive.ics.uci.edu/ml/datasets/HTRU2\n",
        "*   URL Dataset: https://archive.ics.uci.edu/ml/machine-learning-databases/00372/HTRU2.zip\n",
        "\n",
        "**Tomando como base el ejemplo1 de los suministrados en clase**, implementar un clasificador basado en el descenso de gradiente estocástico (SGDClassifier), que contenga los siguientes apartados:\n",
        "*   Uso de StandardScaler en el preprocesamiento.\n",
        "*   Uso de train_test_split para obtener conjunto de entrenamiento y test. Usar opción stratify ya que las clases están desbalanceadas,\n",
        "*   Uso de make_pipeline para crear un \"pipe\", que contenga el preprocesamiento y el clasificador.\n",
        "*   Obtener matriz de confusión en texto y gráfica. Así como el accuracy, precisión, recall y f1.\n",
        "*   Obtener curva ROC y su área.\n",
        "*   Obtener curva presición recall.\n",
        "*   Escribir al final una celda de texto resumiendo los pasos que se han dado y los resultados obtenidos.\n",
        "Utilizando el mismo dataset implementar clasificadores basados en Regresión Logística, SVM lineal y K vecinos más cercanos. Realizando \n",
        "\n",
        "Toda la parte del descarga y preparación del dataset se suministra en este archivo."
      ],
      "metadata": {
        "id": "iaQR4UDccKhY"
      }
    },
    {
      "cell_type": "code",
      "source": [
        "import pandas as pd"
      ],
      "metadata": {
        "id": "rpppOFhtcFYv"
      },
      "execution_count": 2,
      "outputs": []
    },
    {
      "cell_type": "code",
      "source": [
        "#https://archive.ics.uci.edu/ml/datasets/HTRU2   este es bueno para usar en la práctica  https://archive.ics.uci.edu/ml/machine-learning-databases/00372/"
      ],
      "metadata": {
        "id": "SCallS-kSs8U"
      },
      "execution_count": 3,
      "outputs": []
    },
    {
      "cell_type": "code",
      "source": [
        "%%bash\n",
        "wget https://archive.ics.uci.edu/ml/machine-learning-databases/00372/HTRU2.zip\n",
        "unzip HTRU2.zip"
      ],
      "metadata": {
        "colab": {
          "base_uri": "https://localhost:8080/"
        },
        "id": "auaKa7x3TEPi",
        "outputId": "90850c62-cb09-4942-a14f-7542dfec3af6"
      },
      "execution_count": 4,
      "outputs": [
        {
          "output_type": "stream",
          "name": "stdout",
          "text": [
            "Archive:  HTRU2.zip\n",
            "  inflating: HTRU_2.csv              \n",
            "  inflating: HTRU_2.arff             \n",
            "  inflating: Readme.txt              \n"
          ]
        },
        {
          "output_type": "stream",
          "name": "stderr",
          "text": [
            "--2022-12-24 10:54:50--  https://archive.ics.uci.edu/ml/machine-learning-databases/00372/HTRU2.zip\n",
            "Resolving archive.ics.uci.edu (archive.ics.uci.edu)... 128.195.10.252\n",
            "Connecting to archive.ics.uci.edu (archive.ics.uci.edu)|128.195.10.252|:443... connected.\n",
            "HTTP request sent, awaiting response... 200 OK\n",
            "Length: 1563015 (1.5M) [application/x-httpd-php]\n",
            "Saving to: ‘HTRU2.zip’\n",
            "\n",
            "     0K .......... .......... .......... .......... ..........  3%  515K 3s\n",
            "    50K .......... .......... .......... .......... ..........  6% 1.01M 2s\n",
            "   100K .......... .......... .......... .......... ..........  9% 61.1M 1s\n",
            "   150K .......... .......... .......... .......... .......... 13% 1.05M 1s\n",
            "   200K .......... .......... .......... .......... .......... 16% 41.7M 1s\n",
            "   250K .......... .......... .......... .......... .......... 19% 49.0M 1s\n",
            "   300K .......... .......... .......... .......... .......... 22% 56.8M 1s\n",
            "   350K .......... .......... .......... .......... .......... 26% 1.09M 1s\n",
            "   400K .......... .......... .......... .......... .......... 29% 35.3M 1s\n",
            "   450K .......... .......... .......... .......... .......... 32% 82.7M 0s\n",
            "   500K .......... .......... .......... .......... .......... 36% 85.7M 0s\n",
            "   550K .......... .......... .......... .......... .......... 39% 55.7M 0s\n",
            "   600K .......... .......... .......... .......... .......... 42% 87.0M 0s\n",
            "   650K .......... .......... .......... .......... .......... 45% 58.8M 0s\n",
            "   700K .......... .......... .......... .......... .......... 49% 57.4M 0s\n",
            "   750K .......... .......... .......... .......... .......... 52% 1.16M 0s\n",
            "   800K .......... .......... .......... .......... .......... 55% 38.3M 0s\n",
            "   850K .......... .......... .......... .......... .......... 58% 17.1M 0s\n",
            "   900K .......... .......... .......... .......... .......... 62% 25.6M 0s\n",
            "   950K .......... .......... .......... .......... .......... 65% 23.9M 0s\n",
            "  1000K .......... .......... .......... .......... .......... 68% 12.9M 0s\n",
            "  1050K .......... .......... .......... .......... .......... 72% 63.5M 0s\n",
            "  1100K .......... .......... .......... .......... .......... 75% 52.8M 0s\n",
            "  1150K .......... .......... .......... .......... .......... 78% 53.0M 0s\n",
            "  1200K .......... .......... .......... .......... .......... 81% 55.5M 0s\n",
            "  1250K .......... .......... .......... .......... .......... 85% 61.1M 0s\n",
            "  1300K .......... .......... .......... .......... .......... 88% 55.3M 0s\n",
            "  1350K .......... .......... .......... .......... .......... 91% 39.8M 0s\n",
            "  1400K .......... .......... .......... .......... .......... 94% 58.8M 0s\n",
            "  1450K .......... .......... .......... .......... .......... 98% 68.7M 0s\n",
            "  1500K .......... .......... ......                          100% 77.7M=0.3s\n",
            "\n",
            "2022-12-24 10:54:51 (4.83 MB/s) - ‘HTRU2.zip’ saved [1563015/1563015]\n",
            "\n"
          ]
        }
      ]
    },
    {
      "cell_type": "code",
      "source": [
        "htru2 = pd.read_csv(\"/content/HTRU_2.csv\", header = 0, names = [\"MEAN_IP\", \"SD_IP\", \"EK_IP\", \"S_IP\", \"MEAN_DN-SNR\", \"SD_DM-SNR\", \"EK_DM-SNR\", \"S_DM-SNR\", \"label\"]) \n",
        "#Para añadir nombres a los atributos cuando no aparecen en el archivo csv"
      ],
      "metadata": {
        "id": "SvBf4frOTcOm"
      },
      "execution_count": 5,
      "outputs": []
    },
    {
      "cell_type": "code",
      "source": [
        "htru2.head()"
      ],
      "metadata": {
        "colab": {
          "base_uri": "https://localhost:8080/",
          "height": 206
        },
        "id": "BabN00wGTrsF",
        "outputId": "67d2ba05-0920-4d38-b2e3-734148696516"
      },
      "execution_count": 6,
      "outputs": [
        {
          "output_type": "execute_result",
          "data": {
            "text/plain": [
              "      MEAN_IP      SD_IP     EK_IP      S_IP  MEAN_DN-SNR  SD_DM-SNR  \\\n",
              "0  102.507812  58.882430  0.465318 -0.515088     1.677258  14.860146   \n",
              "1  103.015625  39.341649  0.323328  1.051164     3.121237  21.744669   \n",
              "2  136.750000  57.178449 -0.068415 -0.636238     3.642977  20.959280   \n",
              "3   88.726562  40.672225  0.600866  1.123492     1.178930  11.468720   \n",
              "4   93.570312  46.698114  0.531905  0.416721     1.636288  14.545074   \n",
              "\n",
              "   EK_DM-SNR    S_DM-SNR  label  \n",
              "0  10.576487  127.393580      0  \n",
              "1   7.735822   63.171909      0  \n",
              "2   6.896499   53.593661      0  \n",
              "3  14.269573  252.567306      0  \n",
              "4  10.621748  131.394004      0  "
            ],
            "text/html": [
              "\n",
              "  <div id=\"df-a0eec61f-1920-4c27-93e5-1e9c6c4214ec\">\n",
              "    <div class=\"colab-df-container\">\n",
              "      <div>\n",
              "<style scoped>\n",
              "    .dataframe tbody tr th:only-of-type {\n",
              "        vertical-align: middle;\n",
              "    }\n",
              "\n",
              "    .dataframe tbody tr th {\n",
              "        vertical-align: top;\n",
              "    }\n",
              "\n",
              "    .dataframe thead th {\n",
              "        text-align: right;\n",
              "    }\n",
              "</style>\n",
              "<table border=\"1\" class=\"dataframe\">\n",
              "  <thead>\n",
              "    <tr style=\"text-align: right;\">\n",
              "      <th></th>\n",
              "      <th>MEAN_IP</th>\n",
              "      <th>SD_IP</th>\n",
              "      <th>EK_IP</th>\n",
              "      <th>S_IP</th>\n",
              "      <th>MEAN_DN-SNR</th>\n",
              "      <th>SD_DM-SNR</th>\n",
              "      <th>EK_DM-SNR</th>\n",
              "      <th>S_DM-SNR</th>\n",
              "      <th>label</th>\n",
              "    </tr>\n",
              "  </thead>\n",
              "  <tbody>\n",
              "    <tr>\n",
              "      <th>0</th>\n",
              "      <td>102.507812</td>\n",
              "      <td>58.882430</td>\n",
              "      <td>0.465318</td>\n",
              "      <td>-0.515088</td>\n",
              "      <td>1.677258</td>\n",
              "      <td>14.860146</td>\n",
              "      <td>10.576487</td>\n",
              "      <td>127.393580</td>\n",
              "      <td>0</td>\n",
              "    </tr>\n",
              "    <tr>\n",
              "      <th>1</th>\n",
              "      <td>103.015625</td>\n",
              "      <td>39.341649</td>\n",
              "      <td>0.323328</td>\n",
              "      <td>1.051164</td>\n",
              "      <td>3.121237</td>\n",
              "      <td>21.744669</td>\n",
              "      <td>7.735822</td>\n",
              "      <td>63.171909</td>\n",
              "      <td>0</td>\n",
              "    </tr>\n",
              "    <tr>\n",
              "      <th>2</th>\n",
              "      <td>136.750000</td>\n",
              "      <td>57.178449</td>\n",
              "      <td>-0.068415</td>\n",
              "      <td>-0.636238</td>\n",
              "      <td>3.642977</td>\n",
              "      <td>20.959280</td>\n",
              "      <td>6.896499</td>\n",
              "      <td>53.593661</td>\n",
              "      <td>0</td>\n",
              "    </tr>\n",
              "    <tr>\n",
              "      <th>3</th>\n",
              "      <td>88.726562</td>\n",
              "      <td>40.672225</td>\n",
              "      <td>0.600866</td>\n",
              "      <td>1.123492</td>\n",
              "      <td>1.178930</td>\n",
              "      <td>11.468720</td>\n",
              "      <td>14.269573</td>\n",
              "      <td>252.567306</td>\n",
              "      <td>0</td>\n",
              "    </tr>\n",
              "    <tr>\n",
              "      <th>4</th>\n",
              "      <td>93.570312</td>\n",
              "      <td>46.698114</td>\n",
              "      <td>0.531905</td>\n",
              "      <td>0.416721</td>\n",
              "      <td>1.636288</td>\n",
              "      <td>14.545074</td>\n",
              "      <td>10.621748</td>\n",
              "      <td>131.394004</td>\n",
              "      <td>0</td>\n",
              "    </tr>\n",
              "  </tbody>\n",
              "</table>\n",
              "</div>\n",
              "      <button class=\"colab-df-convert\" onclick=\"convertToInteractive('df-a0eec61f-1920-4c27-93e5-1e9c6c4214ec')\"\n",
              "              title=\"Convert this dataframe to an interactive table.\"\n",
              "              style=\"display:none;\">\n",
              "        \n",
              "  <svg xmlns=\"http://www.w3.org/2000/svg\" height=\"24px\"viewBox=\"0 0 24 24\"\n",
              "       width=\"24px\">\n",
              "    <path d=\"M0 0h24v24H0V0z\" fill=\"none\"/>\n",
              "    <path d=\"M18.56 5.44l.94 2.06.94-2.06 2.06-.94-2.06-.94-.94-2.06-.94 2.06-2.06.94zm-11 1L8.5 8.5l.94-2.06 2.06-.94-2.06-.94L8.5 2.5l-.94 2.06-2.06.94zm10 10l.94 2.06.94-2.06 2.06-.94-2.06-.94-.94-2.06-.94 2.06-2.06.94z\"/><path d=\"M17.41 7.96l-1.37-1.37c-.4-.4-.92-.59-1.43-.59-.52 0-1.04.2-1.43.59L10.3 9.45l-7.72 7.72c-.78.78-.78 2.05 0 2.83L4 21.41c.39.39.9.59 1.41.59.51 0 1.02-.2 1.41-.59l7.78-7.78 2.81-2.81c.8-.78.8-2.07 0-2.86zM5.41 20L4 18.59l7.72-7.72 1.47 1.35L5.41 20z\"/>\n",
              "  </svg>\n",
              "      </button>\n",
              "      \n",
              "  <style>\n",
              "    .colab-df-container {\n",
              "      display:flex;\n",
              "      flex-wrap:wrap;\n",
              "      gap: 12px;\n",
              "    }\n",
              "\n",
              "    .colab-df-convert {\n",
              "      background-color: #E8F0FE;\n",
              "      border: none;\n",
              "      border-radius: 50%;\n",
              "      cursor: pointer;\n",
              "      display: none;\n",
              "      fill: #1967D2;\n",
              "      height: 32px;\n",
              "      padding: 0 0 0 0;\n",
              "      width: 32px;\n",
              "    }\n",
              "\n",
              "    .colab-df-convert:hover {\n",
              "      background-color: #E2EBFA;\n",
              "      box-shadow: 0px 1px 2px rgba(60, 64, 67, 0.3), 0px 1px 3px 1px rgba(60, 64, 67, 0.15);\n",
              "      fill: #174EA6;\n",
              "    }\n",
              "\n",
              "    [theme=dark] .colab-df-convert {\n",
              "      background-color: #3B4455;\n",
              "      fill: #D2E3FC;\n",
              "    }\n",
              "\n",
              "    [theme=dark] .colab-df-convert:hover {\n",
              "      background-color: #434B5C;\n",
              "      box-shadow: 0px 1px 3px 1px rgba(0, 0, 0, 0.15);\n",
              "      filter: drop-shadow(0px 1px 2px rgba(0, 0, 0, 0.3));\n",
              "      fill: #FFFFFF;\n",
              "    }\n",
              "  </style>\n",
              "\n",
              "      <script>\n",
              "        const buttonEl =\n",
              "          document.querySelector('#df-a0eec61f-1920-4c27-93e5-1e9c6c4214ec button.colab-df-convert');\n",
              "        buttonEl.style.display =\n",
              "          google.colab.kernel.accessAllowed ? 'block' : 'none';\n",
              "\n",
              "        async function convertToInteractive(key) {\n",
              "          const element = document.querySelector('#df-a0eec61f-1920-4c27-93e5-1e9c6c4214ec');\n",
              "          const dataTable =\n",
              "            await google.colab.kernel.invokeFunction('convertToInteractive',\n",
              "                                                     [key], {});\n",
              "          if (!dataTable) return;\n",
              "\n",
              "          const docLinkHtml = 'Like what you see? Visit the ' +\n",
              "            '<a target=\"_blank\" href=https://colab.research.google.com/notebooks/data_table.ipynb>data table notebook</a>'\n",
              "            + ' to learn more about interactive tables.';\n",
              "          element.innerHTML = '';\n",
              "          dataTable['output_type'] = 'display_data';\n",
              "          await google.colab.output.renderOutput(dataTable, element);\n",
              "          const docLink = document.createElement('div');\n",
              "          docLink.innerHTML = docLinkHtml;\n",
              "          element.appendChild(docLink);\n",
              "        }\n",
              "      </script>\n",
              "    </div>\n",
              "  </div>\n",
              "  "
            ]
          },
          "metadata": {},
          "execution_count": 6
        }
      ]
    },
    {
      "cell_type": "code",
      "source": [
        "htru2.info()"
      ],
      "metadata": {
        "colab": {
          "base_uri": "https://localhost:8080/"
        },
        "id": "wZIvAtI3UC0-",
        "outputId": "bbe4d40c-0fe1-479b-9294-a0e5e0230997"
      },
      "execution_count": 7,
      "outputs": [
        {
          "output_type": "stream",
          "name": "stdout",
          "text": [
            "<class 'pandas.core.frame.DataFrame'>\n",
            "RangeIndex: 17897 entries, 0 to 17896\n",
            "Data columns (total 9 columns):\n",
            " #   Column       Non-Null Count  Dtype  \n",
            "---  ------       --------------  -----  \n",
            " 0   MEAN_IP      17897 non-null  float64\n",
            " 1   SD_IP        17897 non-null  float64\n",
            " 2   EK_IP        17897 non-null  float64\n",
            " 3   S_IP         17897 non-null  float64\n",
            " 4   MEAN_DN-SNR  17897 non-null  float64\n",
            " 5   SD_DM-SNR    17897 non-null  float64\n",
            " 6   EK_DM-SNR    17897 non-null  float64\n",
            " 7   S_DM-SNR     17897 non-null  float64\n",
            " 8   label        17897 non-null  int64  \n",
            "dtypes: float64(8), int64(1)\n",
            "memory usage: 1.2 MB\n"
          ]
        }
      ]
    },
    {
      "cell_type": "code",
      "source": [
        "htru2_labels = htru2[\"label\"] #Guardamos etiquetas aparte"
      ],
      "metadata": {
        "id": "oY1MgxA7WTHC"
      },
      "execution_count": 8,
      "outputs": []
    },
    {
      "cell_type": "code",
      "source": [
        "htru2_data = htru2.drop(\"label\", axis = 1) #Eliminamos la etiqueta"
      ],
      "metadata": {
        "id": "yqa23K_lWvAG"
      },
      "execution_count": 9,
      "outputs": []
    },
    {
      "cell_type": "code",
      "source": [
        "htru2_labels = (htru2_labels == 1) #Cambiamos la etiqueta/clase de 0/1 a True/False"
      ],
      "metadata": {
        "id": "ixojcs4wXQNo"
      },
      "execution_count": 10,
      "outputs": []
    },
    {
      "cell_type": "code",
      "source": [
        "htru2_labels.head()"
      ],
      "metadata": {
        "colab": {
          "base_uri": "https://localhost:8080/"
        },
        "id": "kOcZbouTXb3X",
        "outputId": "e8c00ec1-3a8d-4652-aeb6-4645fc562f82"
      },
      "execution_count": 11,
      "outputs": [
        {
          "output_type": "execute_result",
          "data": {
            "text/plain": [
              "0    False\n",
              "1    False\n",
              "2    False\n",
              "3    False\n",
              "4    False\n",
              "Name: label, dtype: bool"
            ]
          },
          "metadata": {},
          "execution_count": 11
        }
      ]
    },
    {
      "cell_type": "code",
      "source": [
        "htru2_labels.value_counts() #Como se puede ver, las clases están desbalanceadas y habrá que tenerlo en cuenta"
      ],
      "metadata": {
        "id": "Ap08Rr48gEOY",
        "colab": {
          "base_uri": "https://localhost:8080/"
        },
        "outputId": "10fccaad-0ee6-496d-c09d-617e108371b2"
      },
      "execution_count": 12,
      "outputs": [
        {
          "output_type": "execute_result",
          "data": {
            "text/plain": [
              "False    16258\n",
              "True      1639\n",
              "Name: label, dtype: int64"
            ]
          },
          "metadata": {},
          "execution_count": 12
        }
      ]
    },
    {
      "cell_type": "code",
      "source": [
        "import sklearn\n",
        "assert sklearn.__version__ >= \"0.20\""
      ],
      "metadata": {
        "id": "3phNgOqW9yeP"
      },
      "execution_count": 13,
      "outputs": []
    },
    {
      "cell_type": "code",
      "source": [
        "from sklearn.preprocessing import StandardScaler #Para escalar los datos\n",
        "from sklearn.pipeline import make_pipeline #Para usar el pipe\n",
        "from sklearn.linear_model import SGDClassifier #Para usar el clasificador SGD\n",
        "from sklearn.model_selection import train_test_split #Para particionar conjuntos de entrenamiento y test."
      ],
      "metadata": {
        "id": "jbmPQHFf83YF"
      },
      "execution_count": 14,
      "outputs": []
    },
    {
      "cell_type": "code",
      "source": [
        "X_train, X_test, y_train, y_test = train_test_split(htru2_data, htru2_labels, stratify=htru2_labels)\n",
        "#El último parámetro es para estratificar en función del objetivo y que los conjuntos estén balanceados."
      ],
      "metadata": {
        "id": "aH8_GUjhNvCe"
      },
      "execution_count": 15,
      "outputs": []
    },
    {
      "cell_type": "code",
      "source": [
        "import collections\n",
        "collections.Counter(y_test) #Para ver la frecuencia como se distribuye el y_test"
      ],
      "metadata": {
        "colab": {
          "base_uri": "https://localhost:8080/"
        },
        "id": "yTqAvXHkg8Yy",
        "outputId": "4d7177fd-b3ab-41d4-83f5-718155414fbc"
      },
      "execution_count": 16,
      "outputs": [
        {
          "output_type": "execute_result",
          "data": {
            "text/plain": [
              "Counter({False: 4065, True: 410})"
            ]
          },
          "metadata": {},
          "execution_count": 16
        }
      ]
    },
    {
      "cell_type": "code",
      "source": [
        "sgd_clasificador = make_pipeline(StandardScaler(), SGDClassifier(random_state = 42))"
      ],
      "metadata": {
        "id": "AB3qplnMOeaB"
      },
      "execution_count": 17,
      "outputs": []
    },
    {
      "cell_type": "code",
      "source": [
        "#Aplicamos el clasificador al conjunto de entrenamiento mediante la función fit\n",
        "sgd_clasificador.fit(X_train, y_train)"
      ],
      "metadata": {
        "colab": {
          "base_uri": "https://localhost:8080/"
        },
        "id": "JajF_firO2cI",
        "outputId": "acaa3e2a-af33-432e-ba8e-cf5e41d70255"
      },
      "execution_count": 18,
      "outputs": [
        {
          "output_type": "execute_result",
          "data": {
            "text/plain": [
              "Pipeline(steps=[('standardscaler', StandardScaler()),\n",
              "                ('sgdclassifier', SGDClassifier(random_state=42))])"
            ]
          },
          "metadata": {},
          "execution_count": 18
        }
      ]
    },
    {
      "cell_type": "code",
      "source": [
        "y_train[:20], sgd_clasificador.predict(X_train[:20])"
      ],
      "metadata": {
        "colab": {
          "base_uri": "https://localhost:8080/"
        },
        "id": "cvNRPwkv-73m",
        "outputId": "0ce6ea79-1609-4267-8364-e8cf5c0de1ee"
      },
      "execution_count": 19,
      "outputs": [
        {
          "output_type": "execute_result",
          "data": {
            "text/plain": [
              "(17605    False\n",
              " 9006     False\n",
              " 14311    False\n",
              " 9036      True\n",
              " 2087     False\n",
              " 6172     False\n",
              " 17415    False\n",
              " 14017    False\n",
              " 10926    False\n",
              " 7420     False\n",
              " 5117     False\n",
              " 3657     False\n",
              " 10331    False\n",
              " 2224     False\n",
              " 3730     False\n",
              " 11419     True\n",
              " 5660      True\n",
              " 5482     False\n",
              " 14818    False\n",
              " 7491     False\n",
              " Name: label, dtype: bool,\n",
              " array([False, False, False,  True, False, False, False, False, False,\n",
              "        False, False, False, False, False, False,  True,  True, False,\n",
              "        False, False]))"
            ]
          },
          "metadata": {},
          "execution_count": 19
        }
      ]
    },
    {
      "cell_type": "code",
      "source": [
        "from sklearn.metrics import confusion_matrix\n",
        "from sklearn.metrics import ConfusionMatrixDisplay\n",
        "y_pred = sgd_clasificador.predict(X_test)\n",
        "cm = confusion_matrix(y_test, y_pred)\n"
      ],
      "metadata": {
        "id": "uOZiB2-DQ__6"
      },
      "execution_count": 20,
      "outputs": []
    },
    {
      "cell_type": "code",
      "source": [
        "cm"
      ],
      "metadata": {
        "colab": {
          "base_uri": "https://localhost:8080/"
        },
        "id": "kaZuGPDe_QXg",
        "outputId": "439fd8c9-bc24-4a89-f346-7258d69a7af0"
      },
      "execution_count": 21,
      "outputs": [
        {
          "output_type": "execute_result",
          "data": {
            "text/plain": [
              "array([[4044,   21],\n",
              "       [  76,  334]])"
            ]
          },
          "metadata": {},
          "execution_count": 21
        }
      ]
    },
    {
      "cell_type": "code",
      "source": [
        "cm_display = ConfusionMatrixDisplay(cm).plot()"
      ],
      "metadata": {
        "colab": {
          "base_uri": "https://localhost:8080/",
          "height": 281
        },
        "id": "j-M8fOQ_RhDJ",
        "outputId": "898c9606-80b5-4214-fc91-e51c09bdfe4a"
      },
      "execution_count": 22,
      "outputs": [
        {
          "output_type": "display_data",
          "data": {
            "text/plain": [
              "<Figure size 432x288 with 2 Axes>"
            ],
            "image/png": "[encoded data removed]"
          },
          "metadata": {
            "needs_background": "light"
          }
        }
      ]
    },
    {
      "cell_type": "code",
      "source": [
        "#Ahora vamos a calcular accuracy, precision, recall y F1\n",
        "from sklearn.metrics import accuracy_score, precision_score, recall_score, f1_score\n",
        "accuracy_score(y_test, y_pred), precision_score(y_test, y_pred), recall_score(y_test, y_pred), f1_score(y_test, y_pred)"
      ],
      "metadata": {
        "colab": {
          "base_uri": "https://localhost:8080/"
        },
        "id": "IocSkhXkUS-I",
        "outputId": "253564fd-3161-48a4-91c2-fc49714e8333"
      },
      "execution_count": 23,
      "outputs": [
        {
          "output_type": "execute_result",
          "data": {
            "text/plain": [
              "(0.9783240223463687,\n",
              " 0.9408450704225352,\n",
              " 0.8146341463414634,\n",
              " 0.8732026143790849)"
            ]
          },
          "metadata": {},
          "execution_count": 23
        }
      ]
    },
    {
      "cell_type": "code",
      "source": [
        "#Ahora vamos a ver la curva ROC\n",
        "from sklearn.metrics import roc_curve, roc_auc_score #para obtener la curva roc y su área\n",
        "from sklearn.metrics import RocCurveDisplay"
      ],
      "metadata": {
        "id": "KuWxy5dHRvvM"
      },
      "execution_count": 24,
      "outputs": []
    },
    {
      "cell_type": "code",
      "source": [
        "y_score = sgd_clasificador.decision_function(X_test)\n",
        "fpr, tpr, _ = roc_curve(y_test, y_score, pos_label=sgd_clasificador.classes_[1])\n",
        "roc_display = RocCurveDisplay(fpr=fpr, tpr=tpr).plot()"
      ],
      "metadata": {
        "colab": {
          "base_uri": "https://localhost:8080/",
          "height": 279
        },
        "id": "hxZQ9yLXSGO0",
        "outputId": "4433f40c-818c-4d94-f0f9-1933b9bc7171"
      },
      "execution_count": 25,
      "outputs": [
        {
          "output_type": "display_data",
          "data": {
            "text/plain": [
              "<Figure size 432x288 with 1 Axes>"
            ],
            "image/png": "[encoded data removed]"
          },
          "metadata": {
            "needs_background": "light"
          }
        }
      ]
    },
    {
      "cell_type": "code",
      "source": [
        "roc_auc_score(y_test, y_score) #area bajo la curva roc"
      ],
      "metadata": {
        "colab": {
          "base_uri": "https://localhost:8080/"
        },
        "id": "bVDUyep1i6ga",
        "outputId": "ac0d494f-50db-4805-c7bf-8b6c13cbed3e"
      },
      "execution_count": 26,
      "outputs": [
        {
          "output_type": "execute_result",
          "data": {
            "text/plain": [
              "0.9646284462844629"
            ]
          },
          "metadata": {},
          "execution_count": 26
        }
      ]
    },
    {
      "cell_type": "code",
      "source": [
        "#Ahora vamos a crear la curva precision recall\n",
        "from sklearn.metrics import precision_recall_curve\n",
        "from sklearn.metrics import PrecisionRecallDisplay\n",
        "\n",
        "prec, recall, _ = precision_recall_curve(y_test, y_score, pos_label=sgd_clasificador.classes_[1])\n",
        "pr_display = PrecisionRecallDisplay(precision=prec, recall=recall).plot()\n"
      ],
      "metadata": {
        "colab": {
          "base_uri": "https://localhost:8080/",
          "height": 279
        },
        "id": "r_GxBawqSewr",
        "outputId": "802a507f-e5fa-4b8a-8bfa-4f110b849f3f"
      },
      "execution_count": 27,
      "outputs": [
        {
          "output_type": "display_data",
          "data": {
            "text/plain": [
              "<Figure size 432x288 with 1 Axes>"
            ],
            "image/png": "[encoded data removed]"
          },
          "metadata": {
            "needs_background": "light"
          }
        }
      ]
    },
    {
      "cell_type": "markdown",
      "source": [
        "# **Regresión Logística**"
      ],
      "metadata": {
        "id": "r6sADVEcwJAh"
      }
    },
    {
      "cell_type": "code",
      "source": [
        "from sklearn.linear_model import LogisticRegression #Para usar el clasificador RegresionLogistica\n",
        "\n",
        "sgd_clasificador = make_pipeline(StandardScaler(), LogisticRegression(random_state = 42))"
      ],
      "metadata": {
        "id": "Qe60jAsIwwNM"
      },
      "execution_count": 28,
      "outputs": []
    },
    {
      "cell_type": "code",
      "source": [
        "#Aplicamos el clasificador al conjunto de entrenamiento mediante la función fit\n",
        "sgd_clasificador.fit(X_train, y_train)"
      ],
      "metadata": {
        "colab": {
          "base_uri": "https://localhost:8080/"
        },
        "outputId": "ec472a71-b484-4a70-a5d7-a68227fb42ae",
        "id": "3RrtywZNwwNM"
      },
      "execution_count": 29,
      "outputs": [
        {
          "output_type": "execute_result",
          "data": {
            "text/plain": [
              "Pipeline(steps=[('standardscaler', StandardScaler()),\n",
              "                ('logisticregression', LogisticRegression(random_state=42))])"
            ]
          },
          "metadata": {},
          "execution_count": 29
        }
      ]
    },
    {
      "cell_type": "code",
      "source": [
        "y_train[:20], sgd_clasificador.predict(X_train[:20])"
      ],
      "metadata": {
        "colab": {
          "base_uri": "https://localhost:8080/"
        },
        "outputId": "550c9a03-0980-4238-9ac7-eb83b418ebaf",
        "id": "1FAGQ4kmwwNM"
      },
      "execution_count": 30,
      "outputs": [
        {
          "output_type": "execute_result",
          "data": {
            "text/plain": [
              "(17605    False\n",
              " 9006     False\n",
              " 14311    False\n",
              " 9036      True\n",
              " 2087     False\n",
              " 6172     False\n",
              " 17415    False\n",
              " 14017    False\n",
              " 10926    False\n",
              " 7420     False\n",
              " 5117     False\n",
              " 3657     False\n",
              " 10331    False\n",
              " 2224     False\n",
              " 3730     False\n",
              " 11419     True\n",
              " 5660      True\n",
              " 5482     False\n",
              " 14818    False\n",
              " 7491     False\n",
              " Name: label, dtype: bool,\n",
              " array([False, False, False,  True, False, False, False, False, False,\n",
              "        False, False, False, False, False, False,  True,  True, False,\n",
              "        False, False]))"
            ]
          },
          "metadata": {},
          "execution_count": 30
        }
      ]
    },
    {
      "cell_type": "code",
      "source": [
        "y_pred = sgd_clasificador.predict(X_test)\n",
        "cm = confusion_matrix(y_test, y_pred)\n"
      ],
      "metadata": {
        "id": "emkF2HKGwwNM"
      },
      "execution_count": 31,
      "outputs": []
    },
    {
      "cell_type": "code",
      "source": [
        "cm"
      ],
      "metadata": {
        "colab": {
          "base_uri": "https://localhost:8080/"
        },
        "outputId": "ac53c16d-16a6-47a3-f75e-87047eefeff9",
        "id": "KqTptQi0wwNN"
      },
      "execution_count": 32,
      "outputs": [
        {
          "output_type": "execute_result",
          "data": {
            "text/plain": [
              "array([[4045,   20],\n",
              "       [  86,  324]])"
            ]
          },
          "metadata": {},
          "execution_count": 32
        }
      ]
    },
    {
      "cell_type": "code",
      "source": [
        "cm_display = ConfusionMatrixDisplay(cm).plot()"
      ],
      "metadata": {
        "colab": {
          "base_uri": "https://localhost:8080/",
          "height": 281
        },
        "outputId": "c9416cf5-9016-4efa-c466-a4c72d54e153",
        "id": "Bwr8UPP-wwNN"
      },
      "execution_count": 33,
      "outputs": [
        {
          "output_type": "display_data",
          "data": {
            "text/plain": [
              "<Figure size 432x288 with 2 Axes>"
            ],
            "image/png": "[encoded data removed]"
          },
          "metadata": {
            "needs_background": "light"
          }
        }
      ]
    },
    {
      "cell_type": "code",
      "source": [
        "#Ahora vamos a calcular accuracy, precision, recall y F1\n",
        "from sklearn.metrics import accuracy_score, precision_score, recall_score, f1_score\n",
        "accuracy_score(y_test, y_pred), precision_score(y_test, y_pred), recall_score(y_test, y_pred), f1_score(y_test, y_pred)"
      ],
      "metadata": {
        "colab": {
          "base_uri": "https://localhost:8080/"
        },
        "outputId": "d74a2631-7fa4-4864-c84e-934f1e376653",
        "id": "Kxm8BmUgwwNN"
      },
      "execution_count": 34,
      "outputs": [
        {
          "output_type": "execute_result",
          "data": {
            "text/plain": [
              "(0.9763128491620112,\n",
              " 0.9418604651162791,\n",
              " 0.7902439024390244,\n",
              " 0.8594164456233422)"
            ]
          },
          "metadata": {},
          "execution_count": 34
        }
      ]
    },
    {
      "cell_type": "code",
      "source": [
        "y_score = sgd_clasificador.decision_function(X_test)\n",
        "fpr, tpr, _ = roc_curve(y_test, y_score, pos_label=sgd_clasificador.classes_[1])\n",
        "roc_display = RocCurveDisplay(fpr=fpr, tpr=tpr).plot()"
      ],
      "metadata": {
        "colab": {
          "base_uri": "https://localhost:8080/",
          "height": 279
        },
        "outputId": "0703ce87-5086-4f44-a8df-61e3798620c9",
        "id": "yJJ8x3CNwwNN"
      },
      "execution_count": 35,
      "outputs": [
        {
          "output_type": "display_data",
          "data": {
            "text/plain": [
              "<Figure size 432x288 with 1 Axes>"
            ],
            "image/png": "[encoded data removed]"
          },
          "metadata": {
            "needs_background": "light"
          }
        }
      ]
    },
    {
      "cell_type": "code",
      "source": [
        "roc_auc_score(y_test, y_score) #area bajo la curva roc"
      ],
      "metadata": {
        "colab": {
          "base_uri": "https://localhost:8080/"
        },
        "outputId": "7ed52120-6a3d-4e14-dbda-b9c98db09c6e",
        "id": "AsZpkTpwwwNN"
      },
      "execution_count": 36,
      "outputs": [
        {
          "output_type": "execute_result",
          "data": {
            "text/plain": [
              "0.9673578735787358"
            ]
          },
          "metadata": {},
          "execution_count": 36
        }
      ]
    },
    {
      "cell_type": "code",
      "source": [
        "#Ahora vamos a crear la curva precision recall\n",
        "prec, recall, _ = precision_recall_curve(y_test, y_score, pos_label=sgd_clasificador.classes_[1])\n",
        "pr_display = PrecisionRecallDisplay(precision=prec, recall=recall).plot()\n"
      ],
      "metadata": {
        "colab": {
          "base_uri": "https://localhost:8080/",
          "height": 279
        },
        "outputId": "31543232-9dc5-44fc-ec3e-e53964ffa9f0",
        "id": "G4Kmg-xlwwNN"
      },
      "execution_count": 37,
      "outputs": [
        {
          "output_type": "display_data",
          "data": {
            "text/plain": [
              "<Figure size 432x288 with 1 Axes>"
            ],
            "image/png": "[encoded data removed]"
          },
          "metadata": {
            "needs_background": "light"
          }
        }
      ]
    },
    {
      "cell_type": "markdown",
      "source": [
        "# **SVM Lineal**"
      ],
      "metadata": {
        "id": "0um45FfCwUnf"
      }
    },
    {
      "cell_type": "code",
      "source": [
        "from sklearn.svm import LinearSVC #Para usar el clasificador RegresionLogistica\n",
        "\n",
        "sgd_clasificador = make_pipeline(StandardScaler(), LinearSVC(random_state = 42))"
      ],
      "metadata": {
        "id": "oympYG6PxlMO"
      },
      "execution_count": 38,
      "outputs": []
    },
    {
      "cell_type": "code",
      "source": [
        "#Aplicamos el clasificador al conjunto de entrenamiento mediante la función fit\n",
        "sgd_clasificador.fit(X_train, y_train)"
      ],
      "metadata": {
        "colab": {
          "base_uri": "https://localhost:8080/"
        },
        "outputId": "3ff6a66e-d889-4f52-9db4-309f0d2709c8",
        "id": "85SePF-ExlMP"
      },
      "execution_count": 39,
      "outputs": [
        {
          "output_type": "stream",
          "name": "stderr",
          "text": [
            "/usr/local/lib/python3.8/dist-packages/sklearn/svm/_base.py:1206: ConvergenceWarning: Liblinear failed to converge, increase the number of iterations.\n",
            "  warnings.warn(\n"
          ]
        },
        {
          "output_type": "execute_result",
          "data": {
            "text/plain": [
              "Pipeline(steps=[('standardscaler', StandardScaler()),\n",
              "                ('linearsvc', LinearSVC(random_state=42))])"
            ]
          },
          "metadata": {},
          "execution_count": 39
        }
      ]
    },
    {
      "cell_type": "code",
      "source": [
        "y_train[:20], sgd_clasificador.predict(X_train[:20])"
      ],
      "metadata": {
        "colab": {
          "base_uri": "https://localhost:8080/"
        },
        "outputId": "05935480-e480-44aa-8db5-30945981956e",
        "id": "9vUFGsH2xlMP"
      },
      "execution_count": 40,
      "outputs": [
        {
          "output_type": "execute_result",
          "data": {
            "text/plain": [
              "(17605    False\n",
              " 9006     False\n",
              " 14311    False\n",
              " 9036      True\n",
              " 2087     False\n",
              " 6172     False\n",
              " 17415    False\n",
              " 14017    False\n",
              " 10926    False\n",
              " 7420     False\n",
              " 5117     False\n",
              " 3657     False\n",
              " 10331    False\n",
              " 2224     False\n",
              " 3730     False\n",
              " 11419     True\n",
              " 5660      True\n",
              " 5482     False\n",
              " 14818    False\n",
              " 7491     False\n",
              " Name: label, dtype: bool,\n",
              " array([False, False, False,  True, False, False, False, False, False,\n",
              "        False, False, False, False, False, False,  True,  True, False,\n",
              "        False, False]))"
            ]
          },
          "metadata": {},
          "execution_count": 40
        }
      ]
    },
    {
      "cell_type": "code",
      "source": [
        "y_pred = sgd_clasificador.predict(X_test)\n",
        "cm = confusion_matrix(y_test, y_pred)\n"
      ],
      "metadata": {
        "id": "9jwVOVa-xlMP"
      },
      "execution_count": 41,
      "outputs": []
    },
    {
      "cell_type": "code",
      "source": [
        "cm"
      ],
      "metadata": {
        "colab": {
          "base_uri": "https://localhost:8080/"
        },
        "outputId": "d9850231-d8be-430d-d246-2250aa8f699f",
        "id": "H5YRHCPlxlMP"
      },
      "execution_count": 42,
      "outputs": [
        {
          "output_type": "execute_result",
          "data": {
            "text/plain": [
              "array([[4048,   17],\n",
              "       [  89,  321]])"
            ]
          },
          "metadata": {},
          "execution_count": 42
        }
      ]
    },
    {
      "cell_type": "code",
      "source": [
        "cm_display = ConfusionMatrixDisplay(cm).plot()"
      ],
      "metadata": {
        "colab": {
          "base_uri": "https://localhost:8080/",
          "height": 281
        },
        "outputId": "da088998-0e83-4d5a-c2c7-90ac30d2e0f2",
        "id": "LX4TIaodxlMP"
      },
      "execution_count": 43,
      "outputs": [
        {
          "output_type": "display_data",
          "data": {
            "text/plain": [
              "<Figure size 432x288 with 2 Axes>"
            ],
            "image/png": "[encoded data removed]"
          },
          "metadata": {
            "needs_background": "light"
          }
        }
      ]
    },
    {
      "cell_type": "code",
      "source": [
        "#Ahora vamos a calcular accuracy, precision, recall y F1\n",
        "from sklearn.metrics import accuracy_score, precision_score, recall_score, f1_score\n",
        "accuracy_score(y_test, y_pred), precision_score(y_test, y_pred), recall_score(y_test, y_pred), f1_score(y_test, y_pred)"
      ],
      "metadata": {
        "colab": {
          "base_uri": "https://localhost:8080/"
        },
        "outputId": "145e2693-31ff-4279-f71b-f38d4abf7711",
        "id": "1arzZGd7xlMP"
      },
      "execution_count": 44,
      "outputs": [
        {
          "output_type": "execute_result",
          "data": {
            "text/plain": [
              "(0.9763128491620112, 0.9497041420118343, 0.7829268292682927, 0.858288770053476)"
            ]
          },
          "metadata": {},
          "execution_count": 44
        }
      ]
    },
    {
      "cell_type": "code",
      "source": [
        "y_score = sgd_clasificador.decision_function(X_test)\n",
        "fpr, tpr, _ = roc_curve(y_test, y_score, pos_label=sgd_clasificador.classes_[1])\n",
        "roc_display = RocCurveDisplay(fpr=fpr, tpr=tpr).plot()"
      ],
      "metadata": {
        "colab": {
          "base_uri": "https://localhost:8080/",
          "height": 279
        },
        "outputId": "b305e646-ee3d-4f5f-a615-e751d1fe220d",
        "id": "iDOY4-AjxlMQ"
      },
      "execution_count": 45,
      "outputs": [
        {
          "output_type": "display_data",
          "data": {
            "text/plain": [
              "<Figure size 432x288 with 1 Axes>"
            ],
            "image/png": "[encoded data removed]"
          },
          "metadata": {
            "needs_background": "light"
          }
        }
      ]
    },
    {
      "cell_type": "code",
      "source": [
        "roc_auc_score(y_test, y_score) #area bajo la curva roc"
      ],
      "metadata": {
        "colab": {
          "base_uri": "https://localhost:8080/"
        },
        "outputId": "87f556ae-0652-4ae2-bd89-5c156cf8b1ca",
        "id": "-hxqprCNxlMQ"
      },
      "execution_count": 46,
      "outputs": [
        {
          "output_type": "execute_result",
          "data": {
            "text/plain": [
              "0.9681822818228183"
            ]
          },
          "metadata": {},
          "execution_count": 46
        }
      ]
    },
    {
      "cell_type": "code",
      "source": [
        "#Ahora vamos a crear la curva precision recall\n",
        "prec, recall, _ = precision_recall_curve(y_test, y_score, pos_label=sgd_clasificador.classes_[1])\n",
        "pr_display = PrecisionRecallDisplay(precision=prec, recall=recall).plot()\n"
      ],
      "metadata": {
        "colab": {
          "base_uri": "https://localhost:8080/",
          "height": 279
        },
        "outputId": "a914a666-2985-461f-826f-41935fd4ad3f",
        "id": "wMA9ixCcxlMQ"
      },
      "execution_count": 47,
      "outputs": [
        {
          "output_type": "display_data",
          "data": {
            "text/plain": [
              "<Figure size 432x288 with 1 Axes>"
            ],
            "image/png": "[encoded data removed]"
          },
          "metadata": {
            "needs_background": "light"
          }
        }
      ]
    },
    {
      "cell_type": "markdown",
      "source": [
        "# **K vecinos** "
      ],
      "metadata": {
        "id": "6vc80YCswccO"
      }
    },
    {
      "cell_type": "code",
      "source": [
        "from sklearn.neighbors import KNeighborsClassifier #Para usar el clasificador RegresionLogistica\n",
        "\n",
        "sgd_clasificador = make_pipeline(StandardScaler(), KNeighborsClassifier())"
      ],
      "metadata": {
        "id": "XMDphlYYx_Jw"
      },
      "execution_count": 59,
      "outputs": []
    },
    {
      "cell_type": "code",
      "source": [
        "#Aplicamos el clasificador al conjunto de entrenamiento mediante la función fit\n",
        "sgd_clasificador.fit(X_train, y_train)"
      ],
      "metadata": {
        "colab": {
          "base_uri": "https://localhost:8080/"
        },
        "outputId": "38140622-4822-487f-fd36-f0880d995174",
        "id": "P9301-arx_Jx"
      },
      "execution_count": 60,
      "outputs": [
        {
          "output_type": "execute_result",
          "data": {
            "text/plain": [
              "Pipeline(steps=[('standardscaler', StandardScaler()),\n",
              "                ('kneighborsclassifier', KNeighborsClassifier())])"
            ]
          },
          "metadata": {},
          "execution_count": 60
        }
      ]
    },
    {
      "cell_type": "code",
      "source": [
        "y_train[:20], sgd_clasificador.predict(X_train[:20])"
      ],
      "metadata": {
        "colab": {
          "base_uri": "https://localhost:8080/"
        },
        "outputId": "4e6f79b8-363a-4a1e-f744-012d04fc9932",
        "id": "T6LWA5tfx_Jy"
      },
      "execution_count": 61,
      "outputs": [
        {
          "output_type": "execute_result",
          "data": {
            "text/plain": [
              "(17605    False\n",
              " 9006     False\n",
              " 14311    False\n",
              " 9036      True\n",
              " 2087     False\n",
              " 6172     False\n",
              " 17415    False\n",
              " 14017    False\n",
              " 10926    False\n",
              " 7420     False\n",
              " 5117     False\n",
              " 3657     False\n",
              " 10331    False\n",
              " 2224     False\n",
              " 3730     False\n",
              " 11419     True\n",
              " 5660      True\n",
              " 5482     False\n",
              " 14818    False\n",
              " 7491     False\n",
              " Name: label, dtype: bool,\n",
              " array([False, False, False,  True, False, False, False, False, False,\n",
              "        False, False, False, False, False, False,  True,  True, False,\n",
              "        False, False]))"
            ]
          },
          "metadata": {},
          "execution_count": 61
        }
      ]
    },
    {
      "cell_type": "code",
      "source": [
        "y_pred = sgd_clasificador.predict(X_test)\n",
        "cm = confusion_matrix(y_test, y_pred)\n"
      ],
      "metadata": {
        "id": "F2Tob22Nx_Jy"
      },
      "execution_count": 62,
      "outputs": []
    },
    {
      "cell_type": "code",
      "source": [
        "cm"
      ],
      "metadata": {
        "colab": {
          "base_uri": "https://localhost:8080/"
        },
        "outputId": "8c0f5640-96d9-41fb-e44a-f3703806079a",
        "id": "dKiYz-Onx_Jz"
      },
      "execution_count": 63,
      "outputs": [
        {
          "output_type": "execute_result",
          "data": {
            "text/plain": [
              "array([[4042,   23],\n",
              "       [  80,  330]])"
            ]
          },
          "metadata": {},
          "execution_count": 63
        }
      ]
    },
    {
      "cell_type": "code",
      "source": [
        "cm_display = ConfusionMatrixDisplay(cm).plot()"
      ],
      "metadata": {
        "colab": {
          "base_uri": "https://localhost:8080/",
          "height": 281
        },
        "outputId": "8edbc439-7a46-4034-8256-94dde637514c",
        "id": "43Flryo_x_Jz"
      },
      "execution_count": 64,
      "outputs": [
        {
          "output_type": "display_data",
          "data": {
            "text/plain": [
              "<Figure size 432x288 with 2 Axes>"
            ],
            "image/png": "[encoded data removed]"
          },
          "metadata": {
            "needs_background": "light"
          }
        }
      ]
    },
    {
      "cell_type": "code",
      "source": [
        "#Ahora vamos a calcular accuracy, precision, recall y F1\n",
        "from sklearn.metrics import accuracy_score, precision_score, recall_score, f1_score\n",
        "accuracy_score(y_test, y_pred), precision_score(y_test, y_pred), recall_score(y_test, y_pred), f1_score(y_test, y_pred)"
      ],
      "metadata": {
        "colab": {
          "base_uri": "https://localhost:8080/"
        },
        "outputId": "90209d2b-efb7-41c6-dfbf-b50ae9b79b38",
        "id": "Zk0nLeIax_J0"
      },
      "execution_count": 65,
      "outputs": [
        {
          "output_type": "execute_result",
          "data": {
            "text/plain": [
              "(0.9769832402234637,\n",
              " 0.9348441926345609,\n",
              " 0.8048780487804879,\n",
              " 0.8650065530799476)"
            ]
          },
          "metadata": {},
          "execution_count": 65
        }
      ]
    },
    {
      "cell_type": "code",
      "source": [
        "y_score = sgd_clasificador.predict(X_test)\n",
        "fpr, tpr, _ = roc_curve(y_test, y_score, pos_label=sgd_clasificador.classes_[1])\n",
        "roc_display = RocCurveDisplay(fpr=fpr, tpr=tpr).plot()"
      ],
      "metadata": {
        "colab": {
          "base_uri": "https://localhost:8080/",
          "height": 279
        },
        "outputId": "f6d051f0-85d2-460b-8aa8-a529627fec38",
        "id": "9QyiY2jrx_J0"
      },
      "execution_count": 72,
      "outputs": [
        {
          "output_type": "display_data",
          "data": {
            "text/plain": [
              "<Figure size 432x288 with 1 Axes>"
            ],
            "image/png": "[encoded data removed]"
          },
          "metadata": {
            "needs_background": "light"
          }
        }
      ]
    },
    {
      "cell_type": "code",
      "source": [
        "roc_auc_score(y_test, y_score) #area bajo la curva roc"
      ],
      "metadata": {
        "colab": {
          "base_uri": "https://localhost:8080/"
        },
        "outputId": "8b78d2af-b705-4be6-8ad9-c2f0225bcb6f",
        "id": "DUYkbbjex_J1"
      },
      "execution_count": 68,
      "outputs": [
        {
          "output_type": "execute_result",
          "data": {
            "text/plain": [
              "0.899609996099961"
            ]
          },
          "metadata": {},
          "execution_count": 68
        }
      ]
    },
    {
      "cell_type": "code",
      "source": [
        "#Ahora vamos a crear la curva precision recall\n",
        "prec, recall, _ = precision_recall_curve(y_test, y_score, pos_label=sgd_clasificador.classes_[1])\n",
        "pr_display = PrecisionRecallDisplay(precision=prec, recall=recall).plot()\n"
      ],
      "metadata": {
        "colab": {
          "base_uri": "https://localhost:8080/",
          "height": 279
        },
        "outputId": "db50c3d2-85a5-4722-c12b-83b34d2bd57e",
        "id": "sbMWPvWQx_J1"
      },
      "execution_count": 69,
      "outputs": [
        {
          "output_type": "display_data",
          "data": {
            "text/plain": [
              "<Figure size 432x288 with 1 Axes>"
            ],
            "image/png": "[encoded data removed]"
          },
          "metadata": {
            "needs_background": "light"
          }
        }
      ]
    },
    {
      "cell_type": "markdown",
      "source": [
        "# **Resultados** \n",
        "\n",
        "\\begin{array}{|c|c|} \\hline\n",
        " & accuracy\\_score & precision\\_score & recall\\_score & f1\\_score \\\\ \\hline\n",
        "SGDClassifier & 0.9783 & 0.9408 & 0.8146 & 0.8732 \\\\ \\hline\n",
        "Regresión Logística & 0.9763 &  0.9418 & 0.7902 & 0.8594 \\\\ \\hline\n",
        "SVM lineal & 0.9763 & 0.9497 & 0.7829 & 0.8582 \\\\ \\hline\n",
        "K vecinos & 0.9769 & 0.9348 & 0.8048 & 0.8650 \\\\ \\hline\n",
        "\\end{array}\n",
        "\n",
        "Para la realización de este ejercicio, se ha seguido como ejemplo la práctica 1. Una vez realizado el apartado de SGDClassifier, se replicó para el resto de clasificadores (sin modificar sus parámetros de entrada).\n",
        "\n",
        "Los resultados obtenidos se pueden apreciar en la tabla anterior, como se puede observar, los resultados son muy similares de tal forma que para este dataset, se podría utilizar cualquiera de los clasificadores utilizados."
      ],
      "metadata": {
        "id": "a_vZRDF-zEyP"
      }
    }
  ]
}