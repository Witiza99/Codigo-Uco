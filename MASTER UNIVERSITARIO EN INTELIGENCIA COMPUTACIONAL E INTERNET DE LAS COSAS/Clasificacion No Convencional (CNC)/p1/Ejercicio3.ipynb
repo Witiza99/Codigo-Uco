{
  "nbformat": 4,
  "nbformat_minor": 0,
  "metadata": {
    "colab": {
      "provenance": []
    },
    "kernelspec": {
      "name": "python3",
      "display_name": "Python 3"
    },
    "language_info": {
      "name": "python"
    }
  },
  "cells": [
    {
      "cell_type": "markdown",
      "source": [
        "# Ejercicio 3\n",
        "Contenido del dataset: Conjunto de datos de teledetección de alta resolución (Quickbird). Un pequeño número de muestras de formación de árboles enfermos, un gran número de otras coberturas terrestres. Conjunto de datos de prueba de una muestra aleatoria estratificada de imagen.\n",
        "El ejercicio consiste obtener un clasificador para clasificar las imágenes de árbol enfermos (clase positiva) de imágenes de otro tipo de cubierta (clase negativa). Hay 6 atributos, el primero es la clase: 'w' (diseased trees), 'n' (all other land cover), el segundo es GLCM_Pan: GLCM mean texture (Pan band), el tercero es Mean_G: Mean green value, el cuarto es Mean_R: Mean red value, el quinto es Mean_NIR: Mean NIR value\n",
        ", y el sexto es SD_Pan: Standard deviation (Pan band). El dataset está en formato csv y se da por separado el conjunto test (testing.csv) y de entrenamiento (training.csv)\n",
        "*   URL: https://archive.ics.uci.edu/ml/datasets/Wilt\n",
        "*   URL Dataset:https://archive.ics.uci.edu/ml/machine-learning-databases/00285/wilt.zip\n",
        "\n",
        "*Tomando como base el ejemplo 8 de los suministrados en clase, implementar un clasificador basado en Random Forest que contenga los siguientes apartados.\n",
        "*   Uso de StandardScaler en el preprocesamiento.\n",
        "*   Uso de train_test_split para obtener conjunto de entrenamiento y test. Usar opción stratify si las clases estuviesen desbalanceadas.\n",
        "*   Uso de make_pipeline para crear un \"pipe\", que contenga el preprocesamiento y el clasificador.\n",
        "*   Obtener matriz de confusión en texto y gráfica. Así como el accuracy, precisión, recall y f1.\n",
        "*   Obtener curva ROC y su área.\n",
        "*   Obtener curva presición recall.\n",
        "*   Escribir al final una celda de texto resumiendo los pasos que se han dado y los resultados obtenidos."
      ],
      "metadata": {
        "id": "fwICe--4--L6"
      }
    },
    {
      "cell_type": "code",
      "source": [
        "import pandas as pd"
      ],
      "metadata": {
        "id": "POMVKZLS-66L"
      },
      "execution_count": 1,
      "outputs": []
    },
    {
      "cell_type": "code",
      "source": [
        "%%bash\n",
        "wget https://archive.ics.uci.edu/ml/machine-learning-databases/00285/wilt.zip\n",
        "unzip wilt.zip"
      ],
      "metadata": {
        "colab": {
          "base_uri": "https://localhost:8080/"
        },
        "id": "6__rWlKEcLAR",
        "outputId": "ed96aa9e-8fca-40d8-9a03-32c403c5f524"
      },
      "execution_count": 2,
      "outputs": [
        {
          "output_type": "stream",
          "name": "stdout",
          "text": [
            "Archive:  wilt.zip\n",
            "  inflating: testing.csv             \n",
            "  inflating: training.csv            \n"
          ]
        },
        {
          "output_type": "stream",
          "name": "stderr",
          "text": [
            "--2022-12-26 09:45:41--  https://archive.ics.uci.edu/ml/machine-learning-databases/00285/wilt.zip\n",
            "Resolving archive.ics.uci.edu (archive.ics.uci.edu)... 128.195.10.252\n",
            "Connecting to archive.ics.uci.edu (archive.ics.uci.edu)|128.195.10.252|:443... connected.\n",
            "HTTP request sent, awaiting response... 200 OK\n",
            "Length: 118593 (116K) [application/x-httpd-php]\n",
            "Saving to: ‘wilt.zip’\n",
            "\n",
            "     0K .......... .......... .......... .......... .......... 43%  193K 0s\n",
            "    50K .......... .......... .......... .......... .......... 86%  389K 0s\n",
            "   100K .......... .....                                      100% 75.8M=0.4s\n",
            "\n",
            "2022-12-26 09:45:43 (299 KB/s) - ‘wilt.zip’ saved [118593/118593]\n",
            "\n"
          ]
        }
      ]
    },
    {
      "cell_type": "code",
      "source": [
        "wilt_train = pd.read_csv(\"/content/training.csv\")\n",
        "wilt_train.info()"
      ],
      "metadata": {
        "colab": {
          "base_uri": "https://localhost:8080/"
        },
        "id": "4i0Hm-UZcZTp",
        "outputId": "2b4118a6-7774-456e-ccd8-8ee5819e0b51"
      },
      "execution_count": 3,
      "outputs": [
        {
          "output_type": "stream",
          "name": "stdout",
          "text": [
            "<class 'pandas.core.frame.DataFrame'>\n",
            "RangeIndex: 4339 entries, 0 to 4338\n",
            "Data columns (total 6 columns):\n",
            " #   Column      Non-Null Count  Dtype  \n",
            "---  ------      --------------  -----  \n",
            " 0   class       4339 non-null   object \n",
            " 1   GLCM_pan    4339 non-null   float64\n",
            " 2   Mean_Green  4339 non-null   float64\n",
            " 3   Mean_Red    4339 non-null   float64\n",
            " 4   Mean_NIR    4339 non-null   float64\n",
            " 5   SD_pan      4339 non-null   float64\n",
            "dtypes: float64(5), object(1)\n",
            "memory usage: 203.5+ KB\n"
          ]
        }
      ]
    },
    {
      "cell_type": "code",
      "source": [
        "wilt_test = pd.read_csv(\"/content/testing.csv\")\n",
        "wilt_test.info()"
      ],
      "metadata": {
        "id": "oAxktEe4c3LW",
        "colab": {
          "base_uri": "https://localhost:8080/"
        },
        "outputId": "6de56b14-bb41-4d5e-a71d-3275b33d2de3"
      },
      "execution_count": 4,
      "outputs": [
        {
          "output_type": "stream",
          "name": "stdout",
          "text": [
            "<class 'pandas.core.frame.DataFrame'>\n",
            "RangeIndex: 500 entries, 0 to 499\n",
            "Data columns (total 6 columns):\n",
            " #   Column      Non-Null Count  Dtype  \n",
            "---  ------      --------------  -----  \n",
            " 0   class       500 non-null    object \n",
            " 1   GLCM_pan    500 non-null    float64\n",
            " 2   Mean_Green  500 non-null    float64\n",
            " 3   Mean_Red    500 non-null    float64\n",
            " 4   Mean_NIR    500 non-null    float64\n",
            " 5   SD_pan      500 non-null    float64\n",
            "dtypes: float64(5), object(1)\n",
            "memory usage: 23.6+ KB\n"
          ]
        }
      ]
    },
    {
      "cell_type": "code",
      "source": [
        "#Antes de definir el clasificador habría que extraer las etiquetas, que están en la primera columna, de los conjuntos de entrenamiento\n",
        "#y de test, y después habría que borrar esa primera columna de los conjuntos de entrenamiento y test "
      ],
      "metadata": {
        "id": "dFMtnn2mV6rV"
      },
      "execution_count": null,
      "outputs": []
    },
    {
      "cell_type": "code",
      "source": [
        "X_train = wilt_train[[\"GLCM_pan\",\t\"Mean_Green\",\t\"Mean_Red\",\t\"Mean_NIR\",\t\"SD_pan\"]]\n",
        "y_train=[]\n",
        "for i in range(wilt_train['class'].shape[0]):\n",
        "  y_train.append(wilt_train['class'][i] == 'w')"
      ],
      "metadata": {
        "id": "jut4980Pc1sM"
      },
      "execution_count": 13,
      "outputs": []
    },
    {
      "cell_type": "code",
      "source": [
        "X_test = wilt_test[[\"GLCM_pan\",\t\"Mean_Green\",\t\"Mean_Red\",\t\"Mean_NIR\",\t\"SD_pan\"]]\n",
        "y_test=[]\n",
        "for i in range(wilt_test['class'].shape[0]):\n",
        "  y_test.append(wilt_train['class'][i] == 'w')"
      ],
      "metadata": {
        "id": "c2VERzgk1OUG"
      },
      "execution_count": 14,
      "outputs": []
    },
    {
      "cell_type": "code",
      "source": [
        "X_train.head()"
      ],
      "metadata": {
        "colab": {
          "base_uri": "https://localhost:8080/",
          "height": 206
        },
        "id": "zpGVsd46dm8J",
        "outputId": "68479f61-11c7-477d-8692-73f73fc0040e"
      },
      "execution_count": 15,
      "outputs": [
        {
          "output_type": "execute_result",
          "data": {
            "text/plain": [
              "     GLCM_pan  Mean_Green    Mean_Red    Mean_NIR     SD_pan\n",
              "0  120.362774  205.500000  119.395349  416.581395  20.676318\n",
              "1  124.739583  202.800000  115.333333  354.333333  16.707151\n",
              "2  134.691964  199.285714  116.857143  477.857143  22.496712\n",
              "3  127.946309  178.368421   92.368421  278.473684  14.977453\n",
              "4  135.431548  197.000000  112.690476  532.952381  17.604193"
            ],
            "text/html": [
              "\n",
              "  <div id=\"df-f00772a7-bf02-4579-b92d-ff33b0fc1731\">\n",
              "    <div class=\"colab-df-container\">\n",
              "      <div>\n",
              "<style scoped>\n",
              "    .dataframe tbody tr th:only-of-type {\n",
              "        vertical-align: middle;\n",
              "    }\n",
              "\n",
              "    .dataframe tbody tr th {\n",
              "        vertical-align: top;\n",
              "    }\n",
              "\n",
              "    .dataframe thead th {\n",
              "        text-align: right;\n",
              "    }\n",
              "</style>\n",
              "<table border=\"1\" class=\"dataframe\">\n",
              "  <thead>\n",
              "    <tr style=\"text-align: right;\">\n",
              "      <th></th>\n",
              "      <th>GLCM_pan</th>\n",
              "      <th>Mean_Green</th>\n",
              "      <th>Mean_Red</th>\n",
              "      <th>Mean_NIR</th>\n",
              "      <th>SD_pan</th>\n",
              "    </tr>\n",
              "  </thead>\n",
              "  <tbody>\n",
              "    <tr>\n",
              "      <th>0</th>\n",
              "      <td>120.362774</td>\n",
              "      <td>205.500000</td>\n",
              "      <td>119.395349</td>\n",
              "      <td>416.581395</td>\n",
              "      <td>20.676318</td>\n",
              "    </tr>\n",
              "    <tr>\n",
              "      <th>1</th>\n",
              "      <td>124.739583</td>\n",
              "      <td>202.800000</td>\n",
              "      <td>115.333333</td>\n",
              "      <td>354.333333</td>\n",
              "      <td>16.707151</td>\n",
              "    </tr>\n",
              "    <tr>\n",
              "      <th>2</th>\n",
              "      <td>134.691964</td>\n",
              "      <td>199.285714</td>\n",
              "      <td>116.857143</td>\n",
              "      <td>477.857143</td>\n",
              "      <td>22.496712</td>\n",
              "    </tr>\n",
              "    <tr>\n",
              "      <th>3</th>\n",
              "      <td>127.946309</td>\n",
              "      <td>178.368421</td>\n",
              "      <td>92.368421</td>\n",
              "      <td>278.473684</td>\n",
              "      <td>14.977453</td>\n",
              "    </tr>\n",
              "    <tr>\n",
              "      <th>4</th>\n",
              "      <td>135.431548</td>\n",
              "      <td>197.000000</td>\n",
              "      <td>112.690476</td>\n",
              "      <td>532.952381</td>\n",
              "      <td>17.604193</td>\n",
              "    </tr>\n",
              "  </tbody>\n",
              "</table>\n",
              "</div>\n",
              "      <button class=\"colab-df-convert\" onclick=\"convertToInteractive('df-f00772a7-bf02-4579-b92d-ff33b0fc1731')\"\n",
              "              title=\"Convert this dataframe to an interactive table.\"\n",
              "              style=\"display:none;\">\n",
              "        \n",
              "  <svg xmlns=\"http://www.w3.org/2000/svg\" height=\"24px\"viewBox=\"0 0 24 24\"\n",
              "       width=\"24px\">\n",
              "    <path d=\"M0 0h24v24H0V0z\" fill=\"none\"/>\n",
              "    <path d=\"M18.56 5.44l.94 2.06.94-2.06 2.06-.94-2.06-.94-.94-2.06-.94 2.06-2.06.94zm-11 1L8.5 8.5l.94-2.06 2.06-.94-2.06-.94L8.5 2.5l-.94 2.06-2.06.94zm10 10l.94 2.06.94-2.06 2.06-.94-2.06-.94-.94-2.06-.94 2.06-2.06.94z\"/><path d=\"M17.41 7.96l-1.37-1.37c-.4-.4-.92-.59-1.43-.59-.52 0-1.04.2-1.43.59L10.3 9.45l-7.72 7.72c-.78.78-.78 2.05 0 2.83L4 21.41c.39.39.9.59 1.41.59.51 0 1.02-.2 1.41-.59l7.78-7.78 2.81-2.81c.8-.78.8-2.07 0-2.86zM5.41 20L4 18.59l7.72-7.72 1.47 1.35L5.41 20z\"/>\n",
              "  </svg>\n",
              "      </button>\n",
              "      \n",
              "  <style>\n",
              "    .colab-df-container {\n",
              "      display:flex;\n",
              "      flex-wrap:wrap;\n",
              "      gap: 12px;\n",
              "    }\n",
              "\n",
              "    .colab-df-convert {\n",
              "      background-color: #E8F0FE;\n",
              "      border: none;\n",
              "      border-radius: 50%;\n",
              "      cursor: pointer;\n",
              "      display: none;\n",
              "      fill: #1967D2;\n",
              "      height: 32px;\n",
              "      padding: 0 0 0 0;\n",
              "      width: 32px;\n",
              "    }\n",
              "\n",
              "    .colab-df-convert:hover {\n",
              "      background-color: #E2EBFA;\n",
              "      box-shadow: 0px 1px 2px rgba(60, 64, 67, 0.3), 0px 1px 3px 1px rgba(60, 64, 67, 0.15);\n",
              "      fill: #174EA6;\n",
              "    }\n",
              "\n",
              "    [theme=dark] .colab-df-convert {\n",
              "      background-color: #3B4455;\n",
              "      fill: #D2E3FC;\n",
              "    }\n",
              "\n",
              "    [theme=dark] .colab-df-convert:hover {\n",
              "      background-color: #434B5C;\n",
              "      box-shadow: 0px 1px 3px 1px rgba(0, 0, 0, 0.15);\n",
              "      filter: drop-shadow(0px 1px 2px rgba(0, 0, 0, 0.3));\n",
              "      fill: #FFFFFF;\n",
              "    }\n",
              "  </style>\n",
              "\n",
              "      <script>\n",
              "        const buttonEl =\n",
              "          document.querySelector('#df-f00772a7-bf02-4579-b92d-ff33b0fc1731 button.colab-df-convert');\n",
              "        buttonEl.style.display =\n",
              "          google.colab.kernel.accessAllowed ? 'block' : 'none';\n",
              "\n",
              "        async function convertToInteractive(key) {\n",
              "          const element = document.querySelector('#df-f00772a7-bf02-4579-b92d-ff33b0fc1731');\n",
              "          const dataTable =\n",
              "            await google.colab.kernel.invokeFunction('convertToInteractive',\n",
              "                                                     [key], {});\n",
              "          if (!dataTable) return;\n",
              "\n",
              "          const docLinkHtml = 'Like what you see? Visit the ' +\n",
              "            '<a target=\"_blank\" href=https://colab.research.google.com/notebooks/data_table.ipynb>data table notebook</a>'\n",
              "            + ' to learn more about interactive tables.';\n",
              "          element.innerHTML = '';\n",
              "          dataTable['output_type'] = 'display_data';\n",
              "          await google.colab.output.renderOutput(dataTable, element);\n",
              "          const docLink = document.createElement('div');\n",
              "          docLink.innerHTML = docLinkHtml;\n",
              "          element.appendChild(docLink);\n",
              "        }\n",
              "      </script>\n",
              "    </div>\n",
              "  </div>\n",
              "  "
            ]
          },
          "metadata": {},
          "execution_count": 15
        }
      ]
    },
    {
      "cell_type": "code",
      "source": [
        "y_train\n"
      ],
      "metadata": {
        "id": "H1s-x82v1apB"
      },
      "execution_count": null,
      "outputs": []
    },
    {
      "cell_type": "code",
      "source": [
        "X_test.head()"
      ],
      "metadata": {
        "colab": {
          "base_uri": "https://localhost:8080/",
          "height": 206
        },
        "outputId": "2dd82db9-c60b-46dc-f74a-244bd5f8f5c3",
        "id": "V406WaRz1aye"
      },
      "execution_count": 18,
      "outputs": [
        {
          "output_type": "execute_result",
          "data": {
            "text/plain": [
              "     GLCM_pan  Mean_Green    Mean_Red    Mean_NIR     SD_pan\n",
              "0  109.828571  183.700000   82.950000  251.750000  16.079412\n",
              "1  130.284483  212.637931   96.896552  482.396552  21.210295\n",
              "2  131.386555  185.466667   85.466667  419.666667  13.339998\n",
              "3  141.345098  180.875000   81.500000  348.062500  18.213577\n",
              "4  121.383408  218.357143  112.017857  426.607143  19.083196"
            ],
            "text/html": [
              "\n",
              "  <div id=\"df-553edd8e-4968-43af-8baa-bde6282d3b1f\">\n",
              "    <div class=\"colab-df-container\">\n",
              "      <div>\n",
              "<style scoped>\n",
              "    .dataframe tbody tr th:only-of-type {\n",
              "        vertical-align: middle;\n",
              "    }\n",
              "\n",
              "    .dataframe tbody tr th {\n",
              "        vertical-align: top;\n",
              "    }\n",
              "\n",
              "    .dataframe thead th {\n",
              "        text-align: right;\n",
              "    }\n",
              "</style>\n",
              "<table border=\"1\" class=\"dataframe\">\n",
              "  <thead>\n",
              "    <tr style=\"text-align: right;\">\n",
              "      <th></th>\n",
              "      <th>GLCM_pan</th>\n",
              "      <th>Mean_Green</th>\n",
              "      <th>Mean_Red</th>\n",
              "      <th>Mean_NIR</th>\n",
              "      <th>SD_pan</th>\n",
              "    </tr>\n",
              "  </thead>\n",
              "  <tbody>\n",
              "    <tr>\n",
              "      <th>0</th>\n",
              "      <td>109.828571</td>\n",
              "      <td>183.700000</td>\n",
              "      <td>82.950000</td>\n",
              "      <td>251.750000</td>\n",
              "      <td>16.079412</td>\n",
              "    </tr>\n",
              "    <tr>\n",
              "      <th>1</th>\n",
              "      <td>130.284483</td>\n",
              "      <td>212.637931</td>\n",
              "      <td>96.896552</td>\n",
              "      <td>482.396552</td>\n",
              "      <td>21.210295</td>\n",
              "    </tr>\n",
              "    <tr>\n",
              "      <th>2</th>\n",
              "      <td>131.386555</td>\n",
              "      <td>185.466667</td>\n",
              "      <td>85.466667</td>\n",
              "      <td>419.666667</td>\n",
              "      <td>13.339998</td>\n",
              "    </tr>\n",
              "    <tr>\n",
              "      <th>3</th>\n",
              "      <td>141.345098</td>\n",
              "      <td>180.875000</td>\n",
              "      <td>81.500000</td>\n",
              "      <td>348.062500</td>\n",
              "      <td>18.213577</td>\n",
              "    </tr>\n",
              "    <tr>\n",
              "      <th>4</th>\n",
              "      <td>121.383408</td>\n",
              "      <td>218.357143</td>\n",
              "      <td>112.017857</td>\n",
              "      <td>426.607143</td>\n",
              "      <td>19.083196</td>\n",
              "    </tr>\n",
              "  </tbody>\n",
              "</table>\n",
              "</div>\n",
              "      <button class=\"colab-df-convert\" onclick=\"convertToInteractive('df-553edd8e-4968-43af-8baa-bde6282d3b1f')\"\n",
              "              title=\"Convert this dataframe to an interactive table.\"\n",
              "              style=\"display:none;\">\n",
              "        \n",
              "  <svg xmlns=\"http://www.w3.org/2000/svg\" height=\"24px\"viewBox=\"0 0 24 24\"\n",
              "       width=\"24px\">\n",
              "    <path d=\"M0 0h24v24H0V0z\" fill=\"none\"/>\n",
              "    <path d=\"M18.56 5.44l.94 2.06.94-2.06 2.06-.94-2.06-.94-.94-2.06-.94 2.06-2.06.94zm-11 1L8.5 8.5l.94-2.06 2.06-.94-2.06-.94L8.5 2.5l-.94 2.06-2.06.94zm10 10l.94 2.06.94-2.06 2.06-.94-2.06-.94-.94-2.06-.94 2.06-2.06.94z\"/><path d=\"M17.41 7.96l-1.37-1.37c-.4-.4-.92-.59-1.43-.59-.52 0-1.04.2-1.43.59L10.3 9.45l-7.72 7.72c-.78.78-.78 2.05 0 2.83L4 21.41c.39.39.9.59 1.41.59.51 0 1.02-.2 1.41-.59l7.78-7.78 2.81-2.81c.8-.78.8-2.07 0-2.86zM5.41 20L4 18.59l7.72-7.72 1.47 1.35L5.41 20z\"/>\n",
              "  </svg>\n",
              "      </button>\n",
              "      \n",
              "  <style>\n",
              "    .colab-df-container {\n",
              "      display:flex;\n",
              "      flex-wrap:wrap;\n",
              "      gap: 12px;\n",
              "    }\n",
              "\n",
              "    .colab-df-convert {\n",
              "      background-color: #E8F0FE;\n",
              "      border: none;\n",
              "      border-radius: 50%;\n",
              "      cursor: pointer;\n",
              "      display: none;\n",
              "      fill: #1967D2;\n",
              "      height: 32px;\n",
              "      padding: 0 0 0 0;\n",
              "      width: 32px;\n",
              "    }\n",
              "\n",
              "    .colab-df-convert:hover {\n",
              "      background-color: #E2EBFA;\n",
              "      box-shadow: 0px 1px 2px rgba(60, 64, 67, 0.3), 0px 1px 3px 1px rgba(60, 64, 67, 0.15);\n",
              "      fill: #174EA6;\n",
              "    }\n",
              "\n",
              "    [theme=dark] .colab-df-convert {\n",
              "      background-color: #3B4455;\n",
              "      fill: #D2E3FC;\n",
              "    }\n",
              "\n",
              "    [theme=dark] .colab-df-convert:hover {\n",
              "      background-color: #434B5C;\n",
              "      box-shadow: 0px 1px 3px 1px rgba(0, 0, 0, 0.15);\n",
              "      filter: drop-shadow(0px 1px 2px rgba(0, 0, 0, 0.3));\n",
              "      fill: #FFFFFF;\n",
              "    }\n",
              "  </style>\n",
              "\n",
              "      <script>\n",
              "        const buttonEl =\n",
              "          document.querySelector('#df-553edd8e-4968-43af-8baa-bde6282d3b1f button.colab-df-convert');\n",
              "        buttonEl.style.display =\n",
              "          google.colab.kernel.accessAllowed ? 'block' : 'none';\n",
              "\n",
              "        async function convertToInteractive(key) {\n",
              "          const element = document.querySelector('#df-553edd8e-4968-43af-8baa-bde6282d3b1f');\n",
              "          const dataTable =\n",
              "            await google.colab.kernel.invokeFunction('convertToInteractive',\n",
              "                                                     [key], {});\n",
              "          if (!dataTable) return;\n",
              "\n",
              "          const docLinkHtml = 'Like what you see? Visit the ' +\n",
              "            '<a target=\"_blank\" href=https://colab.research.google.com/notebooks/data_table.ipynb>data table notebook</a>'\n",
              "            + ' to learn more about interactive tables.';\n",
              "          element.innerHTML = '';\n",
              "          dataTable['output_type'] = 'display_data';\n",
              "          await google.colab.output.renderOutput(dataTable, element);\n",
              "          const docLink = document.createElement('div');\n",
              "          docLink.innerHTML = docLinkHtml;\n",
              "          element.appendChild(docLink);\n",
              "        }\n",
              "      </script>\n",
              "    </div>\n",
              "  </div>\n",
              "  "
            ]
          },
          "metadata": {},
          "execution_count": 18
        }
      ]
    },
    {
      "cell_type": "code",
      "source": [
        "y_test"
      ],
      "metadata": {
        "id": "nxaPjGY_1a5W"
      },
      "execution_count": null,
      "outputs": []
    },
    {
      "cell_type": "code",
      "source": [
        "#una vez realizada la division, se realiza el preprocesamiento y el clasificador"
      ],
      "metadata": {
        "id": "eSj8ymfk3F9q"
      },
      "execution_count": 20,
      "outputs": []
    },
    {
      "cell_type": "code",
      "source": [
        "from sklearn.preprocessing import StandardScaler\n",
        "from sklearn.pipeline import make_pipeline\n",
        "from sklearn.ensemble import RandomForestClassifier\n",
        "randomF_clf = make_pipeline(StandardScaler(),RandomForestClassifier(random_state=42))\n",
        "#criterion{“gini”, “entropy”, “log_loss”}, default=”gini”\n",
        "#n_estimators: (default=100). Número de árboles en el bosque.\n",
        "#max_depth: por defecto ninguno (en cuyo caso se extiende hasta que todas sean puras o \n",
        "            #no se supere el mínimo número de muestras para dividir)\n",
        "#max_features: {“sqrt”, “log2”, None}, int or float, default=”sqrt”\n",
        "            #El número de características a considerar al buscar la mejor división:\n",
        "            #If int, then consider max_features features at each split.\n",
        "            #If float, then max_features is a fraction and max(1, int(max_features * n_features_in_)) features are considered at each split.\n",
        "            # If “auto”, then max_features=sqrt(n_features).\n",
        "            # If “sqrt”, then max_features=sqrt(n_features).\n",
        "            #If “log2”, then max_features=log2(n_features).\n",
        "            #If None, then max_features=n_features.\n",
        "#max_leaf_nodes: int, default=None. Máximo número de ndos hoja. Si se omite el número es ilimitado."
      ],
      "metadata": {
        "id": "9Mlfbv872eQn"
      },
      "execution_count": 27,
      "outputs": []
    },
    {
      "cell_type": "code",
      "source": [
        "randomF_clf.fit(X_train, y_train)\n",
        "y_pred_rf = randomF_clf.predict(X_test)"
      ],
      "metadata": {
        "id": "mzWtrxp7fCDF"
      },
      "execution_count": 28,
      "outputs": []
    },
    {
      "cell_type": "code",
      "source": [
        "from sklearn.metrics import confusion_matrix\n",
        "from sklearn.metrics import ConfusionMatrixDisplay\n",
        "from sklearn.metrics import confusion_matrix, accuracy_score, precision_score, recall_score, f1_score\n",
        "cm = confusion_matrix(y_test, y_pred_rf)\n",
        "cm"
      ],
      "metadata": {
        "colab": {
          "base_uri": "https://localhost:8080/"
        },
        "id": "PXbf_KGNfyX_",
        "outputId": "05a6dab7-2b27-4344-e475-b098fb57d640"
      },
      "execution_count": 29,
      "outputs": [
        {
          "output_type": "execute_result",
          "data": {
            "text/plain": [
              "array([[353,  73],\n",
              "       [ 65,   9]])"
            ]
          },
          "metadata": {},
          "execution_count": 29
        }
      ]
    },
    {
      "cell_type": "code",
      "source": [
        "cm_display = ConfusionMatrixDisplay(cm).plot()"
      ],
      "metadata": {
        "colab": {
          "base_uri": "https://localhost:8080/",
          "height": 281
        },
        "id": "0wnydt3JiWxk",
        "outputId": "6d09c4b8-8230-4169-d113-3ca34b0a9141"
      },
      "execution_count": 30,
      "outputs": [
        {
          "output_type": "display_data",
          "data": {
            "text/plain": [
              "<Figure size 432x288 with 2 Axes>"
            ],
            "image/png": "[encoded data removed]"
          },
          "metadata": {
            "needs_background": "light"
          }
        }
      ]
    },
    {
      "cell_type": "code",
      "source": [
        "accuracy_score(y_test, y_pred_rf), precision_score(y_test, y_pred_rf), recall_score(y_test, y_pred_rf), f1_score(y_test, y_pred_rf)"
      ],
      "metadata": {
        "colab": {
          "base_uri": "https://localhost:8080/"
        },
        "id": "l8KCqUJVcAU9",
        "outputId": "6512e06f-e184-4e26-f523-2f0adba8318e"
      },
      "execution_count": 31,
      "outputs": [
        {
          "output_type": "execute_result",
          "data": {
            "text/plain": [
              "(0.724, 0.10975609756097561, 0.12162162162162163, 0.11538461538461538)"
            ]
          },
          "metadata": {},
          "execution_count": 31
        }
      ]
    },
    {
      "cell_type": "code",
      "source": [
        "#Ahora vamos a ver la curva ROC\n",
        "from sklearn.metrics import roc_curve, roc_auc_score #para obtener la curva roc y su área\n",
        "from sklearn.metrics import RocCurveDisplay"
      ],
      "metadata": {
        "id": "KuWxy5dHRvvM"
      },
      "execution_count": 32,
      "outputs": []
    },
    {
      "cell_type": "code",
      "source": [
        "fpr, tpr, _ = roc_curve(y_test, y_pred_rf, pos_label=randomF_clf.classes_[1])\n",
        "roc_display = RocCurveDisplay(fpr=fpr, tpr=tpr).plot()"
      ],
      "metadata": {
        "colab": {
          "base_uri": "https://localhost:8080/",
          "height": 279
        },
        "id": "hxZQ9yLXSGO0",
        "outputId": "ee7dd9e8-726c-46c7-d4e4-b6e345a33844"
      },
      "execution_count": 34,
      "outputs": [
        {
          "output_type": "display_data",
          "data": {
            "text/plain": [
              "<Figure size 432x288 with 1 Axes>"
            ],
            "image/png": "[encoded data removed]"
          },
          "metadata": {
            "needs_background": "light"
          }
        }
      ]
    },
    {
      "cell_type": "code",
      "source": [
        "roc_auc_score(y_test, y_pred_rf) #area bajo la curva roc"
      ],
      "metadata": {
        "colab": {
          "base_uri": "https://localhost:8080/"
        },
        "id": "bVDUyep1i6ga",
        "outputId": "77b0fd19-b675-4edf-e5bc-11ae54f8a637"
      },
      "execution_count": 36,
      "outputs": [
        {
          "output_type": "execute_result",
          "data": {
            "text/plain": [
              "0.4751300596371019"
            ]
          },
          "metadata": {},
          "execution_count": 36
        }
      ]
    },
    {
      "cell_type": "code",
      "source": [
        "#Ahora vamos a crear la curva precision recall\n",
        "from sklearn.metrics import precision_recall_curve\n",
        "from sklearn.metrics import PrecisionRecallDisplay\n",
        "\n",
        "prec, recall, _ = precision_recall_curve(y_test, y_pred_rf, pos_label=randomF_clf.classes_[1])\n",
        "pr_display = PrecisionRecallDisplay(precision=prec, recall=recall).plot()\n"
      ],
      "metadata": {
        "colab": {
          "base_uri": "https://localhost:8080/",
          "height": 279
        },
        "id": "r_GxBawqSewr",
        "outputId": "cabff9a6-d9b8-4044-84ab-a65eb8bf1a0c"
      },
      "execution_count": 35,
      "outputs": [
        {
          "output_type": "display_data",
          "data": {
            "text/plain": [
              "<Figure size 432x288 with 1 Axes>"
            ],
            "image/png": "[encoded data removed]"
          },
          "metadata": {
            "needs_background": "light"
          }
        }
      ]
    },
    {
      "cell_type": "markdown",
      "source": [
        "# **Resultados** \n",
        "\n",
        "\\begin{array}{|c|c|} \\hline\n",
        " & accuracy\\_score & precision\\_score & recall\\_score & f1\\_score \\\\ \\hline\n",
        "Random Forest & 0.724 & 0.1097 & 0.1216 & 0.1153 \\\\ \\hline\n",
        "\\hline\n",
        "\\hline\n",
        "\\hline\n",
        "\\end{array}\n",
        "\n",
        "Para la realización de este ejercicio, se ha seguido como ejemplo la práctica 8. Pero antes se realizo un procesamiento donde se separaba el dataset en inputs y outputs, teniendo en cuenta que el dataset de train y test se encontraban en dataset distintos. Una vez se realizaba este proceso para cada dataset, se realizaba el pipeline con el StandarScaler y el clasificador RandomForest(para este caso se ha quedado con los parámetros predeterminados).\n",
        "Los resultados obtenidos son los vistos en la tabla, siendo un clasificador bastante deficiente para este dataset. (Quizás con un entrenamiento con diferentes parámetros para el clasificador, se podría mejorar el resultado)\n",
        "\n",
        "Respecto a la matriz de confusión, los resultados son los siguiente:\n",
        "\n",
        "[353,  73]\n",
        "\n",
        "[ 65,   9]\n",
        "\n",
        "Respecto al área de la curva Roc y curva presición recall, se puede observar de forma bastante clara en el propio ejercicio, la ineficiencia del clasificador, ya que el aréa de ambas es bastante reducida, en mayor medida en el caso del recall.\n",
        "Practicamente se puede decir, que este clasificador clasifica de forma correcta el 50% de las vez el patron de entrada que recibe."
      ],
      "metadata": {
        "id": "F3thUx_-49hu"
      }
    }
  ]
}